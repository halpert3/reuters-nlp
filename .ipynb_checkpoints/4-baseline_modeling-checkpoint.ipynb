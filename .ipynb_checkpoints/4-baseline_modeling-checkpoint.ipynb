{
 "cells": [
  {
   "cell_type": "code",
   "execution_count": 1,
   "metadata": {
    "execution": {
     "iopub.execute_input": "2021-11-08T17:13:46.878582Z",
     "iopub.status.busy": "2021-11-08T17:13:46.873582Z",
     "iopub.status.idle": "2021-11-08T17:14:04.779098Z",
     "shell.execute_reply": "2021-11-08T17:14:04.778096Z",
     "shell.execute_reply.started": "2021-11-08T17:13:46.877581Z"
    }
   },
   "outputs": [],
   "source": [
    "import numpy as np\n",
    "import pandas as pd\n",
    "\n",
    "\n",
    "from sklearn.model_selection import train_test_split\n",
    "from sklearn.feature_extraction.text import TfidfVectorizer, CountVectorizer\n",
    "from sklearn.naive_bayes import MultinomialNB\n",
    "from sklearn.ensemble import RandomForestClassifier\n",
    "from sklearn.tree import DecisionTreeClassifier\n",
    "from sklearn.neighbors import KNeighborsClassifier\n",
    "from sklearn.ensemble import GradientBoostingClassifier\n",
    "from xgboost import XGBClassifier\n",
    "\n",
    "from sklearn.metrics import classification_report, accuracy_score, confusion_matrix, recall_score, precision_score, f1_score\n",
    "from sklearn.metrics import plot_confusion_matrix\n",
    "# from scoring_functions import scoring_functions as f\n",
    "\n",
    "# imp allows to reload the above function file when tinkering with it without kernel restart\n",
    "import imp\n",
    "\n",
    "import matplotlib.pyplot as plt"
   ]
  },
  {
   "cell_type": "code",
   "execution_count": 2,
   "metadata": {
    "execution": {
     "iopub.execute_input": "2021-11-08T17:14:04.782104Z",
     "iopub.status.busy": "2021-11-08T17:14:04.781097Z",
     "iopub.status.idle": "2021-11-08T17:14:04.812100Z",
     "shell.execute_reply": "2021-11-08T17:14:04.810096Z",
     "shell.execute_reply.started": "2021-11-08T17:14:04.782104Z"
    }
   },
   "outputs": [],
   "source": [
    "def scoring(y_real, y_pred, model, X_data): # change y_test to y_real\n",
    "    # Calculates and prints scores for the model\n",
    "    accuracy = accuracy_score(y_real, y_pred)\n",
    "    precision = precision_score(y_real, y_pred, average='macro')\n",
    "    recall = recall_score(y_real, y_pred, average='macro')\n",
    "    f1 = f1_score(y_real, y_pred, average='macro')\n",
    "\n",
    "    print(\"Accuracy: {:.1%}\".format(accuracy))\n",
    "    print(\"Precision: {:.1%}\".format(precision))\n",
    "    print(\"Recall: {:.1%}\".format(recall))\n",
    "    print(\"F1: {:.1%}\".format(f1))\n",
    "\n",
    "    print('\\n')\n",
    "    print(\"Classification Report\")\n",
    "    print('\\n')\n",
    "    print(classification_report(y_real, y_pred))\n",
    "    # Plots a confusion matrix graphic (defined below)\n",
    "    plot = plot_c_matrix(model, X_data, y_real)\n",
    "\n",
    "# note that plot_confustion_matrix needs to rerun the model. That's what you pass in the model again. \n",
    "def plot_c_matrix(model, X_test, y_real):\n",
    "    # Generates a confusion matrix graphic\n",
    "    plot_confusion_matrix(model, X_test, y_real)\n",
    "    plt.grid(False)\n",
    "    plt.show()\n"
   ]
  },
  {
   "cell_type": "code",
   "execution_count": 3,
   "metadata": {
    "execution": {
     "iopub.execute_input": "2021-11-08T17:14:04.817104Z",
     "iopub.status.busy": "2021-11-08T17:14:04.815102Z",
     "iopub.status.idle": "2021-11-08T17:14:05.142103Z",
     "shell.execute_reply": "2021-11-08T17:14:05.140096Z",
     "shell.execute_reply.started": "2021-11-08T17:14:04.817104Z"
    }
   },
   "outputs": [],
   "source": [
    "df = pd.read_csv('data_files/text_processed.csv')\n",
    "df.drop(['Unnamed: 0'], axis=1, inplace=True)"
   ]
  },
  {
   "cell_type": "code",
   "execution_count": 4,
   "metadata": {
    "execution": {
     "iopub.execute_input": "2021-11-08T17:14:05.145100Z",
     "iopub.status.busy": "2021-11-08T17:14:05.144103Z",
     "iopub.status.idle": "2021-11-08T17:14:05.189099Z",
     "shell.execute_reply": "2021-11-08T17:14:05.187097Z",
     "shell.execute_reply.started": "2021-11-08T17:14:05.145100Z"
    }
   },
   "outputs": [
    {
     "data": {
      "text/html": [
       "<div>\n",
       "<style scoped>\n",
       "    .dataframe tbody tr th:only-of-type {\n",
       "        vertical-align: middle;\n",
       "    }\n",
       "\n",
       "    .dataframe tbody tr th {\n",
       "        vertical-align: top;\n",
       "    }\n",
       "\n",
       "    .dataframe thead th {\n",
       "        text-align: right;\n",
       "    }\n",
       "</style>\n",
       "<table border=\"1\" class=\"dataframe\">\n",
       "  <thead>\n",
       "    <tr style=\"text-align: right;\">\n",
       "      <th></th>\n",
       "      <th>topic</th>\n",
       "      <th>text</th>\n",
       "    </tr>\n",
       "  </thead>\n",
       "  <tbody>\n",
       "    <tr>\n",
       "      <th>0</th>\n",
       "      <td>other</td>\n",
       "      <td>bahia cocoa review salvador feb shower continu...</td>\n",
       "    </tr>\n",
       "    <tr>\n",
       "      <th>1</th>\n",
       "      <td>blank</td>\n",
       "      <td>standard oil form financial unit cleveland feb...</td>\n",
       "    </tr>\n",
       "    <tr>\n",
       "      <th>2</th>\n",
       "      <td>blank</td>\n",
       "      <td>texas commerce bancshares file plan houston fe...</td>\n",
       "    </tr>\n",
       "    <tr>\n",
       "      <th>3</th>\n",
       "      <td>blank</td>\n",
       "      <td>talking equity offer janie gabbett reuters los...</td>\n",
       "    </tr>\n",
       "    <tr>\n",
       "      <th>4</th>\n",
       "      <td>other</td>\n",
       "      <td>national average price reserve washington feb ...</td>\n",
       "    </tr>\n",
       "  </tbody>\n",
       "</table>\n",
       "</div>"
      ],
      "text/plain": [
       "   topic                                               text\n",
       "0  other  bahia cocoa review salvador feb shower continu...\n",
       "1  blank  standard oil form financial unit cleveland feb...\n",
       "2  blank  texas commerce bancshares file plan houston fe...\n",
       "3  blank  talking equity offer janie gabbett reuters los...\n",
       "4  other  national average price reserve washington feb ..."
      ]
     },
     "execution_count": 4,
     "metadata": {},
     "output_type": "execute_result"
    }
   ],
   "source": [
    "df.head()"
   ]
  },
  {
   "cell_type": "code",
   "execution_count": 5,
   "metadata": {
    "execution": {
     "iopub.execute_input": "2021-11-08T17:14:05.193100Z",
     "iopub.status.busy": "2021-11-08T17:14:05.192100Z",
     "iopub.status.idle": "2021-11-08T17:14:05.221098Z",
     "shell.execute_reply": "2021-11-08T17:14:05.219101Z",
     "shell.execute_reply.started": "2021-11-08T17:14:05.193100Z"
    }
   },
   "outputs": [
    {
     "data": {
      "text/plain": [
       "(22999, 2)"
      ]
     },
     "execution_count": 5,
     "metadata": {},
     "output_type": "execute_result"
    }
   ],
   "source": [
    "df.shape"
   ]
  },
  {
   "cell_type": "markdown",
   "metadata": {},
   "source": [
    "## Change topic names to integers"
   ]
  },
  {
   "cell_type": "code",
   "execution_count": 6,
   "metadata": {
    "execution": {
     "iopub.execute_input": "2021-11-08T17:14:05.223096Z",
     "iopub.status.busy": "2021-11-08T17:14:05.223096Z",
     "iopub.status.idle": "2021-11-08T17:14:05.254101Z",
     "shell.execute_reply": "2021-11-08T17:14:05.251107Z",
     "shell.execute_reply.started": "2021-11-08T17:14:05.223096Z"
    }
   },
   "outputs": [
    {
     "data": {
      "text/plain": [
       "array(['other', 'blank', 'earn'], dtype=object)"
      ]
     },
     "execution_count": 6,
     "metadata": {},
     "output_type": "execute_result"
    }
   ],
   "source": [
    "df.topic.unique()"
   ]
  },
  {
   "cell_type": "code",
   "execution_count": 7,
   "metadata": {
    "execution": {
     "iopub.execute_input": "2021-11-08T17:14:05.258100Z",
     "iopub.status.busy": "2021-11-08T17:14:05.257100Z",
     "iopub.status.idle": "2021-11-08T17:14:05.284103Z",
     "shell.execute_reply": "2021-11-08T17:14:05.282094Z",
     "shell.execute_reply.started": "2021-11-08T17:14:05.258100Z"
    }
   },
   "outputs": [],
   "source": [
    "topic_dict = {'earn': 1, 'other': 2, 'blank': 3}"
   ]
  },
  {
   "cell_type": "code",
   "execution_count": 56,
   "metadata": {
    "execution": {
     "iopub.execute_input": "2021-11-08T17:41:45.480111Z",
     "iopub.status.busy": "2021-11-08T17:41:45.459079Z",
     "iopub.status.idle": "2021-11-08T17:41:47.084081Z",
     "shell.execute_reply": "2021-11-08T17:41:47.080078Z",
     "shell.execute_reply.started": "2021-11-08T17:41:45.479080Z"
    }
   },
   "outputs": [
    {
     "ename": "TypeError",
     "evalue": "Cannot compare types 'ndarray(dtype=int64)' and 'str'",
     "output_type": "error",
     "traceback": [
      "\u001b[1;31m---------------------------------------------------------------------------\u001b[0m",
      "\u001b[1;31mTypeError\u001b[0m                                 Traceback (most recent call last)",
      "\u001b[1;32m<ipython-input-56-85f3f027a48a>\u001b[0m in \u001b[0;36m<module>\u001b[1;34m\u001b[0m\n\u001b[1;32m----> 1\u001b[1;33m \u001b[0mdf\u001b[0m\u001b[1;33m[\u001b[0m\u001b[1;34m'topic'\u001b[0m\u001b[1;33m]\u001b[0m\u001b[1;33m.\u001b[0m\u001b[0mreplace\u001b[0m\u001b[1;33m(\u001b[0m\u001b[0mtopic_dict\u001b[0m\u001b[1;33m,\u001b[0m \u001b[0minplace\u001b[0m\u001b[1;33m=\u001b[0m\u001b[1;32mTrue\u001b[0m\u001b[1;33m)\u001b[0m\u001b[1;33m\u001b[0m\u001b[1;33m\u001b[0m\u001b[0m\n\u001b[0m",
      "\u001b[1;32m~\\.conda\\envs\\learn-env\\lib\\site-packages\\pandas\\core\\series.py\u001b[0m in \u001b[0;36mreplace\u001b[1;34m(self, to_replace, value, inplace, limit, regex, method)\u001b[0m\n\u001b[0;32m   4580\u001b[0m             \u001b[0mlimit\u001b[0m\u001b[1;33m=\u001b[0m\u001b[0mlimit\u001b[0m\u001b[1;33m,\u001b[0m\u001b[1;33m\u001b[0m\u001b[1;33m\u001b[0m\u001b[0m\n\u001b[0;32m   4581\u001b[0m             \u001b[0mregex\u001b[0m\u001b[1;33m=\u001b[0m\u001b[0mregex\u001b[0m\u001b[1;33m,\u001b[0m\u001b[1;33m\u001b[0m\u001b[1;33m\u001b[0m\u001b[0m\n\u001b[1;32m-> 4582\u001b[1;33m             \u001b[0mmethod\u001b[0m\u001b[1;33m=\u001b[0m\u001b[0mmethod\u001b[0m\u001b[1;33m,\u001b[0m\u001b[1;33m\u001b[0m\u001b[1;33m\u001b[0m\u001b[0m\n\u001b[0m\u001b[0;32m   4583\u001b[0m         )\n\u001b[0;32m   4584\u001b[0m \u001b[1;33m\u001b[0m\u001b[0m\n",
      "\u001b[1;32m~\\.conda\\envs\\learn-env\\lib\\site-packages\\pandas\\core\\generic.py\u001b[0m in \u001b[0;36mreplace\u001b[1;34m(self, to_replace, value, inplace, limit, regex, method)\u001b[0m\n\u001b[0;32m   6505\u001b[0m \u001b[1;33m\u001b[0m\u001b[0m\n\u001b[0;32m   6506\u001b[0m             return self.replace(\n\u001b[1;32m-> 6507\u001b[1;33m                 \u001b[0mto_replace\u001b[0m\u001b[1;33m,\u001b[0m \u001b[0mvalue\u001b[0m\u001b[1;33m,\u001b[0m \u001b[0minplace\u001b[0m\u001b[1;33m=\u001b[0m\u001b[0minplace\u001b[0m\u001b[1;33m,\u001b[0m \u001b[0mlimit\u001b[0m\u001b[1;33m=\u001b[0m\u001b[0mlimit\u001b[0m\u001b[1;33m,\u001b[0m \u001b[0mregex\u001b[0m\u001b[1;33m=\u001b[0m\u001b[0mregex\u001b[0m\u001b[1;33m\u001b[0m\u001b[1;33m\u001b[0m\u001b[0m\n\u001b[0m\u001b[0;32m   6508\u001b[0m             )\n\u001b[0;32m   6509\u001b[0m         \u001b[1;32melse\u001b[0m\u001b[1;33m:\u001b[0m\u001b[1;33m\u001b[0m\u001b[1;33m\u001b[0m\u001b[0m\n",
      "\u001b[1;32m~\\.conda\\envs\\learn-env\\lib\\site-packages\\pandas\\core\\series.py\u001b[0m in \u001b[0;36mreplace\u001b[1;34m(self, to_replace, value, inplace, limit, regex, method)\u001b[0m\n\u001b[0;32m   4580\u001b[0m             \u001b[0mlimit\u001b[0m\u001b[1;33m=\u001b[0m\u001b[0mlimit\u001b[0m\u001b[1;33m,\u001b[0m\u001b[1;33m\u001b[0m\u001b[1;33m\u001b[0m\u001b[0m\n\u001b[0;32m   4581\u001b[0m             \u001b[0mregex\u001b[0m\u001b[1;33m=\u001b[0m\u001b[0mregex\u001b[0m\u001b[1;33m,\u001b[0m\u001b[1;33m\u001b[0m\u001b[1;33m\u001b[0m\u001b[0m\n\u001b[1;32m-> 4582\u001b[1;33m             \u001b[0mmethod\u001b[0m\u001b[1;33m=\u001b[0m\u001b[0mmethod\u001b[0m\u001b[1;33m,\u001b[0m\u001b[1;33m\u001b[0m\u001b[1;33m\u001b[0m\u001b[0m\n\u001b[0m\u001b[0;32m   4583\u001b[0m         )\n\u001b[0;32m   4584\u001b[0m \u001b[1;33m\u001b[0m\u001b[0m\n",
      "\u001b[1;32m~\\.conda\\envs\\learn-env\\lib\\site-packages\\pandas\\core\\generic.py\u001b[0m in \u001b[0;36mreplace\u001b[1;34m(self, to_replace, value, inplace, limit, regex, method)\u001b[0m\n\u001b[0;32m   6551\u001b[0m                         \u001b[0mdest_list\u001b[0m\u001b[1;33m=\u001b[0m\u001b[0mvalue\u001b[0m\u001b[1;33m,\u001b[0m\u001b[1;33m\u001b[0m\u001b[1;33m\u001b[0m\u001b[0m\n\u001b[0;32m   6552\u001b[0m                         \u001b[0minplace\u001b[0m\u001b[1;33m=\u001b[0m\u001b[0minplace\u001b[0m\u001b[1;33m,\u001b[0m\u001b[1;33m\u001b[0m\u001b[1;33m\u001b[0m\u001b[0m\n\u001b[1;32m-> 6553\u001b[1;33m                         \u001b[0mregex\u001b[0m\u001b[1;33m=\u001b[0m\u001b[0mregex\u001b[0m\u001b[1;33m,\u001b[0m\u001b[1;33m\u001b[0m\u001b[1;33m\u001b[0m\u001b[0m\n\u001b[0m\u001b[0;32m   6554\u001b[0m                     )\n\u001b[0;32m   6555\u001b[0m \u001b[1;33m\u001b[0m\u001b[0m\n",
      "\u001b[1;32m~\\.conda\\envs\\learn-env\\lib\\site-packages\\pandas\\core\\internals\\managers.py\u001b[0m in \u001b[0;36mreplace_list\u001b[1;34m(self, src_list, dest_list, inplace, regex)\u001b[0m\n\u001b[0;32m    649\u001b[0m         \u001b[0mmask\u001b[0m \u001b[1;33m=\u001b[0m \u001b[1;33m~\u001b[0m\u001b[0misna\u001b[0m\u001b[1;33m(\u001b[0m\u001b[0mvalues\u001b[0m\u001b[1;33m)\u001b[0m\u001b[1;33m\u001b[0m\u001b[1;33m\u001b[0m\u001b[0m\n\u001b[0;32m    650\u001b[0m \u001b[1;33m\u001b[0m\u001b[0m\n\u001b[1;32m--> 651\u001b[1;33m         \u001b[0mmasks\u001b[0m \u001b[1;33m=\u001b[0m \u001b[1;33m[\u001b[0m\u001b[0mcomp\u001b[0m\u001b[1;33m(\u001b[0m\u001b[0ms\u001b[0m\u001b[1;33m,\u001b[0m \u001b[0mmask\u001b[0m\u001b[1;33m,\u001b[0m \u001b[0mregex\u001b[0m\u001b[1;33m)\u001b[0m \u001b[1;32mfor\u001b[0m \u001b[0ms\u001b[0m \u001b[1;32min\u001b[0m \u001b[0msrc_list\u001b[0m\u001b[1;33m]\u001b[0m\u001b[1;33m\u001b[0m\u001b[1;33m\u001b[0m\u001b[0m\n\u001b[0m\u001b[0;32m    652\u001b[0m \u001b[1;33m\u001b[0m\u001b[0m\n\u001b[0;32m    653\u001b[0m         \u001b[0mresult_blocks\u001b[0m \u001b[1;33m=\u001b[0m \u001b[1;33m[\u001b[0m\u001b[1;33m]\u001b[0m\u001b[1;33m\u001b[0m\u001b[1;33m\u001b[0m\u001b[0m\n",
      "\u001b[1;32m~\\.conda\\envs\\learn-env\\lib\\site-packages\\pandas\\core\\internals\\managers.py\u001b[0m in \u001b[0;36m<listcomp>\u001b[1;34m(.0)\u001b[0m\n\u001b[0;32m    649\u001b[0m         \u001b[0mmask\u001b[0m \u001b[1;33m=\u001b[0m \u001b[1;33m~\u001b[0m\u001b[0misna\u001b[0m\u001b[1;33m(\u001b[0m\u001b[0mvalues\u001b[0m\u001b[1;33m)\u001b[0m\u001b[1;33m\u001b[0m\u001b[1;33m\u001b[0m\u001b[0m\n\u001b[0;32m    650\u001b[0m \u001b[1;33m\u001b[0m\u001b[0m\n\u001b[1;32m--> 651\u001b[1;33m         \u001b[0mmasks\u001b[0m \u001b[1;33m=\u001b[0m \u001b[1;33m[\u001b[0m\u001b[0mcomp\u001b[0m\u001b[1;33m(\u001b[0m\u001b[0ms\u001b[0m\u001b[1;33m,\u001b[0m \u001b[0mmask\u001b[0m\u001b[1;33m,\u001b[0m \u001b[0mregex\u001b[0m\u001b[1;33m)\u001b[0m \u001b[1;32mfor\u001b[0m \u001b[0ms\u001b[0m \u001b[1;32min\u001b[0m \u001b[0msrc_list\u001b[0m\u001b[1;33m]\u001b[0m\u001b[1;33m\u001b[0m\u001b[1;33m\u001b[0m\u001b[0m\n\u001b[0m\u001b[0;32m    652\u001b[0m \u001b[1;33m\u001b[0m\u001b[0m\n\u001b[0;32m    653\u001b[0m         \u001b[0mresult_blocks\u001b[0m \u001b[1;33m=\u001b[0m \u001b[1;33m[\u001b[0m\u001b[1;33m]\u001b[0m\u001b[1;33m\u001b[0m\u001b[1;33m\u001b[0m\u001b[0m\n",
      "\u001b[1;32m~\\.conda\\envs\\learn-env\\lib\\site-packages\\pandas\\core\\internals\\managers.py\u001b[0m in \u001b[0;36mcomp\u001b[1;34m(s, mask, regex)\u001b[0m\n\u001b[0;32m    643\u001b[0m \u001b[1;33m\u001b[0m\u001b[0m\n\u001b[0;32m    644\u001b[0m             \u001b[0ms\u001b[0m \u001b[1;33m=\u001b[0m \u001b[0mcom\u001b[0m\u001b[1;33m.\u001b[0m\u001b[0mmaybe_box_datetimelike\u001b[0m\u001b[1;33m(\u001b[0m\u001b[0ms\u001b[0m\u001b[1;33m)\u001b[0m\u001b[1;33m\u001b[0m\u001b[1;33m\u001b[0m\u001b[0m\n\u001b[1;32m--> 645\u001b[1;33m             \u001b[1;32mreturn\u001b[0m \u001b[0m_compare_or_regex_search\u001b[0m\u001b[1;33m(\u001b[0m\u001b[0mvalues\u001b[0m\u001b[1;33m,\u001b[0m \u001b[0ms\u001b[0m\u001b[1;33m,\u001b[0m \u001b[0mregex\u001b[0m\u001b[1;33m,\u001b[0m \u001b[0mmask\u001b[0m\u001b[1;33m)\u001b[0m\u001b[1;33m\u001b[0m\u001b[1;33m\u001b[0m\u001b[0m\n\u001b[0m\u001b[0;32m    646\u001b[0m \u001b[1;33m\u001b[0m\u001b[0m\n\u001b[0;32m    647\u001b[0m         \u001b[1;31m# Calculate the mask once, prior to the call of comp\u001b[0m\u001b[1;33m\u001b[0m\u001b[1;33m\u001b[0m\u001b[1;33m\u001b[0m\u001b[0m\n",
      "\u001b[1;32m~\\.conda\\envs\\learn-env\\lib\\site-packages\\pandas\\core\\internals\\managers.py\u001b[0m in \u001b[0;36m_compare_or_regex_search\u001b[1;34m(a, b, regex, mask)\u001b[0m\n\u001b[0;32m   1999\u001b[0m     \u001b[1;32mif\u001b[0m \u001b[0mis_datetimelike_v_numeric\u001b[0m\u001b[1;33m(\u001b[0m\u001b[0ma\u001b[0m\u001b[1;33m,\u001b[0m \u001b[0mb\u001b[0m\u001b[1;33m)\u001b[0m \u001b[1;32mor\u001b[0m \u001b[0mis_numeric_v_string_like\u001b[0m\u001b[1;33m(\u001b[0m\u001b[0ma\u001b[0m\u001b[1;33m,\u001b[0m \u001b[0mb\u001b[0m\u001b[1;33m)\u001b[0m\u001b[1;33m:\u001b[0m\u001b[1;33m\u001b[0m\u001b[1;33m\u001b[0m\u001b[0m\n\u001b[0;32m   2000\u001b[0m         \u001b[1;31m# GH#29553 avoid deprecation warnings from numpy\u001b[0m\u001b[1;33m\u001b[0m\u001b[1;33m\u001b[0m\u001b[1;33m\u001b[0m\u001b[0m\n\u001b[1;32m-> 2001\u001b[1;33m         \u001b[0m_check_comparison_types\u001b[0m\u001b[1;33m(\u001b[0m\u001b[1;32mFalse\u001b[0m\u001b[1;33m,\u001b[0m \u001b[0ma\u001b[0m\u001b[1;33m,\u001b[0m \u001b[0mb\u001b[0m\u001b[1;33m)\u001b[0m\u001b[1;33m\u001b[0m\u001b[1;33m\u001b[0m\u001b[0m\n\u001b[0m\u001b[0;32m   2002\u001b[0m         \u001b[1;32mreturn\u001b[0m \u001b[1;32mFalse\u001b[0m\u001b[1;33m\u001b[0m\u001b[1;33m\u001b[0m\u001b[0m\n\u001b[0;32m   2003\u001b[0m \u001b[1;33m\u001b[0m\u001b[0m\n",
      "\u001b[1;32m~\\.conda\\envs\\learn-env\\lib\\site-packages\\pandas\\core\\internals\\managers.py\u001b[0m in \u001b[0;36m_check_comparison_types\u001b[1;34m(result, a, b)\u001b[0m\n\u001b[0;32m   1979\u001b[0m \u001b[1;33m\u001b[0m\u001b[0m\n\u001b[0;32m   1980\u001b[0m             raise TypeError(\n\u001b[1;32m-> 1981\u001b[1;33m                 \u001b[1;34mf\"Cannot compare types {repr(type_names[0])} and {repr(type_names[1])}\"\u001b[0m\u001b[1;33m\u001b[0m\u001b[1;33m\u001b[0m\u001b[0m\n\u001b[0m\u001b[0;32m   1982\u001b[0m             )\n\u001b[0;32m   1983\u001b[0m \u001b[1;33m\u001b[0m\u001b[0m\n",
      "\u001b[1;31mTypeError\u001b[0m: Cannot compare types 'ndarray(dtype=int64)' and 'str'"
     ]
    }
   ],
   "source": [
    "df.topic.replace(topic_dict, inplace=True)"
   ]
  },
  {
   "cell_type": "code",
   "execution_count": 9,
   "metadata": {
    "execution": {
     "iopub.execute_input": "2021-11-08T17:14:05.340101Z",
     "iopub.status.busy": "2021-11-08T17:14:05.339100Z",
     "iopub.status.idle": "2021-11-08T17:14:05.363101Z",
     "shell.execute_reply": "2021-11-08T17:14:05.362100Z",
     "shell.execute_reply.started": "2021-11-08T17:14:05.340101Z"
    }
   },
   "outputs": [
    {
     "data": {
      "text/plain": [
       "array([2, 3, 1], dtype=int64)"
      ]
     },
     "execution_count": 9,
     "metadata": {},
     "output_type": "execute_result"
    }
   ],
   "source": [
    "df.topic.unique()"
   ]
  },
  {
   "cell_type": "code",
   "execution_count": 10,
   "metadata": {
    "execution": {
     "iopub.execute_input": "2021-11-08T17:14:05.369106Z",
     "iopub.status.busy": "2021-11-08T17:14:05.368109Z",
     "iopub.status.idle": "2021-11-08T17:14:05.570099Z",
     "shell.execute_reply": "2021-11-08T17:14:05.568098Z",
     "shell.execute_reply.started": "2021-11-08T17:14:05.369106Z"
    }
   },
   "outputs": [
    {
     "name": "stdout",
     "output_type": "stream",
     "text": [
      "Topic 1: 18.51%\n",
      "Topic 2: 33.99%\n",
      "Topic 3: 47.5%\n"
     ]
    }
   ],
   "source": [
    "print(f\"Topic 1: {round((sum(df.topic == 1)/len(df.topic)) *100, 2)}%\")\n",
    "print(f\"Topic 2: {round((sum(df.topic == 2)/len(df.topic)) *100, 2)}%\")\n",
    "print(f\"Topic 3: {round((sum(df.topic == 3)/len(df.topic)) *100, 2)}%\")"
   ]
  },
  {
   "cell_type": "markdown",
   "metadata": {},
   "source": [
    "## Train-Test Split"
   ]
  },
  {
   "cell_type": "code",
   "execution_count": 11,
   "metadata": {
    "execution": {
     "iopub.execute_input": "2021-11-08T17:14:05.573099Z",
     "iopub.status.busy": "2021-11-08T17:14:05.573099Z",
     "iopub.status.idle": "2021-11-08T17:14:05.602099Z",
     "shell.execute_reply": "2021-11-08T17:14:05.600102Z",
     "shell.execute_reply.started": "2021-11-08T17:14:05.573099Z"
    }
   },
   "outputs": [],
   "source": [
    "X = df.drop(['topic'], axis=1)\n",
    "y = df['topic']\n",
    "\n",
    "X_train, X_test, y_train, y_test = train_test_split(X['text'], y, test_size=0.20, random_state=200)"
   ]
  },
  {
   "cell_type": "code",
   "execution_count": 12,
   "metadata": {
    "execution": {
     "iopub.execute_input": "2021-11-08T17:14:05.605100Z",
     "iopub.status.busy": "2021-11-08T17:14:05.604101Z",
     "iopub.status.idle": "2021-11-08T17:14:05.618101Z",
     "shell.execute_reply": "2021-11-08T17:14:05.616099Z",
     "shell.execute_reply.started": "2021-11-08T17:14:05.605100Z"
    }
   },
   "outputs": [
    {
     "data": {
      "text/plain": [
       "8654     first union acquisition approved jacksonville ...\n",
       "15548    london eurodollar deposit rate april overnight...\n",
       "12409    denmark mln crown eurobond deal copenhagen mar...\n",
       "4370     nova subsidiary raise polyethylene price calga...\n",
       "19981    amoco canada offer top one billion dlrs toront...\n",
       "                               ...                        \n",
       "9036     delegation hope veg oil tax defeat bonn march ...\n",
       "14007    coffee export quota october seems unlikely ico...\n",
       "784      anchor glass cleared listed nyse tampa march a...\n",
       "12905    midland set subsidiary finland london march mi...\n",
       "1818     syntex set rapid strep throat test palo alto m...\n",
       "Name: text, Length: 18399, dtype: object"
      ]
     },
     "execution_count": 12,
     "metadata": {},
     "output_type": "execute_result"
    }
   ],
   "source": [
    "X_train"
   ]
  },
  {
   "cell_type": "code",
   "execution_count": 13,
   "metadata": {
    "execution": {
     "iopub.execute_input": "2021-11-08T17:14:05.621101Z",
     "iopub.status.busy": "2021-11-08T17:14:05.620098Z",
     "iopub.status.idle": "2021-11-08T17:14:05.649099Z",
     "shell.execute_reply": "2021-11-08T17:14:05.648096Z",
     "shell.execute_reply.started": "2021-11-08T17:14:05.621101Z"
    }
   },
   "outputs": [
    {
     "data": {
      "text/plain": [
       "8654     2\n",
       "15548    3\n",
       "12409    3\n",
       "4370     2\n",
       "19981    3\n",
       "        ..\n",
       "9036     2\n",
       "14007    2\n",
       "784      3\n",
       "12905    3\n",
       "1818     3\n",
       "Name: topic, Length: 18399, dtype: int64"
      ]
     },
     "execution_count": 13,
     "metadata": {},
     "output_type": "execute_result"
    }
   ],
   "source": [
    "y_train"
   ]
  },
  {
   "cell_type": "code",
   "execution_count": 14,
   "metadata": {
    "execution": {
     "iopub.execute_input": "2021-11-08T17:14:05.652101Z",
     "iopub.status.busy": "2021-11-08T17:14:05.652101Z",
     "iopub.status.idle": "2021-11-08T17:14:05.680103Z",
     "shell.execute_reply": "2021-11-08T17:14:05.678096Z",
     "shell.execute_reply.started": "2021-11-08T17:14:05.652101Z"
    }
   },
   "outputs": [
    {
     "name": "stdout",
     "output_type": "stream",
     "text": [
      "(4600,)\n"
     ]
    },
    {
     "data": {
      "text/plain": [
       "(18399,)"
      ]
     },
     "execution_count": 14,
     "metadata": {},
     "output_type": "execute_result"
    }
   ],
   "source": [
    "print(X_test.shape)\n",
    "X_train.shape"
   ]
  },
  {
   "cell_type": "code",
   "execution_count": 15,
   "metadata": {
    "execution": {
     "iopub.execute_input": "2021-11-08T17:14:05.683104Z",
     "iopub.status.busy": "2021-11-08T17:14:05.682099Z",
     "iopub.status.idle": "2021-11-08T17:14:05.711097Z",
     "shell.execute_reply": "2021-11-08T17:14:05.709103Z",
     "shell.execute_reply.started": "2021-11-08T17:14:05.683104Z"
    }
   },
   "outputs": [
    {
     "name": "stdout",
     "output_type": "stream",
     "text": [
      "(4600,)\n"
     ]
    },
    {
     "data": {
      "text/plain": [
       "(18399,)"
      ]
     },
     "execution_count": 15,
     "metadata": {},
     "output_type": "execute_result"
    }
   ],
   "source": [
    "print(y_test.shape)\n",
    "y_train.shape"
   ]
  },
  {
   "cell_type": "markdown",
   "metadata": {
    "execution": {
     "iopub.execute_input": "2021-11-06T16:18:21.372443Z",
     "iopub.status.busy": "2021-11-06T16:18:21.372443Z",
     "iopub.status.idle": "2021-11-06T16:18:21.379441Z",
     "shell.execute_reply": "2021-11-06T16:18:21.378440Z",
     "shell.execute_reply.started": "2021-11-06T16:18:21.372443Z"
    }
   },
   "source": [
    "# TF-IDF"
   ]
  },
  {
   "cell_type": "markdown",
   "metadata": {},
   "source": [
    "## Instatiate Training Set"
   ]
  },
  {
   "cell_type": "code",
   "execution_count": 16,
   "metadata": {
    "execution": {
     "iopub.execute_input": "2021-11-08T17:14:05.714100Z",
     "iopub.status.busy": "2021-11-08T17:14:05.713099Z",
     "iopub.status.idle": "2021-11-08T17:14:15.677095Z",
     "shell.execute_reply": "2021-11-08T17:14:15.676095Z",
     "shell.execute_reply.started": "2021-11-08T17:14:05.714100Z"
    }
   },
   "outputs": [],
   "source": [
    "vectorizer = TfidfVectorizer(ngram_range=(1,2))\n",
    "vect_X_train = vectorizer.fit_transform(X_train)\n",
    "feature_names =  vectorizer.get_feature_names()"
   ]
  },
  {
   "cell_type": "code",
   "execution_count": 17,
   "metadata": {
    "execution": {
     "iopub.execute_input": "2021-11-08T17:14:15.679097Z",
     "iopub.status.busy": "2021-11-08T17:14:15.678097Z",
     "iopub.status.idle": "2021-11-08T17:14:15.693100Z",
     "shell.execute_reply": "2021-11-08T17:14:15.692100Z",
     "shell.execute_reply.started": "2021-11-08T17:14:15.679097Z"
    }
   },
   "outputs": [
    {
     "data": {
      "text/plain": [
       "602453"
      ]
     },
     "execution_count": 17,
     "metadata": {},
     "output_type": "execute_result"
    }
   ],
   "source": [
    "len(feature_names)"
   ]
  },
  {
   "cell_type": "code",
   "execution_count": 18,
   "metadata": {
    "execution": {
     "iopub.execute_input": "2021-11-08T17:14:15.697102Z",
     "iopub.status.busy": "2021-11-08T17:14:15.696100Z",
     "iopub.status.idle": "2021-11-08T17:14:15.724097Z",
     "shell.execute_reply": "2021-11-08T17:14:15.723096Z",
     "shell.execute_reply.started": "2021-11-08T17:14:15.697102Z"
    }
   },
   "outputs": [
    {
     "data": {
      "text/plain": [
       "(18399, 602453)"
      ]
     },
     "execution_count": 18,
     "metadata": {},
     "output_type": "execute_result"
    }
   ],
   "source": [
    "vect_X_train.shape"
   ]
  },
  {
   "cell_type": "markdown",
   "metadata": {},
   "source": [
    "Use `fit_transform()` on training data and `transform()` on test data. The model has already been fit on the training data, so you don't want to fit it again."
   ]
  },
  {
   "cell_type": "code",
   "execution_count": 19,
   "metadata": {
    "execution": {
     "iopub.execute_input": "2021-11-08T17:14:15.727102Z",
     "iopub.status.busy": "2021-11-08T17:14:15.726101Z",
     "iopub.status.idle": "2021-11-08T17:14:17.580096Z",
     "shell.execute_reply": "2021-11-08T17:14:17.579094Z",
     "shell.execute_reply.started": "2021-11-08T17:14:15.727102Z"
    }
   },
   "outputs": [],
   "source": [
    "vect_X_test = vectorizer.transform(X_test)"
   ]
  },
  {
   "cell_type": "markdown",
   "metadata": {},
   "source": [
    "# Create first model"
   ]
  },
  {
   "cell_type": "markdown",
   "metadata": {},
   "source": [
    "## Create Naive Bayes model and predict"
   ]
  },
  {
   "cell_type": "markdown",
   "metadata": {},
   "source": [
    "Instantiate new model instance. Fit the model to all the training data."
   ]
  },
  {
   "cell_type": "code",
   "execution_count": 20,
   "metadata": {
    "execution": {
     "iopub.execute_input": "2021-11-08T17:14:17.583099Z",
     "iopub.status.busy": "2021-11-08T17:14:17.582098Z",
     "iopub.status.idle": "2021-11-08T17:14:17.753100Z",
     "shell.execute_reply": "2021-11-08T17:14:17.752100Z",
     "shell.execute_reply.started": "2021-11-08T17:14:17.583099Z"
    }
   },
   "outputs": [
    {
     "data": {
      "text/plain": [
       "MultinomialNB()"
      ]
     },
     "execution_count": 20,
     "metadata": {},
     "output_type": "execute_result"
    }
   ],
   "source": [
    "cls = MultinomialNB()\n",
    "cls.fit(vect_X_train, y_train)"
   ]
  },
  {
   "cell_type": "markdown",
   "metadata": {},
   "source": [
    "Now that the model has been trained on the vectorized training data, see how it will predict classes from that test data."
   ]
  },
  {
   "cell_type": "code",
   "execution_count": 21,
   "metadata": {
    "execution": {
     "iopub.execute_input": "2021-11-08T17:14:17.756100Z",
     "iopub.status.busy": "2021-11-08T17:14:17.755098Z",
     "iopub.status.idle": "2021-11-08T17:14:17.895099Z",
     "shell.execute_reply": "2021-11-08T17:14:17.894097Z",
     "shell.execute_reply.started": "2021-11-08T17:14:17.755098Z"
    }
   },
   "outputs": [],
   "source": [
    "y_pred = cls.predict(vect_X_train)"
   ]
  },
  {
   "cell_type": "code",
   "execution_count": 22,
   "metadata": {
    "execution": {
     "iopub.execute_input": "2021-11-08T17:14:17.899117Z",
     "iopub.status.busy": "2021-11-08T17:14:17.898105Z",
     "iopub.status.idle": "2021-11-08T17:14:17.928098Z",
     "shell.execute_reply": "2021-11-08T17:14:17.926098Z",
     "shell.execute_reply.started": "2021-11-08T17:14:17.898105Z"
    }
   },
   "outputs": [
    {
     "data": {
      "text/plain": [
       "array([1, 2, 3], dtype=int64)"
      ]
     },
     "execution_count": 22,
     "metadata": {},
     "output_type": "execute_result"
    }
   ],
   "source": [
    "np.unique(y_pred)"
   ]
  },
  {
   "cell_type": "markdown",
   "metadata": {
    "execution": {
     "iopub.execute_input": "2021-11-06T16:25:55.869617Z",
     "iopub.status.busy": "2021-11-06T16:25:55.869617Z",
     "iopub.status.idle": "2021-11-06T16:25:55.882619Z",
     "shell.execute_reply": "2021-11-06T16:25:55.881617Z",
     "shell.execute_reply.started": "2021-11-06T16:25:55.869617Z"
    }
   },
   "source": [
    "Compare how accurate the real test data is to what the model predicted"
   ]
  },
  {
   "cell_type": "code",
   "execution_count": 23,
   "metadata": {
    "execution": {
     "iopub.execute_input": "2021-11-08T17:14:17.932104Z",
     "iopub.status.busy": "2021-11-08T17:14:17.931099Z",
     "iopub.status.idle": "2021-11-08T17:14:17.958098Z",
     "shell.execute_reply": "2021-11-08T17:14:17.957099Z",
     "shell.execute_reply.started": "2021-11-08T17:14:17.931099Z"
    }
   },
   "outputs": [
    {
     "data": {
      "text/plain": [
       "'The accuracy score is: 89.39%'"
      ]
     },
     "execution_count": 23,
     "metadata": {},
     "output_type": "execute_result"
    }
   ],
   "source": [
    "f'The accuracy score is: {round(accuracy_score(y_train, y_pred)*100, 2)}%'"
   ]
  },
  {
   "cell_type": "code",
   "execution_count": 24,
   "metadata": {
    "execution": {
     "iopub.execute_input": "2021-11-08T17:14:17.961099Z",
     "iopub.status.busy": "2021-11-08T17:14:17.960097Z",
     "iopub.status.idle": "2021-11-08T17:14:18.879096Z",
     "shell.execute_reply": "2021-11-08T17:14:18.877096Z",
     "shell.execute_reply.started": "2021-11-08T17:14:17.961099Z"
    }
   },
   "outputs": [
    {
     "name": "stdout",
     "output_type": "stream",
     "text": [
      "Accuracy: 89.4%\n",
      "Precision: 91.8%\n",
      "Recall: 87.0%\n",
      "F1: 88.9%\n",
      "\n",
      "\n",
      "Classification Report\n",
      "\n",
      "\n",
      "              precision    recall  f1-score   support\n",
      "\n",
      "           1       0.95      0.79      0.86      3448\n",
      "           2       0.96      0.85      0.90      6236\n",
      "           3       0.84      0.96      0.90      8715\n",
      "\n",
      "    accuracy                           0.89     18399\n",
      "   macro avg       0.92      0.87      0.89     18399\n",
      "weighted avg       0.90      0.89      0.89     18399\n",
      "\n"
     ]
    },
    {
     "data": {
      "image/png": "[encoded data removed]",
      "text/plain": [
       "<Figure size 432x288 with 2 Axes>"
      ]
     },
     "metadata": {
      "needs_background": "light"
     },
     "output_type": "display_data"
    }
   ],
   "source": [
    "scoring(y_train, y_pred, cls, vect_X_train)"
   ]
  },
  {
   "cell_type": "markdown",
   "metadata": {
    "execution": {
     "iopub.execute_input": "2021-11-06T16:34:50.779728Z",
     "iopub.status.busy": "2021-11-06T16:34:50.779728Z",
     "iopub.status.idle": "2021-11-06T16:34:50.802730Z",
     "shell.execute_reply": "2021-11-06T16:34:50.800728Z",
     "shell.execute_reply.started": "2021-11-06T16:34:50.779728Z"
    }
   },
   "source": [
    "Pretty good!"
   ]
  },
  {
   "cell_type": "markdown",
   "metadata": {
    "execution": {
     "iopub.execute_input": "2021-11-06T16:38:41.621234Z",
     "iopub.status.busy": "2021-11-06T16:38:41.621234Z",
     "iopub.status.idle": "2021-11-06T16:38:41.634231Z",
     "shell.execute_reply": "2021-11-06T16:38:41.633234Z",
     "shell.execute_reply.started": "2021-11-06T16:38:41.621234Z"
    }
   },
   "source": [
    "## Try it when merging 'blank' and 'other' into one topic "
   ]
  },
  {
   "cell_type": "code",
   "execution_count": 25,
   "metadata": {
    "execution": {
     "iopub.execute_input": "2021-11-08T17:14:18.882114Z",
     "iopub.status.busy": "2021-11-08T17:14:18.881099Z",
     "iopub.status.idle": "2021-11-08T17:14:19.195097Z",
     "shell.execute_reply": "2021-11-08T17:14:19.194095Z",
     "shell.execute_reply.started": "2021-11-08T17:14:18.882114Z"
    }
   },
   "outputs": [],
   "source": [
    "df2 = pd.read_csv('data_files/text_processed.csv')\n",
    "df2.drop(['Unnamed: 0'], axis=1, inplace=True)\n",
    "topic_dict = {'earn': 1, 'other': 2, 'blank': 2}\n",
    "df2.topic.replace(topic_dict, inplace=True)"
   ]
  },
  {
   "cell_type": "code",
   "execution_count": 26,
   "metadata": {
    "execution": {
     "iopub.execute_input": "2021-11-08T17:14:19.199097Z",
     "iopub.status.busy": "2021-11-08T17:14:19.198101Z",
     "iopub.status.idle": "2021-11-08T17:14:19.229098Z",
     "shell.execute_reply": "2021-11-08T17:14:19.226099Z",
     "shell.execute_reply.started": "2021-11-08T17:14:19.199097Z"
    }
   },
   "outputs": [
    {
     "data": {
      "text/html": [
       "<div>\n",
       "<style scoped>\n",
       "    .dataframe tbody tr th:only-of-type {\n",
       "        vertical-align: middle;\n",
       "    }\n",
       "\n",
       "    .dataframe tbody tr th {\n",
       "        vertical-align: top;\n",
       "    }\n",
       "\n",
       "    .dataframe thead th {\n",
       "        text-align: right;\n",
       "    }\n",
       "</style>\n",
       "<table border=\"1\" class=\"dataframe\">\n",
       "  <thead>\n",
       "    <tr style=\"text-align: right;\">\n",
       "      <th></th>\n",
       "      <th>topic</th>\n",
       "      <th>text</th>\n",
       "    </tr>\n",
       "  </thead>\n",
       "  <tbody>\n",
       "    <tr>\n",
       "      <th>0</th>\n",
       "      <td>2</td>\n",
       "      <td>bahia cocoa review salvador feb shower continu...</td>\n",
       "    </tr>\n",
       "    <tr>\n",
       "      <th>1</th>\n",
       "      <td>2</td>\n",
       "      <td>standard oil form financial unit cleveland feb...</td>\n",
       "    </tr>\n",
       "    <tr>\n",
       "      <th>2</th>\n",
       "      <td>2</td>\n",
       "      <td>texas commerce bancshares file plan houston fe...</td>\n",
       "    </tr>\n",
       "    <tr>\n",
       "      <th>3</th>\n",
       "      <td>2</td>\n",
       "      <td>talking equity offer janie gabbett reuters los...</td>\n",
       "    </tr>\n",
       "    <tr>\n",
       "      <th>4</th>\n",
       "      <td>2</td>\n",
       "      <td>national average price reserve washington feb ...</td>\n",
       "    </tr>\n",
       "    <tr>\n",
       "      <th>5</th>\n",
       "      <td>2</td>\n",
       "      <td>argentine registration buenos aire feb argenti...</td>\n",
       "    </tr>\n",
       "    <tr>\n",
       "      <th>6</th>\n",
       "      <td>2</td>\n",
       "      <td>red lion inn file plan offering portland feb r...</td>\n",
       "    </tr>\n",
       "    <tr>\n",
       "      <th>7</th>\n",
       "      <td>2</td>\n",
       "      <td>usx debt dowgraded moody new york feb moody in...</td>\n",
       "    </tr>\n",
       "    <tr>\n",
       "      <th>8</th>\n",
       "      <td>1</td>\n",
       "      <td>champion product approves stock split rocheste...</td>\n",
       "    </tr>\n",
       "    <tr>\n",
       "      <th>9</th>\n",
       "      <td>2</td>\n",
       "      <td>computer terminal system completes sale commac...</td>\n",
       "    </tr>\n",
       "  </tbody>\n",
       "</table>\n",
       "</div>"
      ],
      "text/plain": [
       "   topic                                               text\n",
       "0      2  bahia cocoa review salvador feb shower continu...\n",
       "1      2  standard oil form financial unit cleveland feb...\n",
       "2      2  texas commerce bancshares file plan houston fe...\n",
       "3      2  talking equity offer janie gabbett reuters los...\n",
       "4      2  national average price reserve washington feb ...\n",
       "5      2  argentine registration buenos aire feb argenti...\n",
       "6      2  red lion inn file plan offering portland feb r...\n",
       "7      2  usx debt dowgraded moody new york feb moody in...\n",
       "8      1  champion product approves stock split rocheste...\n",
       "9      2  computer terminal system completes sale commac..."
      ]
     },
     "execution_count": 26,
     "metadata": {},
     "output_type": "execute_result"
    }
   ],
   "source": [
    "df2.head(10)"
   ]
  },
  {
   "cell_type": "code",
   "execution_count": 27,
   "metadata": {
    "execution": {
     "iopub.execute_input": "2021-11-08T17:14:19.238100Z",
     "iopub.status.busy": "2021-11-08T17:14:19.237098Z",
     "iopub.status.idle": "2021-11-08T17:14:19.279098Z",
     "shell.execute_reply": "2021-11-08T17:14:19.274099Z",
     "shell.execute_reply.started": "2021-11-08T17:14:19.238100Z"
    }
   },
   "outputs": [
    {
     "name": "stdout",
     "output_type": "stream",
     "text": [
      "Topic 1: 18.51%\n",
      "Topic 2: 81.49%\n"
     ]
    }
   ],
   "source": [
    "print(f\"Topic 1: {round((sum(df2.topic == 1)/len(df2.topic)) *100, 2)}%\")\n",
    "print(f\"Topic 2: {round((sum(df2.topic == 2)/len(df2.topic)) *100, 2)}%\")"
   ]
  },
  {
   "cell_type": "code",
   "execution_count": 28,
   "metadata": {
    "execution": {
     "iopub.execute_input": "2021-11-08T17:14:19.286100Z",
     "iopub.status.busy": "2021-11-08T17:14:19.284100Z",
     "iopub.status.idle": "2021-11-08T17:14:19.323098Z",
     "shell.execute_reply": "2021-11-08T17:14:19.321097Z",
     "shell.execute_reply.started": "2021-11-08T17:14:19.285101Z"
    }
   },
   "outputs": [],
   "source": [
    "X2 = df2.drop(['topic'], axis=1)\n",
    "y2 = df2['topic']\n",
    "\n",
    "X2_train, X2_test, y2_train, y2_test = train_test_split(X2['text'], y2, test_size=0.20, random_state=200)"
   ]
  },
  {
   "cell_type": "code",
   "execution_count": 29,
   "metadata": {
    "execution": {
     "iopub.execute_input": "2021-11-08T17:14:19.326102Z",
     "iopub.status.busy": "2021-11-08T17:14:19.325103Z",
     "iopub.status.idle": "2021-11-08T17:14:31.079096Z",
     "shell.execute_reply": "2021-11-08T17:14:31.076097Z",
     "shell.execute_reply.started": "2021-11-08T17:14:19.326102Z"
    }
   },
   "outputs": [],
   "source": [
    "vect_X2_train = vectorizer.fit_transform(X2_train)\n",
    "vect_X2_test = vectorizer.transform(X2_test)"
   ]
  },
  {
   "cell_type": "code",
   "execution_count": 30,
   "metadata": {
    "execution": {
     "iopub.execute_input": "2021-11-08T17:14:31.083099Z",
     "iopub.status.busy": "2021-11-08T17:14:31.082098Z",
     "iopub.status.idle": "2021-11-08T17:14:31.317101Z",
     "shell.execute_reply": "2021-11-08T17:14:31.315098Z",
     "shell.execute_reply.started": "2021-11-08T17:14:31.083099Z"
    }
   },
   "outputs": [],
   "source": [
    "cls2 = MultinomialNB()\n",
    "cls2.fit(vect_X2_train, y2_train)\n",
    "y2_pred = cls2.predict(vect_X2_train)"
   ]
  },
  {
   "cell_type": "code",
   "execution_count": 31,
   "metadata": {
    "execution": {
     "iopub.execute_input": "2021-11-08T17:14:31.320101Z",
     "iopub.status.busy": "2021-11-08T17:14:31.319104Z",
     "iopub.status.idle": "2021-11-08T17:14:31.857097Z",
     "shell.execute_reply": "2021-11-08T17:14:31.856097Z",
     "shell.execute_reply.started": "2021-11-08T17:14:31.320101Z"
    }
   },
   "outputs": [
    {
     "name": "stdout",
     "output_type": "stream",
     "text": [
      "Accuracy: 94.6%\n",
      "Precision: 95.5%\n",
      "Recall: 86.4%\n",
      "F1: 90.1%\n",
      "\n",
      "\n",
      "Classification Report\n",
      "\n",
      "\n",
      "              precision    recall  f1-score   support\n",
      "\n",
      "           1       0.97      0.73      0.83      3448\n",
      "           2       0.94      0.99      0.97     14951\n",
      "\n",
      "    accuracy                           0.95     18399\n",
      "   macro avg       0.96      0.86      0.90     18399\n",
      "weighted avg       0.95      0.95      0.94     18399\n",
      "\n"
     ]
    },
    {
     "data": {
      "image/png": "[encoded data removed]",
      "text/plain": [
       "<Figure size 432x288 with 2 Axes>"
      ]
     },
     "metadata": {
      "needs_background": "light"
     },
     "output_type": "display_data"
    }
   ],
   "source": [
    "scoring(y2_train, y2_pred, cls2, vect_X2_train)"
   ]
  },
  {
   "cell_type": "markdown",
   "metadata": {},
   "source": [
    "Making a df to easily compare how the two models did"
   ]
  },
  {
   "cell_type": "code",
   "execution_count": 32,
   "metadata": {
    "execution": {
     "iopub.execute_input": "2021-11-08T17:14:31.860098Z",
     "iopub.status.busy": "2021-11-08T17:14:31.859098Z",
     "iopub.status.idle": "2021-11-08T17:14:31.968099Z",
     "shell.execute_reply": "2021-11-08T17:14:31.966100Z",
     "shell.execute_reply.started": "2021-11-08T17:14:31.860098Z"
    }
   },
   "outputs": [
    {
     "data": {
      "text/html": [
       "<div>\n",
       "<style scoped>\n",
       "    .dataframe tbody tr th:only-of-type {\n",
       "        vertical-align: middle;\n",
       "    }\n",
       "\n",
       "    .dataframe tbody tr th {\n",
       "        vertical-align: top;\n",
       "    }\n",
       "\n",
       "    .dataframe thead th {\n",
       "        text-align: right;\n",
       "    }\n",
       "</style>\n",
       "<table border=\"1\" class=\"dataframe\">\n",
       "  <thead>\n",
       "    <tr style=\"text-align: right;\">\n",
       "      <th></th>\n",
       "      <th>3_topics</th>\n",
       "      <th>2_topics</th>\n",
       "    </tr>\n",
       "  </thead>\n",
       "  <tbody>\n",
       "    <tr>\n",
       "      <th>overall accuracy</th>\n",
       "      <td>89.4</td>\n",
       "      <td>94.6</td>\n",
       "    </tr>\n",
       "    <tr>\n",
       "      <th>overall precision</th>\n",
       "      <td>91.8</td>\n",
       "      <td>95.5</td>\n",
       "    </tr>\n",
       "    <tr>\n",
       "      <th>overall recall</th>\n",
       "      <td>87.0</td>\n",
       "      <td>86.4</td>\n",
       "    </tr>\n",
       "    <tr>\n",
       "      <th>overall F1</th>\n",
       "      <td>88.9</td>\n",
       "      <td>90.1</td>\n",
       "    </tr>\n",
       "    <tr>\n",
       "      <th>earn precision</th>\n",
       "      <td>95.0</td>\n",
       "      <td>97.0</td>\n",
       "    </tr>\n",
       "    <tr>\n",
       "      <th>earn recall</th>\n",
       "      <td>79.0</td>\n",
       "      <td>73.0</td>\n",
       "    </tr>\n",
       "    <tr>\n",
       "      <th>earn F1</th>\n",
       "      <td>86.0</td>\n",
       "      <td>83.0</td>\n",
       "    </tr>\n",
       "  </tbody>\n",
       "</table>\n",
       "</div>"
      ],
      "text/plain": [
       "                   3_topics  2_topics\n",
       "overall accuracy       89.4      94.6\n",
       "overall precision      91.8      95.5\n",
       "overall recall         87.0      86.4\n",
       "overall F1             88.9      90.1\n",
       "earn precision         95.0      97.0\n",
       "earn recall            79.0      73.0\n",
       "earn F1                86.0      83.0"
      ]
     },
     "execution_count": 32,
     "metadata": {},
     "output_type": "execute_result"
    }
   ],
   "source": [
    "compare = pd.DataFrame(columns=['3_topics', '2_topics'])\n",
    "\n",
    "compare.loc['overall accuracy'] = [89.4, 94.6]\n",
    "compare.loc['overall precision'] = [91.8, 95.5]\n",
    "compare.loc['overall recall'] = [87.0, 86.4]\n",
    "compare.loc['overall F1'] = [88.9, 90.1]\n",
    "compare.loc['earn precision'] = [95, 97]\n",
    "compare.loc['earn recall'] = [79, 73]\n",
    "compare.loc['earn F1'] = [86, 83]\n",
    "compare"
   ]
  },
  {
   "cell_type": "markdown",
   "metadata": {},
   "source": [
    "The models did pretty similar with some trade offs here and there. Overall accuracy was 5 points better on the model with two topics.\n",
    "\n",
    "The purpose of this task is to predict the articles that can be classified as 'earn'. \n",
    "\n",
    "'Earn' precision preformed 2 points better with two topics, but 'earn' recall performed 6 points worse with two topics. 'Earn' F1 was 3 points better.\n",
    "\n"
   ]
  },
  {
   "cell_type": "markdown",
   "metadata": {},
   "source": [
    "## Check for overfitting"
   ]
  },
  {
   "cell_type": "code",
   "execution_count": 33,
   "metadata": {
    "execution": {
     "iopub.execute_input": "2021-11-08T17:14:31.971104Z",
     "iopub.status.busy": "2021-11-08T17:14:31.970110Z",
     "iopub.status.idle": "2021-11-08T17:14:32.030101Z",
     "shell.execute_reply": "2021-11-08T17:14:32.028099Z",
     "shell.execute_reply.started": "2021-11-08T17:14:31.971104Z"
    }
   },
   "outputs": [],
   "source": [
    "test_y_pred = cls.predict(vect_X_test)"
   ]
  },
  {
   "cell_type": "code",
   "execution_count": 34,
   "metadata": {
    "execution": {
     "iopub.execute_input": "2021-11-08T17:14:32.036101Z",
     "iopub.status.busy": "2021-11-08T17:14:32.033099Z",
     "iopub.status.idle": "2021-11-08T17:14:32.551097Z",
     "shell.execute_reply": "2021-11-08T17:14:32.550098Z",
     "shell.execute_reply.started": "2021-11-08T17:14:32.036101Z"
    }
   },
   "outputs": [
    {
     "name": "stdout",
     "output_type": "stream",
     "text": [
      "Accuracy: 82.8%\n",
      "Precision: 87.2%\n",
      "Recall: 80.3%\n",
      "F1: 82.7%\n",
      "\n",
      "\n",
      "Classification Report\n",
      "\n",
      "\n",
      "              precision    recall  f1-score   support\n",
      "\n",
      "           1       0.93      0.77      0.84       808\n",
      "           2       0.92      0.70      0.80      1582\n",
      "           3       0.76      0.94      0.84      2210\n",
      "\n",
      "    accuracy                           0.83      4600\n",
      "   macro avg       0.87      0.80      0.83      4600\n",
      "weighted avg       0.85      0.83      0.83      4600\n",
      "\n"
     ]
    },
    {
     "data": {
      "image/png": "[encoded data removed]",
      "text/plain": [
       "<Figure size 432x288 with 2 Axes>"
      ]
     },
     "metadata": {
      "needs_background": "light"
     },
     "output_type": "display_data"
    }
   ],
   "source": [
    "scoring(y_test, test_y_pred, cls, vect_X_test)"
   ]
  },
  {
   "cell_type": "code",
   "execution_count": 35,
   "metadata": {
    "execution": {
     "iopub.execute_input": "2021-11-08T17:14:32.553098Z",
     "iopub.status.busy": "2021-11-08T17:14:32.553098Z",
     "iopub.status.idle": "2021-11-08T17:14:33.074096Z",
     "shell.execute_reply": "2021-11-08T17:14:33.073095Z",
     "shell.execute_reply.started": "2021-11-08T17:14:32.553098Z"
    }
   },
   "outputs": [
    {
     "name": "stdout",
     "output_type": "stream",
     "text": [
      "Accuracy: 89.4%\n",
      "Precision: 91.8%\n",
      "Recall: 87.0%\n",
      "F1: 88.9%\n",
      "\n",
      "\n",
      "Classification Report\n",
      "\n",
      "\n",
      "              precision    recall  f1-score   support\n",
      "\n",
      "           1       0.95      0.79      0.86      3448\n",
      "           2       0.96      0.85      0.90      6236\n",
      "           3       0.84      0.96      0.90      8715\n",
      "\n",
      "    accuracy                           0.89     18399\n",
      "   macro avg       0.92      0.87      0.89     18399\n",
      "weighted avg       0.90      0.89      0.89     18399\n",
      "\n"
     ]
    },
    {
     "data": {
      "image/png": "[encoded data removed]",
      "text/plain": [
       "<Figure size 432x288 with 2 Axes>"
      ]
     },
     "metadata": {
      "needs_background": "light"
     },
     "output_type": "display_data"
    }
   ],
   "source": [
    "# This is the first one, above\n",
    "scoring(y_train, y_pred, cls, vect_X_train)"
   ]
  },
  {
   "cell_type": "markdown",
   "metadata": {},
   "source": [
    "Overall accuracy is down a little (7 points), but for the category 'earn', indivdual scores are down fewer points, maybe 2 or 3."
   ]
  },
  {
   "cell_type": "markdown",
   "metadata": {},
   "source": [
    "## Random Forest"
   ]
  },
  {
   "cell_type": "code",
   "execution_count": 36,
   "metadata": {
    "execution": {
     "iopub.execute_input": "2021-11-08T17:14:33.076100Z",
     "iopub.status.busy": "2021-11-08T17:14:33.075096Z",
     "iopub.status.idle": "2021-11-08T17:14:47.316156Z",
     "shell.execute_reply": "2021-11-08T17:14:47.315154Z",
     "shell.execute_reply.started": "2021-11-08T17:14:33.076100Z"
    }
   },
   "outputs": [
    {
     "data": {
      "text/plain": [
       "RandomForestClassifier(max_depth=20)"
      ]
     },
     "execution_count": 36,
     "metadata": {},
     "output_type": "execute_result"
    }
   ],
   "source": [
    "rdmfst = RandomForestClassifier(max_depth=20)\n",
    "rdmfst.fit(vect_X_train, y_train)"
   ]
  },
  {
   "cell_type": "code",
   "execution_count": 37,
   "metadata": {
    "execution": {
     "iopub.execute_input": "2021-11-08T17:14:47.318156Z",
     "iopub.status.busy": "2021-11-08T17:14:47.317157Z",
     "iopub.status.idle": "2021-11-08T17:14:52.975156Z",
     "shell.execute_reply": "2021-11-08T17:14:52.974152Z",
     "shell.execute_reply.started": "2021-11-08T17:14:47.318156Z"
    }
   },
   "outputs": [],
   "source": [
    "y_pred = rdmfst.predict(vect_X_train)"
   ]
  },
  {
   "cell_type": "code",
   "execution_count": 38,
   "metadata": {
    "execution": {
     "iopub.execute_input": "2021-11-08T17:14:52.978156Z",
     "iopub.status.busy": "2021-11-08T17:14:52.977159Z",
     "iopub.status.idle": "2021-11-08T17:14:57.288155Z",
     "shell.execute_reply": "2021-11-08T17:14:57.287154Z",
     "shell.execute_reply.started": "2021-11-08T17:14:52.978156Z"
    }
   },
   "outputs": [
    {
     "name": "stdout",
     "output_type": "stream",
     "text": [
      "Accuracy: 70.0%\n",
      "Precision: 86.3%\n",
      "Recall: 64.7%\n",
      "F1: 67.2%\n",
      "\n",
      "\n",
      "Classification Report\n",
      "\n",
      "\n",
      "              precision    recall  f1-score   support\n",
      "\n",
      "           1       0.98      0.60      0.75      3448\n",
      "           2       0.99      0.34      0.51      6236\n",
      "           3       0.61      0.99      0.76      8715\n",
      "\n",
      "    accuracy                           0.70     18399\n",
      "   macro avg       0.86      0.65      0.67     18399\n",
      "weighted avg       0.81      0.70      0.67     18399\n",
      "\n"
     ]
    },
    {
     "data": {
      "image/png": "[encoded data removed]",
      "text/plain": [
       "<Figure size 432x288 with 2 Axes>"
      ]
     },
     "metadata": {
      "needs_background": "light"
     },
     "output_type": "display_data"
    }
   ],
   "source": [
    "scoring(y_train, y_pred, rdmfst, vect_X_train)"
   ]
  },
  {
   "cell_type": "markdown",
   "metadata": {},
   "source": [
    "Overall, a worse model. "
   ]
  },
  {
   "cell_type": "markdown",
   "metadata": {},
   "source": [
    "## Decision Tree"
   ]
  },
  {
   "cell_type": "code",
   "execution_count": 39,
   "metadata": {
    "execution": {
     "iopub.execute_input": "2021-11-08T17:14:57.292163Z",
     "iopub.status.busy": "2021-11-08T17:14:57.291170Z",
     "iopub.status.idle": "2021-11-08T17:15:34.917646Z",
     "shell.execute_reply": "2021-11-08T17:15:34.914650Z",
     "shell.execute_reply.started": "2021-11-08T17:14:57.292163Z"
    }
   },
   "outputs": [
    {
     "data": {
      "text/plain": [
       "DecisionTreeClassifier(max_depth=20)"
      ]
     },
     "execution_count": 39,
     "metadata": {},
     "output_type": "execute_result"
    }
   ],
   "source": [
    "dtree = DecisionTreeClassifier(max_depth=20)\n",
    "dtree.fit(vect_X_train, y_train)"
   ]
  },
  {
   "cell_type": "code",
   "execution_count": 40,
   "metadata": {
    "execution": {
     "iopub.execute_input": "2021-11-08T17:15:34.921643Z",
     "iopub.status.busy": "2021-11-08T17:15:34.920644Z",
     "iopub.status.idle": "2021-11-08T17:15:35.059646Z",
     "shell.execute_reply": "2021-11-08T17:15:35.057673Z",
     "shell.execute_reply.started": "2021-11-08T17:15:34.921643Z"
    }
   },
   "outputs": [
    {
     "data": {
      "text/plain": [
       "'The accuracy score is: 87.52%'"
      ]
     },
     "execution_count": 40,
     "metadata": {},
     "output_type": "execute_result"
    }
   ],
   "source": [
    "y_pred = dtree.predict(vect_X_train)\n",
    "f'The accuracy score is: {round(accuracy_score(y_train, y_pred)*100, 2)}%'"
   ]
  },
  {
   "cell_type": "code",
   "execution_count": 41,
   "metadata": {
    "execution": {
     "iopub.execute_input": "2021-11-08T17:15:35.063655Z",
     "iopub.status.busy": "2021-11-08T17:15:35.061659Z",
     "iopub.status.idle": "2021-11-08T17:15:35.630648Z",
     "shell.execute_reply": "2021-11-08T17:15:35.628650Z",
     "shell.execute_reply.started": "2021-11-08T17:15:35.063655Z"
    }
   },
   "outputs": [
    {
     "name": "stdout",
     "output_type": "stream",
     "text": [
      "Accuracy: 87.5%\n",
      "Precision: 91.0%\n",
      "Recall: 87.2%\n",
      "F1: 88.4%\n",
      "\n",
      "\n",
      "Classification Report\n",
      "\n",
      "\n",
      "              precision    recall  f1-score   support\n",
      "\n",
      "           1       0.97      0.93      0.95      3448\n",
      "           2       0.94      0.72      0.82      6236\n",
      "           3       0.81      0.96      0.88      8715\n",
      "\n",
      "    accuracy                           0.88     18399\n",
      "   macro avg       0.91      0.87      0.88     18399\n",
      "weighted avg       0.89      0.88      0.87     18399\n",
      "\n"
     ]
    },
    {
     "data": {
      "image/png": "[encoded data removed]",
      "text/plain": [
       "<Figure size 432x288 with 2 Axes>"
      ]
     },
     "metadata": {
      "needs_background": "light"
     },
     "output_type": "display_data"
    }
   ],
   "source": [
    "scoring(y_train, y_pred, dtree, vect_X_train)"
   ]
  },
  {
   "cell_type": "markdown",
   "metadata": {},
   "source": [
    "Seems pretty good, as good or better than NB"
   ]
  },
  {
   "cell_type": "markdown",
   "metadata": {},
   "source": [
    "### Check for overfitting"
   ]
  },
  {
   "cell_type": "code",
   "execution_count": 42,
   "metadata": {
    "execution": {
     "iopub.execute_input": "2021-11-08T17:15:35.632651Z",
     "iopub.status.busy": "2021-11-08T17:15:35.631642Z",
     "iopub.status.idle": "2021-11-08T17:15:35.677646Z",
     "shell.execute_reply": "2021-11-08T17:15:35.675650Z",
     "shell.execute_reply.started": "2021-11-08T17:15:35.632651Z"
    }
   },
   "outputs": [],
   "source": [
    "test_y_pred = dtree.predict(vect_X_test)"
   ]
  },
  {
   "cell_type": "code",
   "execution_count": 43,
   "metadata": {
    "execution": {
     "iopub.execute_input": "2021-11-08T17:15:35.680645Z",
     "iopub.status.busy": "2021-11-08T17:15:35.680645Z",
     "iopub.status.idle": "2021-11-08T17:15:36.247650Z",
     "shell.execute_reply": "2021-11-08T17:15:36.245641Z",
     "shell.execute_reply.started": "2021-11-08T17:15:35.680645Z"
    }
   },
   "outputs": [
    {
     "name": "stdout",
     "output_type": "stream",
     "text": [
      "Accuracy: 79.6%\n",
      "Precision: 82.4%\n",
      "Recall: 79.5%\n",
      "F1: 80.4%\n",
      "\n",
      "\n",
      "Classification Report\n",
      "\n",
      "\n",
      "              precision    recall  f1-score   support\n",
      "\n",
      "           1       0.90      0.86      0.88       808\n",
      "           2       0.82      0.65      0.72      1582\n",
      "           3       0.75      0.88      0.81      2210\n",
      "\n",
      "    accuracy                           0.80      4600\n",
      "   macro avg       0.82      0.79      0.80      4600\n",
      "weighted avg       0.80      0.80      0.79      4600\n",
      "\n"
     ]
    },
    {
     "data": {
      "image/png": "[encoded data removed]",
      "text/plain": [
       "<Figure size 432x288 with 2 Axes>"
      ]
     },
     "metadata": {
      "needs_background": "light"
     },
     "output_type": "display_data"
    }
   ],
   "source": [
    "scoring(y_test, test_y_pred, dtree, vect_X_test)"
   ]
  },
  {
   "cell_type": "markdown",
   "metadata": {},
   "source": [
    "At a quick glance, seems to have some problem with overfitting, espectially with 'earn' precision, but overall not too bad."
   ]
  },
  {
   "cell_type": "markdown",
   "metadata": {},
   "source": [
    "## KNN"
   ]
  },
  {
   "cell_type": "code",
   "execution_count": 44,
   "metadata": {
    "execution": {
     "iopub.execute_input": "2021-11-08T17:15:36.250644Z",
     "iopub.status.busy": "2021-11-08T17:15:36.250644Z",
     "iopub.status.idle": "2021-11-08T17:15:36.326650Z",
     "shell.execute_reply": "2021-11-08T17:15:36.323640Z",
     "shell.execute_reply.started": "2021-11-08T17:15:36.250644Z"
    }
   },
   "outputs": [
    {
     "data": {
      "text/plain": [
       "KNeighborsClassifier(weights='distance')"
      ]
     },
     "execution_count": 44,
     "metadata": {},
     "output_type": "execute_result"
    }
   ],
   "source": [
    "neigh = KNeighborsClassifier(n_neighbors=5, weights='distance')\n",
    "neigh.fit(vect_X_train, y_train)"
   ]
  },
  {
   "cell_type": "code",
   "execution_count": 45,
   "metadata": {
    "execution": {
     "iopub.execute_input": "2021-11-08T17:15:36.330643Z",
     "iopub.status.busy": "2021-11-08T17:15:36.329645Z",
     "iopub.status.idle": "2021-11-08T17:16:24.729507Z",
     "shell.execute_reply": "2021-11-08T17:16:24.723330Z",
     "shell.execute_reply.started": "2021-11-08T17:15:36.329645Z"
    }
   },
   "outputs": [
    {
     "data": {
      "text/plain": [
       "'The accuracy score is: 99.83%'"
      ]
     },
     "execution_count": 45,
     "metadata": {},
     "output_type": "execute_result"
    }
   ],
   "source": [
    "y_pred = neigh.predict(vect_X_train)\n",
    "f'The accuracy score is: {round(accuracy_score(y_train, y_pred)*100, 2)}%'"
   ]
  },
  {
   "cell_type": "code",
   "execution_count": 46,
   "metadata": {
    "execution": {
     "iopub.execute_input": "2021-11-08T17:16:24.743508Z",
     "iopub.status.busy": "2021-11-08T17:16:24.741510Z",
     "iopub.status.idle": "2021-11-08T17:16:55.550508Z",
     "shell.execute_reply": "2021-11-08T17:16:55.545505Z",
     "shell.execute_reply.started": "2021-11-08T17:16:24.742511Z"
    }
   },
   "outputs": [
    {
     "name": "stdout",
     "output_type": "stream",
     "text": [
      "Accuracy: 99.8%\n",
      "Precision: 99.8%\n",
      "Recall: 99.8%\n",
      "F1: 99.8%\n",
      "\n",
      "\n",
      "Classification Report\n",
      "\n",
      "\n",
      "              precision    recall  f1-score   support\n",
      "\n",
      "           1       1.00      1.00      1.00      3448\n",
      "           2       1.00      1.00      1.00      6236\n",
      "           3       1.00      1.00      1.00      8715\n",
      "\n",
      "    accuracy                           1.00     18399\n",
      "   macro avg       1.00      1.00      1.00     18399\n",
      "weighted avg       1.00      1.00      1.00     18399\n",
      "\n"
     ]
    },
    {
     "data": {
      "image/png": "[encoded data removed]",
      "text/plain": [
       "<Figure size 432x288 with 2 Axes>"
      ]
     },
     "metadata": {
      "needs_background": "light"
     },
     "output_type": "display_data"
    }
   ],
   "source": [
    "scoring(y_train, y_pred, neigh, vect_X_train)"
   ]
  },
  {
   "cell_type": "markdown",
   "metadata": {},
   "source": [
    "Almost perfect! \n",
    "\n",
    "### Check for overfitting"
   ]
  },
  {
   "cell_type": "code",
   "execution_count": 47,
   "metadata": {
    "execution": {
     "iopub.execute_input": "2021-11-08T17:16:55.565513Z",
     "iopub.status.busy": "2021-11-08T17:16:55.563512Z",
     "iopub.status.idle": "2021-11-08T17:17:01.946510Z",
     "shell.execute_reply": "2021-11-08T17:17:01.945506Z",
     "shell.execute_reply.started": "2021-11-08T17:16:55.565513Z"
    }
   },
   "outputs": [],
   "source": [
    "test_y_pred = neigh.predict(vect_X_test)"
   ]
  },
  {
   "cell_type": "code",
   "execution_count": 48,
   "metadata": {
    "execution": {
     "iopub.execute_input": "2021-11-08T17:17:01.950507Z",
     "iopub.status.busy": "2021-11-08T17:17:01.950507Z",
     "iopub.status.idle": "2021-11-08T17:17:08.856508Z",
     "shell.execute_reply": "2021-11-08T17:17:08.855507Z",
     "shell.execute_reply.started": "2021-11-08T17:17:01.950507Z"
    }
   },
   "outputs": [
    {
     "name": "stdout",
     "output_type": "stream",
     "text": [
      "Accuracy: 84.5%\n",
      "Precision: 84.3%\n",
      "Recall: 85.0%\n",
      "F1: 84.6%\n",
      "\n",
      "\n",
      "Classification Report\n",
      "\n",
      "\n",
      "              precision    recall  f1-score   support\n",
      "\n",
      "           1       0.84      0.89      0.86       808\n",
      "           2       0.84      0.81      0.82      1582\n",
      "           3       0.85      0.86      0.85      2210\n",
      "\n",
      "    accuracy                           0.84      4600\n",
      "   macro avg       0.84      0.85      0.85      4600\n",
      "weighted avg       0.84      0.84      0.84      4600\n",
      "\n"
     ]
    },
    {
     "data": {
      "image/png": "[encoded data removed]",
      "text/plain": [
       "<Figure size 432x288 with 2 Axes>"
      ]
     },
     "metadata": {
      "needs_background": "light"
     },
     "output_type": "display_data"
    }
   ],
   "source": [
    "scoring(y_test, test_y_pred, neigh, vect_X_test)"
   ]
  },
  {
   "cell_type": "markdown",
   "metadata": {},
   "source": [
    "Does seem to have an issue with overfitting, almost 15 point difference with accuracy"
   ]
  },
  {
   "cell_type": "markdown",
   "metadata": {},
   "source": [
    "## XGBoost"
   ]
  },
  {
   "cell_type": "code",
   "execution_count": 49,
   "metadata": {
    "execution": {
     "iopub.execute_input": "2021-11-08T17:17:08.860509Z",
     "iopub.status.busy": "2021-11-08T17:17:08.859509Z",
     "iopub.status.idle": "2021-11-08T17:17:08.873509Z",
     "shell.execute_reply": "2021-11-08T17:17:08.871512Z",
     "shell.execute_reply.started": "2021-11-08T17:17:08.860509Z"
    }
   },
   "outputs": [],
   "source": [
    "xgb = XGBClassifier()"
   ]
  },
  {
   "cell_type": "code",
   "execution_count": 50,
   "metadata": {
    "execution": {
     "iopub.execute_input": "2021-11-08T17:17:08.877511Z",
     "iopub.status.busy": "2021-11-08T17:17:08.876509Z",
     "iopub.status.idle": "2021-11-08T17:30:24.078324Z",
     "shell.execute_reply": "2021-11-08T17:30:24.072328Z",
     "shell.execute_reply.started": "2021-11-08T17:17:08.877511Z"
    }
   },
   "outputs": [
    {
     "data": {
      "text/plain": [
       "XGBClassifier(objective='multi:softprob')"
      ]
     },
     "execution_count": 50,
     "metadata": {},
     "output_type": "execute_result"
    }
   ],
   "source": [
    "xgb.fit(vect_X_train, y_train)"
   ]
  },
  {
   "cell_type": "code",
   "execution_count": 51,
   "metadata": {
    "execution": {
     "iopub.execute_input": "2021-11-08T17:30:24.100327Z",
     "iopub.status.busy": "2021-11-08T17:30:24.099327Z",
     "iopub.status.idle": "2021-11-08T17:30:26.362328Z",
     "shell.execute_reply": "2021-11-08T17:30:26.361327Z",
     "shell.execute_reply.started": "2021-11-08T17:30:24.100327Z"
    }
   },
   "outputs": [
    {
     "data": {
      "text/plain": [
       "'The accuracy score is: 84.68%'"
      ]
     },
     "execution_count": 51,
     "metadata": {},
     "output_type": "execute_result"
    }
   ],
   "source": [
    "y_pred = xgb.predict(vect_X_train)\n",
    "f'The accuracy score is: {round(accuracy_score(y_train, y_pred)*100, 2)}%'"
   ]
  },
  {
   "cell_type": "code",
   "execution_count": 52,
   "metadata": {
    "execution": {
     "iopub.execute_input": "2021-11-08T17:30:26.365332Z",
     "iopub.status.busy": "2021-11-08T17:30:26.364327Z",
     "iopub.status.idle": "2021-11-08T17:30:30.094082Z",
     "shell.execute_reply": "2021-11-08T17:30:30.093080Z",
     "shell.execute_reply.started": "2021-11-08T17:30:26.365332Z"
    }
   },
   "outputs": [
    {
     "name": "stdout",
     "output_type": "stream",
     "text": [
      "Accuracy: 84.7%\n",
      "Precision: 87.6%\n",
      "Recall: 84.6%\n",
      "F1: 85.5%\n",
      "\n",
      "\n",
      "Classification Report\n",
      "\n",
      "\n",
      "              precision    recall  f1-score   support\n",
      "\n",
      "           1       0.94      0.91      0.92      3448\n",
      "           2       0.90      0.70      0.79      6236\n",
      "           3       0.79      0.92      0.85      8715\n",
      "\n",
      "    accuracy                           0.85     18399\n",
      "   macro avg       0.88      0.85      0.86     18399\n",
      "weighted avg       0.86      0.85      0.84     18399\n",
      "\n"
     ]
    },
    {
     "data": {
      "image/png": "[encoded data removed]",
      "text/plain": [
       "<Figure size 432x288 with 2 Axes>"
      ]
     },
     "metadata": {
      "needs_background": "light"
     },
     "output_type": "display_data"
    }
   ],
   "source": [
    "scoring(y_train, y_pred, xgb, vect_X_train)"
   ]
  },
  {
   "cell_type": "markdown",
   "metadata": {},
   "source": [
    "An OK model, but not as strong as Decision Tree, KNN"
   ]
  },
  {
   "cell_type": "markdown",
   "metadata": {},
   "source": [
    "### Check for overfitting"
   ]
  },
  {
   "cell_type": "code",
   "execution_count": 53,
   "metadata": {
    "execution": {
     "iopub.execute_input": "2021-11-08T17:30:30.097085Z",
     "iopub.status.busy": "2021-11-08T17:30:30.096083Z",
     "iopub.status.idle": "2021-11-08T17:30:30.837082Z",
     "shell.execute_reply": "2021-11-08T17:30:30.836079Z",
     "shell.execute_reply.started": "2021-11-08T17:30:30.097085Z"
    }
   },
   "outputs": [],
   "source": [
    "test_y_pred = xgb.predict(vect_X_test)"
   ]
  },
  {
   "cell_type": "code",
   "execution_count": 54,
   "metadata": {
    "execution": {
     "iopub.execute_input": "2021-11-08T17:30:30.840082Z",
     "iopub.status.busy": "2021-11-08T17:30:30.840082Z",
     "iopub.status.idle": "2021-11-08T17:30:31.725082Z",
     "shell.execute_reply": "2021-11-08T17:30:31.724079Z",
     "shell.execute_reply.started": "2021-11-08T17:30:30.840082Z"
    }
   },
   "outputs": [
    {
     "name": "stdout",
     "output_type": "stream",
     "text": [
      "Accuracy: 81.5%\n",
      "Precision: 84.0%\n",
      "Recall: 82.1%\n",
      "F1: 82.6%\n",
      "\n",
      "\n",
      "Classification Report\n",
      "\n",
      "\n",
      "              precision    recall  f1-score   support\n",
      "\n",
      "           1       0.91      0.90      0.90       808\n",
      "           2       0.84      0.68      0.75      1582\n",
      "           3       0.77      0.88      0.82      2210\n",
      "\n",
      "    accuracy                           0.81      4600\n",
      "   macro avg       0.84      0.82      0.83      4600\n",
      "weighted avg       0.82      0.81      0.81      4600\n",
      "\n"
     ]
    },
    {
     "data": {
      "image/png": "[encoded data removed]",
      "text/plain": [
       "<Figure size 432x288 with 2 Axes>"
      ]
     },
     "metadata": {
      "needs_background": "light"
     },
     "output_type": "display_data"
    }
   ],
   "source": [
    "scoring(y_test, test_y_pred, xgb, vect_X_test)"
   ]
  },
  {
   "cell_type": "markdown",
   "metadata": {},
   "source": [
    "Pretty good on not overfitting"
   ]
  },
  {
   "cell_type": "markdown",
   "metadata": {},
   "source": [
    "## Compare models"
   ]
  },
  {
   "cell_type": "markdown",
   "metadata": {},
   "source": [
    "I'm going to focus on recall most because "
   ]
  },
  {
   "cell_type": "code",
   "execution_count": 65,
   "metadata": {
    "execution": {
     "iopub.execute_input": "2021-11-08T18:02:00.654239Z",
     "iopub.status.busy": "2021-11-08T18:02:00.652240Z",
     "iopub.status.idle": "2021-11-08T18:02:00.804238Z",
     "shell.execute_reply": "2021-11-08T18:02:00.803237Z",
     "shell.execute_reply.started": "2021-11-08T18:02:00.654239Z"
    }
   },
   "outputs": [],
   "source": [
    "model_chart = pd.read_csv('data_files/model_comparison2.csv')"
   ]
  },
  {
   "cell_type": "code",
   "execution_count": 66,
   "metadata": {
    "execution": {
     "iopub.execute_input": "2021-11-08T18:02:02.469243Z",
     "iopub.status.busy": "2021-11-08T18:02:02.469243Z",
     "iopub.status.idle": "2021-11-08T18:02:02.591240Z",
     "shell.execute_reply": "2021-11-08T18:02:02.589239Z",
     "shell.execute_reply.started": "2021-11-08T18:02:02.469243Z"
    }
   },
   "outputs": [
    {
     "data": {
      "text/html": [
       "<div>\n",
       "<style scoped>\n",
       "    .dataframe tbody tr th:only-of-type {\n",
       "        vertical-align: middle;\n",
       "    }\n",
       "\n",
       "    .dataframe tbody tr th {\n",
       "        vertical-align: top;\n",
       "    }\n",
       "\n",
       "    .dataframe thead th {\n",
       "        text-align: right;\n",
       "    }\n",
       "</style>\n",
       "<table border=\"1\" class=\"dataframe\">\n",
       "  <thead>\n",
       "    <tr style=\"text-align: right;\">\n",
       "      <th></th>\n",
       "      <th>Model</th>\n",
       "      <th>Recall score for earn</th>\n",
       "      <th>Precision score for earn</th>\n",
       "      <th>Overfitting difference (recall)</th>\n",
       "      <th>Unnamed: 4</th>\n",
       "    </tr>\n",
       "  </thead>\n",
       "  <tbody>\n",
       "    <tr>\n",
       "      <th>0</th>\n",
       "      <td>Naive Bayes</td>\n",
       "      <td>0.79</td>\n",
       "      <td>0.95</td>\n",
       "      <td>0.02</td>\n",
       "      <td>OK</td>\n",
       "    </tr>\n",
       "    <tr>\n",
       "      <th>1</th>\n",
       "      <td>Random Forest</td>\n",
       "      <td>0.60</td>\n",
       "      <td>0.98</td>\n",
       "      <td>NaN</td>\n",
       "      <td>Didn't check for overfitting because low score</td>\n",
       "    </tr>\n",
       "    <tr>\n",
       "      <th>2</th>\n",
       "      <td>Decision Tree</td>\n",
       "      <td>0.93</td>\n",
       "      <td>0.97</td>\n",
       "      <td>0.05</td>\n",
       "      <td>Looks good</td>\n",
       "    </tr>\n",
       "    <tr>\n",
       "      <th>3</th>\n",
       "      <td>KNN</td>\n",
       "      <td>1.00</td>\n",
       "      <td>1.00</td>\n",
       "      <td>0.11</td>\n",
       "      <td>Great score, but problem with overfitting</td>\n",
       "    </tr>\n",
       "    <tr>\n",
       "      <th>4</th>\n",
       "      <td>XGBoost</td>\n",
       "      <td>0.91</td>\n",
       "      <td>0.94</td>\n",
       "      <td>0.90</td>\n",
       "      <td>High performing with overfitting</td>\n",
       "    </tr>\n",
       "  </tbody>\n",
       "</table>\n",
       "</div>"
      ],
      "text/plain": [
       "           Model  Recall score for earn  Precision score for earn  \\\n",
       "0    Naive Bayes                   0.79                      0.95   \n",
       "1  Random Forest                   0.60                      0.98   \n",
       "2  Decision Tree                   0.93                      0.97   \n",
       "3            KNN                   1.00                      1.00   \n",
       "4        XGBoost                   0.91                      0.94   \n",
       "\n",
       "   Overfitting difference (recall)  \\\n",
       "0                             0.02   \n",
       "1                              NaN   \n",
       "2                             0.05   \n",
       "3                             0.11   \n",
       "4                             0.90   \n",
       "\n",
       "                                       Unnamed: 4  \n",
       "0                                              OK  \n",
       "1  Didn't check for overfitting because low score  \n",
       "2                                      Looks good  \n",
       "3       Great score, but problem with overfitting  \n",
       "4                High performing with overfitting  "
      ]
     },
     "execution_count": 66,
     "metadata": {},
     "output_type": "execute_result"
    }
   ],
   "source": [
    "model_chart"
   ]
  },
  {
   "cell_type": "code",
   "execution_count": null,
   "metadata": {},
   "outputs": [],
   "source": []
  }
 ],
 "metadata": {
  "kernelspec": {
   "display_name": "Python 3",
   "language": "python",
   "name": "python3"
  },
  "language_info": {
   "codemirror_mode": {
    "name": "ipython",
    "version": 3
   },
   "file_extension": ".py",
   "mimetype": "text/x-python",
   "name": "python",
   "nbconvert_exporter": "python",
   "pygments_lexer": "ipython3",
   "version": "3.6.9"
  }
 },
 "nbformat": 4,
 "nbformat_minor": 4
}
