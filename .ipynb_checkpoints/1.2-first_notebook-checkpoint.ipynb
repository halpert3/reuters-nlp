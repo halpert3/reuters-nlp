{
 "cells": [
  {
   "cell_type": "code",
   "execution_count": 39,
   "metadata": {
    "execution": {
     "iopub.execute_input": "2021-10-28T20:20:13.478404Z",
     "iopub.status.busy": "2021-10-28T20:20:13.477405Z",
     "iopub.status.idle": "2021-10-28T20:20:13.503405Z",
     "shell.execute_reply": "2021-10-28T20:20:13.501405Z",
     "shell.execute_reply.started": "2021-10-28T20:20:13.478404Z"
    }
   },
   "outputs": [],
   "source": [
    "import pandas as pd\n",
    "import numpy as np\n",
    "from bs4 import BeautifulSoup\n",
    "import os"
   ]
  },
  {
   "cell_type": "code",
   "execution_count": 40,
   "metadata": {
    "execution": {
     "iopub.execute_input": "2021-10-28T20:20:13.507407Z",
     "iopub.status.busy": "2021-10-28T20:20:13.507407Z",
     "iopub.status.idle": "2021-10-28T20:20:13.518408Z",
     "shell.execute_reply": "2021-10-28T20:20:13.517407Z",
     "shell.execute_reply.started": "2021-10-28T20:20:13.507407Z"
    }
   },
   "outputs": [],
   "source": [
    "f = open('data_files/reut2-000.sgm', encoding='utf-8', errors='ignore')\n",
    "dataFile = f.read()"
   ]
  },
  {
   "cell_type": "code",
   "execution_count": 41,
   "metadata": {
    "execution": {
     "iopub.execute_input": "2021-10-28T20:20:13.521406Z",
     "iopub.status.busy": "2021-10-28T20:20:13.521406Z",
     "iopub.status.idle": "2021-10-28T20:20:13.550405Z",
     "shell.execute_reply": "2021-10-28T20:20:13.549404Z",
     "shell.execute_reply.started": "2021-10-28T20:20:13.521406Z"
    }
   },
   "outputs": [
    {
     "data": {
      "text/plain": [
       "str"
      ]
     },
     "execution_count": 41,
     "metadata": {},
     "output_type": "execute_result"
    }
   ],
   "source": [
    "type(dataFile)"
   ]
  },
  {
   "cell_type": "code",
   "execution_count": 42,
   "metadata": {
    "execution": {
     "iopub.execute_input": "2021-10-28T20:20:13.552408Z",
     "iopub.status.busy": "2021-10-28T20:20:13.552408Z",
     "iopub.status.idle": "2021-10-28T20:20:13.566406Z",
     "shell.execute_reply": "2021-10-28T20:20:13.565404Z",
     "shell.execute_reply.started": "2021-10-28T20:20:13.552408Z"
    }
   },
   "outputs": [
    {
     "data": {
      "text/plain": [
       "'<!DOCTYPE lewis SYSTEM \"lewis.dtd\">\\n<REUTERS TOPICS=\"YES\" LEWISSPLIT=\"TRAIN\" CGISPLIT=\"TRAINING-SET\" OLDID=\"5544\" NEWID=\"1\">\\n<DATE>26-FEB-1987 15:01:01.79</DATE>\\n<TOPICS><D>cocoa</D></TOPICS>\\n<PLACES><D>el-salvador</D><D>usa</D><D>uruguay</D></PLACES>\\n<PEOPLE></PEOPLE>\\n<ORGS></ORGS>\\n<EXCHANGES></EXCHANGES>\\n<COMPANIES></COMPANIES>\\n<UNKNOWN> \\n&#5;&#5;&#5;C T\\n&#22;&#22;&#1;f0704&#31;reute\\nu f BC-BAHIA-COCOA-REVIEW   02-26 0105</UNKNOWN>\\n<TEXT>&#2;\\n<TITLE>BAHIA COCOA REVIEW</TITLE>\\n<DATELINE>    SAL'"
      ]
     },
     "execution_count": 42,
     "metadata": {},
     "output_type": "execute_result"
    }
   ],
   "source": [
    "dataFile[0:500]"
   ]
  },
  {
   "cell_type": "code",
   "execution_count": 56,
   "metadata": {
    "execution": {
     "iopub.execute_input": "2021-10-28T20:22:08.881169Z",
     "iopub.status.busy": "2021-10-28T20:22:08.881169Z",
     "iopub.status.idle": "2021-10-28T20:22:09.599168Z",
     "shell.execute_reply": "2021-10-28T20:22:09.598168Z",
     "shell.execute_reply.started": "2021-10-28T20:22:08.881169Z"
    }
   },
   "outputs": [],
   "source": [
    "soup = BeautifulSoup(dataFile,'lxml')"
   ]
  },
  {
   "cell_type": "code",
   "execution_count": 44,
   "metadata": {
    "execution": {
     "iopub.execute_input": "2021-10-28T20:20:14.933405Z",
     "iopub.status.busy": "2021-10-28T20:20:14.933405Z",
     "iopub.status.idle": "2021-10-28T20:20:14.948408Z",
     "shell.execute_reply": "2021-10-28T20:20:14.946408Z",
     "shell.execute_reply.started": "2021-10-28T20:20:14.933405Z"
    }
   },
   "outputs": [
    {
     "data": {
      "text/plain": [
       "bs4.BeautifulSoup"
      ]
     },
     "execution_count": 44,
     "metadata": {},
     "output_type": "execute_result"
    }
   ],
   "source": [
    "type(soup)"
   ]
  },
  {
   "cell_type": "code",
   "execution_count": 45,
   "metadata": {
    "execution": {
     "iopub.execute_input": "2021-10-28T20:20:14.951408Z",
     "iopub.status.busy": "2021-10-28T20:20:14.950407Z",
     "iopub.status.idle": "2021-10-28T20:20:15.029423Z",
     "shell.execute_reply": "2021-10-28T20:20:15.026408Z",
     "shell.execute_reply.started": "2021-10-28T20:20:14.951408Z"
    }
   },
   "outputs": [],
   "source": [
    "content = soup.findAll('reuters')"
   ]
  },
  {
   "cell_type": "code",
   "execution_count": 46,
   "metadata": {
    "execution": {
     "iopub.execute_input": "2021-10-28T20:20:15.035410Z",
     "iopub.status.busy": "2021-10-28T20:20:15.034414Z",
     "iopub.status.idle": "2021-10-28T20:20:15.062421Z",
     "shell.execute_reply": "2021-10-28T20:20:15.058407Z",
     "shell.execute_reply.started": "2021-10-28T20:20:15.035410Z"
    }
   },
   "outputs": [
    {
     "data": {
      "text/plain": [
       "bs4.element.ResultSet"
      ]
     },
     "execution_count": 46,
     "metadata": {},
     "output_type": "execute_result"
    }
   ],
   "source": [
    "type(content)"
   ]
  },
  {
   "cell_type": "code",
   "execution_count": 47,
   "metadata": {
    "execution": {
     "iopub.execute_input": "2021-10-28T20:20:15.068407Z",
     "iopub.status.busy": "2021-10-28T20:20:15.067410Z",
     "iopub.status.idle": "2021-10-28T20:20:15.092409Z",
     "shell.execute_reply": "2021-10-28T20:20:15.090407Z",
     "shell.execute_reply.started": "2021-10-28T20:20:15.068407Z"
    }
   },
   "outputs": [
    {
     "data": {
      "text/plain": [
       "1000"
      ]
     },
     "execution_count": 47,
     "metadata": {},
     "output_type": "execute_result"
    }
   ],
   "source": [
    "len(content)"
   ]
  },
  {
   "cell_type": "code",
   "execution_count": 57,
   "metadata": {
    "execution": {
     "iopub.execute_input": "2021-10-28T20:24:03.268178Z",
     "iopub.status.busy": "2021-10-28T20:24:03.267179Z",
     "iopub.status.idle": "2021-10-28T20:24:03.278179Z",
     "shell.execute_reply": "2021-10-28T20:24:03.276179Z",
     "shell.execute_reply.started": "2021-10-28T20:24:03.268178Z"
    }
   },
   "outputs": [],
   "source": [
    "cont = content[0]"
   ]
  },
  {
   "cell_type": "code",
   "execution_count": 58,
   "metadata": {
    "execution": {
     "iopub.execute_input": "2021-10-28T20:24:04.820055Z",
     "iopub.status.busy": "2021-10-28T20:24:04.820055Z",
     "iopub.status.idle": "2021-10-28T20:24:04.838058Z",
     "shell.execute_reply": "2021-10-28T20:24:04.836059Z",
     "shell.execute_reply.started": "2021-10-28T20:24:04.820055Z"
    }
   },
   "outputs": [
    {
     "data": {
      "text/plain": [
       "bs4.element.Tag"
      ]
     },
     "execution_count": 58,
     "metadata": {},
     "output_type": "execute_result"
    }
   ],
   "source": [
    "type(cont)"
   ]
  },
  {
   "cell_type": "code",
   "execution_count": 76,
   "metadata": {
    "execution": {
     "iopub.execute_input": "2021-10-28T20:38:19.283896Z",
     "iopub.status.busy": "2021-10-28T20:38:19.282892Z",
     "iopub.status.idle": "2021-10-28T20:38:19.290893Z",
     "shell.execute_reply": "2021-10-28T20:38:19.289899Z",
     "shell.execute_reply.started": "2021-10-28T20:38:19.283896Z"
    }
   },
   "outputs": [
    {
     "data": {
      "text/plain": [
       "<topics><d>cocoa</d></topics>"
      ]
     },
     "execution_count": 76,
     "metadata": {},
     "output_type": "execute_result"
    }
   ],
   "source": [
    "cont.topics"
   ]
  },
  {
   "cell_type": "markdown",
   "metadata": {},
   "source": [
    "This is what I was looking for"
   ]
  },
  {
   "cell_type": "code",
   "execution_count": 75,
   "metadata": {
    "execution": {
     "iopub.execute_input": "2021-10-28T20:38:04.668416Z",
     "iopub.status.busy": "2021-10-28T20:38:04.667416Z",
     "iopub.status.idle": "2021-10-28T20:38:04.688416Z",
     "shell.execute_reply": "2021-10-28T20:38:04.687413Z",
     "shell.execute_reply.started": "2021-10-28T20:38:04.668416Z"
    }
   },
   "outputs": [
    {
     "data": {
      "text/plain": [
       "<d>cocoa</d>"
      ]
     },
     "execution_count": 75,
     "metadata": {},
     "output_type": "execute_result"
    }
   ],
   "source": [
    "cont.topics.d"
   ]
  },
  {
   "cell_type": "markdown",
   "metadata": {},
   "source": [
    "https://www.youtube.com/watch?v=GjKQ6V_ViQE Stopped at 13:30"
   ]
  },
  {
   "cell_type": "code",
   "execution_count": 50,
   "metadata": {
    "execution": {
     "iopub.execute_input": "2021-10-28T20:20:15.144431Z",
     "iopub.status.busy": "2021-10-28T20:20:15.142410Z",
     "iopub.status.idle": "2021-10-28T20:20:15.579409Z",
     "shell.execute_reply": "2021-10-28T20:20:15.578407Z",
     "shell.execute_reply.started": "2021-10-28T20:20:15.144431Z"
    }
   },
   "outputs": [],
   "source": [
    "all_topics = soup.select(\"topics d\")"
   ]
  },
  {
   "cell_type": "code",
   "execution_count": 51,
   "metadata": {
    "execution": {
     "iopub.execute_input": "2021-10-28T20:20:15.582409Z",
     "iopub.status.busy": "2021-10-28T20:20:15.581408Z",
     "iopub.status.idle": "2021-10-28T20:20:15.597409Z",
     "shell.execute_reply": "2021-10-28T20:20:15.594409Z",
     "shell.execute_reply.started": "2021-10-28T20:20:15.582409Z"
    }
   },
   "outputs": [
    {
     "data": {
      "text/plain": [
       "list"
      ]
     },
     "execution_count": 51,
     "metadata": {},
     "output_type": "execute_result"
    }
   ],
   "source": [
    "type(all_topics)"
   ]
  },
  {
   "cell_type": "code",
   "execution_count": 52,
   "metadata": {
    "execution": {
     "iopub.execute_input": "2021-10-28T20:20:15.602411Z",
     "iopub.status.busy": "2021-10-28T20:20:15.601408Z",
     "iopub.status.idle": "2021-10-28T20:20:15.629415Z",
     "shell.execute_reply": "2021-10-28T20:20:15.626422Z",
     "shell.execute_reply.started": "2021-10-28T20:20:15.602411Z"
    }
   },
   "outputs": [
    {
     "data": {
      "text/plain": [
       "<d>cocoa</d>"
      ]
     },
     "execution_count": 52,
     "metadata": {},
     "output_type": "execute_result"
    }
   ],
   "source": [
    "all_topics[0]"
   ]
  },
  {
   "cell_type": "code",
   "execution_count": 53,
   "metadata": {
    "execution": {
     "iopub.execute_input": "2021-10-28T20:20:15.632410Z",
     "iopub.status.busy": "2021-10-28T20:20:15.631409Z",
     "iopub.status.idle": "2021-10-28T20:20:15.662408Z",
     "shell.execute_reply": "2021-10-28T20:20:15.658407Z",
     "shell.execute_reply.started": "2021-10-28T20:20:15.632410Z"
    }
   },
   "outputs": [
    {
     "data": {
      "text/plain": [
       "670"
      ]
     },
     "execution_count": 53,
     "metadata": {},
     "output_type": "execute_result"
    }
   ],
   "source": [
    "len(all_topics)"
   ]
  },
  {
   "cell_type": "code",
   "execution_count": 54,
   "metadata": {
    "execution": {
     "iopub.execute_input": "2021-10-28T20:20:15.667409Z",
     "iopub.status.busy": "2021-10-28T20:20:15.666410Z",
     "iopub.status.idle": "2021-10-28T20:20:15.692408Z",
     "shell.execute_reply": "2021-10-28T20:20:15.690407Z",
     "shell.execute_reply.started": "2021-10-28T20:20:15.667409Z"
    }
   },
   "outputs": [
    {
     "data": {
      "text/plain": [
       "<topics><d>cocoa</d></topics>"
      ]
     },
     "execution_count": 54,
     "metadata": {},
     "output_type": "execute_result"
    }
   ],
   "source": [
    "soup.topics"
   ]
  },
  {
   "cell_type": "code",
   "execution_count": 88,
   "metadata": {
    "execution": {
     "iopub.execute_input": "2021-10-28T20:44:49.454996Z",
     "iopub.status.busy": "2021-10-28T20:44:49.454996Z",
     "iopub.status.idle": "2021-10-28T20:44:49.487998Z",
     "shell.execute_reply": "2021-10-28T20:44:49.486001Z",
     "shell.execute_reply.started": "2021-10-28T20:44:49.454996Z"
    }
   },
   "outputs": [
    {
     "data": {
      "text/plain": [
       "bs4.element.ResultSet"
      ]
     },
     "execution_count": 88,
     "metadata": {},
     "output_type": "execute_result"
    }
   ],
   "source": [
    "type(soup.findAll('topics'))"
   ]
  },
  {
   "cell_type": "code",
   "execution_count": null,
   "metadata": {},
   "outputs": [],
   "source": [
    "content = soup.findAll('reuters')"
   ]
  },
  {
   "cell_type": "code",
   "execution_count": null,
   "metadata": {},
   "outputs": [],
   "source": []
  }
 ],
 "metadata": {
  "kernelspec": {
   "display_name": "Python 3",
   "language": "python",
   "name": "python3"
  },
  "language_info": {
   "codemirror_mode": {
    "name": "ipython",
    "version": 3
   },
   "file_extension": ".py",
   "mimetype": "text/x-python",
   "name": "python",
   "nbconvert_exporter": "python",
   "pygments_lexer": "ipython3",
   "version": "3.6.9"
  }
 },
 "nbformat": 4,
 "nbformat_minor": 4
}
