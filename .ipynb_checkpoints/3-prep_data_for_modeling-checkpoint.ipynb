{
 "cells": [
  {
   "cell_type": "code",
   "execution_count": 31,
   "metadata": {
    "execution": {
     "iopub.execute_input": "2021-11-05T02:34:55.624356Z",
     "iopub.status.busy": "2021-11-05T02:34:55.623359Z",
     "iopub.status.idle": "2021-11-05T02:34:55.644356Z",
     "shell.execute_reply": "2021-11-05T02:34:55.643356Z",
     "shell.execute_reply.started": "2021-11-05T02:34:55.624356Z"
    }
   },
   "outputs": [],
   "source": [
    "import pandas as pd\n",
    "import numpy as np\n",
    "import nltk\n",
    "from nltk.corpus import stopwords\n",
    "from nltk import word_tokenize, FreqDist\n",
    "from nltk.stem.wordnet import WordNetLemmatizer\n",
    "import string"
   ]
  },
  {
   "cell_type": "code",
   "execution_count": 32,
   "metadata": {
    "execution": {
     "iopub.execute_input": "2021-11-05T02:34:55.649354Z",
     "iopub.status.busy": "2021-11-05T02:34:55.648357Z",
     "iopub.status.idle": "2021-11-05T02:34:55.932356Z",
     "shell.execute_reply": "2021-11-05T02:34:55.930354Z",
     "shell.execute_reply.started": "2021-11-05T02:34:55.649354Z"
    }
   },
   "outputs": [],
   "source": [
    "df = pd.read_csv('data_files/topics_and_text.csv')"
   ]
  },
  {
   "cell_type": "code",
   "execution_count": 33,
   "metadata": {
    "execution": {
     "iopub.execute_input": "2021-11-05T02:34:55.935355Z",
     "iopub.status.busy": "2021-11-05T02:34:55.934355Z",
     "iopub.status.idle": "2021-11-05T02:34:55.963356Z",
     "shell.execute_reply": "2021-11-05T02:34:55.961357Z",
     "shell.execute_reply.started": "2021-11-05T02:34:55.935355Z"
    }
   },
   "outputs": [
    {
     "data": {
      "text/html": [
       "<div>\n",
       "<style scoped>\n",
       "    .dataframe tbody tr th:only-of-type {\n",
       "        vertical-align: middle;\n",
       "    }\n",
       "\n",
       "    .dataframe tbody tr th {\n",
       "        vertical-align: top;\n",
       "    }\n",
       "\n",
       "    .dataframe thead th {\n",
       "        text-align: right;\n",
       "    }\n",
       "</style>\n",
       "<table border=\"1\" class=\"dataframe\">\n",
       "  <thead>\n",
       "    <tr style=\"text-align: right;\">\n",
       "      <th></th>\n",
       "      <th>topic</th>\n",
       "      <th>text</th>\n",
       "    </tr>\n",
       "  </thead>\n",
       "  <tbody>\n",
       "    <tr>\n",
       "      <th>0</th>\n",
       "      <td>other</td>\n",
       "      <td>BAHIA COCOA REVIEW SALVADOR, Feb 26 - Showers ...</td>\n",
       "    </tr>\n",
       "    <tr>\n",
       "      <th>1</th>\n",
       "      <td>blank</td>\n",
       "      <td>STANDARD OIL &lt;SRD&gt; TO FORM FINANCIAL UNIT CLEV...</td>\n",
       "    </tr>\n",
       "    <tr>\n",
       "      <th>2</th>\n",
       "      <td>blank</td>\n",
       "      <td>TEXAS COMMERCE BANCSHARES &lt;TCB&gt; FILES PLAN HOU...</td>\n",
       "    </tr>\n",
       "    <tr>\n",
       "      <th>3</th>\n",
       "      <td>blank</td>\n",
       "      <td>TALKING POINT/BANKAMERICA &lt;BAC&gt; EQUITY OFFER b...</td>\n",
       "    </tr>\n",
       "    <tr>\n",
       "      <th>4</th>\n",
       "      <td>other</td>\n",
       "      <td>NATIONAL AVERAGE PRICES FOR FARMER-OWNED RESER...</td>\n",
       "    </tr>\n",
       "    <tr>\n",
       "      <th>5</th>\n",
       "      <td>other</td>\n",
       "      <td>ARGENTINE 1986/87 GRAIN/OILSEED REGISTRATIONS ...</td>\n",
       "    </tr>\n",
       "    <tr>\n",
       "      <th>6</th>\n",
       "      <td>blank</td>\n",
       "      <td>RED LION INNS FILES PLANS OFFERING PORTLAND, O...</td>\n",
       "    </tr>\n",
       "    <tr>\n",
       "      <th>7</th>\n",
       "      <td>blank</td>\n",
       "      <td>USX &lt;X&gt; DEBT DOWGRADED BY MOODY'S NEW YORK, Fe...</td>\n",
       "    </tr>\n",
       "    <tr>\n",
       "      <th>8</th>\n",
       "      <td>earn</td>\n",
       "      <td>CHAMPION PRODUCTS &lt;CH&gt; APPROVES STOCK SPLIT RO...</td>\n",
       "    </tr>\n",
       "    <tr>\n",
       "      <th>9</th>\n",
       "      <td>other</td>\n",
       "      <td>COMPUTER TERMINAL SYSTEMS &lt;CPML&gt; COMPLETES SAL...</td>\n",
       "    </tr>\n",
       "  </tbody>\n",
       "</table>\n",
       "</div>"
      ],
      "text/plain": [
       "   topic                                               text\n",
       "0  other  BAHIA COCOA REVIEW SALVADOR, Feb 26 - Showers ...\n",
       "1  blank  STANDARD OIL <SRD> TO FORM FINANCIAL UNIT CLEV...\n",
       "2  blank  TEXAS COMMERCE BANCSHARES <TCB> FILES PLAN HOU...\n",
       "3  blank  TALKING POINT/BANKAMERICA <BAC> EQUITY OFFER b...\n",
       "4  other  NATIONAL AVERAGE PRICES FOR FARMER-OWNED RESER...\n",
       "5  other  ARGENTINE 1986/87 GRAIN/OILSEED REGISTRATIONS ...\n",
       "6  blank  RED LION INNS FILES PLANS OFFERING PORTLAND, O...\n",
       "7  blank  USX <X> DEBT DOWGRADED BY MOODY'S NEW YORK, Fe...\n",
       "8   earn  CHAMPION PRODUCTS <CH> APPROVES STOCK SPLIT RO...\n",
       "9  other  COMPUTER TERMINAL SYSTEMS <CPML> COMPLETES SAL..."
      ]
     },
     "execution_count": 33,
     "metadata": {},
     "output_type": "execute_result"
    }
   ],
   "source": [
    "df.head(10)"
   ]
  },
  {
   "cell_type": "code",
   "execution_count": 34,
   "metadata": {
    "execution": {
     "iopub.execute_input": "2021-11-05T02:34:55.967358Z",
     "iopub.status.busy": "2021-11-05T02:34:55.966358Z",
     "iopub.status.idle": "2021-11-05T02:34:56.010358Z",
     "shell.execute_reply": "2021-11-05T02:34:56.008355Z",
     "shell.execute_reply.started": "2021-11-05T02:34:55.967358Z"
    }
   },
   "outputs": [
    {
     "data": {
      "text/plain": [
       "'CHAMPION PRODUCTS <CH> APPROVES STOCK SPLIT ROCHESTER, N.Y., Feb 26 - Champion Products Inc said its board of directors approved a two-for-one stock split of its common shares for shareholders of record as of April 1, 1987. The company also said its board voted to recommend to shareholders at the annual meeting April 23 an increase in the authorized capital stock from five mln to 25 mln shares. Reuter'"
      ]
     },
     "execution_count": 34,
     "metadata": {},
     "output_type": "execute_result"
    }
   ],
   "source": [
    "df.loc[8].text"
   ]
  },
  {
   "cell_type": "code",
   "execution_count": 35,
   "metadata": {
    "execution": {
     "iopub.execute_input": "2021-11-05T02:34:56.014365Z",
     "iopub.status.busy": "2021-11-05T02:34:56.013354Z",
     "iopub.status.idle": "2021-11-05T02:34:56.041358Z",
     "shell.execute_reply": "2021-11-05T02:34:56.039358Z",
     "shell.execute_reply.started": "2021-11-05T02:34:56.014365Z"
    }
   },
   "outputs": [
    {
     "data": {
      "text/plain": [
       "'blank'"
      ]
     },
     "execution_count": 35,
     "metadata": {},
     "output_type": "execute_result"
    }
   ],
   "source": [
    "df.loc[1003].topic"
   ]
  },
  {
   "cell_type": "code",
   "execution_count": 36,
   "metadata": {
    "execution": {
     "iopub.execute_input": "2021-11-05T02:34:56.045358Z",
     "iopub.status.busy": "2021-11-05T02:34:56.044355Z",
     "iopub.status.idle": "2021-11-05T02:34:56.058362Z",
     "shell.execute_reply": "2021-11-05T02:34:56.055356Z",
     "shell.execute_reply.started": "2021-11-05T02:34:56.045358Z"
    }
   },
   "outputs": [
    {
     "data": {
      "text/plain": [
       "22999"
      ]
     },
     "execution_count": 36,
     "metadata": {},
     "output_type": "execute_result"
    }
   ],
   "source": [
    "len(df)"
   ]
  },
  {
   "cell_type": "markdown",
   "metadata": {},
   "source": [
    "## Loop through texts to remove stopwords, tokenize and lemmatize"
   ]
  },
  {
   "cell_type": "code",
   "execution_count": 37,
   "metadata": {
    "execution": {
     "iopub.execute_input": "2021-11-05T02:34:56.062357Z",
     "iopub.status.busy": "2021-11-05T02:34:56.061357Z",
     "iopub.status.idle": "2021-11-05T02:34:56.104359Z",
     "shell.execute_reply": "2021-11-05T02:34:56.102359Z",
     "shell.execute_reply.started": "2021-11-05T02:34:56.062357Z"
    }
   },
   "outputs": [],
   "source": [
    "stopwords_list = stopwords.words('english') + list(string.punctuation)\n",
    "stopwords_list.append('...')\n",
    "\n"
   ]
  },
  {
   "cell_type": "code",
   "execution_count": 38,
   "metadata": {
    "execution": {
     "iopub.execute_input": "2021-11-05T02:34:56.111357Z",
     "iopub.status.busy": "2021-11-05T02:34:56.110356Z",
     "iopub.status.idle": "2021-11-05T02:34:56.151359Z",
     "shell.execute_reply": "2021-11-05T02:34:56.149355Z",
     "shell.execute_reply.started": "2021-11-05T02:34:56.111357Z"
    }
   },
   "outputs": [],
   "source": [
    "def process_text(text):\n",
    "    tokens = nltk.word_tokenize(text)\n",
    "    stopwords_removed = [token.lower() for token in tokens if token.lower() not in stopwords_list]\n",
    "    \n",
    "    # adding line to remove all tokens with numbers and punctuation\n",
    "    stopwords_punc_and_numbers_removed = [word for word in stopwords_removed if word.isalpha()]\n",
    "    \n",
    "    return stopwords_punc_and_numbers_removed\n",
    "\n",
    "# function to concatenate a list of words into a single, space-separated string (used in function below)\n",
    "def concat_words(list_of_words):\n",
    "\n",
    "    concat_words = ''\n",
    "    for word in list_of_words:\n",
    "        concat_words += word + ' '\n",
    "    return concat_words.strip()\n",
    "\n",
    "# function to lemmatize words and merge each text into a single, space-separated string\n",
    "\n",
    "lemm = WordNetLemmatizer()\n",
    "\n",
    "def make_lemma_and_concat(list_of_words):\n",
    "    # remove any NaN's\n",
    "    list_of_words = [i for i in list_of_words if i is not np.nan]\n",
    "    \n",
    "    # lemmatize each word\n",
    "    lemmatized_list = []\n",
    "    for idx, word in enumerate(list_of_words):\n",
    "        lemmatized_list.append(lemm.lemmatize(word))\n",
    "    \n",
    "    # make the list into a single string \n",
    "    concatenated_string = concat_words(lemmatized_list)\n",
    "    return concatenated_string"
   ]
  },
  {
   "cell_type": "markdown",
   "metadata": {},
   "source": [
    "## Prepare dataframe for modeling"
   ]
  },
  {
   "cell_type": "code",
   "execution_count": 39,
   "metadata": {
    "execution": {
     "iopub.execute_input": "2021-11-05T02:34:56.157371Z",
     "iopub.status.busy": "2021-11-05T02:34:56.155358Z",
     "iopub.status.idle": "2021-11-05T02:36:22.953024Z",
     "shell.execute_reply": "2021-11-05T02:36:22.952023Z",
     "shell.execute_reply.started": "2021-11-05T02:34:56.156360Z"
    }
   },
   "outputs": [
    {
     "name": "stdout",
     "output_type": "stream",
     "text": [
      "Finished line number 0\n",
      "Finished line number 3000\n",
      "Finished line number 6000\n",
      "Finished line number 9000\n",
      "Finished line number 12000\n",
      "Finished line number 15000\n",
      "Finished line number 18000\n",
      "Finished line number 21000\n"
     ]
    },
    {
     "data": {
      "text/html": [
       "<div>\n",
       "<style scoped>\n",
       "    .dataframe tbody tr th:only-of-type {\n",
       "        vertical-align: middle;\n",
       "    }\n",
       "\n",
       "    .dataframe tbody tr th {\n",
       "        vertical-align: top;\n",
       "    }\n",
       "\n",
       "    .dataframe thead th {\n",
       "        text-align: right;\n",
       "    }\n",
       "</style>\n",
       "<table border=\"1\" class=\"dataframe\">\n",
       "  <thead>\n",
       "    <tr style=\"text-align: right;\">\n",
       "      <th></th>\n",
       "      <th>topic</th>\n",
       "      <th>text</th>\n",
       "    </tr>\n",
       "  </thead>\n",
       "  <tbody>\n",
       "    <tr>\n",
       "      <th>0</th>\n",
       "      <td>other</td>\n",
       "      <td>bahia cocoa review salvador feb shower continu...</td>\n",
       "    </tr>\n",
       "    <tr>\n",
       "      <th>1</th>\n",
       "      <td>blank</td>\n",
       "      <td>standard oil srd form financial unit cleveland...</td>\n",
       "    </tr>\n",
       "    <tr>\n",
       "      <th>2</th>\n",
       "      <td>blank</td>\n",
       "      <td>texas commerce bancshares tcb file plan housto...</td>\n",
       "    </tr>\n",
       "    <tr>\n",
       "      <th>3</th>\n",
       "      <td>blank</td>\n",
       "      <td>talking bac equity offer janie gabbett reuters...</td>\n",
       "    </tr>\n",
       "    <tr>\n",
       "      <th>4</th>\n",
       "      <td>other</td>\n",
       "      <td>national average price reserve washington feb ...</td>\n",
       "    </tr>\n",
       "  </tbody>\n",
       "</table>\n",
       "</div>"
      ],
      "text/plain": [
       "   topic                                               text\n",
       "0  other  bahia cocoa review salvador feb shower continu...\n",
       "1  blank  standard oil srd form financial unit cleveland...\n",
       "2  blank  texas commerce bancshares tcb file plan housto...\n",
       "3  blank  talking bac equity offer janie gabbett reuters...\n",
       "4  other  national average price reserve washington feb ..."
      ]
     },
     "execution_count": 39,
     "metadata": {},
     "output_type": "execute_result"
    }
   ],
   "source": [
    "for i in range(len(df)):\n",
    "    processed_text = process_text(df['text'].loc[i])\n",
    "    txt = make_lemma_and_concat(processed_text)\n",
    "    df['text'].loc[i] = txt\n",
    "    if i % 3000 == 0:\n",
    "        print(f'Finished line number {i}')\n",
    "df.head()"
   ]
  },
  {
   "cell_type": "code",
   "execution_count": 40,
   "metadata": {
    "execution": {
     "iopub.execute_input": "2021-11-05T02:36:22.956028Z",
     "iopub.status.busy": "2021-11-05T02:36:22.956028Z",
     "iopub.status.idle": "2021-11-05T02:36:22.988028Z",
     "shell.execute_reply": "2021-11-05T02:36:22.985032Z",
     "shell.execute_reply.started": "2021-11-05T02:36:22.956028Z"
    }
   },
   "outputs": [
    {
     "data": {
      "text/html": [
       "<div>\n",
       "<style scoped>\n",
       "    .dataframe tbody tr th:only-of-type {\n",
       "        vertical-align: middle;\n",
       "    }\n",
       "\n",
       "    .dataframe tbody tr th {\n",
       "        vertical-align: top;\n",
       "    }\n",
       "\n",
       "    .dataframe thead th {\n",
       "        text-align: right;\n",
       "    }\n",
       "</style>\n",
       "<table border=\"1\" class=\"dataframe\">\n",
       "  <thead>\n",
       "    <tr style=\"text-align: right;\">\n",
       "      <th></th>\n",
       "      <th>topic</th>\n",
       "      <th>text</th>\n",
       "    </tr>\n",
       "  </thead>\n",
       "  <tbody>\n",
       "    <tr>\n",
       "      <th>0</th>\n",
       "      <td>other</td>\n",
       "      <td>bahia cocoa review salvador feb shower continu...</td>\n",
       "    </tr>\n",
       "    <tr>\n",
       "      <th>1</th>\n",
       "      <td>blank</td>\n",
       "      <td>standard oil srd form financial unit cleveland...</td>\n",
       "    </tr>\n",
       "    <tr>\n",
       "      <th>2</th>\n",
       "      <td>blank</td>\n",
       "      <td>texas commerce bancshares tcb file plan housto...</td>\n",
       "    </tr>\n",
       "    <tr>\n",
       "      <th>3</th>\n",
       "      <td>blank</td>\n",
       "      <td>talking bac equity offer janie gabbett reuters...</td>\n",
       "    </tr>\n",
       "    <tr>\n",
       "      <th>4</th>\n",
       "      <td>other</td>\n",
       "      <td>national average price reserve washington feb ...</td>\n",
       "    </tr>\n",
       "    <tr>\n",
       "      <th>5</th>\n",
       "      <td>other</td>\n",
       "      <td>argentine registration buenos aire feb argenti...</td>\n",
       "    </tr>\n",
       "    <tr>\n",
       "      <th>6</th>\n",
       "      <td>blank</td>\n",
       "      <td>red lion inn file plan offering portland feb r...</td>\n",
       "    </tr>\n",
       "    <tr>\n",
       "      <th>7</th>\n",
       "      <td>blank</td>\n",
       "      <td>usx x debt dowgraded moody new york feb moody ...</td>\n",
       "    </tr>\n",
       "    <tr>\n",
       "      <th>8</th>\n",
       "      <td>earn</td>\n",
       "      <td>champion product ch approves stock split roche...</td>\n",
       "    </tr>\n",
       "    <tr>\n",
       "      <th>9</th>\n",
       "      <td>other</td>\n",
       "      <td>computer terminal system cpml completes sale c...</td>\n",
       "    </tr>\n",
       "  </tbody>\n",
       "</table>\n",
       "</div>"
      ],
      "text/plain": [
       "   topic                                               text\n",
       "0  other  bahia cocoa review salvador feb shower continu...\n",
       "1  blank  standard oil srd form financial unit cleveland...\n",
       "2  blank  texas commerce bancshares tcb file plan housto...\n",
       "3  blank  talking bac equity offer janie gabbett reuters...\n",
       "4  other  national average price reserve washington feb ...\n",
       "5  other  argentine registration buenos aire feb argenti...\n",
       "6  blank  red lion inn file plan offering portland feb r...\n",
       "7  blank  usx x debt dowgraded moody new york feb moody ...\n",
       "8   earn  champion product ch approves stock split roche...\n",
       "9  other  computer terminal system cpml completes sale c..."
      ]
     },
     "execution_count": 40,
     "metadata": {},
     "output_type": "execute_result"
    }
   ],
   "source": [
    "df.head(10)"
   ]
  },
  {
   "cell_type": "code",
   "execution_count": 42,
   "metadata": {
    "execution": {
     "iopub.execute_input": "2021-11-05T02:39:54.226276Z",
     "iopub.status.busy": "2021-11-05T02:39:54.225276Z",
     "iopub.status.idle": "2021-11-05T02:39:54.843277Z",
     "shell.execute_reply": "2021-11-05T02:39:54.842273Z",
     "shell.execute_reply.started": "2021-11-05T02:39:54.226276Z"
    }
   },
   "outputs": [],
   "source": [
    "df.to_csv('data_files/text_processed.csv', index=False)"
   ]
  },
  {
   "cell_type": "code",
   "execution_count": null,
   "metadata": {},
   "outputs": [],
   "source": []
  }
 ],
 "metadata": {
  "kernelspec": {
   "display_name": "Python 3",
   "language": "python",
   "name": "python3"
  },
  "language_info": {
   "codemirror_mode": {
    "name": "ipython",
    "version": 3
   },
   "file_extension": ".py",
   "mimetype": "text/x-python",
   "name": "python",
   "nbconvert_exporter": "python",
   "pygments_lexer": "ipython3",
   "version": "3.6.9"
  }
 },
 "nbformat": 4,
 "nbformat_minor": 4
}
