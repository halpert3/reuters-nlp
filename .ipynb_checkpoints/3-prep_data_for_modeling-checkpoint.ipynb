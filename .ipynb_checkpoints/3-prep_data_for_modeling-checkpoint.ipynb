{
 "cells": [
  {
   "cell_type": "code",
   "execution_count": 2,
   "metadata": {
    "execution": {
     "iopub.execute_input": "2021-11-03T21:47:53.977506Z",
     "iopub.status.busy": "2021-11-03T21:47:53.977506Z",
     "iopub.status.idle": "2021-11-03T21:47:54.001503Z",
     "shell.execute_reply": "2021-11-03T21:47:54.000505Z",
     "shell.execute_reply.started": "2021-11-03T21:47:53.977506Z"
    }
   },
   "outputs": [],
   "source": [
    "import pandas as pd\n",
    "import numpy as np\n",
    "import nltk\n",
    "from nltk.corpus import stopwords\n",
    "from nltk import word_tokenize, FreqDist\n",
    "from nltk.stem.wordnet import WordNetLemmatizer\n",
    "import string"
   ]
  },
  {
   "cell_type": "code",
   "execution_count": 3,
   "metadata": {
    "execution": {
     "iopub.execute_input": "2021-11-03T21:48:41.053119Z",
     "iopub.status.busy": "2021-11-03T21:48:41.053119Z",
     "iopub.status.idle": "2021-11-03T21:48:41.270121Z",
     "shell.execute_reply": "2021-11-03T21:48:41.269120Z",
     "shell.execute_reply.started": "2021-11-03T21:48:41.053119Z"
    }
   },
   "outputs": [],
   "source": [
    "df = pd.read_csv('data_files/topics_and_text.csv')"
   ]
  },
  {
   "cell_type": "code",
   "execution_count": 4,
   "metadata": {
    "execution": {
     "iopub.execute_input": "2021-11-03T21:48:52.055804Z",
     "iopub.status.busy": "2021-11-03T21:48:52.054804Z",
     "iopub.status.idle": "2021-11-03T21:48:52.086803Z",
     "shell.execute_reply": "2021-11-03T21:48:52.085804Z",
     "shell.execute_reply.started": "2021-11-03T21:48:52.055804Z"
    }
   },
   "outputs": [
    {
     "data": {
      "text/html": [
       "<div>\n",
       "<style scoped>\n",
       "    .dataframe tbody tr th:only-of-type {\n",
       "        vertical-align: middle;\n",
       "    }\n",
       "\n",
       "    .dataframe tbody tr th {\n",
       "        vertical-align: top;\n",
       "    }\n",
       "\n",
       "    .dataframe thead th {\n",
       "        text-align: right;\n",
       "    }\n",
       "</style>\n",
       "<table border=\"1\" class=\"dataframe\">\n",
       "  <thead>\n",
       "    <tr style=\"text-align: right;\">\n",
       "      <th></th>\n",
       "      <th>topic</th>\n",
       "      <th>text</th>\n",
       "    </tr>\n",
       "  </thead>\n",
       "  <tbody>\n",
       "    <tr>\n",
       "      <th>22994</th>\n",
       "      <td>blank</td>\n",
       "      <td>******PACIFIC STOCK EXCHANGE SAYS IT WILL CLOS...</td>\n",
       "    </tr>\n",
       "    <tr>\n",
       "      <th>22995</th>\n",
       "      <td>blank</td>\n",
       "      <td>******DOW FALLS 404 POINTS TO 1844, LOWEST LEV...</td>\n",
       "    </tr>\n",
       "    <tr>\n",
       "      <th>22996</th>\n",
       "      <td>blank</td>\n",
       "      <td>AFG INDUSTRIES &lt;AFG&gt; TO BUY BACK STOCK IRVINE,...</td>\n",
       "    </tr>\n",
       "    <tr>\n",
       "      <th>22997</th>\n",
       "      <td>blank</td>\n",
       "      <td>J.P. MORGAN &lt;JPM&gt; LOWERS LOAN-LOSS PROVISIONS ...</td>\n",
       "    </tr>\n",
       "    <tr>\n",
       "      <th>22998</th>\n",
       "      <td>other</td>\n",
       "      <td>CCR VIDEO&lt;CCCR.O&gt; GETS OFFER ON TAKEOVER TALKS...</td>\n",
       "    </tr>\n",
       "  </tbody>\n",
       "</table>\n",
       "</div>"
      ],
      "text/plain": [
       "       topic                                               text\n",
       "22994  blank  ******PACIFIC STOCK EXCHANGE SAYS IT WILL CLOS...\n",
       "22995  blank  ******DOW FALLS 404 POINTS TO 1844, LOWEST LEV...\n",
       "22996  blank  AFG INDUSTRIES <AFG> TO BUY BACK STOCK IRVINE,...\n",
       "22997  blank  J.P. MORGAN <JPM> LOWERS LOAN-LOSS PROVISIONS ...\n",
       "22998  other  CCR VIDEO<CCCR.O> GETS OFFER ON TAKEOVER TALKS..."
      ]
     },
     "execution_count": 4,
     "metadata": {},
     "output_type": "execute_result"
    }
   ],
   "source": [
    "df.tail()"
   ]
  },
  {
   "cell_type": "code",
   "execution_count": 5,
   "metadata": {
    "execution": {
     "iopub.execute_input": "2021-11-03T21:51:49.072077Z",
     "iopub.status.busy": "2021-11-03T21:51:49.071077Z",
     "iopub.status.idle": "2021-11-03T21:51:49.087077Z",
     "shell.execute_reply": "2021-11-03T21:51:49.086075Z",
     "shell.execute_reply.started": "2021-11-03T21:51:49.072077Z"
    }
   },
   "outputs": [],
   "source": [
    "stopwords_list = stopwords.words('english') + list(string.punctuation)\n",
    "stopwords_list.append('...')\n",
    "\n",
    "def process_narrative(narrative):\n",
    "    tokens = nltk.word_tokenize(narrative)\n",
    "    stopwords_removed = [token.lower() for token in tokens if token.lower() not in stopwords_list]\n",
    "    return stopwords_removed"
   ]
  }
 ],
 "metadata": {
  "kernelspec": {
   "display_name": "Python 3",
   "language": "python",
   "name": "python3"
  },
  "language_info": {
   "codemirror_mode": {
    "name": "ipython",
    "version": 3
   },
   "file_extension": ".py",
   "mimetype": "text/x-python",
   "name": "python",
   "nbconvert_exporter": "python",
   "pygments_lexer": "ipython3",
   "version": "3.6.9"
  }
 },
 "nbformat": 4,
 "nbformat_minor": 4
}
