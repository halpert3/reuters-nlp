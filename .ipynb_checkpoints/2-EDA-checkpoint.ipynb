{
 "cells": [
  {
   "cell_type": "code",
   "execution_count": 77,
   "metadata": {
    "execution": {
     "iopub.execute_input": "2021-11-03T21:20:42.425016Z",
     "iopub.status.busy": "2021-11-03T21:20:42.425016Z",
     "iopub.status.idle": "2021-11-03T21:20:42.463011Z",
     "shell.execute_reply": "2021-11-03T21:20:42.462016Z",
     "shell.execute_reply.started": "2021-11-03T21:20:42.425016Z"
    }
   },
   "outputs": [],
   "source": [
    "import pandas as pd\n",
    "import numpy as np\n",
    "import matplotlib.pyplot as plt\n",
    "import seaborn as sns\n",
    "import nltk\n",
    "from nltk.corpus import stopwords\n",
    "from nltk import word_tokenize, FreqDist\n",
    "from nltk.stem.wordnet import WordNetLemmatizer\n",
    "import string"
   ]
  },
  {
   "cell_type": "code",
   "execution_count": 2,
   "metadata": {
    "execution": {
     "iopub.execute_input": "2021-11-03T20:45:13.514287Z",
     "iopub.status.busy": "2021-11-03T20:45:13.513285Z",
     "iopub.status.idle": "2021-11-03T20:45:14.832282Z",
     "shell.execute_reply": "2021-11-03T20:45:14.828282Z",
     "shell.execute_reply.started": "2021-11-03T20:45:13.513285Z"
    }
   },
   "outputs": [],
   "source": [
    "df = pd.read_csv('data_files/topics_and_text.csv')"
   ]
  },
  {
   "cell_type": "code",
   "execution_count": 3,
   "metadata": {
    "execution": {
     "iopub.execute_input": "2021-11-03T20:45:14.849287Z",
     "iopub.status.busy": "2021-11-03T20:45:14.846283Z",
     "iopub.status.idle": "2021-11-03T20:45:14.934284Z",
     "shell.execute_reply": "2021-11-03T20:45:14.929286Z",
     "shell.execute_reply.started": "2021-11-03T20:45:14.849287Z"
    }
   },
   "outputs": [
    {
     "data": {
      "text/html": [
       "<div>\n",
       "<style scoped>\n",
       "    .dataframe tbody tr th:only-of-type {\n",
       "        vertical-align: middle;\n",
       "    }\n",
       "\n",
       "    .dataframe tbody tr th {\n",
       "        vertical-align: top;\n",
       "    }\n",
       "\n",
       "    .dataframe thead th {\n",
       "        text-align: right;\n",
       "    }\n",
       "</style>\n",
       "<table border=\"1\" class=\"dataframe\">\n",
       "  <thead>\n",
       "    <tr style=\"text-align: right;\">\n",
       "      <th></th>\n",
       "      <th>topic</th>\n",
       "      <th>text</th>\n",
       "    </tr>\n",
       "  </thead>\n",
       "  <tbody>\n",
       "    <tr>\n",
       "      <th>0</th>\n",
       "      <td>other</td>\n",
       "      <td>BAHIA COCOA REVIEW SALVADOR, Feb 26 - Showers ...</td>\n",
       "    </tr>\n",
       "    <tr>\n",
       "      <th>1</th>\n",
       "      <td>blank</td>\n",
       "      <td>STANDARD OIL &lt;SRD&gt; TO FORM FINANCIAL UNIT CLEV...</td>\n",
       "    </tr>\n",
       "    <tr>\n",
       "      <th>2</th>\n",
       "      <td>blank</td>\n",
       "      <td>TEXAS COMMERCE BANCSHARES &lt;TCB&gt; FILES PLAN HOU...</td>\n",
       "    </tr>\n",
       "    <tr>\n",
       "      <th>3</th>\n",
       "      <td>blank</td>\n",
       "      <td>TALKING POINT/BANKAMERICA &lt;BAC&gt; EQUITY OFFER b...</td>\n",
       "    </tr>\n",
       "    <tr>\n",
       "      <th>4</th>\n",
       "      <td>other</td>\n",
       "      <td>NATIONAL AVERAGE PRICES FOR FARMER-OWNED RESER...</td>\n",
       "    </tr>\n",
       "  </tbody>\n",
       "</table>\n",
       "</div>"
      ],
      "text/plain": [
       "   topic                                               text\n",
       "0  other  BAHIA COCOA REVIEW SALVADOR, Feb 26 - Showers ...\n",
       "1  blank  STANDARD OIL <SRD> TO FORM FINANCIAL UNIT CLEV...\n",
       "2  blank  TEXAS COMMERCE BANCSHARES <TCB> FILES PLAN HOU...\n",
       "3  blank  TALKING POINT/BANKAMERICA <BAC> EQUITY OFFER b...\n",
       "4  other  NATIONAL AVERAGE PRICES FOR FARMER-OWNED RESER..."
      ]
     },
     "execution_count": 3,
     "metadata": {},
     "output_type": "execute_result"
    }
   ],
   "source": [
    "df.head()"
   ]
  },
  {
   "cell_type": "code",
   "execution_count": 4,
   "metadata": {
    "execution": {
     "iopub.execute_input": "2021-11-03T20:45:14.938285Z",
     "iopub.status.busy": "2021-11-03T20:45:14.937289Z",
     "iopub.status.idle": "2021-11-03T20:45:15.039283Z",
     "shell.execute_reply": "2021-11-03T20:45:15.036283Z",
     "shell.execute_reply.started": "2021-11-03T20:45:14.938285Z"
    }
   },
   "outputs": [
    {
     "name": "stdout",
     "output_type": "stream",
     "text": [
      "<class 'pandas.core.frame.DataFrame'>\n",
      "RangeIndex: 22999 entries, 0 to 22998\n",
      "Data columns (total 2 columns):\n",
      " #   Column  Non-Null Count  Dtype \n",
      "---  ------  --------------  ----- \n",
      " 0   topic   22999 non-null  object\n",
      " 1   text    22999 non-null  object\n",
      "dtypes: object(2)\n",
      "memory usage: 359.5+ KB\n"
     ]
    }
   ],
   "source": [
    "df.info()"
   ]
  },
  {
   "cell_type": "code",
   "execution_count": 5,
   "metadata": {
    "execution": {
     "iopub.execute_input": "2021-11-03T20:45:15.049284Z",
     "iopub.status.busy": "2021-11-03T20:45:15.046284Z",
     "iopub.status.idle": "2021-11-03T20:45:15.098285Z",
     "shell.execute_reply": "2021-11-03T20:45:15.095286Z",
     "shell.execute_reply.started": "2021-11-03T20:45:15.049284Z"
    }
   },
   "outputs": [
    {
     "data": {
      "text/plain": [
       "blank    10925\n",
       "other     7818\n",
       "earn      4256\n",
       "Name: topic, dtype: int64"
      ]
     },
     "execution_count": 5,
     "metadata": {},
     "output_type": "execute_result"
    }
   ],
   "source": [
    "df['topic'].value_counts()"
   ]
  },
  {
   "cell_type": "code",
   "execution_count": 6,
   "metadata": {
    "execution": {
     "iopub.execute_input": "2021-11-03T20:45:15.110287Z",
     "iopub.status.busy": "2021-11-03T20:45:15.109282Z",
     "iopub.status.idle": "2021-11-03T20:45:16.218182Z",
     "shell.execute_reply": "2021-11-03T20:45:16.214185Z",
     "shell.execute_reply.started": "2021-11-03T20:45:15.110287Z"
    }
   },
   "outputs": [
    {
     "data": {
      "image/png": "[encoded data removed]",
      "text/plain": [
       "<Figure size 432x432 with 1 Axes>"
      ]
     },
     "metadata": {},
     "output_type": "display_data"
    }
   ],
   "source": [
    "from matplotlib.pyplot import figure\n",
    "\n",
    "figure(figsize=(6, 6))\n",
    "# sns.set_theme()\n",
    "sns.color_palette(\"husl\", 3)\n",
    "data = df['topic'].value_counts()\n",
    "labels = data.keys()\n",
    "plt.pie(x = data, labels = labels, autopct=\"%.1f%%\", colors = ['blue','seagreen','aqua'])\n",
    "plt.show()"
   ]
  },
  {
   "cell_type": "code",
   "execution_count": null,
   "metadata": {},
   "outputs": [],
   "source": []
  },
  {
   "cell_type": "markdown",
   "metadata": {},
   "source": [
    "Close to half are blank. The question will be what to do about these. "
   ]
  },
  {
   "cell_type": "markdown",
   "metadata": {},
   "source": [
    "# Process the text"
   ]
  },
  {
   "cell_type": "code",
   "execution_count": 7,
   "metadata": {
    "execution": {
     "iopub.execute_input": "2021-11-03T20:45:16.224179Z",
     "iopub.status.busy": "2021-11-03T20:45:16.222181Z",
     "iopub.status.idle": "2021-11-03T20:45:16.252179Z",
     "shell.execute_reply": "2021-11-03T20:45:16.245179Z",
     "shell.execute_reply.started": "2021-11-03T20:45:16.224179Z"
    }
   },
   "outputs": [
    {
     "data": {
      "text/plain": [
       "'BAHIA COCOA REVIEW SALVADOR, Feb 26 - Showers continued throughout the week in the Bahia cocoa zone, alleviating the drought since early January and improving prospects for the coming temporao, although normal humidity levels have not been restored, Comissaria Smith said in its weekly review. The dry period means the temporao will be late this year. Arrivals for the week ended February 22 were 155,221 bags of 60 kilos making a cumulative total for the season of 5.93 mln against 5.81 at the same stage last year. Again it seems that cocoa delivered earlier on consignment was included in the arrivals figures. Comissaria Smith said there is still some doubt as to how much old crop cocoa is still available as harvesting has practically come to an end. With total Bahia crop estimates around 6.4 mln bags and sales standing at almost 6.2 mln there are a few hundred thousand bags still in the hands of farmers, middlemen, exporters and processors. There are doubts as to how much of this cocoa would be fit for export as shippers are now experiencing dificulties in obtaining +Bahia superior+ certificates. In view of the lower quality over recent weeks farmers have sold a good part of their cocoa held on consignment. Comissaria Smith said spot bean prices rose to 340 to 350 cruzados per arroba of 15 kilos. Bean shippers were reluctant to offer nearby shipment and only limited sales were booked for March shipment at 1,750 to 1,780 dlrs per tonne to ports to be named. New crop sales were also light and all to open ports with June/July going at 1,850 and 1,880 dlrs and at 35 and 45 dlrs under New York july, Aug/Sept at 1,870, 1,875 and 1,880 dlrs per tonne FOB. Routine sales of butter were made. March/April sold at 4,340, 4,345 and 4,350 dlrs. April/May butter went at 2.27 times New York May, June/July at 4,400 and 4,415 dlrs, Aug/Sept at 4,351 to 4,450 dlrs and at 2.27 and 2.28 times New York Sept and Oct/Dec at 4,480 dlrs and 2.27 times New York Dec, Comissaria Smith said. Destinations were the U.S., Covertible currency areas, Uruguay and open ports. Cake sales were registered at 785 to 995 dlrs for March/April, 785 dlrs for May, 753 dlrs for Aug and 0.39 times New York Dec for Oct/Dec. Buyers were the U.S., Argentina, Uruguay and convertible currency areas. Liquor sales were limited with March/April selling at 2,325 and 2,380 dlrs, June/July at 2,375 dlrs and at 1.25 times New York July, Aug/Sept at 2,400 dlrs and at 1.25 times New York Sept and Oct/Dec at 1.25 times New York Dec, Comissaria Smith said. Total Bahia sales are currently estimated at 6.13 mln bags against the 1986/87 crop and 1.06 mln bags against the 1987/88 crop. Final figures for the period to February 28 are expected to be published by the Brazilian Cocoa Trade Commission after carnival which ends midday on February 27. Reuter'"
      ]
     },
     "execution_count": 7,
     "metadata": {},
     "output_type": "execute_result"
    }
   ],
   "source": [
    "df.text[0]"
   ]
  },
  {
   "cell_type": "code",
   "execution_count": 8,
   "metadata": {
    "execution": {
     "iopub.execute_input": "2021-11-03T20:45:16.260180Z",
     "iopub.status.busy": "2021-11-03T20:45:16.259183Z",
     "iopub.status.idle": "2021-11-03T20:45:16.280181Z",
     "shell.execute_reply": "2021-11-03T20:45:16.278179Z",
     "shell.execute_reply.started": "2021-11-03T20:45:16.260180Z"
    }
   },
   "outputs": [
    {
     "data": {
      "text/plain": [
       "'FEDERAL RESERVE MONEY SUPPLY REPORT - FEB 26 One Week Ended Feb 16 M-1.........................736.7 up.......2.1 Previous week revised to....734.6 From...734.2 Avge 4 Weeks (Vs Week Ago).735.0 Vs.....733.5 Avge 13 Weeks (Vs week Ago).731.8 Vs.....729.8 Monthly aggregates (Adjusted avgs in billions) M-1 (Jan vs Dec)............737.6 Vs.....730.5 M-2 (Jan vs Dec)..........2,820.1 Vs...2,798.4 M-3 (Jan vs Dec)..........3,513.6 Vs...3,488.1 L...(Dec vs Nov)..........4,141.5 Vs...4,110.5 Domestic Debt(Dec vs Nov).7,604.4 Vs...7,519.8 Reuter'"
      ]
     },
     "execution_count": 8,
     "metadata": {},
     "output_type": "execute_result"
    }
   ],
   "source": [
    "df.text[100]"
   ]
  },
  {
   "cell_type": "code",
   "execution_count": 9,
   "metadata": {
    "execution": {
     "iopub.execute_input": "2021-11-03T20:45:16.288179Z",
     "iopub.status.busy": "2021-11-03T20:45:16.286182Z",
     "iopub.status.idle": "2021-11-03T20:45:16.310181Z",
     "shell.execute_reply": "2021-11-03T20:45:16.308181Z",
     "shell.execute_reply.started": "2021-11-03T20:45:16.288179Z"
    }
   },
   "outputs": [
    {
     "data": {
      "text/plain": [
       "'!\"#$%&\\'()*+,-./:;<=>?@[\\\\]^_`{|}~'"
      ]
     },
     "execution_count": 9,
     "metadata": {},
     "output_type": "execute_result"
    }
   ],
   "source": [
    "string.punctuation"
   ]
  },
  {
   "cell_type": "code",
   "execution_count": 10,
   "metadata": {
    "execution": {
     "iopub.execute_input": "2021-11-03T20:45:16.315186Z",
     "iopub.status.busy": "2021-11-03T20:45:16.313179Z",
     "iopub.status.idle": "2021-11-03T20:45:16.359181Z",
     "shell.execute_reply": "2021-11-03T20:45:16.357180Z",
     "shell.execute_reply.started": "2021-11-03T20:45:16.315186Z"
    }
   },
   "outputs": [],
   "source": [
    "stopwords_list = stopwords.words('english') + list(string.punctuation)"
   ]
  },
  {
   "cell_type": "code",
   "execution_count": 11,
   "metadata": {
    "execution": {
     "iopub.execute_input": "2021-11-03T20:45:16.363179Z",
     "iopub.status.busy": "2021-11-03T20:45:16.362181Z",
     "iopub.status.idle": "2021-11-03T20:45:16.390185Z",
     "shell.execute_reply": "2021-11-03T20:45:16.386181Z",
     "shell.execute_reply.started": "2021-11-03T20:45:16.363179Z"
    }
   },
   "outputs": [],
   "source": [
    "def process_narrative(narrative):\n",
    "    tokens = nltk.word_tokenize(narrative)\n",
    "    stopwords_removed = [token.lower() for token in tokens if token.lower() not in stopwords_list]\n",
    "    return stopwords_removed"
   ]
  },
  {
   "cell_type": "code",
   "execution_count": 12,
   "metadata": {
    "execution": {
     "iopub.execute_input": "2021-11-03T20:45:16.396181Z",
     "iopub.status.busy": "2021-11-03T20:45:16.395178Z",
     "iopub.status.idle": "2021-11-03T20:45:16.516180Z",
     "shell.execute_reply": "2021-11-03T20:45:16.511180Z",
     "shell.execute_reply.started": "2021-11-03T20:45:16.396181Z"
    }
   },
   "outputs": [
    {
     "data": {
      "text/plain": [
       "['bahia',\n",
       " 'cocoa',\n",
       " 'review',\n",
       " 'salvador',\n",
       " 'feb',\n",
       " '26',\n",
       " 'showers',\n",
       " 'continued',\n",
       " 'throughout',\n",
       " 'week',\n",
       " 'bahia',\n",
       " 'cocoa',\n",
       " 'zone',\n",
       " 'alleviating',\n",
       " 'drought',\n",
       " 'since',\n",
       " 'early',\n",
       " 'january',\n",
       " 'improving',\n",
       " 'prospects']"
      ]
     },
     "execution_count": 12,
     "metadata": {},
     "output_type": "execute_result"
    }
   ],
   "source": [
    "text1 = df.text[0]\n",
    "text_words = process_narrative(text1)\n",
    "text_words[0:20]"
   ]
  },
  {
   "cell_type": "code",
   "execution_count": 13,
   "metadata": {
    "execution": {
     "iopub.execute_input": "2021-11-03T20:45:16.526184Z",
     "iopub.status.busy": "2021-11-03T20:45:16.524181Z",
     "iopub.status.idle": "2021-11-03T20:45:16.560182Z",
     "shell.execute_reply": "2021-11-03T20:45:16.558180Z",
     "shell.execute_reply.started": "2021-11-03T20:45:16.526184Z"
    }
   },
   "outputs": [
    {
     "data": {
      "text/plain": [
       "['federal',\n",
       " 'reserve',\n",
       " 'money',\n",
       " 'supply',\n",
       " 'report',\n",
       " 'feb',\n",
       " '26',\n",
       " 'one',\n",
       " 'week',\n",
       " 'ended',\n",
       " 'feb',\n",
       " '16',\n",
       " 'm-1',\n",
       " '...',\n",
       " '...',\n",
       " '...',\n",
       " '...',\n",
       " '...',\n",
       " '...',\n",
       " '...']"
      ]
     },
     "execution_count": 13,
     "metadata": {},
     "output_type": "execute_result"
    }
   ],
   "source": [
    "text2 = df.text[100]\n",
    "text_words = process_narrative(text2)\n",
    "text_words[0:20]"
   ]
  },
  {
   "cell_type": "markdown",
   "metadata": {},
   "source": [
    "I'll add '...' to stopwords."
   ]
  },
  {
   "cell_type": "code",
   "execution_count": 14,
   "metadata": {
    "execution": {
     "iopub.execute_input": "2021-11-03T20:45:16.563179Z",
     "iopub.status.busy": "2021-11-03T20:45:16.562181Z",
     "iopub.status.idle": "2021-11-03T20:45:16.655179Z",
     "shell.execute_reply": "2021-11-03T20:45:16.653181Z",
     "shell.execute_reply.started": "2021-11-03T20:45:16.563179Z"
    }
   },
   "outputs": [
    {
     "data": {
      "text/plain": [
       "['i', 'me', 'my', 'myself', 'we', 'our', 'ours', 'ourselves', 'you', \"you're\"]"
      ]
     },
     "execution_count": 14,
     "metadata": {},
     "output_type": "execute_result"
    }
   ],
   "source": [
    "stopwords_list[0:10]"
   ]
  },
  {
   "cell_type": "code",
   "execution_count": 15,
   "metadata": {
    "execution": {
     "iopub.execute_input": "2021-11-03T20:45:16.664178Z",
     "iopub.status.busy": "2021-11-03T20:45:16.661179Z",
     "iopub.status.idle": "2021-11-03T20:45:16.687180Z",
     "shell.execute_reply": "2021-11-03T20:45:16.685182Z",
     "shell.execute_reply.started": "2021-11-03T20:45:16.664178Z"
    }
   },
   "outputs": [],
   "source": [
    "stopwords_list.append('...')"
   ]
  },
  {
   "cell_type": "code",
   "execution_count": 16,
   "metadata": {
    "execution": {
     "iopub.execute_input": "2021-11-03T20:45:16.690180Z",
     "iopub.status.busy": "2021-11-03T20:45:16.689183Z",
     "iopub.status.idle": "2021-11-03T20:45:17.175184Z",
     "shell.execute_reply": "2021-11-03T20:45:17.170191Z",
     "shell.execute_reply.started": "2021-11-03T20:45:16.690180Z"
    }
   },
   "outputs": [
    {
     "data": {
      "text/plain": [
       "['{', '|', '}', '~', '...']"
      ]
     },
     "execution_count": 16,
     "metadata": {},
     "output_type": "execute_result"
    }
   ],
   "source": [
    "stopwords_list[-5:]"
   ]
  },
  {
   "cell_type": "code",
   "execution_count": 17,
   "metadata": {
    "execution": {
     "iopub.execute_input": "2021-11-03T20:45:17.189181Z",
     "iopub.status.busy": "2021-11-03T20:45:17.188181Z",
     "iopub.status.idle": "2021-11-03T20:45:17.495178Z",
     "shell.execute_reply": "2021-11-03T20:45:17.493178Z",
     "shell.execute_reply.started": "2021-11-03T20:45:17.189181Z"
    }
   },
   "outputs": [
    {
     "data": {
      "text/plain": [
       "['federal',\n",
       " 'reserve',\n",
       " 'money',\n",
       " 'supply',\n",
       " 'report',\n",
       " 'feb',\n",
       " '26',\n",
       " 'one',\n",
       " 'week',\n",
       " 'ended',\n",
       " 'feb',\n",
       " '16',\n",
       " 'm-1',\n",
       " '.736.7',\n",
       " '.2.1',\n",
       " 'previous',\n",
       " 'week',\n",
       " 'revised',\n",
       " '.734.6',\n",
       " '734.2']"
      ]
     },
     "execution_count": 17,
     "metadata": {},
     "output_type": "execute_result"
    }
   ],
   "source": [
    "text2 = df.text[100]\n",
    "text_words = process_narrative(text2)\n",
    "text_words[0:20]"
   ]
  },
  {
   "cell_type": "code",
   "execution_count": 18,
   "metadata": {
    "execution": {
     "iopub.execute_input": "2021-11-03T20:45:17.509179Z",
     "iopub.status.busy": "2021-11-03T20:45:17.499178Z",
     "iopub.status.idle": "2021-11-03T20:45:17.542180Z",
     "shell.execute_reply": "2021-11-03T20:45:17.540181Z",
     "shell.execute_reply.started": "2021-11-03T20:45:17.509179Z"
    }
   },
   "outputs": [
    {
     "data": {
      "text/plain": [
       "'MAIL BOXES ETC <MAIL> 3RD QTR JAN 31 NET SAN DIEGO, Calif., Feb 26 - Shr 23 cts vs 18 cts Net 509,144 vs 277,834 Revs 2,258,341 vs 1,328,634 Avg shrs 2,177,553 vs 1,564,605 Nine mths Shr 55 cts vs 42 cts Net 1,150,633 vs 649,914 Revs 6,169,168 vs 3,178,115 Reuter'"
      ]
     },
     "execution_count": 18,
     "metadata": {},
     "output_type": "execute_result"
    }
   ],
   "source": [
    "df.text[200]"
   ]
  },
  {
   "cell_type": "code",
   "execution_count": 19,
   "metadata": {
    "execution": {
     "iopub.execute_input": "2021-11-03T20:45:17.545181Z",
     "iopub.status.busy": "2021-11-03T20:45:17.544180Z",
     "iopub.status.idle": "2021-11-03T20:45:17.979179Z",
     "shell.execute_reply": "2021-11-03T20:45:17.977180Z",
     "shell.execute_reply.started": "2021-11-03T20:45:17.545181Z"
    }
   },
   "outputs": [
    {
     "data": {
      "text/plain": [
       "'******REAGAN SAYS VOLCKER WILL NOT ACCEPT 3rd TERM AS FED CHAIRMAN, NOMINATES GREENSPAN Blah blah blah.'"
      ]
     },
     "execution_count": 19,
     "metadata": {},
     "output_type": "execute_result"
    }
   ],
   "source": [
    "df.text[20000]"
   ]
  },
  {
   "cell_type": "code",
   "execution_count": 20,
   "metadata": {
    "execution": {
     "iopub.execute_input": "2021-11-03T20:45:17.984180Z",
     "iopub.status.busy": "2021-11-03T20:45:17.983180Z",
     "iopub.status.idle": "2021-11-03T20:45:18.371180Z",
     "shell.execute_reply": "2021-11-03T20:45:18.369178Z",
     "shell.execute_reply.started": "2021-11-03T20:45:17.984180Z"
    }
   },
   "outputs": [
    {
     "data": {
      "text/plain": [
       "['******reagan',\n",
       " 'says',\n",
       " 'volcker',\n",
       " 'accept',\n",
       " '3rd',\n",
       " 'term',\n",
       " 'fed',\n",
       " 'chairman',\n",
       " 'nominates',\n",
       " 'greenspan',\n",
       " 'blah',\n",
       " 'blah',\n",
       " 'blah']"
      ]
     },
     "execution_count": 20,
     "metadata": {},
     "output_type": "execute_result"
    }
   ],
   "source": [
    "text3 = df.text[20000]\n",
    "text_words = process_narrative(text3)\n",
    "text_words[0:20]"
   ]
  },
  {
   "cell_type": "code",
   "execution_count": 21,
   "metadata": {
    "execution": {
     "iopub.execute_input": "2021-11-03T20:45:18.373184Z",
     "iopub.status.busy": "2021-11-03T20:45:18.372179Z",
     "iopub.status.idle": "2021-11-03T20:45:18.821180Z",
     "shell.execute_reply": "2021-11-03T20:45:18.814178Z",
     "shell.execute_reply.started": "2021-11-03T20:45:18.373184Z"
    }
   },
   "outputs": [
    {
     "data": {
      "text/plain": [
       "{'bahia': 4,\n",
       " 'cocoa': 7,\n",
       " 'review': 2,\n",
       " 'salvador': 1,\n",
       " 'feb': 1,\n",
       " '26': 1,\n",
       " 'showers': 1,\n",
       " 'continued': 1,\n",
       " 'throughout': 1,\n",
       " 'week': 2,\n",
       " 'zone': 1,\n",
       " 'alleviating': 1,\n",
       " 'drought': 1,\n",
       " 'since': 1,\n",
       " 'early': 1,\n",
       " 'january': 1,\n",
       " 'improving': 1,\n",
       " 'prospects': 1,\n",
       " 'coming': 1,\n",
       " 'temporao': 2,\n",
       " 'although': 1,\n",
       " 'normal': 1,\n",
       " 'humidity': 1,\n",
       " 'levels': 1,\n",
       " 'restored': 1,\n",
       " 'comissaria': 5,\n",
       " 'smith': 5,\n",
       " 'said': 5,\n",
       " 'weekly': 1,\n",
       " 'dry': 1,\n",
       " 'period': 2,\n",
       " 'means': 1,\n",
       " 'late': 1,\n",
       " 'year': 2,\n",
       " 'arrivals': 2,\n",
       " 'ended': 1,\n",
       " 'february': 3,\n",
       " '22': 1,\n",
       " '155,221': 1,\n",
       " 'bags': 5,\n",
       " '60': 1,\n",
       " 'kilos': 2,\n",
       " 'making': 1,\n",
       " 'cumulative': 1,\n",
       " 'total': 3,\n",
       " 'season': 1,\n",
       " '5.93': 1,\n",
       " 'mln': 5,\n",
       " '5.81': 1,\n",
       " 'stage': 1,\n",
       " 'last': 1,\n",
       " 'seems': 1,\n",
       " 'delivered': 1,\n",
       " 'earlier': 1,\n",
       " 'consignment': 2,\n",
       " 'included': 1,\n",
       " 'figures': 2,\n",
       " 'still': 3,\n",
       " 'doubt': 1,\n",
       " 'much': 2,\n",
       " 'old': 1,\n",
       " 'crop': 5,\n",
       " 'available': 1,\n",
       " 'harvesting': 1,\n",
       " 'practically': 1,\n",
       " 'come': 1,\n",
       " 'end': 1,\n",
       " 'estimates': 1,\n",
       " 'around': 1,\n",
       " '6.4': 1,\n",
       " 'sales': 7,\n",
       " 'standing': 1,\n",
       " 'almost': 1,\n",
       " '6.2': 1,\n",
       " 'hundred': 1,\n",
       " 'thousand': 1,\n",
       " 'hands': 1,\n",
       " 'farmers': 2,\n",
       " 'middlemen': 1,\n",
       " 'exporters': 1,\n",
       " 'processors': 1,\n",
       " 'doubts': 1,\n",
       " 'would': 1,\n",
       " 'fit': 1,\n",
       " 'export': 1,\n",
       " 'shippers': 2,\n",
       " 'experiencing': 1,\n",
       " 'dificulties': 1,\n",
       " 'obtaining': 1,\n",
       " '+bahia': 1,\n",
       " 'superior+': 1,\n",
       " 'certificates': 1,\n",
       " 'view': 1,\n",
       " 'lower': 1,\n",
       " 'quality': 1,\n",
       " 'recent': 1,\n",
       " 'weeks': 1,\n",
       " 'sold': 2,\n",
       " 'good': 1,\n",
       " 'part': 1,\n",
       " 'held': 1,\n",
       " 'spot': 1,\n",
       " 'bean': 2,\n",
       " 'prices': 1,\n",
       " 'rose': 1,\n",
       " '340': 1,\n",
       " '350': 1,\n",
       " 'cruzados': 1,\n",
       " 'per': 3,\n",
       " 'arroba': 1,\n",
       " '15': 1,\n",
       " 'reluctant': 1,\n",
       " 'offer': 1,\n",
       " 'nearby': 1,\n",
       " 'shipment': 2,\n",
       " 'limited': 2,\n",
       " 'booked': 1,\n",
       " 'march': 1,\n",
       " '1,750': 1,\n",
       " '1,780': 1,\n",
       " 'dlrs': 14,\n",
       " 'tonne': 2,\n",
       " 'ports': 3,\n",
       " 'named': 1,\n",
       " 'new': 9,\n",
       " 'also': 1,\n",
       " 'light': 1,\n",
       " 'open': 2,\n",
       " 'june/july': 3,\n",
       " 'going': 1,\n",
       " '1,850': 1,\n",
       " '1,880': 2,\n",
       " '35': 1,\n",
       " '45': 1,\n",
       " 'york': 8,\n",
       " 'july': 2,\n",
       " 'aug/sept': 3,\n",
       " '1,870': 1,\n",
       " '1,875': 1,\n",
       " 'fob': 1,\n",
       " 'routine': 1,\n",
       " 'butter': 2,\n",
       " 'made': 1,\n",
       " 'march/april': 3,\n",
       " '4,340': 1,\n",
       " '4,345': 1,\n",
       " '4,350': 1,\n",
       " 'april/may': 1,\n",
       " 'went': 1,\n",
       " '2.27': 3,\n",
       " 'times': 7,\n",
       " 'may': 2,\n",
       " '4,400': 1,\n",
       " '4,415': 1,\n",
       " '4,351': 1,\n",
       " '4,450': 1,\n",
       " '2.28': 1,\n",
       " 'sept': 2,\n",
       " 'oct/dec': 3,\n",
       " '4,480': 1,\n",
       " 'dec': 3,\n",
       " 'destinations': 1,\n",
       " 'u.s.': 2,\n",
       " 'covertible': 1,\n",
       " 'currency': 2,\n",
       " 'areas': 2,\n",
       " 'uruguay': 2,\n",
       " 'cake': 1,\n",
       " 'registered': 1,\n",
       " '785': 2,\n",
       " '995': 1,\n",
       " '753': 1,\n",
       " 'aug': 1,\n",
       " '0.39': 1,\n",
       " 'buyers': 1,\n",
       " 'argentina': 1,\n",
       " 'convertible': 1,\n",
       " 'liquor': 1,\n",
       " 'selling': 1,\n",
       " '2,325': 1,\n",
       " '2,380': 1,\n",
       " '2,375': 1,\n",
       " '1.25': 3,\n",
       " '2,400': 1,\n",
       " 'currently': 1,\n",
       " 'estimated': 1,\n",
       " '6.13': 1,\n",
       " '1986/87': 1,\n",
       " '1.06': 1,\n",
       " '1987/88': 1,\n",
       " 'final': 1,\n",
       " '28': 1,\n",
       " 'expected': 1,\n",
       " 'published': 1,\n",
       " 'brazilian': 1,\n",
       " 'trade': 1,\n",
       " 'commission': 1,\n",
       " 'carnival': 1,\n",
       " 'ends': 1,\n",
       " 'midday': 1,\n",
       " '27': 1,\n",
       " 'reuter': 1}"
      ]
     },
     "execution_count": 21,
     "metadata": {},
     "output_type": "execute_result"
    }
   ],
   "source": [
    "# Check out word counts\n",
    "\n",
    "text_words = process_narrative(text1)\n",
    "\n",
    "word_counts = {}\n",
    "for i in range(len(text_words)):\n",
    "    word_counts[text_words[i]] = text_words.count(text_words[i])\n",
    "word_counts"
   ]
  },
  {
   "cell_type": "code",
   "execution_count": 22,
   "metadata": {
    "execution": {
     "iopub.execute_input": "2021-11-03T20:45:18.825180Z",
     "iopub.status.busy": "2021-11-03T20:45:18.825180Z",
     "iopub.status.idle": "2021-11-03T20:45:18.903179Z",
     "shell.execute_reply": "2021-11-03T20:45:18.899181Z",
     "shell.execute_reply.started": "2021-11-03T20:45:18.825180Z"
    }
   },
   "outputs": [
    {
     "data": {
      "text/plain": [
       "FreqDist({'dlrs': 14, 'new': 9, 'york': 8, 'cocoa': 7, 'sales': 7, 'times': 7, 'comissaria': 5, 'smith': 5, 'said': 5, 'bags': 5, ...})"
      ]
     },
     "execution_count": 22,
     "metadata": {},
     "output_type": "execute_result"
    }
   ],
   "source": [
    "FreqDist(text_words)"
   ]
  },
  {
   "cell_type": "code",
   "execution_count": 23,
   "metadata": {
    "execution": {
     "iopub.execute_input": "2021-11-03T20:45:18.914181Z",
     "iopub.status.busy": "2021-11-03T20:45:18.914181Z",
     "iopub.status.idle": "2021-11-03T20:45:18.996180Z",
     "shell.execute_reply": "2021-11-03T20:45:18.995182Z",
     "shell.execute_reply.started": "2021-11-03T20:45:18.914181Z"
    }
   },
   "outputs": [
    {
     "data": {
      "text/plain": [
       "[('dlrs', 14),\n",
       " ('new', 9),\n",
       " ('york', 8),\n",
       " ('cocoa', 7),\n",
       " ('sales', 7),\n",
       " ('times', 7),\n",
       " ('comissaria', 5),\n",
       " ('smith', 5),\n",
       " ('said', 5),\n",
       " ('bags', 5)]"
      ]
     },
     "execution_count": 23,
     "metadata": {},
     "output_type": "execute_result"
    }
   ],
   "source": [
    "FreqDist(text_words).most_common(10)"
   ]
  },
  {
   "cell_type": "markdown",
   "metadata": {},
   "source": [
    "It seems there are a lot of numbers. Update function to get rid of numbers from the list."
   ]
  },
  {
   "cell_type": "markdown",
   "metadata": {},
   "source": [
    "Note: this function also gets rid of strings with punctuation in it like \"\\*****reagan\" which is in `df[20000]` or \"n't\"."
   ]
  },
  {
   "cell_type": "code",
   "execution_count": 24,
   "metadata": {
    "execution": {
     "iopub.execute_input": "2021-11-03T20:45:19.004185Z",
     "iopub.status.busy": "2021-11-03T20:45:19.001180Z",
     "iopub.status.idle": "2021-11-03T20:45:19.035182Z",
     "shell.execute_reply": "2021-11-03T20:45:19.029181Z",
     "shell.execute_reply.started": "2021-11-03T20:45:19.004185Z"
    }
   },
   "outputs": [],
   "source": [
    "def process_narrative(narrative):\n",
    "    tokens = nltk.word_tokenize(narrative)\n",
    "    stopwords_removed = [token.lower() for token in tokens if token.lower() not in stopwords_list]\n",
    "    \n",
    "    # adding line to remove all tokens with numbers and punctuation\n",
    "    stopwords_punc_and_numbers_removed = [word for word in stopwords_removed if word.isalpha()]\n",
    "    \n",
    "    return stopwords_punc_and_numbers_removed"
   ]
  },
  {
   "cell_type": "code",
   "execution_count": 25,
   "metadata": {
    "execution": {
     "iopub.execute_input": "2021-11-03T20:45:19.051186Z",
     "iopub.status.busy": "2021-11-03T20:45:19.046180Z",
     "iopub.status.idle": "2021-11-03T20:45:19.090183Z",
     "shell.execute_reply": "2021-11-03T20:45:19.088181Z",
     "shell.execute_reply.started": "2021-11-03T20:45:19.051186Z"
    }
   },
   "outputs": [
    {
     "data": {
      "text/plain": [
       "'******REAGAN SAYS VOLCKER WILL NOT ACCEPT 3rd TERM AS FED CHAIRMAN, NOMINATES GREENSPAN Blah blah blah.'"
      ]
     },
     "execution_count": 25,
     "metadata": {},
     "output_type": "execute_result"
    }
   ],
   "source": [
    "text3 = df.text[20000]\n",
    "text_words = process_narrative(text3)\n",
    "text3"
   ]
  },
  {
   "cell_type": "code",
   "execution_count": 26,
   "metadata": {
    "execution": {
     "iopub.execute_input": "2021-11-03T20:45:19.094181Z",
     "iopub.status.busy": "2021-11-03T20:45:19.093181Z",
     "iopub.status.idle": "2021-11-03T20:45:19.163181Z",
     "shell.execute_reply": "2021-11-03T20:45:19.150195Z",
     "shell.execute_reply.started": "2021-11-03T20:45:19.094181Z"
    }
   },
   "outputs": [
    {
     "data": {
      "text/plain": [
       "['bahia',\n",
       " 'cocoa',\n",
       " 'review',\n",
       " 'salvador',\n",
       " 'feb',\n",
       " 'showers',\n",
       " 'continued',\n",
       " 'throughout',\n",
       " 'week',\n",
       " 'bahia',\n",
       " 'cocoa',\n",
       " 'zone',\n",
       " 'alleviating',\n",
       " 'drought',\n",
       " 'since',\n",
       " 'early',\n",
       " 'january',\n",
       " 'improving',\n",
       " 'prospects',\n",
       " 'coming']"
      ]
     },
     "execution_count": 26,
     "metadata": {},
     "output_type": "execute_result"
    }
   ],
   "source": [
    "text1 = df.text[0]\n",
    "text_words = process_narrative(text1)\n",
    "text_words[0:20]"
   ]
  },
  {
   "cell_type": "code",
   "execution_count": 27,
   "metadata": {
    "execution": {
     "iopub.execute_input": "2021-11-03T20:45:19.167187Z",
     "iopub.status.busy": "2021-11-03T20:45:19.165183Z",
     "iopub.status.idle": "2021-11-03T20:45:19.184180Z",
     "shell.execute_reply": "2021-11-03T20:45:19.182179Z",
     "shell.execute_reply.started": "2021-11-03T20:45:19.166180Z"
    }
   },
   "outputs": [
    {
     "data": {
      "text/plain": [
       "['says',\n",
       " 'volcker',\n",
       " 'accept',\n",
       " 'term',\n",
       " 'fed',\n",
       " 'chairman',\n",
       " 'nominates',\n",
       " 'greenspan',\n",
       " 'blah',\n",
       " 'blah',\n",
       " 'blah']"
      ]
     },
     "execution_count": 27,
     "metadata": {},
     "output_type": "execute_result"
    }
   ],
   "source": [
    "text3 = df.text[20000]\n",
    "text_words = process_narrative(text3)\n",
    "text_words[0:20]"
   ]
  },
  {
   "cell_type": "markdown",
   "metadata": {},
   "source": [
    "# Concatenate all the narratives into a single string per topic"
   ]
  },
  {
   "cell_type": "code",
   "execution_count": 28,
   "metadata": {
    "execution": {
     "iopub.execute_input": "2021-11-03T20:45:19.189182Z",
     "iopub.status.busy": "2021-11-03T20:45:19.187180Z",
     "iopub.status.idle": "2021-11-03T20:45:19.316183Z",
     "shell.execute_reply": "2021-11-03T20:45:19.294180Z",
     "shell.execute_reply.started": "2021-11-03T20:45:19.189182Z"
    }
   },
   "outputs": [],
   "source": [
    "blank_df = df[df['topic'] == 'blank']\n",
    "other_df = df[df['topic'] == 'other']\n",
    "earn_df = df[df['topic'] == 'earn']"
   ]
  },
  {
   "cell_type": "code",
   "execution_count": 29,
   "metadata": {
    "execution": {
     "iopub.execute_input": "2021-11-03T20:45:19.322181Z",
     "iopub.status.busy": "2021-11-03T20:45:19.321182Z",
     "iopub.status.idle": "2021-11-03T20:45:19.339183Z",
     "shell.execute_reply": "2021-11-03T20:45:19.337182Z",
     "shell.execute_reply.started": "2021-11-03T20:45:19.321182Z"
    }
   },
   "outputs": [],
   "source": [
    "def concat_narratives(df):\n",
    "    # concat narratives\n",
    "    narr = ''\n",
    "    for i in range(len(df)):\n",
    "        narr += df.iloc[i]['text']\n",
    "    print('Finished Concatenation')\n",
    "    return narr"
   ]
  },
  {
   "cell_type": "code",
   "execution_count": 30,
   "metadata": {
    "execution": {
     "iopub.execute_input": "2021-11-03T20:45:19.344181Z",
     "iopub.status.busy": "2021-11-03T20:45:19.342180Z",
     "iopub.status.idle": "2021-11-03T20:46:37.655409Z",
     "shell.execute_reply": "2021-11-03T20:46:37.654411Z",
     "shell.execute_reply.started": "2021-11-03T20:45:19.343181Z"
    }
   },
   "outputs": [
    {
     "name": "stdout",
     "output_type": "stream",
     "text": [
      "Finished Concatenation\n",
      "Finished Concatenation\n",
      "Finished Concatenation\n"
     ]
    }
   ],
   "source": [
    "blank_text = concat_narratives(blank_df)\n",
    "blank_text_processed = process_narrative(blank_text)\n",
    "\n",
    "other_text = concat_narratives(other_df)\n",
    "other_text_processed = process_narrative(other_text)\n",
    "\n",
    "earn_text = concat_narratives(earn_df)\n",
    "earn_text_processed = process_narrative(earn_text)"
   ]
  },
  {
   "cell_type": "code",
   "execution_count": 31,
   "metadata": {
    "execution": {
     "iopub.execute_input": "2021-11-03T20:46:37.657414Z",
     "iopub.status.busy": "2021-11-03T20:46:37.657414Z",
     "iopub.status.idle": "2021-11-03T20:46:38.958413Z",
     "shell.execute_reply": "2021-11-03T20:46:38.957412Z",
     "shell.execute_reply.started": "2021-11-03T20:46:37.657414Z"
    }
   },
   "outputs": [
    {
     "data": {
      "text/plain": [
       "[('said', 27898),\n",
       " ('dlrs', 9311),\n",
       " ('pct', 8595),\n",
       " ('mln', 8379),\n",
       " ('march', 6899),\n",
       " ('new', 6091),\n",
       " ('company', 5242),\n",
       " ('billion', 4944),\n",
       " ('would', 4448),\n",
       " ('year', 4383),\n",
       " ('bank', 4370),\n",
       " ('april', 4078),\n",
       " ('inc', 4066),\n",
       " ('corp', 3922),\n",
       " ('debt', 3400),\n",
       " ('stock', 3229),\n",
       " ('market', 3076),\n",
       " ('one', 2738),\n",
       " ('last', 2681),\n",
       " ('shares', 2678),\n",
       " ('also', 2627),\n",
       " ('co', 2603),\n",
       " ('banks', 2370),\n",
       " ('two', 2248),\n",
       " ('york', 2231),\n",
       " ('government', 2206),\n",
       " ('may', 2202),\n",
       " ('dlr', 2177),\n",
       " ('june', 2094),\n",
       " ('first', 2072)]"
      ]
     },
     "execution_count": 31,
     "metadata": {},
     "output_type": "execute_result"
    }
   ],
   "source": [
    "FreqDist(blank_text_processed).most_common(30)"
   ]
  },
  {
   "cell_type": "code",
   "execution_count": 32,
   "metadata": {
    "execution": {
     "iopub.execute_input": "2021-11-03T20:46:38.961417Z",
     "iopub.status.busy": "2021-11-03T20:46:38.960417Z",
     "iopub.status.idle": "2021-11-03T20:46:40.068414Z",
     "shell.execute_reply": "2021-11-03T20:46:40.067412Z",
     "shell.execute_reply.started": "2021-11-03T20:46:38.961417Z"
    }
   },
   "outputs": [
    {
     "data": {
      "text/plain": [
       "[('said', 25437),\n",
       " ('pct', 9686),\n",
       " ('mln', 8106),\n",
       " ('dlrs', 7182),\n",
       " ('march', 5729),\n",
       " ('would', 5057),\n",
       " ('year', 4481),\n",
       " ('billion', 4444),\n",
       " ('trade', 3667),\n",
       " ('new', 3513),\n",
       " ('oil', 3474),\n",
       " ('bank', 3411),\n",
       " ('company', 3285),\n",
       " ('last', 3274),\n",
       " ('april', 3070),\n",
       " ('market', 3001),\n",
       " ('tonnes', 2927),\n",
       " ('prices', 2527),\n",
       " ('inc', 2503),\n",
       " ('also', 2423),\n",
       " ('shares', 2275),\n",
       " ('corp', 2210),\n",
       " ('one', 2204),\n",
       " ('two', 2066),\n",
       " ('price', 2030),\n",
       " ('government', 1991),\n",
       " ('japan', 1986),\n",
       " ('rate', 1951),\n",
       " ('stock', 1915),\n",
       " ('february', 1853)]"
      ]
     },
     "execution_count": 32,
     "metadata": {},
     "output_type": "execute_result"
    }
   ],
   "source": [
    "FreqDist(other_text_processed).most_common(30)"
   ]
  },
  {
   "cell_type": "code",
   "execution_count": 33,
   "metadata": {
    "execution": {
     "iopub.execute_input": "2021-11-03T20:46:40.070414Z",
     "iopub.status.busy": "2021-11-03T20:46:40.069418Z",
     "iopub.status.idle": "2021-11-03T20:46:40.463416Z",
     "shell.execute_reply": "2021-11-03T20:46:40.462412Z",
     "shell.execute_reply.started": "2021-11-03T20:46:40.070414Z"
    }
   },
   "outputs": [
    {
     "data": {
      "text/plain": [
       "[('vs', 14669),\n",
       " ('mln', 12057),\n",
       " ('cts', 8340),\n",
       " ('net', 6913),\n",
       " ('dlrs', 6511),\n",
       " ('loss', 5347),\n",
       " ('shr', 4200),\n",
       " ('said', 3828),\n",
       " ('march', 3569),\n",
       " ('year', 3345),\n",
       " ('profit', 3001),\n",
       " ('qtr', 2666),\n",
       " ('revs', 2467),\n",
       " ('billion', 2040),\n",
       " ('share', 1910),\n",
       " ('company', 1800),\n",
       " ('inc', 1779),\n",
       " ('april', 1771),\n",
       " ('note', 1497),\n",
       " ('pct', 1342),\n",
       " ('oper', 1338),\n",
       " ('corp', 1330),\n",
       " ('sales', 1329),\n",
       " ('quarter', 1232),\n",
       " ('dividend', 1102),\n",
       " ('avg', 1087),\n",
       " ('shrs', 1082),\n",
       " ('record', 1034),\n",
       " ('earnings', 946),\n",
       " ('stock', 923)]"
      ]
     },
     "execution_count": 33,
     "metadata": {},
     "output_type": "execute_result"
    }
   ],
   "source": [
    "FreqDist(earn_text_processed).most_common(30)"
   ]
  },
  {
   "cell_type": "code",
   "execution_count": 34,
   "metadata": {
    "execution": {
     "iopub.execute_input": "2021-11-03T20:46:40.466412Z",
     "iopub.status.busy": "2021-11-03T20:46:40.465413Z",
     "iopub.status.idle": "2021-11-03T20:46:40.480414Z",
     "shell.execute_reply": "2021-11-03T20:46:40.478412Z",
     "shell.execute_reply.started": "2021-11-03T20:46:40.466412Z"
    }
   },
   "outputs": [],
   "source": [
    "# import plotly\n",
    "# import plotly.graph_objects as go\n",
    "# import plotly.express as px\n",
    "\n",
    "# data = FreqDist(other_text_processed).most_common(35)\n",
    "# fig = go.Figure()\n",
    "# fig.add_trace(go.Bar(x= [data[i][0] for i in range(len(data))], y=[data[i][1] for i in range(len(data))]))\n",
    "# fig.update_layout(title = \"Most Common Words: Other\")\n",
    "# fig.show()"
   ]
  },
  {
   "cell_type": "code",
   "execution_count": 35,
   "metadata": {
    "execution": {
     "iopub.execute_input": "2021-11-03T20:46:40.483414Z",
     "iopub.status.busy": "2021-11-03T20:46:40.482416Z",
     "iopub.status.idle": "2021-11-03T20:46:40.496415Z",
     "shell.execute_reply": "2021-11-03T20:46:40.494411Z",
     "shell.execute_reply.started": "2021-11-03T20:46:40.483414Z"
    }
   },
   "outputs": [],
   "source": [
    "# objects = ('Python', 'C++', 'Java', 'Perl', 'Scala', 'Lisp')\n",
    "# y_pos = np.arange(len(objects))\n",
    "# performance = [10,8,6,4,2,1]\n",
    "\n",
    "# plt.bar(y_pos, performance, align='center', alpha=0.5)\n",
    "# plt.xticks(y_pos, objects)\n",
    "# plt.ylabel('Usage')\n",
    "# plt.title('Programming language usage')\n",
    "\n",
    "# plt.show()"
   ]
  },
  {
   "cell_type": "code",
   "execution_count": 36,
   "metadata": {
    "execution": {
     "iopub.execute_input": "2021-11-03T20:46:40.499412Z",
     "iopub.status.busy": "2021-11-03T20:46:40.498412Z",
     "iopub.status.idle": "2021-11-03T20:46:42.458414Z",
     "shell.execute_reply": "2021-11-03T20:46:42.456427Z",
     "shell.execute_reply.started": "2021-11-03T20:46:40.499412Z"
    }
   },
   "outputs": [
    {
     "data": {
      "image/png": "[encoded data removed]",
      "text/plain": [
       "<Figure size 1440x432 with 1 Axes>"
      ]
     },
     "metadata": {
      "needs_background": "light"
     },
     "output_type": "display_data"
    }
   ],
   "source": [
    "figure(figsize=(20, 6))\n",
    "other_words = FreqDist(other_text_processed).most_common(30)\n",
    "words = [i[0] for i in other_words]\n",
    "counts = [i[1] for i in other_words]\n",
    "plt.xticks(fontsize=15, rotation = 45)\n",
    "plt.bar(words, counts, color = 'seagreen')\n",
    "plt.show()"
   ]
  },
  {
   "cell_type": "code",
   "execution_count": 37,
   "metadata": {
    "execution": {
     "iopub.execute_input": "2021-11-03T20:46:42.460417Z",
     "iopub.status.busy": "2021-11-03T20:46:42.459415Z",
     "iopub.status.idle": "2021-11-03T20:46:44.221412Z",
     "shell.execute_reply": "2021-11-03T20:46:44.220411Z",
     "shell.execute_reply.started": "2021-11-03T20:46:42.460417Z"
    }
   },
   "outputs": [
    {
     "data": {
      "image/png": "[encoded data removed]",
      "text/plain": [
       "<Figure size 1440x432 with 1 Axes>"
      ]
     },
     "metadata": {
      "needs_background": "light"
     },
     "output_type": "display_data"
    }
   ],
   "source": [
    "figure(figsize=(20, 6))\n",
    "blank_words = FreqDist(blank_text_processed).most_common(30)\n",
    "words = [i[0] for i in blank_words]\n",
    "counts = [i[1] for i in blank_words]\n",
    "plt.xticks(fontsize=15, rotation = 45)\n",
    "plt.bar(words, counts, color = 'blue')\n",
    "plt.show()"
   ]
  },
  {
   "cell_type": "code",
   "execution_count": 38,
   "metadata": {
    "execution": {
     "iopub.execute_input": "2021-11-03T20:46:44.224414Z",
     "iopub.status.busy": "2021-11-03T20:46:44.223414Z",
     "iopub.status.idle": "2021-11-03T20:46:45.139413Z",
     "shell.execute_reply": "2021-11-03T20:46:45.136412Z",
     "shell.execute_reply.started": "2021-11-03T20:46:44.224414Z"
    }
   },
   "outputs": [
    {
     "data": {
      "image/png": "[encoded data removed]",
      "text/plain": [
       "<Figure size 1440x432 with 1 Axes>"
      ]
     },
     "metadata": {
      "needs_background": "light"
     },
     "output_type": "display_data"
    }
   ],
   "source": [
    "figure(figsize=(20, 6))\n",
    "earn_words = FreqDist(earn_text_processed).most_common(30)\n",
    "words = [i[0] for i in earn_words]\n",
    "counts = [i[1] for i in earn_words]\n",
    "plt.xticks(fontsize=15, rotation = 45)\n",
    "plt.bar(words, counts, color = 'aqua')\n",
    "plt.show()"
   ]
  },
  {
   "cell_type": "markdown",
   "metadata": {},
   "source": [
    "## Check with TF-IDF"
   ]
  },
  {
   "cell_type": "markdown",
   "metadata": {},
   "source": [
    "This step will help weight the words to equalize docs of different lengths."
   ]
  },
  {
   "cell_type": "code",
   "execution_count": 39,
   "metadata": {
    "execution": {
     "iopub.execute_input": "2021-11-03T20:46:45.141414Z",
     "iopub.status.busy": "2021-11-03T20:46:45.141414Z",
     "iopub.status.idle": "2021-11-03T20:46:45.154416Z",
     "shell.execute_reply": "2021-11-03T20:46:45.152418Z",
     "shell.execute_reply.started": "2021-11-03T20:46:45.141414Z"
    }
   },
   "outputs": [],
   "source": [
    "from sklearn.feature_extraction.text import TfidfVectorizer, CountVectorizer"
   ]
  },
  {
   "cell_type": "code",
   "execution_count": 40,
   "metadata": {
    "execution": {
     "iopub.execute_input": "2021-11-03T20:46:45.159419Z",
     "iopub.status.busy": "2021-11-03T20:46:45.158422Z",
     "iopub.status.idle": "2021-11-03T20:46:45.171436Z",
     "shell.execute_reply": "2021-11-03T20:46:45.168414Z",
     "shell.execute_reply.started": "2021-11-03T20:46:45.159419Z"
    }
   },
   "outputs": [],
   "source": [
    "# function to concat processed text as a single string inside a list\n",
    "def concat_words(list):\n",
    "    # remove any NaN's\n",
    "    list = [i for i in list if i is not np.nan]\n",
    "\n",
    "    # concat words\n",
    "    concat_words = ''\n",
    "    for word in list:\n",
    "        concat_words += word + ' '\n",
    "    return [concat_words]"
   ]
  },
  {
   "cell_type": "code",
   "execution_count": 41,
   "metadata": {
    "execution": {
     "iopub.execute_input": "2021-11-03T20:46:45.175416Z",
     "iopub.status.busy": "2021-11-03T20:46:45.174412Z",
     "iopub.status.idle": "2021-11-03T20:46:48.524412Z",
     "shell.execute_reply": "2021-11-03T20:46:48.523411Z",
     "shell.execute_reply.started": "2021-11-03T20:46:45.175416Z"
    }
   },
   "outputs": [],
   "source": [
    "vectorizer = TfidfVectorizer()\n",
    "blank_corpus = concat_words(blank_text_processed)\n",
    "X_blank = vectorizer.fit_transform(blank_corpus)"
   ]
  },
  {
   "cell_type": "code",
   "execution_count": 42,
   "metadata": {
    "execution": {
     "iopub.execute_input": "2021-11-03T20:46:48.527414Z",
     "iopub.status.busy": "2021-11-03T20:46:48.526413Z",
     "iopub.status.idle": "2021-11-03T20:46:48.540414Z",
     "shell.execute_reply": "2021-11-03T20:46:48.539412Z",
     "shell.execute_reply.started": "2021-11-03T20:46:48.527414Z"
    }
   },
   "outputs": [
    {
     "data": {
      "text/plain": [
       "(1, 32046)"
      ]
     },
     "execution_count": 42,
     "metadata": {},
     "output_type": "execute_result"
    }
   ],
   "source": [
    "X_blank.shape"
   ]
  },
  {
   "cell_type": "code",
   "execution_count": 43,
   "metadata": {
    "execution": {
     "iopub.execute_input": "2021-11-03T20:46:48.543412Z",
     "iopub.status.busy": "2021-11-03T20:46:48.542411Z",
     "iopub.status.idle": "2021-11-03T20:46:48.574414Z",
     "shell.execute_reply": "2021-11-03T20:46:48.571429Z",
     "shell.execute_reply.started": "2021-11-03T20:46:48.543412Z"
    }
   },
   "outputs": [
    {
     "data": {
      "text/plain": [
       "(32046, 1)"
      ]
     },
     "execution_count": 43,
     "metadata": {},
     "output_type": "execute_result"
    }
   ],
   "source": [
    "# making it to_dense will change the shape for a df\n",
    "X_blank = X_blank.T.todense()\n",
    "X_blank.shape"
   ]
  },
  {
   "cell_type": "code",
   "execution_count": 44,
   "metadata": {
    "execution": {
     "iopub.execute_input": "2021-11-03T20:46:48.577413Z",
     "iopub.status.busy": "2021-11-03T20:46:48.576413Z",
     "iopub.status.idle": "2021-11-03T20:46:48.669415Z",
     "shell.execute_reply": "2021-11-03T20:46:48.667412Z",
     "shell.execute_reply.started": "2021-11-03T20:46:48.577413Z"
    }
   },
   "outputs": [],
   "source": [
    "feature_names = vectorizer.get_feature_names()"
   ]
  },
  {
   "cell_type": "code",
   "execution_count": 45,
   "metadata": {
    "execution": {
     "iopub.execute_input": "2021-11-03T20:46:48.674414Z",
     "iopub.status.busy": "2021-11-03T20:46:48.672413Z",
     "iopub.status.idle": "2021-11-03T20:46:48.764415Z",
     "shell.execute_reply": "2021-11-03T20:46:48.762413Z",
     "shell.execute_reply.started": "2021-11-03T20:46:48.674414Z"
    }
   },
   "outputs": [
    {
     "data": {
      "text/html": [
       "<div>\n",
       "<style scoped>\n",
       "    .dataframe tbody tr th:only-of-type {\n",
       "        vertical-align: middle;\n",
       "    }\n",
       "\n",
       "    .dataframe tbody tr th {\n",
       "        vertical-align: top;\n",
       "    }\n",
       "\n",
       "    .dataframe thead th {\n",
       "        text-align: right;\n",
       "    }\n",
       "</style>\n",
       "<table border=\"1\" class=\"dataframe\">\n",
       "  <thead>\n",
       "    <tr style=\"text-align: right;\">\n",
       "      <th></th>\n",
       "      <th>score_blank</th>\n",
       "    </tr>\n",
       "  </thead>\n",
       "  <tbody>\n",
       "    <tr>\n",
       "      <th>said</th>\n",
       "      <td>0.690858</td>\n",
       "    </tr>\n",
       "    <tr>\n",
       "      <th>dlrs</th>\n",
       "      <td>0.230575</td>\n",
       "    </tr>\n",
       "    <tr>\n",
       "      <th>pct</th>\n",
       "      <td>0.212844</td>\n",
       "    </tr>\n",
       "    <tr>\n",
       "      <th>mln</th>\n",
       "      <td>0.207495</td>\n",
       "    </tr>\n",
       "    <tr>\n",
       "      <th>march</th>\n",
       "      <td>0.170845</td>\n",
       "    </tr>\n",
       "    <tr>\n",
       "      <th>new</th>\n",
       "      <td>0.150836</td>\n",
       "    </tr>\n",
       "    <tr>\n",
       "      <th>company</th>\n",
       "      <td>0.129811</td>\n",
       "    </tr>\n",
       "    <tr>\n",
       "      <th>billion</th>\n",
       "      <td>0.122432</td>\n",
       "    </tr>\n",
       "    <tr>\n",
       "      <th>would</th>\n",
       "      <td>0.110149</td>\n",
       "    </tr>\n",
       "    <tr>\n",
       "      <th>year</th>\n",
       "      <td>0.108539</td>\n",
       "    </tr>\n",
       "    <tr>\n",
       "      <th>bank</th>\n",
       "      <td>0.108217</td>\n",
       "    </tr>\n",
       "    <tr>\n",
       "      <th>april</th>\n",
       "      <td>0.100986</td>\n",
       "    </tr>\n",
       "    <tr>\n",
       "      <th>inc</th>\n",
       "      <td>0.100689</td>\n",
       "    </tr>\n",
       "    <tr>\n",
       "      <th>corp</th>\n",
       "      <td>0.097123</td>\n",
       "    </tr>\n",
       "    <tr>\n",
       "      <th>debt</th>\n",
       "      <td>0.084197</td>\n",
       "    </tr>\n",
       "  </tbody>\n",
       "</table>\n",
       "</div>"
      ],
      "text/plain": [
       "         score_blank\n",
       "said        0.690858\n",
       "dlrs        0.230575\n",
       "pct         0.212844\n",
       "mln         0.207495\n",
       "march       0.170845\n",
       "new         0.150836\n",
       "company     0.129811\n",
       "billion     0.122432\n",
       "would       0.110149\n",
       "year        0.108539\n",
       "bank        0.108217\n",
       "april       0.100986\n",
       "inc         0.100689\n",
       "corp        0.097123\n",
       "debt        0.084197"
      ]
     },
     "execution_count": 45,
     "metadata": {},
     "output_type": "execute_result"
    }
   ],
   "source": [
    "df_blank = pd.DataFrame(X_blank, index=feature_names, columns=[\"score_blank\"])\n",
    "df_blank = df_blank.sort_values(by=\"score_blank\", ascending=False)\n",
    "df_blank.iloc[0:15]"
   ]
  },
  {
   "cell_type": "markdown",
   "metadata": {},
   "source": [
    "Let's do it with the other two "
   ]
  },
  {
   "cell_type": "code",
   "execution_count": 46,
   "metadata": {
    "execution": {
     "iopub.execute_input": "2021-11-03T20:46:48.768415Z",
     "iopub.status.busy": "2021-11-03T20:46:48.767415Z",
     "iopub.status.idle": "2021-11-03T20:46:49.457415Z",
     "shell.execute_reply": "2021-11-03T20:46:49.456410Z",
     "shell.execute_reply.started": "2021-11-03T20:46:48.768415Z"
    }
   },
   "outputs": [
    {
     "data": {
      "text/html": [
       "<div>\n",
       "<style scoped>\n",
       "    .dataframe tbody tr th:only-of-type {\n",
       "        vertical-align: middle;\n",
       "    }\n",
       "\n",
       "    .dataframe tbody tr th {\n",
       "        vertical-align: top;\n",
       "    }\n",
       "\n",
       "    .dataframe thead th {\n",
       "        text-align: right;\n",
       "    }\n",
       "</style>\n",
       "<table border=\"1\" class=\"dataframe\">\n",
       "  <thead>\n",
       "    <tr style=\"text-align: right;\">\n",
       "      <th></th>\n",
       "      <th>score_earn</th>\n",
       "    </tr>\n",
       "  </thead>\n",
       "  <tbody>\n",
       "    <tr>\n",
       "      <th>vs</th>\n",
       "      <td>0.560540</td>\n",
       "    </tr>\n",
       "    <tr>\n",
       "      <th>mln</th>\n",
       "      <td>0.460729</td>\n",
       "    </tr>\n",
       "    <tr>\n",
       "      <th>cts</th>\n",
       "      <td>0.318693</td>\n",
       "    </tr>\n",
       "    <tr>\n",
       "      <th>net</th>\n",
       "      <td>0.264164</td>\n",
       "    </tr>\n",
       "    <tr>\n",
       "      <th>dlrs</th>\n",
       "      <td>0.248802</td>\n",
       "    </tr>\n",
       "    <tr>\n",
       "      <th>loss</th>\n",
       "      <td>0.204323</td>\n",
       "    </tr>\n",
       "    <tr>\n",
       "      <th>shr</th>\n",
       "      <td>0.160493</td>\n",
       "    </tr>\n",
       "    <tr>\n",
       "      <th>said</th>\n",
       "      <td>0.146278</td>\n",
       "    </tr>\n",
       "    <tr>\n",
       "      <th>march</th>\n",
       "      <td>0.136381</td>\n",
       "    </tr>\n",
       "    <tr>\n",
       "      <th>year</th>\n",
       "      <td>0.127821</td>\n",
       "    </tr>\n",
       "    <tr>\n",
       "      <th>profit</th>\n",
       "      <td>0.114676</td>\n",
       "    </tr>\n",
       "    <tr>\n",
       "      <th>qtr</th>\n",
       "      <td>0.101875</td>\n",
       "    </tr>\n",
       "    <tr>\n",
       "      <th>revs</th>\n",
       "      <td>0.094270</td>\n",
       "    </tr>\n",
       "    <tr>\n",
       "      <th>billion</th>\n",
       "      <td>0.077954</td>\n",
       "    </tr>\n",
       "    <tr>\n",
       "      <th>share</th>\n",
       "      <td>0.072986</td>\n",
       "    </tr>\n",
       "  </tbody>\n",
       "</table>\n",
       "</div>"
      ],
      "text/plain": [
       "         score_earn\n",
       "vs         0.560540\n",
       "mln        0.460729\n",
       "cts        0.318693\n",
       "net        0.264164\n",
       "dlrs       0.248802\n",
       "loss       0.204323\n",
       "shr        0.160493\n",
       "said       0.146278\n",
       "march      0.136381\n",
       "year       0.127821\n",
       "profit     0.114676\n",
       "qtr        0.101875\n",
       "revs       0.094270\n",
       "billion    0.077954\n",
       "share      0.072986"
      ]
     },
     "execution_count": 46,
     "metadata": {},
     "output_type": "execute_result"
    }
   ],
   "source": [
    "earn_corpus = concat_words(earn_text_processed)\n",
    "X_earn = vectorizer.fit_transform(earn_corpus)\n",
    "X_earn = X_earn.T.todense()\n",
    "feature_names = vectorizer.get_feature_names()\n",
    "df_earn = pd.DataFrame(X_earn, index=feature_names, columns=[\"score_earn\"])\n",
    "df_earn = df_earn.sort_values(by=\"score_earn\", ascending=False)\n",
    "df_earn.iloc[0:15]"
   ]
  },
  {
   "cell_type": "code",
   "execution_count": 47,
   "metadata": {
    "execution": {
     "iopub.execute_input": "2021-11-03T20:46:49.460411Z",
     "iopub.status.busy": "2021-11-03T20:46:49.459412Z",
     "iopub.status.idle": "2021-11-03T20:46:52.705413Z",
     "shell.execute_reply": "2021-11-03T20:46:52.702415Z",
     "shell.execute_reply.started": "2021-11-03T20:46:49.460411Z"
    }
   },
   "outputs": [
    {
     "data": {
      "text/html": [
       "<div>\n",
       "<style scoped>\n",
       "    .dataframe tbody tr th:only-of-type {\n",
       "        vertical-align: middle;\n",
       "    }\n",
       "\n",
       "    .dataframe tbody tr th {\n",
       "        vertical-align: top;\n",
       "    }\n",
       "\n",
       "    .dataframe thead th {\n",
       "        text-align: right;\n",
       "    }\n",
       "</style>\n",
       "<table border=\"1\" class=\"dataframe\">\n",
       "  <thead>\n",
       "    <tr style=\"text-align: right;\">\n",
       "      <th></th>\n",
       "      <th>score_other</th>\n",
       "    </tr>\n",
       "  </thead>\n",
       "  <tbody>\n",
       "    <tr>\n",
       "      <th>said</th>\n",
       "      <td>0.687384</td>\n",
       "    </tr>\n",
       "    <tr>\n",
       "      <th>pct</th>\n",
       "      <td>0.261745</td>\n",
       "    </tr>\n",
       "    <tr>\n",
       "      <th>mln</th>\n",
       "      <td>0.219048</td>\n",
       "    </tr>\n",
       "    <tr>\n",
       "      <th>dlrs</th>\n",
       "      <td>0.194079</td>\n",
       "    </tr>\n",
       "    <tr>\n",
       "      <th>march</th>\n",
       "      <td>0.154815</td>\n",
       "    </tr>\n",
       "    <tr>\n",
       "      <th>would</th>\n",
       "      <td>0.136655</td>\n",
       "    </tr>\n",
       "    <tr>\n",
       "      <th>year</th>\n",
       "      <td>0.121090</td>\n",
       "    </tr>\n",
       "    <tr>\n",
       "      <th>billion</th>\n",
       "      <td>0.120090</td>\n",
       "    </tr>\n",
       "    <tr>\n",
       "      <th>trade</th>\n",
       "      <td>0.099093</td>\n",
       "    </tr>\n",
       "    <tr>\n",
       "      <th>new</th>\n",
       "      <td>0.094932</td>\n",
       "    </tr>\n",
       "    <tr>\n",
       "      <th>oil</th>\n",
       "      <td>0.093878</td>\n",
       "    </tr>\n",
       "    <tr>\n",
       "      <th>bank</th>\n",
       "      <td>0.092175</td>\n",
       "    </tr>\n",
       "    <tr>\n",
       "      <th>company</th>\n",
       "      <td>0.088771</td>\n",
       "    </tr>\n",
       "    <tr>\n",
       "      <th>last</th>\n",
       "      <td>0.088473</td>\n",
       "    </tr>\n",
       "    <tr>\n",
       "      <th>april</th>\n",
       "      <td>0.082961</td>\n",
       "    </tr>\n",
       "  </tbody>\n",
       "</table>\n",
       "</div>"
      ],
      "text/plain": [
       "         score_other\n",
       "said        0.687384\n",
       "pct         0.261745\n",
       "mln         0.219048\n",
       "dlrs        0.194079\n",
       "march       0.154815\n",
       "would       0.136655\n",
       "year        0.121090\n",
       "billion     0.120090\n",
       "trade       0.099093\n",
       "new         0.094932\n",
       "oil         0.093878\n",
       "bank        0.092175\n",
       "company     0.088771\n",
       "last        0.088473\n",
       "april       0.082961"
      ]
     },
     "execution_count": 47,
     "metadata": {},
     "output_type": "execute_result"
    }
   ],
   "source": [
    "other_corpus = concat_words(other_text_processed)\n",
    "X_other = vectorizer.fit_transform(other_corpus)\n",
    "X_other = X_other.T.todense()\n",
    "feature_names = vectorizer.get_feature_names()\n",
    "df_other = pd.DataFrame(X_other, index=feature_names, columns=[\"score_other\"])\n",
    "df_other = df_other.sort_values(by=\"score_other\", ascending=False)\n",
    "df_other.iloc[0:15]"
   ]
  },
  {
   "cell_type": "markdown",
   "metadata": {},
   "source": [
    "# Making a combined TF-IDF dataframe"
   ]
  },
  {
   "cell_type": "code",
   "execution_count": 53,
   "metadata": {
    "execution": {
     "iopub.execute_input": "2021-11-03T20:52:04.108293Z",
     "iopub.status.busy": "2021-11-03T20:52:04.107292Z",
     "iopub.status.idle": "2021-11-03T20:52:04.118291Z",
     "shell.execute_reply": "2021-11-03T20:52:04.116291Z",
     "shell.execute_reply.started": "2021-11-03T20:52:04.108293Z"
    }
   },
   "outputs": [],
   "source": [
    "corpus = other_corpus + blank_corpus + earn_corpus"
   ]
  },
  {
   "cell_type": "code",
   "execution_count": 62,
   "metadata": {
    "execution": {
     "iopub.execute_input": "2021-11-03T20:57:54.686260Z",
     "iopub.status.busy": "2021-11-03T20:57:54.685260Z",
     "iopub.status.idle": "2021-11-03T20:57:54.706258Z",
     "shell.execute_reply": "2021-11-03T20:57:54.705294Z",
     "shell.execute_reply.started": "2021-11-03T20:57:54.686260Z"
    }
   },
   "outputs": [
    {
     "name": "stdout",
     "output_type": "stream",
     "text": [
      "<class 'list'>\n",
      "3\n"
     ]
    }
   ],
   "source": [
    "print(type(corpus))\n",
    "print(len(corpus))"
   ]
  },
  {
   "cell_type": "code",
   "execution_count": 60,
   "metadata": {
    "execution": {
     "iopub.execute_input": "2021-11-03T20:55:55.127050Z",
     "iopub.status.busy": "2021-11-03T20:55:55.127050Z",
     "iopub.status.idle": "2021-11-03T20:55:57.436050Z",
     "shell.execute_reply": "2021-11-03T20:55:57.435046Z",
     "shell.execute_reply.started": "2021-11-03T20:55:55.127050Z"
    }
   },
   "outputs": [
    {
     "data": {
      "text/html": [
       "<div>\n",
       "<style scoped>\n",
       "    .dataframe tbody tr th:only-of-type {\n",
       "        vertical-align: middle;\n",
       "    }\n",
       "\n",
       "    .dataframe tbody tr th {\n",
       "        vertical-align: top;\n",
       "    }\n",
       "\n",
       "    .dataframe thead th {\n",
       "        text-align: right;\n",
       "    }\n",
       "</style>\n",
       "<table border=\"1\" class=\"dataframe\">\n",
       "  <thead>\n",
       "    <tr style=\"text-align: right;\">\n",
       "      <th></th>\n",
       "      <th>other</th>\n",
       "      <th>blank</th>\n",
       "      <th>earn</th>\n",
       "    </tr>\n",
       "  </thead>\n",
       "  <tbody>\n",
       "    <tr>\n",
       "      <th>said</th>\n",
       "      <td>0.685971</td>\n",
       "      <td>0.689925</td>\n",
       "      <td>0.145644</td>\n",
       "    </tr>\n",
       "    <tr>\n",
       "      <th>pct</th>\n",
       "      <td>0.261207</td>\n",
       "      <td>0.212557</td>\n",
       "      <td>0.051059</td>\n",
       "    </tr>\n",
       "    <tr>\n",
       "      <th>mln</th>\n",
       "      <td>0.218598</td>\n",
       "      <td>0.207215</td>\n",
       "      <td>0.458733</td>\n",
       "    </tr>\n",
       "    <tr>\n",
       "      <th>dlrs</th>\n",
       "      <td>0.193680</td>\n",
       "      <td>0.230264</td>\n",
       "      <td>0.247724</td>\n",
       "    </tr>\n",
       "    <tr>\n",
       "      <th>march</th>\n",
       "      <td>0.154497</td>\n",
       "      <td>0.170614</td>\n",
       "      <td>0.135790</td>\n",
       "    </tr>\n",
       "    <tr>\n",
       "      <th>would</th>\n",
       "      <td>0.136374</td>\n",
       "      <td>0.110000</td>\n",
       "      <td>0.017159</td>\n",
       "    </tr>\n",
       "    <tr>\n",
       "      <th>year</th>\n",
       "      <td>0.120841</td>\n",
       "      <td>0.108393</td>\n",
       "      <td>0.127267</td>\n",
       "    </tr>\n",
       "    <tr>\n",
       "      <th>billion</th>\n",
       "      <td>0.119843</td>\n",
       "      <td>0.122267</td>\n",
       "      <td>0.077616</td>\n",
       "    </tr>\n",
       "    <tr>\n",
       "      <th>trade</th>\n",
       "      <td>0.098890</td>\n",
       "      <td>0.031729</td>\n",
       "      <td>0.000989</td>\n",
       "    </tr>\n",
       "    <tr>\n",
       "      <th>new</th>\n",
       "      <td>0.094737</td>\n",
       "      <td>0.150632</td>\n",
       "      <td>0.031921</td>\n",
       "    </tr>\n",
       "    <tr>\n",
       "      <th>oil</th>\n",
       "      <td>0.093685</td>\n",
       "      <td>0.017682</td>\n",
       "      <td>0.011262</td>\n",
       "    </tr>\n",
       "    <tr>\n",
       "      <th>bank</th>\n",
       "      <td>0.091986</td>\n",
       "      <td>0.108071</td>\n",
       "      <td>0.021991</td>\n",
       "    </tr>\n",
       "    <tr>\n",
       "      <th>company</th>\n",
       "      <td>0.088588</td>\n",
       "      <td>0.129636</td>\n",
       "      <td>0.068485</td>\n",
       "    </tr>\n",
       "    <tr>\n",
       "      <th>last</th>\n",
       "      <td>0.088291</td>\n",
       "      <td>0.066302</td>\n",
       "      <td>0.018225</td>\n",
       "    </tr>\n",
       "    <tr>\n",
       "      <th>april</th>\n",
       "      <td>0.082790</td>\n",
       "      <td>0.100850</td>\n",
       "      <td>0.067381</td>\n",
       "    </tr>\n",
       "  </tbody>\n",
       "</table>\n",
       "</div>"
      ],
      "text/plain": [
       "            other     blank      earn\n",
       "said     0.685971  0.689925  0.145644\n",
       "pct      0.261207  0.212557  0.051059\n",
       "mln      0.218598  0.207215  0.458733\n",
       "dlrs     0.193680  0.230264  0.247724\n",
       "march    0.154497  0.170614  0.135790\n",
       "would    0.136374  0.110000  0.017159\n",
       "year     0.120841  0.108393  0.127267\n",
       "billion  0.119843  0.122267  0.077616\n",
       "trade    0.098890  0.031729  0.000989\n",
       "new      0.094737  0.150632  0.031921\n",
       "oil      0.093685  0.017682  0.011262\n",
       "bank     0.091986  0.108071  0.021991\n",
       "company  0.088588  0.129636  0.068485\n",
       "last     0.088291  0.066302  0.018225\n",
       "april    0.082790  0.100850  0.067381"
      ]
     },
     "execution_count": 60,
     "metadata": {},
     "output_type": "execute_result"
    }
   ],
   "source": [
    "X_corpus = vectorizer.fit_transform(corpus)\n",
    "X_corpus = X_corpus.T.todense()\n",
    "feature_names = vectorizer.get_feature_names()\n",
    "df_corpus = pd.DataFrame(X_corpus, index=feature_names, columns=[\"other\", \"blank\", \"earn\"])\n",
    "df_corpus = df_corpus.sort_values(by=\"other\", ascending=False)\n",
    "df_corpus.iloc[0:15]"
   ]
  },
  {
   "cell_type": "code",
   "execution_count": 64,
   "metadata": {
    "execution": {
     "iopub.execute_input": "2021-11-03T20:59:05.967957Z",
     "iopub.status.busy": "2021-11-03T20:59:05.966953Z",
     "iopub.status.idle": "2021-11-03T20:59:05.994957Z",
     "shell.execute_reply": "2021-11-03T20:59:05.993988Z",
     "shell.execute_reply.started": "2021-11-03T20:59:05.967957Z"
    }
   },
   "outputs": [
    {
     "data": {
      "text/html": [
       "<div>\n",
       "<style scoped>\n",
       "    .dataframe tbody tr th:only-of-type {\n",
       "        vertical-align: middle;\n",
       "    }\n",
       "\n",
       "    .dataframe tbody tr th {\n",
       "        vertical-align: top;\n",
       "    }\n",
       "\n",
       "    .dataframe thead th {\n",
       "        text-align: right;\n",
       "    }\n",
       "</style>\n",
       "<table border=\"1\" class=\"dataframe\">\n",
       "  <thead>\n",
       "    <tr style=\"text-align: right;\">\n",
       "      <th></th>\n",
       "      <th>other</th>\n",
       "      <th>blank</th>\n",
       "      <th>earn</th>\n",
       "    </tr>\n",
       "  </thead>\n",
       "  <tbody>\n",
       "    <tr>\n",
       "      <th>vs</th>\n",
       "      <td>0.008171</td>\n",
       "      <td>0.016421</td>\n",
       "      <td>0.558112</td>\n",
       "    </tr>\n",
       "    <tr>\n",
       "      <th>mln</th>\n",
       "      <td>0.218598</td>\n",
       "      <td>0.207215</td>\n",
       "      <td>0.458733</td>\n",
       "    </tr>\n",
       "    <tr>\n",
       "      <th>cts</th>\n",
       "      <td>0.011920</td>\n",
       "      <td>0.025596</td>\n",
       "      <td>0.317312</td>\n",
       "    </tr>\n",
       "    <tr>\n",
       "      <th>net</th>\n",
       "      <td>0.011407</td>\n",
       "      <td>0.018844</td>\n",
       "      <td>0.263019</td>\n",
       "    </tr>\n",
       "    <tr>\n",
       "      <th>dlrs</th>\n",
       "      <td>0.193680</td>\n",
       "      <td>0.230264</td>\n",
       "      <td>0.247724</td>\n",
       "    </tr>\n",
       "    <tr>\n",
       "      <th>loss</th>\n",
       "      <td>0.005609</td>\n",
       "      <td>0.013008</td>\n",
       "      <td>0.203438</td>\n",
       "    </tr>\n",
       "    <tr>\n",
       "      <th>shr</th>\n",
       "      <td>0.000054</td>\n",
       "      <td>0.004773</td>\n",
       "      <td>0.159798</td>\n",
       "    </tr>\n",
       "    <tr>\n",
       "      <th>said</th>\n",
       "      <td>0.685971</td>\n",
       "      <td>0.689925</td>\n",
       "      <td>0.145644</td>\n",
       "    </tr>\n",
       "    <tr>\n",
       "      <th>march</th>\n",
       "      <td>0.154497</td>\n",
       "      <td>0.170614</td>\n",
       "      <td>0.135790</td>\n",
       "    </tr>\n",
       "    <tr>\n",
       "      <th>year</th>\n",
       "      <td>0.120841</td>\n",
       "      <td>0.108393</td>\n",
       "      <td>0.127267</td>\n",
       "    </tr>\n",
       "    <tr>\n",
       "      <th>revs</th>\n",
       "      <td>0.000000</td>\n",
       "      <td>0.002070</td>\n",
       "      <td>0.120865</td>\n",
       "    </tr>\n",
       "    <tr>\n",
       "      <th>profit</th>\n",
       "      <td>0.003533</td>\n",
       "      <td>0.008952</td>\n",
       "      <td>0.114179</td>\n",
       "    </tr>\n",
       "    <tr>\n",
       "      <th>qtr</th>\n",
       "      <td>0.000836</td>\n",
       "      <td>0.004946</td>\n",
       "      <td>0.101433</td>\n",
       "    </tr>\n",
       "    <tr>\n",
       "      <th>billion</th>\n",
       "      <td>0.119843</td>\n",
       "      <td>0.122267</td>\n",
       "      <td>0.077616</td>\n",
       "    </tr>\n",
       "    <tr>\n",
       "      <th>share</th>\n",
       "      <td>0.040451</td>\n",
       "      <td>0.042808</td>\n",
       "      <td>0.072670</td>\n",
       "    </tr>\n",
       "  </tbody>\n",
       "</table>\n",
       "</div>"
      ],
      "text/plain": [
       "            other     blank      earn\n",
       "vs       0.008171  0.016421  0.558112\n",
       "mln      0.218598  0.207215  0.458733\n",
       "cts      0.011920  0.025596  0.317312\n",
       "net      0.011407  0.018844  0.263019\n",
       "dlrs     0.193680  0.230264  0.247724\n",
       "loss     0.005609  0.013008  0.203438\n",
       "shr      0.000054  0.004773  0.159798\n",
       "said     0.685971  0.689925  0.145644\n",
       "march    0.154497  0.170614  0.135790\n",
       "year     0.120841  0.108393  0.127267\n",
       "revs     0.000000  0.002070  0.120865\n",
       "profit   0.003533  0.008952  0.114179\n",
       "qtr      0.000836  0.004946  0.101433\n",
       "billion  0.119843  0.122267  0.077616\n",
       "share    0.040451  0.042808  0.072670"
      ]
     },
     "execution_count": 64,
     "metadata": {},
     "output_type": "execute_result"
    }
   ],
   "source": [
    "df_corpus.sort_values(by=\"earn\", ascending=False).iloc[0:15]"
   ]
  },
  {
   "cell_type": "markdown",
   "metadata": {
    "execution": {
     "iopub.execute_input": "2021-11-03T20:54:01.801947Z",
     "iopub.status.busy": "2021-11-03T20:54:01.800949Z",
     "iopub.status.idle": "2021-11-03T20:54:01.824949Z",
     "shell.execute_reply": "2021-11-03T20:54:01.822950Z",
     "shell.execute_reply.started": "2021-11-03T20:54:01.801947Z"
    }
   },
   "source": [
    "# Create TF-IDF with bigrams"
   ]
  },
  {
   "cell_type": "code",
   "execution_count": 72,
   "metadata": {
    "execution": {
     "iopub.execute_input": "2021-11-03T21:12:59.897151Z",
     "iopub.status.busy": "2021-11-03T21:12:59.897151Z",
     "iopub.status.idle": "2021-11-03T21:13:13.489149Z",
     "shell.execute_reply": "2021-11-03T21:13:13.488147Z",
     "shell.execute_reply.started": "2021-11-03T21:12:59.897151Z"
    }
   },
   "outputs": [
    {
     "data": {
      "text/html": [
       "<div>\n",
       "<style scoped>\n",
       "    .dataframe tbody tr th:only-of-type {\n",
       "        vertical-align: middle;\n",
       "    }\n",
       "\n",
       "    .dataframe tbody tr th {\n",
       "        vertical-align: top;\n",
       "    }\n",
       "\n",
       "    .dataframe thead th {\n",
       "        text-align: right;\n",
       "    }\n",
       "</style>\n",
       "<table border=\"1\" class=\"dataframe\">\n",
       "  <thead>\n",
       "    <tr style=\"text-align: right;\">\n",
       "      <th></th>\n",
       "      <th>other</th>\n",
       "      <th>blank</th>\n",
       "      <th>earn</th>\n",
       "    </tr>\n",
       "  </thead>\n",
       "  <tbody>\n",
       "    <tr>\n",
       "      <th>said</th>\n",
       "      <td>0.675847</td>\n",
       "      <td>0.676699</td>\n",
       "      <td>0.135133</td>\n",
       "    </tr>\n",
       "    <tr>\n",
       "      <th>pct</th>\n",
       "      <td>0.257352</td>\n",
       "      <td>0.208482</td>\n",
       "      <td>0.047374</td>\n",
       "    </tr>\n",
       "    <tr>\n",
       "      <th>mln</th>\n",
       "      <td>0.215372</td>\n",
       "      <td>0.203243</td>\n",
       "      <td>0.425628</td>\n",
       "    </tr>\n",
       "    <tr>\n",
       "      <th>dlrs</th>\n",
       "      <td>0.190822</td>\n",
       "      <td>0.225849</td>\n",
       "      <td>0.229847</td>\n",
       "    </tr>\n",
       "    <tr>\n",
       "      <th>march</th>\n",
       "      <td>0.152216</td>\n",
       "      <td>0.167343</td>\n",
       "      <td>0.125990</td>\n",
       "    </tr>\n",
       "    <tr>\n",
       "      <th>would</th>\n",
       "      <td>0.134362</td>\n",
       "      <td>0.107891</td>\n",
       "      <td>0.015921</td>\n",
       "    </tr>\n",
       "    <tr>\n",
       "      <th>year</th>\n",
       "      <td>0.119058</td>\n",
       "      <td>0.106315</td>\n",
       "      <td>0.118083</td>\n",
       "    </tr>\n",
       "    <tr>\n",
       "      <th>billion</th>\n",
       "      <td>0.118075</td>\n",
       "      <td>0.119923</td>\n",
       "      <td>0.072015</td>\n",
       "    </tr>\n",
       "    <tr>\n",
       "      <th>trade</th>\n",
       "      <td>0.097430</td>\n",
       "      <td>0.031121</td>\n",
       "      <td>0.000918</td>\n",
       "    </tr>\n",
       "    <tr>\n",
       "      <th>new</th>\n",
       "      <td>0.093338</td>\n",
       "      <td>0.147744</td>\n",
       "      <td>0.029618</td>\n",
       "    </tr>\n",
       "    <tr>\n",
       "      <th>oil</th>\n",
       "      <td>0.092302</td>\n",
       "      <td>0.017343</td>\n",
       "      <td>0.010449</td>\n",
       "    </tr>\n",
       "    <tr>\n",
       "      <th>bank</th>\n",
       "      <td>0.090628</td>\n",
       "      <td>0.106000</td>\n",
       "      <td>0.020404</td>\n",
       "    </tr>\n",
       "    <tr>\n",
       "      <th>company</th>\n",
       "      <td>0.087281</td>\n",
       "      <td>0.127151</td>\n",
       "      <td>0.063542</td>\n",
       "    </tr>\n",
       "    <tr>\n",
       "      <th>last</th>\n",
       "      <td>0.086988</td>\n",
       "      <td>0.065031</td>\n",
       "      <td>0.016909</td>\n",
       "    </tr>\n",
       "    <tr>\n",
       "      <th>april</th>\n",
       "      <td>0.081568</td>\n",
       "      <td>0.098917</td>\n",
       "      <td>0.062519</td>\n",
       "    </tr>\n",
       "  </tbody>\n",
       "</table>\n",
       "</div>"
      ],
      "text/plain": [
       "            other     blank      earn\n",
       "said     0.675847  0.676699  0.135133\n",
       "pct      0.257352  0.208482  0.047374\n",
       "mln      0.215372  0.203243  0.425628\n",
       "dlrs     0.190822  0.225849  0.229847\n",
       "march    0.152216  0.167343  0.125990\n",
       "would    0.134362  0.107891  0.015921\n",
       "year     0.119058  0.106315  0.118083\n",
       "billion  0.118075  0.119923  0.072015\n",
       "trade    0.097430  0.031121  0.000918\n",
       "new      0.093338  0.147744  0.029618\n",
       "oil      0.092302  0.017343  0.010449\n",
       "bank     0.090628  0.106000  0.020404\n",
       "company  0.087281  0.127151  0.063542\n",
       "last     0.086988  0.065031  0.016909\n",
       "april    0.081568  0.098917  0.062519"
      ]
     },
     "execution_count": 72,
     "metadata": {},
     "output_type": "execute_result"
    }
   ],
   "source": [
    "vectorizer = TfidfVectorizer(ngram_range=(1,2))\n",
    "\n",
    "X_corpus = vectorizer.fit_transform(corpus)\n",
    "X_corpus = X_corpus.T.todense()\n",
    "feature_names = vectorizer.get_feature_names()\n",
    "df_corpus = pd.DataFrame(X_corpus, index=feature_names, columns=[\"other\", \"blank\", \"earn\"])\n",
    "df_corpus = df_corpus.sort_values(by=\"other\", ascending=False)\n",
    "df_corpus.iloc[0:15]"
   ]
  },
  {
   "cell_type": "code",
   "execution_count": 73,
   "metadata": {
    "execution": {
     "iopub.execute_input": "2021-11-03T21:13:35.220592Z",
     "iopub.status.busy": "2021-11-03T21:13:35.219589Z",
     "iopub.status.idle": "2021-11-03T21:13:35.242589Z",
     "shell.execute_reply": "2021-11-03T21:13:35.241591Z",
     "shell.execute_reply.started": "2021-11-03T21:13:35.220592Z"
    }
   },
   "outputs": [
    {
     "data": {
      "text/plain": [
       "['said',\n",
       " 'pct',\n",
       " 'mln',\n",
       " 'dlrs',\n",
       " 'march',\n",
       " 'would',\n",
       " 'year',\n",
       " 'billion',\n",
       " 'trade',\n",
       " 'new',\n",
       " 'oil',\n",
       " 'bank',\n",
       " 'company',\n",
       " 'last',\n",
       " 'april',\n",
       " 'market',\n",
       " 'tonnes',\n",
       " 'mln dlrs',\n",
       " 'prices',\n",
       " 'inc']"
      ]
     },
     "execution_count": 73,
     "metadata": {},
     "output_type": "execute_result"
    }
   ],
   "source": [
    "top_words_tfidf_earn = df_corpus.index[0:20].values.tolist()\n",
    "top_words_tfidf_earn"
   ]
  },
  {
   "cell_type": "code",
   "execution_count": 66,
   "metadata": {
    "execution": {
     "iopub.execute_input": "2021-11-03T21:02:45.187935Z",
     "iopub.status.busy": "2021-11-03T21:02:45.186935Z",
     "iopub.status.idle": "2021-11-03T21:02:45.398938Z",
     "shell.execute_reply": "2021-11-03T21:02:45.397941Z",
     "shell.execute_reply.started": "2021-11-03T21:02:45.187935Z"
    }
   },
   "outputs": [
    {
     "data": {
      "text/html": [
       "<div>\n",
       "<style scoped>\n",
       "    .dataframe tbody tr th:only-of-type {\n",
       "        vertical-align: middle;\n",
       "    }\n",
       "\n",
       "    .dataframe tbody tr th {\n",
       "        vertical-align: top;\n",
       "    }\n",
       "\n",
       "    .dataframe thead th {\n",
       "        text-align: right;\n",
       "    }\n",
       "</style>\n",
       "<table border=\"1\" class=\"dataframe\">\n",
       "  <thead>\n",
       "    <tr style=\"text-align: right;\">\n",
       "      <th></th>\n",
       "      <th>other</th>\n",
       "      <th>blank</th>\n",
       "      <th>earn</th>\n",
       "    </tr>\n",
       "  </thead>\n",
       "  <tbody>\n",
       "    <tr>\n",
       "      <th>vs</th>\n",
       "      <td>0.008051</td>\n",
       "      <td>0.016106</td>\n",
       "      <td>0.517835</td>\n",
       "    </tr>\n",
       "    <tr>\n",
       "      <th>mln</th>\n",
       "      <td>0.215372</td>\n",
       "      <td>0.203243</td>\n",
       "      <td>0.425628</td>\n",
       "    </tr>\n",
       "    <tr>\n",
       "      <th>cts</th>\n",
       "      <td>0.011744</td>\n",
       "      <td>0.025105</td>\n",
       "      <td>0.294413</td>\n",
       "    </tr>\n",
       "    <tr>\n",
       "      <th>net</th>\n",
       "      <td>0.011239</td>\n",
       "      <td>0.018483</td>\n",
       "      <td>0.244038</td>\n",
       "    </tr>\n",
       "    <tr>\n",
       "      <th>dlrs</th>\n",
       "      <td>0.190822</td>\n",
       "      <td>0.225849</td>\n",
       "      <td>0.229847</td>\n",
       "    </tr>\n",
       "    <tr>\n",
       "      <th>loss</th>\n",
       "      <td>0.005526</td>\n",
       "      <td>0.012759</td>\n",
       "      <td>0.188756</td>\n",
       "    </tr>\n",
       "    <tr>\n",
       "      <th>shr</th>\n",
       "      <td>0.000053</td>\n",
       "      <td>0.004681</td>\n",
       "      <td>0.148266</td>\n",
       "    </tr>\n",
       "    <tr>\n",
       "      <th>mln vs</th>\n",
       "      <td>0.000133</td>\n",
       "      <td>0.002498</td>\n",
       "      <td>0.143147</td>\n",
       "    </tr>\n",
       "    <tr>\n",
       "      <th>vs mln</th>\n",
       "      <td>0.001913</td>\n",
       "      <td>0.002911</td>\n",
       "      <td>0.141452</td>\n",
       "    </tr>\n",
       "    <tr>\n",
       "      <th>said</th>\n",
       "      <td>0.675847</td>\n",
       "      <td>0.676699</td>\n",
       "      <td>0.135133</td>\n",
       "    </tr>\n",
       "    <tr>\n",
       "      <th>march</th>\n",
       "      <td>0.152216</td>\n",
       "      <td>0.167343</td>\n",
       "      <td>0.125990</td>\n",
       "    </tr>\n",
       "    <tr>\n",
       "      <th>cts vs</th>\n",
       "      <td>0.000053</td>\n",
       "      <td>0.006937</td>\n",
       "      <td>0.122143</td>\n",
       "    </tr>\n",
       "    <tr>\n",
       "      <th>year</th>\n",
       "      <td>0.119058</td>\n",
       "      <td>0.106315</td>\n",
       "      <td>0.118083</td>\n",
       "    </tr>\n",
       "    <tr>\n",
       "      <th>revs</th>\n",
       "      <td>0.000000</td>\n",
       "      <td>0.002030</td>\n",
       "      <td>0.112142</td>\n",
       "    </tr>\n",
       "    <tr>\n",
       "      <th>profit</th>\n",
       "      <td>0.003481</td>\n",
       "      <td>0.008781</td>\n",
       "      <td>0.105939</td>\n",
       "    </tr>\n",
       "  </tbody>\n",
       "</table>\n",
       "</div>"
      ],
      "text/plain": [
       "           other     blank      earn\n",
       "vs      0.008051  0.016106  0.517835\n",
       "mln     0.215372  0.203243  0.425628\n",
       "cts     0.011744  0.025105  0.294413\n",
       "net     0.011239  0.018483  0.244038\n",
       "dlrs    0.190822  0.225849  0.229847\n",
       "loss    0.005526  0.012759  0.188756\n",
       "shr     0.000053  0.004681  0.148266\n",
       "mln vs  0.000133  0.002498  0.143147\n",
       "vs mln  0.001913  0.002911  0.141452\n",
       "said    0.675847  0.676699  0.135133\n",
       "march   0.152216  0.167343  0.125990\n",
       "cts vs  0.000053  0.006937  0.122143\n",
       "year    0.119058  0.106315  0.118083\n",
       "revs    0.000000  0.002030  0.112142\n",
       "profit  0.003481  0.008781  0.105939"
      ]
     },
     "execution_count": 66,
     "metadata": {},
     "output_type": "execute_result"
    }
   ],
   "source": [
    "df_corpus.sort_values(by=\"earn\", ascending=False).iloc[0:15]"
   ]
  },
  {
   "cell_type": "markdown",
   "metadata": {},
   "source": [
    "Bi-grams may matter as they do occupy some top positions when sorting by \"earn\""
   ]
  },
  {
   "cell_type": "markdown",
   "metadata": {},
   "source": [
    "Let's try it with tri-grams, sorted by \"earn\""
   ]
  },
  {
   "cell_type": "code",
   "execution_count": 67,
   "metadata": {
    "execution": {
     "iopub.execute_input": "2021-11-03T21:04:47.763909Z",
     "iopub.status.busy": "2021-11-03T21:04:47.763909Z",
     "iopub.status.idle": "2021-11-03T21:05:11.632911Z",
     "shell.execute_reply": "2021-11-03T21:05:11.631908Z",
     "shell.execute_reply.started": "2021-11-03T21:04:47.763909Z"
    }
   },
   "outputs": [
    {
     "data": {
      "text/html": [
       "<div>\n",
       "<style scoped>\n",
       "    .dataframe tbody tr th:only-of-type {\n",
       "        vertical-align: middle;\n",
       "    }\n",
       "\n",
       "    .dataframe tbody tr th {\n",
       "        vertical-align: top;\n",
       "    }\n",
       "\n",
       "    .dataframe thead th {\n",
       "        text-align: right;\n",
       "    }\n",
       "</style>\n",
       "<table border=\"1\" class=\"dataframe\">\n",
       "  <thead>\n",
       "    <tr style=\"text-align: right;\">\n",
       "      <th></th>\n",
       "      <th>other</th>\n",
       "      <th>blank</th>\n",
       "      <th>earn</th>\n",
       "    </tr>\n",
       "  </thead>\n",
       "  <tbody>\n",
       "    <tr>\n",
       "      <th>vs</th>\n",
       "      <td>0.008034</td>\n",
       "      <td>0.016065</td>\n",
       "      <td>0.502745</td>\n",
       "    </tr>\n",
       "    <tr>\n",
       "      <th>mln</th>\n",
       "      <td>0.214919</td>\n",
       "      <td>0.202724</td>\n",
       "      <td>0.413225</td>\n",
       "    </tr>\n",
       "    <tr>\n",
       "      <th>cts</th>\n",
       "      <td>0.011719</td>\n",
       "      <td>0.025041</td>\n",
       "      <td>0.285834</td>\n",
       "    </tr>\n",
       "    <tr>\n",
       "      <th>net</th>\n",
       "      <td>0.011215</td>\n",
       "      <td>0.018436</td>\n",
       "      <td>0.236927</td>\n",
       "    </tr>\n",
       "    <tr>\n",
       "      <th>dlrs</th>\n",
       "      <td>0.190421</td>\n",
       "      <td>0.225273</td>\n",
       "      <td>0.223149</td>\n",
       "    </tr>\n",
       "    <tr>\n",
       "      <th>loss</th>\n",
       "      <td>0.005515</td>\n",
       "      <td>0.012726</td>\n",
       "      <td>0.183256</td>\n",
       "    </tr>\n",
       "    <tr>\n",
       "      <th>shr</th>\n",
       "      <td>0.000053</td>\n",
       "      <td>0.004669</td>\n",
       "      <td>0.143945</td>\n",
       "    </tr>\n",
       "    <tr>\n",
       "      <th>mln vs</th>\n",
       "      <td>0.000133</td>\n",
       "      <td>0.002492</td>\n",
       "      <td>0.138975</td>\n",
       "    </tr>\n",
       "    <tr>\n",
       "      <th>vs mln</th>\n",
       "      <td>0.001909</td>\n",
       "      <td>0.002903</td>\n",
       "      <td>0.137330</td>\n",
       "    </tr>\n",
       "    <tr>\n",
       "      <th>said</th>\n",
       "      <td>0.674427</td>\n",
       "      <td>0.674972</td>\n",
       "      <td>0.131196</td>\n",
       "    </tr>\n",
       "    <tr>\n",
       "      <th>march</th>\n",
       "      <td>0.151897</td>\n",
       "      <td>0.166916</td>\n",
       "      <td>0.122319</td>\n",
       "    </tr>\n",
       "    <tr>\n",
       "      <th>mln vs mln</th>\n",
       "      <td>0.000133</td>\n",
       "      <td>0.002323</td>\n",
       "      <td>0.120365</td>\n",
       "    </tr>\n",
       "    <tr>\n",
       "      <th>cts vs</th>\n",
       "      <td>0.000053</td>\n",
       "      <td>0.006920</td>\n",
       "      <td>0.118583</td>\n",
       "    </tr>\n",
       "    <tr>\n",
       "      <th>year</th>\n",
       "      <td>0.118808</td>\n",
       "      <td>0.106044</td>\n",
       "      <td>0.114642</td>\n",
       "    </tr>\n",
       "    <tr>\n",
       "      <th>revs</th>\n",
       "      <td>0.000000</td>\n",
       "      <td>0.002025</td>\n",
       "      <td>0.108874</td>\n",
       "    </tr>\n",
       "  </tbody>\n",
       "</table>\n",
       "</div>"
      ],
      "text/plain": [
       "               other     blank      earn\n",
       "vs          0.008034  0.016065  0.502745\n",
       "mln         0.214919  0.202724  0.413225\n",
       "cts         0.011719  0.025041  0.285834\n",
       "net         0.011215  0.018436  0.236927\n",
       "dlrs        0.190421  0.225273  0.223149\n",
       "loss        0.005515  0.012726  0.183256\n",
       "shr         0.000053  0.004669  0.143945\n",
       "mln vs      0.000133  0.002492  0.138975\n",
       "vs mln      0.001909  0.002903  0.137330\n",
       "said        0.674427  0.674972  0.131196\n",
       "march       0.151897  0.166916  0.122319\n",
       "mln vs mln  0.000133  0.002323  0.120365\n",
       "cts vs      0.000053  0.006920  0.118583\n",
       "year        0.118808  0.106044  0.114642\n",
       "revs        0.000000  0.002025  0.108874"
      ]
     },
     "execution_count": 67,
     "metadata": {},
     "output_type": "execute_result"
    }
   ],
   "source": [
    "vectorizer = TfidfVectorizer(ngram_range=(1,3))\n",
    "\n",
    "X_corpus = vectorizer.fit_transform(corpus)\n",
    "X_corpus = X_corpus.T.todense()\n",
    "feature_names = vectorizer.get_feature_names()\n",
    "df_corpus = pd.DataFrame(X_corpus, index=feature_names, columns=[\"other\", \"blank\", \"earn\"])\n",
    "df_corpus = df_corpus.sort_values(by=\"earn\", ascending=False)\n",
    "df_corpus.iloc[0:15]"
   ]
  },
  {
   "cell_type": "markdown",
   "metadata": {},
   "source": [
    "There is one tri-gram in the 12 position"
   ]
  },
  {
   "cell_type": "markdown",
   "metadata": {
    "execution": {
     "iopub.execute_input": "2021-11-03T21:07:36.803196Z",
     "iopub.status.busy": "2021-11-03T21:07:36.802193Z",
     "iopub.status.idle": "2021-11-03T21:07:36.814194Z",
     "shell.execute_reply": "2021-11-03T21:07:36.813190Z",
     "shell.execute_reply.started": "2021-11-03T21:07:36.803196Z"
    }
   },
   "source": [
    "## CountVectorizer"
   ]
  },
  {
   "cell_type": "markdown",
   "metadata": {},
   "source": [
    "Try it with bi-grams"
   ]
  },
  {
   "cell_type": "code",
   "execution_count": 74,
   "metadata": {
    "execution": {
     "iopub.execute_input": "2021-11-03T21:13:41.939592Z",
     "iopub.status.busy": "2021-11-03T21:13:41.939592Z",
     "iopub.status.idle": "2021-11-03T21:13:53.078014Z",
     "shell.execute_reply": "2021-11-03T21:13:53.077013Z",
     "shell.execute_reply.started": "2021-11-03T21:13:41.939592Z"
    }
   },
   "outputs": [
    {
     "data": {
      "text/html": [
       "<div>\n",
       "<style scoped>\n",
       "    .dataframe tbody tr th:only-of-type {\n",
       "        vertical-align: middle;\n",
       "    }\n",
       "\n",
       "    .dataframe tbody tr th {\n",
       "        vertical-align: top;\n",
       "    }\n",
       "\n",
       "    .dataframe thead th {\n",
       "        text-align: right;\n",
       "    }\n",
       "</style>\n",
       "<table border=\"1\" class=\"dataframe\">\n",
       "  <thead>\n",
       "    <tr style=\"text-align: right;\">\n",
       "      <th></th>\n",
       "      <th>other</th>\n",
       "      <th>blank</th>\n",
       "      <th>earn</th>\n",
       "    </tr>\n",
       "  </thead>\n",
       "  <tbody>\n",
       "    <tr>\n",
       "      <th>vs</th>\n",
       "      <td>303</td>\n",
       "      <td>664</td>\n",
       "      <td>14669</td>\n",
       "    </tr>\n",
       "    <tr>\n",
       "      <th>mln</th>\n",
       "      <td>8106</td>\n",
       "      <td>8379</td>\n",
       "      <td>12057</td>\n",
       "    </tr>\n",
       "    <tr>\n",
       "      <th>cts</th>\n",
       "      <td>442</td>\n",
       "      <td>1035</td>\n",
       "      <td>8340</td>\n",
       "    </tr>\n",
       "    <tr>\n",
       "      <th>net</th>\n",
       "      <td>423</td>\n",
       "      <td>762</td>\n",
       "      <td>6913</td>\n",
       "    </tr>\n",
       "    <tr>\n",
       "      <th>dlrs</th>\n",
       "      <td>7182</td>\n",
       "      <td>9311</td>\n",
       "      <td>6511</td>\n",
       "    </tr>\n",
       "    <tr>\n",
       "      <th>loss</th>\n",
       "      <td>208</td>\n",
       "      <td>526</td>\n",
       "      <td>5347</td>\n",
       "    </tr>\n",
       "    <tr>\n",
       "      <th>shr</th>\n",
       "      <td>2</td>\n",
       "      <td>193</td>\n",
       "      <td>4200</td>\n",
       "    </tr>\n",
       "    <tr>\n",
       "      <th>mln vs</th>\n",
       "      <td>5</td>\n",
       "      <td>103</td>\n",
       "      <td>4055</td>\n",
       "    </tr>\n",
       "    <tr>\n",
       "      <th>vs mln</th>\n",
       "      <td>72</td>\n",
       "      <td>120</td>\n",
       "      <td>4007</td>\n",
       "    </tr>\n",
       "    <tr>\n",
       "      <th>said</th>\n",
       "      <td>25437</td>\n",
       "      <td>27898</td>\n",
       "      <td>3828</td>\n",
       "    </tr>\n",
       "    <tr>\n",
       "      <th>march</th>\n",
       "      <td>5729</td>\n",
       "      <td>6899</td>\n",
       "      <td>3569</td>\n",
       "    </tr>\n",
       "    <tr>\n",
       "      <th>cts vs</th>\n",
       "      <td>2</td>\n",
       "      <td>286</td>\n",
       "      <td>3460</td>\n",
       "    </tr>\n",
       "    <tr>\n",
       "      <th>year</th>\n",
       "      <td>4481</td>\n",
       "      <td>4383</td>\n",
       "      <td>3345</td>\n",
       "    </tr>\n",
       "    <tr>\n",
       "      <th>profit</th>\n",
       "      <td>131</td>\n",
       "      <td>362</td>\n",
       "      <td>3001</td>\n",
       "    </tr>\n",
       "    <tr>\n",
       "      <th>qtr</th>\n",
       "      <td>31</td>\n",
       "      <td>200</td>\n",
       "      <td>2666</td>\n",
       "    </tr>\n",
       "  </tbody>\n",
       "</table>\n",
       "</div>"
      ],
      "text/plain": [
       "        other  blank   earn\n",
       "vs        303    664  14669\n",
       "mln      8106   8379  12057\n",
       "cts       442   1035   8340\n",
       "net       423    762   6913\n",
       "dlrs     7182   9311   6511\n",
       "loss      208    526   5347\n",
       "shr         2    193   4200\n",
       "mln vs      5    103   4055\n",
       "vs mln     72    120   4007\n",
       "said    25437  27898   3828\n",
       "march    5729   6899   3569\n",
       "cts vs      2    286   3460\n",
       "year     4481   4383   3345\n",
       "profit    131    362   3001\n",
       "qtr        31    200   2666"
      ]
     },
     "execution_count": 74,
     "metadata": {},
     "output_type": "execute_result"
    }
   ],
   "source": [
    "vectorizer = CountVectorizer(ngram_range=(1,2))\n",
    "\n",
    "X_corpus = vectorizer.fit_transform(corpus)\n",
    "X_corpus = X_corpus.T.todense()\n",
    "feature_names = vectorizer.get_feature_names()\n",
    "df_corpus = pd.DataFrame(X_corpus, index=feature_names, columns=[\"other\", \"blank\", \"earn\"])\n",
    "df_corpus = df_corpus.sort_values(by=\"earn\", ascending=False)\n",
    "df_corpus.iloc[0:15]"
   ]
  },
  {
   "cell_type": "code",
   "execution_count": 71,
   "metadata": {
    "execution": {
     "iopub.execute_input": "2021-11-03T21:12:44.436613Z",
     "iopub.status.busy": "2021-11-03T21:12:44.435605Z",
     "iopub.status.idle": "2021-11-03T21:12:44.452573Z",
     "shell.execute_reply": "2021-11-03T21:12:44.451568Z",
     "shell.execute_reply.started": "2021-11-03T21:12:44.436613Z"
    }
   },
   "outputs": [
    {
     "data": {
      "text/plain": [
       "['vs',\n",
       " 'mln',\n",
       " 'cts',\n",
       " 'net',\n",
       " 'dlrs',\n",
       " 'loss',\n",
       " 'shr',\n",
       " 'mln vs',\n",
       " 'vs mln',\n",
       " 'said',\n",
       " 'march',\n",
       " 'cts vs',\n",
       " 'year',\n",
       " 'profit',\n",
       " 'qtr',\n",
       " 'revs',\n",
       " 'cts net',\n",
       " 'mln dlrs',\n",
       " 'billion',\n",
       " 'vs cts']"
      ]
     },
     "execution_count": 71,
     "metadata": {},
     "output_type": "execute_result"
    }
   ],
   "source": [
    "top_words_cv_earn = df_corpus.index[0:20].values.tolist()\n",
    "top_words_cv_earn"
   ]
  },
  {
   "cell_type": "code",
   "execution_count": 75,
   "metadata": {
    "execution": {
     "iopub.execute_input": "2021-11-03T21:13:58.832009Z",
     "iopub.status.busy": "2021-11-03T21:13:58.831010Z",
     "iopub.status.idle": "2021-11-03T21:13:58.839013Z",
     "shell.execute_reply": "2021-11-03T21:13:58.838010Z",
     "shell.execute_reply.started": "2021-11-03T21:13:58.832009Z"
    }
   },
   "outputs": [
    {
     "data": {
      "text/plain": [
       "['said',\n",
       " 'pct',\n",
       " 'mln',\n",
       " 'dlrs',\n",
       " 'march',\n",
       " 'would',\n",
       " 'year',\n",
       " 'billion',\n",
       " 'trade',\n",
       " 'new',\n",
       " 'oil',\n",
       " 'bank',\n",
       " 'company',\n",
       " 'last',\n",
       " 'april',\n",
       " 'market',\n",
       " 'tonnes',\n",
       " 'mln dlrs',\n",
       " 'prices',\n",
       " 'inc']"
      ]
     },
     "execution_count": 75,
     "metadata": {},
     "output_type": "execute_result"
    }
   ],
   "source": [
    "top_words_tfidf_earn"
   ]
  },
  {
   "cell_type": "code",
   "execution_count": 76,
   "metadata": {
    "execution": {
     "iopub.execute_input": "2021-11-03T21:16:34.701797Z",
     "iopub.status.busy": "2021-11-03T21:16:34.700797Z",
     "iopub.status.idle": "2021-11-03T21:16:34.777797Z",
     "shell.execute_reply": "2021-11-03T21:16:34.776796Z",
     "shell.execute_reply.started": "2021-11-03T21:16:34.701797Z"
    }
   },
   "outputs": [
    {
     "data": {
      "text/html": [
       "<div>\n",
       "<style scoped>\n",
       "    .dataframe tbody tr th:only-of-type {\n",
       "        vertical-align: middle;\n",
       "    }\n",
       "\n",
       "    .dataframe tbody tr th {\n",
       "        vertical-align: top;\n",
       "    }\n",
       "\n",
       "    .dataframe thead th {\n",
       "        text-align: right;\n",
       "    }\n",
       "</style>\n",
       "<table border=\"1\" class=\"dataframe\">\n",
       "  <thead>\n",
       "    <tr style=\"text-align: right;\">\n",
       "      <th></th>\n",
       "      <th>tfidf</th>\n",
       "      <th>cv</th>\n",
       "    </tr>\n",
       "  </thead>\n",
       "  <tbody>\n",
       "    <tr>\n",
       "      <th>0</th>\n",
       "      <td>said</td>\n",
       "      <td>vs</td>\n",
       "    </tr>\n",
       "    <tr>\n",
       "      <th>1</th>\n",
       "      <td>pct</td>\n",
       "      <td>mln</td>\n",
       "    </tr>\n",
       "    <tr>\n",
       "      <th>2</th>\n",
       "      <td>mln</td>\n",
       "      <td>cts</td>\n",
       "    </tr>\n",
       "    <tr>\n",
       "      <th>3</th>\n",
       "      <td>dlrs</td>\n",
       "      <td>net</td>\n",
       "    </tr>\n",
       "    <tr>\n",
       "      <th>4</th>\n",
       "      <td>march</td>\n",
       "      <td>dlrs</td>\n",
       "    </tr>\n",
       "    <tr>\n",
       "      <th>5</th>\n",
       "      <td>would</td>\n",
       "      <td>loss</td>\n",
       "    </tr>\n",
       "    <tr>\n",
       "      <th>6</th>\n",
       "      <td>year</td>\n",
       "      <td>shr</td>\n",
       "    </tr>\n",
       "    <tr>\n",
       "      <th>7</th>\n",
       "      <td>billion</td>\n",
       "      <td>mln vs</td>\n",
       "    </tr>\n",
       "    <tr>\n",
       "      <th>8</th>\n",
       "      <td>trade</td>\n",
       "      <td>vs mln</td>\n",
       "    </tr>\n",
       "    <tr>\n",
       "      <th>9</th>\n",
       "      <td>new</td>\n",
       "      <td>said</td>\n",
       "    </tr>\n",
       "    <tr>\n",
       "      <th>10</th>\n",
       "      <td>oil</td>\n",
       "      <td>march</td>\n",
       "    </tr>\n",
       "    <tr>\n",
       "      <th>11</th>\n",
       "      <td>bank</td>\n",
       "      <td>cts vs</td>\n",
       "    </tr>\n",
       "    <tr>\n",
       "      <th>12</th>\n",
       "      <td>company</td>\n",
       "      <td>year</td>\n",
       "    </tr>\n",
       "    <tr>\n",
       "      <th>13</th>\n",
       "      <td>last</td>\n",
       "      <td>profit</td>\n",
       "    </tr>\n",
       "    <tr>\n",
       "      <th>14</th>\n",
       "      <td>april</td>\n",
       "      <td>qtr</td>\n",
       "    </tr>\n",
       "    <tr>\n",
       "      <th>15</th>\n",
       "      <td>market</td>\n",
       "      <td>revs</td>\n",
       "    </tr>\n",
       "    <tr>\n",
       "      <th>16</th>\n",
       "      <td>tonnes</td>\n",
       "      <td>cts net</td>\n",
       "    </tr>\n",
       "    <tr>\n",
       "      <th>17</th>\n",
       "      <td>mln dlrs</td>\n",
       "      <td>mln dlrs</td>\n",
       "    </tr>\n",
       "    <tr>\n",
       "      <th>18</th>\n",
       "      <td>prices</td>\n",
       "      <td>billion</td>\n",
       "    </tr>\n",
       "    <tr>\n",
       "      <th>19</th>\n",
       "      <td>inc</td>\n",
       "      <td>vs cts</td>\n",
       "    </tr>\n",
       "  </tbody>\n",
       "</table>\n",
       "</div>"
      ],
      "text/plain": [
       "       tfidf        cv\n",
       "0       said        vs\n",
       "1        pct       mln\n",
       "2        mln       cts\n",
       "3       dlrs       net\n",
       "4      march      dlrs\n",
       "5      would      loss\n",
       "6       year       shr\n",
       "7    billion    mln vs\n",
       "8      trade    vs mln\n",
       "9        new      said\n",
       "10       oil     march\n",
       "11      bank    cts vs\n",
       "12   company      year\n",
       "13      last    profit\n",
       "14     april       qtr\n",
       "15    market      revs\n",
       "16    tonnes   cts net\n",
       "17  mln dlrs  mln dlrs\n",
       "18    prices   billion\n",
       "19       inc    vs cts"
      ]
     },
     "execution_count": 76,
     "metadata": {},
     "output_type": "execute_result"
    }
   ],
   "source": [
    "top_words_earn = {'tfidf': top_words_tfidf_earn, 'cv': top_words_cv_earn}\n",
    "pd.DataFrame(top_words_earn, columns=['tfidf', 'cv'])"
   ]
  },
  {
   "cell_type": "markdown",
   "metadata": {},
   "source": [
    "They are somewhat different. I should try both when modeling."
   ]
  },
  {
   "cell_type": "markdown",
   "metadata": {},
   "source": [
    "# Lemmatize the words"
   ]
  },
  {
   "cell_type": "code",
   "execution_count": 78,
   "metadata": {
    "execution": {
     "iopub.execute_input": "2021-11-03T21:21:20.242845Z",
     "iopub.status.busy": "2021-11-03T21:21:20.242845Z",
     "iopub.status.idle": "2021-11-03T21:21:20.261841Z",
     "shell.execute_reply": "2021-11-03T21:21:20.258841Z",
     "shell.execute_reply.started": "2021-11-03T21:21:20.242845Z"
    }
   },
   "outputs": [],
   "source": [
    "lemm = WordNetLemmatizer()"
   ]
  },
  {
   "cell_type": "code",
   "execution_count": 79,
   "metadata": {
    "execution": {
     "iopub.execute_input": "2021-11-03T21:21:59.181652Z",
     "iopub.status.busy": "2021-11-03T21:21:59.181652Z",
     "iopub.status.idle": "2021-11-03T21:21:59.219651Z",
     "shell.execute_reply": "2021-11-03T21:21:59.218652Z",
     "shell.execute_reply.started": "2021-11-03T21:21:59.181652Z"
    }
   },
   "outputs": [],
   "source": [
    "def make_lemma(list_of_words):\n",
    "    # remove any NaN's\n",
    "    list_of_words = [i for i in list_of_words if i is not np.nan]\n",
    "    \n",
    "    list_to_return = []\n",
    "    for idx, word in enumerate(list_of_words):\n",
    "        list_to_return.append(lemm.lemmatize(word))\n",
    "    return list_to_return"
   ]
  },
  {
   "cell_type": "code",
   "execution_count": 82,
   "metadata": {
    "execution": {
     "iopub.execute_input": "2021-11-03T21:24:13.521566Z",
     "iopub.status.busy": "2021-11-03T21:24:13.521566Z",
     "iopub.status.idle": "2021-11-03T21:24:34.766602Z",
     "shell.execute_reply": "2021-11-03T21:24:34.765600Z",
     "shell.execute_reply.started": "2021-11-03T21:24:13.521566Z"
    }
   },
   "outputs": [],
   "source": [
    "other_lemmatized = concat_words(make_lemma(other_text_processed))\n",
    "blank_lemmatized = concat_words(make_lemma(blank_text_processed))\n",
    "earn_lemmatized = concat_words(make_lemma(earn_text_processed))"
   ]
  },
  {
   "cell_type": "code",
   "execution_count": 83,
   "metadata": {
    "execution": {
     "iopub.execute_input": "2021-11-03T21:26:09.406469Z",
     "iopub.status.busy": "2021-11-03T21:26:09.405470Z",
     "iopub.status.idle": "2021-11-03T21:26:09.430470Z",
     "shell.execute_reply": "2021-11-03T21:26:09.428470Z",
     "shell.execute_reply.started": "2021-11-03T21:26:09.406469Z"
    }
   },
   "outputs": [],
   "source": [
    "corpus_lemmatized = other_lemmatized + blank_lemmatized + earn_lemmatized"
   ]
  },
  {
   "cell_type": "markdown",
   "metadata": {},
   "source": [
    "Rerun the first TF-IDF bi-gram and check it against a lemmatized version"
   ]
  },
  {
   "cell_type": "code",
   "execution_count": 86,
   "metadata": {
    "execution": {
     "iopub.execute_input": "2021-11-03T21:32:33.435960Z",
     "iopub.status.busy": "2021-11-03T21:32:33.434961Z",
     "iopub.status.idle": "2021-11-03T21:32:46.426962Z",
     "shell.execute_reply": "2021-11-03T21:32:46.425960Z",
     "shell.execute_reply.started": "2021-11-03T21:32:33.435960Z"
    }
   },
   "outputs": [
    {
     "data": {
      "text/html": [
       "<div>\n",
       "<style scoped>\n",
       "    .dataframe tbody tr th:only-of-type {\n",
       "        vertical-align: middle;\n",
       "    }\n",
       "\n",
       "    .dataframe tbody tr th {\n",
       "        vertical-align: top;\n",
       "    }\n",
       "\n",
       "    .dataframe thead th {\n",
       "        text-align: right;\n",
       "    }\n",
       "</style>\n",
       "<table border=\"1\" class=\"dataframe\">\n",
       "  <thead>\n",
       "    <tr style=\"text-align: right;\">\n",
       "      <th></th>\n",
       "      <th>other</th>\n",
       "      <th>blank</th>\n",
       "      <th>earn</th>\n",
       "    </tr>\n",
       "  </thead>\n",
       "  <tbody>\n",
       "    <tr>\n",
       "      <th>said</th>\n",
       "      <td>0.675847</td>\n",
       "      <td>0.676699</td>\n",
       "      <td>0.135133</td>\n",
       "    </tr>\n",
       "    <tr>\n",
       "      <th>pct</th>\n",
       "      <td>0.257352</td>\n",
       "      <td>0.208482</td>\n",
       "      <td>0.047374</td>\n",
       "    </tr>\n",
       "    <tr>\n",
       "      <th>mln</th>\n",
       "      <td>0.215372</td>\n",
       "      <td>0.203243</td>\n",
       "      <td>0.425628</td>\n",
       "    </tr>\n",
       "    <tr>\n",
       "      <th>dlrs</th>\n",
       "      <td>0.190822</td>\n",
       "      <td>0.225849</td>\n",
       "      <td>0.229847</td>\n",
       "    </tr>\n",
       "    <tr>\n",
       "      <th>march</th>\n",
       "      <td>0.152216</td>\n",
       "      <td>0.167343</td>\n",
       "      <td>0.125990</td>\n",
       "    </tr>\n",
       "    <tr>\n",
       "      <th>would</th>\n",
       "      <td>0.134362</td>\n",
       "      <td>0.107891</td>\n",
       "      <td>0.015921</td>\n",
       "    </tr>\n",
       "    <tr>\n",
       "      <th>year</th>\n",
       "      <td>0.119058</td>\n",
       "      <td>0.106315</td>\n",
       "      <td>0.118083</td>\n",
       "    </tr>\n",
       "    <tr>\n",
       "      <th>billion</th>\n",
       "      <td>0.118075</td>\n",
       "      <td>0.119923</td>\n",
       "      <td>0.072015</td>\n",
       "    </tr>\n",
       "    <tr>\n",
       "      <th>trade</th>\n",
       "      <td>0.097430</td>\n",
       "      <td>0.031121</td>\n",
       "      <td>0.000918</td>\n",
       "    </tr>\n",
       "    <tr>\n",
       "      <th>new</th>\n",
       "      <td>0.093338</td>\n",
       "      <td>0.147744</td>\n",
       "      <td>0.029618</td>\n",
       "    </tr>\n",
       "    <tr>\n",
       "      <th>oil</th>\n",
       "      <td>0.092302</td>\n",
       "      <td>0.017343</td>\n",
       "      <td>0.010449</td>\n",
       "    </tr>\n",
       "    <tr>\n",
       "      <th>bank</th>\n",
       "      <td>0.090628</td>\n",
       "      <td>0.106000</td>\n",
       "      <td>0.020404</td>\n",
       "    </tr>\n",
       "    <tr>\n",
       "      <th>company</th>\n",
       "      <td>0.087281</td>\n",
       "      <td>0.127151</td>\n",
       "      <td>0.063542</td>\n",
       "    </tr>\n",
       "    <tr>\n",
       "      <th>last</th>\n",
       "      <td>0.086988</td>\n",
       "      <td>0.065031</td>\n",
       "      <td>0.016909</td>\n",
       "    </tr>\n",
       "    <tr>\n",
       "      <th>april</th>\n",
       "      <td>0.081568</td>\n",
       "      <td>0.098917</td>\n",
       "      <td>0.062519</td>\n",
       "    </tr>\n",
       "  </tbody>\n",
       "</table>\n",
       "</div>"
      ],
      "text/plain": [
       "            other     blank      earn\n",
       "said     0.675847  0.676699  0.135133\n",
       "pct      0.257352  0.208482  0.047374\n",
       "mln      0.215372  0.203243  0.425628\n",
       "dlrs     0.190822  0.225849  0.229847\n",
       "march    0.152216  0.167343  0.125990\n",
       "would    0.134362  0.107891  0.015921\n",
       "year     0.119058  0.106315  0.118083\n",
       "billion  0.118075  0.119923  0.072015\n",
       "trade    0.097430  0.031121  0.000918\n",
       "new      0.093338  0.147744  0.029618\n",
       "oil      0.092302  0.017343  0.010449\n",
       "bank     0.090628  0.106000  0.020404\n",
       "company  0.087281  0.127151  0.063542\n",
       "last     0.086988  0.065031  0.016909\n",
       "april    0.081568  0.098917  0.062519"
      ]
     },
     "execution_count": 86,
     "metadata": {},
     "output_type": "execute_result"
    }
   ],
   "source": [
    "vectorizer = TfidfVectorizer(ngram_range=(1,2))\n",
    "\n",
    "X_corpus = vectorizer.fit_transform(corpus)\n",
    "X_corpus = X_corpus.T.todense()\n",
    "feature_names = vectorizer.get_feature_names()\n",
    "df_corpus = pd.DataFrame(X_corpus, index=feature_names, columns=[\"other\", \"blank\", \"earn\"])\n",
    "df_corpus = df_corpus.sort_values(by=\"other\", ascending=False)\n",
    "df_corpus.iloc[0:15]"
   ]
  },
  {
   "cell_type": "code",
   "execution_count": 85,
   "metadata": {
    "execution": {
     "iopub.execute_input": "2021-11-03T21:31:17.082188Z",
     "iopub.status.busy": "2021-11-03T21:31:17.082188Z",
     "iopub.status.idle": "2021-11-03T21:31:29.591207Z",
     "shell.execute_reply": "2021-11-03T21:31:29.589205Z",
     "shell.execute_reply.started": "2021-11-03T21:31:17.082188Z"
    }
   },
   "outputs": [
    {
     "data": {
      "text/html": [
       "<div>\n",
       "<style scoped>\n",
       "    .dataframe tbody tr th:only-of-type {\n",
       "        vertical-align: middle;\n",
       "    }\n",
       "\n",
       "    .dataframe tbody tr th {\n",
       "        vertical-align: top;\n",
       "    }\n",
       "\n",
       "    .dataframe thead th {\n",
       "        text-align: right;\n",
       "    }\n",
       "</style>\n",
       "<table border=\"1\" class=\"dataframe\">\n",
       "  <thead>\n",
       "    <tr style=\"text-align: right;\">\n",
       "      <th></th>\n",
       "      <th>other</th>\n",
       "      <th>blank</th>\n",
       "      <th>earn</th>\n",
       "    </tr>\n",
       "  </thead>\n",
       "  <tbody>\n",
       "    <tr>\n",
       "      <th>said</th>\n",
       "      <td>0.650628</td>\n",
       "      <td>0.651264</td>\n",
       "      <td>0.162274</td>\n",
       "    </tr>\n",
       "    <tr>\n",
       "      <th>pct</th>\n",
       "      <td>0.247749</td>\n",
       "      <td>0.200693</td>\n",
       "      <td>0.056889</td>\n",
       "    </tr>\n",
       "    <tr>\n",
       "      <th>mln</th>\n",
       "      <td>0.207336</td>\n",
       "      <td>0.195603</td>\n",
       "      <td>0.511112</td>\n",
       "    </tr>\n",
       "    <tr>\n",
       "      <th>dlrs</th>\n",
       "      <td>0.183701</td>\n",
       "      <td>0.217360</td>\n",
       "      <td>0.276010</td>\n",
       "    </tr>\n",
       "    <tr>\n",
       "      <th>march</th>\n",
       "      <td>0.146562</td>\n",
       "      <td>0.161054</td>\n",
       "      <td>0.151295</td>\n",
       "    </tr>\n",
       "    <tr>\n",
       "      <th>year</th>\n",
       "      <td>0.136945</td>\n",
       "      <td>0.136052</td>\n",
       "      <td>0.147776</td>\n",
       "    </tr>\n",
       "    <tr>\n",
       "      <th>would</th>\n",
       "      <td>0.129348</td>\n",
       "      <td>0.103836</td>\n",
       "      <td>0.019118</td>\n",
       "    </tr>\n",
       "    <tr>\n",
       "      <th>price</th>\n",
       "      <td>0.116559</td>\n",
       "      <td>0.053646</td>\n",
       "      <td>0.011022</td>\n",
       "    </tr>\n",
       "    <tr>\n",
       "      <th>billion</th>\n",
       "      <td>0.113976</td>\n",
       "      <td>0.115929</td>\n",
       "      <td>0.086478</td>\n",
       "    </tr>\n",
       "    <tr>\n",
       "      <th>bank</th>\n",
       "      <td>0.113925</td>\n",
       "      <td>0.157342</td>\n",
       "      <td>0.030267</td>\n",
       "    </tr>\n",
       "    <tr>\n",
       "      <th>company</th>\n",
       "      <td>0.107351</td>\n",
       "      <td>0.144199</td>\n",
       "      <td>0.080544</td>\n",
       "    </tr>\n",
       "    <tr>\n",
       "      <th>market</th>\n",
       "      <td>0.099959</td>\n",
       "      <td>0.094008</td>\n",
       "      <td>0.011064</td>\n",
       "    </tr>\n",
       "    <tr>\n",
       "      <th>share</th>\n",
       "      <td>0.096557</td>\n",
       "      <td>0.102926</td>\n",
       "      <td>0.105342</td>\n",
       "    </tr>\n",
       "    <tr>\n",
       "      <th>trade</th>\n",
       "      <td>0.094741</td>\n",
       "      <td>0.031772</td>\n",
       "      <td>0.001145</td>\n",
       "    </tr>\n",
       "    <tr>\n",
       "      <th>oil</th>\n",
       "      <td>0.094715</td>\n",
       "      <td>0.017275</td>\n",
       "      <td>0.012548</td>\n",
       "    </tr>\n",
       "  </tbody>\n",
       "</table>\n",
       "</div>"
      ],
      "text/plain": [
       "            other     blank      earn\n",
       "said     0.650628  0.651264  0.162274\n",
       "pct      0.247749  0.200693  0.056889\n",
       "mln      0.207336  0.195603  0.511112\n",
       "dlrs     0.183701  0.217360  0.276010\n",
       "march    0.146562  0.161054  0.151295\n",
       "year     0.136945  0.136052  0.147776\n",
       "would    0.129348  0.103836  0.019118\n",
       "price    0.116559  0.053646  0.011022\n",
       "billion  0.113976  0.115929  0.086478\n",
       "bank     0.113925  0.157342  0.030267\n",
       "company  0.107351  0.144199  0.080544\n",
       "market   0.099959  0.094008  0.011064\n",
       "share    0.096557  0.102926  0.105342\n",
       "trade    0.094741  0.031772  0.001145\n",
       "oil      0.094715  0.017275  0.012548"
      ]
     },
     "execution_count": 85,
     "metadata": {},
     "output_type": "execute_result"
    }
   ],
   "source": [
    "vectorizer = TfidfVectorizer(ngram_range=(1,2))\n",
    "\n",
    "X_corpus = vectorizer.fit_transform(corpus_lemmatized)\n",
    "X_corpus = X_corpus.T.todense()\n",
    "feature_names = vectorizer.get_feature_names()\n",
    "df_corpus_lemmatized = pd.DataFrame(X_corpus, index=feature_names, columns=[\"other\", \"blank\", \"earn\"])\n",
    "df_corpus_lemmatized = df_corpus_lemmatized.sort_values(by=\"other\", ascending=False)\n",
    "df_corpus_lemmatized.iloc[0:15]"
   ]
  },
  {
   "cell_type": "markdown",
   "metadata": {},
   "source": [
    "Some things look a little different. For example, 'april' appears on first list, 'oil' on second."
   ]
  },
  {
   "cell_type": "code",
   "execution_count": null,
   "metadata": {},
   "outputs": [],
   "source": []
  }
 ],
 "metadata": {
  "kernelspec": {
   "display_name": "Python 3",
   "language": "python",
   "name": "python3"
  },
  "language_info": {
   "codemirror_mode": {
    "name": "ipython",
    "version": 3
   },
   "file_extension": ".py",
   "mimetype": "text/x-python",
   "name": "python",
   "nbconvert_exporter": "python",
   "pygments_lexer": "ipython3",
   "version": "3.6.9"
  }
 },
 "nbformat": 4,
 "nbformat_minor": 4
}
