{
 "cells": [
  {
   "cell_type": "markdown",
   "metadata": {
    "id": "ZTAV5qQ0_Syc"
   },
   "source": [
    "# Load and inspect data"
   ]
  },
  {
   "cell_type": "markdown",
   "metadata": {
    "id": "y4PZXPRS20ju"
   },
   "source": [
    "I used this video to help me figure out how to load data into Colab: https://www.youtube.com/watch?v=lHRC5gFvQnA"
   ]
  },
  {
   "cell_type": "code",
   "execution_count": 87,
   "metadata": {
    "execution": {
     "iopub.execute_input": "2022-02-04T21:19:36.121144Z",
     "iopub.status.busy": "2022-02-04T21:19:36.121144Z",
     "iopub.status.idle": "2022-02-04T21:19:36.127145Z",
     "shell.execute_reply": "2022-02-04T21:19:36.126146Z",
     "shell.execute_reply.started": "2022-02-04T21:19:36.121144Z"
    },
    "id": "U0ldSvLWvaZv"
   },
   "outputs": [],
   "source": [
    "import pandas as pd\n",
    "import numpy as np\n",
    "from bs4 import BeautifulSoup\n",
    "import os"
   ]
  },
  {
   "cell_type": "code",
   "execution_count": 88,
   "metadata": {
    "colab": {
     "base_uri": "https://localhost:8080/"
    },
    "execution": {
     "iopub.execute_input": "2022-02-04T21:19:36.129143Z",
     "iopub.status.busy": "2022-02-04T21:19:36.128145Z",
     "iopub.status.idle": "2022-02-04T21:19:36.159179Z",
     "shell.execute_reply": "2022-02-04T21:19:36.158145Z",
     "shell.execute_reply.started": "2022-02-04T21:19:36.129143Z"
    },
    "id": "f5pXdtSDvi3f",
    "outputId": "1515f6cf-01da-45a1-beeb-39f7672d6764"
   },
   "outputs": [],
   "source": [
    "f = open('data_files/reut2-000.sgm', encoding='utf-8', errors='ignore')\n",
    "dataFile = f.read()"
   ]
  },
  {
   "cell_type": "code",
   "execution_count": 89,
   "metadata": {
    "colab": {
     "base_uri": "https://localhost:8080/"
    },
    "execution": {
     "iopub.execute_input": "2022-02-04T21:19:36.160146Z",
     "iopub.status.busy": "2022-02-04T21:19:36.160146Z",
     "iopub.status.idle": "2022-02-04T21:19:36.175146Z",
     "shell.execute_reply": "2022-02-04T21:19:36.174173Z",
     "shell.execute_reply.started": "2022-02-04T21:19:36.160146Z"
    },
    "id": "zLI_ilRxCpU1",
    "outputId": "ee62054b-efb4-46e9-e068-d66dbf8ba162"
   },
   "outputs": [
    {
     "data": {
      "text/plain": [
       "str"
      ]
     },
     "execution_count": 89,
     "metadata": {},
     "output_type": "execute_result"
    }
   ],
   "source": [
    "type(dataFile)"
   ]
  },
  {
   "cell_type": "markdown",
   "metadata": {
    "id": "H-SFUqIlCpkM"
   },
   "source": [
    "DataFile is a string"
   ]
  },
  {
   "cell_type": "code",
   "execution_count": 90,
   "metadata": {
    "colab": {
     "base_uri": "https://localhost:8080/",
     "height": 157
    },
    "execution": {
     "iopub.execute_input": "2022-02-04T21:19:36.176145Z",
     "iopub.status.busy": "2022-02-04T21:19:36.176145Z",
     "iopub.status.idle": "2022-02-04T21:19:36.191145Z",
     "shell.execute_reply": "2022-02-04T21:19:36.190171Z",
     "shell.execute_reply.started": "2022-02-04T21:19:36.176145Z"
    },
    "id": "pv-7aPG-Cpq9",
    "outputId": "e9d17f44-21cd-412c-9002-f142dace09c9"
   },
   "outputs": [
    {
     "data": {
      "text/plain": [
       "'<!DOCTYPE lewis SYSTEM \"lewis.dtd\">\\n<REUTERS TOPICS=\"YES\" LEWISSPLIT=\"TRAIN\" CGISPLIT=\"TRAINING-SET\" OLDID=\"5544\" NEWID=\"1\">\\n<DATE>26-FEB-1987 15:01:01.79</DATE>\\n<TOPICS><D>cocoa</D></TOPICS>\\n<PLACES><D>el-salvador</D><D>usa</D><D>uruguay</D></PLACES>\\n<PEOPLE></PEOPLE>\\n<ORGS></ORGS>\\n<EXCHANGES></EXCHANGES>\\n<COMPANIES></COMPANIES>\\n<UNKNOWN> \\n&#5;&#5;&#5;C T\\n&#22;&#22;&#1;f0704&#31;reute\\nu f BC-BAHIA-COCOA-REVIEW   02-26 0105</UNKNOWN>\\n<TEXT>&#2;\\n<TITLE>BAHIA COCOA REVIEW</TITLE>\\n<DATELINE>    SALVADOR, Feb 26 - </DATELINE><BODY>Showers continued throughout the week in\\nthe Bahia cocoa zone, alleviating the drought since early\\nJanuary and improving prospects for the coming temporao,\\nalthough normal humidity levels have not been restored,\\nComissaria Smith said in its weekly review.\\n    The dry period means the temporao will be late this year.\\n    Arrivals for the week ended February 22 were 155,221 bags\\nof 60 kilos making a cumulative total for the season of 5.93\\nmln against 5.81 at the sa'"
      ]
     },
     "execution_count": 90,
     "metadata": {},
     "output_type": "execute_result"
    }
   ],
   "source": [
    "dataFile[0:1000]"
   ]
  },
  {
   "cell_type": "markdown",
   "metadata": {
    "id": "znWVGNRuCpyX"
   },
   "source": [
    "It's hard to read. Parse it with BS4\n",
    "\n",
    "(I used [this tutorial](https://www.youtube.com/watch?v=GjKQ6V_ViQE) to help me with Beautiful Soup.)"
   ]
  },
  {
   "cell_type": "code",
   "execution_count": 91,
   "metadata": {
    "colab": {
     "base_uri": "https://localhost:8080/"
    },
    "execution": {
     "iopub.execute_input": "2022-02-04T21:19:36.192147Z",
     "iopub.status.busy": "2022-02-04T21:19:36.192147Z",
     "iopub.status.idle": "2022-02-04T21:19:36.749145Z",
     "shell.execute_reply": "2022-02-04T21:19:36.748176Z",
     "shell.execute_reply.started": "2022-02-04T21:19:36.192147Z"
    },
    "id": "cbtQBfjZMDFd",
    "outputId": "0cc0f278-1688-4ea1-996d-c61f79c948b2"
   },
   "outputs": [
    {
     "data": {
      "text/plain": [
       "bs4.BeautifulSoup"
      ]
     },
     "execution_count": 91,
     "metadata": {},
     "output_type": "execute_result"
    }
   ],
   "source": [
    "soup = BeautifulSoup(dataFile,'html.parser')\n",
    "type(soup)"
   ]
  },
  {
   "cell_type": "code",
   "execution_count": 92,
   "metadata": {
    "execution": {
     "iopub.execute_input": "2022-02-04T21:19:36.750147Z",
     "iopub.status.busy": "2022-02-04T21:19:36.750147Z",
     "iopub.status.idle": "2022-02-04T21:19:36.765145Z",
     "shell.execute_reply": "2022-02-04T21:19:36.764144Z",
     "shell.execute_reply.started": "2022-02-04T21:19:36.750147Z"
    },
    "id": "nj4_qXeQFXkY"
   },
   "outputs": [],
   "source": [
    "# print(soup.prettify())"
   ]
  },
  {
   "cell_type": "markdown",
   "metadata": {
    "id": "nSfpiLx3F9ve"
   },
   "source": [
    "I'm commenting out the above line because of the large output, but it shows every article starts with the html tag `<reuters>`."
   ]
  },
  {
   "cell_type": "markdown",
   "metadata": {
    "id": "W-o7X9afMJTV"
   },
   "source": [
    "## Check structure of an article"
   ]
  },
  {
   "cell_type": "markdown",
   "metadata": {
    "id": "CwxOOI5kHe4T"
   },
   "source": [
    "Looking at the `<body>` tag."
   ]
  },
  {
   "cell_type": "code",
   "execution_count": 93,
   "metadata": {
    "execution": {
     "iopub.execute_input": "2022-02-04T21:19:36.768148Z",
     "iopub.status.busy": "2022-02-04T21:19:36.768148Z",
     "iopub.status.idle": "2022-02-04T21:19:36.813170Z",
     "shell.execute_reply": "2022-02-04T21:19:36.812168Z",
     "shell.execute_reply.started": "2022-02-04T21:19:36.768148Z"
    },
    "id": "H8azCTc3MO-9"
   },
   "outputs": [],
   "source": [
    "contents = soup.findAll('body')"
   ]
  },
  {
   "cell_type": "code",
   "execution_count": 94,
   "metadata": {
    "execution": {
     "iopub.execute_input": "2022-02-04T21:19:36.814144Z",
     "iopub.status.busy": "2022-02-04T21:19:36.814144Z",
     "iopub.status.idle": "2022-02-04T21:19:36.829143Z",
     "shell.execute_reply": "2022-02-04T21:19:36.828142Z",
     "shell.execute_reply.started": "2022-02-04T21:19:36.814144Z"
    },
    "id": "imROlmigMTuu"
   },
   "outputs": [],
   "source": [
    "documents = []\n",
    "for content in contents:\n",
    "  documents.append(content.text)"
   ]
  },
  {
   "cell_type": "code",
   "execution_count": 95,
   "metadata": {
    "colab": {
     "base_uri": "https://localhost:8080/"
    },
    "execution": {
     "iopub.execute_input": "2022-02-04T21:19:36.830145Z",
     "iopub.status.busy": "2022-02-04T21:19:36.830145Z",
     "iopub.status.idle": "2022-02-04T21:19:36.845144Z",
     "shell.execute_reply": "2022-02-04T21:19:36.844170Z",
     "shell.execute_reply.started": "2022-02-04T21:19:36.830145Z"
    },
    "id": "9YCaCMJzNUFP",
    "outputId": "b60f3778-1722-41d3-fac2-ad6f6fccc9fa"
   },
   "outputs": [
    {
     "data": {
      "text/plain": [
       "['Showers continued throughout the week in\\nthe Bahia cocoa zone, alleviating the drought since early\\nJanuary and improving prospects for the coming temporao,\\nalthough normal humidity levels have not been restored,\\nComissaria Smith said in its weekly review.\\n    The dry period means the temporao will be late this year.\\n    Arrivals for the week ended February 22 were 155,221 bags\\nof 60 kilos making a cumulative total for the season of 5.93\\nmln against 5.81 at the same stage last year. Again it seems\\nthat cocoa delivered earlier on consignment was included in the\\narrivals figures.\\n    Comissaria Smith said there is still some doubt as to how\\nmuch old crop cocoa is still available as harvesting has\\npractically come to an end. With total Bahia crop estimates\\naround 6.4 mln bags and sales standing at almost 6.2 mln there\\nare a few hundred thousand bags still in the hands of farmers,\\nmiddlemen, exporters and processors.\\n    There are doubts as to how much of this cocoa would be fit\\nfor export as shippers are now experiencing dificulties in\\nobtaining +Bahia superior+ certificates.\\n    In view of the lower quality over recent weeks farmers have\\nsold a good part of their cocoa held on consignment.\\n    Comissaria Smith said spot bean prices rose to 340 to 350\\ncruzados per arroba of 15 kilos.\\n    Bean shippers were reluctant to offer nearby shipment and\\nonly limited sales were booked for March shipment at 1,750 to\\n1,780 dlrs per tonne to ports to be named.\\n    New crop sales were also light and all to open ports with\\nJune/July going at 1,850 and 1,880 dlrs and at 35 and 45 dlrs\\nunder New York july, Aug/Sept at 1,870, 1,875 and 1,880 dlrs\\nper tonne FOB.\\n    Routine sales of butter were made. March/April sold at\\n4,340, 4,345 and 4,350 dlrs.\\n    April/May butter went at 2.27 times New York May, June/July\\nat 4,400 and 4,415 dlrs, Aug/Sept at 4,351 to 4,450 dlrs and at\\n2.27 and 2.28 times New York Sept and Oct/Dec at 4,480 dlrs and\\n2.27 times New York Dec, Comissaria Smith said.\\n    Destinations were the U.S., Covertible currency areas,\\nUruguay and open ports.\\n    Cake sales were registered at 785 to 995 dlrs for\\nMarch/April, 785 dlrs for May, 753 dlrs for Aug and 0.39 times\\nNew York Dec for Oct/Dec.\\n    Buyers were the U.S., Argentina, Uruguay and convertible\\ncurrency areas.\\n    Liquor sales were limited with March/April selling at 2,325\\nand 2,380 dlrs, June/July at 2,375 dlrs and at 1.25 times New\\nYork July, Aug/Sept at 2,400 dlrs and at 1.25 times New York\\nSept and Oct/Dec at 1.25 times New York Dec, Comissaria Smith\\nsaid.\\n    Total Bahia sales are currently estimated at 6.13 mln bags\\nagainst the 1986/87 crop and 1.06 mln bags against the 1987/88\\ncrop.\\n    Final figures for the period to February 28 are expected to\\nbe published by the Brazilian Cocoa Trade Commission after\\ncarnival which ends midday on February 27.\\n Reuter\\n\\x03']"
      ]
     },
     "execution_count": 95,
     "metadata": {},
     "output_type": "execute_result"
    }
   ],
   "source": [
    "documents[0:1]"
   ]
  },
  {
   "cell_type": "markdown",
   "metadata": {
    "id": "-J_85lRtHqMJ"
   },
   "source": [
    "Re-parsing with lxml (why not?) and separating at the `<reuters>` tag"
   ]
  },
  {
   "cell_type": "code",
   "execution_count": 96,
   "metadata": {
    "execution": {
     "iopub.execute_input": "2022-02-04T21:19:36.846160Z",
     "iopub.status.busy": "2022-02-04T21:19:36.846160Z",
     "iopub.status.idle": "2022-02-04T21:19:37.686222Z",
     "shell.execute_reply": "2022-02-04T21:19:37.683151Z",
     "shell.execute_reply.started": "2022-02-04T21:19:36.846160Z"
    },
    "id": "nXSQXP3KNhgI"
   },
   "outputs": [],
   "source": [
    "soup = BeautifulSoup(dataFile,'lxml')\n",
    "content = soup.find_all('reuters')"
   ]
  },
  {
   "cell_type": "code",
   "execution_count": 97,
   "metadata": {
    "colab": {
     "base_uri": "https://localhost:8080/"
    },
    "execution": {
     "iopub.execute_input": "2022-02-04T21:19:37.693190Z",
     "iopub.status.busy": "2022-02-04T21:19:37.691226Z",
     "iopub.status.idle": "2022-02-04T21:19:37.715150Z",
     "shell.execute_reply": "2022-02-04T21:19:37.714202Z",
     "shell.execute_reply.started": "2022-02-04T21:19:37.692230Z"
    },
    "id": "JiZSB0m8KPkc",
    "outputId": "a1a50999-c3b7-4f71-bc44-0f5c3054de30"
   },
   "outputs": [
    {
     "data": {
      "text/plain": [
       "1000"
      ]
     },
     "execution_count": 97,
     "metadata": {},
     "output_type": "execute_result"
    }
   ],
   "source": [
    "len(content)"
   ]
  },
  {
   "cell_type": "markdown",
   "metadata": {
    "id": "BH7UzQx-KTWQ"
   },
   "source": [
    "Every file has 1000 articles."
   ]
  },
  {
   "cell_type": "markdown",
   "metadata": {
    "id": "VPc0aVqBJyCF"
   },
   "source": [
    "Checking random article"
   ]
  },
  {
   "cell_type": "code",
   "execution_count": 98,
   "metadata": {
    "colab": {
     "base_uri": "https://localhost:8080/"
    },
    "execution": {
     "iopub.execute_input": "2022-02-04T21:19:37.718150Z",
     "iopub.status.busy": "2022-02-04T21:19:37.718150Z",
     "iopub.status.idle": "2022-02-04T21:19:37.747148Z",
     "shell.execute_reply": "2022-02-04T21:19:37.746147Z",
     "shell.execute_reply.started": "2022-02-04T21:19:37.718150Z"
    },
    "id": "sM5DXeZ0OFwh",
    "outputId": "4e516141-4e9c-4191-9525-a826f1c56564"
   },
   "outputs": [
    {
     "data": {
      "text/plain": [
       "<reuters cgisplit=\"TRAINING-SET\" lewissplit=\"TRAIN\" newid=\"6\" oldid=\"5549\" topics=\"YES\">\n",
       "<date>26-FEB-1987 15:14:36.41</date>\n",
       "<topics><d>veg-oil</d><d>linseed</d><d>lin-oil</d><d>soy-oil</d><d>sun-oil</d><d>soybean</d><d>oilseed</d><d>corn</d><d>sunseed</d><d>grain</d><d>sorghum</d><d>wheat</d></topics>\n",
       "<places><d>argentina</d></places>\n",
       "<people></people>\n",
       "<orgs></orgs>\n",
       "<exchanges></exchanges>\n",
       "<companies></companies>\n",
       "<unknown> \n",
       "G\n",
       "f0754reute\n",
       "r f BC-ARGENTINE-1986/87-GRA   02-26 0066</unknown>\n",
       "<text>\n",
       "<title>ARGENTINE 1986/87 GRAIN/OILSEED REGISTRATIONS</title>\n",
       "<dateline>    BUENOS AIRES, Feb 26 - </dateline>Argentine grain board figures show\n",
       "crop registrations of grains, oilseeds and their products to\n",
       "February 11, in thousands of tonnes, showing those for futurE\n",
       "shipments month, 1986/87 total and 1985/86 total to February\n",
       "12, 1986, in brackets:\n",
       "    Bread wheat prev 1,655.8, Feb 872.0, March 164.6, total\n",
       "2,692.4 (4,161.0).\n",
       "    Maize Mar 48.0, total 48.0 (nil).\n",
       "    Sorghum nil (nil)\n",
       "    Oilseed export registrations were:\n",
       "    Sunflowerseed total 15.0 (7.9)\n",
       "    Soybean May 20.0, total 20.0 (nil)\n",
       "    The board also detailed export registrations for\n",
       "subproducts, as follows,\n",
       "    SUBPRODUCTS\n",
       "    Wheat prev 39.9, Feb 48.7, March 13.2, Apr 10.0, total\n",
       "111.8 (82.7) .\n",
       "    Linseed prev 34.8, Feb 32.9, Mar 6.8, Apr 6.3, total 80.8\n",
       "(87.4).\n",
       "    Soybean prev 100.9, Feb 45.1, MAr nil, Apr nil, May 20.0,\n",
       "total 166.1 (218.5).\n",
       "    Sunflowerseed prev 48.6, Feb 61.5, Mar 25.1, Apr 14.5,\n",
       "total 149.8 (145.3).\n",
       "    Vegetable oil registrations were :         \n",
       "    Sunoil prev 37.4, Feb 107.3, Mar 24.5, Apr 3.2, May nil,\n",
       "Jun 10.0, total 182.4 (117.6).                  \n",
       "    Linoil prev 15.9, Feb 23.6, Mar 20.4, Apr 2.0, total 61.8,\n",
       "(76.1).                         \n",
       "    Soybean oil prev 3.7, Feb 21.1, Mar nil, Apr 2.0, May 9.0,\n",
       "Jun 13.0, Jul 7.0, total 55.8 (33.7).        REUTER\n",
       "</text>\n",
       "</reuters>"
      ]
     },
     "execution_count": 98,
     "metadata": {},
     "output_type": "execute_result"
    }
   ],
   "source": [
    "content[5]"
   ]
  },
  {
   "cell_type": "markdown",
   "metadata": {
    "id": "CLLNvsG6OJxi"
   },
   "source": [
    "## Investigate topics"
   ]
  },
  {
   "cell_type": "code",
   "execution_count": 99,
   "metadata": {
    "colab": {
     "base_uri": "https://localhost:8080/"
    },
    "execution": {
     "iopub.execute_input": "2022-02-04T21:19:37.749147Z",
     "iopub.status.busy": "2022-02-04T21:19:37.748149Z",
     "iopub.status.idle": "2022-02-04T21:19:37.763152Z",
     "shell.execute_reply": "2022-02-04T21:19:37.762146Z",
     "shell.execute_reply.started": "2022-02-04T21:19:37.749147Z"
    },
    "id": "kJy4XS0HILLL",
    "outputId": "3ca53561-c9bd-4e20-dc4e-2bedc91b19db"
   },
   "outputs": [
    {
     "data": {
      "text/plain": [
       "array(['acq', 'alum', 'austdlr', 'austral', 'barley', 'bfr', 'bop', 'can',\n",
       "       'carcass', 'castor-meal', 'castor-oil', 'castorseed', 'citruspulp',\n",
       "       'cocoa', 'coconut', 'coconut-oil', 'coffee', 'copper',\n",
       "       'copra-cake', 'corn', 'corn-oil', 'cornglutenfeed', 'cotton',\n",
       "       'cotton-meal', 'cotton-oil', 'cottonseed', 'cpi', 'cpu', 'crude',\n",
       "       'cruzado', 'dfl', 'dkr', 'dlr', 'dmk', 'drachma', 'earn', 'escudo',\n",
       "       'f-cattle', 'ffr', 'fishmeal', 'flaxseed', 'fuel', 'gas', 'gnp',\n",
       "       'gold', 'grain', 'groundnut', 'groundnut-meal', 'groundnut-oil',\n",
       "       'heat', 'hk', 'hog', 'housing', 'income', 'instal-debt',\n",
       "       'interest', 'inventories', 'ipi', 'iron-steel', 'jet', 'jobs',\n",
       "       'l-cattle', 'lead', 'lei', 'lin-meal', 'lin-oil', 'linseed', 'lit',\n",
       "       'livestock', 'lumber', 'lupin', 'meal-feed', 'mexpeso', 'money-fx',\n",
       "       'money-supply', 'naphtha', 'nat-gas', 'nickel', 'nkr', 'nzdlr',\n",
       "       'oat', 'oilseed', 'orange', 'palladium', 'palm-meal', 'palm-oil',\n",
       "       'palmkernel', 'peseta', 'pet-chem', 'platinum', 'plywood',\n",
       "       'pork-belly', 'potato', 'propane', 'rand', 'rape-meal', 'rape-oil',\n",
       "       'rapeseed', 'red-bean', 'reserves', 'retail', 'rice', 'ringgit',\n",
       "       'rubber', 'rupiah', 'rye', 'saudriyal', 'sfr', 'ship', 'silk',\n",
       "       'silver', 'singdlr', 'skr', 'sorghum', 'soy-meal', 'soy-oil',\n",
       "       'soybean', 'stg', 'strategic-metal', 'sugar', 'sun-meal',\n",
       "       'sun-oil', 'sunseed', 'tapioca', 'tea', 'tin', 'trade', 'tung',\n",
       "       'tung-oil', 'veg-oil', 'wheat', 'wool', 'wpi', 'yen', 'zinc'],\n",
       "      dtype='<U15')"
      ]
     },
     "execution_count": 99,
     "metadata": {},
     "output_type": "execute_result"
    }
   ],
   "source": [
    "topics = np.genfromtxt(\"data_files/all-topics-strings.lc.txt\", \n",
    "                      delimiter='\\n', dtype=None, encoding=None)\n",
    "topics"
   ]
  },
  {
   "cell_type": "code",
   "execution_count": 100,
   "metadata": {
    "colab": {
     "base_uri": "https://localhost:8080/"
    },
    "execution": {
     "iopub.execute_input": "2022-02-04T21:19:37.765143Z",
     "iopub.status.busy": "2022-02-04T21:19:37.764146Z",
     "iopub.status.idle": "2022-02-04T21:19:37.777168Z",
     "shell.execute_reply": "2022-02-04T21:19:37.777168Z",
     "shell.execute_reply.started": "2022-02-04T21:19:37.765143Z"
    },
    "id": "6Z_dQu_5DBXU",
    "outputId": "cf1b8309-2f51-43af-9d82-fe6a003e703c"
   },
   "outputs": [
    {
     "data": {
      "text/plain": [
       "135"
      ]
     },
     "execution_count": 100,
     "metadata": {},
     "output_type": "execute_result"
    }
   ],
   "source": [
    "len(topics)"
   ]
  },
  {
   "cell_type": "markdown",
   "metadata": {
    "id": "9-Vz3ZfSIOPX"
   },
   "source": [
    "Find all topics in the soup file and turn them in to text"
   ]
  },
  {
   "cell_type": "code",
   "execution_count": 101,
   "metadata": {
    "execution": {
     "iopub.execute_input": "2022-02-04T21:19:37.779145Z",
     "iopub.status.busy": "2022-02-04T21:19:37.779145Z",
     "iopub.status.idle": "2022-02-04T21:19:37.810146Z",
     "shell.execute_reply": "2022-02-04T21:19:37.809177Z",
     "shell.execute_reply.started": "2022-02-04T21:19:37.779145Z"
    },
    "id": "zBjxVMYfIRw8"
   },
   "outputs": [],
   "source": [
    "topics = soup.find_all('topics')\n",
    "topic_list = list()"
   ]
  },
  {
   "cell_type": "code",
   "execution_count": 102,
   "metadata": {
    "colab": {
     "base_uri": "https://localhost:8080/"
    },
    "execution": {
     "iopub.execute_input": "2022-02-04T21:19:37.811147Z",
     "iopub.status.busy": "2022-02-04T21:19:37.811147Z",
     "iopub.status.idle": "2022-02-04T21:19:37.826147Z",
     "shell.execute_reply": "2022-02-04T21:19:37.825184Z",
     "shell.execute_reply.started": "2022-02-04T21:19:37.811147Z"
    },
    "id": "HGBMMRWbIScj",
    "outputId": "242667ec-ac80-4571-a4e6-f5cbf5e15a6c"
   },
   "outputs": [
    {
     "data": {
      "text/plain": [
       "[['cocoa'],\n",
       " [],\n",
       " [],\n",
       " [],\n",
       " ['grain', 'wheat', 'corn', 'barley', 'oat', 'sorghum'],\n",
       " ['veg-oil',\n",
       "  'linseed',\n",
       "  'lin-oil',\n",
       "  'soy-oil',\n",
       "  'sun-oil',\n",
       "  'soybean',\n",
       "  'oilseed',\n",
       "  'corn',\n",
       "  'sunseed',\n",
       "  'grain',\n",
       "  'sorghum',\n",
       "  'wheat'],\n",
       " [],\n",
       " [],\n",
       " ['earn'],\n",
       " ['acq']]"
      ]
     },
     "execution_count": 102,
     "metadata": {},
     "output_type": "execute_result"
    }
   ],
   "source": [
    "for x in topics:\n",
    "    # turn bs4.tag into text\n",
    "    words = [i.text for i in x]\n",
    "    #append text to list\n",
    "    topic_list.append(words)\n",
    "\n",
    "topic_list[0:10]"
   ]
  },
  {
   "cell_type": "markdown",
   "metadata": {
    "id": "m97mJkJjITNI"
   },
   "source": [
    "Some topics are blank, and some articles have several topics."
   ]
  },
  {
   "cell_type": "markdown",
   "metadata": {
    "id": "ANnOQLCQI2w-"
   },
   "source": [
    "## Make dataframe with the topics"
   ]
  },
  {
   "cell_type": "markdown",
   "metadata": {
    "id": "esJUpaaSJV8x"
   },
   "source": [
    "Make function to pull out **'earn'** topic\n",
    "\n",
    "I only care about the 'earn' topic for now, so I'm making it the only one that matters. If it's not 'earn', it's 'other'. But I'm not clear what the ones that have no topic mean. I'm calling those 'blank'."
   ]
  },
  {
   "cell_type": "code",
   "execution_count": 103,
   "metadata": {
    "execution": {
     "iopub.execute_input": "2022-02-04T21:19:37.829145Z",
     "iopub.status.busy": "2022-02-04T21:19:37.828150Z",
     "iopub.status.idle": "2022-02-04T21:19:37.842149Z",
     "shell.execute_reply": "2022-02-04T21:19:37.841147Z",
     "shell.execute_reply.started": "2022-02-04T21:19:37.828150Z"
    },
    "id": "jD2Mstj-JcW2"
   },
   "outputs": [],
   "source": [
    "def pull_out_earn_topic(topic_list):\n",
    "    for i, topic in enumerate(topic_list):\n",
    "        \n",
    "        # format is a list of strings, so this loop removes topics from nested list\n",
    "        article_topics = ''\n",
    "        for word in topic:\n",
    "            article_topics += (word + ' ')\n",
    "            \n",
    "        # assign correct topic \n",
    "        if not article_topics:\n",
    "            topic_list[i] = 'blank'\n",
    "        elif 'earn' in article_topics:\n",
    "            topic_list[i] = 'earn'\n",
    "        else:\n",
    "            topic_list[i] = 'other'\n",
    "    \n",
    "    return topic_list"
   ]
  },
  {
   "cell_type": "code",
   "execution_count": 104,
   "metadata": {
    "colab": {
     "base_uri": "https://localhost:8080/"
    },
    "execution": {
     "iopub.execute_input": "2022-02-04T21:19:37.844149Z",
     "iopub.status.busy": "2022-02-04T21:19:37.843151Z",
     "iopub.status.idle": "2022-02-04T21:19:37.858150Z",
     "shell.execute_reply": "2022-02-04T21:19:37.857145Z",
     "shell.execute_reply.started": "2022-02-04T21:19:37.844149Z"
    },
    "id": "fh8qYOGJJdUW",
    "outputId": "07a2ad6d-dc48-4111-de5c-baa705216b36"
   },
   "outputs": [
    {
     "data": {
      "text/plain": [
       "['other',\n",
       " 'blank',\n",
       " 'blank',\n",
       " 'blank',\n",
       " 'other',\n",
       " 'other',\n",
       " 'blank',\n",
       " 'blank',\n",
       " 'earn',\n",
       " 'other']"
      ]
     },
     "execution_count": 104,
     "metadata": {},
     "output_type": "execute_result"
    }
   ],
   "source": [
    "test_list = pull_out_earn_topic(topic_list[0:100])\n",
    "test_list[0:10]"
   ]
  },
  {
   "cell_type": "markdown",
   "metadata": {
    "id": "UrMjA0qjJdW7"
   },
   "source": [
    "Test case works. Make the whole dataframe."
   ]
  },
  {
   "cell_type": "code",
   "execution_count": 105,
   "metadata": {
    "colab": {
     "base_uri": "https://localhost:8080/",
     "height": 423
    },
    "execution": {
     "iopub.execute_input": "2022-02-04T21:19:37.861148Z",
     "iopub.status.busy": "2022-02-04T21:19:37.861148Z",
     "iopub.status.idle": "2022-02-04T21:19:37.890144Z",
     "shell.execute_reply": "2022-02-04T21:19:37.889167Z",
     "shell.execute_reply.started": "2022-02-04T21:19:37.861148Z"
    },
    "id": "u07_5I8eJddE",
    "outputId": "88e92a75-8cce-4ee2-f3ef-469cad133db3"
   },
   "outputs": [
    {
     "data": {
      "text/html": [
       "<div>\n",
       "<style scoped>\n",
       "    .dataframe tbody tr th:only-of-type {\n",
       "        vertical-align: middle;\n",
       "    }\n",
       "\n",
       "    .dataframe tbody tr th {\n",
       "        vertical-align: top;\n",
       "    }\n",
       "\n",
       "    .dataframe thead th {\n",
       "        text-align: right;\n",
       "    }\n",
       "</style>\n",
       "<table border=\"1\" class=\"dataframe\">\n",
       "  <thead>\n",
       "    <tr style=\"text-align: right;\">\n",
       "      <th></th>\n",
       "      <th>topic</th>\n",
       "    </tr>\n",
       "  </thead>\n",
       "  <tbody>\n",
       "    <tr>\n",
       "      <th>0</th>\n",
       "      <td>other</td>\n",
       "    </tr>\n",
       "    <tr>\n",
       "      <th>1</th>\n",
       "      <td>blank</td>\n",
       "    </tr>\n",
       "    <tr>\n",
       "      <th>2</th>\n",
       "      <td>blank</td>\n",
       "    </tr>\n",
       "    <tr>\n",
       "      <th>3</th>\n",
       "      <td>blank</td>\n",
       "    </tr>\n",
       "    <tr>\n",
       "      <th>4</th>\n",
       "      <td>other</td>\n",
       "    </tr>\n",
       "    <tr>\n",
       "      <th>...</th>\n",
       "      <td>...</td>\n",
       "    </tr>\n",
       "    <tr>\n",
       "      <th>995</th>\n",
       "      <td>blank</td>\n",
       "    </tr>\n",
       "    <tr>\n",
       "      <th>996</th>\n",
       "      <td>blank</td>\n",
       "    </tr>\n",
       "    <tr>\n",
       "      <th>997</th>\n",
       "      <td>earn</td>\n",
       "    </tr>\n",
       "    <tr>\n",
       "      <th>998</th>\n",
       "      <td>other</td>\n",
       "    </tr>\n",
       "    <tr>\n",
       "      <th>999</th>\n",
       "      <td>other</td>\n",
       "    </tr>\n",
       "  </tbody>\n",
       "</table>\n",
       "<p>1000 rows × 1 columns</p>\n",
       "</div>"
      ],
      "text/plain": [
       "     topic\n",
       "0    other\n",
       "1    blank\n",
       "2    blank\n",
       "3    blank\n",
       "4    other\n",
       "..     ...\n",
       "995  blank\n",
       "996  blank\n",
       "997   earn\n",
       "998  other\n",
       "999  other\n",
       "\n",
       "[1000 rows x 1 columns]"
      ]
     },
     "execution_count": 105,
     "metadata": {},
     "output_type": "execute_result"
    }
   ],
   "source": [
    "topics_for_df = pull_out_earn_topic(topic_list)\n",
    "df=pd.DataFrame(topics_for_df, columns=['topic'])\n",
    "\n",
    "df"
   ]
  },
  {
   "cell_type": "markdown",
   "metadata": {
    "id": "xZP4W1M6Jdib"
   },
   "source": [
    "## Add article content to df"
   ]
  },
  {
   "cell_type": "code",
   "execution_count": 106,
   "metadata": {
    "colab": {
     "base_uri": "https://localhost:8080/"
    },
    "execution": {
     "iopub.execute_input": "2022-02-04T21:19:37.892147Z",
     "iopub.status.busy": "2022-02-04T21:19:37.892147Z",
     "iopub.status.idle": "2022-02-04T21:19:37.922146Z",
     "shell.execute_reply": "2022-02-04T21:19:37.921142Z",
     "shell.execute_reply.started": "2022-02-04T21:19:37.892147Z"
    },
    "id": "khzDhFbLJdlZ",
    "outputId": "c304e159-50a0-425e-b1cd-72a002c39309"
   },
   "outputs": [
    {
     "data": {
      "text/plain": [
       "1000"
      ]
     },
     "execution_count": 106,
     "metadata": {},
     "output_type": "execute_result"
    }
   ],
   "source": [
    "all_text = soup.find_all(\"text\")\n",
    "len(all_text)"
   ]
  },
  {
   "cell_type": "code",
   "execution_count": 107,
   "metadata": {
    "execution": {
     "iopub.execute_input": "2022-02-04T21:19:37.923145Z",
     "iopub.status.busy": "2022-02-04T21:19:37.923145Z",
     "iopub.status.idle": "2022-02-04T21:19:37.954146Z",
     "shell.execute_reply": "2022-02-04T21:19:37.953143Z",
     "shell.execute_reply.started": "2022-02-04T21:19:37.923145Z"
    },
    "id": "P4kxYpx6JdoG"
   },
   "outputs": [],
   "source": [
    "list_all_text = list()\n",
    "for text in all_text:\n",
    "    \n",
    "    # getting just the text from the element\n",
    "    # stripping out the newline indicator\n",
    "    working_text = text.get_text().replace(\"\\n\", \" \")\n",
    "    \n",
    "    # removing extra spaces\n",
    "    working_text = ' '.join(working_text.split())\n",
    "    \n",
    "    # appending to list\n",
    "    list_all_text.append(working_text)"
   ]
  },
  {
   "cell_type": "code",
   "execution_count": 108,
   "metadata": {
    "colab": {
     "base_uri": "https://localhost:8080/",
     "height": 423
    },
    "execution": {
     "iopub.execute_input": "2022-02-04T21:19:37.957148Z",
     "iopub.status.busy": "2022-02-04T21:19:37.956146Z",
     "iopub.status.idle": "2022-02-04T21:19:37.986146Z",
     "shell.execute_reply": "2022-02-04T21:19:37.984148Z",
     "shell.execute_reply.started": "2022-02-04T21:19:37.957148Z"
    },
    "id": "AsAGYBwKJdqx",
    "outputId": "d5f1062a-aadd-466f-9420-872040ae4f82"
   },
   "outputs": [
    {
     "data": {
      "text/html": [
       "<div>\n",
       "<style scoped>\n",
       "    .dataframe tbody tr th:only-of-type {\n",
       "        vertical-align: middle;\n",
       "    }\n",
       "\n",
       "    .dataframe tbody tr th {\n",
       "        vertical-align: top;\n",
       "    }\n",
       "\n",
       "    .dataframe thead th {\n",
       "        text-align: right;\n",
       "    }\n",
       "</style>\n",
       "<table border=\"1\" class=\"dataframe\">\n",
       "  <thead>\n",
       "    <tr style=\"text-align: right;\">\n",
       "      <th></th>\n",
       "      <th>topic</th>\n",
       "      <th>text</th>\n",
       "    </tr>\n",
       "  </thead>\n",
       "  <tbody>\n",
       "    <tr>\n",
       "      <th>0</th>\n",
       "      <td>other</td>\n",
       "      <td>BAHIA COCOA REVIEW SALVADOR, Feb 26 - Showers ...</td>\n",
       "    </tr>\n",
       "    <tr>\n",
       "      <th>1</th>\n",
       "      <td>blank</td>\n",
       "      <td>STANDARD OIL &lt;SRD&gt; TO FORM FINANCIAL UNIT CLEV...</td>\n",
       "    </tr>\n",
       "    <tr>\n",
       "      <th>2</th>\n",
       "      <td>blank</td>\n",
       "      <td>TEXAS COMMERCE BANCSHARES &lt;TCB&gt; FILES PLAN HOU...</td>\n",
       "    </tr>\n",
       "    <tr>\n",
       "      <th>3</th>\n",
       "      <td>blank</td>\n",
       "      <td>TALKING POINT/BANKAMERICA &lt;BAC&gt; EQUITY OFFER b...</td>\n",
       "    </tr>\n",
       "    <tr>\n",
       "      <th>4</th>\n",
       "      <td>other</td>\n",
       "      <td>NATIONAL AVERAGE PRICES FOR FARMER-OWNED RESER...</td>\n",
       "    </tr>\n",
       "    <tr>\n",
       "      <th>...</th>\n",
       "      <td>...</td>\n",
       "      <td>...</td>\n",
       "    </tr>\n",
       "    <tr>\n",
       "      <th>995</th>\n",
       "      <td>blank</td>\n",
       "      <td>ASHTON-TATE &lt;TATE&gt; TO OFFER COMMON SHARES TORR...</td>\n",
       "    </tr>\n",
       "    <tr>\n",
       "      <th>996</th>\n",
       "      <td>blank</td>\n",
       "      <td>KEYCORP &lt;KEY&gt; REGISTERS SUBORDINATED NOTES ALB...</td>\n",
       "    </tr>\n",
       "    <tr>\n",
       "      <th>997</th>\n",
       "      <td>earn</td>\n",
       "      <td>&lt;NATIONAL SEA PRODUCTS LTD&gt; 4TH QTR NET HALIFA...</td>\n",
       "    </tr>\n",
       "    <tr>\n",
       "      <th>998</th>\n",
       "      <td>other</td>\n",
       "      <td>U.K. MONEY MARKET SHORTAGE FORECAST REVISED DO...</td>\n",
       "    </tr>\n",
       "    <tr>\n",
       "      <th>999</th>\n",
       "      <td>other</td>\n",
       "      <td>NATIONAL AMUSEMENTS AGAIN UPS VIACOM &lt;VIA&gt; BID...</td>\n",
       "    </tr>\n",
       "  </tbody>\n",
       "</table>\n",
       "<p>1000 rows × 2 columns</p>\n",
       "</div>"
      ],
      "text/plain": [
       "     topic                                               text\n",
       "0    other  BAHIA COCOA REVIEW SALVADOR, Feb 26 - Showers ...\n",
       "1    blank  STANDARD OIL <SRD> TO FORM FINANCIAL UNIT CLEV...\n",
       "2    blank  TEXAS COMMERCE BANCSHARES <TCB> FILES PLAN HOU...\n",
       "3    blank  TALKING POINT/BANKAMERICA <BAC> EQUITY OFFER b...\n",
       "4    other  NATIONAL AVERAGE PRICES FOR FARMER-OWNED RESER...\n",
       "..     ...                                                ...\n",
       "995  blank  ASHTON-TATE <TATE> TO OFFER COMMON SHARES TORR...\n",
       "996  blank  KEYCORP <KEY> REGISTERS SUBORDINATED NOTES ALB...\n",
       "997   earn  <NATIONAL SEA PRODUCTS LTD> 4TH QTR NET HALIFA...\n",
       "998  other  U.K. MONEY MARKET SHORTAGE FORECAST REVISED DO...\n",
       "999  other  NATIONAL AMUSEMENTS AGAIN UPS VIACOM <VIA> BID...\n",
       "\n",
       "[1000 rows x 2 columns]"
      ]
     },
     "execution_count": 108,
     "metadata": {},
     "output_type": "execute_result"
    }
   ],
   "source": [
    "df['text'] = list_all_text\n",
    "df"
   ]
  },
  {
   "cell_type": "markdown",
   "metadata": {
    "id": "qp8_kd_wJdwJ"
   },
   "source": [
    "Now that I got it working with one .sgm file, do the entire dataset."
   ]
  },
  {
   "cell_type": "markdown",
   "metadata": {
    "id": "EEHLQiGqK1ws"
   },
   "source": [
    "# Join all datafiles"
   ]
  },
  {
   "cell_type": "markdown",
   "metadata": {
    "id": "053-vYcMK2Oi"
   },
   "source": [
    "## Method\n",
    "- make an empty df with the two columns\n",
    "- loop through each file\n",
    "    - read the file and make it a bs4 object\n",
    "    - find the topics\n",
    "        - make an empty list\n",
    "        - loop through the topics and turn the bs4 tags into text\n",
    "        - run the function on the list to make it the topics for the df\n",
    "    - find the text\n",
    "        - make an empty list\n",
    "        - run the loop using `.get_text()`\n",
    "            - clean the text in the loop\n",
    "    - add the lists to df using `add_to_df` function\n",
    "  "
   ]
  },
  {
   "cell_type": "markdown",
   "metadata": {
    "id": "XCwu3035K2U0"
   },
   "source": [
    "## Define functions"
   ]
  },
  {
   "cell_type": "code",
   "execution_count": 109,
   "metadata": {
    "execution": {
     "iopub.execute_input": "2022-02-04T21:19:37.988148Z",
     "iopub.status.busy": "2022-02-04T21:19:37.987145Z",
     "iopub.status.idle": "2022-02-04T21:19:38.002151Z",
     "shell.execute_reply": "2022-02-04T21:19:38.000145Z",
     "shell.execute_reply.started": "2022-02-04T21:19:37.988148Z"
    },
    "id": "C8A2_3koK2aE"
   },
   "outputs": [],
   "source": [
    "def pull_out_earn_topic(topic_list):\n",
    "    for i, topic in enumerate(topic_list):\n",
    "        \n",
    "        # format is a list of strings, so this loop removes topics from nested list\n",
    "        article_topics = ''\n",
    "        for word in topic:\n",
    "            article_topics += (word + ' ')\n",
    "            \n",
    "        # assign correct topic \n",
    "        if not article_topics:\n",
    "            topic_list[i] = 'blank'\n",
    "        elif 'earn' in article_topics:\n",
    "            topic_list[i] = 'earn'\n",
    "        else:\n",
    "            topic_list[i] = 'other'\n",
    "    \n",
    "    return topic_list"
   ]
  },
  {
   "cell_type": "code",
   "execution_count": 110,
   "metadata": {
    "execution": {
     "iopub.execute_input": "2022-02-04T21:19:38.004148Z",
     "iopub.status.busy": "2022-02-04T21:19:38.003146Z",
     "iopub.status.idle": "2022-02-04T21:19:38.017149Z",
     "shell.execute_reply": "2022-02-04T21:19:38.016145Z",
     "shell.execute_reply.started": "2022-02-04T21:19:38.004148Z"
    },
    "id": "Byj4zNmhK2ex"
   },
   "outputs": [],
   "source": [
    "def make_bs4(file):\n",
    "    filename = os.path.join('data_files', file)\n",
    "    f = open(filename, 'r', encoding='utf-8', errors='ignore')\n",
    "    dataFile = f.read()\n",
    "    print(f.name)\n",
    "        \n",
    "    # make it a bs4 object\n",
    "    soup = BeautifulSoup(dataFile,'lxml')\n",
    "    return soup"
   ]
  },
  {
   "cell_type": "code",
   "execution_count": 111,
   "metadata": {
    "execution": {
     "iopub.execute_input": "2022-02-04T21:19:38.020147Z",
     "iopub.status.busy": "2022-02-04T21:19:38.019147Z",
     "iopub.status.idle": "2022-02-04T21:19:38.033145Z",
     "shell.execute_reply": "2022-02-04T21:19:38.032143Z",
     "shell.execute_reply.started": "2022-02-04T21:19:38.020147Z"
    },
    "id": "_SXWc1BFK2i1"
   },
   "outputs": [],
   "source": [
    "def add_to_df(topics, texts, df):\n",
    "    for i, topic in enumerate(topics):\n",
    "        new_row = pd.Series([topics[i], texts[i]], index=df.columns)\n",
    "        df = df.append(new_row, ignore_index=True)\n",
    "    return df"
   ]
  },
  {
   "cell_type": "markdown",
   "metadata": {
    "id": "5c4KD7S8K2mn"
   },
   "source": [
    "## Execute big loop to add all the data to the dataframe"
   ]
  },
  {
   "cell_type": "markdown",
   "metadata": {
    "id": "ks9WCV9YMksk"
   },
   "source": [
    "Help with BS4 and loop adapted from code found [here](https://medium.com/@namanjain2050/finding-similar-documents-reuters-dataset-example-part-4-eb0462e1ab2b). "
   ]
  },
  {
   "cell_type": "code",
   "execution_count": 112,
   "metadata": {
    "colab": {
     "base_uri": "https://localhost:8080/",
     "height": 787
    },
    "execution": {
     "iopub.execute_input": "2022-02-04T21:19:38.036146Z",
     "iopub.status.busy": "2022-02-04T21:19:38.035148Z",
     "iopub.status.idle": "2022-02-04T21:20:31.827372Z",
     "shell.execute_reply": "2022-02-04T21:20:31.826373Z",
     "shell.execute_reply.started": "2022-02-04T21:19:38.036146Z"
    },
    "id": "Y-Y8uXQZLSka",
    "outputId": "6a1a48f8-e8c0-4638-afdf-69f42bcfdd86"
   },
   "outputs": [
    {
     "name": "stdout",
     "output_type": "stream",
     "text": [
      "data_files\\reut2-000.sgm\n",
      "data_files\\reut2-001.sgm\n",
      "data_files\\reut2-002.sgm\n",
      "data_files\\reut2-003.sgm\n",
      "data_files\\reut2-004.sgm\n",
      "data_files\\reut2-005.sgm\n",
      "data_files\\reut2-006.sgm\n",
      "data_files\\reut2-007.sgm\n",
      "data_files\\reut2-008.sgm\n",
      "data_files\\reut2-009.sgm\n",
      "data_files\\reut2-010.sgm\n",
      "data_files\\reut2-011.sgm\n",
      "data_files\\reut2-012.sgm\n",
      "data_files\\reut2-013.sgm\n",
      "data_files\\reut2-014.sgm\n",
      "data_files\\reut2-015.sgm\n",
      "data_files\\reut2-016.sgm\n",
      "data_files\\reut2-017.sgm\n",
      "data_files\\reut2-018.sgm\n",
      "data_files\\reut2-019.sgm\n",
      "data_files\\reut2-020.sgm\n"
     ]
    },
    {
     "data": {
      "text/html": [
       "<div>\n",
       "<style scoped>\n",
       "    .dataframe tbody tr th:only-of-type {\n",
       "        vertical-align: middle;\n",
       "    }\n",
       "\n",
       "    .dataframe tbody tr th {\n",
       "        vertical-align: top;\n",
       "    }\n",
       "\n",
       "    .dataframe thead th {\n",
       "        text-align: right;\n",
       "    }\n",
       "</style>\n",
       "<table border=\"1\" class=\"dataframe\">\n",
       "  <thead>\n",
       "    <tr style=\"text-align: right;\">\n",
       "      <th></th>\n",
       "      <th>topic</th>\n",
       "      <th>text</th>\n",
       "    </tr>\n",
       "  </thead>\n",
       "  <tbody>\n",
       "    <tr>\n",
       "      <th>0</th>\n",
       "      <td>other</td>\n",
       "      <td>BAHIA COCOA REVIEW SALVADOR, Feb 26 - Showers ...</td>\n",
       "    </tr>\n",
       "    <tr>\n",
       "      <th>1</th>\n",
       "      <td>blank</td>\n",
       "      <td>STANDARD OIL &lt;SRD&gt; TO FORM FINANCIAL UNIT CLEV...</td>\n",
       "    </tr>\n",
       "    <tr>\n",
       "      <th>2</th>\n",
       "      <td>blank</td>\n",
       "      <td>TEXAS COMMERCE BANCSHARES &lt;TCB&gt; FILES PLAN HOU...</td>\n",
       "    </tr>\n",
       "    <tr>\n",
       "      <th>3</th>\n",
       "      <td>blank</td>\n",
       "      <td>TALKING POINT/BANKAMERICA &lt;BAC&gt; EQUITY OFFER b...</td>\n",
       "    </tr>\n",
       "    <tr>\n",
       "      <th>4</th>\n",
       "      <td>other</td>\n",
       "      <td>NATIONAL AVERAGE PRICES FOR FARMER-OWNED RESER...</td>\n",
       "    </tr>\n",
       "    <tr>\n",
       "      <th>...</th>\n",
       "      <td>...</td>\n",
       "      <td>...</td>\n",
       "    </tr>\n",
       "    <tr>\n",
       "      <th>21995</th>\n",
       "      <td>blank</td>\n",
       "      <td>******PACIFIC STOCK EXCHANGE SAYS IT WILL CLOS...</td>\n",
       "    </tr>\n",
       "    <tr>\n",
       "      <th>21996</th>\n",
       "      <td>blank</td>\n",
       "      <td>******DOW FALLS 404 POINTS TO 1844, LOWEST LEV...</td>\n",
       "    </tr>\n",
       "    <tr>\n",
       "      <th>21997</th>\n",
       "      <td>blank</td>\n",
       "      <td>AFG INDUSTRIES &lt;AFG&gt; TO BUY BACK STOCK IRVINE,...</td>\n",
       "    </tr>\n",
       "    <tr>\n",
       "      <th>21998</th>\n",
       "      <td>blank</td>\n",
       "      <td>J.P. MORGAN &lt;JPM&gt; LOWERS LOAN-LOSS PROVISIONS ...</td>\n",
       "    </tr>\n",
       "    <tr>\n",
       "      <th>21999</th>\n",
       "      <td>other</td>\n",
       "      <td>CCR VIDEO&lt;CCCR.O&gt; GETS OFFER ON TAKEOVER TALKS...</td>\n",
       "    </tr>\n",
       "  </tbody>\n",
       "</table>\n",
       "<p>22000 rows × 2 columns</p>\n",
       "</div>"
      ],
      "text/plain": [
       "       topic                                               text\n",
       "0      other  BAHIA COCOA REVIEW SALVADOR, Feb 26 - Showers ...\n",
       "1      blank  STANDARD OIL <SRD> TO FORM FINANCIAL UNIT CLEV...\n",
       "2      blank  TEXAS COMMERCE BANCSHARES <TCB> FILES PLAN HOU...\n",
       "3      blank  TALKING POINT/BANKAMERICA <BAC> EQUITY OFFER b...\n",
       "4      other  NATIONAL AVERAGE PRICES FOR FARMER-OWNED RESER...\n",
       "...      ...                                                ...\n",
       "21995  blank  ******PACIFIC STOCK EXCHANGE SAYS IT WILL CLOS...\n",
       "21996  blank  ******DOW FALLS 404 POINTS TO 1844, LOWEST LEV...\n",
       "21997  blank  AFG INDUSTRIES <AFG> TO BUY BACK STOCK IRVINE,...\n",
       "21998  blank  J.P. MORGAN <JPM> LOWERS LOAN-LOSS PROVISIONS ...\n",
       "21999  other  CCR VIDEO<CCCR.O> GETS OFFER ON TAKEOVER TALKS...\n",
       "\n",
       "[22000 rows x 2 columns]"
      ]
     },
     "execution_count": 112,
     "metadata": {},
     "output_type": "execute_result"
    }
   ],
   "source": [
    "for file in os.listdir(\"data_files/\"): \n",
    "\n",
    "    if file.endswith(\".sgm\"):\n",
    "        \n",
    "        # for each sgm file, read it and make it a bs4 object\n",
    "        soup = make_bs4(file)\n",
    "        \n",
    "        # isolate topics\n",
    "        topic_list = list()\n",
    "        \n",
    "        topics = soup.find_all('topics')\n",
    "        \n",
    "        for x in topics:\n",
    "            # turn bs4.tag into text\n",
    "            words = [i.text for i in x]\n",
    "            #append text to list\n",
    "            topic_list.append(words)\n",
    "        \n",
    "        topic_list = pull_out_earn_topic(topic_list)\n",
    "        \n",
    "        # isolate text\n",
    "        list_all_text = list()\n",
    "        \n",
    "        all_text = soup.find_all(\"text\")\n",
    "        \n",
    "        for text in all_text:\n",
    "            \n",
    "            # getting just the text from the element\n",
    "            # stripping out the newline indicator\n",
    "            working_text = text.get_text().replace(\"\\n\", \" \")\n",
    "            \n",
    "            # removing extra spaces\n",
    "            working_text = ' '.join(working_text.split())\n",
    "            \n",
    "            # appending to list\n",
    "            list_all_text.append(working_text)\n",
    "        \n",
    "        # add the article's topic and the article's text to the df         \n",
    "        df = add_to_df(topic_list, list_all_text, df)\n",
    "df"
   ]
  },
  {
   "cell_type": "markdown",
   "metadata": {
    "id": "HnOcDwuENyUA"
   },
   "source": [
    "Take a look at new df."
   ]
  },
  {
   "cell_type": "code",
   "execution_count": 113,
   "metadata": {
    "colab": {
     "base_uri": "https://localhost:8080/"
    },
    "execution": {
     "iopub.execute_input": "2022-02-04T21:20:31.828372Z",
     "iopub.status.busy": "2022-02-04T21:20:31.828372Z",
     "iopub.status.idle": "2022-02-04T21:20:31.843373Z",
     "shell.execute_reply": "2022-02-04T21:20:31.842371Z",
     "shell.execute_reply.started": "2022-02-04T21:20:31.828372Z"
    },
    "id": "hGDMjROZLSrY",
    "outputId": "d3133c81-174f-45b1-819a-3e5e4b29e1f2"
   },
   "outputs": [
    {
     "name": "stdout",
     "output_type": "stream",
     "text": [
      "<class 'pandas.core.frame.DataFrame'>\n",
      "RangeIndex: 22000 entries, 0 to 21999\n",
      "Data columns (total 2 columns):\n",
      " #   Column  Non-Null Count  Dtype \n",
      "---  ------  --------------  ----- \n",
      " 0   topic   22000 non-null  object\n",
      " 1   text    22000 non-null  object\n",
      "dtypes: object(2)\n",
      "memory usage: 343.9+ KB\n"
     ]
    }
   ],
   "source": [
    "df.info()"
   ]
  },
  {
   "cell_type": "code",
   "execution_count": 114,
   "metadata": {
    "colab": {
     "base_uri": "https://localhost:8080/",
     "height": 394
    },
    "execution": {
     "iopub.execute_input": "2022-02-04T21:20:31.845373Z",
     "iopub.status.busy": "2022-02-04T21:20:31.844372Z",
     "iopub.status.idle": "2022-02-04T21:20:31.859383Z",
     "shell.execute_reply": "2022-02-04T21:20:31.858370Z",
     "shell.execute_reply.started": "2022-02-04T21:20:31.845373Z"
    },
    "id": "z-Ij2VvJLSwC",
    "outputId": "c61cebb3-09e4-4e9d-9412-0ca9c93e15a6"
   },
   "outputs": [
    {
     "data": {
      "text/html": [
       "<div>\n",
       "<style scoped>\n",
       "    .dataframe tbody tr th:only-of-type {\n",
       "        vertical-align: middle;\n",
       "    }\n",
       "\n",
       "    .dataframe tbody tr th {\n",
       "        vertical-align: top;\n",
       "    }\n",
       "\n",
       "    .dataframe thead th {\n",
       "        text-align: right;\n",
       "    }\n",
       "</style>\n",
       "<table border=\"1\" class=\"dataframe\">\n",
       "  <thead>\n",
       "    <tr style=\"text-align: right;\">\n",
       "      <th></th>\n",
       "      <th>topic</th>\n",
       "      <th>text</th>\n",
       "    </tr>\n",
       "  </thead>\n",
       "  <tbody>\n",
       "    <tr>\n",
       "      <th>990</th>\n",
       "      <td>other</td>\n",
       "      <td>U.S. ASKS JAPAN END AGRICULTURE IMPORT CONTROL...</td>\n",
       "    </tr>\n",
       "    <tr>\n",
       "      <th>991</th>\n",
       "      <td>blank</td>\n",
       "      <td>U.S. FINANCIAL ANALYSTS - March 3 Wilcox/Gibbs...</td>\n",
       "    </tr>\n",
       "    <tr>\n",
       "      <th>992</th>\n",
       "      <td>blank</td>\n",
       "      <td>U.S. DIVIDEND MEETINGS - MARCH 3 Mickelberry C...</td>\n",
       "    </tr>\n",
       "    <tr>\n",
       "      <th>993</th>\n",
       "      <td>blank</td>\n",
       "      <td>U.S. SHAREHOLDER MEETINGS - MARCH 3 None Repor...</td>\n",
       "    </tr>\n",
       "    <tr>\n",
       "      <th>994</th>\n",
       "      <td>earn</td>\n",
       "      <td>FIRSTCORP &lt;FCR&gt; SEES GAIN ON CONDEMNATION RALE...</td>\n",
       "    </tr>\n",
       "    <tr>\n",
       "      <th>995</th>\n",
       "      <td>blank</td>\n",
       "      <td>ASHTON-TATE &lt;TATE&gt; TO OFFER COMMON SHARES TORR...</td>\n",
       "    </tr>\n",
       "    <tr>\n",
       "      <th>996</th>\n",
       "      <td>blank</td>\n",
       "      <td>KEYCORP &lt;KEY&gt; REGISTERS SUBORDINATED NOTES ALB...</td>\n",
       "    </tr>\n",
       "    <tr>\n",
       "      <th>997</th>\n",
       "      <td>earn</td>\n",
       "      <td>&lt;NATIONAL SEA PRODUCTS LTD&gt; 4TH QTR NET HALIFA...</td>\n",
       "    </tr>\n",
       "    <tr>\n",
       "      <th>998</th>\n",
       "      <td>other</td>\n",
       "      <td>U.K. MONEY MARKET SHORTAGE FORECAST REVISED DO...</td>\n",
       "    </tr>\n",
       "    <tr>\n",
       "      <th>999</th>\n",
       "      <td>other</td>\n",
       "      <td>NATIONAL AMUSEMENTS AGAIN UPS VIACOM &lt;VIA&gt; BID...</td>\n",
       "    </tr>\n",
       "    <tr>\n",
       "      <th>1000</th>\n",
       "      <td>other</td>\n",
       "      <td>BAHIA COCOA REVIEW SALVADOR, Feb 26 - Showers ...</td>\n",
       "    </tr>\n",
       "  </tbody>\n",
       "</table>\n",
       "</div>"
      ],
      "text/plain": [
       "      topic                                               text\n",
       "990   other  U.S. ASKS JAPAN END AGRICULTURE IMPORT CONTROL...\n",
       "991   blank  U.S. FINANCIAL ANALYSTS - March 3 Wilcox/Gibbs...\n",
       "992   blank  U.S. DIVIDEND MEETINGS - MARCH 3 Mickelberry C...\n",
       "993   blank  U.S. SHAREHOLDER MEETINGS - MARCH 3 None Repor...\n",
       "994    earn  FIRSTCORP <FCR> SEES GAIN ON CONDEMNATION RALE...\n",
       "995   blank  ASHTON-TATE <TATE> TO OFFER COMMON SHARES TORR...\n",
       "996   blank  KEYCORP <KEY> REGISTERS SUBORDINATED NOTES ALB...\n",
       "997    earn  <NATIONAL SEA PRODUCTS LTD> 4TH QTR NET HALIFA...\n",
       "998   other  U.K. MONEY MARKET SHORTAGE FORECAST REVISED DO...\n",
       "999   other  NATIONAL AMUSEMENTS AGAIN UPS VIACOM <VIA> BID...\n",
       "1000  other  BAHIA COCOA REVIEW SALVADOR, Feb 26 - Showers ..."
      ]
     },
     "execution_count": 114,
     "metadata": {},
     "output_type": "execute_result"
    }
   ],
   "source": [
    "df[990:1001]"
   ]
  },
  {
   "cell_type": "markdown",
   "metadata": {
    "id": "Mc5TohyzLSzr"
   },
   "source": [
    "Checking if any articles are empty strings"
   ]
  },
  {
   "cell_type": "code",
   "execution_count": 115,
   "metadata": {
    "colab": {
     "base_uri": "https://localhost:8080/"
    },
    "execution": {
     "iopub.execute_input": "2022-02-04T21:20:31.860372Z",
     "iopub.status.busy": "2022-02-04T21:20:31.860372Z",
     "iopub.status.idle": "2022-02-04T21:20:31.890388Z",
     "shell.execute_reply": "2022-02-04T21:20:31.889388Z",
     "shell.execute_reply.started": "2022-02-04T21:20:31.860372Z"
    },
    "id": "Ryg3BJe2LS7T",
    "outputId": "36cdce70-5774-44b8-e81b-a6df25748d41"
   },
   "outputs": [
    {
     "data": {
      "text/plain": [
       "(array([13792], dtype=int64), array([1], dtype=int64))"
      ]
     },
     "execution_count": 115,
     "metadata": {},
     "output_type": "execute_result"
    }
   ],
   "source": [
    "np.where(df.applymap(lambda x: x == ''))"
   ]
  },
  {
   "cell_type": "code",
   "execution_count": 116,
   "metadata": {
    "colab": {
     "base_uri": "https://localhost:8080/"
    },
    "execution": {
     "iopub.execute_input": "2022-02-04T21:20:31.892374Z",
     "iopub.status.busy": "2022-02-04T21:20:31.891371Z",
     "iopub.status.idle": "2022-02-04T21:20:31.906377Z",
     "shell.execute_reply": "2022-02-04T21:20:31.905374Z",
     "shell.execute_reply.started": "2022-02-04T21:20:31.891371Z"
    },
    "id": "MMdbh38MLTDx",
    "outputId": "ead166d1-8ede-4b6b-d479-27527d7fd3a3"
   },
   "outputs": [
    {
     "data": {
      "text/plain": [
       "topic                                                blank\n",
       "text     PARIS SUGAR 15.45 - APR 7 May 1145/1150 Ba Aug...\n",
       "Name: 14792, dtype: object"
      ]
     },
     "execution_count": 116,
     "metadata": {},
     "output_type": "execute_result"
    }
   ],
   "source": [
    "df.iloc[14792]"
   ]
  },
  {
   "cell_type": "markdown",
   "metadata": {
    "id": "Ac_0SdTbK21y"
   },
   "source": [
    "It seems row 14792 has empty string. Remove it, and double-check."
   ]
  },
  {
   "cell_type": "code",
   "execution_count": 117,
   "metadata": {
    "colab": {
     "base_uri": "https://localhost:8080/"
    },
    "execution": {
     "iopub.execute_input": "2022-02-04T21:20:31.909378Z",
     "iopub.status.busy": "2022-02-04T21:20:31.908377Z",
     "iopub.status.idle": "2022-02-04T21:20:31.939375Z",
     "shell.execute_reply": "2022-02-04T21:20:31.937373Z",
     "shell.execute_reply.started": "2022-02-04T21:20:31.909378Z"
    },
    "id": "FMC_7kS5OVKJ",
    "outputId": "f6592316-effe-4247-9762-2c3f5c9be023"
   },
   "outputs": [
    {
     "data": {
      "text/plain": [
       "(array([13792], dtype=int64), array([1], dtype=int64))"
      ]
     },
     "execution_count": 117,
     "metadata": {},
     "output_type": "execute_result"
    }
   ],
   "source": [
    "df = df.drop([14792])\n",
    "np.where(df.applymap(lambda x: x == ''))"
   ]
  },
  {
   "cell_type": "markdown",
   "metadata": {
    "id": "36kv4cv-OVbi"
   },
   "source": [
    "Looks ok. Save the dataframe."
   ]
  },
  {
   "cell_type": "code",
   "execution_count": 118,
   "metadata": {
    "execution": {
     "iopub.execute_input": "2022-02-04T21:20:31.941376Z",
     "iopub.status.busy": "2022-02-04T21:20:31.940375Z",
     "iopub.status.idle": "2022-02-04T21:20:32.462406Z",
     "shell.execute_reply": "2022-02-04T21:20:32.462406Z",
     "shell.execute_reply.started": "2022-02-04T21:20:31.941376Z"
    },
    "id": "ZAqQI46bOVfq"
   },
   "outputs": [],
   "source": [
    "df.to_csv('data_files/' + 'topics_and_text.csv', index=False)"
   ]
  },
  {
   "cell_type": "markdown",
   "metadata": {
    "id": "-R4va0FCfoCh"
   },
   "source": [
    "# Exploratory Data Analysis\n"
   ]
  },
  {
   "cell_type": "code",
   "execution_count": 119,
   "metadata": {
    "colab": {
     "base_uri": "https://localhost:8080/"
    },
    "execution": {
     "iopub.execute_input": "2022-02-04T21:20:32.464410Z",
     "iopub.status.busy": "2022-02-04T21:20:32.464410Z",
     "iopub.status.idle": "2022-02-04T21:20:32.479376Z",
     "shell.execute_reply": "2022-02-04T21:20:32.478378Z",
     "shell.execute_reply.started": "2022-02-04T21:20:32.464410Z"
    },
    "id": "VDWcVO9XOVm2",
    "outputId": "9c8a21c3-dc7b-44ce-a8b7-c91da38fa03a"
   },
   "outputs": [
    {
     "name": "stderr",
     "output_type": "stream",
     "text": [
      "[nltk_data] Downloading package stopwords to\n",
      "[nltk_data]     C:\\Users\\halpe\\AppData\\Roaming\\nltk_data...\n",
      "[nltk_data]   Package stopwords is already up-to-date!\n",
      "[nltk_data] Downloading package punkt to\n",
      "[nltk_data]     C:\\Users\\halpe\\AppData\\Roaming\\nltk_data...\n",
      "[nltk_data]   Package punkt is already up-to-date!\n"
     ]
    }
   ],
   "source": [
    "import matplotlib.pyplot as plt\n",
    "import seaborn as sns\n",
    "import nltk\n",
    "nltk.download('stopwords')\n",
    "nltk.download('punkt')\n",
    "from nltk.corpus import stopwords\n",
    "from nltk import word_tokenize, FreqDist\n",
    "from nltk.stem.wordnet import WordNetLemmatizer\n",
    "import string"
   ]
  },
  {
   "cell_type": "code",
   "execution_count": 120,
   "metadata": {
    "colab": {
     "base_uri": "https://localhost:8080/"
    },
    "execution": {
     "iopub.execute_input": "2022-02-04T21:20:32.482373Z",
     "iopub.status.busy": "2022-02-04T21:20:32.481375Z",
     "iopub.status.idle": "2022-02-04T21:20:32.496374Z",
     "shell.execute_reply": "2022-02-04T21:20:32.494381Z",
     "shell.execute_reply.started": "2022-02-04T21:20:32.482373Z"
    },
    "id": "4J3Gezu7OVq3",
    "outputId": "f3567aa6-0c47-455e-a741-cd31167c47ab"
   },
   "outputs": [],
   "source": [
    "# from google.colab import drive\n",
    "# drive.mount('/gdrive')\n",
    "# %cd /gdrive\n",
    "# path = '/gdrive/My Drive/Colab Notebooks/interos/data_files/'\n",
    "# df = pd.read_csv(path + 'topics_and_text.csv')"
   ]
  },
  {
   "cell_type": "code",
   "execution_count": 121,
   "metadata": {
    "colab": {
     "base_uri": "https://localhost:8080/",
     "height": 206
    },
    "execution": {
     "iopub.execute_input": "2022-02-04T21:20:32.498378Z",
     "iopub.status.busy": "2022-02-04T21:20:32.497373Z",
     "iopub.status.idle": "2022-02-04T21:20:32.511377Z",
     "shell.execute_reply": "2022-02-04T21:20:32.510375Z",
     "shell.execute_reply.started": "2022-02-04T21:20:32.498378Z"
    },
    "id": "em1vqS8uf5Z1",
    "outputId": "4e61bcdc-3c64-4b7a-823d-d7b32cbd7cfc"
   },
   "outputs": [
    {
     "data": {
      "text/html": [
       "<div>\n",
       "<style scoped>\n",
       "    .dataframe tbody tr th:only-of-type {\n",
       "        vertical-align: middle;\n",
       "    }\n",
       "\n",
       "    .dataframe tbody tr th {\n",
       "        vertical-align: top;\n",
       "    }\n",
       "\n",
       "    .dataframe thead th {\n",
       "        text-align: right;\n",
       "    }\n",
       "</style>\n",
       "<table border=\"1\" class=\"dataframe\">\n",
       "  <thead>\n",
       "    <tr style=\"text-align: right;\">\n",
       "      <th></th>\n",
       "      <th>topic</th>\n",
       "      <th>text</th>\n",
       "    </tr>\n",
       "  </thead>\n",
       "  <tbody>\n",
       "    <tr>\n",
       "      <th>0</th>\n",
       "      <td>other</td>\n",
       "      <td>BAHIA COCOA REVIEW SALVADOR, Feb 26 - Showers ...</td>\n",
       "    </tr>\n",
       "    <tr>\n",
       "      <th>1</th>\n",
       "      <td>blank</td>\n",
       "      <td>STANDARD OIL &lt;SRD&gt; TO FORM FINANCIAL UNIT CLEV...</td>\n",
       "    </tr>\n",
       "    <tr>\n",
       "      <th>2</th>\n",
       "      <td>blank</td>\n",
       "      <td>TEXAS COMMERCE BANCSHARES &lt;TCB&gt; FILES PLAN HOU...</td>\n",
       "    </tr>\n",
       "    <tr>\n",
       "      <th>3</th>\n",
       "      <td>blank</td>\n",
       "      <td>TALKING POINT/BANKAMERICA &lt;BAC&gt; EQUITY OFFER b...</td>\n",
       "    </tr>\n",
       "    <tr>\n",
       "      <th>4</th>\n",
       "      <td>other</td>\n",
       "      <td>NATIONAL AVERAGE PRICES FOR FARMER-OWNED RESER...</td>\n",
       "    </tr>\n",
       "  </tbody>\n",
       "</table>\n",
       "</div>"
      ],
      "text/plain": [
       "   topic                                               text\n",
       "0  other  BAHIA COCOA REVIEW SALVADOR, Feb 26 - Showers ...\n",
       "1  blank  STANDARD OIL <SRD> TO FORM FINANCIAL UNIT CLEV...\n",
       "2  blank  TEXAS COMMERCE BANCSHARES <TCB> FILES PLAN HOU...\n",
       "3  blank  TALKING POINT/BANKAMERICA <BAC> EQUITY OFFER b...\n",
       "4  other  NATIONAL AVERAGE PRICES FOR FARMER-OWNED RESER..."
      ]
     },
     "execution_count": 121,
     "metadata": {},
     "output_type": "execute_result"
    }
   ],
   "source": [
    "df.head()"
   ]
  },
  {
   "cell_type": "code",
   "execution_count": 122,
   "metadata": {
    "colab": {
     "base_uri": "https://localhost:8080/"
    },
    "execution": {
     "iopub.execute_input": "2022-02-04T21:20:32.513372Z",
     "iopub.status.busy": "2022-02-04T21:20:32.512375Z",
     "iopub.status.idle": "2022-02-04T21:20:32.541370Z",
     "shell.execute_reply": "2022-02-04T21:20:32.540398Z",
     "shell.execute_reply.started": "2022-02-04T21:20:32.513372Z"
    },
    "id": "y_vRR_StgTif",
    "outputId": "bd078581-5162-4d71-d918-99eea61b54e4"
   },
   "outputs": [
    {
     "name": "stdout",
     "output_type": "stream",
     "text": [
      "<class 'pandas.core.frame.DataFrame'>\n",
      "Int64Index: 21999 entries, 0 to 21999\n",
      "Data columns (total 2 columns):\n",
      " #   Column  Non-Null Count  Dtype \n",
      "---  ------  --------------  ----- \n",
      " 0   topic   21999 non-null  object\n",
      " 1   text    21999 non-null  object\n",
      "dtypes: object(2)\n",
      "memory usage: 515.6+ KB\n"
     ]
    }
   ],
   "source": [
    "df.info()"
   ]
  },
  {
   "cell_type": "code",
   "execution_count": 123,
   "metadata": {
    "colab": {
     "base_uri": "https://localhost:8080/"
    },
    "execution": {
     "iopub.execute_input": "2022-02-04T21:20:32.542398Z",
     "iopub.status.busy": "2022-02-04T21:20:32.542398Z",
     "iopub.status.idle": "2022-02-04T21:20:32.558374Z",
     "shell.execute_reply": "2022-02-04T21:20:32.556374Z",
     "shell.execute_reply.started": "2022-02-04T21:20:32.542398Z"
    },
    "id": "4MY2HgiagVVV",
    "outputId": "9a66f63b-845c-4cdd-dc79-60a47c624eea"
   },
   "outputs": [
    {
     "data": {
      "text/plain": [
       "blank    10449\n",
       "other     7521\n",
       "earn      4029\n",
       "Name: topic, dtype: int64"
      ]
     },
     "execution_count": 123,
     "metadata": {},
     "output_type": "execute_result"
    }
   ],
   "source": [
    "df['topic'].value_counts()"
   ]
  },
  {
   "cell_type": "code",
   "execution_count": 124,
   "metadata": {
    "colab": {
     "base_uri": "https://localhost:8080/",
     "height": 357
    },
    "execution": {
     "iopub.execute_input": "2022-02-04T21:20:32.560374Z",
     "iopub.status.busy": "2022-02-04T21:20:32.559373Z",
     "iopub.status.idle": "2022-02-04T21:20:32.636380Z",
     "shell.execute_reply": "2022-02-04T21:20:32.635377Z",
     "shell.execute_reply.started": "2022-02-04T21:20:32.560374Z"
    },
    "id": "TO59mKWdgX-N",
    "outputId": "5d2cf932-a8cb-4237-b6f4-e294b1dbe89a"
   },
   "outputs": [
    {
     "data": {
      "image/png": "[encoded data removed]",
      "text/plain": [
       "<Figure size 432x432 with 1 Axes>"
      ]
     },
     "metadata": {},
     "output_type": "display_data"
    }
   ],
   "source": [
    "from matplotlib.pyplot import figure\n",
    "\n",
    "figure(figsize=(6, 6))\n",
    "# sns.set_theme()\n",
    "sns.color_palette(\"husl\", 3)\n",
    "data = df['topic'].value_counts()\n",
    "labels = data.keys()\n",
    "plt.pie(x = data, labels = labels, autopct=\"%.1f%%\", colors = ['blue','seagreen','aqua'])\n",
    "plt.show()"
   ]
  },
  {
   "cell_type": "markdown",
   "metadata": {
    "id": "4qoGJpWhhQiy"
   },
   "source": [
    "Close to half are blank. The question will be what to do about these. "
   ]
  },
  {
   "cell_type": "markdown",
   "metadata": {
    "id": "RfLn2yG4hbB-"
   },
   "source": [
    "## Process the text"
   ]
  },
  {
   "cell_type": "code",
   "execution_count": 125,
   "metadata": {
    "colab": {
     "base_uri": "https://localhost:8080/",
     "height": 157
    },
    "execution": {
     "iopub.execute_input": "2022-02-04T21:20:32.639377Z",
     "iopub.status.busy": "2022-02-04T21:20:32.638376Z",
     "iopub.status.idle": "2022-02-04T21:20:32.652374Z",
     "shell.execute_reply": "2022-02-04T21:20:32.651370Z",
     "shell.execute_reply.started": "2022-02-04T21:20:32.639377Z"
    },
    "id": "PbH30_mnhgI7",
    "outputId": "2de84d48-f051-4060-9238-8930d97daefe"
   },
   "outputs": [
    {
     "data": {
      "text/plain": [
       "'BAHIA COCOA REVIEW SALVADOR, Feb 26 - Showers continued throughout the week in the Bahia cocoa zone, alleviating the drought since early January and improving prospects for the coming temporao, although normal humidity levels have not been restored, Comissaria Smith said in its weekly review. The dry period means the temporao will be late this year. Arrivals for the week ended February 22 were 155,221 bags of 60 kilos making a cumulative total for the season of 5.93 mln against 5.81 at the same stage last year. Again it seems that cocoa delivered earlier on consignment was included in the arrivals figures. Comissaria Smith said there is still some doubt as to how much old crop cocoa is still available as harvesting has practically come to an end. With total Bahia crop estimates around 6.4 mln bags and sales standing at almost 6.2 mln there are a few hundred thousand bags still in the hands of farmers, middlemen, exporters and processors. There are doubts as to how much of this cocoa would be fit for export as shippers are now experiencing dificulties in obtaining +Bahia superior+ certificates. In view of the lower quality over recent weeks farmers have sold a good part of their cocoa held on consignment. Comissaria Smith said spot bean prices rose to 340 to 350 cruzados per arroba of 15 kilos. Bean shippers were reluctant to offer nearby shipment and only limited sales were booked for March shipment at 1,750 to 1,780 dlrs per tonne to ports to be named. New crop sales were also light and all to open ports with June/July going at 1,850 and 1,880 dlrs and at 35 and 45 dlrs under New York july, Aug/Sept at 1,870, 1,875 and 1,880 dlrs per tonne FOB. Routine sales of butter were made. March/April sold at 4,340, 4,345 and 4,350 dlrs. April/May butter went at 2.27 times New York May, June/July at 4,400 and 4,415 dlrs, Aug/Sept at 4,351 to 4,450 dlrs and at 2.27 and 2.28 times New York Sept and Oct/Dec at 4,480 dlrs and 2.27 times New York Dec, Comissaria Smith said. Destinations were the U.S., Covertible currency areas, Uruguay and open ports. Cake sales were registered at 785 to 995 dlrs for March/April, 785 dlrs for May, 753 dlrs for Aug and 0.39 times New York Dec for Oct/Dec. Buyers were the U.S., Argentina, Uruguay and convertible currency areas. Liquor sales were limited with March/April selling at 2,325 and 2,380 dlrs, June/July at 2,375 dlrs and at 1.25 times New York July, Aug/Sept at 2,400 dlrs and at 1.25 times New York Sept and Oct/Dec at 1.25 times New York Dec, Comissaria Smith said. Total Bahia sales are currently estimated at 6.13 mln bags against the 1986/87 crop and 1.06 mln bags against the 1987/88 crop. Final figures for the period to February 28 are expected to be published by the Brazilian Cocoa Trade Commission after carnival which ends midday on February 27. Reuter'"
      ]
     },
     "execution_count": 125,
     "metadata": {},
     "output_type": "execute_result"
    }
   ],
   "source": [
    "df.text[0]"
   ]
  },
  {
   "cell_type": "code",
   "execution_count": 126,
   "metadata": {
    "colab": {
     "base_uri": "https://localhost:8080/",
     "height": 105
    },
    "execution": {
     "iopub.execute_input": "2022-02-04T21:20:32.654373Z",
     "iopub.status.busy": "2022-02-04T21:20:32.653372Z",
     "iopub.status.idle": "2022-02-04T21:20:32.668375Z",
     "shell.execute_reply": "2022-02-04T21:20:32.666375Z",
     "shell.execute_reply.started": "2022-02-04T21:20:32.654373Z"
    },
    "id": "K6Fls5F6hgzR",
    "outputId": "501f1ff3-ea10-4f63-a634-e2fae2ee6d6e"
   },
   "outputs": [
    {
     "data": {
      "text/plain": [
       "'FEDERAL RESERVE MONEY SUPPLY REPORT - FEB 26 One Week Ended Feb 16 M-1.........................736.7 up.......2.1 Previous week revised to....734.6 From...734.2 Avge 4 Weeks (Vs Week Ago).735.0 Vs.....733.5 Avge 13 Weeks (Vs week Ago).731.8 Vs.....729.8 Monthly aggregates (Adjusted avgs in billions) M-1 (Jan vs Dec)............737.6 Vs.....730.5 M-2 (Jan vs Dec)..........2,820.1 Vs...2,798.4 M-3 (Jan vs Dec)..........3,513.6 Vs...3,488.1 L...(Dec vs Nov)..........4,141.5 Vs...4,110.5 Domestic Debt(Dec vs Nov).7,604.4 Vs...7,519.8 Reuter'"
      ]
     },
     "execution_count": 126,
     "metadata": {},
     "output_type": "execute_result"
    }
   ],
   "source": [
    "df.text[100]"
   ]
  },
  {
   "cell_type": "code",
   "execution_count": 127,
   "metadata": {
    "colab": {
     "base_uri": "https://localhost:8080/",
     "height": 35
    },
    "execution": {
     "iopub.execute_input": "2022-02-04T21:20:32.670375Z",
     "iopub.status.busy": "2022-02-04T21:20:32.670375Z",
     "iopub.status.idle": "2022-02-04T21:20:32.683374Z",
     "shell.execute_reply": "2022-02-04T21:20:32.682376Z",
     "shell.execute_reply.started": "2022-02-04T21:20:32.670375Z"
    },
    "id": "1f4Ye_Rbhg4F",
    "outputId": "c1805936-fad7-468b-84f2-167aa4b0fefd"
   },
   "outputs": [
    {
     "data": {
      "text/plain": [
       "'!\"#$%&\\'()*+,-./:;<=>?@[\\\\]^_`{|}~'"
      ]
     },
     "execution_count": 127,
     "metadata": {},
     "output_type": "execute_result"
    }
   ],
   "source": [
    "string.punctuation"
   ]
  },
  {
   "cell_type": "code",
   "execution_count": 128,
   "metadata": {
    "execution": {
     "iopub.execute_input": "2022-02-04T21:20:32.686374Z",
     "iopub.status.busy": "2022-02-04T21:20:32.685376Z",
     "iopub.status.idle": "2022-02-04T21:20:32.698376Z",
     "shell.execute_reply": "2022-02-04T21:20:32.697374Z",
     "shell.execute_reply.started": "2022-02-04T21:20:32.686374Z"
    },
    "id": "UANhD3y4hg8D"
   },
   "outputs": [],
   "source": [
    "stopwords_list = stopwords.words('english') + list(string.punctuation)"
   ]
  },
  {
   "cell_type": "code",
   "execution_count": 129,
   "metadata": {
    "execution": {
     "iopub.execute_input": "2022-02-04T21:20:32.700376Z",
     "iopub.status.busy": "2022-02-04T21:20:32.700376Z",
     "iopub.status.idle": "2022-02-04T21:20:32.715377Z",
     "shell.execute_reply": "2022-02-04T21:20:32.713376Z",
     "shell.execute_reply.started": "2022-02-04T21:20:32.700376Z"
    },
    "id": "Mxgu7rkohg_1"
   },
   "outputs": [],
   "source": [
    "# function to remove stopwords and tokenize text\n",
    "def process_narrative(narrative):\n",
    "    tokens = nltk.word_tokenize(narrative)\n",
    "    stopwords_removed = [token.lower() for token in tokens if token.lower() not in stopwords_list]\n",
    "    return stopwords_removed"
   ]
  },
  {
   "cell_type": "code",
   "execution_count": 130,
   "metadata": {
    "colab": {
     "base_uri": "https://localhost:8080/"
    },
    "execution": {
     "iopub.execute_input": "2022-02-04T21:20:32.718374Z",
     "iopub.status.busy": "2022-02-04T21:20:32.717377Z",
     "iopub.status.idle": "2022-02-04T21:20:32.746375Z",
     "shell.execute_reply": "2022-02-04T21:20:32.745375Z",
     "shell.execute_reply.started": "2022-02-04T21:20:32.718374Z"
    },
    "id": "WvtbjeLwhhDi",
    "outputId": "072c0185-9fd1-4990-bc1f-2f433a4d76dd"
   },
   "outputs": [
    {
     "data": {
      "text/plain": [
       "['bahia',\n",
       " 'cocoa',\n",
       " 'review',\n",
       " 'salvador',\n",
       " 'feb',\n",
       " '26',\n",
       " 'showers',\n",
       " 'continued',\n",
       " 'throughout',\n",
       " 'week',\n",
       " 'bahia',\n",
       " 'cocoa',\n",
       " 'zone',\n",
       " 'alleviating',\n",
       " 'drought',\n",
       " 'since',\n",
       " 'early',\n",
       " 'january',\n",
       " 'improving',\n",
       " 'prospects']"
      ]
     },
     "execution_count": 130,
     "metadata": {},
     "output_type": "execute_result"
    }
   ],
   "source": [
    "text1 = df.text[0]\n",
    "text_words = process_narrative(text1)\n",
    "text_words[0:20]"
   ]
  },
  {
   "cell_type": "code",
   "execution_count": 131,
   "metadata": {
    "colab": {
     "base_uri": "https://localhost:8080/"
    },
    "execution": {
     "iopub.execute_input": "2022-02-04T21:20:32.747373Z",
     "iopub.status.busy": "2022-02-04T21:20:32.747373Z",
     "iopub.status.idle": "2022-02-04T21:20:32.762376Z",
     "shell.execute_reply": "2022-02-04T21:20:32.761373Z",
     "shell.execute_reply.started": "2022-02-04T21:20:32.747373Z"
    },
    "id": "BGXGIdy_hhHZ",
    "outputId": "c85a2da0-b9d5-420a-dc16-1b204dacaf24"
   },
   "outputs": [
    {
     "data": {
      "text/plain": [
       "['federal',\n",
       " 'reserve',\n",
       " 'money',\n",
       " 'supply',\n",
       " 'report',\n",
       " 'feb',\n",
       " '26',\n",
       " 'one',\n",
       " 'week',\n",
       " 'ended',\n",
       " 'feb',\n",
       " '16',\n",
       " 'm-1',\n",
       " '...',\n",
       " '...',\n",
       " '...',\n",
       " '...',\n",
       " '...',\n",
       " '...',\n",
       " '...']"
      ]
     },
     "execution_count": 131,
     "metadata": {},
     "output_type": "execute_result"
    }
   ],
   "source": [
    "text2 = df.text[100]\n",
    "text_words = process_narrative(text2)\n",
    "text_words[0:20]"
   ]
  },
  {
   "cell_type": "markdown",
   "metadata": {
    "id": "zN1cfYoHhhLH"
   },
   "source": [
    "I'll add '...' to stopwords."
   ]
  },
  {
   "cell_type": "code",
   "execution_count": 132,
   "metadata": {
    "colab": {
     "base_uri": "https://localhost:8080/"
    },
    "execution": {
     "iopub.execute_input": "2022-02-04T21:20:32.764376Z",
     "iopub.status.busy": "2022-02-04T21:20:32.763376Z",
     "iopub.status.idle": "2022-02-04T21:20:32.777373Z",
     "shell.execute_reply": "2022-02-04T21:20:32.776370Z",
     "shell.execute_reply.started": "2022-02-04T21:20:32.763376Z"
    },
    "id": "iuHQjiMchhO6",
    "outputId": "dc330ca1-292b-47d7-a039-519ec5125eea"
   },
   "outputs": [
    {
     "data": {
      "text/plain": [
       "['{', '|', '}', '~', '...']"
      ]
     },
     "execution_count": 132,
     "metadata": {},
     "output_type": "execute_result"
    }
   ],
   "source": [
    "stopwords_list.append('...')\n",
    "stopwords_list[-5:]"
   ]
  },
  {
   "cell_type": "code",
   "execution_count": 133,
   "metadata": {
    "colab": {
     "base_uri": "https://localhost:8080/"
    },
    "execution": {
     "iopub.execute_input": "2022-02-04T21:20:32.778374Z",
     "iopub.status.busy": "2022-02-04T21:20:32.778374Z",
     "iopub.status.idle": "2022-02-04T21:20:32.793373Z",
     "shell.execute_reply": "2022-02-04T21:20:32.792371Z",
     "shell.execute_reply.started": "2022-02-04T21:20:32.778374Z"
    },
    "id": "EdeOc71shhSv",
    "outputId": "43c90e95-9ed4-4405-ef99-e6b0e71cf1a9"
   },
   "outputs": [
    {
     "data": {
      "text/plain": [
       "['federal',\n",
       " 'reserve',\n",
       " 'money',\n",
       " 'supply',\n",
       " 'report',\n",
       " 'feb',\n",
       " '26',\n",
       " 'one',\n",
       " 'week',\n",
       " 'ended',\n",
       " 'feb',\n",
       " '16',\n",
       " 'm-1',\n",
       " '.736.7',\n",
       " '.2.1',\n",
       " 'previous',\n",
       " 'week',\n",
       " 'revised',\n",
       " '.734.6',\n",
       " '734.2']"
      ]
     },
     "execution_count": 133,
     "metadata": {},
     "output_type": "execute_result"
    }
   ],
   "source": [
    "text2 = df.text[100]\n",
    "text_words = process_narrative(text2)\n",
    "text_words[0:20]"
   ]
  },
  {
   "cell_type": "code",
   "execution_count": 134,
   "metadata": {
    "colab": {
     "base_uri": "https://localhost:8080/",
     "height": 53
    },
    "execution": {
     "iopub.execute_input": "2022-02-04T21:20:32.797376Z",
     "iopub.status.busy": "2022-02-04T21:20:32.795375Z",
     "iopub.status.idle": "2022-02-04T21:20:32.809376Z",
     "shell.execute_reply": "2022-02-04T21:20:32.807375Z",
     "shell.execute_reply.started": "2022-02-04T21:20:32.797376Z"
    },
    "id": "Ok9BJFqJhhWr",
    "outputId": "eb63d431-4b9f-4ad9-ccca-e161a0e0f4af"
   },
   "outputs": [
    {
     "data": {
      "text/plain": [
       "'MAIL BOXES ETC <MAIL> 3RD QTR JAN 31 NET SAN DIEGO, Calif., Feb 26 - Shr 23 cts vs 18 cts Net 509,144 vs 277,834 Revs 2,258,341 vs 1,328,634 Avg shrs 2,177,553 vs 1,564,605 Nine mths Shr 55 cts vs 42 cts Net 1,150,633 vs 649,914 Revs 6,169,168 vs 3,178,115 Reuter'"
      ]
     },
     "execution_count": 134,
     "metadata": {},
     "output_type": "execute_result"
    }
   ],
   "source": [
    "df.text[200]"
   ]
  },
  {
   "cell_type": "code",
   "execution_count": 135,
   "metadata": {
    "colab": {
     "base_uri": "https://localhost:8080/",
     "height": 157
    },
    "execution": {
     "iopub.execute_input": "2022-02-04T21:20:32.811375Z",
     "iopub.status.busy": "2022-02-04T21:20:32.811375Z",
     "iopub.status.idle": "2022-02-04T21:20:32.824373Z",
     "shell.execute_reply": "2022-02-04T21:20:32.823372Z",
     "shell.execute_reply.started": "2022-02-04T21:20:32.811375Z"
    },
    "id": "F8YjNCz-hhal",
    "outputId": "f56d35b7-0aab-47c9-e966-b8cd96516ef4"
   },
   "outputs": [
    {
     "data": {
      "text/plain": [
       "'TRANSAMERICA CORP <TA> QUARTERLY DIVIDEND SAN FRANCISCO, June 18 - Qtly div 44 cts vs 44 cts Pay July 31 Record July 3 Reuter'"
      ]
     },
     "execution_count": 135,
     "metadata": {},
     "output_type": "execute_result"
    }
   ],
   "source": [
    "df.text[20001]"
   ]
  },
  {
   "cell_type": "code",
   "execution_count": 136,
   "metadata": {
    "colab": {
     "base_uri": "https://localhost:8080/"
    },
    "execution": {
     "iopub.execute_input": "2022-02-04T21:20:32.825372Z",
     "iopub.status.busy": "2022-02-04T21:20:32.825372Z",
     "iopub.status.idle": "2022-02-04T21:20:32.856377Z",
     "shell.execute_reply": "2022-02-04T21:20:32.855375Z",
     "shell.execute_reply.started": "2022-02-04T21:20:32.825372Z"
    },
    "id": "1TZ5TSnxhhel",
    "outputId": "2b1d55b6-8741-4612-82e4-d34c57300596"
   },
   "outputs": [
    {
     "data": {
      "text/plain": [
       "{'bahia': 4,\n",
       " 'cocoa': 7,\n",
       " 'review': 2,\n",
       " 'salvador': 1,\n",
       " 'feb': 1,\n",
       " '26': 1,\n",
       " 'showers': 1,\n",
       " 'continued': 1,\n",
       " 'throughout': 1,\n",
       " 'week': 2,\n",
       " 'zone': 1,\n",
       " 'alleviating': 1,\n",
       " 'drought': 1,\n",
       " 'since': 1,\n",
       " 'early': 1,\n",
       " 'january': 1,\n",
       " 'improving': 1,\n",
       " 'prospects': 1,\n",
       " 'coming': 1,\n",
       " 'temporao': 2,\n",
       " 'although': 1,\n",
       " 'normal': 1,\n",
       " 'humidity': 1,\n",
       " 'levels': 1,\n",
       " 'restored': 1,\n",
       " 'comissaria': 5,\n",
       " 'smith': 5,\n",
       " 'said': 5,\n",
       " 'weekly': 1,\n",
       " 'dry': 1,\n",
       " 'period': 2,\n",
       " 'means': 1,\n",
       " 'late': 1,\n",
       " 'year': 2,\n",
       " 'arrivals': 2,\n",
       " 'ended': 1,\n",
       " 'february': 3,\n",
       " '22': 1,\n",
       " '155,221': 1,\n",
       " 'bags': 5,\n",
       " '60': 1,\n",
       " 'kilos': 2,\n",
       " 'making': 1,\n",
       " 'cumulative': 1,\n",
       " 'total': 3,\n",
       " 'season': 1,\n",
       " '5.93': 1,\n",
       " 'mln': 5,\n",
       " '5.81': 1,\n",
       " 'stage': 1,\n",
       " 'last': 1,\n",
       " 'seems': 1,\n",
       " 'delivered': 1,\n",
       " 'earlier': 1,\n",
       " 'consignment': 2,\n",
       " 'included': 1,\n",
       " 'figures': 2,\n",
       " 'still': 3,\n",
       " 'doubt': 1,\n",
       " 'much': 2,\n",
       " 'old': 1,\n",
       " 'crop': 5,\n",
       " 'available': 1,\n",
       " 'harvesting': 1,\n",
       " 'practically': 1,\n",
       " 'come': 1,\n",
       " 'end': 1,\n",
       " 'estimates': 1,\n",
       " 'around': 1,\n",
       " '6.4': 1,\n",
       " 'sales': 7,\n",
       " 'standing': 1,\n",
       " 'almost': 1,\n",
       " '6.2': 1,\n",
       " 'hundred': 1,\n",
       " 'thousand': 1,\n",
       " 'hands': 1,\n",
       " 'farmers': 2,\n",
       " 'middlemen': 1,\n",
       " 'exporters': 1,\n",
       " 'processors': 1,\n",
       " 'doubts': 1,\n",
       " 'would': 1,\n",
       " 'fit': 1,\n",
       " 'export': 1,\n",
       " 'shippers': 2,\n",
       " 'experiencing': 1,\n",
       " 'dificulties': 1,\n",
       " 'obtaining': 1,\n",
       " '+bahia': 1,\n",
       " 'superior+': 1,\n",
       " 'certificates': 1,\n",
       " 'view': 1,\n",
       " 'lower': 1,\n",
       " 'quality': 1,\n",
       " 'recent': 1,\n",
       " 'weeks': 1,\n",
       " 'sold': 2,\n",
       " 'good': 1,\n",
       " 'part': 1,\n",
       " 'held': 1,\n",
       " 'spot': 1,\n",
       " 'bean': 2,\n",
       " 'prices': 1,\n",
       " 'rose': 1,\n",
       " '340': 1,\n",
       " '350': 1,\n",
       " 'cruzados': 1,\n",
       " 'per': 3,\n",
       " 'arroba': 1,\n",
       " '15': 1,\n",
       " 'reluctant': 1,\n",
       " 'offer': 1,\n",
       " 'nearby': 1,\n",
       " 'shipment': 2,\n",
       " 'limited': 2,\n",
       " 'booked': 1,\n",
       " 'march': 1,\n",
       " '1,750': 1,\n",
       " '1,780': 1,\n",
       " 'dlrs': 14,\n",
       " 'tonne': 2,\n",
       " 'ports': 3,\n",
       " 'named': 1,\n",
       " 'new': 9,\n",
       " 'also': 1,\n",
       " 'light': 1,\n",
       " 'open': 2,\n",
       " 'june/july': 3,\n",
       " 'going': 1,\n",
       " '1,850': 1,\n",
       " '1,880': 2,\n",
       " '35': 1,\n",
       " '45': 1,\n",
       " 'york': 8,\n",
       " 'july': 2,\n",
       " 'aug/sept': 3,\n",
       " '1,870': 1,\n",
       " '1,875': 1,\n",
       " 'fob': 1,\n",
       " 'routine': 1,\n",
       " 'butter': 2,\n",
       " 'made': 1,\n",
       " 'march/april': 3,\n",
       " '4,340': 1,\n",
       " '4,345': 1,\n",
       " '4,350': 1,\n",
       " 'april/may': 1,\n",
       " 'went': 1,\n",
       " '2.27': 3,\n",
       " 'times': 7,\n",
       " 'may': 2,\n",
       " '4,400': 1,\n",
       " '4,415': 1,\n",
       " '4,351': 1,\n",
       " '4,450': 1,\n",
       " '2.28': 1,\n",
       " 'sept': 2,\n",
       " 'oct/dec': 3,\n",
       " '4,480': 1,\n",
       " 'dec': 3,\n",
       " 'destinations': 1,\n",
       " 'u.s.': 2,\n",
       " 'covertible': 1,\n",
       " 'currency': 2,\n",
       " 'areas': 2,\n",
       " 'uruguay': 2,\n",
       " 'cake': 1,\n",
       " 'registered': 1,\n",
       " '785': 2,\n",
       " '995': 1,\n",
       " '753': 1,\n",
       " 'aug': 1,\n",
       " '0.39': 1,\n",
       " 'buyers': 1,\n",
       " 'argentina': 1,\n",
       " 'convertible': 1,\n",
       " 'liquor': 1,\n",
       " 'selling': 1,\n",
       " '2,325': 1,\n",
       " '2,380': 1,\n",
       " '2,375': 1,\n",
       " '1.25': 3,\n",
       " '2,400': 1,\n",
       " 'currently': 1,\n",
       " 'estimated': 1,\n",
       " '6.13': 1,\n",
       " '1986/87': 1,\n",
       " '1.06': 1,\n",
       " '1987/88': 1,\n",
       " 'final': 1,\n",
       " '28': 1,\n",
       " 'expected': 1,\n",
       " 'published': 1,\n",
       " 'brazilian': 1,\n",
       " 'trade': 1,\n",
       " 'commission': 1,\n",
       " 'carnival': 1,\n",
       " 'ends': 1,\n",
       " 'midday': 1,\n",
       " '27': 1,\n",
       " 'reuter': 1}"
      ]
     },
     "execution_count": 136,
     "metadata": {},
     "output_type": "execute_result"
    }
   ],
   "source": [
    "# Check out word counts\n",
    "\n",
    "text_words = process_narrative(text1)\n",
    "\n",
    "word_counts = {}\n",
    "for i in range(len(text_words)):\n",
    "    word_counts[text_words[i]] = text_words.count(text_words[i])\n",
    "word_counts"
   ]
  },
  {
   "cell_type": "code",
   "execution_count": 137,
   "metadata": {
    "colab": {
     "base_uri": "https://localhost:8080/"
    },
    "execution": {
     "iopub.execute_input": "2022-02-04T21:20:32.857373Z",
     "iopub.status.busy": "2022-02-04T21:20:32.857373Z",
     "iopub.status.idle": "2022-02-04T21:20:32.873376Z",
     "shell.execute_reply": "2022-02-04T21:20:32.871395Z",
     "shell.execute_reply.started": "2022-02-04T21:20:32.857373Z"
    },
    "id": "tzTgrWK8i8N2",
    "outputId": "5eb8b4a6-6ffe-4731-b90b-a48572744b38"
   },
   "outputs": [
    {
     "data": {
      "text/plain": [
       "FreqDist({'dlrs': 14, 'new': 9, 'york': 8, 'cocoa': 7, 'sales': 7, 'times': 7, 'comissaria': 5, 'smith': 5, 'said': 5, 'bags': 5, ...})"
      ]
     },
     "execution_count": 137,
     "metadata": {},
     "output_type": "execute_result"
    }
   ],
   "source": [
    "FreqDist(text_words)"
   ]
  },
  {
   "cell_type": "code",
   "execution_count": 138,
   "metadata": {
    "colab": {
     "base_uri": "https://localhost:8080/"
    },
    "execution": {
     "iopub.execute_input": "2022-02-04T21:20:32.876375Z",
     "iopub.status.busy": "2022-02-04T21:20:32.875374Z",
     "iopub.status.idle": "2022-02-04T21:20:32.888375Z",
     "shell.execute_reply": "2022-02-04T21:20:32.887375Z",
     "shell.execute_reply.started": "2022-02-04T21:20:32.876375Z"
    },
    "id": "ldlWjCYUlMWO",
    "outputId": "de09cbea-ffac-4bd0-b272-6b8f9c9f2ca6"
   },
   "outputs": [
    {
     "data": {
      "text/plain": [
       "[('dlrs', 14),\n",
       " ('new', 9),\n",
       " ('york', 8),\n",
       " ('cocoa', 7),\n",
       " ('sales', 7),\n",
       " ('times', 7),\n",
       " ('comissaria', 5),\n",
       " ('smith', 5),\n",
       " ('said', 5),\n",
       " ('bags', 5)]"
      ]
     },
     "execution_count": 138,
     "metadata": {},
     "output_type": "execute_result"
    }
   ],
   "source": [
    "FreqDist(text_words).most_common(10)"
   ]
  },
  {
   "cell_type": "markdown",
   "metadata": {
    "id": "-DcAvOuQlOtu"
   },
   "source": [
    "It seems there are a lot of numbers. Update function to get rid of numbers from the list.\n",
    "\n",
    "Note: this function also gets rid of strings with punctuation in it like \"n't\"."
   ]
  },
  {
   "cell_type": "code",
   "execution_count": 139,
   "metadata": {
    "execution": {
     "iopub.execute_input": "2022-02-04T21:20:32.890377Z",
     "iopub.status.busy": "2022-02-04T21:20:32.890377Z",
     "iopub.status.idle": "2022-02-04T21:20:32.919371Z",
     "shell.execute_reply": "2022-02-04T21:20:32.918369Z",
     "shell.execute_reply.started": "2022-02-04T21:20:32.890377Z"
    },
    "id": "IsSSNBFxlaHg"
   },
   "outputs": [],
   "source": [
    "def process_narrative(narrative):\n",
    "    tokens = nltk.word_tokenize(narrative)\n",
    "    stopwords_removed = [token.lower() for token in tokens if token.lower() not in stopwords_list]\n",
    "    \n",
    "    # adding line to remove all tokens with numbers and punctuation\n",
    "    stopwords_punc_and_numbers_removed = [word for word in stopwords_removed if word.isalpha()]\n",
    "    \n",
    "    return stopwords_punc_and_numbers_removed"
   ]
  },
  {
   "cell_type": "code",
   "execution_count": 140,
   "metadata": {
    "colab": {
     "base_uri": "https://localhost:8080/"
    },
    "execution": {
     "iopub.execute_input": "2022-02-04T21:20:32.920371Z",
     "iopub.status.busy": "2022-02-04T21:20:32.920371Z",
     "iopub.status.idle": "2022-02-04T21:20:32.935372Z",
     "shell.execute_reply": "2022-02-04T21:20:32.934370Z",
     "shell.execute_reply.started": "2022-02-04T21:20:32.920371Z"
    },
    "id": "rVZscVZcldPK",
    "outputId": "a13ac75f-ba38-4988-fe8b-a62a51a1e085"
   },
   "outputs": [
    {
     "data": {
      "text/plain": [
       "['bahia',\n",
       " 'cocoa',\n",
       " 'review',\n",
       " 'salvador',\n",
       " 'feb',\n",
       " 'showers',\n",
       " 'continued',\n",
       " 'throughout',\n",
       " 'week',\n",
       " 'bahia',\n",
       " 'cocoa',\n",
       " 'zone',\n",
       " 'alleviating',\n",
       " 'drought',\n",
       " 'since',\n",
       " 'early',\n",
       " 'january',\n",
       " 'improving',\n",
       " 'prospects',\n",
       " 'coming']"
      ]
     },
     "execution_count": 140,
     "metadata": {},
     "output_type": "execute_result"
    }
   ],
   "source": [
    "text1 = df.text[0]\n",
    "text_words = process_narrative(text1)\n",
    "text_words[0:20]"
   ]
  },
  {
   "cell_type": "markdown",
   "metadata": {
    "id": "lOA06MNTldZv"
   },
   "source": [
    "## Concatenate all the narratives into a single string per topic"
   ]
  },
  {
   "cell_type": "code",
   "execution_count": 141,
   "metadata": {
    "execution": {
     "iopub.execute_input": "2022-02-04T21:20:32.942372Z",
     "iopub.status.busy": "2022-02-04T21:20:32.941372Z",
     "iopub.status.idle": "2022-02-04T21:20:32.967375Z",
     "shell.execute_reply": "2022-02-04T21:20:32.966378Z",
     "shell.execute_reply.started": "2022-02-04T21:20:32.941372Z"
    },
    "id": "55ilZkUIldde"
   },
   "outputs": [],
   "source": [
    "blank_df = df[df['topic'] == 'blank']\n",
    "other_df = df[df['topic'] == 'other']\n",
    "earn_df = df[df['topic'] == 'earn']"
   ]
  },
  {
   "cell_type": "code",
   "execution_count": 142,
   "metadata": {
    "execution": {
     "iopub.execute_input": "2022-02-04T21:20:32.972376Z",
     "iopub.status.busy": "2022-02-04T21:20:32.972376Z",
     "iopub.status.idle": "2022-02-04T21:20:32.983372Z",
     "shell.execute_reply": "2022-02-04T21:20:32.982375Z",
     "shell.execute_reply.started": "2022-02-04T21:20:32.972376Z"
    },
    "id": "D_v9VxoMldg9"
   },
   "outputs": [],
   "source": [
    "def concat_narratives(df):\n",
    "    # concat narratives\n",
    "    narr = ''\n",
    "    for i in range(len(df)):\n",
    "        narr += df.iloc[i]['text']\n",
    "    print('Finished Concatenation')\n",
    "    return narr"
   ]
  },
  {
   "cell_type": "code",
   "execution_count": 143,
   "metadata": {
    "colab": {
     "base_uri": "https://localhost:8080/"
    },
    "execution": {
     "iopub.execute_input": "2022-02-04T21:20:32.985374Z",
     "iopub.status.busy": "2022-02-04T21:20:32.984374Z",
     "iopub.status.idle": "2022-02-04T21:21:05.608421Z",
     "shell.execute_reply": "2022-02-04T21:21:05.607575Z",
     "shell.execute_reply.started": "2022-02-04T21:20:32.984374Z"
    },
    "id": "1KZzT9wKldkZ",
    "outputId": "355abaea-f3fd-4da7-e561-49a6f0996ab1"
   },
   "outputs": [
    {
     "name": "stdout",
     "output_type": "stream",
     "text": [
      "Finished Concatenation\n",
      "Finished Concatenation\n",
      "Finished Concatenation\n"
     ]
    }
   ],
   "source": [
    "blank_text = concat_narratives(blank_df)\n",
    "blank_text_processed = process_narrative(blank_text)\n",
    "\n",
    "other_text = concat_narratives(other_df)\n",
    "other_text_processed = process_narrative(other_text)\n",
    "\n",
    "earn_text = concat_narratives(earn_df)\n",
    "earn_text_processed = process_narrative(earn_text)"
   ]
  },
  {
   "cell_type": "code",
   "execution_count": 144,
   "metadata": {
    "colab": {
     "base_uri": "https://localhost:8080/"
    },
    "execution": {
     "iopub.execute_input": "2022-02-04T21:21:05.610372Z",
     "iopub.status.busy": "2022-02-04T21:21:05.610372Z",
     "iopub.status.idle": "2022-02-04T21:21:06.196372Z",
     "shell.execute_reply": "2022-02-04T21:21:06.195406Z",
     "shell.execute_reply.started": "2022-02-04T21:21:05.610372Z"
    },
    "id": "-0Lad31Mldn4",
    "outputId": "bbbd001d-8f6c-49f6-8ce8-ce267fed70f9"
   },
   "outputs": [
    {
     "data": {
      "text/plain": [
       "[('said', 26590),\n",
       " ('dlrs', 8914),\n",
       " ('pct', 8127),\n",
       " ('mln', 8030),\n",
       " ('march', 6362),\n",
       " ('new', 5815),\n",
       " ('company', 4958),\n",
       " ('billion', 4720),\n",
       " ('would', 4259),\n",
       " ('bank', 4179),\n",
       " ('year', 4151),\n",
       " ('april', 4010),\n",
       " ('inc', 3876),\n",
       " ('corp', 3721),\n",
       " ('debt', 3274),\n",
       " ('stock', 3094),\n",
       " ('market', 2961),\n",
       " ('one', 2639),\n",
       " ('shares', 2588),\n",
       " ('last', 2568),\n",
       " ('also', 2523),\n",
       " ('co', 2483),\n",
       " ('banks', 2279),\n",
       " ('two', 2161),\n",
       " ('york', 2151),\n",
       " ('may', 2144),\n",
       " ('government', 2118),\n",
       " ('june', 2072),\n",
       " ('dlr', 2071),\n",
       " ('first', 1991)]"
      ]
     },
     "execution_count": 144,
     "metadata": {},
     "output_type": "execute_result"
    }
   ],
   "source": [
    "FreqDist(blank_text_processed).most_common(30)"
   ]
  },
  {
   "cell_type": "code",
   "execution_count": 145,
   "metadata": {
    "colab": {
     "base_uri": "https://localhost:8080/"
    },
    "execution": {
     "iopub.execute_input": "2022-02-04T21:21:06.197373Z",
     "iopub.status.busy": "2022-02-04T21:21:06.197373Z",
     "iopub.status.idle": "2022-02-04T21:21:06.718374Z",
     "shell.execute_reply": "2022-02-04T21:21:06.717493Z",
     "shell.execute_reply.started": "2022-02-04T21:21:06.197373Z"
    },
    "id": "ew2EQeC3ldrV",
    "outputId": "13842c6c-047f-4db8-95bc-15de1b218de9"
   },
   "outputs": [
    {
     "data": {
      "text/plain": [
       "[('said', 24465),\n",
       " ('pct', 9340),\n",
       " ('mln', 7717),\n",
       " ('dlrs', 6906),\n",
       " ('march', 5390),\n",
       " ('would', 4843),\n",
       " ('billion', 4307),\n",
       " ('year', 4287),\n",
       " ('trade', 3512),\n",
       " ('new', 3384),\n",
       " ('oil', 3368),\n",
       " ('bank', 3289),\n",
       " ('company', 3184),\n",
       " ('last', 3157),\n",
       " ('april', 3030),\n",
       " ('market', 2898),\n",
       " ('tonnes', 2795),\n",
       " ('prices', 2413),\n",
       " ('inc', 2403),\n",
       " ('also', 2321),\n",
       " ('shares', 2200),\n",
       " ('corp', 2135),\n",
       " ('one', 2111),\n",
       " ('two', 1981),\n",
       " ('price', 1950),\n",
       " ('government', 1947),\n",
       " ('japan', 1929),\n",
       " ('rate', 1878),\n",
       " ('stock', 1855),\n",
       " ('february', 1777)]"
      ]
     },
     "execution_count": 145,
     "metadata": {},
     "output_type": "execute_result"
    }
   ],
   "source": [
    "FreqDist(other_text_processed).most_common(30)"
   ]
  },
  {
   "cell_type": "code",
   "execution_count": 146,
   "metadata": {
    "colab": {
     "base_uri": "https://localhost:8080/"
    },
    "execution": {
     "iopub.execute_input": "2022-02-04T21:21:06.720407Z",
     "iopub.status.busy": "2022-02-04T21:21:06.719373Z",
     "iopub.status.idle": "2022-02-04T21:21:06.893371Z",
     "shell.execute_reply": "2022-02-04T21:21:06.892403Z",
     "shell.execute_reply.started": "2022-02-04T21:21:06.720407Z"
    },
    "id": "I1M9f2kKldu6",
    "outputId": "8de1afe0-3925-4f5f-8059-738aa89de328"
   },
   "outputs": [
    {
     "data": {
      "text/plain": [
       "[('vs', 13885),\n",
       " ('mln', 11458),\n",
       " ('cts', 7828),\n",
       " ('net', 6496),\n",
       " ('dlrs', 6077),\n",
       " ('loss', 5022),\n",
       " ('shr', 3969),\n",
       " ('said', 3641),\n",
       " ('march', 3276),\n",
       " ('year', 3150),\n",
       " ('profit', 2822),\n",
       " ('qtr', 2490),\n",
       " ('revs', 2328),\n",
       " ('billion', 1947),\n",
       " ('share', 1768),\n",
       " ('april', 1722),\n",
       " ('company', 1702),\n",
       " ('inc', 1665),\n",
       " ('note', 1413),\n",
       " ('pct', 1278),\n",
       " ('corp', 1255),\n",
       " ('sales', 1250),\n",
       " ('oper', 1219),\n",
       " ('quarter', 1163),\n",
       " ('dividend', 1044),\n",
       " ('avg', 1027),\n",
       " ('shrs', 1023),\n",
       " ('record', 963),\n",
       " ('earnings', 884),\n",
       " ('nine', 881)]"
      ]
     },
     "execution_count": 146,
     "metadata": {},
     "output_type": "execute_result"
    }
   ],
   "source": [
    "FreqDist(earn_text_processed).most_common(30)"
   ]
  },
  {
   "cell_type": "code",
   "execution_count": 147,
   "metadata": {
    "colab": {
     "base_uri": "https://localhost:8080/",
     "height": 414
    },
    "execution": {
     "iopub.execute_input": "2022-02-04T21:21:06.894404Z",
     "iopub.status.busy": "2022-02-04T21:21:06.894404Z",
     "iopub.status.idle": "2022-02-04T21:21:07.717375Z",
     "shell.execute_reply": "2022-02-04T21:21:07.716407Z",
     "shell.execute_reply.started": "2022-02-04T21:21:06.894404Z"
    },
    "id": "JunIblGPl9At",
    "outputId": "bc692a52-462f-4803-ee2c-dda063ebae04"
   },
   "outputs": [
    {
     "data": {
      "image/png": "[encoded data removed]",
      "text/plain": [
       "<Figure size 1080x432 with 1 Axes>"
      ]
     },
     "metadata": {
      "needs_background": "light"
     },
     "output_type": "display_data"
    }
   ],
   "source": [
    "figure(figsize=(15, 6))\n",
    "other_words = FreqDist(other_text_processed).most_common(30)\n",
    "words = [i[0] for i in other_words]\n",
    "counts = [i[1] for i in other_words]\n",
    "plt.xticks(fontsize=10, rotation = 45)\n",
    "plt.bar(words, counts, color = 'seagreen')\n",
    "plt.show()"
   ]
  },
  {
   "cell_type": "code",
   "execution_count": 148,
   "metadata": {
    "colab": {
     "base_uri": "https://localhost:8080/",
     "height": 414
    },
    "execution": {
     "iopub.execute_input": "2022-02-04T21:21:07.718378Z",
     "iopub.status.busy": "2022-02-04T21:21:07.718378Z",
     "iopub.status.idle": "2022-02-04T21:21:08.590373Z",
     "shell.execute_reply": "2022-02-04T21:21:08.589374Z",
     "shell.execute_reply.started": "2022-02-04T21:21:07.718378Z"
    },
    "id": "uiLjgfWKmV6x",
    "outputId": "8fcb62e1-6cab-4e7b-d2f5-52acfaaaed8c"
   },
   "outputs": [
    {
     "data": {
      "image/png": "[encoded data removed]",
      "text/plain": [
       "<Figure size 1080x432 with 1 Axes>"
      ]
     },
     "metadata": {
      "needs_background": "light"
     },
     "output_type": "display_data"
    }
   ],
   "source": [
    "figure(figsize=(15, 6))\n",
    "blank_words = FreqDist(blank_text_processed).most_common(30)\n",
    "words = [i[0] for i in blank_words]\n",
    "counts = [i[1] for i in blank_words]\n",
    "plt.xticks(fontsize=10, rotation = 45)\n",
    "plt.bar(words, counts, color = 'blue')\n",
    "plt.show()"
   ]
  },
  {
   "cell_type": "code",
   "execution_count": 149,
   "metadata": {
    "colab": {
     "base_uri": "https://localhost:8080/",
     "height": 403
    },
    "execution": {
     "iopub.execute_input": "2022-02-04T21:21:08.591372Z",
     "iopub.status.busy": "2022-02-04T21:21:08.591372Z",
     "iopub.status.idle": "2022-02-04T21:21:09.017389Z",
     "shell.execute_reply": "2022-02-04T21:21:09.016407Z",
     "shell.execute_reply.started": "2022-02-04T21:21:08.591372Z"
    },
    "id": "DPikJU-7mWGP",
    "outputId": "4278f3eb-2816-4029-e5c8-8a8412a13a32"
   },
   "outputs": [
    {
     "data": {
      "image/png": "[encoded data removed]",
      "text/plain": [
       "<Figure size 1080x432 with 1 Axes>"
      ]
     },
     "metadata": {
      "needs_background": "light"
     },
     "output_type": "display_data"
    }
   ],
   "source": [
    "figure(figsize=(15, 6))\n",
    "earn_words = FreqDist(earn_text_processed).most_common(30)\n",
    "words = [i[0] for i in earn_words]\n",
    "counts = [i[1] for i in earn_words]\n",
    "plt.xticks(fontsize=10, rotation = 45)\n",
    "plt.bar(words, counts, color = 'aqua')\n",
    "plt.show()"
   ]
  },
  {
   "cell_type": "markdown",
   "metadata": {
    "id": "_uLlpbokmWOu"
   },
   "source": [
    "## Check with TF-IDF"
   ]
  },
  {
   "cell_type": "markdown",
   "metadata": {
    "id": "6ZOhUsucmWUd"
   },
   "source": [
    "This step will help weight the words to equalize docs of different lengths.\n",
    "  "
   ]
  },
  {
   "cell_type": "code",
   "execution_count": 150,
   "metadata": {
    "execution": {
     "iopub.execute_input": "2022-02-04T21:21:09.018371Z",
     "iopub.status.busy": "2022-02-04T21:21:09.018371Z",
     "iopub.status.idle": "2022-02-04T21:21:09.032723Z",
     "shell.execute_reply": "2022-02-04T21:21:09.031724Z",
     "shell.execute_reply.started": "2022-02-04T21:21:09.018371Z"
    },
    "id": "UXcMGWn0mWX2"
   },
   "outputs": [],
   "source": [
    "from sklearn.feature_extraction.text import TfidfVectorizer, CountVectorizer"
   ]
  },
  {
   "cell_type": "code",
   "execution_count": 151,
   "metadata": {
    "execution": {
     "iopub.execute_input": "2022-02-04T21:21:09.035725Z",
     "iopub.status.busy": "2022-02-04T21:21:09.034729Z",
     "iopub.status.idle": "2022-02-04T21:21:09.048721Z",
     "shell.execute_reply": "2022-02-04T21:21:09.047722Z",
     "shell.execute_reply.started": "2022-02-04T21:21:09.035725Z"
    },
    "id": "VzKSOGEWmWda"
   },
   "outputs": [],
   "source": [
    "# function to concat processed text as a single string inside a list\n",
    "def concat_words(list):\n",
    "    # remove any NaN's\n",
    "    list = [i for i in list if i is not np.nan]\n",
    "\n",
    "    # concat words\n",
    "    concat_words = ''\n",
    "    for word in list:\n",
    "        concat_words += word + ' '\n",
    "    return [concat_words]"
   ]
  },
  {
   "cell_type": "code",
   "execution_count": 152,
   "metadata": {
    "execution": {
     "iopub.execute_input": "2022-02-04T21:21:09.049726Z",
     "iopub.status.busy": "2022-02-04T21:21:09.049726Z",
     "iopub.status.idle": "2022-02-04T21:21:11.034743Z",
     "shell.execute_reply": "2022-02-04T21:21:11.033921Z",
     "shell.execute_reply.started": "2022-02-04T21:21:09.049726Z"
    },
    "id": "M7jBRKiDmWgg"
   },
   "outputs": [],
   "source": [
    "vectorizer = TfidfVectorizer()\n",
    "blank_corpus = concat_words(blank_text_processed)\n",
    "X_blank = vectorizer.fit_transform(blank_corpus)"
   ]
  },
  {
   "cell_type": "code",
   "execution_count": 153,
   "metadata": {
    "colab": {
     "base_uri": "https://localhost:8080/"
    },
    "execution": {
     "iopub.execute_input": "2022-02-04T21:21:11.036721Z",
     "iopub.status.busy": "2022-02-04T21:21:11.036721Z",
     "iopub.status.idle": "2022-02-04T21:21:11.050723Z",
     "shell.execute_reply": "2022-02-04T21:21:11.049725Z",
     "shell.execute_reply.started": "2022-02-04T21:21:11.036721Z"
    },
    "id": "AWbHFMCkmWjc",
    "outputId": "0f51451d-9f70-4df4-a5dc-31ccd4676fab"
   },
   "outputs": [
    {
     "data": {
      "text/plain": [
       "(1, 32046)"
      ]
     },
     "execution_count": 153,
     "metadata": {},
     "output_type": "execute_result"
    }
   ],
   "source": [
    "X_blank.shape"
   ]
  },
  {
   "cell_type": "code",
   "execution_count": 154,
   "metadata": {
    "colab": {
     "base_uri": "https://localhost:8080/"
    },
    "execution": {
     "iopub.execute_input": "2022-02-04T21:21:11.052723Z",
     "iopub.status.busy": "2022-02-04T21:21:11.052723Z",
     "iopub.status.idle": "2022-02-04T21:21:11.065722Z",
     "shell.execute_reply": "2022-02-04T21:21:11.064757Z",
     "shell.execute_reply.started": "2022-02-04T21:21:11.052723Z"
    },
    "id": "P-8FqL7DrCgT",
    "outputId": "f158ff8b-584e-4d65-ae02-a2260870d277"
   },
   "outputs": [
    {
     "data": {
      "text/plain": [
       "(32046, 1)"
      ]
     },
     "execution_count": 154,
     "metadata": {},
     "output_type": "execute_result"
    }
   ],
   "source": [
    "# transposing it \n",
    "X_blank = X_blank.T.todense()\n",
    "X_blank.shape"
   ]
  },
  {
   "cell_type": "code",
   "execution_count": 155,
   "metadata": {
    "execution": {
     "iopub.execute_input": "2022-02-04T21:21:11.066723Z",
     "iopub.status.busy": "2022-02-04T21:21:11.066723Z",
     "iopub.status.idle": "2022-02-04T21:21:11.143725Z",
     "shell.execute_reply": "2022-02-04T21:21:11.142721Z",
     "shell.execute_reply.started": "2022-02-04T21:21:11.066723Z"
    },
    "id": "SWT5B9XtrCyl"
   },
   "outputs": [],
   "source": [
    "# feature_names = vectorizer.get_feature_names_out()\n",
    "feature_names = vectorizer.get_feature_names()"
   ]
  },
  {
   "cell_type": "code",
   "execution_count": 156,
   "metadata": {
    "colab": {
     "base_uri": "https://localhost:8080/",
     "height": 519
    },
    "execution": {
     "iopub.execute_input": "2022-02-04T21:21:11.145723Z",
     "iopub.status.busy": "2022-02-04T21:21:11.145723Z",
     "iopub.status.idle": "2022-02-04T21:21:11.190725Z",
     "shell.execute_reply": "2022-02-04T21:21:11.189731Z",
     "shell.execute_reply.started": "2022-02-04T21:21:11.145723Z"
    },
    "id": "XMfkhMk6rFUV",
    "outputId": "0dc6c254-7c9c-4e23-bfac-9c6832fe4bc7"
   },
   "outputs": [
    {
     "data": {
      "text/html": [
       "<div>\n",
       "<style scoped>\n",
       "    .dataframe tbody tr th:only-of-type {\n",
       "        vertical-align: middle;\n",
       "    }\n",
       "\n",
       "    .dataframe tbody tr th {\n",
       "        vertical-align: top;\n",
       "    }\n",
       "\n",
       "    .dataframe thead th {\n",
       "        text-align: right;\n",
       "    }\n",
       "</style>\n",
       "<table border=\"1\" class=\"dataframe\">\n",
       "  <thead>\n",
       "    <tr style=\"text-align: right;\">\n",
       "      <th></th>\n",
       "      <th>score_blank</th>\n",
       "    </tr>\n",
       "  </thead>\n",
       "  <tbody>\n",
       "    <tr>\n",
       "      <th>said</th>\n",
       "      <td>0.690423</td>\n",
       "    </tr>\n",
       "    <tr>\n",
       "      <th>dlrs</th>\n",
       "      <td>0.231456</td>\n",
       "    </tr>\n",
       "    <tr>\n",
       "      <th>pct</th>\n",
       "      <td>0.211022</td>\n",
       "    </tr>\n",
       "    <tr>\n",
       "      <th>mln</th>\n",
       "      <td>0.208503</td>\n",
       "    </tr>\n",
       "    <tr>\n",
       "      <th>march</th>\n",
       "      <td>0.165193</td>\n",
       "    </tr>\n",
       "    <tr>\n",
       "      <th>new</th>\n",
       "      <td>0.150989</td>\n",
       "    </tr>\n",
       "    <tr>\n",
       "      <th>company</th>\n",
       "      <td>0.128737</td>\n",
       "    </tr>\n",
       "    <tr>\n",
       "      <th>billion</th>\n",
       "      <td>0.122557</td>\n",
       "    </tr>\n",
       "    <tr>\n",
       "      <th>would</th>\n",
       "      <td>0.110587</td>\n",
       "    </tr>\n",
       "    <tr>\n",
       "      <th>bank</th>\n",
       "      <td>0.108510</td>\n",
       "    </tr>\n",
       "    <tr>\n",
       "      <th>year</th>\n",
       "      <td>0.107783</td>\n",
       "    </tr>\n",
       "    <tr>\n",
       "      <th>april</th>\n",
       "      <td>0.104122</td>\n",
       "    </tr>\n",
       "    <tr>\n",
       "      <th>inc</th>\n",
       "      <td>0.100642</td>\n",
       "    </tr>\n",
       "    <tr>\n",
       "      <th>corp</th>\n",
       "      <td>0.096618</td>\n",
       "    </tr>\n",
       "    <tr>\n",
       "      <th>debt</th>\n",
       "      <td>0.085011</td>\n",
       "    </tr>\n",
       "  </tbody>\n",
       "</table>\n",
       "</div>"
      ],
      "text/plain": [
       "         score_blank\n",
       "said        0.690423\n",
       "dlrs        0.231456\n",
       "pct         0.211022\n",
       "mln         0.208503\n",
       "march       0.165193\n",
       "new         0.150989\n",
       "company     0.128737\n",
       "billion     0.122557\n",
       "would       0.110587\n",
       "bank        0.108510\n",
       "year        0.107783\n",
       "april       0.104122\n",
       "inc         0.100642\n",
       "corp        0.096618\n",
       "debt        0.085011"
      ]
     },
     "execution_count": 156,
     "metadata": {},
     "output_type": "execute_result"
    }
   ],
   "source": [
    "df_blank = pd.DataFrame(X_blank, index=feature_names, columns=[\"score_blank\"])\n",
    "df_blank = df_blank.sort_values(by=\"score_blank\", ascending=False)\n",
    "df_blank.iloc[0:15]"
   ]
  },
  {
   "cell_type": "markdown",
   "metadata": {
    "id": "X6zD8cuGrF-V"
   },
   "source": [
    "Let's do it with the other two"
   ]
  },
  {
   "cell_type": "code",
   "execution_count": 157,
   "metadata": {
    "colab": {
     "base_uri": "https://localhost:8080/",
     "height": 519
    },
    "execution": {
     "iopub.execute_input": "2022-02-04T21:21:11.192725Z",
     "iopub.status.busy": "2022-02-04T21:21:11.192725Z",
     "iopub.status.idle": "2022-02-04T21:21:11.523721Z",
     "shell.execute_reply": "2022-02-04T21:21:11.522721Z",
     "shell.execute_reply.started": "2022-02-04T21:21:11.192725Z"
    },
    "id": "86-z-iiZrGO5",
    "outputId": "3920ea29-8c15-4b59-c0d3-f6f2718380dc"
   },
   "outputs": [
    {
     "data": {
      "text/html": [
       "<div>\n",
       "<style scoped>\n",
       "    .dataframe tbody tr th:only-of-type {\n",
       "        vertical-align: middle;\n",
       "    }\n",
       "\n",
       "    .dataframe tbody tr th {\n",
       "        vertical-align: top;\n",
       "    }\n",
       "\n",
       "    .dataframe thead th {\n",
       "        text-align: right;\n",
       "    }\n",
       "</style>\n",
       "<table border=\"1\" class=\"dataframe\">\n",
       "  <thead>\n",
       "    <tr style=\"text-align: right;\">\n",
       "      <th></th>\n",
       "      <th>score_earn</th>\n",
       "    </tr>\n",
       "  </thead>\n",
       "  <tbody>\n",
       "    <tr>\n",
       "      <th>vs</th>\n",
       "      <td>0.562084</td>\n",
       "    </tr>\n",
       "    <tr>\n",
       "      <th>mln</th>\n",
       "      <td>0.463835</td>\n",
       "    </tr>\n",
       "    <tr>\n",
       "      <th>cts</th>\n",
       "      <td>0.316888</td>\n",
       "    </tr>\n",
       "    <tr>\n",
       "      <th>net</th>\n",
       "      <td>0.262967</td>\n",
       "    </tr>\n",
       "    <tr>\n",
       "      <th>dlrs</th>\n",
       "      <td>0.246005</td>\n",
       "    </tr>\n",
       "    <tr>\n",
       "      <th>loss</th>\n",
       "      <td>0.203297</td>\n",
       "    </tr>\n",
       "    <tr>\n",
       "      <th>shr</th>\n",
       "      <td>0.160670</td>\n",
       "    </tr>\n",
       "    <tr>\n",
       "      <th>said</th>\n",
       "      <td>0.147393</td>\n",
       "    </tr>\n",
       "    <tr>\n",
       "      <th>march</th>\n",
       "      <td>0.132617</td>\n",
       "    </tr>\n",
       "    <tr>\n",
       "      <th>year</th>\n",
       "      <td>0.127516</td>\n",
       "    </tr>\n",
       "    <tr>\n",
       "      <th>profit</th>\n",
       "      <td>0.114238</td>\n",
       "    </tr>\n",
       "    <tr>\n",
       "      <th>qtr</th>\n",
       "      <td>0.100799</td>\n",
       "    </tr>\n",
       "    <tr>\n",
       "      <th>revs</th>\n",
       "      <td>0.094241</td>\n",
       "    </tr>\n",
       "    <tr>\n",
       "      <th>billion</th>\n",
       "      <td>0.078817</td>\n",
       "    </tr>\n",
       "    <tr>\n",
       "      <th>share</th>\n",
       "      <td>0.071571</td>\n",
       "    </tr>\n",
       "  </tbody>\n",
       "</table>\n",
       "</div>"
      ],
      "text/plain": [
       "         score_earn\n",
       "vs         0.562084\n",
       "mln        0.463835\n",
       "cts        0.316888\n",
       "net        0.262967\n",
       "dlrs       0.246005\n",
       "loss       0.203297\n",
       "shr        0.160670\n",
       "said       0.147393\n",
       "march      0.132617\n",
       "year       0.127516\n",
       "profit     0.114238\n",
       "qtr        0.100799\n",
       "revs       0.094241\n",
       "billion    0.078817\n",
       "share      0.071571"
      ]
     },
     "execution_count": 157,
     "metadata": {},
     "output_type": "execute_result"
    }
   ],
   "source": [
    "earn_corpus = concat_words(earn_text_processed)\n",
    "X_earn = vectorizer.fit_transform(earn_corpus)\n",
    "X_earn = X_earn.T.todense()\n",
    "# feature_names = vectorizer.get_feature_names_out()\n",
    "feature_names = vectorizer.get_feature_names()\n",
    "df_earn = pd.DataFrame(X_earn, index=feature_names, columns=[\"score_earn\"])\n",
    "df_earn = df_earn.sort_values(by=\"score_earn\", ascending=False)\n",
    "df_earn.iloc[0:15]"
   ]
  },
  {
   "cell_type": "code",
   "execution_count": 158,
   "metadata": {
    "colab": {
     "base_uri": "https://localhost:8080/",
     "height": 519
    },
    "execution": {
     "iopub.execute_input": "2022-02-04T21:21:11.524720Z",
     "iopub.status.busy": "2022-02-04T21:21:11.524720Z",
     "iopub.status.idle": "2022-02-04T21:21:13.196722Z",
     "shell.execute_reply": "2022-02-04T21:21:13.195719Z",
     "shell.execute_reply.started": "2022-02-04T21:21:11.524720Z"
    },
    "id": "_xVqITHjrGZp",
    "outputId": "6be60e11-e007-4f04-fd3d-51bc09df2323"
   },
   "outputs": [
    {
     "data": {
      "text/html": [
       "<div>\n",
       "<style scoped>\n",
       "    .dataframe tbody tr th:only-of-type {\n",
       "        vertical-align: middle;\n",
       "    }\n",
       "\n",
       "    .dataframe tbody tr th {\n",
       "        vertical-align: top;\n",
       "    }\n",
       "\n",
       "    .dataframe thead th {\n",
       "        text-align: right;\n",
       "    }\n",
       "</style>\n",
       "<table border=\"1\" class=\"dataframe\">\n",
       "  <thead>\n",
       "    <tr style=\"text-align: right;\">\n",
       "      <th></th>\n",
       "      <th>score_other</th>\n",
       "    </tr>\n",
       "  </thead>\n",
       "  <tbody>\n",
       "    <tr>\n",
       "      <th>said</th>\n",
       "      <td>0.687616</td>\n",
       "    </tr>\n",
       "    <tr>\n",
       "      <th>pct</th>\n",
       "      <td>0.262511</td>\n",
       "    </tr>\n",
       "    <tr>\n",
       "      <th>mln</th>\n",
       "      <td>0.216895</td>\n",
       "    </tr>\n",
       "    <tr>\n",
       "      <th>dlrs</th>\n",
       "      <td>0.194101</td>\n",
       "    </tr>\n",
       "    <tr>\n",
       "      <th>march</th>\n",
       "      <td>0.151492</td>\n",
       "    </tr>\n",
       "    <tr>\n",
       "      <th>would</th>\n",
       "      <td>0.136118</td>\n",
       "    </tr>\n",
       "    <tr>\n",
       "      <th>billion</th>\n",
       "      <td>0.121053</td>\n",
       "    </tr>\n",
       "    <tr>\n",
       "      <th>year</th>\n",
       "      <td>0.120491</td>\n",
       "    </tr>\n",
       "    <tr>\n",
       "      <th>trade</th>\n",
       "      <td>0.098709</td>\n",
       "    </tr>\n",
       "    <tr>\n",
       "      <th>new</th>\n",
       "      <td>0.095111</td>\n",
       "    </tr>\n",
       "    <tr>\n",
       "      <th>oil</th>\n",
       "      <td>0.094661</td>\n",
       "    </tr>\n",
       "    <tr>\n",
       "      <th>bank</th>\n",
       "      <td>0.092441</td>\n",
       "    </tr>\n",
       "    <tr>\n",
       "      <th>company</th>\n",
       "      <td>0.089490</td>\n",
       "    </tr>\n",
       "    <tr>\n",
       "      <th>last</th>\n",
       "      <td>0.088731</td>\n",
       "    </tr>\n",
       "    <tr>\n",
       "      <th>april</th>\n",
       "      <td>0.085162</td>\n",
       "    </tr>\n",
       "  </tbody>\n",
       "</table>\n",
       "</div>"
      ],
      "text/plain": [
       "         score_other\n",
       "said        0.687616\n",
       "pct         0.262511\n",
       "mln         0.216895\n",
       "dlrs        0.194101\n",
       "march       0.151492\n",
       "would       0.136118\n",
       "billion     0.121053\n",
       "year        0.120491\n",
       "trade       0.098709\n",
       "new         0.095111\n",
       "oil         0.094661\n",
       "bank        0.092441\n",
       "company     0.089490\n",
       "last        0.088731\n",
       "april       0.085162"
      ]
     },
     "execution_count": 158,
     "metadata": {},
     "output_type": "execute_result"
    }
   ],
   "source": [
    "other_corpus = concat_words(other_text_processed)\n",
    "X_other = vectorizer.fit_transform(other_corpus)\n",
    "X_other = X_other.T.todense()\n",
    "# feature_names = vectorizer.get_feature_names_out()\n",
    "feature_names = vectorizer.get_feature_names()\n",
    "df_other = pd.DataFrame(X_other, index=feature_names, columns=[\"score_other\"])\n",
    "df_other = df_other.sort_values(by=\"score_other\", ascending=False)\n",
    "df_other.iloc[0:15]"
   ]
  },
  {
   "cell_type": "markdown",
   "metadata": {
    "id": "3qfn7bozrGjx"
   },
   "source": [
    "## Making a combined TF-IDF dataframe"
   ]
  },
  {
   "cell_type": "code",
   "execution_count": 159,
   "metadata": {
    "colab": {
     "base_uri": "https://localhost:8080/"
    },
    "execution": {
     "iopub.execute_input": "2022-02-04T21:21:13.197722Z",
     "iopub.status.busy": "2022-02-04T21:21:13.197722Z",
     "iopub.status.idle": "2022-02-04T21:21:13.212723Z",
     "shell.execute_reply": "2022-02-04T21:21:13.211718Z",
     "shell.execute_reply.started": "2022-02-04T21:21:13.197722Z"
    },
    "id": "EPm4Rk0hrGtr",
    "outputId": "d2f6a7a4-2638-41b1-9265-ce0b8e7103b5"
   },
   "outputs": [
    {
     "name": "stdout",
     "output_type": "stream",
     "text": [
      "<class 'list'>\n",
      "3\n"
     ]
    }
   ],
   "source": [
    "corpus = other_corpus + blank_corpus + earn_corpus\n",
    "print(type(corpus))\n",
    "print(len(corpus))"
   ]
  },
  {
   "cell_type": "code",
   "execution_count": 160,
   "metadata": {
    "colab": {
     "base_uri": "https://localhost:8080/",
     "height": 519
    },
    "execution": {
     "iopub.execute_input": "2022-02-04T21:21:13.214725Z",
     "iopub.status.busy": "2022-02-04T21:21:13.214725Z",
     "iopub.status.idle": "2022-02-04T21:21:14.625722Z",
     "shell.execute_reply": "2022-02-04T21:21:14.624720Z",
     "shell.execute_reply.started": "2022-02-04T21:21:13.214725Z"
    },
    "id": "qwXr-1l6rDBn",
    "outputId": "a96c65c6-44e7-4469-b20d-9110fc500326"
   },
   "outputs": [
    {
     "data": {
      "text/html": [
       "<div>\n",
       "<style scoped>\n",
       "    .dataframe tbody tr th:only-of-type {\n",
       "        vertical-align: middle;\n",
       "    }\n",
       "\n",
       "    .dataframe tbody tr th {\n",
       "        vertical-align: top;\n",
       "    }\n",
       "\n",
       "    .dataframe thead th {\n",
       "        text-align: right;\n",
       "    }\n",
       "</style>\n",
       "<table border=\"1\" class=\"dataframe\">\n",
       "  <thead>\n",
       "    <tr style=\"text-align: right;\">\n",
       "      <th></th>\n",
       "      <th>other</th>\n",
       "      <th>blank</th>\n",
       "      <th>earn</th>\n",
       "    </tr>\n",
       "  </thead>\n",
       "  <tbody>\n",
       "    <tr>\n",
       "      <th>said</th>\n",
       "      <td>0.686221</td>\n",
       "      <td>0.689482</td>\n",
       "      <td>0.146762</td>\n",
       "    </tr>\n",
       "    <tr>\n",
       "      <th>pct</th>\n",
       "      <td>0.261978</td>\n",
       "      <td>0.210734</td>\n",
       "      <td>0.051514</td>\n",
       "    </tr>\n",
       "    <tr>\n",
       "      <th>mln</th>\n",
       "      <td>0.216455</td>\n",
       "      <td>0.208219</td>\n",
       "      <td>0.461852</td>\n",
       "    </tr>\n",
       "    <tr>\n",
       "      <th>dlrs</th>\n",
       "      <td>0.193707</td>\n",
       "      <td>0.231141</td>\n",
       "      <td>0.244953</td>\n",
       "    </tr>\n",
       "    <tr>\n",
       "      <th>march</th>\n",
       "      <td>0.151185</td>\n",
       "      <td>0.164967</td>\n",
       "      <td>0.132050</td>\n",
       "    </tr>\n",
       "    <tr>\n",
       "      <th>would</th>\n",
       "      <td>0.135842</td>\n",
       "      <td>0.110436</td>\n",
       "      <td>0.016889</td>\n",
       "    </tr>\n",
       "    <tr>\n",
       "      <th>billion</th>\n",
       "      <td>0.120807</td>\n",
       "      <td>0.122390</td>\n",
       "      <td>0.078480</td>\n",
       "    </tr>\n",
       "    <tr>\n",
       "      <th>year</th>\n",
       "      <td>0.120246</td>\n",
       "      <td>0.107636</td>\n",
       "      <td>0.126971</td>\n",
       "    </tr>\n",
       "    <tr>\n",
       "      <th>trade</th>\n",
       "      <td>0.098508</td>\n",
       "      <td>0.032413</td>\n",
       "      <td>0.000927</td>\n",
       "    </tr>\n",
       "    <tr>\n",
       "      <th>new</th>\n",
       "      <td>0.094918</td>\n",
       "      <td>0.150784</td>\n",
       "      <td>0.032126</td>\n",
       "    </tr>\n",
       "    <tr>\n",
       "      <th>oil</th>\n",
       "      <td>0.094469</td>\n",
       "      <td>0.017840</td>\n",
       "      <td>0.011407</td>\n",
       "    </tr>\n",
       "    <tr>\n",
       "      <th>bank</th>\n",
       "      <td>0.092253</td>\n",
       "      <td>0.108362</td>\n",
       "      <td>0.021404</td>\n",
       "    </tr>\n",
       "    <tr>\n",
       "      <th>company</th>\n",
       "      <td>0.089308</td>\n",
       "      <td>0.128561</td>\n",
       "      <td>0.068605</td>\n",
       "    </tr>\n",
       "    <tr>\n",
       "      <th>last</th>\n",
       "      <td>0.088551</td>\n",
       "      <td>0.066589</td>\n",
       "      <td>0.018300</td>\n",
       "    </tr>\n",
       "    <tr>\n",
       "      <th>april</th>\n",
       "      <td>0.084989</td>\n",
       "      <td>0.103980</td>\n",
       "      <td>0.069411</td>\n",
       "    </tr>\n",
       "  </tbody>\n",
       "</table>\n",
       "</div>"
      ],
      "text/plain": [
       "            other     blank      earn\n",
       "said     0.686221  0.689482  0.146762\n",
       "pct      0.261978  0.210734  0.051514\n",
       "mln      0.216455  0.208219  0.461852\n",
       "dlrs     0.193707  0.231141  0.244953\n",
       "march    0.151185  0.164967  0.132050\n",
       "would    0.135842  0.110436  0.016889\n",
       "billion  0.120807  0.122390  0.078480\n",
       "year     0.120246  0.107636  0.126971\n",
       "trade    0.098508  0.032413  0.000927\n",
       "new      0.094918  0.150784  0.032126\n",
       "oil      0.094469  0.017840  0.011407\n",
       "bank     0.092253  0.108362  0.021404\n",
       "company  0.089308  0.128561  0.068605\n",
       "last     0.088551  0.066589  0.018300\n",
       "april    0.084989  0.103980  0.069411"
      ]
     },
     "execution_count": 160,
     "metadata": {},
     "output_type": "execute_result"
    }
   ],
   "source": [
    "X_corpus = vectorizer.fit_transform(corpus)\n",
    "X_corpus = X_corpus.T.todense()\n",
    "# feature_names = vectorizer.get_feature_names_out()\n",
    "feature_names = vectorizer.get_feature_names()\n",
    "df_corpus = pd.DataFrame(X_corpus, index=feature_names, columns=[\"other\", \"blank\", \"earn\"])\n",
    "df_corpus = df_corpus.sort_values(by=\"other\", ascending=False)\n",
    "df_corpus.iloc[0:15]"
   ]
  },
  {
   "cell_type": "code",
   "execution_count": 161,
   "metadata": {
    "colab": {
     "base_uri": "https://localhost:8080/",
     "height": 519
    },
    "execution": {
     "iopub.execute_input": "2022-02-04T21:21:14.626724Z",
     "iopub.status.busy": "2022-02-04T21:21:14.626724Z",
     "iopub.status.idle": "2022-02-04T21:21:14.657722Z",
     "shell.execute_reply": "2022-02-04T21:21:14.656719Z",
     "shell.execute_reply.started": "2022-02-04T21:21:14.626724Z"
    },
    "id": "9lRPX2cntZKM",
    "outputId": "84ecd28a-1e60-4066-d14a-0e34e5b8b199"
   },
   "outputs": [
    {
     "data": {
      "text/html": [
       "<div>\n",
       "<style scoped>\n",
       "    .dataframe tbody tr th:only-of-type {\n",
       "        vertical-align: middle;\n",
       "    }\n",
       "\n",
       "    .dataframe tbody tr th {\n",
       "        vertical-align: top;\n",
       "    }\n",
       "\n",
       "    .dataframe thead th {\n",
       "        text-align: right;\n",
       "    }\n",
       "</style>\n",
       "<table border=\"1\" class=\"dataframe\">\n",
       "  <thead>\n",
       "    <tr style=\"text-align: right;\">\n",
       "      <th></th>\n",
       "      <th>other</th>\n",
       "      <th>blank</th>\n",
       "      <th>earn</th>\n",
       "    </tr>\n",
       "  </thead>\n",
       "  <tbody>\n",
       "    <tr>\n",
       "      <th>vs</th>\n",
       "      <td>0.008443</td>\n",
       "      <td>0.017088</td>\n",
       "      <td>0.559680</td>\n",
       "    </tr>\n",
       "    <tr>\n",
       "      <th>mln</th>\n",
       "      <td>0.216455</td>\n",
       "      <td>0.208219</td>\n",
       "      <td>0.461852</td>\n",
       "    </tr>\n",
       "    <tr>\n",
       "      <th>cts</th>\n",
       "      <td>0.011416</td>\n",
       "      <td>0.026578</td>\n",
       "      <td>0.315533</td>\n",
       "    </tr>\n",
       "    <tr>\n",
       "      <th>net</th>\n",
       "      <td>0.011528</td>\n",
       "      <td>0.019344</td>\n",
       "      <td>0.261842</td>\n",
       "    </tr>\n",
       "    <tr>\n",
       "      <th>dlrs</th>\n",
       "      <td>0.193707</td>\n",
       "      <td>0.231141</td>\n",
       "      <td>0.244953</td>\n",
       "    </tr>\n",
       "    <tr>\n",
       "      <th>loss</th>\n",
       "      <td>0.005750</td>\n",
       "      <td>0.013406</td>\n",
       "      <td>0.202428</td>\n",
       "    </tr>\n",
       "    <tr>\n",
       "      <th>shr</th>\n",
       "      <td>0.000056</td>\n",
       "      <td>0.005005</td>\n",
       "      <td>0.159983</td>\n",
       "    </tr>\n",
       "    <tr>\n",
       "      <th>said</th>\n",
       "      <td>0.686221</td>\n",
       "      <td>0.689482</td>\n",
       "      <td>0.146762</td>\n",
       "    </tr>\n",
       "    <tr>\n",
       "      <th>march</th>\n",
       "      <td>0.151185</td>\n",
       "      <td>0.164967</td>\n",
       "      <td>0.132050</td>\n",
       "    </tr>\n",
       "    <tr>\n",
       "      <th>year</th>\n",
       "      <td>0.120246</td>\n",
       "      <td>0.107636</td>\n",
       "      <td>0.126971</td>\n",
       "    </tr>\n",
       "    <tr>\n",
       "      <th>revs</th>\n",
       "      <td>0.000000</td>\n",
       "      <td>0.002170</td>\n",
       "      <td>0.120833</td>\n",
       "    </tr>\n",
       "    <tr>\n",
       "      <th>profit</th>\n",
       "      <td>0.003562</td>\n",
       "      <td>0.008894</td>\n",
       "      <td>0.113750</td>\n",
       "    </tr>\n",
       "    <tr>\n",
       "      <th>qtr</th>\n",
       "      <td>0.000729</td>\n",
       "      <td>0.005186</td>\n",
       "      <td>0.100368</td>\n",
       "    </tr>\n",
       "    <tr>\n",
       "      <th>billion</th>\n",
       "      <td>0.120807</td>\n",
       "      <td>0.122390</td>\n",
       "      <td>0.078480</td>\n",
       "    </tr>\n",
       "    <tr>\n",
       "      <th>share</th>\n",
       "      <td>0.040615</td>\n",
       "      <td>0.043122</td>\n",
       "      <td>0.071265</td>\n",
       "    </tr>\n",
       "  </tbody>\n",
       "</table>\n",
       "</div>"
      ],
      "text/plain": [
       "            other     blank      earn\n",
       "vs       0.008443  0.017088  0.559680\n",
       "mln      0.216455  0.208219  0.461852\n",
       "cts      0.011416  0.026578  0.315533\n",
       "net      0.011528  0.019344  0.261842\n",
       "dlrs     0.193707  0.231141  0.244953\n",
       "loss     0.005750  0.013406  0.202428\n",
       "shr      0.000056  0.005005  0.159983\n",
       "said     0.686221  0.689482  0.146762\n",
       "march    0.151185  0.164967  0.132050\n",
       "year     0.120246  0.107636  0.126971\n",
       "revs     0.000000  0.002170  0.120833\n",
       "profit   0.003562  0.008894  0.113750\n",
       "qtr      0.000729  0.005186  0.100368\n",
       "billion  0.120807  0.122390  0.078480\n",
       "share    0.040615  0.043122  0.071265"
      ]
     },
     "execution_count": 161,
     "metadata": {},
     "output_type": "execute_result"
    }
   ],
   "source": [
    "df_corpus.sort_values(by=\"earn\", ascending=False).iloc[0:15]"
   ]
  },
  {
   "cell_type": "markdown",
   "metadata": {
    "id": "lrN4ZAG8tbUQ"
   },
   "source": [
    "## Create TF-IDF with bi-grams"
   ]
  },
  {
   "cell_type": "code",
   "execution_count": 162,
   "metadata": {
    "colab": {
     "base_uri": "https://localhost:8080/",
     "height": 519
    },
    "execution": {
     "iopub.execute_input": "2022-02-04T21:21:14.658722Z",
     "iopub.status.busy": "2022-02-04T21:21:14.658722Z",
     "iopub.status.idle": "2022-02-04T21:21:21.847086Z",
     "shell.execute_reply": "2022-02-04T21:21:21.846085Z",
     "shell.execute_reply.started": "2022-02-04T21:21:14.658722Z"
    },
    "id": "psOg6eVwtfgl",
    "outputId": "a5d22d0a-2da9-44d8-dbb8-2d67aae628bc"
   },
   "outputs": [
    {
     "data": {
      "text/html": [
       "<div>\n",
       "<style scoped>\n",
       "    .dataframe tbody tr th:only-of-type {\n",
       "        vertical-align: middle;\n",
       "    }\n",
       "\n",
       "    .dataframe tbody tr th {\n",
       "        vertical-align: top;\n",
       "    }\n",
       "\n",
       "    .dataframe thead th {\n",
       "        text-align: right;\n",
       "    }\n",
       "</style>\n",
       "<table border=\"1\" class=\"dataframe\">\n",
       "  <thead>\n",
       "    <tr style=\"text-align: right;\">\n",
       "      <th></th>\n",
       "      <th>other</th>\n",
       "      <th>blank</th>\n",
       "      <th>earn</th>\n",
       "    </tr>\n",
       "  </thead>\n",
       "  <tbody>\n",
       "    <tr>\n",
       "      <th>said</th>\n",
       "      <td>0.676093</td>\n",
       "      <td>0.676254</td>\n",
       "      <td>0.136195</td>\n",
       "    </tr>\n",
       "    <tr>\n",
       "      <th>pct</th>\n",
       "      <td>0.258112</td>\n",
       "      <td>0.206691</td>\n",
       "      <td>0.047805</td>\n",
       "    </tr>\n",
       "    <tr>\n",
       "      <th>mln</th>\n",
       "      <td>0.213260</td>\n",
       "      <td>0.204224</td>\n",
       "      <td>0.428596</td>\n",
       "    </tr>\n",
       "    <tr>\n",
       "      <th>dlrs</th>\n",
       "      <td>0.190848</td>\n",
       "      <td>0.226707</td>\n",
       "      <td>0.227315</td>\n",
       "    </tr>\n",
       "    <tr>\n",
       "      <th>march</th>\n",
       "      <td>0.148953</td>\n",
       "      <td>0.161803</td>\n",
       "      <td>0.122542</td>\n",
       "    </tr>\n",
       "    <tr>\n",
       "      <th>would</th>\n",
       "      <td>0.133837</td>\n",
       "      <td>0.108318</td>\n",
       "      <td>0.015673</td>\n",
       "    </tr>\n",
       "    <tr>\n",
       "      <th>billion</th>\n",
       "      <td>0.119024</td>\n",
       "      <td>0.120042</td>\n",
       "      <td>0.072829</td>\n",
       "    </tr>\n",
       "    <tr>\n",
       "      <th>year</th>\n",
       "      <td>0.118472</td>\n",
       "      <td>0.105571</td>\n",
       "      <td>0.117829</td>\n",
       "    </tr>\n",
       "    <tr>\n",
       "      <th>trade</th>\n",
       "      <td>0.097055</td>\n",
       "      <td>0.031791</td>\n",
       "      <td>0.000860</td>\n",
       "    </tr>\n",
       "    <tr>\n",
       "      <th>new</th>\n",
       "      <td>0.093517</td>\n",
       "      <td>0.147891</td>\n",
       "      <td>0.029812</td>\n",
       "    </tr>\n",
       "    <tr>\n",
       "      <th>oil</th>\n",
       "      <td>0.093075</td>\n",
       "      <td>0.017498</td>\n",
       "      <td>0.010586</td>\n",
       "    </tr>\n",
       "    <tr>\n",
       "      <th>bank</th>\n",
       "      <td>0.090892</td>\n",
       "      <td>0.106283</td>\n",
       "      <td>0.019863</td>\n",
       "    </tr>\n",
       "    <tr>\n",
       "      <th>company</th>\n",
       "      <td>0.087990</td>\n",
       "      <td>0.126095</td>\n",
       "      <td>0.063665</td>\n",
       "    </tr>\n",
       "    <tr>\n",
       "      <th>last</th>\n",
       "      <td>0.087244</td>\n",
       "      <td>0.065311</td>\n",
       "      <td>0.016982</td>\n",
       "    </tr>\n",
       "    <tr>\n",
       "      <th>april</th>\n",
       "      <td>0.083734</td>\n",
       "      <td>0.101985</td>\n",
       "      <td>0.064413</td>\n",
       "    </tr>\n",
       "  </tbody>\n",
       "</table>\n",
       "</div>"
      ],
      "text/plain": [
       "            other     blank      earn\n",
       "said     0.676093  0.676254  0.136195\n",
       "pct      0.258112  0.206691  0.047805\n",
       "mln      0.213260  0.204224  0.428596\n",
       "dlrs     0.190848  0.226707  0.227315\n",
       "march    0.148953  0.161803  0.122542\n",
       "would    0.133837  0.108318  0.015673\n",
       "billion  0.119024  0.120042  0.072829\n",
       "year     0.118472  0.105571  0.117829\n",
       "trade    0.097055  0.031791  0.000860\n",
       "new      0.093517  0.147891  0.029812\n",
       "oil      0.093075  0.017498  0.010586\n",
       "bank     0.090892  0.106283  0.019863\n",
       "company  0.087990  0.126095  0.063665\n",
       "last     0.087244  0.065311  0.016982\n",
       "april    0.083734  0.101985  0.064413"
      ]
     },
     "execution_count": 162,
     "metadata": {},
     "output_type": "execute_result"
    }
   ],
   "source": [
    "vectorizer = TfidfVectorizer(ngram_range=(1,2))\n",
    "\n",
    "X_corpus = vectorizer.fit_transform(corpus)\n",
    "X_corpus = X_corpus.T.todense()\n",
    "# feature_names = vectorizer.get_feature_names_out()\n",
    "feature_names = vectorizer.get_feature_names()\n",
    "df_corpus = pd.DataFrame(X_corpus, index=feature_names, columns=[\"other\", \"blank\", \"earn\"])\n",
    "df_corpus = df_corpus.sort_values(by=\"other\", ascending=False)\n",
    "df_corpus.iloc[0:15]"
   ]
  },
  {
   "cell_type": "code",
   "execution_count": 163,
   "metadata": {
    "colab": {
     "base_uri": "https://localhost:8080/"
    },
    "execution": {
     "iopub.execute_input": "2022-02-04T21:21:21.849088Z",
     "iopub.status.busy": "2022-02-04T21:21:21.848088Z",
     "iopub.status.idle": "2022-02-04T21:21:21.863086Z",
     "shell.execute_reply": "2022-02-04T21:21:21.862083Z",
     "shell.execute_reply.started": "2022-02-04T21:21:21.849088Z"
    },
    "id": "5p3ZTqyqti3k",
    "outputId": "077423d8-a86d-47bc-9052-68372b9a92af"
   },
   "outputs": [
    {
     "data": {
      "text/plain": [
       "['said',\n",
       " 'pct',\n",
       " 'mln',\n",
       " 'dlrs',\n",
       " 'march',\n",
       " 'would',\n",
       " 'billion',\n",
       " 'year',\n",
       " 'trade',\n",
       " 'new',\n",
       " 'oil',\n",
       " 'bank',\n",
       " 'company',\n",
       " 'last',\n",
       " 'april',\n",
       " 'market',\n",
       " 'tonnes',\n",
       " 'mln dlrs',\n",
       " 'prices',\n",
       " 'inc']"
      ]
     },
     "execution_count": 163,
     "metadata": {},
     "output_type": "execute_result"
    }
   ],
   "source": [
    "top_words_tfidf_earn = df_corpus.index[0:20].values.tolist()\n",
    "top_words_tfidf_earn"
   ]
  },
  {
   "cell_type": "code",
   "execution_count": 164,
   "metadata": {
    "colab": {
     "base_uri": "https://localhost:8080/",
     "height": 519
    },
    "execution": {
     "iopub.execute_input": "2022-02-04T21:21:21.865100Z",
     "iopub.status.busy": "2022-02-04T21:21:21.864088Z",
     "iopub.status.idle": "2022-02-04T21:21:22.007084Z",
     "shell.execute_reply": "2022-02-04T21:21:22.006118Z",
     "shell.execute_reply.started": "2022-02-04T21:21:21.864088Z"
    },
    "id": "jOLTNvwTtnof",
    "outputId": "adc34d5a-1575-4ff2-c68b-93667183de5f"
   },
   "outputs": [
    {
     "data": {
      "text/html": [
       "<div>\n",
       "<style scoped>\n",
       "    .dataframe tbody tr th:only-of-type {\n",
       "        vertical-align: middle;\n",
       "    }\n",
       "\n",
       "    .dataframe tbody tr th {\n",
       "        vertical-align: top;\n",
       "    }\n",
       "\n",
       "    .dataframe thead th {\n",
       "        text-align: right;\n",
       "    }\n",
       "</style>\n",
       "<table border=\"1\" class=\"dataframe\">\n",
       "  <thead>\n",
       "    <tr style=\"text-align: right;\">\n",
       "      <th></th>\n",
       "      <th>other</th>\n",
       "      <th>blank</th>\n",
       "      <th>earn</th>\n",
       "    </tr>\n",
       "  </thead>\n",
       "  <tbody>\n",
       "    <tr>\n",
       "      <th>vs</th>\n",
       "      <td>0.008318</td>\n",
       "      <td>0.016760</td>\n",
       "      <td>0.519381</td>\n",
       "    </tr>\n",
       "    <tr>\n",
       "      <th>mln</th>\n",
       "      <td>0.213260</td>\n",
       "      <td>0.204224</td>\n",
       "      <td>0.428596</td>\n",
       "    </tr>\n",
       "    <tr>\n",
       "      <th>cts</th>\n",
       "      <td>0.011247</td>\n",
       "      <td>0.026068</td>\n",
       "      <td>0.292813</td>\n",
       "    </tr>\n",
       "    <tr>\n",
       "      <th>net</th>\n",
       "      <td>0.011358</td>\n",
       "      <td>0.018973</td>\n",
       "      <td>0.242989</td>\n",
       "    </tr>\n",
       "    <tr>\n",
       "      <th>dlrs</th>\n",
       "      <td>0.190848</td>\n",
       "      <td>0.226707</td>\n",
       "      <td>0.227315</td>\n",
       "    </tr>\n",
       "    <tr>\n",
       "      <th>loss</th>\n",
       "      <td>0.005665</td>\n",
       "      <td>0.013149</td>\n",
       "      <td>0.187852</td>\n",
       "    </tr>\n",
       "    <tr>\n",
       "      <th>shr</th>\n",
       "      <td>0.000055</td>\n",
       "      <td>0.004909</td>\n",
       "      <td>0.148464</td>\n",
       "    </tr>\n",
       "    <tr>\n",
       "      <th>mln vs</th>\n",
       "      <td>0.000138</td>\n",
       "      <td>0.002620</td>\n",
       "      <td>0.143863</td>\n",
       "    </tr>\n",
       "    <tr>\n",
       "      <th>vs mln</th>\n",
       "      <td>0.001962</td>\n",
       "      <td>0.003026</td>\n",
       "      <td>0.142404</td>\n",
       "    </tr>\n",
       "    <tr>\n",
       "      <th>said</th>\n",
       "      <td>0.676093</td>\n",
       "      <td>0.676254</td>\n",
       "      <td>0.136195</td>\n",
       "    </tr>\n",
       "    <tr>\n",
       "      <th>march</th>\n",
       "      <td>0.148953</td>\n",
       "      <td>0.161803</td>\n",
       "      <td>0.122542</td>\n",
       "    </tr>\n",
       "    <tr>\n",
       "      <th>cts vs</th>\n",
       "      <td>0.000055</td>\n",
       "      <td>0.007274</td>\n",
       "      <td>0.121719</td>\n",
       "    </tr>\n",
       "    <tr>\n",
       "      <th>year</th>\n",
       "      <td>0.118472</td>\n",
       "      <td>0.105571</td>\n",
       "      <td>0.117829</td>\n",
       "    </tr>\n",
       "    <tr>\n",
       "      <th>revs</th>\n",
       "      <td>0.000000</td>\n",
       "      <td>0.002129</td>\n",
       "      <td>0.112132</td>\n",
       "    </tr>\n",
       "    <tr>\n",
       "      <th>profit</th>\n",
       "      <td>0.003510</td>\n",
       "      <td>0.008723</td>\n",
       "      <td>0.105559</td>\n",
       "    </tr>\n",
       "  </tbody>\n",
       "</table>\n",
       "</div>"
      ],
      "text/plain": [
       "           other     blank      earn\n",
       "vs      0.008318  0.016760  0.519381\n",
       "mln     0.213260  0.204224  0.428596\n",
       "cts     0.011247  0.026068  0.292813\n",
       "net     0.011358  0.018973  0.242989\n",
       "dlrs    0.190848  0.226707  0.227315\n",
       "loss    0.005665  0.013149  0.187852\n",
       "shr     0.000055  0.004909  0.148464\n",
       "mln vs  0.000138  0.002620  0.143863\n",
       "vs mln  0.001962  0.003026  0.142404\n",
       "said    0.676093  0.676254  0.136195\n",
       "march   0.148953  0.161803  0.122542\n",
       "cts vs  0.000055  0.007274  0.121719\n",
       "year    0.118472  0.105571  0.117829\n",
       "revs    0.000000  0.002129  0.112132\n",
       "profit  0.003510  0.008723  0.105559"
      ]
     },
     "execution_count": 164,
     "metadata": {},
     "output_type": "execute_result"
    }
   ],
   "source": [
    "df_corpus.sort_values(by=\"earn\", ascending=False).iloc[0:15]"
   ]
  },
  {
   "cell_type": "markdown",
   "metadata": {
    "id": "-rRlKFLntn8K"
   },
   "source": [
    "Bi-grams may matter as they do occupy some top positions when sorting by \"earn\"\n",
    "\n",
    "Let's try it with tri-grams, sorted by \"earn\""
   ]
  },
  {
   "cell_type": "code",
   "execution_count": 165,
   "metadata": {
    "colab": {
     "base_uri": "https://localhost:8080/",
     "height": 519
    },
    "execution": {
     "iopub.execute_input": "2022-02-04T21:21:22.008086Z",
     "iopub.status.busy": "2022-02-04T21:21:22.008086Z",
     "iopub.status.idle": "2022-02-04T21:21:39.968384Z",
     "shell.execute_reply": "2022-02-04T21:21:39.967382Z",
     "shell.execute_reply.started": "2022-02-04T21:21:22.008086Z"
    },
    "id": "OLV3QsEutoFx",
    "outputId": "3e45d381-950d-4ebd-9897-f8d9fa666a2b"
   },
   "outputs": [
    {
     "data": {
      "text/html": [
       "<div>\n",
       "<style scoped>\n",
       "    .dataframe tbody tr th:only-of-type {\n",
       "        vertical-align: middle;\n",
       "    }\n",
       "\n",
       "    .dataframe tbody tr th {\n",
       "        vertical-align: top;\n",
       "    }\n",
       "\n",
       "    .dataframe thead th {\n",
       "        text-align: right;\n",
       "    }\n",
       "</style>\n",
       "<table border=\"1\" class=\"dataframe\">\n",
       "  <thead>\n",
       "    <tr style=\"text-align: right;\">\n",
       "      <th></th>\n",
       "      <th>other</th>\n",
       "      <th>blank</th>\n",
       "      <th>earn</th>\n",
       "    </tr>\n",
       "  </thead>\n",
       "  <tbody>\n",
       "    <tr>\n",
       "      <th>vs</th>\n",
       "      <td>0.008301</td>\n",
       "      <td>0.016718</td>\n",
       "      <td>0.504290</td>\n",
       "    </tr>\n",
       "    <tr>\n",
       "      <th>mln</th>\n",
       "      <td>0.212815</td>\n",
       "      <td>0.203708</td>\n",
       "      <td>0.416143</td>\n",
       "    </tr>\n",
       "    <tr>\n",
       "      <th>cts</th>\n",
       "      <td>0.011224</td>\n",
       "      <td>0.026003</td>\n",
       "      <td>0.284305</td>\n",
       "    </tr>\n",
       "    <tr>\n",
       "      <th>net</th>\n",
       "      <td>0.011334</td>\n",
       "      <td>0.018925</td>\n",
       "      <td>0.235928</td>\n",
       "    </tr>\n",
       "    <tr>\n",
       "      <th>dlrs</th>\n",
       "      <td>0.190450</td>\n",
       "      <td>0.226134</td>\n",
       "      <td>0.220711</td>\n",
       "    </tr>\n",
       "    <tr>\n",
       "      <th>loss</th>\n",
       "      <td>0.005653</td>\n",
       "      <td>0.013115</td>\n",
       "      <td>0.182394</td>\n",
       "    </tr>\n",
       "    <tr>\n",
       "      <th>shr</th>\n",
       "      <td>0.000055</td>\n",
       "      <td>0.004896</td>\n",
       "      <td>0.144150</td>\n",
       "    </tr>\n",
       "    <tr>\n",
       "      <th>mln vs</th>\n",
       "      <td>0.000138</td>\n",
       "      <td>0.002613</td>\n",
       "      <td>0.139683</td>\n",
       "    </tr>\n",
       "    <tr>\n",
       "      <th>vs mln</th>\n",
       "      <td>0.001958</td>\n",
       "      <td>0.003019</td>\n",
       "      <td>0.138267</td>\n",
       "    </tr>\n",
       "    <tr>\n",
       "      <th>said</th>\n",
       "      <td>0.674682</td>\n",
       "      <td>0.674547</td>\n",
       "      <td>0.132238</td>\n",
       "    </tr>\n",
       "    <tr>\n",
       "      <th>mln vs mln</th>\n",
       "      <td>0.000138</td>\n",
       "      <td>0.002435</td>\n",
       "      <td>0.120906</td>\n",
       "    </tr>\n",
       "    <tr>\n",
       "      <th>march</th>\n",
       "      <td>0.148642</td>\n",
       "      <td>0.161394</td>\n",
       "      <td>0.118981</td>\n",
       "    </tr>\n",
       "    <tr>\n",
       "      <th>cts vs</th>\n",
       "      <td>0.000055</td>\n",
       "      <td>0.007255</td>\n",
       "      <td>0.118182</td>\n",
       "    </tr>\n",
       "    <tr>\n",
       "      <th>year</th>\n",
       "      <td>0.118225</td>\n",
       "      <td>0.105304</td>\n",
       "      <td>0.114405</td>\n",
       "    </tr>\n",
       "    <tr>\n",
       "      <th>revs</th>\n",
       "      <td>0.000000</td>\n",
       "      <td>0.002123</td>\n",
       "      <td>0.108874</td>\n",
       "    </tr>\n",
       "  </tbody>\n",
       "</table>\n",
       "</div>"
      ],
      "text/plain": [
       "               other     blank      earn\n",
       "vs          0.008301  0.016718  0.504290\n",
       "mln         0.212815  0.203708  0.416143\n",
       "cts         0.011224  0.026003  0.284305\n",
       "net         0.011334  0.018925  0.235928\n",
       "dlrs        0.190450  0.226134  0.220711\n",
       "loss        0.005653  0.013115  0.182394\n",
       "shr         0.000055  0.004896  0.144150\n",
       "mln vs      0.000138  0.002613  0.139683\n",
       "vs mln      0.001958  0.003019  0.138267\n",
       "said        0.674682  0.674547  0.132238\n",
       "mln vs mln  0.000138  0.002435  0.120906\n",
       "march       0.148642  0.161394  0.118981\n",
       "cts vs      0.000055  0.007255  0.118182\n",
       "year        0.118225  0.105304  0.114405\n",
       "revs        0.000000  0.002123  0.108874"
      ]
     },
     "execution_count": 165,
     "metadata": {},
     "output_type": "execute_result"
    }
   ],
   "source": [
    "vectorizer = TfidfVectorizer(ngram_range=(1,3))\n",
    "\n",
    "X_corpus = vectorizer.fit_transform(corpus)\n",
    "X_corpus = X_corpus.T.todense()\n",
    "# feature_names = vectorizer.get_feature_names_out()\n",
    "feature_names = vectorizer.get_feature_names()\n",
    "df_corpus = pd.DataFrame(X_corpus, index=feature_names, columns=[\"other\", \"blank\", \"earn\"])\n",
    "df_corpus = df_corpus.sort_values(by=\"earn\", ascending=False)\n",
    "df_corpus.iloc[0:15]"
   ]
  },
  {
   "cell_type": "markdown",
   "metadata": {
    "id": "MY1pbFNGtoOI"
   },
   "source": [
    "There is one tri-gram in the 12 position"
   ]
  },
  {
   "cell_type": "markdown",
   "metadata": {
    "id": "f6uiWLPDtoVe"
   },
   "source": [
    "## Count Vectorizer"
   ]
  },
  {
   "cell_type": "markdown",
   "metadata": {
    "id": "u3kLOW4vtocJ"
   },
   "source": [
    "Try it with bi-grams"
   ]
  },
  {
   "cell_type": "code",
   "execution_count": 166,
   "metadata": {
    "colab": {
     "base_uri": "https://localhost:8080/",
     "height": 519
    },
    "execution": {
     "iopub.execute_input": "2022-02-04T21:21:39.969385Z",
     "iopub.status.busy": "2022-02-04T21:21:39.969385Z",
     "iopub.status.idle": "2022-02-04T21:21:47.870384Z",
     "shell.execute_reply": "2022-02-04T21:21:47.869382Z",
     "shell.execute_reply.started": "2022-02-04T21:21:39.969385Z"
    },
    "id": "4F-fhkLBtohb",
    "outputId": "6539d838-4c0f-49bc-f8f8-e5ff79e4ccfa"
   },
   "outputs": [
    {
     "data": {
      "text/html": [
       "<div>\n",
       "<style scoped>\n",
       "    .dataframe tbody tr th:only-of-type {\n",
       "        vertical-align: middle;\n",
       "    }\n",
       "\n",
       "    .dataframe tbody tr th {\n",
       "        vertical-align: top;\n",
       "    }\n",
       "\n",
       "    .dataframe thead th {\n",
       "        text-align: right;\n",
       "    }\n",
       "</style>\n",
       "<table border=\"1\" class=\"dataframe\">\n",
       "  <thead>\n",
       "    <tr style=\"text-align: right;\">\n",
       "      <th></th>\n",
       "      <th>other</th>\n",
       "      <th>blank</th>\n",
       "      <th>earn</th>\n",
       "    </tr>\n",
       "  </thead>\n",
       "  <tbody>\n",
       "    <tr>\n",
       "      <th>vs</th>\n",
       "      <td>301</td>\n",
       "      <td>659</td>\n",
       "      <td>13885</td>\n",
       "    </tr>\n",
       "    <tr>\n",
       "      <th>mln</th>\n",
       "      <td>7717</td>\n",
       "      <td>8030</td>\n",
       "      <td>11458</td>\n",
       "    </tr>\n",
       "    <tr>\n",
       "      <th>cts</th>\n",
       "      <td>407</td>\n",
       "      <td>1025</td>\n",
       "      <td>7828</td>\n",
       "    </tr>\n",
       "    <tr>\n",
       "      <th>net</th>\n",
       "      <td>411</td>\n",
       "      <td>746</td>\n",
       "      <td>6496</td>\n",
       "    </tr>\n",
       "    <tr>\n",
       "      <th>dlrs</th>\n",
       "      <td>6906</td>\n",
       "      <td>8914</td>\n",
       "      <td>6077</td>\n",
       "    </tr>\n",
       "    <tr>\n",
       "      <th>loss</th>\n",
       "      <td>205</td>\n",
       "      <td>517</td>\n",
       "      <td>5022</td>\n",
       "    </tr>\n",
       "    <tr>\n",
       "      <th>shr</th>\n",
       "      <td>2</td>\n",
       "      <td>193</td>\n",
       "      <td>3969</td>\n",
       "    </tr>\n",
       "    <tr>\n",
       "      <th>mln vs</th>\n",
       "      <td>5</td>\n",
       "      <td>103</td>\n",
       "      <td>3846</td>\n",
       "    </tr>\n",
       "    <tr>\n",
       "      <th>vs mln</th>\n",
       "      <td>71</td>\n",
       "      <td>119</td>\n",
       "      <td>3807</td>\n",
       "    </tr>\n",
       "    <tr>\n",
       "      <th>said</th>\n",
       "      <td>24465</td>\n",
       "      <td>26590</td>\n",
       "      <td>3641</td>\n",
       "    </tr>\n",
       "    <tr>\n",
       "      <th>march</th>\n",
       "      <td>5390</td>\n",
       "      <td>6362</td>\n",
       "      <td>3276</td>\n",
       "    </tr>\n",
       "    <tr>\n",
       "      <th>cts vs</th>\n",
       "      <td>2</td>\n",
       "      <td>286</td>\n",
       "      <td>3254</td>\n",
       "    </tr>\n",
       "    <tr>\n",
       "      <th>year</th>\n",
       "      <td>4287</td>\n",
       "      <td>4151</td>\n",
       "      <td>3150</td>\n",
       "    </tr>\n",
       "    <tr>\n",
       "      <th>profit</th>\n",
       "      <td>127</td>\n",
       "      <td>343</td>\n",
       "      <td>2822</td>\n",
       "    </tr>\n",
       "    <tr>\n",
       "      <th>qtr</th>\n",
       "      <td>26</td>\n",
       "      <td>200</td>\n",
       "      <td>2490</td>\n",
       "    </tr>\n",
       "  </tbody>\n",
       "</table>\n",
       "</div>"
      ],
      "text/plain": [
       "        other  blank   earn\n",
       "vs        301    659  13885\n",
       "mln      7717   8030  11458\n",
       "cts       407   1025   7828\n",
       "net       411    746   6496\n",
       "dlrs     6906   8914   6077\n",
       "loss      205    517   5022\n",
       "shr         2    193   3969\n",
       "mln vs      5    103   3846\n",
       "vs mln     71    119   3807\n",
       "said    24465  26590   3641\n",
       "march    5390   6362   3276\n",
       "cts vs      2    286   3254\n",
       "year     4287   4151   3150\n",
       "profit    127    343   2822\n",
       "qtr        26    200   2490"
      ]
     },
     "execution_count": 166,
     "metadata": {},
     "output_type": "execute_result"
    }
   ],
   "source": [
    "vectorizer = CountVectorizer(ngram_range=(1,2))\n",
    "\n",
    "X_corpus = vectorizer.fit_transform(corpus)\n",
    "X_corpus = X_corpus.T.todense()\n",
    "# feature_names = vectorizer.get_feature_names_out()\n",
    "feature_names = vectorizer.get_feature_names()\n",
    "df_corpus = pd.DataFrame(X_corpus, index=feature_names, columns=[\"other\", \"blank\", \"earn\"])\n",
    "df_corpus = df_corpus.sort_values(by=\"earn\", ascending=False)\n",
    "df_corpus.iloc[0:15]"
   ]
  },
  {
   "cell_type": "code",
   "execution_count": 167,
   "metadata": {
    "colab": {
     "base_uri": "https://localhost:8080/"
    },
    "execution": {
     "iopub.execute_input": "2022-02-04T21:21:47.871385Z",
     "iopub.status.busy": "2022-02-04T21:21:47.871385Z",
     "iopub.status.idle": "2022-02-04T21:21:47.886389Z",
     "shell.execute_reply": "2022-02-04T21:21:47.885382Z",
     "shell.execute_reply.started": "2022-02-04T21:21:47.871385Z"
    },
    "id": "JYBXRcX7tonY",
    "outputId": "e6f7a984-9855-4fb7-bc2d-7be8fd3d63e9"
   },
   "outputs": [
    {
     "data": {
      "text/plain": [
       "['vs',\n",
       " 'mln',\n",
       " 'cts',\n",
       " 'net',\n",
       " 'dlrs',\n",
       " 'loss',\n",
       " 'shr',\n",
       " 'mln vs',\n",
       " 'vs mln',\n",
       " 'said',\n",
       " 'march',\n",
       " 'cts vs',\n",
       " 'year',\n",
       " 'profit',\n",
       " 'qtr',\n",
       " 'revs',\n",
       " 'cts net',\n",
       " 'mln dlrs',\n",
       " 'billion',\n",
       " 'vs cts']"
      ]
     },
     "execution_count": 167,
     "metadata": {},
     "output_type": "execute_result"
    }
   ],
   "source": [
    "top_words_cv_earn = df_corpus.index[0:20].values.tolist()\n",
    "top_words_cv_earn"
   ]
  },
  {
   "cell_type": "code",
   "execution_count": 168,
   "metadata": {
    "colab": {
     "base_uri": "https://localhost:8080/"
    },
    "execution": {
     "iopub.execute_input": "2022-02-04T21:21:47.887388Z",
     "iopub.status.busy": "2022-02-04T21:21:47.887388Z",
     "iopub.status.idle": "2022-02-04T21:21:47.902386Z",
     "shell.execute_reply": "2022-02-04T21:21:47.901383Z",
     "shell.execute_reply.started": "2022-02-04T21:21:47.887388Z"
    },
    "id": "XwrChX2itor1",
    "outputId": "0ef145fc-ac20-441a-d6d4-b4997fd1a97e"
   },
   "outputs": [
    {
     "data": {
      "text/plain": [
       "['said',\n",
       " 'pct',\n",
       " 'mln',\n",
       " 'dlrs',\n",
       " 'march',\n",
       " 'would',\n",
       " 'billion',\n",
       " 'year',\n",
       " 'trade',\n",
       " 'new',\n",
       " 'oil',\n",
       " 'bank',\n",
       " 'company',\n",
       " 'last',\n",
       " 'april',\n",
       " 'market',\n",
       " 'tonnes',\n",
       " 'mln dlrs',\n",
       " 'prices',\n",
       " 'inc']"
      ]
     },
     "execution_count": 168,
     "metadata": {},
     "output_type": "execute_result"
    }
   ],
   "source": [
    "top_words_tfidf_earn"
   ]
  },
  {
   "cell_type": "code",
   "execution_count": 169,
   "metadata": {
    "colab": {
     "base_uri": "https://localhost:8080/",
     "height": 676
    },
    "execution": {
     "iopub.execute_input": "2022-02-04T21:21:47.903387Z",
     "iopub.status.busy": "2022-02-04T21:21:47.903387Z",
     "iopub.status.idle": "2022-02-04T21:21:47.934387Z",
     "shell.execute_reply": "2022-02-04T21:21:47.933382Z",
     "shell.execute_reply.started": "2022-02-04T21:21:47.903387Z"
    },
    "id": "jKD8KwQVtowp",
    "outputId": "d6839ea2-5303-4e5d-ff15-b23e89f294e3"
   },
   "outputs": [
    {
     "data": {
      "text/html": [
       "<div>\n",
       "<style scoped>\n",
       "    .dataframe tbody tr th:only-of-type {\n",
       "        vertical-align: middle;\n",
       "    }\n",
       "\n",
       "    .dataframe tbody tr th {\n",
       "        vertical-align: top;\n",
       "    }\n",
       "\n",
       "    .dataframe thead th {\n",
       "        text-align: right;\n",
       "    }\n",
       "</style>\n",
       "<table border=\"1\" class=\"dataframe\">\n",
       "  <thead>\n",
       "    <tr style=\"text-align: right;\">\n",
       "      <th></th>\n",
       "      <th>tfidf</th>\n",
       "      <th>cv</th>\n",
       "    </tr>\n",
       "  </thead>\n",
       "  <tbody>\n",
       "    <tr>\n",
       "      <th>0</th>\n",
       "      <td>said</td>\n",
       "      <td>vs</td>\n",
       "    </tr>\n",
       "    <tr>\n",
       "      <th>1</th>\n",
       "      <td>pct</td>\n",
       "      <td>mln</td>\n",
       "    </tr>\n",
       "    <tr>\n",
       "      <th>2</th>\n",
       "      <td>mln</td>\n",
       "      <td>cts</td>\n",
       "    </tr>\n",
       "    <tr>\n",
       "      <th>3</th>\n",
       "      <td>dlrs</td>\n",
       "      <td>net</td>\n",
       "    </tr>\n",
       "    <tr>\n",
       "      <th>4</th>\n",
       "      <td>march</td>\n",
       "      <td>dlrs</td>\n",
       "    </tr>\n",
       "    <tr>\n",
       "      <th>5</th>\n",
       "      <td>would</td>\n",
       "      <td>loss</td>\n",
       "    </tr>\n",
       "    <tr>\n",
       "      <th>6</th>\n",
       "      <td>billion</td>\n",
       "      <td>shr</td>\n",
       "    </tr>\n",
       "    <tr>\n",
       "      <th>7</th>\n",
       "      <td>year</td>\n",
       "      <td>mln vs</td>\n",
       "    </tr>\n",
       "    <tr>\n",
       "      <th>8</th>\n",
       "      <td>trade</td>\n",
       "      <td>vs mln</td>\n",
       "    </tr>\n",
       "    <tr>\n",
       "      <th>9</th>\n",
       "      <td>new</td>\n",
       "      <td>said</td>\n",
       "    </tr>\n",
       "    <tr>\n",
       "      <th>10</th>\n",
       "      <td>oil</td>\n",
       "      <td>march</td>\n",
       "    </tr>\n",
       "    <tr>\n",
       "      <th>11</th>\n",
       "      <td>bank</td>\n",
       "      <td>cts vs</td>\n",
       "    </tr>\n",
       "    <tr>\n",
       "      <th>12</th>\n",
       "      <td>company</td>\n",
       "      <td>year</td>\n",
       "    </tr>\n",
       "    <tr>\n",
       "      <th>13</th>\n",
       "      <td>last</td>\n",
       "      <td>profit</td>\n",
       "    </tr>\n",
       "    <tr>\n",
       "      <th>14</th>\n",
       "      <td>april</td>\n",
       "      <td>qtr</td>\n",
       "    </tr>\n",
       "    <tr>\n",
       "      <th>15</th>\n",
       "      <td>market</td>\n",
       "      <td>revs</td>\n",
       "    </tr>\n",
       "    <tr>\n",
       "      <th>16</th>\n",
       "      <td>tonnes</td>\n",
       "      <td>cts net</td>\n",
       "    </tr>\n",
       "    <tr>\n",
       "      <th>17</th>\n",
       "      <td>mln dlrs</td>\n",
       "      <td>mln dlrs</td>\n",
       "    </tr>\n",
       "    <tr>\n",
       "      <th>18</th>\n",
       "      <td>prices</td>\n",
       "      <td>billion</td>\n",
       "    </tr>\n",
       "    <tr>\n",
       "      <th>19</th>\n",
       "      <td>inc</td>\n",
       "      <td>vs cts</td>\n",
       "    </tr>\n",
       "  </tbody>\n",
       "</table>\n",
       "</div>"
      ],
      "text/plain": [
       "       tfidf        cv\n",
       "0       said        vs\n",
       "1        pct       mln\n",
       "2        mln       cts\n",
       "3       dlrs       net\n",
       "4      march      dlrs\n",
       "5      would      loss\n",
       "6    billion       shr\n",
       "7       year    mln vs\n",
       "8      trade    vs mln\n",
       "9        new      said\n",
       "10       oil     march\n",
       "11      bank    cts vs\n",
       "12   company      year\n",
       "13      last    profit\n",
       "14     april       qtr\n",
       "15    market      revs\n",
       "16    tonnes   cts net\n",
       "17  mln dlrs  mln dlrs\n",
       "18    prices   billion\n",
       "19       inc    vs cts"
      ]
     },
     "execution_count": 169,
     "metadata": {},
     "output_type": "execute_result"
    }
   ],
   "source": [
    "top_words_earn = {'tfidf': top_words_tfidf_earn, 'cv': top_words_cv_earn}\n",
    "pd.DataFrame(top_words_earn, columns=['tfidf', 'cv'])"
   ]
  },
  {
   "cell_type": "markdown",
   "metadata": {
    "id": "MbVi3dpGto2S"
   },
   "source": [
    "They are somewhat different. I should try both when modeling."
   ]
  },
  {
   "cell_type": "markdown",
   "metadata": {
    "id": "1Amk9fZluf-H"
   },
   "source": [
    "## Lemmatize the words"
   ]
  },
  {
   "cell_type": "code",
   "execution_count": 170,
   "metadata": {
    "colab": {
     "base_uri": "https://localhost:8080/"
    },
    "execution": {
     "iopub.execute_input": "2022-02-04T21:21:47.936388Z",
     "iopub.status.busy": "2022-02-04T21:21:47.935388Z",
     "iopub.status.idle": "2022-02-04T21:21:47.950387Z",
     "shell.execute_reply": "2022-02-04T21:21:47.949385Z",
     "shell.execute_reply.started": "2022-02-04T21:21:47.936388Z"
    },
    "id": "PUvWFuXHuipG",
    "outputId": "759c38ea-cb60-4ff7-874f-c27495d8c828"
   },
   "outputs": [
    {
     "name": "stderr",
     "output_type": "stream",
     "text": [
      "[nltk_data] Downloading package wordnet to\n",
      "[nltk_data]     C:\\Users\\halpe\\AppData\\Roaming\\nltk_data...\n",
      "[nltk_data]   Package wordnet is already up-to-date!\n"
     ]
    }
   ],
   "source": [
    "import nltk\n",
    "nltk.download('wordnet')\n",
    "lemm = WordNetLemmatizer()"
   ]
  },
  {
   "cell_type": "code",
   "execution_count": 171,
   "metadata": {
    "execution": {
     "iopub.execute_input": "2022-02-04T21:21:47.953390Z",
     "iopub.status.busy": "2022-02-04T21:21:47.952390Z",
     "iopub.status.idle": "2022-02-04T21:21:47.967390Z",
     "shell.execute_reply": "2022-02-04T21:21:47.965387Z",
     "shell.execute_reply.started": "2022-02-04T21:21:47.953390Z"
    },
    "id": "t8Ne2Es3ujLX"
   },
   "outputs": [],
   "source": [
    "def make_lemma(list_of_words):\n",
    "    # remove any NaN's\n",
    "    list_of_words = [i for i in list_of_words if i is not np.nan]\n",
    "    \n",
    "    list_to_return = []\n",
    "    for idx, word in enumerate(list_of_words):\n",
    "        list_to_return.append(lemm.lemmatize(word))\n",
    "    return list_to_return"
   ]
  },
  {
   "cell_type": "code",
   "execution_count": 172,
   "metadata": {
    "execution": {
     "iopub.execute_input": "2022-02-04T21:21:47.970387Z",
     "iopub.status.busy": "2022-02-04T21:21:47.969385Z",
     "iopub.status.idle": "2022-02-04T21:21:58.576387Z",
     "shell.execute_reply": "2022-02-04T21:21:58.575551Z",
     "shell.execute_reply.started": "2022-02-04T21:21:47.970387Z"
    },
    "id": "lisJtSejujeI"
   },
   "outputs": [],
   "source": [
    "other_lemmatized = concat_words(make_lemma(other_text_processed))\n",
    "blank_lemmatized = concat_words(make_lemma(blank_text_processed))\n",
    "earn_lemmatized = concat_words(make_lemma(earn_text_processed))"
   ]
  },
  {
   "cell_type": "code",
   "execution_count": 173,
   "metadata": {
    "execution": {
     "iopub.execute_input": "2022-02-04T21:21:58.577384Z",
     "iopub.status.busy": "2022-02-04T21:21:58.577384Z",
     "iopub.status.idle": "2022-02-04T21:21:58.592386Z",
     "shell.execute_reply": "2022-02-04T21:21:58.591385Z",
     "shell.execute_reply.started": "2022-02-04T21:21:58.577384Z"
    },
    "id": "wIK7t--QujuY"
   },
   "outputs": [],
   "source": [
    "corpus_lemmatized = other_lemmatized + blank_lemmatized + earn_lemmatized"
   ]
  },
  {
   "cell_type": "markdown",
   "metadata": {
    "id": "YeFCZ5Iluj5W"
   },
   "source": [
    "Rerun the first TF-IDF bi-gram and check it against a lemmatized version"
   ]
  },
  {
   "cell_type": "code",
   "execution_count": 174,
   "metadata": {
    "colab": {
     "base_uri": "https://localhost:8080/",
     "height": 519
    },
    "execution": {
     "iopub.execute_input": "2022-02-04T21:21:58.594391Z",
     "iopub.status.busy": "2022-02-04T21:21:58.593390Z",
     "iopub.status.idle": "2022-02-04T21:22:06.399384Z",
     "shell.execute_reply": "2022-02-04T21:22:06.398382Z",
     "shell.execute_reply.started": "2022-02-04T21:21:58.594391Z"
    },
    "id": "9EMqUG6tukFM",
    "outputId": "e05f2da6-a95b-4352-cca6-ae7311f39b8a"
   },
   "outputs": [
    {
     "data": {
      "text/html": [
       "<div>\n",
       "<style scoped>\n",
       "    .dataframe tbody tr th:only-of-type {\n",
       "        vertical-align: middle;\n",
       "    }\n",
       "\n",
       "    .dataframe tbody tr th {\n",
       "        vertical-align: top;\n",
       "    }\n",
       "\n",
       "    .dataframe thead th {\n",
       "        text-align: right;\n",
       "    }\n",
       "</style>\n",
       "<table border=\"1\" class=\"dataframe\">\n",
       "  <thead>\n",
       "    <tr style=\"text-align: right;\">\n",
       "      <th></th>\n",
       "      <th>other</th>\n",
       "      <th>blank</th>\n",
       "      <th>earn</th>\n",
       "    </tr>\n",
       "  </thead>\n",
       "  <tbody>\n",
       "    <tr>\n",
       "      <th>said</th>\n",
       "      <td>0.676093</td>\n",
       "      <td>0.676254</td>\n",
       "      <td>0.136195</td>\n",
       "    </tr>\n",
       "    <tr>\n",
       "      <th>pct</th>\n",
       "      <td>0.258112</td>\n",
       "      <td>0.206691</td>\n",
       "      <td>0.047805</td>\n",
       "    </tr>\n",
       "    <tr>\n",
       "      <th>mln</th>\n",
       "      <td>0.213260</td>\n",
       "      <td>0.204224</td>\n",
       "      <td>0.428596</td>\n",
       "    </tr>\n",
       "    <tr>\n",
       "      <th>dlrs</th>\n",
       "      <td>0.190848</td>\n",
       "      <td>0.226707</td>\n",
       "      <td>0.227315</td>\n",
       "    </tr>\n",
       "    <tr>\n",
       "      <th>march</th>\n",
       "      <td>0.148953</td>\n",
       "      <td>0.161803</td>\n",
       "      <td>0.122542</td>\n",
       "    </tr>\n",
       "    <tr>\n",
       "      <th>would</th>\n",
       "      <td>0.133837</td>\n",
       "      <td>0.108318</td>\n",
       "      <td>0.015673</td>\n",
       "    </tr>\n",
       "    <tr>\n",
       "      <th>billion</th>\n",
       "      <td>0.119024</td>\n",
       "      <td>0.120042</td>\n",
       "      <td>0.072829</td>\n",
       "    </tr>\n",
       "    <tr>\n",
       "      <th>year</th>\n",
       "      <td>0.118472</td>\n",
       "      <td>0.105571</td>\n",
       "      <td>0.117829</td>\n",
       "    </tr>\n",
       "    <tr>\n",
       "      <th>trade</th>\n",
       "      <td>0.097055</td>\n",
       "      <td>0.031791</td>\n",
       "      <td>0.000860</td>\n",
       "    </tr>\n",
       "    <tr>\n",
       "      <th>new</th>\n",
       "      <td>0.093517</td>\n",
       "      <td>0.147891</td>\n",
       "      <td>0.029812</td>\n",
       "    </tr>\n",
       "    <tr>\n",
       "      <th>oil</th>\n",
       "      <td>0.093075</td>\n",
       "      <td>0.017498</td>\n",
       "      <td>0.010586</td>\n",
       "    </tr>\n",
       "    <tr>\n",
       "      <th>bank</th>\n",
       "      <td>0.090892</td>\n",
       "      <td>0.106283</td>\n",
       "      <td>0.019863</td>\n",
       "    </tr>\n",
       "    <tr>\n",
       "      <th>company</th>\n",
       "      <td>0.087990</td>\n",
       "      <td>0.126095</td>\n",
       "      <td>0.063665</td>\n",
       "    </tr>\n",
       "    <tr>\n",
       "      <th>last</th>\n",
       "      <td>0.087244</td>\n",
       "      <td>0.065311</td>\n",
       "      <td>0.016982</td>\n",
       "    </tr>\n",
       "    <tr>\n",
       "      <th>april</th>\n",
       "      <td>0.083734</td>\n",
       "      <td>0.101985</td>\n",
       "      <td>0.064413</td>\n",
       "    </tr>\n",
       "  </tbody>\n",
       "</table>\n",
       "</div>"
      ],
      "text/plain": [
       "            other     blank      earn\n",
       "said     0.676093  0.676254  0.136195\n",
       "pct      0.258112  0.206691  0.047805\n",
       "mln      0.213260  0.204224  0.428596\n",
       "dlrs     0.190848  0.226707  0.227315\n",
       "march    0.148953  0.161803  0.122542\n",
       "would    0.133837  0.108318  0.015673\n",
       "billion  0.119024  0.120042  0.072829\n",
       "year     0.118472  0.105571  0.117829\n",
       "trade    0.097055  0.031791  0.000860\n",
       "new      0.093517  0.147891  0.029812\n",
       "oil      0.093075  0.017498  0.010586\n",
       "bank     0.090892  0.106283  0.019863\n",
       "company  0.087990  0.126095  0.063665\n",
       "last     0.087244  0.065311  0.016982\n",
       "april    0.083734  0.101985  0.064413"
      ]
     },
     "execution_count": 174,
     "metadata": {},
     "output_type": "execute_result"
    }
   ],
   "source": [
    "vectorizer = TfidfVectorizer(ngram_range=(1,2))\n",
    "\n",
    "X_corpus = vectorizer.fit_transform(corpus)\n",
    "X_corpus = X_corpus.T.todense()\n",
    "# feature_names = vectorizer.get_feature_names_out()\n",
    "feature_names = vectorizer.get_feature_names()\n",
    "df_corpus = pd.DataFrame(X_corpus, index=feature_names, columns=[\"other\", \"blank\", \"earn\"])\n",
    "df_corpus = df_corpus.sort_values(by=\"other\", ascending=False)\n",
    "df_corpus.iloc[0:15]"
   ]
  },
  {
   "cell_type": "code",
   "execution_count": 175,
   "metadata": {
    "colab": {
     "base_uri": "https://localhost:8080/",
     "height": 519
    },
    "execution": {
     "iopub.execute_input": "2022-02-04T21:22:06.400386Z",
     "iopub.status.busy": "2022-02-04T21:22:06.400386Z",
     "iopub.status.idle": "2022-02-04T21:22:13.909386Z",
     "shell.execute_reply": "2022-02-04T21:22:13.908384Z",
     "shell.execute_reply.started": "2022-02-04T21:22:06.400386Z"
    },
    "id": "aM3drxl6ukOg",
    "outputId": "86f750f4-cb68-4028-e5b1-e0d03f5fe10a"
   },
   "outputs": [
    {
     "data": {
      "text/html": [
       "<div>\n",
       "<style scoped>\n",
       "    .dataframe tbody tr th:only-of-type {\n",
       "        vertical-align: middle;\n",
       "    }\n",
       "\n",
       "    .dataframe tbody tr th {\n",
       "        vertical-align: top;\n",
       "    }\n",
       "\n",
       "    .dataframe thead th {\n",
       "        text-align: right;\n",
       "    }\n",
       "</style>\n",
       "<table border=\"1\" class=\"dataframe\">\n",
       "  <thead>\n",
       "    <tr style=\"text-align: right;\">\n",
       "      <th></th>\n",
       "      <th>other</th>\n",
       "      <th>blank</th>\n",
       "      <th>earn</th>\n",
       "    </tr>\n",
       "  </thead>\n",
       "  <tbody>\n",
       "    <tr>\n",
       "      <th>said</th>\n",
       "      <td>0.650819</td>\n",
       "      <td>0.650751</td>\n",
       "      <td>0.163769</td>\n",
       "    </tr>\n",
       "    <tr>\n",
       "      <th>pct</th>\n",
       "      <td>0.248463</td>\n",
       "      <td>0.198945</td>\n",
       "      <td>0.057483</td>\n",
       "    </tr>\n",
       "    <tr>\n",
       "      <th>mln</th>\n",
       "      <td>0.205288</td>\n",
       "      <td>0.196522</td>\n",
       "      <td>0.515369</td>\n",
       "    </tr>\n",
       "    <tr>\n",
       "      <th>dlrs</th>\n",
       "      <td>0.183714</td>\n",
       "      <td>0.218157</td>\n",
       "      <td>0.273337</td>\n",
       "    </tr>\n",
       "    <tr>\n",
       "      <th>march</th>\n",
       "      <td>0.143412</td>\n",
       "      <td>0.155701</td>\n",
       "      <td>0.147351</td>\n",
       "    </tr>\n",
       "    <tr>\n",
       "      <th>year</th>\n",
       "      <td>0.136335</td>\n",
       "      <td>0.135436</td>\n",
       "      <td>0.147756</td>\n",
       "    </tr>\n",
       "    <tr>\n",
       "      <th>would</th>\n",
       "      <td>0.128834</td>\n",
       "      <td>0.104233</td>\n",
       "      <td>0.018846</td>\n",
       "    </tr>\n",
       "    <tr>\n",
       "      <th>price</th>\n",
       "      <td>0.116065</td>\n",
       "      <td>0.054062</td>\n",
       "      <td>0.011470</td>\n",
       "    </tr>\n",
       "    <tr>\n",
       "      <th>billion</th>\n",
       "      <td>0.114894</td>\n",
       "      <td>0.116029</td>\n",
       "      <td>0.087574</td>\n",
       "    </tr>\n",
       "    <tr>\n",
       "      <th>bank</th>\n",
       "      <td>0.113910</td>\n",
       "      <td>0.158050</td>\n",
       "      <td>0.029776</td>\n",
       "    </tr>\n",
       "    <tr>\n",
       "      <th>company</th>\n",
       "      <td>0.108244</td>\n",
       "      <td>0.143439</td>\n",
       "      <td>0.080692</td>\n",
       "    </tr>\n",
       "    <tr>\n",
       "      <th>market</th>\n",
       "      <td>0.100423</td>\n",
       "      <td>0.094884</td>\n",
       "      <td>0.010975</td>\n",
       "    </tr>\n",
       "    <tr>\n",
       "      <th>share</th>\n",
       "      <td>0.097044</td>\n",
       "      <td>0.104037</td>\n",
       "      <td>0.104171</td>\n",
       "    </tr>\n",
       "    <tr>\n",
       "      <th>oil</th>\n",
       "      <td>0.095368</td>\n",
       "      <td>0.017425</td>\n",
       "      <td>0.012729</td>\n",
       "    </tr>\n",
       "    <tr>\n",
       "      <th>trade</th>\n",
       "      <td>0.094384</td>\n",
       "      <td>0.032403</td>\n",
       "      <td>0.001079</td>\n",
       "    </tr>\n",
       "  </tbody>\n",
       "</table>\n",
       "</div>"
      ],
      "text/plain": [
       "            other     blank      earn\n",
       "said     0.650819  0.650751  0.163769\n",
       "pct      0.248463  0.198945  0.057483\n",
       "mln      0.205288  0.196522  0.515369\n",
       "dlrs     0.183714  0.218157  0.273337\n",
       "march    0.143412  0.155701  0.147351\n",
       "year     0.136335  0.135436  0.147756\n",
       "would    0.128834  0.104233  0.018846\n",
       "price    0.116065  0.054062  0.011470\n",
       "billion  0.114894  0.116029  0.087574\n",
       "bank     0.113910  0.158050  0.029776\n",
       "company  0.108244  0.143439  0.080692\n",
       "market   0.100423  0.094884  0.010975\n",
       "share    0.097044  0.104037  0.104171\n",
       "oil      0.095368  0.017425  0.012729\n",
       "trade    0.094384  0.032403  0.001079"
      ]
     },
     "execution_count": 175,
     "metadata": {},
     "output_type": "execute_result"
    }
   ],
   "source": [
    "vectorizer = TfidfVectorizer(ngram_range=(1,2))\n",
    "\n",
    "X_corpus = vectorizer.fit_transform(corpus_lemmatized)\n",
    "X_corpus = X_corpus.T.todense()\n",
    "# feature_names = vectorizer.get_feature_names_out()\n",
    "feature_names = vectorizer.get_feature_names()\n",
    "df_corpus_lemmatized = pd.DataFrame(X_corpus, index=feature_names, columns=[\"other\", \"blank\", \"earn\"])\n",
    "df_corpus_lemmatized = df_corpus_lemmatized.sort_values(by=\"other\", ascending=False)\n",
    "df_corpus_lemmatized.iloc[0:15]"
   ]
  },
  {
   "cell_type": "markdown",
   "metadata": {
    "id": "DUQ85YIQukcI"
   },
   "source": [
    "Some things look a little different. For example, 'april' appears on first list, 'oil' on second."
   ]
  },
  {
   "cell_type": "code",
   "execution_count": 176,
   "metadata": {
    "colab": {
     "base_uri": "https://localhost:8080/"
    },
    "execution": {
     "iopub.execute_input": "2022-02-04T21:22:13.910386Z",
     "iopub.status.busy": "2022-02-04T21:22:13.910386Z",
     "iopub.status.idle": "2022-02-04T21:22:13.925384Z",
     "shell.execute_reply": "2022-02-04T21:22:13.924381Z",
     "shell.execute_reply.started": "2022-02-04T21:22:13.910386Z"
    },
    "id": "CedfeSNGuko8",
    "outputId": "841735ea-8a99-4fac-8f97-6da98d839ea7"
   },
   "outputs": [
    {
     "data": {
      "text/plain": [
       "729109"
      ]
     },
     "execution_count": 176,
     "metadata": {},
     "output_type": "execute_result"
    }
   ],
   "source": [
    "len(df_corpus_lemmatized)"
   ]
  },
  {
   "cell_type": "code",
   "execution_count": 177,
   "metadata": {
    "colab": {
     "base_uri": "https://localhost:8080/"
    },
    "execution": {
     "iopub.execute_input": "2022-02-04T21:22:13.926386Z",
     "iopub.status.busy": "2022-02-04T21:22:13.926386Z",
     "iopub.status.idle": "2022-02-04T21:22:13.941385Z",
     "shell.execute_reply": "2022-02-04T21:22:13.940383Z",
     "shell.execute_reply.started": "2022-02-04T21:22:13.926386Z"
    },
    "id": "qSRnDQjQvgUH",
    "outputId": "a9f09aee-cad5-47be-83a5-6ddfb3c90da2"
   },
   "outputs": [
    {
     "data": {
      "text/plain": [
       "773761"
      ]
     },
     "execution_count": 177,
     "metadata": {},
     "output_type": "execute_result"
    }
   ],
   "source": [
    "len(df_corpus)"
   ]
  },
  {
   "cell_type": "code",
   "execution_count": 178,
   "metadata": {
    "colab": {
     "base_uri": "https://localhost:8080/"
    },
    "execution": {
     "iopub.execute_input": "2022-02-04T21:22:13.942388Z",
     "iopub.status.busy": "2022-02-04T21:22:13.942388Z",
     "iopub.status.idle": "2022-02-04T21:22:13.957387Z",
     "shell.execute_reply": "2022-02-04T21:22:13.956382Z",
     "shell.execute_reply.started": "2022-02-04T21:22:13.942388Z"
    },
    "id": "FeY8QEn2vko5",
    "outputId": "d161ebd3-cabf-4466-ea07-faad01419f89"
   },
   "outputs": [
    {
     "data": {
      "text/plain": [
       "44652"
      ]
     },
     "execution_count": 178,
     "metadata": {},
     "output_type": "execute_result"
    }
   ],
   "source": [
    "len(df_corpus) - len(df_corpus_lemmatized)"
   ]
  },
  {
   "cell_type": "code",
   "execution_count": 179,
   "metadata": {
    "colab": {
     "base_uri": "https://localhost:8080/"
    },
    "execution": {
     "iopub.execute_input": "2022-02-04T21:22:13.958387Z",
     "iopub.status.busy": "2022-02-04T21:22:13.958387Z",
     "iopub.status.idle": "2022-02-04T21:22:13.973386Z",
     "shell.execute_reply": "2022-02-04T21:22:13.972381Z",
     "shell.execute_reply.started": "2022-02-04T21:22:13.958387Z"
    },
    "id": "TBj4KhAOvnVI",
    "outputId": "280f2b89-3ed2-4a9b-9186-a3ff1e318ec4"
   },
   "outputs": [
    {
     "data": {
      "text/plain": [
       "5.770774179623941"
      ]
     },
     "execution_count": 179,
     "metadata": {},
     "output_type": "execute_result"
    }
   ],
   "source": [
    "(len(df_corpus) - len(df_corpus_lemmatized))/len(df_corpus) * 100"
   ]
  },
  {
   "cell_type": "markdown",
   "metadata": {
    "id": "VXiaC8vSvpW1"
   },
   "source": [
    "Lemmatizing the corpus consolidated some words and reduced the length by 5.77%"
   ]
  },
  {
   "cell_type": "markdown",
   "metadata": {
    "id": "oJvK8Ww1vrnA"
   },
   "source": [
    "# Prep data for modeling"
   ]
  },
  {
   "cell_type": "code",
   "execution_count": 180,
   "metadata": {
    "execution": {
     "iopub.execute_input": "2022-02-04T21:22:13.975388Z",
     "iopub.status.busy": "2022-02-04T21:22:13.974387Z",
     "iopub.status.idle": "2022-02-04T21:22:13.989388Z",
     "shell.execute_reply": "2022-02-04T21:22:13.988388Z",
     "shell.execute_reply.started": "2022-02-04T21:22:13.975388Z"
    },
    "id": "g6Yb0Q-ov0b9"
   },
   "outputs": [],
   "source": [
    "# importing and reloading for when I don't want to rerun code above\n",
    "\n",
    "import pandas as pd\n",
    "import numpy as np\n",
    "import nltk\n",
    "from nltk.corpus import stopwords\n",
    "from nltk import word_tokenize, FreqDist\n",
    "from nltk.stem.wordnet import WordNetLemmatizer\n",
    "import string\n",
    "import re"
   ]
  },
  {
   "cell_type": "code",
   "execution_count": 181,
   "metadata": {
    "colab": {
     "base_uri": "https://localhost:8080/"
    },
    "execution": {
     "iopub.execute_input": "2022-02-04T21:22:13.992393Z",
     "iopub.status.busy": "2022-02-04T21:22:13.991397Z",
     "iopub.status.idle": "2022-02-04T21:22:14.005391Z",
     "shell.execute_reply": "2022-02-04T21:22:14.004388Z",
     "shell.execute_reply.started": "2022-02-04T21:22:13.991397Z"
    },
    "id": "Q19lT84Gv1eo",
    "outputId": "85e70565-5a1f-4cd0-f515-584b30c497dc"
   },
   "outputs": [],
   "source": [
    "# from google.colab import drive\n",
    "# drive.mount('/gdrive')\n",
    "# %cd /gdrive\n",
    "# path = '/gdrive/My Drive/Colab Notebooks/interos/data_files/'\n",
    "# df = pd.read_csv(path + 'topics_and_text.csv')"
   ]
  },
  {
   "cell_type": "code",
   "execution_count": 182,
   "metadata": {
    "colab": {
     "base_uri": "https://localhost:8080/",
     "height": 206
    },
    "execution": {
     "iopub.execute_input": "2022-02-04T21:22:14.007386Z",
     "iopub.status.busy": "2022-02-04T21:22:14.007386Z",
     "iopub.status.idle": "2022-02-04T21:22:14.021387Z",
     "shell.execute_reply": "2022-02-04T21:22:14.020386Z",
     "shell.execute_reply.started": "2022-02-04T21:22:14.007386Z"
    },
    "id": "SjHoz0AVv1ya",
    "outputId": "55d5cd97-742e-48cd-b78b-9a5f732d83ef"
   },
   "outputs": [
    {
     "data": {
      "text/html": [
       "<div>\n",
       "<style scoped>\n",
       "    .dataframe tbody tr th:only-of-type {\n",
       "        vertical-align: middle;\n",
       "    }\n",
       "\n",
       "    .dataframe tbody tr th {\n",
       "        vertical-align: top;\n",
       "    }\n",
       "\n",
       "    .dataframe thead th {\n",
       "        text-align: right;\n",
       "    }\n",
       "</style>\n",
       "<table border=\"1\" class=\"dataframe\">\n",
       "  <thead>\n",
       "    <tr style=\"text-align: right;\">\n",
       "      <th></th>\n",
       "      <th>topic</th>\n",
       "      <th>text</th>\n",
       "    </tr>\n",
       "  </thead>\n",
       "  <tbody>\n",
       "    <tr>\n",
       "      <th>0</th>\n",
       "      <td>other</td>\n",
       "      <td>BAHIA COCOA REVIEW SALVADOR, Feb 26 - Showers ...</td>\n",
       "    </tr>\n",
       "    <tr>\n",
       "      <th>1</th>\n",
       "      <td>blank</td>\n",
       "      <td>STANDARD OIL &lt;SRD&gt; TO FORM FINANCIAL UNIT CLEV...</td>\n",
       "    </tr>\n",
       "    <tr>\n",
       "      <th>2</th>\n",
       "      <td>blank</td>\n",
       "      <td>TEXAS COMMERCE BANCSHARES &lt;TCB&gt; FILES PLAN HOU...</td>\n",
       "    </tr>\n",
       "    <tr>\n",
       "      <th>3</th>\n",
       "      <td>blank</td>\n",
       "      <td>TALKING POINT/BANKAMERICA &lt;BAC&gt; EQUITY OFFER b...</td>\n",
       "    </tr>\n",
       "    <tr>\n",
       "      <th>4</th>\n",
       "      <td>other</td>\n",
       "      <td>NATIONAL AVERAGE PRICES FOR FARMER-OWNED RESER...</td>\n",
       "    </tr>\n",
       "  </tbody>\n",
       "</table>\n",
       "</div>"
      ],
      "text/plain": [
       "   topic                                               text\n",
       "0  other  BAHIA COCOA REVIEW SALVADOR, Feb 26 - Showers ...\n",
       "1  blank  STANDARD OIL <SRD> TO FORM FINANCIAL UNIT CLEV...\n",
       "2  blank  TEXAS COMMERCE BANCSHARES <TCB> FILES PLAN HOU...\n",
       "3  blank  TALKING POINT/BANKAMERICA <BAC> EQUITY OFFER b...\n",
       "4  other  NATIONAL AVERAGE PRICES FOR FARMER-OWNED RESER..."
      ]
     },
     "execution_count": 182,
     "metadata": {},
     "output_type": "execute_result"
    }
   ],
   "source": [
    "df.head()"
   ]
  },
  {
   "cell_type": "code",
   "execution_count": 183,
   "metadata": {
    "colab": {
     "base_uri": "https://localhost:8080/",
     "height": 87
    },
    "execution": {
     "iopub.execute_input": "2022-02-04T21:22:14.023387Z",
     "iopub.status.busy": "2022-02-04T21:22:14.023387Z",
     "iopub.status.idle": "2022-02-04T21:22:14.037387Z",
     "shell.execute_reply": "2022-02-04T21:22:14.036386Z",
     "shell.execute_reply.started": "2022-02-04T21:22:14.023387Z"
    },
    "id": "zsI1tKuHv16m",
    "outputId": "fd5c2d0c-1fa3-4f3b-a93e-aea553a1d265"
   },
   "outputs": [
    {
     "data": {
      "text/plain": [
       "'CHAMPION PRODUCTS <CH> APPROVES STOCK SPLIT ROCHESTER, N.Y., Feb 26 - Champion Products Inc said its board of directors approved a two-for-one stock split of its common shares for shareholders of record as of April 1, 1987. The company also said its board voted to recommend to shareholders at the annual meeting April 23 an increase in the authorized capital stock from five mln to 25 mln shares. Reuter'"
      ]
     },
     "execution_count": 183,
     "metadata": {},
     "output_type": "execute_result"
    }
   ],
   "source": [
    "df.loc[8].text"
   ]
  },
  {
   "cell_type": "code",
   "execution_count": 184,
   "metadata": {
    "colab": {
     "base_uri": "https://localhost:8080/",
     "height": 35
    },
    "execution": {
     "iopub.execute_input": "2022-02-04T21:22:14.040387Z",
     "iopub.status.busy": "2022-02-04T21:22:14.039388Z",
     "iopub.status.idle": "2022-02-04T21:22:14.068386Z",
     "shell.execute_reply": "2022-02-04T21:22:14.067387Z",
     "shell.execute_reply.started": "2022-02-04T21:22:14.040387Z"
    },
    "id": "E8gtr0YAv2Bi",
    "outputId": "e8beab3a-05ec-4c67-b93b-1604f63c9804"
   },
   "outputs": [
    {
     "data": {
      "text/plain": [
       "'blank'"
      ]
     },
     "execution_count": 184,
     "metadata": {},
     "output_type": "execute_result"
    }
   ],
   "source": [
    "df.loc[1003].topic"
   ]
  },
  {
   "cell_type": "code",
   "execution_count": 185,
   "metadata": {
    "colab": {
     "base_uri": "https://localhost:8080/"
    },
    "execution": {
     "iopub.execute_input": "2022-02-04T21:22:14.070388Z",
     "iopub.status.busy": "2022-02-04T21:22:14.070388Z",
     "iopub.status.idle": "2022-02-04T21:22:14.084385Z",
     "shell.execute_reply": "2022-02-04T21:22:14.083386Z",
     "shell.execute_reply.started": "2022-02-04T21:22:14.070388Z"
    },
    "id": "W24xGlzSv2IB",
    "outputId": "613bce4b-ac04-476e-ccc2-07b0bcfbaf99"
   },
   "outputs": [
    {
     "data": {
      "text/plain": [
       "21999"
      ]
     },
     "execution_count": 185,
     "metadata": {},
     "output_type": "execute_result"
    }
   ],
   "source": [
    "len(df)"
   ]
  },
  {
   "cell_type": "markdown",
   "metadata": {
    "id": "X4rLv0xAwlB-"
   },
   "source": [
    "## Loop through texts to remove stopwords, tokenize and lemmatize"
   ]
  },
  {
   "cell_type": "code",
   "execution_count": 186,
   "metadata": {
    "execution": {
     "iopub.execute_input": "2022-02-04T21:22:14.086386Z",
     "iopub.status.busy": "2022-02-04T21:22:14.086386Z",
     "iopub.status.idle": "2022-02-04T21:22:14.100383Z",
     "shell.execute_reply": "2022-02-04T21:22:14.099381Z",
     "shell.execute_reply.started": "2022-02-04T21:22:14.086386Z"
    },
    "id": "F0D-T1Vnv2Nh"
   },
   "outputs": [],
   "source": [
    "stopwords_list = stopwords.words('english') + list(string.punctuation) + ['...']"
   ]
  },
  {
   "cell_type": "markdown",
   "metadata": {
    "id": "Tpt0ibvLw8rA"
   },
   "source": [
    "I think the stock symbols might be important for modeling, so this function will take them out, and I'll stick them at the end of text after tokenizing. If I tokenize the tickers, it will remove '<>'."
   ]
  },
  {
   "cell_type": "code",
   "execution_count": 187,
   "metadata": {
    "execution": {
     "iopub.execute_input": "2022-02-04T21:22:14.101384Z",
     "iopub.status.busy": "2022-02-04T21:22:14.100383Z",
     "iopub.status.idle": "2022-02-04T21:22:14.116383Z",
     "shell.execute_reply": "2022-02-04T21:22:14.115382Z",
     "shell.execute_reply.started": "2022-02-04T21:22:14.101384Z"
    },
    "id": "VfGXKA1Ev2SZ"
   },
   "outputs": [],
   "source": [
    "def reserve_tickers(string):\n",
    "    tickers = re.findall(\"\\<\\w+>\", string)\n",
    "    string = re.sub(\"\\<\\w+>\", \"\", string)\n",
    "    \n",
    "    return tickers, string"
   ]
  },
  {
   "cell_type": "code",
   "execution_count": 188,
   "metadata": {
    "execution": {
     "iopub.execute_input": "2022-02-04T21:22:14.117384Z",
     "iopub.status.busy": "2022-02-04T21:22:14.117384Z",
     "iopub.status.idle": "2022-02-04T21:22:14.162388Z",
     "shell.execute_reply": "2022-02-04T21:22:14.161385Z",
     "shell.execute_reply.started": "2022-02-04T21:22:14.117384Z"
    },
    "id": "3oYSrzBDv2XH"
   },
   "outputs": [],
   "source": [
    "def process_text(text):\n",
    "    \n",
    "    tickers, text = reserve_tickers(text)\n",
    "    \n",
    "    tokens = nltk.word_tokenize(text)\n",
    "    stopwords_removed = [token.lower() for token in tokens if token.lower() not in stopwords_list]\n",
    "    \n",
    "    # adding line to remove all tokens with numbers and punctuation\n",
    "    stopwords_punc_and_numbers_removed = [word for word in stopwords_removed if word.isalpha()]\n",
    "    \n",
    "    return stopwords_punc_and_numbers_removed + tickers\n",
    "\n",
    "# function to concatenate a list of words into a single, space-separated string (used in function below)\n",
    "def concat_words(list_of_words):\n",
    "\n",
    "    concat_words = ''\n",
    "    for word in list_of_words:\n",
    "        concat_words += word + ' '\n",
    "    return concat_words.strip()\n",
    "\n",
    "# function to lemmatize words and merge each text into a single, space-separated string\n",
    "\n",
    "lemm = WordNetLemmatizer()\n",
    "\n",
    "def make_lemma_and_concat(list_of_words):\n",
    "    # remove any NaN's\n",
    "    list_of_words = [i for i in list_of_words if i is not np.nan]\n",
    "    \n",
    "    # lemmatize each word\n",
    "    lemmatized_list = []\n",
    "    for idx, word in enumerate(list_of_words):\n",
    "        lemmatized_list.append(lemm.lemmatize(word))\n",
    "    \n",
    "    # make the list into a single string \n",
    "    concatenated_string = concat_words(lemmatized_list)\n",
    "    return concatenated_string"
   ]
  },
  {
   "cell_type": "markdown",
   "metadata": {
    "id": "TWHKRqRBxGSO"
   },
   "source": [
    "## Prepare dataframe for modeling"
   ]
  },
  {
   "cell_type": "code",
   "execution_count": 189,
   "metadata": {
    "execution": {
     "iopub.execute_input": "2022-02-04T21:22:14.164389Z",
     "iopub.status.busy": "2022-02-04T21:22:14.164389Z",
     "iopub.status.idle": "2022-02-04T21:22:14.179391Z",
     "shell.execute_reply": "2022-02-04T21:22:14.177387Z",
     "shell.execute_reply.started": "2022-02-04T21:22:14.164389Z"
    }
   },
   "outputs": [
    {
     "data": {
      "text/html": [
       "<div>\n",
       "<style scoped>\n",
       "    .dataframe tbody tr th:only-of-type {\n",
       "        vertical-align: middle;\n",
       "    }\n",
       "\n",
       "    .dataframe tbody tr th {\n",
       "        vertical-align: top;\n",
       "    }\n",
       "\n",
       "    .dataframe thead th {\n",
       "        text-align: right;\n",
       "    }\n",
       "</style>\n",
       "<table border=\"1\" class=\"dataframe\">\n",
       "  <thead>\n",
       "    <tr style=\"text-align: right;\">\n",
       "      <th></th>\n",
       "      <th>topic</th>\n",
       "      <th>text</th>\n",
       "    </tr>\n",
       "  </thead>\n",
       "  <tbody>\n",
       "    <tr>\n",
       "      <th>14790</th>\n",
       "      <td>other</td>\n",
       "      <td>SOUTH AFRICAN GOLD HOLDINGS RISE IN MARCH PRET...</td>\n",
       "    </tr>\n",
       "    <tr>\n",
       "      <th>14791</th>\n",
       "      <td>blank</td>\n",
       "      <td>IOM OPTIONS OPEN INTEREST FOR April 6 OPEN CHA...</td>\n",
       "    </tr>\n",
       "    <tr>\n",
       "      <th>14793</th>\n",
       "      <td>blank</td>\n",
       "      <td>HOTEL INVESTORS &lt;HOT&gt; HOLDERS APPROVE STOCK SA...</td>\n",
       "    </tr>\n",
       "  </tbody>\n",
       "</table>\n",
       "</div>"
      ],
      "text/plain": [
       "       topic                                               text\n",
       "14790  other  SOUTH AFRICAN GOLD HOLDINGS RISE IN MARCH PRET...\n",
       "14791  blank  IOM OPTIONS OPEN INTEREST FOR April 6 OPEN CHA...\n",
       "14793  blank  HOTEL INVESTORS <HOT> HOLDERS APPROVE STOCK SA..."
      ]
     },
     "execution_count": 189,
     "metadata": {},
     "output_type": "execute_result"
    }
   ],
   "source": [
    "df.iloc[14790:14793]"
   ]
  },
  {
   "cell_type": "code",
   "execution_count": 190,
   "metadata": {
    "colab": {
     "base_uri": "https://localhost:8080/",
     "height": 345
    },
    "execution": {
     "iopub.execute_input": "2022-02-04T21:22:14.181398Z",
     "iopub.status.busy": "2022-02-04T21:22:14.181398Z",
     "iopub.status.idle": "2022-02-04T21:23:02.405643Z",
     "shell.execute_reply": "2022-02-04T21:23:02.404693Z",
     "shell.execute_reply.started": "2022-02-04T21:22:14.181398Z"
    },
    "id": "cyq18Hazv2b1",
    "outputId": "b0899aa2-8d83-46b5-c508-6fb5227e4e77"
   },
   "outputs": [
    {
     "name": "stdout",
     "output_type": "stream",
     "text": [
      "Finished line number 0\n",
      "Finished line number 3000\n",
      "Finished line number 6000\n",
      "Finished line number 9000\n",
      "Finished line number 12000\n",
      "Finished line number 15000\n",
      "Finished line number 18000\n",
      "Finished line number 21000\n"
     ]
    },
    {
     "data": {
      "text/html": [
       "<div>\n",
       "<style scoped>\n",
       "    .dataframe tbody tr th:only-of-type {\n",
       "        vertical-align: middle;\n",
       "    }\n",
       "\n",
       "    .dataframe tbody tr th {\n",
       "        vertical-align: top;\n",
       "    }\n",
       "\n",
       "    .dataframe thead th {\n",
       "        text-align: right;\n",
       "    }\n",
       "</style>\n",
       "<table border=\"1\" class=\"dataframe\">\n",
       "  <thead>\n",
       "    <tr style=\"text-align: right;\">\n",
       "      <th></th>\n",
       "      <th>topic</th>\n",
       "      <th>text</th>\n",
       "    </tr>\n",
       "  </thead>\n",
       "  <tbody>\n",
       "    <tr>\n",
       "      <th>0</th>\n",
       "      <td>other</td>\n",
       "      <td>bahia cocoa review salvador feb shower continu...</td>\n",
       "    </tr>\n",
       "    <tr>\n",
       "      <th>1</th>\n",
       "      <td>blank</td>\n",
       "      <td>standard oil form financial unit cleveland feb...</td>\n",
       "    </tr>\n",
       "    <tr>\n",
       "      <th>2</th>\n",
       "      <td>blank</td>\n",
       "      <td>texas commerce bancshares file plan houston fe...</td>\n",
       "    </tr>\n",
       "    <tr>\n",
       "      <th>3</th>\n",
       "      <td>blank</td>\n",
       "      <td>talking equity offer janie gabbett reuters los...</td>\n",
       "    </tr>\n",
       "    <tr>\n",
       "      <th>4</th>\n",
       "      <td>other</td>\n",
       "      <td>national average price reserve washington feb ...</td>\n",
       "    </tr>\n",
       "  </tbody>\n",
       "</table>\n",
       "</div>"
      ],
      "text/plain": [
       "   topic                                               text\n",
       "0  other  bahia cocoa review salvador feb shower continu...\n",
       "1  blank  standard oil form financial unit cleveland feb...\n",
       "2  blank  texas commerce bancshares file plan houston fe...\n",
       "3  blank  talking equity offer janie gabbett reuters los...\n",
       "4  other  national average price reserve washington feb ..."
      ]
     },
     "execution_count": 190,
     "metadata": {},
     "output_type": "execute_result"
    }
   ],
   "source": [
    "for i in range(len(df)):\n",
    "    # there's was something about 14792 that was throwing an error and breaking the loop \n",
    "    if i != 14792:\n",
    "        processed_text = process_text(df['text'].loc[i])\n",
    "        txt = make_lemma_and_concat(processed_text)\n",
    "        df['text'].loc[i] = txt\n",
    "        if i % 3000 == 0:\n",
    "            print(f'Finished line number {i}')\n",
    "df.head()"
   ]
  },
  {
   "cell_type": "code",
   "execution_count": 191,
   "metadata": {
    "colab": {
     "base_uri": "https://localhost:8080/",
     "height": 70
    },
    "execution": {
     "iopub.execute_input": "2022-02-04T21:23:02.407643Z",
     "iopub.status.busy": "2022-02-04T21:23:02.406643Z",
     "iopub.status.idle": "2022-02-04T21:23:02.421650Z",
     "shell.execute_reply": "2022-02-04T21:23:02.420645Z",
     "shell.execute_reply.started": "2022-02-04T21:23:02.407643Z"
    },
    "id": "57sj1jxFv2gW",
    "outputId": "aaf2676c-5396-4e0e-88e0-b941543e15cc"
   },
   "outputs": [
    {
     "data": {
      "text/plain": [
       "'standard oil form financial unit cleveland feb standard oil co bp north america inc said plan form venture manage money market borrowing investment activity company bp north america subsidiary british petroleum co plc also owns pct interest standard oil venture called financial trading operated standard oil oversight joint management committee reuter <SRD> <BP>'"
      ]
     },
     "execution_count": 191,
     "metadata": {},
     "output_type": "execute_result"
    }
   ],
   "source": [
    "df.iloc[1].text"
   ]
  },
  {
   "cell_type": "code",
   "execution_count": 192,
   "metadata": {
    "colab": {
     "base_uri": "https://localhost:8080/"
    },
    "execution": {
     "iopub.execute_input": "2022-02-04T21:23:02.422643Z",
     "iopub.status.busy": "2022-02-04T21:23:02.422643Z",
     "iopub.status.idle": "2022-02-04T21:23:02.437643Z",
     "shell.execute_reply": "2022-02-04T21:23:02.436668Z",
     "shell.execute_reply.started": "2022-02-04T21:23:02.422643Z"
    },
    "id": "tOrBwS_Fv2k7",
    "outputId": "b2377fe2-313f-475f-c5cb-a42bbe7b728f"
   },
   "outputs": [
    {
     "data": {
      "text/plain": [
       "21999"
      ]
     },
     "execution_count": 192,
     "metadata": {},
     "output_type": "execute_result"
    }
   ],
   "source": [
    "len(df)"
   ]
  },
  {
   "cell_type": "markdown",
   "metadata": {
    "id": "8rIXNpahxurp"
   },
   "source": [
    "Save this dataframe\n"
   ]
  },
  {
   "cell_type": "code",
   "execution_count": 193,
   "metadata": {
    "execution": {
     "iopub.execute_input": "2022-02-04T21:23:02.439646Z",
     "iopub.status.busy": "2022-02-04T21:23:02.438648Z",
     "iopub.status.idle": "2022-02-04T21:23:02.829643Z",
     "shell.execute_reply": "2022-02-04T21:23:02.828686Z",
     "shell.execute_reply.started": "2022-02-04T21:23:02.439646Z"
    },
    "id": "dqbpNuYQv2pi"
   },
   "outputs": [],
   "source": [
    "df.to_csv('data_files/' + 'text_processed.csv', index=False)"
   ]
  },
  {
   "cell_type": "markdown",
   "metadata": {
    "id": "wzr84ahVv2uE"
   },
   "source": [
    "# Baseline modeling"
   ]
  },
  {
   "cell_type": "code",
   "execution_count": 194,
   "metadata": {
    "execution": {
     "iopub.execute_input": "2022-02-04T21:23:02.830642Z",
     "iopub.status.busy": "2022-02-04T21:23:02.830642Z",
     "iopub.status.idle": "2022-02-04T21:23:03.271643Z",
     "shell.execute_reply": "2022-02-04T21:23:03.270706Z",
     "shell.execute_reply.started": "2022-02-04T21:23:02.830642Z"
    },
    "id": "iBq7XDB5v2yb"
   },
   "outputs": [],
   "source": [
    "import numpy as np\n",
    "import pandas as pd\n",
    "\n",
    "\n",
    "from sklearn.feature_extraction.text import TfidfVectorizer, CountVectorizer\n",
    "\n",
    "from sklearn.model_selection import train_test_split, GridSearchCV, cross_val_score\n",
    "from sklearn.metrics import classification_report, accuracy_score, confusion_matrix, recall_score, precision_score, f1_score\n",
    "from sklearn.metrics import plot_confusion_matrix\n",
    "from sklearn.metrics import confusion_matrix\n",
    "from sklearn.metrics import ConfusionMatrixDisplay\n",
    "\n",
    "from sklearn.model_selection import train_test_split\n",
    "from sklearn.feature_extraction.text import TfidfVectorizer, CountVectorizer\n",
    "from sklearn.naive_bayes import MultinomialNB\n",
    "from sklearn.ensemble import RandomForestClassifier\n",
    "from sklearn.tree import DecisionTreeClassifier\n",
    "from sklearn.neighbors import KNeighborsClassifier\n",
    "from sklearn.ensemble import GradientBoostingClassifier\n",
    "from xgboost import XGBClassifier\n",
    "from sklearn.pipeline import Pipeline\n",
    "\n",
    "import time\n",
    "import matplotlib.pyplot as plt"
   ]
  },
  {
   "cell_type": "markdown",
   "metadata": {
    "id": "pRe5yH2xzHza"
   },
   "source": [
    "Add functions for scoring models"
   ]
  },
  {
   "cell_type": "code",
   "execution_count": 195,
   "metadata": {
    "execution": {
     "iopub.execute_input": "2022-02-04T21:23:03.272667Z",
     "iopub.status.busy": "2022-02-04T21:23:03.271643Z",
     "iopub.status.idle": "2022-02-04T21:23:03.287642Z",
     "shell.execute_reply": "2022-02-04T21:23:03.286641Z",
     "shell.execute_reply.started": "2022-02-04T21:23:03.272667Z"
    },
    "id": "tXEiCMaW5cB6"
   },
   "outputs": [],
   "source": [
    "def scoring(y_real, y_pred, X_data): # change y_test to y_real\n",
    "    # Calculates and prints scores for the model\n",
    "    accuracy = accuracy_score(y_real, y_pred)\n",
    "    precision = precision_score(y_real, y_pred, average='macro')\n",
    "    recall = recall_score(y_real, y_pred, average='macro')\n",
    "    f1 = f1_score(y_real, y_pred, average='macro')\n",
    "\n",
    "    print(\"Accuracy: {:.1%}\".format(accuracy))\n",
    "    print(\"Precision: {:.1%}\".format(precision))\n",
    "    print(\"Recall: {:.1%}\".format(recall))\n",
    "    print(\"F1: {:.1%}\".format(f1))\n",
    "\n",
    "    print('\\n')\n",
    "    print(\"Classification Report\")\n",
    "    print('\\n')\n",
    "    print(classification_report(y_real, y_pred))\n",
    "    cm = confusion_matrix(y_real, y_pred)\n",
    "    disp = ConfusionMatrixDisplay(confusion_matrix=cm)\n",
    "    disp.plot()\n",
    "    plt.show()\n"
   ]
  },
  {
   "cell_type": "code",
   "execution_count": 197,
   "metadata": {
    "execution": {
     "iopub.execute_input": "2022-02-04T21:31:17.516285Z",
     "iopub.status.busy": "2022-02-04T21:31:17.516285Z",
     "iopub.status.idle": "2022-02-04T21:31:17.712290Z",
     "shell.execute_reply": "2022-02-04T21:31:17.711310Z",
     "shell.execute_reply.started": "2022-02-04T21:31:17.516285Z"
    },
    "id": "RGLbDIyp2C8a"
   },
   "outputs": [],
   "source": [
    "df = pd.read_csv('data_files/' + 'text_processed.csv')"
   ]
  },
  {
   "cell_type": "code",
   "execution_count": 198,
   "metadata": {
    "colab": {
     "base_uri": "https://localhost:8080/"
    },
    "execution": {
     "iopub.execute_input": "2022-02-04T21:31:25.634614Z",
     "iopub.status.busy": "2022-02-04T21:31:25.634614Z",
     "iopub.status.idle": "2022-02-04T21:31:25.650614Z",
     "shell.execute_reply": "2022-02-04T21:31:25.649609Z",
     "shell.execute_reply.started": "2022-02-04T21:31:25.634614Z"
    },
    "id": "7i5SYBqw2C_2",
    "outputId": "78efce44-fcfb-478a-c0d8-696a77c7c6e3"
   },
   "outputs": [
    {
     "data": {
      "text/plain": [
       "(21999, 2)"
      ]
     },
     "execution_count": 198,
     "metadata": {},
     "output_type": "execute_result"
    }
   ],
   "source": [
    "df.shape"
   ]
  },
  {
   "cell_type": "markdown",
   "metadata": {
    "id": "Hl1cFUtB2DFo"
   },
   "source": [
    "## Change topic names to integers"
   ]
  },
  {
   "cell_type": "code",
   "execution_count": 199,
   "metadata": {
    "colab": {
     "base_uri": "https://localhost:8080/"
    },
    "execution": {
     "iopub.execute_input": "2022-02-04T21:31:25.652614Z",
     "iopub.status.busy": "2022-02-04T21:31:25.651616Z",
     "iopub.status.idle": "2022-02-04T21:31:25.681615Z",
     "shell.execute_reply": "2022-02-04T21:31:25.680609Z",
     "shell.execute_reply.started": "2022-02-04T21:31:25.652614Z"
    },
    "id": "Uk1iV--o2DcQ",
    "outputId": "353493f9-20c2-41fc-c06a-4c9e340b2b32"
   },
   "outputs": [
    {
     "data": {
      "text/plain": [
       "array(['other', 'blank', 'earn'], dtype=object)"
      ]
     },
     "execution_count": 199,
     "metadata": {},
     "output_type": "execute_result"
    }
   ],
   "source": [
    "df.topic.unique()"
   ]
  },
  {
   "cell_type": "code",
   "execution_count": 200,
   "metadata": {
    "colab": {
     "base_uri": "https://localhost:8080/"
    },
    "execution": {
     "iopub.execute_input": "2022-02-04T21:31:25.683613Z",
     "iopub.status.busy": "2022-02-04T21:31:25.683613Z",
     "iopub.status.idle": "2022-02-04T21:31:25.729614Z",
     "shell.execute_reply": "2022-02-04T21:31:25.728613Z",
     "shell.execute_reply.started": "2022-02-04T21:31:25.683613Z"
    },
    "id": "VATL_pHQ2DgE",
    "outputId": "aa3adb05-529d-4ad8-a606-21526e4505f9"
   },
   "outputs": [
    {
     "data": {
      "text/plain": [
       "array([2, 3, 1], dtype=int64)"
      ]
     },
     "execution_count": 200,
     "metadata": {},
     "output_type": "execute_result"
    }
   ],
   "source": [
    "topic_dict = {'earn': 1, 'other': 2, 'blank': 3}\n",
    "df.topic.replace(topic_dict, inplace=True)\n",
    "df.topic.unique()"
   ]
  },
  {
   "cell_type": "code",
   "execution_count": 201,
   "metadata": {
    "colab": {
     "base_uri": "https://localhost:8080/"
    },
    "execution": {
     "iopub.execute_input": "2022-02-04T21:31:25.731613Z",
     "iopub.status.busy": "2022-02-04T21:31:25.730613Z",
     "iopub.status.idle": "2022-02-04T21:31:25.873616Z",
     "shell.execute_reply": "2022-02-04T21:31:25.871618Z",
     "shell.execute_reply.started": "2022-02-04T21:31:25.731613Z"
    },
    "id": "knNPQleu2DkP",
    "outputId": "497eb084-a95c-4f84-b9e9-eb328f8956fb"
   },
   "outputs": [
    {
     "name": "stdout",
     "output_type": "stream",
     "text": [
      "Topic 1: 18.31%\n",
      "Topic 2: 34.19%\n",
      "Topic 3: 47.5%\n"
     ]
    }
   ],
   "source": [
    "print(f\"Topic 1: {round((sum(df.topic == 1)/len(df.topic)) *100, 2)}%\")\n",
    "print(f\"Topic 2: {round((sum(df.topic == 2)/len(df.topic)) *100, 2)}%\")\n",
    "print(f\"Topic 3: {round((sum(df.topic == 3)/len(df.topic)) *100, 2)}%\")"
   ]
  },
  {
   "cell_type": "markdown",
   "metadata": {
    "id": "qyIgUOFQ2Dog"
   },
   "source": [
    "## Train-Test Split"
   ]
  },
  {
   "cell_type": "code",
   "execution_count": 202,
   "metadata": {
    "execution": {
     "iopub.execute_input": "2022-02-04T21:31:25.875617Z",
     "iopub.status.busy": "2022-02-04T21:31:25.874617Z",
     "iopub.status.idle": "2022-02-04T21:31:25.920618Z",
     "shell.execute_reply": "2022-02-04T21:31:25.919615Z",
     "shell.execute_reply.started": "2022-02-04T21:31:25.875617Z"
    },
    "id": "s6xKhJJC2Dq_"
   },
   "outputs": [],
   "source": [
    "X = df.drop(['topic'], axis=1)\n",
    "y = df['topic']\n",
    "\n",
    "X_train, X_test, y_train, y_test = train_test_split(X['text'], y, test_size=0.20, random_state=200)"
   ]
  },
  {
   "cell_type": "code",
   "execution_count": 203,
   "metadata": {
    "colab": {
     "base_uri": "https://localhost:8080/"
    },
    "execution": {
     "iopub.execute_input": "2022-02-04T21:31:25.923619Z",
     "iopub.status.busy": "2022-02-04T21:31:25.922619Z",
     "iopub.status.idle": "2022-02-04T21:31:25.952612Z",
     "shell.execute_reply": "2022-02-04T21:31:25.951616Z",
     "shell.execute_reply.started": "2022-02-04T21:31:25.923619Z"
    },
    "id": "SdAygxRJ2Dv1",
    "outputId": "a30899b1-2938-4bea-9a5d-f5b954835d47"
   },
   "outputs": [
    {
     "data": {
      "text/plain": [
       "6545     kenan transport co set quarterly chapel hill m...\n",
       "13851    canrad acquires measurement system newark apri...\n",
       "18917    japan highway corp plan issue ecu bond tokyo j...\n",
       "21937    house say reagan concerned stock drop convince...\n",
       "19340    ball corp completes acquisition muncie june ba...\n",
       "                               ...                        \n",
       "9036     guest supply get shareholder suit north brunsw...\n",
       "14007    fhlbb say mortgage rate continue decline washi...\n",
       "784      anchor glass cleared listed nyse tampa march a...\n",
       "12905    national intergroup unit file offer pittsburgh...\n",
       "1818     siemens ag unit begin making system boca raton...\n",
       "Name: text, Length: 17599, dtype: object"
      ]
     },
     "execution_count": 203,
     "metadata": {},
     "output_type": "execute_result"
    }
   ],
   "source": [
    "X_train"
   ]
  },
  {
   "cell_type": "code",
   "execution_count": 204,
   "metadata": {
    "colab": {
     "base_uri": "https://localhost:8080/"
    },
    "execution": {
     "iopub.execute_input": "2022-02-04T21:31:25.953612Z",
     "iopub.status.busy": "2022-02-04T21:31:25.953612Z",
     "iopub.status.idle": "2022-02-04T21:31:25.968612Z",
     "shell.execute_reply": "2022-02-04T21:31:25.967611Z",
     "shell.execute_reply.started": "2022-02-04T21:31:25.953612Z"
    },
    "id": "eDWxIkHF2Dyb",
    "outputId": "eab0d832-77c7-4392-b174-c5b7e2ad235d"
   },
   "outputs": [
    {
     "data": {
      "text/plain": [
       "6545     1\n",
       "13851    2\n",
       "18917    3\n",
       "21937    3\n",
       "19340    2\n",
       "        ..\n",
       "9036     3\n",
       "14007    2\n",
       "784      3\n",
       "12905    3\n",
       "1818     3\n",
       "Name: topic, Length: 17599, dtype: int64"
      ]
     },
     "execution_count": 204,
     "metadata": {},
     "output_type": "execute_result"
    }
   ],
   "source": [
    "y_train"
   ]
  },
  {
   "cell_type": "code",
   "execution_count": 205,
   "metadata": {
    "colab": {
     "base_uri": "https://localhost:8080/"
    },
    "execution": {
     "iopub.execute_input": "2022-02-04T21:31:25.969613Z",
     "iopub.status.busy": "2022-02-04T21:31:25.969613Z",
     "iopub.status.idle": "2022-02-04T21:31:25.984612Z",
     "shell.execute_reply": "2022-02-04T21:31:25.983609Z",
     "shell.execute_reply.started": "2022-02-04T21:31:25.969613Z"
    },
    "id": "T630aeNe2EED",
    "outputId": "17b5319c-52f3-4473-edba-52a9c04d8b5a"
   },
   "outputs": [
    {
     "name": "stdout",
     "output_type": "stream",
     "text": [
      "(4400,)\n"
     ]
    },
    {
     "data": {
      "text/plain": [
       "(17599,)"
      ]
     },
     "execution_count": 205,
     "metadata": {},
     "output_type": "execute_result"
    }
   ],
   "source": [
    "print(X_test.shape)\n",
    "X_train.shape"
   ]
  },
  {
   "cell_type": "markdown",
   "metadata": {
    "id": "UnWHRCl42EIw"
   },
   "source": [
    "## TF-IDF"
   ]
  },
  {
   "cell_type": "markdown",
   "metadata": {
    "id": "P1qst3s72ENt"
   },
   "source": [
    "### Instatiate training set"
   ]
  },
  {
   "cell_type": "code",
   "execution_count": 206,
   "metadata": {
    "execution": {
     "iopub.execute_input": "2022-02-04T21:31:25.988613Z",
     "iopub.status.busy": "2022-02-04T21:31:25.987617Z",
     "iopub.status.idle": "2022-02-04T21:31:33.448184Z",
     "shell.execute_reply": "2022-02-04T21:31:33.447215Z",
     "shell.execute_reply.started": "2022-02-04T21:31:25.987617Z"
    },
    "id": "fp9pixk02EQU"
   },
   "outputs": [],
   "source": [
    "vectorizer = TfidfVectorizer(ngram_range=(1,2))\n",
    "# vect_X_train = vectorizer.fit_transform(X_train)\n",
    "vect_X_train = vectorizer.fit_transform(X_train.values.astype(str))\n",
    "# feature_names =  vectorizer.get_feature_names_out()\n",
    "feature_names =  vectorizer.get_feature_names()"
   ]
  },
  {
   "cell_type": "code",
   "execution_count": 207,
   "metadata": {
    "colab": {
     "base_uri": "https://localhost:8080/"
    },
    "execution": {
     "iopub.execute_input": "2022-02-04T21:31:33.450182Z",
     "iopub.status.busy": "2022-02-04T21:31:33.450182Z",
     "iopub.status.idle": "2022-02-04T21:31:33.464182Z",
     "shell.execute_reply": "2022-02-04T21:31:33.463216Z",
     "shell.execute_reply.started": "2022-02-04T21:31:33.450182Z"
    },
    "id": "DCLYi4y42EVj",
    "outputId": "0e59e75c-89c9-4e63-b4a3-d67aa92536be"
   },
   "outputs": [
    {
     "data": {
      "text/plain": [
       "602834"
      ]
     },
     "execution_count": 207,
     "metadata": {},
     "output_type": "execute_result"
    }
   ],
   "source": [
    "len(feature_names)"
   ]
  },
  {
   "cell_type": "code",
   "execution_count": 208,
   "metadata": {
    "colab": {
     "base_uri": "https://localhost:8080/"
    },
    "execution": {
     "iopub.execute_input": "2022-02-04T21:31:33.464182Z",
     "iopub.status.busy": "2022-02-04T21:31:33.464182Z",
     "iopub.status.idle": "2022-02-04T21:31:34.043226Z",
     "shell.execute_reply": "2022-02-04T21:31:34.042225Z",
     "shell.execute_reply.started": "2022-02-04T21:31:33.464182Z"
    },
    "id": "0lUZcbPU2EYH",
    "outputId": "6bdbfeb9-feaf-4ade-8246-e7affcc68cac"
   },
   "outputs": [
    {
     "data": {
      "text/plain": [
       "(17599, 602834)"
      ]
     },
     "execution_count": 208,
     "metadata": {},
     "output_type": "execute_result"
    }
   ],
   "source": [
    "vect_X_train.shape"
   ]
  },
  {
   "cell_type": "markdown",
   "metadata": {
    "id": "rvQ9I8Zh2Eag"
   },
   "source": [
    "Use `fit_transform()` on training data and `transform()` on test data. The model has already been fit on the training data, so you don't want to fit it again."
   ]
  },
  {
   "cell_type": "code",
   "execution_count": 209,
   "metadata": {
    "execution": {
     "iopub.execute_input": "2022-02-04T21:31:34.044227Z",
     "iopub.status.busy": "2022-02-04T21:31:34.044227Z",
     "iopub.status.idle": "2022-02-04T21:31:34.893227Z",
     "shell.execute_reply": "2022-02-04T21:31:34.892261Z",
     "shell.execute_reply.started": "2022-02-04T21:31:34.044227Z"
    },
    "id": "_bBGk7Zg2Edf"
   },
   "outputs": [],
   "source": [
    "vect_X_test = vectorizer.transform(X_test)"
   ]
  },
  {
   "cell_type": "markdown",
   "metadata": {
    "id": "Oah0dHOC2Eku"
   },
   "source": [
    "## Create models"
   ]
  },
  {
   "cell_type": "markdown",
   "metadata": {
    "id": "axoJhbcf3nkO"
   },
   "source": [
    "### Naive Bayes\n"
   ]
  },
  {
   "cell_type": "markdown",
   "metadata": {
    "id": "nqBMTKtT3nuW"
   },
   "source": [
    "Instantiate new model instance. Fit the model to all the training data.\n"
   ]
  },
  {
   "cell_type": "code",
   "execution_count": 210,
   "metadata": {
    "colab": {
     "base_uri": "https://localhost:8080/"
    },
    "execution": {
     "iopub.execute_input": "2022-02-04T21:31:34.894225Z",
     "iopub.status.busy": "2022-02-04T21:31:34.893227Z",
     "iopub.status.idle": "2022-02-04T21:31:35.067226Z",
     "shell.execute_reply": "2022-02-04T21:31:35.065227Z",
     "shell.execute_reply.started": "2022-02-04T21:31:34.894225Z"
    },
    "id": "L1I2R0LX3nyu",
    "outputId": "3787824a-c515-4f5b-829f-8458498fc4bf"
   },
   "outputs": [
    {
     "data": {
      "text/plain": [
       "MultinomialNB()"
      ]
     },
     "execution_count": 210,
     "metadata": {},
     "output_type": "execute_result"
    }
   ],
   "source": [
    "cls = MultinomialNB()\n",
    "cls.fit(vect_X_train, y_train)"
   ]
  },
  {
   "cell_type": "markdown",
   "metadata": {
    "id": "6cLgQpzD3n21"
   },
   "source": [
    "Now that the model has been trained on the vectorized training data, see how it will predict classes from that test data."
   ]
  },
  {
   "cell_type": "code",
   "execution_count": 211,
   "metadata": {
    "execution": {
     "iopub.execute_input": "2022-02-04T21:31:35.068227Z",
     "iopub.status.busy": "2022-02-04T21:31:35.068227Z",
     "iopub.status.idle": "2022-02-04T21:31:35.160226Z",
     "shell.execute_reply": "2022-02-04T21:31:35.159227Z",
     "shell.execute_reply.started": "2022-02-04T21:31:35.068227Z"
    },
    "id": "09a3gMfV3n6J"
   },
   "outputs": [],
   "source": [
    "y_pred = cls.predict(vect_X_train)"
   ]
  },
  {
   "cell_type": "code",
   "execution_count": 212,
   "metadata": {
    "colab": {
     "base_uri": "https://localhost:8080/"
    },
    "execution": {
     "iopub.execute_input": "2022-02-04T21:31:35.163227Z",
     "iopub.status.busy": "2022-02-04T21:31:35.162227Z",
     "iopub.status.idle": "2022-02-04T21:31:35.176225Z",
     "shell.execute_reply": "2022-02-04T21:31:35.175226Z",
     "shell.execute_reply.started": "2022-02-04T21:31:35.163227Z"
    },
    "id": "5jh9zttg3n91",
    "outputId": "712ef25f-249f-45f3-9e88-7a330c5d9dc1"
   },
   "outputs": [
    {
     "data": {
      "text/plain": [
       "array([1, 2, 3], dtype=int64)"
      ]
     },
     "execution_count": 212,
     "metadata": {},
     "output_type": "execute_result"
    }
   ],
   "source": [
    "np.unique(y_pred)"
   ]
  },
  {
   "cell_type": "markdown",
   "metadata": {
    "id": "YoSg8lFY3oBV"
   },
   "source": [
    "Compare how accurate the real test data is to what the model predicted"
   ]
  },
  {
   "cell_type": "code",
   "execution_count": 213,
   "metadata": {
    "colab": {
     "base_uri": "https://localhost:8080/",
     "height": 35
    },
    "execution": {
     "iopub.execute_input": "2022-02-04T21:31:35.178228Z",
     "iopub.status.busy": "2022-02-04T21:31:35.177225Z",
     "iopub.status.idle": "2022-02-04T21:31:35.209229Z",
     "shell.execute_reply": "2022-02-04T21:31:35.207228Z",
     "shell.execute_reply.started": "2022-02-04T21:31:35.178228Z"
    },
    "id": "N6H07WQk3oE0",
    "outputId": "7e64bff1-e9ac-43a6-80d1-28fd1ff5d2b7"
   },
   "outputs": [
    {
     "data": {
      "text/plain": [
       "'The accuracy score is: 89.24%'"
      ]
     },
     "execution_count": 213,
     "metadata": {},
     "output_type": "execute_result"
    }
   ],
   "source": [
    "f'The accuracy score is: {round(accuracy_score(y_train, y_pred)*100, 2)}%'"
   ]
  },
  {
   "cell_type": "code",
   "execution_count": 214,
   "metadata": {
    "colab": {
     "base_uri": "https://localhost:8080/",
     "height": 611
    },
    "execution": {
     "iopub.execute_input": "2022-02-04T21:31:35.212228Z",
     "iopub.status.busy": "2022-02-04T21:31:35.211228Z",
     "iopub.status.idle": "2022-02-04T21:31:35.795226Z",
     "shell.execute_reply": "2022-02-04T21:31:35.794223Z",
     "shell.execute_reply.started": "2022-02-04T21:31:35.212228Z"
    },
    "id": "YmFKEeel3oIH",
    "outputId": "4dc27f97-325c-4ad2-d917-c0429e27c20f"
   },
   "outputs": [
    {
     "name": "stdout",
     "output_type": "stream",
     "text": [
      "Accuracy: 89.2%\n",
      "Precision: 91.7%\n",
      "Recall: 86.7%\n",
      "F1: 88.6%\n",
      "\n",
      "\n",
      "Classification Report\n",
      "\n",
      "\n",
      "              precision    recall  f1-score   support\n",
      "\n",
      "           1       0.95      0.79      0.86      3253\n",
      "           2       0.97      0.85      0.90      5990\n",
      "           3       0.84      0.97      0.90      8356\n",
      "\n",
      "    accuracy                           0.89     17599\n",
      "   macro avg       0.92      0.87      0.89     17599\n",
      "weighted avg       0.90      0.89      0.89     17599\n",
      "\n"
     ]
    },
    {
     "data": {
      "image/png": "[encoded data removed]",
      "text/plain": [
       "<Figure size 432x288 with 2 Axes>"
      ]
     },
     "metadata": {
      "needs_background": "light"
     },
     "output_type": "display_data"
    }
   ],
   "source": [
    "scoring(y_train, y_pred, vect_X_train)"
   ]
  },
  {
   "cell_type": "markdown",
   "metadata": {
    "id": "zcv_FoTb3oLj"
   },
   "source": [
    "Pretty good!"
   ]
  },
  {
   "cell_type": "markdown",
   "metadata": {
    "id": "_UAYK6jl3oPF"
   },
   "source": [
    "Try it when merging 'blank' and 'other' into one topic "
   ]
  },
  {
   "cell_type": "code",
   "execution_count": 216,
   "metadata": {
    "execution": {
     "iopub.execute_input": "2022-02-04T21:32:01.267567Z",
     "iopub.status.busy": "2022-02-04T21:32:01.266572Z",
     "iopub.status.idle": "2022-02-04T21:32:01.443565Z",
     "shell.execute_reply": "2022-02-04T21:32:01.442613Z",
     "shell.execute_reply.started": "2022-02-04T21:32:01.266572Z"
    },
    "id": "1tgt9i8-3oSd"
   },
   "outputs": [],
   "source": [
    "df2 = pd.read_csv('data_files/text_processed.csv')\n",
    "topic_dict = {'earn': 1, 'other': 2, 'blank': 2}\n",
    "df2.topic.replace(topic_dict, inplace=True)"
   ]
  },
  {
   "cell_type": "code",
   "execution_count": 217,
   "metadata": {
    "colab": {
     "base_uri": "https://localhost:8080/",
     "height": 363
    },
    "execution": {
     "iopub.execute_input": "2022-02-04T21:32:10.058064Z",
     "iopub.status.busy": "2022-02-04T21:32:10.058064Z",
     "iopub.status.idle": "2022-02-04T21:32:10.078064Z",
     "shell.execute_reply": "2022-02-04T21:32:10.077063Z",
     "shell.execute_reply.started": "2022-02-04T21:32:10.058064Z"
    },
    "id": "KfDj6lv53oV8",
    "outputId": "87e78096-e66a-4889-89f7-00da56405114"
   },
   "outputs": [
    {
     "data": {
      "text/html": [
       "<div>\n",
       "<style scoped>\n",
       "    .dataframe tbody tr th:only-of-type {\n",
       "        vertical-align: middle;\n",
       "    }\n",
       "\n",
       "    .dataframe tbody tr th {\n",
       "        vertical-align: top;\n",
       "    }\n",
       "\n",
       "    .dataframe thead th {\n",
       "        text-align: right;\n",
       "    }\n",
       "</style>\n",
       "<table border=\"1\" class=\"dataframe\">\n",
       "  <thead>\n",
       "    <tr style=\"text-align: right;\">\n",
       "      <th></th>\n",
       "      <th>topic</th>\n",
       "      <th>text</th>\n",
       "    </tr>\n",
       "  </thead>\n",
       "  <tbody>\n",
       "    <tr>\n",
       "      <th>0</th>\n",
       "      <td>2</td>\n",
       "      <td>bahia cocoa review salvador feb shower continu...</td>\n",
       "    </tr>\n",
       "    <tr>\n",
       "      <th>1</th>\n",
       "      <td>2</td>\n",
       "      <td>standard oil form financial unit cleveland feb...</td>\n",
       "    </tr>\n",
       "    <tr>\n",
       "      <th>2</th>\n",
       "      <td>2</td>\n",
       "      <td>texas commerce bancshares file plan houston fe...</td>\n",
       "    </tr>\n",
       "    <tr>\n",
       "      <th>3</th>\n",
       "      <td>2</td>\n",
       "      <td>talking equity offer janie gabbett reuters los...</td>\n",
       "    </tr>\n",
       "    <tr>\n",
       "      <th>4</th>\n",
       "      <td>2</td>\n",
       "      <td>national average price reserve washington feb ...</td>\n",
       "    </tr>\n",
       "    <tr>\n",
       "      <th>5</th>\n",
       "      <td>2</td>\n",
       "      <td>argentine registration buenos aire feb argenti...</td>\n",
       "    </tr>\n",
       "    <tr>\n",
       "      <th>6</th>\n",
       "      <td>2</td>\n",
       "      <td>red lion inn file plan offering portland feb r...</td>\n",
       "    </tr>\n",
       "    <tr>\n",
       "      <th>7</th>\n",
       "      <td>2</td>\n",
       "      <td>usx debt dowgraded moody new york feb moody in...</td>\n",
       "    </tr>\n",
       "    <tr>\n",
       "      <th>8</th>\n",
       "      <td>1</td>\n",
       "      <td>champion product approves stock split rocheste...</td>\n",
       "    </tr>\n",
       "    <tr>\n",
       "      <th>9</th>\n",
       "      <td>2</td>\n",
       "      <td>computer terminal system completes sale commac...</td>\n",
       "    </tr>\n",
       "  </tbody>\n",
       "</table>\n",
       "</div>"
      ],
      "text/plain": [
       "   topic                                               text\n",
       "0      2  bahia cocoa review salvador feb shower continu...\n",
       "1      2  standard oil form financial unit cleveland feb...\n",
       "2      2  texas commerce bancshares file plan houston fe...\n",
       "3      2  talking equity offer janie gabbett reuters los...\n",
       "4      2  national average price reserve washington feb ...\n",
       "5      2  argentine registration buenos aire feb argenti...\n",
       "6      2  red lion inn file plan offering portland feb r...\n",
       "7      2  usx debt dowgraded moody new york feb moody in...\n",
       "8      1  champion product approves stock split rocheste...\n",
       "9      2  computer terminal system completes sale commac..."
      ]
     },
     "execution_count": 217,
     "metadata": {},
     "output_type": "execute_result"
    }
   ],
   "source": [
    "df2.head(10)"
   ]
  },
  {
   "cell_type": "code",
   "execution_count": 218,
   "metadata": {
    "colab": {
     "base_uri": "https://localhost:8080/"
    },
    "execution": {
     "iopub.execute_input": "2022-02-04T21:32:10.079065Z",
     "iopub.status.busy": "2022-02-04T21:32:10.079065Z",
     "iopub.status.idle": "2022-02-04T21:32:10.093065Z",
     "shell.execute_reply": "2022-02-04T21:32:10.092065Z",
     "shell.execute_reply.started": "2022-02-04T21:32:10.079065Z"
    },
    "id": "b5dp2Iyg3oZk",
    "outputId": "a1ce6357-d27d-463c-9320-8e07b29adedd"
   },
   "outputs": [
    {
     "name": "stdout",
     "output_type": "stream",
     "text": [
      "Topic 1: 18.31%\n",
      "Topic 2: 81.69%\n"
     ]
    }
   ],
   "source": [
    "print(f\"Topic 1: {round((sum(df2.topic == 1)/len(df2.topic)) *100, 2)}%\")\n",
    "print(f\"Topic 2: {round((sum(df2.topic == 2)/len(df2.topic)) *100, 2)}%\")"
   ]
  },
  {
   "cell_type": "code",
   "execution_count": 219,
   "metadata": {
    "execution": {
     "iopub.execute_input": "2022-02-04T21:32:10.095065Z",
     "iopub.status.busy": "2022-02-04T21:32:10.095065Z",
     "iopub.status.idle": "2022-02-04T21:32:10.124065Z",
     "shell.execute_reply": "2022-02-04T21:32:10.123063Z",
     "shell.execute_reply.started": "2022-02-04T21:32:10.095065Z"
    },
    "id": "xKFGTSmb3odP"
   },
   "outputs": [],
   "source": [
    "X2 = df2.drop(['topic'], axis=1)\n",
    "y2 = df2['topic']\n",
    "\n",
    "X2_train, X2_test, y2_train, y2_test = train_test_split(X2['text'], y2, test_size=0.20, random_state=200)"
   ]
  },
  {
   "cell_type": "code",
   "execution_count": 220,
   "metadata": {
    "execution": {
     "iopub.execute_input": "2022-02-04T21:32:10.126065Z",
     "iopub.status.busy": "2022-02-04T21:32:10.125065Z",
     "iopub.status.idle": "2022-02-04T21:32:16.836062Z",
     "shell.execute_reply": "2022-02-04T21:32:16.835077Z",
     "shell.execute_reply.started": "2022-02-04T21:32:10.126065Z"
    },
    "id": "4n75GQ9p3okC"
   },
   "outputs": [],
   "source": [
    "vect_X2_train = vectorizer.fit_transform(X2_train.values.astype(str))\n",
    "vect_X2_test = vectorizer.transform(X2_test)"
   ]
  },
  {
   "cell_type": "code",
   "execution_count": 221,
   "metadata": {
    "execution": {
     "iopub.execute_input": "2022-02-04T21:32:16.837062Z",
     "iopub.status.busy": "2022-02-04T21:32:16.837062Z",
     "iopub.status.idle": "2022-02-04T21:32:16.963061Z",
     "shell.execute_reply": "2022-02-04T21:32:16.962062Z",
     "shell.execute_reply.started": "2022-02-04T21:32:16.837062Z"
    },
    "id": "y91DPDsq3onc"
   },
   "outputs": [],
   "source": [
    "cls2 = MultinomialNB()\n",
    "cls2.fit(vect_X2_train, y2_train)\n",
    "y2_pred = cls2.predict(vect_X2_train)"
   ]
  },
  {
   "cell_type": "code",
   "execution_count": 222,
   "metadata": {
    "colab": {
     "base_uri": "https://localhost:8080/",
     "height": 591
    },
    "execution": {
     "iopub.execute_input": "2022-02-04T21:32:16.965069Z",
     "iopub.status.busy": "2022-02-04T21:32:16.964068Z",
     "iopub.status.idle": "2022-02-04T21:32:17.219064Z",
     "shell.execute_reply": "2022-02-04T21:32:17.215067Z",
     "shell.execute_reply.started": "2022-02-04T21:32:16.965069Z"
    },
    "id": "0fW5hckR3oqu",
    "outputId": "b0f92517-e517-448c-919b-ea75d2d9ebc9"
   },
   "outputs": [
    {
     "name": "stdout",
     "output_type": "stream",
     "text": [
      "Accuracy: 94.4%\n",
      "Precision: 95.4%\n",
      "Recall: 86.0%\n",
      "F1: 89.8%\n",
      "\n",
      "\n",
      "Classification Report\n",
      "\n",
      "\n",
      "              precision    recall  f1-score   support\n",
      "\n",
      "           1       0.97      0.73      0.83      3253\n",
      "           2       0.94      0.99      0.97     14346\n",
      "\n",
      "    accuracy                           0.94     17599\n",
      "   macro avg       0.95      0.86      0.90     17599\n",
      "weighted avg       0.95      0.94      0.94     17599\n",
      "\n"
     ]
    },
    {
     "data": {
      "image/png": "[encoded data removed]",
      "text/plain": [
       "<Figure size 432x288 with 2 Axes>"
      ]
     },
     "metadata": {
      "needs_background": "light"
     },
     "output_type": "display_data"
    }
   ],
   "source": [
    "scoring(y2_train, y2_pred, vect_X2_train)"
   ]
  },
  {
   "cell_type": "markdown",
   "metadata": {
    "id": "TKSNJ5F52EnH"
   },
   "source": [
    "\n",
    "Making a df to easily compare how the two models did"
   ]
  },
  {
   "cell_type": "code",
   "execution_count": 223,
   "metadata": {
    "colab": {
     "base_uri": "https://localhost:8080/",
     "height": 269
    },
    "execution": {
     "iopub.execute_input": "2022-02-04T21:32:17.220063Z",
     "iopub.status.busy": "2022-02-04T21:32:17.220063Z",
     "iopub.status.idle": "2022-02-04T21:32:17.312065Z",
     "shell.execute_reply": "2022-02-04T21:32:17.311063Z",
     "shell.execute_reply.started": "2022-02-04T21:32:17.220063Z"
    },
    "id": "PgYmBdik2Epc",
    "outputId": "267ecdea-4534-4226-e74c-805bee50ca05"
   },
   "outputs": [
    {
     "data": {
      "text/html": [
       "<div>\n",
       "<style scoped>\n",
       "    .dataframe tbody tr th:only-of-type {\n",
       "        vertical-align: middle;\n",
       "    }\n",
       "\n",
       "    .dataframe tbody tr th {\n",
       "        vertical-align: top;\n",
       "    }\n",
       "\n",
       "    .dataframe thead th {\n",
       "        text-align: right;\n",
       "    }\n",
       "</style>\n",
       "<table border=\"1\" class=\"dataframe\">\n",
       "  <thead>\n",
       "    <tr style=\"text-align: right;\">\n",
       "      <th></th>\n",
       "      <th>3_topics</th>\n",
       "      <th>2_topics</th>\n",
       "    </tr>\n",
       "  </thead>\n",
       "  <tbody>\n",
       "    <tr>\n",
       "      <th>overall accuracy</th>\n",
       "      <td>89.4</td>\n",
       "      <td>94.6</td>\n",
       "    </tr>\n",
       "    <tr>\n",
       "      <th>overall precision</th>\n",
       "      <td>91.8</td>\n",
       "      <td>95.5</td>\n",
       "    </tr>\n",
       "    <tr>\n",
       "      <th>overall recall</th>\n",
       "      <td>87.0</td>\n",
       "      <td>86.4</td>\n",
       "    </tr>\n",
       "    <tr>\n",
       "      <th>overall F1</th>\n",
       "      <td>88.9</td>\n",
       "      <td>90.1</td>\n",
       "    </tr>\n",
       "    <tr>\n",
       "      <th>earn precision</th>\n",
       "      <td>95.0</td>\n",
       "      <td>97.0</td>\n",
       "    </tr>\n",
       "    <tr>\n",
       "      <th>earn recall</th>\n",
       "      <td>79.0</td>\n",
       "      <td>73.0</td>\n",
       "    </tr>\n",
       "    <tr>\n",
       "      <th>earn F1</th>\n",
       "      <td>86.0</td>\n",
       "      <td>83.0</td>\n",
       "    </tr>\n",
       "  </tbody>\n",
       "</table>\n",
       "</div>"
      ],
      "text/plain": [
       "                   3_topics  2_topics\n",
       "overall accuracy       89.4      94.6\n",
       "overall precision      91.8      95.5\n",
       "overall recall         87.0      86.4\n",
       "overall F1             88.9      90.1\n",
       "earn precision         95.0      97.0\n",
       "earn recall            79.0      73.0\n",
       "earn F1                86.0      83.0"
      ]
     },
     "execution_count": 223,
     "metadata": {},
     "output_type": "execute_result"
    }
   ],
   "source": [
    "compare = pd.DataFrame(columns=['3_topics', '2_topics'])\n",
    "\n",
    "compare.loc['overall accuracy'] = [89.4, 94.6]\n",
    "compare.loc['overall precision'] = [91.8, 95.5]\n",
    "compare.loc['overall recall'] = [87.0, 86.4]\n",
    "compare.loc['overall F1'] = [88.9, 90.1]\n",
    "compare.loc['earn precision'] = [95, 97]\n",
    "compare.loc['earn recall'] = [79, 73]\n",
    "compare.loc['earn F1'] = [86, 83]\n",
    "compare"
   ]
  },
  {
   "cell_type": "markdown",
   "metadata": {
    "id": "B33_hsxJ2Er6"
   },
   "source": [
    "The models did pretty similar with some trade offs here and there. Overall accuracy was 5 points better on the model with two topics.\n",
    "\n",
    "The purpose of this task is to predict the articles that can be classified as 'earn'. \n",
    "\n",
    "'Earn' precision preformed 2 points better with two topics, but 'earn' recall performed 6 points worse with two topics. 'Earn' F1 was 3 points better."
   ]
  },
  {
   "cell_type": "markdown",
   "metadata": {
    "id": "Lq_fyX782Eue"
   },
   "source": [
    "#### Check for overfitting\n",
    "Comparing with the one with 3 topics (un-merged)"
   ]
  },
  {
   "cell_type": "code",
   "execution_count": 224,
   "metadata": {
    "execution": {
     "iopub.execute_input": "2022-02-04T21:32:17.318066Z",
     "iopub.status.busy": "2022-02-04T21:32:17.317077Z",
     "iopub.status.idle": "2022-02-04T21:32:17.344063Z",
     "shell.execute_reply": "2022-02-04T21:32:17.343061Z",
     "shell.execute_reply.started": "2022-02-04T21:32:17.317077Z"
    },
    "id": "QwXrRkq07nUO"
   },
   "outputs": [],
   "source": [
    "test_y_pred = cls.predict(vect_X_test)"
   ]
  },
  {
   "cell_type": "code",
   "execution_count": 225,
   "metadata": {
    "colab": {
     "base_uri": "https://localhost:8080/",
     "height": 609
    },
    "execution": {
     "iopub.execute_input": "2022-02-04T21:32:17.345064Z",
     "iopub.status.busy": "2022-02-04T21:32:17.345064Z",
     "iopub.status.idle": "2022-02-04T21:32:17.568062Z",
     "shell.execute_reply": "2022-02-04T21:32:17.567063Z",
     "shell.execute_reply.started": "2022-02-04T21:32:17.345064Z"
    },
    "id": "zFajYp5A7neV",
    "outputId": "5f2e93cf-78c2-424b-e0bf-e37ec2f48f65"
   },
   "outputs": [
    {
     "name": "stdout",
     "output_type": "stream",
     "text": [
      "Accuracy: 81.9%\n",
      "Precision: 86.8%\n",
      "Recall: 79.3%\n",
      "F1: 81.7%\n",
      "\n",
      "\n",
      "Classification Report\n",
      "\n",
      "\n",
      "              precision    recall  f1-score   support\n",
      "\n",
      "           1       0.93      0.75      0.83       776\n",
      "           2       0.93      0.68      0.79      1531\n",
      "           3       0.75      0.94      0.83      2093\n",
      "\n",
      "    accuracy                           0.82      4400\n",
      "   macro avg       0.87      0.79      0.82      4400\n",
      "weighted avg       0.84      0.82      0.82      4400\n",
      "\n"
     ]
    },
    {
     "data": {
      "image/png": "[encoded data removed]",
      "text/plain": [
       "<Figure size 432x288 with 2 Axes>"
      ]
     },
     "metadata": {
      "needs_background": "light"
     },
     "output_type": "display_data"
    }
   ],
   "source": [
    "scoring(y_test, test_y_pred, vect_X_test)"
   ]
  },
  {
   "cell_type": "markdown",
   "metadata": {
    "id": "oK6WciK17njr"
   },
   "source": [
    "Overall accuracy is down a little (7 points), but for the category 'earn', indivdual scores are down fewer points, maybe 2 or 3."
   ]
  },
  {
   "cell_type": "markdown",
   "metadata": {
    "id": "x2Cv37JC7nnA"
   },
   "source": [
    "### Random Forest"
   ]
  },
  {
   "cell_type": "code",
   "execution_count": 226,
   "metadata": {
    "colab": {
     "base_uri": "https://localhost:8080/"
    },
    "execution": {
     "iopub.execute_input": "2022-02-04T21:32:17.569064Z",
     "iopub.status.busy": "2022-02-04T21:32:17.569064Z",
     "iopub.status.idle": "2022-02-04T21:32:25.763065Z",
     "shell.execute_reply": "2022-02-04T21:32:25.762063Z",
     "shell.execute_reply.started": "2022-02-04T21:32:17.569064Z"
    },
    "id": "nvqQoXgL7nqk",
    "outputId": "2adb5310-07d3-4669-bddb-2c9d8280ff97"
   },
   "outputs": [
    {
     "data": {
      "text/plain": [
       "RandomForestClassifier(max_depth=20)"
      ]
     },
     "execution_count": 226,
     "metadata": {},
     "output_type": "execute_result"
    }
   ],
   "source": [
    "rdmfst = RandomForestClassifier(max_depth=20)\n",
    "rdmfst.fit(vect_X_train, y_train)"
   ]
  },
  {
   "cell_type": "code",
   "execution_count": 227,
   "metadata": {
    "execution": {
     "iopub.execute_input": "2022-02-04T21:32:25.765067Z",
     "iopub.status.busy": "2022-02-04T21:32:25.764065Z",
     "iopub.status.idle": "2022-02-04T21:32:28.036067Z",
     "shell.execute_reply": "2022-02-04T21:32:28.035067Z",
     "shell.execute_reply.started": "2022-02-04T21:32:25.765067Z"
    },
    "id": "Np1izZhp7nuA"
   },
   "outputs": [],
   "source": [
    "y_pred = rdmfst.predict(vect_X_train)"
   ]
  },
  {
   "cell_type": "code",
   "execution_count": 228,
   "metadata": {
    "colab": {
     "base_uri": "https://localhost:8080/",
     "height": 609
    },
    "execution": {
     "iopub.execute_input": "2022-02-04T21:32:28.037063Z",
     "iopub.status.busy": "2022-02-04T21:32:28.037063Z",
     "iopub.status.idle": "2022-02-04T21:32:28.256063Z",
     "shell.execute_reply": "2022-02-04T21:32:28.255061Z",
     "shell.execute_reply.started": "2022-02-04T21:32:28.037063Z"
    },
    "id": "a2ZK1pru7nx0",
    "outputId": "685a0040-d857-4ff0-8f11-74cf42526cba"
   },
   "outputs": [
    {
     "name": "stdout",
     "output_type": "stream",
     "text": [
      "Accuracy: 69.7%\n",
      "Precision: 86.2%\n",
      "Recall: 65.2%\n",
      "F1: 67.0%\n",
      "\n",
      "\n",
      "Classification Report\n",
      "\n",
      "\n",
      "              precision    recall  f1-score   support\n",
      "\n",
      "           1       0.98      0.66      0.79      3253\n",
      "           2       1.00      0.30      0.46      5990\n",
      "           3       0.61      0.99      0.76      8356\n",
      "\n",
      "    accuracy                           0.70     17599\n",
      "   macro avg       0.86      0.65      0.67     17599\n",
      "weighted avg       0.81      0.70      0.66     17599\n",
      "\n"
     ]
    },
    {
     "data": {
      "image/png": "[encoded data removed]",
      "text/plain": [
       "<Figure size 432x288 with 2 Axes>"
      ]
     },
     "metadata": {
      "needs_background": "light"
     },
     "output_type": "display_data"
    }
   ],
   "source": [
    "scoring(y_train, y_pred, vect_X_train)"
   ]
  },
  {
   "cell_type": "markdown",
   "metadata": {
    "id": "cJqphl5A7n1w"
   },
   "source": [
    "Overall, a worse model. Won't bother checking for overfitting."
   ]
  },
  {
   "cell_type": "markdown",
   "metadata": {
    "id": "d_ep3s0t7n5Q"
   },
   "source": [
    "### Decision Tree"
   ]
  },
  {
   "cell_type": "code",
   "execution_count": 229,
   "metadata": {
    "colab": {
     "base_uri": "https://localhost:8080/"
    },
    "execution": {
     "iopub.execute_input": "2022-02-04T21:32:28.257096Z",
     "iopub.status.busy": "2022-02-04T21:32:28.257096Z",
     "iopub.status.idle": "2022-02-04T21:32:43.866064Z",
     "shell.execute_reply": "2022-02-04T21:32:43.865066Z",
     "shell.execute_reply.started": "2022-02-04T21:32:28.257096Z"
    },
    "id": "szUhS-EG7n9D",
    "outputId": "837c4086-1882-473a-ed17-5545e6d30b03"
   },
   "outputs": [
    {
     "data": {
      "text/plain": [
       "DecisionTreeClassifier(max_depth=20)"
      ]
     },
     "execution_count": 229,
     "metadata": {},
     "output_type": "execute_result"
    }
   ],
   "source": [
    "dtree = DecisionTreeClassifier(max_depth=20)\n",
    "dtree.fit(vect_X_train, y_train)"
   ]
  },
  {
   "cell_type": "code",
   "execution_count": 230,
   "metadata": {
    "colab": {
     "base_uri": "https://localhost:8080/",
     "height": 35
    },
    "execution": {
     "iopub.execute_input": "2022-02-04T21:32:43.867063Z",
     "iopub.status.busy": "2022-02-04T21:32:43.867063Z",
     "iopub.status.idle": "2022-02-04T21:32:43.913065Z",
     "shell.execute_reply": "2022-02-04T21:32:43.912068Z",
     "shell.execute_reply.started": "2022-02-04T21:32:43.867063Z"
    },
    "id": "AzoTANob7oAm",
    "outputId": "ee87fa9e-037b-489f-ecf2-e08c3aa544d8"
   },
   "outputs": [
    {
     "data": {
      "text/plain": [
       "'The accuracy score is: 86.92%'"
      ]
     },
     "execution_count": 230,
     "metadata": {},
     "output_type": "execute_result"
    }
   ],
   "source": [
    "y_pred = dtree.predict(vect_X_train)\n",
    "f'The accuracy score is: {round(accuracy_score(y_train, y_pred)*100, 2)}%'"
   ]
  },
  {
   "cell_type": "code",
   "execution_count": 231,
   "metadata": {
    "colab": {
     "base_uri": "https://localhost:8080/",
     "height": 613
    },
    "execution": {
     "iopub.execute_input": "2022-02-04T21:32:43.915066Z",
     "iopub.status.busy": "2022-02-04T21:32:43.914066Z",
     "iopub.status.idle": "2022-02-04T21:32:44.167065Z",
     "shell.execute_reply": "2022-02-04T21:32:44.166108Z",
     "shell.execute_reply.started": "2022-02-04T21:32:43.915066Z"
    },
    "id": "42uy19-h7oCr",
    "outputId": "3e291703-bc3f-4028-afbf-9dc10fbac38e"
   },
   "outputs": [
    {
     "name": "stdout",
     "output_type": "stream",
     "text": [
      "Accuracy: 86.9%\n",
      "Precision: 90.5%\n",
      "Recall: 86.6%\n",
      "F1: 87.8%\n",
      "\n",
      "\n",
      "Classification Report\n",
      "\n",
      "\n",
      "              precision    recall  f1-score   support\n",
      "\n",
      "           1       0.97      0.92      0.95      3253\n",
      "           2       0.94      0.72      0.81      5990\n",
      "           3       0.81      0.96      0.88      8356\n",
      "\n",
      "    accuracy                           0.87     17599\n",
      "   macro avg       0.90      0.87      0.88     17599\n",
      "weighted avg       0.88      0.87      0.87     17599\n",
      "\n"
     ]
    },
    {
     "data": {
      "image/png": "[encoded data removed]",
      "text/plain": [
       "<Figure size 432x288 with 2 Axes>"
      ]
     },
     "metadata": {
      "needs_background": "light"
     },
     "output_type": "display_data"
    }
   ],
   "source": [
    "scoring(y_train, y_pred, vect_X_train)"
   ]
  },
  {
   "cell_type": "markdown",
   "metadata": {
    "id": "_BXURYi37oGk"
   },
   "source": [
    "Seems pretty good, as good or better than NB"
   ]
  },
  {
   "cell_type": "markdown",
   "metadata": {
    "id": "VucQErmelyyU"
   },
   "source": [
    "#### Check for overfitting"
   ]
  },
  {
   "cell_type": "code",
   "execution_count": 232,
   "metadata": {
    "colab": {
     "base_uri": "https://localhost:8080/",
     "height": 609
    },
    "execution": {
     "iopub.execute_input": "2022-02-04T21:32:44.169065Z",
     "iopub.status.busy": "2022-02-04T21:32:44.169065Z",
     "iopub.status.idle": "2022-02-04T21:32:44.421072Z",
     "shell.execute_reply": "2022-02-04T21:32:44.420062Z",
     "shell.execute_reply.started": "2022-02-04T21:32:44.169065Z"
    },
    "id": "ftQ_DT21ly_A",
    "outputId": "af31ee8a-5b05-4c33-f592-b8177a2ecb45"
   },
   "outputs": [
    {
     "name": "stdout",
     "output_type": "stream",
     "text": [
      "Accuracy: 79.7%\n",
      "Precision: 82.5%\n",
      "Recall: 80.0%\n",
      "F1: 80.6%\n",
      "\n",
      "\n",
      "Classification Report\n",
      "\n",
      "\n",
      "              precision    recall  f1-score   support\n",
      "\n",
      "           1       0.89      0.88      0.89       776\n",
      "           2       0.83      0.63      0.72      1531\n",
      "           3       0.75      0.88      0.81      2093\n",
      "\n",
      "    accuracy                           0.80      4400\n",
      "   macro avg       0.82      0.80      0.81      4400\n",
      "weighted avg       0.80      0.80      0.79      4400\n",
      "\n"
     ]
    },
    {
     "data": {
      "image/png": "[encoded data removed]",
      "text/plain": [
       "<Figure size 432x288 with 2 Axes>"
      ]
     },
     "metadata": {
      "needs_background": "light"
     },
     "output_type": "display_data"
    }
   ],
   "source": [
    "test_y_pred = dtree.predict(vect_X_test)\n",
    "\n",
    "scoring(y_test, test_y_pred, vect_X_test)"
   ]
  },
  {
   "cell_type": "markdown",
   "metadata": {
    "id": "YXsq5DP2lzG-"
   },
   "source": [
    "At a quick glance, seems to have some problem with overfitting, espectially with 'earn' precision, but overall not too bad."
   ]
  },
  {
   "cell_type": "markdown",
   "metadata": {
    "id": "RPLNAbrPlzL3"
   },
   "source": [
    "### KNN"
   ]
  },
  {
   "cell_type": "code",
   "execution_count": 233,
   "metadata": {
    "colab": {
     "base_uri": "https://localhost:8080/"
    },
    "execution": {
     "iopub.execute_input": "2022-02-04T21:32:44.422062Z",
     "iopub.status.busy": "2022-02-04T21:32:44.422062Z",
     "iopub.status.idle": "2022-02-04T21:32:44.452064Z",
     "shell.execute_reply": "2022-02-04T21:32:44.451063Z",
     "shell.execute_reply.started": "2022-02-04T21:32:44.422062Z"
    },
    "id": "d8Sip_sHlzPq",
    "outputId": "a27b0825-440e-4d50-a1da-9bb0aaf92023"
   },
   "outputs": [
    {
     "data": {
      "text/plain": [
       "KNeighborsClassifier(weights='distance')"
      ]
     },
     "execution_count": 233,
     "metadata": {},
     "output_type": "execute_result"
    }
   ],
   "source": [
    "neigh = KNeighborsClassifier(n_neighbors=5, weights='distance')\n",
    "neigh.fit(vect_X_train, y_train)"
   ]
  },
  {
   "cell_type": "code",
   "execution_count": 234,
   "metadata": {
    "colab": {
     "base_uri": "https://localhost:8080/",
     "height": 35
    },
    "execution": {
     "iopub.execute_input": "2022-02-04T21:32:44.453065Z",
     "iopub.status.busy": "2022-02-04T21:32:44.453065Z",
     "iopub.status.idle": "2022-02-04T21:33:00.519063Z",
     "shell.execute_reply": "2022-02-04T21:33:00.518065Z",
     "shell.execute_reply.started": "2022-02-04T21:32:44.453065Z"
    },
    "id": "oHpdA-aOlzTo",
    "outputId": "ed3be8e7-d8a9-433f-da83-4427227c2f04"
   },
   "outputs": [
    {
     "data": {
      "text/plain": [
       "'The accuracy score is: 99.85%'"
      ]
     },
     "execution_count": 234,
     "metadata": {},
     "output_type": "execute_result"
    }
   ],
   "source": [
    "y_pred = neigh.predict(vect_X_train)\n",
    "f'The accuracy score is: {round(accuracy_score(y_train, y_pred)*100, 2)}%'"
   ]
  },
  {
   "cell_type": "code",
   "execution_count": 235,
   "metadata": {
    "colab": {
     "base_uri": "https://localhost:8080/",
     "height": 609
    },
    "execution": {
     "iopub.execute_input": "2022-02-04T21:33:00.523067Z",
     "iopub.status.busy": "2022-02-04T21:33:00.522066Z",
     "iopub.status.idle": "2022-02-04T21:33:00.814064Z",
     "shell.execute_reply": "2022-02-04T21:33:00.813065Z",
     "shell.execute_reply.started": "2022-02-04T21:33:00.523067Z"
    },
    "id": "idwrb0xFlzXv",
    "outputId": "473c224c-9bd8-4aa1-a13f-38e2d687e653"
   },
   "outputs": [
    {
     "name": "stdout",
     "output_type": "stream",
     "text": [
      "Accuracy: 99.8%\n",
      "Precision: 99.8%\n",
      "Recall: 99.9%\n",
      "F1: 99.8%\n",
      "\n",
      "\n",
      "Classification Report\n",
      "\n",
      "\n",
      "              precision    recall  f1-score   support\n",
      "\n",
      "           1       1.00      1.00      1.00      3253\n",
      "           2       1.00      1.00      1.00      5990\n",
      "           3       1.00      1.00      1.00      8356\n",
      "\n",
      "    accuracy                           1.00     17599\n",
      "   macro avg       1.00      1.00      1.00     17599\n",
      "weighted avg       1.00      1.00      1.00     17599\n",
      "\n"
     ]
    },
    {
     "data": {
      "image/png": "[encoded data removed]",
      "text/plain": [
       "<Figure size 432x288 with 2 Axes>"
      ]
     },
     "metadata": {
      "needs_background": "light"
     },
     "output_type": "display_data"
    }
   ],
   "source": [
    "scoring(y_train, y_pred, vect_X_train)"
   ]
  },
  {
   "cell_type": "markdown",
   "metadata": {
    "id": "a3IT0Hh_lzb1"
   },
   "source": [
    "Almost perfect!"
   ]
  },
  {
   "cell_type": "markdown",
   "metadata": {
    "id": "z4NJFTWTlzih"
   },
   "source": [
    "#### Check for overfitting"
   ]
  },
  {
   "cell_type": "code",
   "execution_count": 236,
   "metadata": {
    "colab": {
     "base_uri": "https://localhost:8080/",
     "height": 609
    },
    "execution": {
     "iopub.execute_input": "2022-02-04T21:33:00.816064Z",
     "iopub.status.busy": "2022-02-04T21:33:00.815062Z",
     "iopub.status.idle": "2022-02-04T21:33:04.803066Z",
     "shell.execute_reply": "2022-02-04T21:33:04.802064Z",
     "shell.execute_reply.started": "2022-02-04T21:33:00.816064Z"
    },
    "id": "FNnpBjxs7oKV",
    "outputId": "45621d2f-4121-4e25-84b3-21b9b610a95c"
   },
   "outputs": [
    {
     "name": "stdout",
     "output_type": "stream",
     "text": [
      "Accuracy: 84.1%\n",
      "Precision: 84.0%\n",
      "Recall: 84.9%\n",
      "F1: 84.3%\n",
      "\n",
      "\n",
      "Classification Report\n",
      "\n",
      "\n",
      "              precision    recall  f1-score   support\n",
      "\n",
      "           1       0.83      0.90      0.86       776\n",
      "           2       0.85      0.79      0.82      1531\n",
      "           3       0.84      0.86      0.85      2093\n",
      "\n",
      "    accuracy                           0.84      4400\n",
      "   macro avg       0.84      0.85      0.84      4400\n",
      "weighted avg       0.84      0.84      0.84      4400\n",
      "\n"
     ]
    },
    {
     "data": {
      "image/png": "[encoded data removed]",
      "text/plain": [
       "<Figure size 432x288 with 2 Axes>"
      ]
     },
     "metadata": {
      "needs_background": "light"
     },
     "output_type": "display_data"
    }
   ],
   "source": [
    "test_y_pred = neigh.predict(vect_X_test)\n",
    "\n",
    "scoring(y_test, test_y_pred, vect_X_test)"
   ]
  },
  {
   "cell_type": "markdown",
   "metadata": {
    "id": "jOL1UfUT7oN-"
   },
   "source": [
    "Does seem to have an issue with overfitting, 17 point difference with accuracy"
   ]
  },
  {
   "cell_type": "markdown",
   "metadata": {
    "id": "k-9YWQ-o2E2k"
   },
   "source": [
    "### XGBoost"
   ]
  },
  {
   "cell_type": "code",
   "execution_count": 237,
   "metadata": {
    "execution": {
     "iopub.execute_input": "2022-02-04T21:33:04.804063Z",
     "iopub.status.busy": "2022-02-04T21:33:04.804063Z",
     "iopub.status.idle": "2022-02-04T21:33:04.819062Z",
     "shell.execute_reply": "2022-02-04T21:33:04.818059Z",
     "shell.execute_reply.started": "2022-02-04T21:33:04.804063Z"
    },
    "id": "lkdv38vimyUp"
   },
   "outputs": [],
   "source": [
    "xgb = XGBClassifier()"
   ]
  },
  {
   "cell_type": "code",
   "execution_count": 238,
   "metadata": {
    "colab": {
     "base_uri": "https://localhost:8080/"
    },
    "execution": {
     "iopub.execute_input": "2022-02-04T21:33:04.820063Z",
     "iopub.status.busy": "2022-02-04T21:33:04.820063Z",
     "iopub.status.idle": "2022-02-04T21:39:01.573547Z",
     "shell.execute_reply": "2022-02-04T21:39:01.572546Z",
     "shell.execute_reply.started": "2022-02-04T21:33:04.820063Z"
    },
    "id": "aagah2xmmyaS",
    "outputId": "0d847221-5a6f-4ea7-be4e-59f99d605543"
   },
   "outputs": [
    {
     "data": {
      "text/plain": [
       "XGBClassifier(objective='multi:softprob')"
      ]
     },
     "execution_count": 238,
     "metadata": {},
     "output_type": "execute_result"
    }
   ],
   "source": [
    "xgb.fit(vect_X_train, y_train)"
   ]
  },
  {
   "cell_type": "code",
   "execution_count": 239,
   "metadata": {
    "colab": {
     "base_uri": "https://localhost:8080/",
     "height": 35
    },
    "execution": {
     "iopub.execute_input": "2022-02-04T21:39:01.579548Z",
     "iopub.status.busy": "2022-02-04T21:39:01.579548Z",
     "iopub.status.idle": "2022-02-04T21:39:02.834549Z",
     "shell.execute_reply": "2022-02-04T21:39:02.833549Z",
     "shell.execute_reply.started": "2022-02-04T21:39:01.579548Z"
    },
    "id": "eHNAZrnbmyd1",
    "outputId": "aa34aea9-787d-4480-8256-0c388db9d11e"
   },
   "outputs": [
    {
     "data": {
      "text/plain": [
       "'The accuracy score is: 84.4%'"
      ]
     },
     "execution_count": 239,
     "metadata": {},
     "output_type": "execute_result"
    }
   ],
   "source": [
    "y_pred = xgb.predict(vect_X_train)\n",
    "f'The accuracy score is: {round(accuracy_score(y_train, y_pred)*100, 2)}%'"
   ]
  },
  {
   "cell_type": "code",
   "execution_count": 240,
   "metadata": {
    "colab": {
     "base_uri": "https://localhost:8080/",
     "height": 609
    },
    "execution": {
     "iopub.execute_input": "2022-02-04T21:39:02.837547Z",
     "iopub.status.busy": "2022-02-04T21:39:02.836547Z",
     "iopub.status.idle": "2022-02-04T21:39:03.089549Z",
     "shell.execute_reply": "2022-02-04T21:39:03.088546Z",
     "shell.execute_reply.started": "2022-02-04T21:39:02.837547Z"
    },
    "id": "_gg1LqNmmyho",
    "outputId": "6f210746-f950-48e8-a1c5-7c9913c77684"
   },
   "outputs": [
    {
     "name": "stdout",
     "output_type": "stream",
     "text": [
      "Accuracy: 84.4%\n",
      "Precision: 87.3%\n",
      "Recall: 84.3%\n",
      "F1: 85.2%\n",
      "\n",
      "\n",
      "Classification Report\n",
      "\n",
      "\n",
      "              precision    recall  f1-score   support\n",
      "\n",
      "           1       0.93      0.90      0.92      3253\n",
      "           2       0.89      0.70      0.79      5990\n",
      "           3       0.79      0.92      0.85      8356\n",
      "\n",
      "    accuracy                           0.84     17599\n",
      "   macro avg       0.87      0.84      0.85     17599\n",
      "weighted avg       0.85      0.84      0.84     17599\n",
      "\n"
     ]
    },
    {
     "data": {
      "image/png": "[encoded data removed]",
      "text/plain": [
       "<Figure size 432x288 with 2 Axes>"
      ]
     },
     "metadata": {
      "needs_background": "light"
     },
     "output_type": "display_data"
    }
   ],
   "source": [
    "scoring(y_train, y_pred, vect_X_train)"
   ]
  },
  {
   "cell_type": "markdown",
   "metadata": {
    "id": "C6_ZFjRrmylJ"
   },
   "source": [
    "An OK model, but not as strong as Decision Tree, KNN. Takes a long time to fit."
   ]
  },
  {
   "cell_type": "markdown",
   "metadata": {
    "id": "WRenvBKGmyox"
   },
   "source": [
    "#### Check for overfitting"
   ]
  },
  {
   "cell_type": "code",
   "execution_count": 241,
   "metadata": {
    "execution": {
     "iopub.execute_input": "2022-02-04T21:39:03.090547Z",
     "iopub.status.busy": "2022-02-04T21:39:03.090547Z",
     "iopub.status.idle": "2022-02-04T21:39:03.453547Z",
     "shell.execute_reply": "2022-02-04T21:39:03.451548Z",
     "shell.execute_reply.started": "2022-02-04T21:39:03.090547Z"
    },
    "id": "lZMhFmASmyse"
   },
   "outputs": [],
   "source": [
    "test_y_pred = xgb.predict(vect_X_test)"
   ]
  },
  {
   "cell_type": "code",
   "execution_count": 242,
   "metadata": {
    "colab": {
     "base_uri": "https://localhost:8080/",
     "height": 609
    },
    "execution": {
     "iopub.execute_input": "2022-02-04T21:39:03.456552Z",
     "iopub.status.busy": "2022-02-04T21:39:03.455553Z",
     "iopub.status.idle": "2022-02-04T21:39:03.643547Z",
     "shell.execute_reply": "2022-02-04T21:39:03.642580Z",
     "shell.execute_reply.started": "2022-02-04T21:39:03.456552Z"
    },
    "id": "Be3pE9famyus",
    "outputId": "b51bc736-ceed-4b00-af00-b4c8ca1b2201"
   },
   "outputs": [
    {
     "name": "stdout",
     "output_type": "stream",
     "text": [
      "Accuracy: 82.5%\n",
      "Precision: 85.3%\n",
      "Recall: 83.1%\n",
      "F1: 83.7%\n",
      "\n",
      "\n",
      "Classification Report\n",
      "\n",
      "\n",
      "              precision    recall  f1-score   support\n",
      "\n",
      "           1       0.93      0.92      0.92       776\n",
      "           2       0.86      0.68      0.76      1531\n",
      "           3       0.78      0.90      0.83      2093\n",
      "\n",
      "    accuracy                           0.82      4400\n",
      "   macro avg       0.85      0.83      0.84      4400\n",
      "weighted avg       0.83      0.82      0.82      4400\n",
      "\n"
     ]
    },
    {
     "data": {
      "image/png": "[encoded data removed]",
      "text/plain": [
       "<Figure size 432x288 with 2 Axes>"
      ]
     },
     "metadata": {
      "needs_background": "light"
     },
     "output_type": "display_data"
    }
   ],
   "source": [
    "scoring(y_test, test_y_pred, vect_X_test)"
   ]
  },
  {
   "cell_type": "markdown",
   "metadata": {
    "id": "8NgQf6skmyzA"
   },
   "source": [
    "Pretty good on not overfitting"
   ]
  },
  {
   "cell_type": "markdown",
   "metadata": {
    "id": "ZOFsKx_goGyW"
   },
   "source": [
    "## Compare models"
   ]
  },
  {
   "cell_type": "markdown",
   "metadata": {
    "id": "PrvSvsucoHXh"
   },
   "source": [
    "After looking through the models' scores and overfitting issues, I decided that Decision Tree is a high performing model worth refining."
   ]
  },
  {
   "cell_type": "markdown",
   "metadata": {
    "id": "AtKKfyvf2CKi"
   },
   "source": [
    "# Refining Model (Decision Tree)"
   ]
  },
  {
   "cell_type": "markdown",
   "metadata": {
    "id": "xSE8n5HIq7U9"
   },
   "source": [
    "Making new functions to score train and test models side by side for easy comparison."
   ]
  },
  {
   "cell_type": "code",
   "execution_count": 243,
   "metadata": {
    "execution": {
     "iopub.execute_input": "2022-02-04T21:39:03.644552Z",
     "iopub.status.busy": "2022-02-04T21:39:03.644552Z",
     "iopub.status.idle": "2022-02-04T21:39:03.659548Z",
     "shell.execute_reply": "2022-02-04T21:39:03.658544Z",
     "shell.execute_reply.started": "2022-02-04T21:39:03.644552Z"
    },
    "id": "toeWzBOTv22l"
   },
   "outputs": [],
   "source": [
    "def run_model(model, X_train, y_train, X_test, y_test, num_categories):\n",
    "    model.fit(X_train, y_train)\n",
    "    train_y_pred = model.predict(X_train)\n",
    "    test_y_pred = model.predict(X_test)\n",
    "    score_train_and_test(y_train, train_y_pred, y_test, test_y_pred)\n",
    "    disp_conf_matrix(y_train, train_y_pred, y_test, test_y_pred, num_categories)"
   ]
  },
  {
   "cell_type": "code",
   "execution_count": 244,
   "metadata": {
    "execution": {
     "iopub.execute_input": "2022-02-04T21:39:03.661552Z",
     "iopub.status.busy": "2022-02-04T21:39:03.660548Z",
     "iopub.status.idle": "2022-02-04T21:39:03.675546Z",
     "shell.execute_reply": "2022-02-04T21:39:03.674561Z",
     "shell.execute_reply.started": "2022-02-04T21:39:03.661552Z"
    },
    "id": "sfqMhnFZsD_O"
   },
   "outputs": [],
   "source": [
    "def disp_conf_matrix(y_train, train_y_pred, y_test, test_y_pred, num_categories):\n",
    "    cm_train = confusion_matrix(y_train, train_y_pred, \n",
    "                               labels = [x + 1 for x in range(num_categories)])\n",
    "    cm_test = confusion_matrix(y_test, test_y_pred, \n",
    "                               labels = [x + 1 for x in range(num_categories)])\n",
    "    disp1 = ConfusionMatrixDisplay(confusion_matrix=cm_train)\n",
    "    disp2 = ConfusionMatrixDisplay(confusion_matrix=cm_test)\n",
    "    \n",
    "    # plotting two side by side\n",
    "    fig, axes = plt.subplots(nrows=1, ncols=2, figsize=(15, 5))\n",
    "    axes[0].set_title('Training confusion matrix'.upper(), fontsize = 12)\n",
    "    axes[1].set_title('Testing confusion matrix'.upper(), fontsize = 12)\n",
    "    disp1.plot(ax=axes[0])\n",
    "    disp2.plot(ax=axes[1])\n",
    "\n",
    "def score_train_and_test(y_train, train_y_pred, y_test, test_y_pred):\n",
    "\n",
    "    # Training Scores\n",
    "    training_accuracy = accuracy_score(y_train, train_y_pred)\n",
    "    training_precision = precision_score(y_train, train_y_pred, average='macro')\n",
    "    training_recall = recall_score(y_train, train_y_pred, average='macro')\n",
    "    training_f1 = f1_score(y_train, train_y_pred, average='macro')\n",
    "    \n",
    "    print(\"TRAINING - Classification Report\")\n",
    "    print(\"Accuracy: {:.1%}\".format(training_accuracy))\n",
    "    print(\"Precision: {:.1%}\".format(training_precision))\n",
    "    print(\"Recall: {:.1%}\".format(training_recall))\n",
    "    print(\"F1: {:.1%}\".format(training_f1))\n",
    "    print(classification_report(y_train, train_y_pred))\n",
    "    \n",
    "    # Testing Scores\n",
    "    testing_accuracy = accuracy_score(y_test, test_y_pred)\n",
    "    testing_precision = precision_score(y_test, test_y_pred, average='macro')\n",
    "    testing_recall = recall_score(y_test, test_y_pred, average='macro')\n",
    "    testing_f1 = f1_score(y_test, test_y_pred, average='macro')\n",
    "    \n",
    "    print(\"TESTING - Classification Report\")\n",
    "    print(\"Accuracy: {:.1%}\".format(testing_accuracy))\n",
    "    print(\"Precision: {:.1%}\".format(testing_precision))\n",
    "    print(\"Recall: {:.1%}\".format(testing_recall))\n",
    "    print(\"F1: {:.1%}\".format(testing_f1))\n",
    "    print(classification_report(y_test, test_y_pred))\n"
   ]
  },
  {
   "cell_type": "markdown",
   "metadata": {
    "id": "Yov66Wujv269"
   },
   "source": [
    "It's unclear if 'blank' means no relevant topics or if these articles simply haven't been assigned and are really 'other'. \n",
    "\n",
    "Creating three dataframes to experiment with possibilities."
   ]
  },
  {
   "cell_type": "code",
   "execution_count": 246,
   "metadata": {
    "execution": {
     "iopub.execute_input": "2022-02-04T21:41:02.922548Z",
     "iopub.status.busy": "2022-02-04T21:41:02.922548Z",
     "iopub.status.idle": "2022-02-04T21:41:03.438650Z",
     "shell.execute_reply": "2022-02-04T21:41:03.437832Z",
     "shell.execute_reply.started": "2022-02-04T21:41:02.922548Z"
    },
    "id": "-xuPfC7Hv2_O"
   },
   "outputs": [],
   "source": [
    "df = pd.read_csv('data_files/text_processed.csv')\n",
    "\n",
    "df_merged = pd.read_csv('data_files/text_processed.csv')\n",
    "\n",
    "df_no_blank = pd.read_csv('data_files/text_processed.csv') \n",
    "df_no_blank = df_no_blank[df_no_blank.topic != 'blank']"
   ]
  },
  {
   "cell_type": "code",
   "execution_count": 247,
   "metadata": {
    "colab": {
     "base_uri": "https://localhost:8080/",
     "height": 206
    },
    "execution": {
     "iopub.execute_input": "2022-02-04T21:41:10.210081Z",
     "iopub.status.busy": "2022-02-04T21:41:10.210081Z",
     "iopub.status.idle": "2022-02-04T21:41:10.229081Z",
     "shell.execute_reply": "2022-02-04T21:41:10.228080Z",
     "shell.execute_reply.started": "2022-02-04T21:41:10.210081Z"
    },
    "id": "8G4DCrUbv3Db",
    "outputId": "d3a65f0a-4c4c-4245-eeb0-90dc5de831df"
   },
   "outputs": [
    {
     "data": {
      "text/html": [
       "<div>\n",
       "<style scoped>\n",
       "    .dataframe tbody tr th:only-of-type {\n",
       "        vertical-align: middle;\n",
       "    }\n",
       "\n",
       "    .dataframe tbody tr th {\n",
       "        vertical-align: top;\n",
       "    }\n",
       "\n",
       "    .dataframe thead th {\n",
       "        text-align: right;\n",
       "    }\n",
       "</style>\n",
       "<table border=\"1\" class=\"dataframe\">\n",
       "  <thead>\n",
       "    <tr style=\"text-align: right;\">\n",
       "      <th></th>\n",
       "      <th>topic</th>\n",
       "      <th>text</th>\n",
       "    </tr>\n",
       "  </thead>\n",
       "  <tbody>\n",
       "    <tr>\n",
       "      <th>0</th>\n",
       "      <td>other</td>\n",
       "      <td>bahia cocoa review salvador feb shower continu...</td>\n",
       "    </tr>\n",
       "    <tr>\n",
       "      <th>1</th>\n",
       "      <td>blank</td>\n",
       "      <td>standard oil form financial unit cleveland feb...</td>\n",
       "    </tr>\n",
       "    <tr>\n",
       "      <th>2</th>\n",
       "      <td>blank</td>\n",
       "      <td>texas commerce bancshares file plan houston fe...</td>\n",
       "    </tr>\n",
       "    <tr>\n",
       "      <th>3</th>\n",
       "      <td>blank</td>\n",
       "      <td>talking equity offer janie gabbett reuters los...</td>\n",
       "    </tr>\n",
       "    <tr>\n",
       "      <th>4</th>\n",
       "      <td>other</td>\n",
       "      <td>national average price reserve washington feb ...</td>\n",
       "    </tr>\n",
       "  </tbody>\n",
       "</table>\n",
       "</div>"
      ],
      "text/plain": [
       "   topic                                               text\n",
       "0  other  bahia cocoa review salvador feb shower continu...\n",
       "1  blank  standard oil form financial unit cleveland feb...\n",
       "2  blank  texas commerce bancshares file plan houston fe...\n",
       "3  blank  talking equity offer janie gabbett reuters los...\n",
       "4  other  national average price reserve washington feb ..."
      ]
     },
     "execution_count": 247,
     "metadata": {},
     "output_type": "execute_result"
    }
   ],
   "source": [
    "df.head()"
   ]
  },
  {
   "cell_type": "code",
   "execution_count": 248,
   "metadata": {
    "execution": {
     "iopub.execute_input": "2022-02-04T21:41:10.231081Z",
     "iopub.status.busy": "2022-02-04T21:41:10.230082Z",
     "iopub.status.idle": "2022-02-04T21:41:10.261080Z",
     "shell.execute_reply": "2022-02-04T21:41:10.260079Z",
     "shell.execute_reply.started": "2022-02-04T21:41:10.231081Z"
    },
    "id": "DU7abWZT0Rjt"
   },
   "outputs": [],
   "source": [
    "topic_dict = {'earn': 1, 'other': 2, 'blank': 3}\n",
    "topic_dict_merged = {'earn': 1, 'other': 2, 'blank': 2}\n",
    "topic_dict_no_blank = {'earn': 1, 'other': 2}\n",
    "\n",
    "# for all three topics\n",
    "df.topic.replace(topic_dict, inplace=True)\n",
    "\n",
    "# for merging 'blank' and 'other'\n",
    "df_merged.topic.replace(topic_dict_merged, inplace=True)\n",
    "\n",
    "# for the df without blank topics\n",
    "df_no_blank.topic.replace(topic_dict_no_blank, inplace=True)"
   ]
  },
  {
   "cell_type": "code",
   "execution_count": 249,
   "metadata": {
    "colab": {
     "base_uri": "https://localhost:8080/",
     "height": 206
    },
    "execution": {
     "iopub.execute_input": "2022-02-04T21:41:10.262080Z",
     "iopub.status.busy": "2022-02-04T21:41:10.262080Z",
     "iopub.status.idle": "2022-02-04T21:41:10.277081Z",
     "shell.execute_reply": "2022-02-04T21:41:10.276077Z",
     "shell.execute_reply.started": "2022-02-04T21:41:10.262080Z"
    },
    "id": "EgdlpXEb0XTA",
    "outputId": "97cc67d6-6e98-4e93-9fc1-1f2948fc15fc"
   },
   "outputs": [
    {
     "data": {
      "text/html": [
       "<div>\n",
       "<style scoped>\n",
       "    .dataframe tbody tr th:only-of-type {\n",
       "        vertical-align: middle;\n",
       "    }\n",
       "\n",
       "    .dataframe tbody tr th {\n",
       "        vertical-align: top;\n",
       "    }\n",
       "\n",
       "    .dataframe thead th {\n",
       "        text-align: right;\n",
       "    }\n",
       "</style>\n",
       "<table border=\"1\" class=\"dataframe\">\n",
       "  <thead>\n",
       "    <tr style=\"text-align: right;\">\n",
       "      <th></th>\n",
       "      <th>topic</th>\n",
       "      <th>text</th>\n",
       "    </tr>\n",
       "  </thead>\n",
       "  <tbody>\n",
       "    <tr>\n",
       "      <th>0</th>\n",
       "      <td>2</td>\n",
       "      <td>bahia cocoa review salvador feb shower continu...</td>\n",
       "    </tr>\n",
       "    <tr>\n",
       "      <th>4</th>\n",
       "      <td>2</td>\n",
       "      <td>national average price reserve washington feb ...</td>\n",
       "    </tr>\n",
       "    <tr>\n",
       "      <th>5</th>\n",
       "      <td>2</td>\n",
       "      <td>argentine registration buenos aire feb argenti...</td>\n",
       "    </tr>\n",
       "    <tr>\n",
       "      <th>8</th>\n",
       "      <td>1</td>\n",
       "      <td>champion product approves stock split rocheste...</td>\n",
       "    </tr>\n",
       "    <tr>\n",
       "      <th>9</th>\n",
       "      <td>2</td>\n",
       "      <td>computer terminal system completes sale commac...</td>\n",
       "    </tr>\n",
       "  </tbody>\n",
       "</table>\n",
       "</div>"
      ],
      "text/plain": [
       "   topic                                               text\n",
       "0      2  bahia cocoa review salvador feb shower continu...\n",
       "4      2  national average price reserve washington feb ...\n",
       "5      2  argentine registration buenos aire feb argenti...\n",
       "8      1  champion product approves stock split rocheste...\n",
       "9      2  computer terminal system completes sale commac..."
      ]
     },
     "execution_count": 249,
     "metadata": {},
     "output_type": "execute_result"
    }
   ],
   "source": [
    "df_no_blank.head()"
   ]
  },
  {
   "cell_type": "markdown",
   "metadata": {
    "id": "w4XZdtHE0Xzw"
   },
   "source": [
    "## TF-IDF "
   ]
  },
  {
   "cell_type": "markdown",
   "metadata": {
    "id": "2UpNg1Ip0X6V"
   },
   "source": [
    "### Decision Tree - Main df"
   ]
  },
  {
   "cell_type": "markdown",
   "metadata": {
    "id": "L_xkI44Y0X-M"
   },
   "source": [
    "#### Train-test split"
   ]
  },
  {
   "cell_type": "code",
   "execution_count": 250,
   "metadata": {
    "execution": {
     "iopub.execute_input": "2022-02-04T21:41:10.278079Z",
     "iopub.status.busy": "2022-02-04T21:41:10.278079Z",
     "iopub.status.idle": "2022-02-04T21:41:10.309082Z",
     "shell.execute_reply": "2022-02-04T21:41:10.308077Z",
     "shell.execute_reply.started": "2022-02-04T21:41:10.278079Z"
    },
    "id": "Sel8mGX50YBs"
   },
   "outputs": [],
   "source": [
    "X = df.drop(['topic'], axis=1)\n",
    "y = df['topic']\n",
    "\n",
    "X_train, X_test, y_train, y_test = train_test_split(X['text'], y, test_size=0.20, random_state=200)"
   ]
  },
  {
   "cell_type": "markdown",
   "metadata": {
    "id": "XE3vVSfu0YGU"
   },
   "source": [
    "#### Pipeline 1\n",
    "- get idea on what limiting TF-IDF does to performance\n",
    "- get idea on what max depth does to performance"
   ]
  },
  {
   "cell_type": "code",
   "execution_count": 251,
   "metadata": {
    "execution": {
     "iopub.execute_input": "2022-02-04T21:41:10.310081Z",
     "iopub.status.busy": "2022-02-04T21:41:10.310081Z",
     "iopub.status.idle": "2022-02-04T21:41:10.325081Z",
     "shell.execute_reply": "2022-02-04T21:41:10.324077Z",
     "shell.execute_reply.started": "2022-02-04T21:41:10.310081Z"
    },
    "id": "6OO3NApn0YJw"
   },
   "outputs": [],
   "source": [
    "dt1_pipeline = Pipeline([('tfidf', TfidfVectorizer()), \n",
    "                         ('dt', DecisionTreeClassifier(random_state=123))])\n",
    "\n"
   ]
  },
  {
   "cell_type": "code",
   "execution_count": 252,
   "metadata": {
    "execution": {
     "iopub.execute_input": "2022-02-04T21:41:10.326079Z",
     "iopub.status.busy": "2022-02-04T21:41:10.325081Z",
     "iopub.status.idle": "2022-02-04T21:41:10.341083Z",
     "shell.execute_reply": "2022-02-04T21:41:10.340077Z",
     "shell.execute_reply.started": "2022-02-04T21:41:10.326079Z"
    },
    "id": "wiVbkpu40YNQ"
   },
   "outputs": [],
   "source": [
    "dt1_param_grid = {\n",
    "    'tfidf__ngram_range': [(1,1), (1,2)],\n",
    "    'tfidf__max_features': [5000, 10000], \n",
    "    'dt__max_depth': [4, 6, 10]\n",
    "}"
   ]
  },
  {
   "cell_type": "code",
   "execution_count": 253,
   "metadata": {
    "execution": {
     "iopub.execute_input": "2022-02-04T21:41:10.343084Z",
     "iopub.status.busy": "2022-02-04T21:41:10.342084Z",
     "iopub.status.idle": "2022-02-04T21:41:10.357080Z",
     "shell.execute_reply": "2022-02-04T21:41:10.356077Z",
     "shell.execute_reply.started": "2022-02-04T21:41:10.343084Z"
    },
    "id": "O361Ts7v0YQY"
   },
   "outputs": [],
   "source": [
    "dt1_grid_search = GridSearchCV(estimator=dt1_pipeline,\n",
    "                               param_grid=dt1_param_grid,\n",
    "                               scoring='recall_macro',\n",
    "                               cv=3)"
   ]
  },
  {
   "cell_type": "code",
   "execution_count": 254,
   "metadata": {
    "colab": {
     "base_uri": "https://localhost:8080/"
    },
    "execution": {
     "iopub.execute_input": "2022-02-04T21:41:10.360082Z",
     "iopub.status.busy": "2022-02-04T21:41:10.360082Z",
     "iopub.status.idle": "2022-02-04T21:43:15.461788Z",
     "shell.execute_reply": "2022-02-04T21:43:15.460786Z",
     "shell.execute_reply.started": "2022-02-04T21:41:10.360082Z"
    },
    "id": "jZyyjIvf0YTv",
    "outputId": "b948d587-2d37-466e-e7e6-c48b9c1c26a9"
   },
   "outputs": [
    {
     "data": {
      "text/plain": [
       "GridSearchCV(cv=3,\n",
       "             estimator=Pipeline(steps=[('tfidf', TfidfVectorizer()),\n",
       "                                       ('dt',\n",
       "                                        DecisionTreeClassifier(random_state=123))]),\n",
       "             param_grid={'dt__max_depth': [4, 6, 10],\n",
       "                         'tfidf__max_features': [5000, 10000],\n",
       "                         'tfidf__ngram_range': [(1, 1), (1, 2)]},\n",
       "             scoring='recall_macro')"
      ]
     },
     "execution_count": 254,
     "metadata": {},
     "output_type": "execute_result"
    }
   ],
   "source": [
    "dt1_grid_search.fit(X_train.values.astype(str), y_train)"
   ]
  },
  {
   "cell_type": "code",
   "execution_count": 255,
   "metadata": {
    "colab": {
     "base_uri": "https://localhost:8080/"
    },
    "execution": {
     "iopub.execute_input": "2022-02-04T21:43:15.463786Z",
     "iopub.status.busy": "2022-02-04T21:43:15.462787Z",
     "iopub.status.idle": "2022-02-04T21:43:15.477787Z",
     "shell.execute_reply": "2022-02-04T21:43:15.476784Z",
     "shell.execute_reply.started": "2022-02-04T21:43:15.463786Z"
    },
    "id": "kI-kBpky0YXU",
    "outputId": "48b7553e-3fab-48da-c7a6-196221348fba"
   },
   "outputs": [
    {
     "data": {
      "text/plain": [
       "{'dt__max_depth': 10,\n",
       " 'tfidf__max_features': 10000,\n",
       " 'tfidf__ngram_range': (1, 1)}"
      ]
     },
     "execution_count": 255,
     "metadata": {},
     "output_type": "execute_result"
    }
   ],
   "source": [
    "dt1_grid_search.best_params_"
   ]
  },
  {
   "cell_type": "markdown",
   "metadata": {
    "id": "tKUKfsbi0Yb8"
   },
   "source": [
    "#### Pipeline 2"
   ]
  },
  {
   "cell_type": "code",
   "execution_count": 256,
   "metadata": {
    "execution": {
     "iopub.execute_input": "2022-02-04T21:43:15.479788Z",
     "iopub.status.busy": "2022-02-04T21:43:15.479788Z",
     "iopub.status.idle": "2022-02-04T21:43:15.493788Z",
     "shell.execute_reply": "2022-02-04T21:43:15.491788Z",
     "shell.execute_reply.started": "2022-02-04T21:43:15.479788Z"
    },
    "id": "99nON4Oo0YfY"
   },
   "outputs": [],
   "source": [
    "dt2_pipeline = Pipeline([('tfidf', TfidfVectorizer()), \n",
    "                         ('dt', DecisionTreeClassifier(random_state=123))])\n",
    "\n",
    "\n",
    "dt2_param_grid = {\n",
    "    'tfidf__ngram_range': [(1,1)],\n",
    "    'tfidf__max_features': [10000, 15000], \n",
    "    'dt__max_depth': [10, 15]\n",
    "}"
   ]
  },
  {
   "cell_type": "code",
   "execution_count": 257,
   "metadata": {
    "execution": {
     "iopub.execute_input": "2022-02-04T21:43:15.495793Z",
     "iopub.status.busy": "2022-02-04T21:43:15.494788Z",
     "iopub.status.idle": "2022-02-04T21:43:15.509790Z",
     "shell.execute_reply": "2022-02-04T21:43:15.507788Z",
     "shell.execute_reply.started": "2022-02-04T21:43:15.495793Z"
    },
    "id": "RbzN4I_w1JTy"
   },
   "outputs": [],
   "source": [
    "dt2_grid_search = GridSearchCV(estimator=dt2_pipeline,\n",
    "                               param_grid=dt2_param_grid,\n",
    "                               scoring='recall_macro',\n",
    "                               cv=3)"
   ]
  },
  {
   "cell_type": "code",
   "execution_count": 258,
   "metadata": {
    "colab": {
     "base_uri": "https://localhost:8080/"
    },
    "execution": {
     "iopub.execute_input": "2022-02-04T21:43:15.514789Z",
     "iopub.status.busy": "2022-02-04T21:43:15.514789Z",
     "iopub.status.idle": "2022-02-04T21:43:49.588100Z",
     "shell.execute_reply": "2022-02-04T21:43:49.587097Z",
     "shell.execute_reply.started": "2022-02-04T21:43:15.514789Z"
    },
    "id": "xfUSYWjt1NS9",
    "outputId": "f9c0efcc-412f-47cb-cfa3-9618155418b5"
   },
   "outputs": [
    {
     "data": {
      "text/plain": [
       "{'dt__max_depth': 15,\n",
       " 'tfidf__max_features': 15000,\n",
       " 'tfidf__ngram_range': (1, 1)}"
      ]
     },
     "execution_count": 258,
     "metadata": {},
     "output_type": "execute_result"
    }
   ],
   "source": [
    "dt2_grid_search.fit(X_train.values.astype(str), y_train)\n",
    "dt2_grid_search.best_params_"
   ]
  },
  {
   "cell_type": "markdown",
   "metadata": {
    "id": "c2H3M_pQ1PBy"
   },
   "source": [
    "#### Pipeline 3"
   ]
  },
  {
   "cell_type": "code",
   "execution_count": 259,
   "metadata": {
    "execution": {
     "iopub.execute_input": "2022-02-04T21:43:49.589101Z",
     "iopub.status.busy": "2022-02-04T21:43:49.589101Z",
     "iopub.status.idle": "2022-02-04T21:43:49.604099Z",
     "shell.execute_reply": "2022-02-04T21:43:49.603100Z",
     "shell.execute_reply.started": "2022-02-04T21:43:49.589101Z"
    },
    "id": "7Y01VsbV1Qhe"
   },
   "outputs": [],
   "source": [
    "dt3_pipeline = Pipeline([('tfidf', TfidfVectorizer()), \n",
    "                         ('dt', DecisionTreeClassifier(random_state=123))])\n",
    "\n",
    "\n",
    "dt3_param_grid = {\n",
    "    'tfidf__ngram_range': [(1,1)],\n",
    "    'tfidf__max_features': [15000], \n",
    "    'dt__max_depth': [15, None]\n",
    "}"
   ]
  },
  {
   "cell_type": "code",
   "execution_count": 260,
   "metadata": {
    "colab": {
     "base_uri": "https://localhost:8080/"
    },
    "execution": {
     "iopub.execute_input": "2022-02-04T21:43:49.606101Z",
     "iopub.status.busy": "2022-02-04T21:43:49.606101Z",
     "iopub.status.idle": "2022-02-04T21:44:30.715101Z",
     "shell.execute_reply": "2022-02-04T21:44:30.714096Z",
     "shell.execute_reply.started": "2022-02-04T21:43:49.606101Z"
    },
    "id": "qBbsoZYN1S39",
    "outputId": "7a411234-c416-4d91-dcc1-ac71ed314a8f"
   },
   "outputs": [
    {
     "data": {
      "text/plain": [
       "{'dt__max_depth': None,\n",
       " 'tfidf__max_features': 15000,\n",
       " 'tfidf__ngram_range': (1, 1)}"
      ]
     },
     "execution_count": 260,
     "metadata": {},
     "output_type": "execute_result"
    }
   ],
   "source": [
    "dt3_grid_search = GridSearchCV(estimator=dt3_pipeline,\n",
    "                               param_grid=dt3_param_grid,\n",
    "                               scoring='recall_macro',\n",
    "                               cv=3)\n",
    "\n",
    "dt3_grid_search.fit(X_train.values.astype(str), y_train)\n",
    "dt3_grid_search.best_params_"
   ]
  },
  {
   "cell_type": "markdown",
   "metadata": {
    "id": "B8JscsAd1YYw"
   },
   "source": [
    "#### Run model\n",
    "Try these parameters on the actual dataset"
   ]
  },
  {
   "cell_type": "code",
   "execution_count": 261,
   "metadata": {
    "colab": {
     "base_uri": "https://localhost:8080/"
    },
    "execution": {
     "iopub.execute_input": "2022-02-04T21:44:30.716102Z",
     "iopub.status.busy": "2022-02-04T21:44:30.716102Z",
     "iopub.status.idle": "2022-02-04T21:44:41.814100Z",
     "shell.execute_reply": "2022-02-04T21:44:41.813137Z",
     "shell.execute_reply.started": "2022-02-04T21:44:30.716102Z"
    },
    "id": "ttcIH4d11dbc",
    "outputId": "a06dc2a6-7405-4749-ec1e-f118b7c33592"
   },
   "outputs": [
    {
     "data": {
      "text/plain": [
       "DecisionTreeClassifier()"
      ]
     },
     "execution_count": 261,
     "metadata": {},
     "output_type": "execute_result"
    }
   ],
   "source": [
    "vectorizer = TfidfVectorizer(ngram_range=(1,1), max_features=15000)\n",
    "vect_X_train = vectorizer.fit_transform(X_train.values.astype(str))\n",
    "vect_X_test = vectorizer.transform(X_test)\n",
    "\n",
    "dtree = DecisionTreeClassifier(max_depth=None)\n",
    "dtree.fit(vect_X_train, y_train)"
   ]
  },
  {
   "cell_type": "code",
   "execution_count": 262,
   "metadata": {
    "colab": {
     "base_uri": "https://localhost:8080/",
     "height": 870
    },
    "execution": {
     "iopub.execute_input": "2022-02-04T21:44:41.815100Z",
     "iopub.status.busy": "2022-02-04T21:44:41.815100Z",
     "iopub.status.idle": "2022-02-04T21:44:51.997541Z",
     "shell.execute_reply": "2022-02-04T21:44:51.996538Z",
     "shell.execute_reply.started": "2022-02-04T21:44:41.815100Z"
    },
    "id": "w6_uSy6nwTPI",
    "outputId": "d54603ca-ef8c-40d7-aabf-6220de85314d"
   },
   "outputs": [
    {
     "name": "stdout",
     "output_type": "stream",
     "text": [
      "TRAINING - Classification Report\n",
      "Accuracy: 99.8%\n",
      "Precision: 99.8%\n",
      "Recall: 99.9%\n",
      "F1: 99.8%\n",
      "              precision    recall  f1-score   support\n",
      "\n",
      "           1       1.00      1.00      1.00      3253\n",
      "           2       1.00      1.00      1.00      5990\n",
      "           3       1.00      1.00      1.00      8356\n",
      "\n",
      "    accuracy                           1.00     17599\n",
      "   macro avg       1.00      1.00      1.00     17599\n",
      "weighted avg       1.00      1.00      1.00     17599\n",
      "\n",
      "TESTING - Classification Report\n",
      "Accuracy: 81.8%\n",
      "Precision: 83.0%\n",
      "Recall: 83.2%\n",
      "F1: 83.1%\n",
      "              precision    recall  f1-score   support\n",
      "\n",
      "           1       0.89      0.90      0.89       776\n",
      "           2       0.78      0.78      0.78      1531\n",
      "           3       0.82      0.82      0.82      2093\n",
      "\n",
      "    accuracy                           0.82      4400\n",
      "   macro avg       0.83      0.83      0.83      4400\n",
      "weighted avg       0.82      0.82      0.82      4400\n",
      "\n"
     ]
    },
    {
     "data": {
      "image/png": "[encoded data removed]",
      "text/plain": [
       "<Figure size 1080x360 with 4 Axes>"
      ]
     },
     "metadata": {
      "needs_background": "light"
     },
     "output_type": "display_data"
    }
   ],
   "source": [
    "run_model(dtree, vect_X_train, y_train, vect_X_test, y_test, 3)"
   ]
  },
  {
   "cell_type": "markdown",
   "metadata": {
    "id": "r8QGP2nLwUZ4"
   },
   "source": [
    "Good scores, but problem with overfitting. 11 point difference in recall 'earn' parameter"
   ]
  },
  {
   "cell_type": "markdown",
   "metadata": {
    "id": "hiPz1YsVxfaS"
   },
   "source": [
    "### Decision Tree - Merged df"
   ]
  },
  {
   "cell_type": "code",
   "execution_count": 263,
   "metadata": {
    "execution": {
     "iopub.execute_input": "2022-02-04T21:44:51.998541Z",
     "iopub.status.busy": "2022-02-04T21:44:51.998541Z",
     "iopub.status.idle": "2022-02-04T21:44:52.013542Z",
     "shell.execute_reply": "2022-02-04T21:44:52.012541Z",
     "shell.execute_reply.started": "2022-02-04T21:44:51.998541Z"
    },
    "id": "WbtVGM16xm3R"
   },
   "outputs": [],
   "source": [
    "X = df_merged.drop(['topic'], axis=1)\n",
    "y = df_merged['topic']\n",
    "\n",
    "X_train, X_test, y_train, y_test = train_test_split(X['text'], y, test_size=0.20, random_state=200)"
   ]
  },
  {
   "cell_type": "code",
   "execution_count": 264,
   "metadata": {
    "colab": {
     "base_uri": "https://localhost:8080/"
    },
    "execution": {
     "iopub.execute_input": "2022-02-04T21:44:52.015544Z",
     "iopub.status.busy": "2022-02-04T21:44:52.014542Z",
     "iopub.status.idle": "2022-02-04T21:44:59.896546Z",
     "shell.execute_reply": "2022-02-04T21:44:59.895538Z",
     "shell.execute_reply.started": "2022-02-04T21:44:52.015544Z"
    },
    "id": "tcNdEpqsxoxg",
    "outputId": "1f28ad4b-68db-4982-f7cb-5aa585468bdb"
   },
   "outputs": [
    {
     "data": {
      "text/plain": [
       "DecisionTreeClassifier()"
      ]
     },
     "execution_count": 264,
     "metadata": {},
     "output_type": "execute_result"
    }
   ],
   "source": [
    "vectorizer = TfidfVectorizer(ngram_range=(1,1), max_features=10000)\n",
    "vect_X_train = vectorizer.fit_transform(X_train.values.astype(str))\n",
    "vect_X_test = vectorizer.transform(X_test)\n",
    "\n",
    "dtree = DecisionTreeClassifier(max_depth=None)\n",
    "dtree.fit(vect_X_train, y_train)"
   ]
  },
  {
   "cell_type": "code",
   "execution_count": 265,
   "metadata": {
    "colab": {
     "base_uri": "https://localhost:8080/",
     "height": 835
    },
    "execution": {
     "iopub.execute_input": "2022-02-04T21:44:59.897542Z",
     "iopub.status.busy": "2022-02-04T21:44:59.897542Z",
     "iopub.status.idle": "2022-02-04T21:45:06.310317Z",
     "shell.execute_reply": "2022-02-04T21:45:06.309362Z",
     "shell.execute_reply.started": "2022-02-04T21:44:59.897542Z"
    },
    "id": "QtHAshIFxo2l",
    "outputId": "33d99c9f-6e45-4601-926a-4d2c480b7981"
   },
   "outputs": [
    {
     "name": "stdout",
     "output_type": "stream",
     "text": [
      "TRAINING - Classification Report\n",
      "Accuracy: 99.9%\n",
      "Precision: 99.8%\n",
      "Recall: 100.0%\n",
      "F1: 99.9%\n",
      "              precision    recall  f1-score   support\n",
      "\n",
      "           1       1.00      1.00      1.00      3253\n",
      "           2       1.00      1.00      1.00     14346\n",
      "\n",
      "    accuracy                           1.00     17599\n",
      "   macro avg       1.00      1.00      1.00     17599\n",
      "weighted avg       1.00      1.00      1.00     17599\n",
      "\n",
      "TESTING - Classification Report\n",
      "Accuracy: 96.2%\n",
      "Precision: 93.4%\n",
      "Recall: 93.4%\n",
      "F1: 93.4%\n",
      "              precision    recall  f1-score   support\n",
      "\n",
      "           1       0.89      0.89      0.89       776\n",
      "           2       0.98      0.98      0.98      3624\n",
      "\n",
      "    accuracy                           0.96      4400\n",
      "   macro avg       0.93      0.93      0.93      4400\n",
      "weighted avg       0.96      0.96      0.96      4400\n",
      "\n"
     ]
    },
    {
     "data": {
      "image/png": "[encoded data removed]",
      "text/plain": [
       "<Figure size 1080x360 with 4 Axes>"
      ]
     },
     "metadata": {
      "needs_background": "light"
     },
     "output_type": "display_data"
    }
   ],
   "source": [
    "run_model(dtree, vect_X_train, y_train, vect_X_test, y_test, 2)"
   ]
  },
  {
   "cell_type": "markdown",
   "metadata": {
    "id": "DfNRy20mxo6M"
   },
   "source": [
    "Similar results, but the overfitting problem is a tad better with the merged df."
   ]
  },
  {
   "cell_type": "markdown",
   "metadata": {
    "id": "NAwknlPzxo97"
   },
   "source": [
    "### Decision Tree - No Blank"
   ]
  },
  {
   "cell_type": "markdown",
   "metadata": {
    "id": "GKOJhwQ4xpB4"
   },
   "source": [
    "Curious to see how the default parameters will work on the df without any blanks"
   ]
  },
  {
   "cell_type": "code",
   "execution_count": 266,
   "metadata": {
    "colab": {
     "base_uri": "https://localhost:8080/"
    },
    "execution": {
     "iopub.execute_input": "2022-02-04T21:45:06.312317Z",
     "iopub.status.busy": "2022-02-04T21:45:06.312317Z",
     "iopub.status.idle": "2022-02-04T21:45:09.353313Z",
     "shell.execute_reply": "2022-02-04T21:45:09.352359Z",
     "shell.execute_reply.started": "2022-02-04T21:45:06.312317Z"
    },
    "id": "inBiijA2xpEP",
    "outputId": "f011adfe-10d6-41cb-ea56-7c8297ddcc08"
   },
   "outputs": [
    {
     "data": {
      "text/plain": [
       "DecisionTreeClassifier()"
      ]
     },
     "execution_count": 266,
     "metadata": {},
     "output_type": "execute_result"
    }
   ],
   "source": [
    "X = df_no_blank.drop(['topic'], axis=1)\n",
    "y = df_no_blank['topic']\n",
    "\n",
    "X_train, X_test, y_train, y_test = train_test_split(X['text'], y, test_size=0.20, random_state=200)\n",
    "\n",
    "vectorizer = TfidfVectorizer(ngram_range=(1,1))\n",
    "vect_X_train = vectorizer.fit_transform(X_train.values.astype(str))\n",
    "vect_X_test = vectorizer.transform(X_test)\n",
    "\n",
    "dtree = DecisionTreeClassifier()\n",
    "dtree.fit(vect_X_train, y_train)"
   ]
  },
  {
   "cell_type": "code",
   "execution_count": 267,
   "metadata": {
    "colab": {
     "base_uri": "https://localhost:8080/",
     "height": 835
    },
    "execution": {
     "iopub.execute_input": "2022-02-04T21:45:09.355314Z",
     "iopub.status.busy": "2022-02-04T21:45:09.354313Z",
     "iopub.status.idle": "2022-02-04T21:45:11.809512Z",
     "shell.execute_reply": "2022-02-04T21:45:11.808495Z",
     "shell.execute_reply.started": "2022-02-04T21:45:09.355314Z"
    },
    "id": "VEvJc-uhxpJT",
    "outputId": "d965203b-c525-4d6b-b427-1bc41a2996cc"
   },
   "outputs": [
    {
     "name": "stdout",
     "output_type": "stream",
     "text": [
      "TRAINING - Classification Report\n",
      "Accuracy: 100.0%\n",
      "Precision: 100.0%\n",
      "Recall: 100.0%\n",
      "F1: 100.0%\n",
      "              precision    recall  f1-score   support\n",
      "\n",
      "           1       1.00      1.00      1.00      3210\n",
      "           2       1.00      1.00      1.00      6030\n",
      "\n",
      "    accuracy                           1.00      9240\n",
      "   macro avg       1.00      1.00      1.00      9240\n",
      "weighted avg       1.00      1.00      1.00      9240\n",
      "\n",
      "TESTING - Classification Report\n",
      "Accuracy: 97.2%\n",
      "Precision: 97.0%\n",
      "Recall: 96.8%\n",
      "F1: 96.9%\n",
      "              precision    recall  f1-score   support\n",
      "\n",
      "           1       0.96      0.96      0.96       819\n",
      "           2       0.98      0.98      0.98      1491\n",
      "\n",
      "    accuracy                           0.97      2310\n",
      "   macro avg       0.97      0.97      0.97      2310\n",
      "weighted avg       0.97      0.97      0.97      2310\n",
      "\n"
     ]
    },
    {
     "data": {
      "image/png": "[encoded data removed]",
      "text/plain": [
       "<Figure size 1080x360 with 4 Axes>"
      ]
     },
     "metadata": {
      "needs_background": "light"
     },
     "output_type": "display_data"
    }
   ],
   "source": [
    "run_model(dtree, vect_X_train, y_train, vect_X_test, y_test, 2)"
   ]
  },
  {
   "cell_type": "markdown",
   "metadata": {
    "id": "R_AX0Ts7yMFd"
   },
   "source": [
    "Very good scores! Minimal overfitting!\n",
    "\n",
    "Makes me think that the 'blank' category must be corrupted with articles that would have been classified as 'earn'. \n",
    "\n",
    "One problem is the dataset is much smaller. "
   ]
  },
  {
   "cell_type": "code",
   "execution_count": 268,
   "metadata": {
    "colab": {
     "base_uri": "https://localhost:8080/"
    },
    "execution": {
     "iopub.execute_input": "2022-02-04T21:45:11.810495Z",
     "iopub.status.busy": "2022-02-04T21:45:11.810495Z",
     "iopub.status.idle": "2022-02-04T21:45:11.825496Z",
     "shell.execute_reply": "2022-02-04T21:45:11.824499Z",
     "shell.execute_reply.started": "2022-02-04T21:45:11.810495Z"
    },
    "id": "hGxVDhDyyMM9",
    "outputId": "52f7799b-c77f-43b5-adba-347c8588764f"
   },
   "outputs": [
    {
     "name": "stdout",
     "output_type": "stream",
     "text": [
      "Percent smaller without 'blank' topics: 52.5%\n"
     ]
    }
   ],
   "source": [
    "print(f\"Percent smaller without 'blank' topics: {round((len(df_no_blank)/len(df))*100, 2)}%\")"
   ]
  },
  {
   "cell_type": "code",
   "execution_count": 269,
   "metadata": {
    "colab": {
     "base_uri": "https://localhost:8080/"
    },
    "execution": {
     "iopub.execute_input": "2022-02-04T21:45:11.830526Z",
     "iopub.status.busy": "2022-02-04T21:45:11.829497Z",
     "iopub.status.idle": "2022-02-04T21:45:11.857499Z",
     "shell.execute_reply": "2022-02-04T21:45:11.856539Z",
     "shell.execute_reply.started": "2022-02-04T21:45:11.830526Z"
    },
    "id": "TqM1OateyMRC",
    "outputId": "6f2b557f-5565-486b-88db-1dfc453cfee8"
   },
   "outputs": [
    {
     "name": "stdout",
     "output_type": "stream",
     "text": [
      "Topic 1: 34.88%\n",
      "Topic 2: 65.12%\n"
     ]
    }
   ],
   "source": [
    "print(f\"Topic 1: {round((sum(df_no_blank.topic == 1)/len(df_no_blank.topic)) *100, 2)}%\")\n",
    "print(f\"Topic 2: {round((sum(df_no_blank.topic == 2)/len(df_no_blank.topic)) *100, 2)}%\")"
   ]
  },
  {
   "cell_type": "markdown",
   "metadata": {
    "id": "zbubmZE8yMTe"
   },
   "source": [
    "## Count Vectorizer"
   ]
  },
  {
   "cell_type": "markdown",
   "metadata": {
    "id": "JEu8ETX1yMYb"
   },
   "source": [
    "### Decision Tree - Main df"
   ]
  },
  {
   "cell_type": "markdown",
   "metadata": {
    "id": "fYlKr1c5yMau"
   },
   "source": [
    "#### Train-test split"
   ]
  },
  {
   "cell_type": "code",
   "execution_count": 270,
   "metadata": {
    "execution": {
     "iopub.execute_input": "2022-02-04T21:45:11.859498Z",
     "iopub.status.busy": "2022-02-04T21:45:11.858495Z",
     "iopub.status.idle": "2022-02-04T21:45:11.873497Z",
     "shell.execute_reply": "2022-02-04T21:45:11.872526Z",
     "shell.execute_reply.started": "2022-02-04T21:45:11.859498Z"
    },
    "id": "VR6sJBR6yMfq"
   },
   "outputs": [],
   "source": [
    "X = df.drop(['topic'], axis=1)\n",
    "y = df['topic']\n",
    "\n",
    "X_train, X_test, y_train, y_test = train_test_split(X['text'], y, test_size=0.20, random_state=200)"
   ]
  },
  {
   "cell_type": "markdown",
   "metadata": {
    "id": "XQam2XLdzP4T"
   },
   "source": [
    "#### Pipeline 1"
   ]
  },
  {
   "cell_type": "code",
   "execution_count": 271,
   "metadata": {
    "execution": {
     "iopub.execute_input": "2022-02-04T21:45:11.874497Z",
     "iopub.status.busy": "2022-02-04T21:45:11.874497Z",
     "iopub.status.idle": "2022-02-04T21:45:11.890510Z",
     "shell.execute_reply": "2022-02-04T21:45:11.888496Z",
     "shell.execute_reply.started": "2022-02-04T21:45:11.874497Z"
    },
    "id": "ezinLOh8zQfX"
   },
   "outputs": [],
   "source": [
    "dt1_pipeline = Pipeline([('countv', CountVectorizer()), \n",
    "                         ('dt', DecisionTreeClassifier(random_state=123))])\n",
    "\n",
    "dt1_param_grid = {\n",
    "    'countv__ngram_range': [(1,1), (1,2)],\n",
    "    'countv__max_features': [5000, 10000, 25000], \n",
    "    'dt__max_depth': [6]\n",
    "}\n",
    "\n",
    "dt1_grid_search = GridSearchCV(estimator=dt1_pipeline,\n",
    "                               param_grid=dt1_param_grid,\n",
    "                               scoring='recall_macro',\n",
    "                               cv=3)"
   ]
  },
  {
   "cell_type": "code",
   "execution_count": 272,
   "metadata": {
    "colab": {
     "base_uri": "https://localhost:8080/"
    },
    "execution": {
     "iopub.execute_input": "2022-02-04T21:45:11.892498Z",
     "iopub.status.busy": "2022-02-04T21:45:11.891497Z",
     "iopub.status.idle": "2022-02-04T21:46:19.961333Z",
     "shell.execute_reply": "2022-02-04T21:46:19.960329Z",
     "shell.execute_reply.started": "2022-02-04T21:45:11.892498Z"
    },
    "id": "0jtVfJAuzQjX",
    "outputId": "1172b4d3-5d8c-4f0f-be32-25e9c025cc31"
   },
   "outputs": [
    {
     "data": {
      "text/plain": [
       "GridSearchCV(cv=3,\n",
       "             estimator=Pipeline(steps=[('countv', CountVectorizer()),\n",
       "                                       ('dt',\n",
       "                                        DecisionTreeClassifier(random_state=123))]),\n",
       "             param_grid={'countv__max_features': [5000, 10000, 25000],\n",
       "                         'countv__ngram_range': [(1, 1), (1, 2)],\n",
       "                         'dt__max_depth': [6]},\n",
       "             scoring='recall_macro')"
      ]
     },
     "execution_count": 272,
     "metadata": {},
     "output_type": "execute_result"
    }
   ],
   "source": [
    "dt1_grid_search.fit(X_train.values.astype(str), y_train)"
   ]
  },
  {
   "cell_type": "code",
   "execution_count": 273,
   "metadata": {
    "colab": {
     "base_uri": "https://localhost:8080/"
    },
    "execution": {
     "iopub.execute_input": "2022-02-04T21:46:19.963336Z",
     "iopub.status.busy": "2022-02-04T21:46:19.963336Z",
     "iopub.status.idle": "2022-02-04T21:46:19.976335Z",
     "shell.execute_reply": "2022-02-04T21:46:19.975338Z",
     "shell.execute_reply.started": "2022-02-04T21:46:19.963336Z"
    },
    "id": "t19Yt7-ZzQnP",
    "outputId": "31601770-989e-4dbe-fbb6-b7feb024bc6e"
   },
   "outputs": [
    {
     "data": {
      "text/plain": [
       "{'countv__max_features': 25000,\n",
       " 'countv__ngram_range': (1, 2),\n",
       " 'dt__max_depth': 6}"
      ]
     },
     "execution_count": 273,
     "metadata": {},
     "output_type": "execute_result"
    }
   ],
   "source": [
    "dt1_grid_search.best_params_"
   ]
  },
  {
   "cell_type": "markdown",
   "metadata": {
    "id": "enOkLQ5pzQpi"
   },
   "source": [
    "#### Pipeline 2"
   ]
  },
  {
   "cell_type": "code",
   "execution_count": 274,
   "metadata": {
    "colab": {
     "base_uri": "https://localhost:8080/"
    },
    "execution": {
     "iopub.execute_input": "2022-02-04T21:46:19.979335Z",
     "iopub.status.busy": "2022-02-04T21:46:19.979335Z",
     "iopub.status.idle": "2022-02-04T21:48:19.723336Z",
     "shell.execute_reply": "2022-02-04T21:48:19.721505Z",
     "shell.execute_reply.started": "2022-02-04T21:46:19.979335Z"
    },
    "id": "6ka7Hn7RzQuf",
    "outputId": "34f1ebc7-cc96-480a-80b7-64166dcab2d2"
   },
   "outputs": [
    {
     "data": {
      "text/plain": [
       "{'countv__max_features': 35000,\n",
       " 'countv__ngram_range': (1, 2),\n",
       " 'dt__max_depth': None}"
      ]
     },
     "execution_count": 274,
     "metadata": {},
     "output_type": "execute_result"
    }
   ],
   "source": [
    "dt2_pipeline = Pipeline([('countv', CountVectorizer()), \n",
    "                         ('dt', DecisionTreeClassifier(random_state=123))])\n",
    "\n",
    "dt2_param_grid = {\n",
    "    'countv__ngram_range': [(1,2)],\n",
    "    'countv__max_features': [25000, 35000], \n",
    "    'dt__max_depth': [6, None]\n",
    "}\n",
    "\n",
    "dt2_grid_search = GridSearchCV(estimator=dt2_pipeline,\n",
    "                               param_grid=dt2_param_grid,\n",
    "                               scoring='recall_macro',\n",
    "                               cv=3)\n",
    "\n",
    "dt2_grid_search.fit(X_train.values.astype(str), y_train)\n",
    "\n",
    "dt2_grid_search.best_params_"
   ]
  },
  {
   "cell_type": "markdown",
   "metadata": {
    "id": "xh93fSChzQw5"
   },
   "source": [
    "#### Run Model"
   ]
  },
  {
   "cell_type": "code",
   "execution_count": 275,
   "metadata": {
    "colab": {
     "base_uri": "https://localhost:8080/"
    },
    "execution": {
     "iopub.execute_input": "2022-02-04T21:48:19.724333Z",
     "iopub.status.busy": "2022-02-04T21:48:19.724333Z",
     "iopub.status.idle": "2022-02-04T21:48:38.936334Z",
     "shell.execute_reply": "2022-02-04T21:48:38.935363Z",
     "shell.execute_reply.started": "2022-02-04T21:48:19.724333Z"
    },
    "id": "wcQQxbXwzhHk",
    "outputId": "2aa62fb5-855e-46a0-ec56-843426e4fd88"
   },
   "outputs": [
    {
     "data": {
      "text/plain": [
       "DecisionTreeClassifier()"
      ]
     },
     "execution_count": 275,
     "metadata": {},
     "output_type": "execute_result"
    }
   ],
   "source": [
    "vectorizer = CountVectorizer(ngram_range=(1,2), max_features=25000)\n",
    "vect_X_train = vectorizer.fit_transform(X_train.values.astype(str))\n",
    "vect_X_test = vectorizer.transform(X_test)\n",
    "\n",
    "dtree = DecisionTreeClassifier(max_depth=None)\n",
    "dtree.fit(vect_X_train, y_train)"
   ]
  },
  {
   "cell_type": "code",
   "execution_count": 276,
   "metadata": {
    "colab": {
     "base_uri": "https://localhost:8080/",
     "height": 870
    },
    "execution": {
     "iopub.execute_input": "2022-02-04T21:48:38.938331Z",
     "iopub.status.busy": "2022-02-04T21:48:38.937332Z",
     "iopub.status.idle": "2022-02-04T21:48:51.055340Z",
     "shell.execute_reply": "2022-02-04T21:48:51.054465Z",
     "shell.execute_reply.started": "2022-02-04T21:48:38.937332Z"
    },
    "id": "Svalia3rzhp6",
    "outputId": "f0575c6a-088c-475f-a08f-d8c451006fdf"
   },
   "outputs": [
    {
     "name": "stdout",
     "output_type": "stream",
     "text": [
      "TRAINING - Classification Report\n",
      "Accuracy: 99.8%\n",
      "Precision: 99.8%\n",
      "Recall: 99.9%\n",
      "F1: 99.8%\n",
      "              precision    recall  f1-score   support\n",
      "\n",
      "           1       1.00      1.00      1.00      3253\n",
      "           2       1.00      1.00      1.00      5990\n",
      "           3       1.00      1.00      1.00      8356\n",
      "\n",
      "    accuracy                           1.00     17599\n",
      "   macro avg       1.00      1.00      1.00     17599\n",
      "weighted avg       1.00      1.00      1.00     17599\n",
      "\n",
      "TESTING - Classification Report\n",
      "Accuracy: 82.6%\n",
      "Precision: 83.7%\n",
      "Recall: 83.6%\n",
      "F1: 83.6%\n",
      "              precision    recall  f1-score   support\n",
      "\n",
      "           1       0.89      0.88      0.89       776\n",
      "           2       0.79      0.80      0.79      1531\n",
      "           3       0.83      0.82      0.83      2093\n",
      "\n",
      "    accuracy                           0.83      4400\n",
      "   macro avg       0.84      0.84      0.84      4400\n",
      "weighted avg       0.83      0.83      0.83      4400\n",
      "\n"
     ]
    },
    {
     "data": {
      "image/png": "[encoded data removed]",
      "text/plain": [
       "<Figure size 1080x360 with 4 Axes>"
      ]
     },
     "metadata": {
      "needs_background": "light"
     },
     "output_type": "display_data"
    }
   ],
   "source": [
    "run_model(dtree, vect_X_train, y_train, vect_X_test, y_test, 2)"
   ]
  },
  {
   "cell_type": "markdown",
   "metadata": {
    "id": "IV2NijSvzhvn"
   },
   "source": [
    "About the same as the last one with worse issue with overfitting."
   ]
  },
  {
   "cell_type": "markdown",
   "metadata": {
    "id": "akf5H0Lszhzt"
   },
   "source": [
    "### Decision Tree - No Blank"
   ]
  },
  {
   "cell_type": "code",
   "execution_count": 277,
   "metadata": {
    "colab": {
     "base_uri": "https://localhost:8080/"
    },
    "execution": {
     "iopub.execute_input": "2022-02-04T21:48:51.057368Z",
     "iopub.status.busy": "2022-02-04T21:48:51.056330Z",
     "iopub.status.idle": "2022-02-04T21:48:54.997031Z",
     "shell.execute_reply": "2022-02-04T21:48:54.996010Z",
     "shell.execute_reply.started": "2022-02-04T21:48:51.057368Z"
    },
    "id": "RRVAOl8Izh4T",
    "outputId": "5050a615-d0a4-47d1-d1d3-eba5341cc8f8"
   },
   "outputs": [
    {
     "data": {
      "text/plain": [
       "DecisionTreeClassifier()"
      ]
     },
     "execution_count": 277,
     "metadata": {},
     "output_type": "execute_result"
    }
   ],
   "source": [
    "X = df_no_blank.drop(['topic'], axis=1)\n",
    "y = df_no_blank['topic']\n",
    "\n",
    "X_train, X_test, y_train, y_test = train_test_split(X['text'], y, test_size=0.20, random_state=200)\n",
    "\n",
    "vectorizer = CountVectorizer(ngram_range=(1,2), max_features=25000)\n",
    "vect_X_train = vectorizer.fit_transform(X_train.values.astype(str))\n",
    "vect_X_test = vectorizer.transform(X_test)\n",
    "\n",
    "dtree = DecisionTreeClassifier(max_depth=None)\n",
    "dtree.fit(vect_X_train, y_train)"
   ]
  },
  {
   "cell_type": "code",
   "execution_count": 278,
   "metadata": {
    "colab": {
     "base_uri": "https://localhost:8080/",
     "height": 835
    },
    "execution": {
     "iopub.execute_input": "2022-02-04T21:48:54.999043Z",
     "iopub.status.busy": "2022-02-04T21:48:54.998037Z",
     "iopub.status.idle": "2022-02-04T21:48:56.479034Z",
     "shell.execute_reply": "2022-02-04T21:48:56.478038Z",
     "shell.execute_reply.started": "2022-02-04T21:48:54.998037Z"
    },
    "id": "F7pBge3T0z1P",
    "outputId": "c82ace06-e663-42c2-a7f5-b36db3863134"
   },
   "outputs": [
    {
     "name": "stdout",
     "output_type": "stream",
     "text": [
      "TRAINING - Classification Report\n",
      "Accuracy: 100.0%\n",
      "Precision: 100.0%\n",
      "Recall: 100.0%\n",
      "F1: 100.0%\n",
      "              precision    recall  f1-score   support\n",
      "\n",
      "           1       1.00      1.00      1.00      3210\n",
      "           2       1.00      1.00      1.00      6030\n",
      "\n",
      "    accuracy                           1.00      9240\n",
      "   macro avg       1.00      1.00      1.00      9240\n",
      "weighted avg       1.00      1.00      1.00      9240\n",
      "\n",
      "TESTING - Classification Report\n",
      "Accuracy: 96.7%\n",
      "Precision: 96.5%\n",
      "Recall: 96.3%\n",
      "F1: 96.4%\n",
      "              precision    recall  f1-score   support\n",
      "\n",
      "           1       0.96      0.95      0.95       819\n",
      "           2       0.97      0.98      0.97      1491\n",
      "\n",
      "    accuracy                           0.97      2310\n",
      "   macro avg       0.97      0.96      0.96      2310\n",
      "weighted avg       0.97      0.97      0.97      2310\n",
      "\n"
     ]
    },
    {
     "data": {
      "image/png": "[encoded data removed]",
      "text/plain": [
       "<Figure size 1080x360 with 4 Axes>"
      ]
     },
     "metadata": {
      "needs_background": "light"
     },
     "output_type": "display_data"
    }
   ],
   "source": [
    "run_model(dtree, vect_X_train, y_train, vect_X_test, y_test, 2)"
   ]
  },
  {
   "cell_type": "markdown",
   "metadata": {
    "id": "iiFaR0nv00GF"
   },
   "source": [
    "Again, good scores when you don't have the 'blank' category."
   ]
  },
  {
   "cell_type": "markdown",
   "metadata": {
    "id": "Av2mFwY900LV"
   },
   "source": [
    "# Conclusion"
   ]
  },
  {
   "cell_type": "markdown",
   "metadata": {
    "id": "gi3LY07p00Qi"
   },
   "source": [
    "The best performing model with least overfitting for predicting the 'earn' category uses:     \n",
    "\n",
    "`vectorizer = TfidfVectorizer(ngram_range=(1,1))`\n",
    "with the default DecisionTree parameters and only two topics: 'earn' and 'other' and removing the articles where the topics are 'blank'. \n",
    "\n"
   ]
  },
  {
   "cell_type": "code",
   "execution_count": 279,
   "metadata": {
    "colab": {
     "base_uri": "https://localhost:8080/",
     "height": 835
    },
    "execution": {
     "iopub.execute_input": "2022-02-04T21:48:56.480049Z",
     "iopub.status.busy": "2022-02-04T21:48:56.480049Z",
     "iopub.status.idle": "2022-02-04T21:49:01.934029Z",
     "shell.execute_reply": "2022-02-04T21:49:01.932253Z",
     "shell.execute_reply.started": "2022-02-04T21:48:56.480049Z"
    },
    "id": "T8QJ2i2D2Ik6",
    "outputId": "dad5f4fb-e3b0-46e0-8ce7-0927882bc7f3"
   },
   "outputs": [
    {
     "name": "stdout",
     "output_type": "stream",
     "text": [
      "TRAINING - Classification Report\n",
      "Accuracy: 100.0%\n",
      "Precision: 100.0%\n",
      "Recall: 100.0%\n",
      "F1: 100.0%\n",
      "              precision    recall  f1-score   support\n",
      "\n",
      "           1       1.00      1.00      1.00      3210\n",
      "           2       1.00      1.00      1.00      6030\n",
      "\n",
      "    accuracy                           1.00      9240\n",
      "   macro avg       1.00      1.00      1.00      9240\n",
      "weighted avg       1.00      1.00      1.00      9240\n",
      "\n",
      "TESTING - Classification Report\n",
      "Accuracy: 96.8%\n",
      "Precision: 96.6%\n",
      "Recall: 96.5%\n",
      "F1: 96.5%\n",
      "              precision    recall  f1-score   support\n",
      "\n",
      "           1       0.96      0.95      0.96       819\n",
      "           2       0.97      0.98      0.98      1491\n",
      "\n",
      "    accuracy                           0.97      2310\n",
      "   macro avg       0.97      0.96      0.97      2310\n",
      "weighted avg       0.97      0.97      0.97      2310\n",
      "\n"
     ]
    },
    {
     "data": {
      "image/png": "[encoded data removed]",
      "text/plain": [
       "<Figure size 1080x360 with 4 Axes>"
      ]
     },
     "metadata": {
      "needs_background": "light"
     },
     "output_type": "display_data"
    }
   ],
   "source": [
    "X = df_no_blank.drop(['topic'], axis=1)\n",
    "y = df_no_blank['topic']\n",
    "\n",
    "X_train, X_test, y_train, y_test = train_test_split(X['text'], y, test_size=0.20, random_state=200)\n",
    "\n",
    "vectorizer = TfidfVectorizer(ngram_range=(1,1))\n",
    "vect_X_train = vectorizer.fit_transform(X_train.values.astype(str))\n",
    "vect_X_test = vectorizer.transform(X_test)\n",
    "\n",
    "dtree = DecisionTreeClassifier()\n",
    "dtree.fit(vect_X_train, y_train)\n",
    "\n",
    "run_model(dtree, vect_X_train, y_train, vect_X_test, y_test, 2)"
   ]
  },
  {
   "cell_type": "code",
   "execution_count": null,
   "metadata": {},
   "outputs": [],
   "source": []
  }
 ],
 "metadata": {
  "colab": {
   "collapsed_sections": [],
   "name": "interos_NLP-H_Alpert.ipynb",
   "provenance": [],
   "toc_visible": true
  },
  "kernelspec": {
   "display_name": "Python 3",
   "language": "python",
   "name": "python3"
  },
  "language_info": {
   "codemirror_mode": {
    "name": "ipython",
    "version": 3
   },
   "file_extension": ".py",
   "mimetype": "text/x-python",
   "name": "python",
   "nbconvert_exporter": "python",
   "pygments_lexer": "ipython3",
   "version": "3.6.9"
  }
 },
 "nbformat": 4,
 "nbformat_minor": 4
}
