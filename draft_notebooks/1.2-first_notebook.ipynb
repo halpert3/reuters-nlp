{
 "cells": [
  {
   "cell_type": "code",
   "execution_count": 72,
   "metadata": {
    "execution": {
     "iopub.execute_input": "2021-10-29T22:24:25.512326Z",
     "iopub.status.busy": "2021-10-29T22:24:25.512326Z",
     "iopub.status.idle": "2021-10-29T22:24:25.538291Z",
     "shell.execute_reply": "2021-10-29T22:24:25.537289Z",
     "shell.execute_reply.started": "2021-10-29T22:24:25.512326Z"
    }
   },
   "outputs": [],
   "source": [
    "import pandas as pd\n",
    "import numpy as np\n",
    "from bs4 import BeautifulSoup\n",
    "import os"
   ]
  },
  {
   "cell_type": "code",
   "execution_count": 73,
   "metadata": {
    "execution": {
     "iopub.execute_input": "2021-10-29T22:24:25.544290Z",
     "iopub.status.busy": "2021-10-29T22:24:25.543290Z",
     "iopub.status.idle": "2021-10-29T22:24:25.570287Z",
     "shell.execute_reply": "2021-10-29T22:24:25.569287Z",
     "shell.execute_reply.started": "2021-10-29T22:24:25.543290Z"
    }
   },
   "outputs": [],
   "source": [
    "f = open('data_files/reut2-000.sgm', encoding='utf-8', errors='ignore')\n",
    "dataFile = f.read()"
   ]
  },
  {
   "cell_type": "code",
   "execution_count": 74,
   "metadata": {
    "execution": {
     "iopub.execute_input": "2021-10-29T22:24:25.575327Z",
     "iopub.status.busy": "2021-10-29T22:24:25.575327Z",
     "iopub.status.idle": "2021-10-29T22:24:25.586292Z",
     "shell.execute_reply": "2021-10-29T22:24:25.585293Z",
     "shell.execute_reply.started": "2021-10-29T22:24:25.575327Z"
    }
   },
   "outputs": [
    {
     "data": {
      "text/plain": [
       "str"
      ]
     },
     "execution_count": 74,
     "metadata": {},
     "output_type": "execute_result"
    }
   ],
   "source": [
    "type(dataFile)"
   ]
  },
  {
   "cell_type": "code",
   "execution_count": 75,
   "metadata": {
    "execution": {
     "iopub.execute_input": "2021-10-29T22:24:25.588292Z",
     "iopub.status.busy": "2021-10-29T22:24:25.588292Z",
     "iopub.status.idle": "2021-10-29T22:24:25.618290Z",
     "shell.execute_reply": "2021-10-29T22:24:25.617290Z",
     "shell.execute_reply.started": "2021-10-29T22:24:25.588292Z"
    }
   },
   "outputs": [
    {
     "data": {
      "text/plain": [
       "'<!DOCTYPE lewis SYSTEM \"lewis.dtd\">\\n<REUTERS TOPICS=\"YES\" LEWISSPLIT=\"TRAIN\" CGISPLIT=\"TRAINING-SET\" OLDID=\"5544\" NEWID=\"1\">\\n<DATE>26-FEB-1987 15:01:01.79</DATE>\\n<TOPICS><D>cocoa</D></TOPICS>\\n<PLACES><D>el-salvador</D><D>usa</D><D>uruguay</D></PLACES>\\n<PEOPLE></PEOPLE>\\n<ORGS></ORGS>\\n<EXCHANGES></EXCHANGES>\\n<COMPANIES></COMPANIES>\\n<UNKNOWN> \\n&#5;&#5;&#5;C T\\n&#22;&#22;&#1;f0704&#31;reute\\nu f BC-BAHIA-COCOA-REVIEW   02-26 0105</UNKNOWN>\\n<TEXT>&#2;\\n<TITLE>BAHIA COCOA REVIEW</TITLE>\\n<DATELINE>    SAL'"
      ]
     },
     "execution_count": 75,
     "metadata": {},
     "output_type": "execute_result"
    }
   ],
   "source": [
    "dataFile[0:500]"
   ]
  },
  {
   "cell_type": "code",
   "execution_count": 76,
   "metadata": {
    "execution": {
     "iopub.execute_input": "2021-10-29T22:24:25.620291Z",
     "iopub.status.busy": "2021-10-29T22:24:25.620291Z",
     "iopub.status.idle": "2021-10-29T22:24:26.895288Z",
     "shell.execute_reply": "2021-10-29T22:24:26.894332Z",
     "shell.execute_reply.started": "2021-10-29T22:24:25.620291Z"
    }
   },
   "outputs": [],
   "source": [
    "soup = BeautifulSoup(dataFile,'lxml')"
   ]
  },
  {
   "cell_type": "code",
   "execution_count": 77,
   "metadata": {
    "execution": {
     "iopub.execute_input": "2021-10-29T22:24:26.896294Z",
     "iopub.status.busy": "2021-10-29T22:24:26.896294Z",
     "iopub.status.idle": "2021-10-29T22:24:26.911290Z",
     "shell.execute_reply": "2021-10-29T22:24:26.910323Z",
     "shell.execute_reply.started": "2021-10-29T22:24:26.896294Z"
    }
   },
   "outputs": [
    {
     "data": {
      "text/plain": [
       "bs4.BeautifulSoup"
      ]
     },
     "execution_count": 77,
     "metadata": {},
     "output_type": "execute_result"
    }
   ],
   "source": [
    "type(soup)"
   ]
  },
  {
   "cell_type": "code",
   "execution_count": 78,
   "metadata": {
    "execution": {
     "iopub.execute_input": "2021-10-29T22:24:26.916290Z",
     "iopub.status.busy": "2021-10-29T22:24:26.914292Z",
     "iopub.status.idle": "2021-10-29T22:24:26.976296Z",
     "shell.execute_reply": "2021-10-29T22:24:26.974290Z",
     "shell.execute_reply.started": "2021-10-29T22:24:26.916290Z"
    }
   },
   "outputs": [],
   "source": [
    "content = soup.findAll('reuters')"
   ]
  },
  {
   "cell_type": "code",
   "execution_count": 79,
   "metadata": {
    "execution": {
     "iopub.execute_input": "2021-10-29T22:24:26.982290Z",
     "iopub.status.busy": "2021-10-29T22:24:26.981295Z",
     "iopub.status.idle": "2021-10-29T22:24:27.006294Z",
     "shell.execute_reply": "2021-10-29T22:24:27.004292Z",
     "shell.execute_reply.started": "2021-10-29T22:24:26.982290Z"
    }
   },
   "outputs": [
    {
     "data": {
      "text/plain": [
       "bs4.element.ResultSet"
      ]
     },
     "execution_count": 79,
     "metadata": {},
     "output_type": "execute_result"
    }
   ],
   "source": [
    "type(content)"
   ]
  },
  {
   "cell_type": "code",
   "execution_count": 80,
   "metadata": {
    "execution": {
     "iopub.execute_input": "2021-10-29T22:24:27.012291Z",
     "iopub.status.busy": "2021-10-29T22:24:27.011291Z",
     "iopub.status.idle": "2021-10-29T22:24:27.037290Z",
     "shell.execute_reply": "2021-10-29T22:24:27.036289Z",
     "shell.execute_reply.started": "2021-10-29T22:24:27.012291Z"
    }
   },
   "outputs": [
    {
     "data": {
      "text/plain": [
       "1000"
      ]
     },
     "execution_count": 80,
     "metadata": {},
     "output_type": "execute_result"
    }
   ],
   "source": [
    "len(content)"
   ]
  },
  {
   "cell_type": "code",
   "execution_count": 81,
   "metadata": {
    "execution": {
     "iopub.execute_input": "2021-10-29T22:24:27.040288Z",
     "iopub.status.busy": "2021-10-29T22:24:27.039290Z",
     "iopub.status.idle": "2021-10-29T22:24:27.054294Z",
     "shell.execute_reply": "2021-10-29T22:24:27.052300Z",
     "shell.execute_reply.started": "2021-10-29T22:24:27.040288Z"
    }
   },
   "outputs": [],
   "source": [
    "cont = content[0]"
   ]
  },
  {
   "cell_type": "code",
   "execution_count": 82,
   "metadata": {
    "execution": {
     "iopub.execute_input": "2021-10-29T22:24:27.058293Z",
     "iopub.status.busy": "2021-10-29T22:24:27.057290Z",
     "iopub.status.idle": "2021-10-29T22:24:27.086293Z",
     "shell.execute_reply": "2021-10-29T22:24:27.084290Z",
     "shell.execute_reply.started": "2021-10-29T22:24:27.058293Z"
    }
   },
   "outputs": [
    {
     "data": {
      "text/plain": [
       "bs4.element.Tag"
      ]
     },
     "execution_count": 82,
     "metadata": {},
     "output_type": "execute_result"
    }
   ],
   "source": [
    "type(cont)"
   ]
  },
  {
   "cell_type": "code",
   "execution_count": 83,
   "metadata": {
    "execution": {
     "iopub.execute_input": "2021-10-29T22:24:27.090292Z",
     "iopub.status.busy": "2021-10-29T22:24:27.089291Z",
     "iopub.status.idle": "2021-10-29T22:24:27.117293Z",
     "shell.execute_reply": "2021-10-29T22:24:27.116292Z",
     "shell.execute_reply.started": "2021-10-29T22:24:27.090292Z"
    }
   },
   "outputs": [
    {
     "data": {
      "text/plain": [
       "<topics><d>cocoa</d></topics>"
      ]
     },
     "execution_count": 83,
     "metadata": {},
     "output_type": "execute_result"
    }
   ],
   "source": [
    "cont.topics"
   ]
  },
  {
   "cell_type": "markdown",
   "metadata": {},
   "source": [
    "This is what I was looking for"
   ]
  },
  {
   "cell_type": "code",
   "execution_count": 84,
   "metadata": {
    "execution": {
     "iopub.execute_input": "2021-10-29T22:24:27.121292Z",
     "iopub.status.busy": "2021-10-29T22:24:27.119290Z",
     "iopub.status.idle": "2021-10-29T22:24:27.149292Z",
     "shell.execute_reply": "2021-10-29T22:24:27.147290Z",
     "shell.execute_reply.started": "2021-10-29T22:24:27.120289Z"
    }
   },
   "outputs": [
    {
     "data": {
      "text/plain": [
       "<d>cocoa</d>"
      ]
     },
     "execution_count": 84,
     "metadata": {},
     "output_type": "execute_result"
    }
   ],
   "source": [
    "cont.topics.d"
   ]
  },
  {
   "cell_type": "markdown",
   "metadata": {},
   "source": [
    "https://www.youtube.com/watch?v=GjKQ6V_ViQE Stopped at 13:30"
   ]
  },
  {
   "cell_type": "code",
   "execution_count": 85,
   "metadata": {
    "execution": {
     "iopub.execute_input": "2021-10-29T22:24:27.154291Z",
     "iopub.status.busy": "2021-10-29T22:24:27.153291Z",
     "iopub.status.idle": "2021-10-29T22:24:27.560295Z",
     "shell.execute_reply": "2021-10-29T22:24:27.559291Z",
     "shell.execute_reply.started": "2021-10-29T22:24:27.154291Z"
    }
   },
   "outputs": [],
   "source": [
    "all_topics = soup.select(\"topics d\")"
   ]
  },
  {
   "cell_type": "code",
   "execution_count": 86,
   "metadata": {
    "execution": {
     "iopub.execute_input": "2021-10-29T22:24:27.562288Z",
     "iopub.status.busy": "2021-10-29T22:24:27.562288Z",
     "iopub.status.idle": "2021-10-29T22:24:27.577292Z",
     "shell.execute_reply": "2021-10-29T22:24:27.575291Z",
     "shell.execute_reply.started": "2021-10-29T22:24:27.562288Z"
    }
   },
   "outputs": [
    {
     "data": {
      "text/plain": [
       "list"
      ]
     },
     "execution_count": 86,
     "metadata": {},
     "output_type": "execute_result"
    }
   ],
   "source": [
    "type(all_topics)"
   ]
  },
  {
   "cell_type": "code",
   "execution_count": 87,
   "metadata": {
    "execution": {
     "iopub.execute_input": "2021-10-29T22:24:27.581289Z",
     "iopub.status.busy": "2021-10-29T22:24:27.579291Z",
     "iopub.status.idle": "2021-10-29T22:24:27.609290Z",
     "shell.execute_reply": "2021-10-29T22:24:27.607289Z",
     "shell.execute_reply.started": "2021-10-29T22:24:27.581289Z"
    }
   },
   "outputs": [
    {
     "data": {
      "text/plain": [
       "<d>cocoa</d>"
      ]
     },
     "execution_count": 87,
     "metadata": {},
     "output_type": "execute_result"
    }
   ],
   "source": [
    "all_topics[0]"
   ]
  },
  {
   "cell_type": "code",
   "execution_count": 88,
   "metadata": {
    "execution": {
     "iopub.execute_input": "2021-10-29T22:24:27.613291Z",
     "iopub.status.busy": "2021-10-29T22:24:27.612292Z",
     "iopub.status.idle": "2021-10-29T22:24:27.641290Z",
     "shell.execute_reply": "2021-10-29T22:24:27.639300Z",
     "shell.execute_reply.started": "2021-10-29T22:24:27.613291Z"
    }
   },
   "outputs": [
    {
     "data": {
      "text/plain": [
       "670"
      ]
     },
     "execution_count": 88,
     "metadata": {},
     "output_type": "execute_result"
    }
   ],
   "source": [
    "len(all_topics)"
   ]
  },
  {
   "cell_type": "code",
   "execution_count": 89,
   "metadata": {
    "execution": {
     "iopub.execute_input": "2021-10-29T22:24:27.644294Z",
     "iopub.status.busy": "2021-10-29T22:24:27.644294Z",
     "iopub.status.idle": "2021-10-29T22:24:27.673291Z",
     "shell.execute_reply": "2021-10-29T22:24:27.671290Z",
     "shell.execute_reply.started": "2021-10-29T22:24:27.644294Z"
    }
   },
   "outputs": [
    {
     "data": {
      "text/plain": [
       "<topics><d>cocoa</d></topics>"
      ]
     },
     "execution_count": 89,
     "metadata": {},
     "output_type": "execute_result"
    }
   ],
   "source": [
    "soup.topics"
   ]
  },
  {
   "cell_type": "code",
   "execution_count": 90,
   "metadata": {
    "execution": {
     "iopub.execute_input": "2021-10-29T22:24:27.676291Z",
     "iopub.status.busy": "2021-10-29T22:24:27.675292Z",
     "iopub.status.idle": "2021-10-29T22:24:27.738289Z",
     "shell.execute_reply": "2021-10-29T22:24:27.735290Z",
     "shell.execute_reply.started": "2021-10-29T22:24:27.676291Z"
    }
   },
   "outputs": [
    {
     "data": {
      "text/plain": [
       "bs4.element.ResultSet"
      ]
     },
     "execution_count": 90,
     "metadata": {},
     "output_type": "execute_result"
    }
   ],
   "source": [
    "type(soup.findAll('topics'))"
   ]
  },
  {
   "cell_type": "code",
   "execution_count": 91,
   "metadata": {
    "execution": {
     "iopub.execute_input": "2021-10-29T22:24:27.742291Z",
     "iopub.status.busy": "2021-10-29T22:24:27.740292Z",
     "iopub.status.idle": "2021-10-29T22:24:27.802291Z",
     "shell.execute_reply": "2021-10-29T22:24:27.798298Z",
     "shell.execute_reply.started": "2021-10-29T22:24:27.742291Z"
    }
   },
   "outputs": [],
   "source": [
    "content = soup.findAll('reuters')"
   ]
  },
  {
   "cell_type": "code",
   "execution_count": 92,
   "metadata": {
    "execution": {
     "iopub.execute_input": "2021-10-29T22:24:27.806290Z",
     "iopub.status.busy": "2021-10-29T22:24:27.805292Z",
     "iopub.status.idle": "2021-10-29T22:24:27.831296Z",
     "shell.execute_reply": "2021-10-29T22:24:27.829292Z",
     "shell.execute_reply.started": "2021-10-29T22:24:27.806290Z"
    }
   },
   "outputs": [],
   "source": [
    "two_contents = content[0:2]"
   ]
  },
  {
   "cell_type": "code",
   "execution_count": 93,
   "metadata": {
    "execution": {
     "iopub.execute_input": "2021-10-29T22:24:27.835289Z",
     "iopub.status.busy": "2021-10-29T22:24:27.834294Z",
     "iopub.status.idle": "2021-10-29T22:24:27.863292Z",
     "shell.execute_reply": "2021-10-29T22:24:27.861290Z",
     "shell.execute_reply.started": "2021-10-29T22:24:27.835289Z"
    }
   },
   "outputs": [
    {
     "data": {
      "text/plain": [
       "list"
      ]
     },
     "execution_count": 93,
     "metadata": {},
     "output_type": "execute_result"
    }
   ],
   "source": [
    "type(two_contents)"
   ]
  },
  {
   "cell_type": "code",
   "execution_count": 94,
   "metadata": {
    "execution": {
     "iopub.execute_input": "2021-10-29T22:24:27.870288Z",
     "iopub.status.busy": "2021-10-29T22:24:27.869289Z",
     "iopub.status.idle": "2021-10-29T22:24:27.895294Z",
     "shell.execute_reply": "2021-10-29T22:24:27.892290Z",
     "shell.execute_reply.started": "2021-10-29T22:24:27.870288Z"
    }
   },
   "outputs": [
    {
     "data": {
      "text/plain": [
       "2"
      ]
     },
     "execution_count": 94,
     "metadata": {},
     "output_type": "execute_result"
    }
   ],
   "source": [
    "len(two_contents)"
   ]
  },
  {
   "cell_type": "code",
   "execution_count": 95,
   "metadata": {
    "execution": {
     "iopub.execute_input": "2021-10-29T22:24:27.900291Z",
     "iopub.status.busy": "2021-10-29T22:24:27.899291Z",
     "iopub.status.idle": "2021-10-29T22:24:27.925293Z",
     "shell.execute_reply": "2021-10-29T22:24:27.923294Z",
     "shell.execute_reply.started": "2021-10-29T22:24:27.900291Z"
    }
   },
   "outputs": [
    {
     "data": {
      "text/plain": [
       "bs4.element.Tag"
      ]
     },
     "execution_count": 95,
     "metadata": {},
     "output_type": "execute_result"
    }
   ],
   "source": [
    "type(two_contents[0])"
   ]
  },
  {
   "cell_type": "code",
   "execution_count": 96,
   "metadata": {
    "execution": {
     "iopub.execute_input": "2021-10-29T22:24:27.929291Z",
     "iopub.status.busy": "2021-10-29T22:24:27.929291Z",
     "iopub.status.idle": "2021-10-29T22:24:27.989290Z",
     "shell.execute_reply": "2021-10-29T22:24:27.987295Z",
     "shell.execute_reply.started": "2021-10-29T22:24:27.929291Z"
    }
   },
   "outputs": [],
   "source": [
    "# from https://towardsdatascience.com/in-10-minutes-web-scraping-with-beautiful-soup-and-selenium-for-data-professionals-8de169d36319\n",
    "\n",
    "topics = soup.find_all('topics')\n",
    "topic_list = list()"
   ]
  },
  {
   "cell_type": "code",
   "execution_count": 97,
   "metadata": {
    "execution": {
     "iopub.execute_input": "2021-10-29T22:24:27.993291Z",
     "iopub.status.busy": "2021-10-29T22:24:27.992298Z",
     "iopub.status.idle": "2021-10-29T22:24:28.020291Z",
     "shell.execute_reply": "2021-10-29T22:24:28.018291Z",
     "shell.execute_reply.started": "2021-10-29T22:24:27.993291Z"
    }
   },
   "outputs": [],
   "source": [
    "for x in topics:\n",
    "    # turn bs4.tag into text\n",
    "    words = [i.text for i in x]\n",
    "    #append text to list\n",
    "    topic_list.append(words)"
   ]
  },
  {
   "cell_type": "code",
   "execution_count": 98,
   "metadata": {
    "execution": {
     "iopub.execute_input": "2021-10-29T22:24:28.023293Z",
     "iopub.status.busy": "2021-10-29T22:24:28.022294Z",
     "iopub.status.idle": "2021-10-29T22:24:28.051294Z",
     "shell.execute_reply": "2021-10-29T22:24:28.049289Z",
     "shell.execute_reply.started": "2021-10-29T22:24:28.023293Z"
    }
   },
   "outputs": [],
   "source": [
    "# len(topic_list)"
   ]
  },
  {
   "cell_type": "code",
   "execution_count": 99,
   "metadata": {
    "execution": {
     "iopub.execute_input": "2021-10-29T22:24:28.054291Z",
     "iopub.status.busy": "2021-10-29T22:24:28.053291Z",
     "iopub.status.idle": "2021-10-29T22:24:28.083290Z",
     "shell.execute_reply": "2021-10-29T22:24:28.081292Z",
     "shell.execute_reply.started": "2021-10-29T22:24:28.054291Z"
    }
   },
   "outputs": [
    {
     "data": {
      "text/plain": [
       "[['cocoa'],\n",
       " [],\n",
       " [],\n",
       " [],\n",
       " ['grain', 'wheat', 'corn', 'barley', 'oat', 'sorghum'],\n",
       " ['veg-oil',\n",
       "  'linseed',\n",
       "  'lin-oil',\n",
       "  'soy-oil',\n",
       "  'sun-oil',\n",
       "  'soybean',\n",
       "  'oilseed',\n",
       "  'corn',\n",
       "  'sunseed',\n",
       "  'grain',\n",
       "  'sorghum',\n",
       "  'wheat'],\n",
       " [],\n",
       " [],\n",
       " ['earn'],\n",
       " ['acq']]"
      ]
     },
     "execution_count": 99,
     "metadata": {},
     "output_type": "execute_result"
    }
   ],
   "source": [
    "topic_list[0:10]"
   ]
  },
  {
   "cell_type": "code",
   "execution_count": null,
   "metadata": {},
   "outputs": [],
   "source": []
  },
  {
   "cell_type": "code",
   "execution_count": 100,
   "metadata": {
    "execution": {
     "iopub.execute_input": "2021-10-29T22:24:28.089294Z",
     "iopub.status.busy": "2021-10-29T22:24:28.086295Z",
     "iopub.status.idle": "2021-10-29T22:24:28.115289Z",
     "shell.execute_reply": "2021-10-29T22:24:28.113290Z",
     "shell.execute_reply.started": "2021-10-29T22:24:28.088291Z"
    }
   },
   "outputs": [],
   "source": [
    "def pull_out_earn_topic(topic_list):\n",
    "    for i, topic in enumerate(topic_list):\n",
    "        \n",
    "        # format is a list of strings, so this removes topics from nested list\n",
    "        article_topics = ''\n",
    "        for word in topic:\n",
    "            article_topics += (word + ' ')\n",
    "    \n",
    "        # I only care about the 'earn' topic for now, so I'm making it the only one that matters\n",
    "        if 'earn' in article_topics:\n",
    "            topic_list[i] = 'earn'\n",
    "        else:\n",
    "            topic_list[i] = 'other'\n",
    "    return topic_list"
   ]
  },
  {
   "cell_type": "code",
   "execution_count": 101,
   "metadata": {
    "execution": {
     "iopub.execute_input": "2021-10-29T22:24:28.120295Z",
     "iopub.status.busy": "2021-10-29T22:24:28.119294Z",
     "iopub.status.idle": "2021-10-29T22:24:28.163293Z",
     "shell.execute_reply": "2021-10-29T22:24:28.161289Z",
     "shell.execute_reply.started": "2021-10-29T22:24:28.120295Z"
    }
   },
   "outputs": [
    {
     "data": {
      "text/plain": [
       "['other',\n",
       " 'other',\n",
       " 'earn',\n",
       " 'other',\n",
       " 'other',\n",
       " 'other',\n",
       " 'other',\n",
       " 'earn',\n",
       " 'other',\n",
       " 'other']"
      ]
     },
     "execution_count": 101,
     "metadata": {},
     "output_type": "execute_result"
    }
   ],
   "source": [
    "test_list = pull_out_earn_topic(topic_list[0:100])\n",
    "test_list[-10:100]"
   ]
  },
  {
   "cell_type": "code",
   "execution_count": 102,
   "metadata": {
    "execution": {
     "iopub.execute_input": "2021-10-29T22:24:28.168290Z",
     "iopub.status.busy": "2021-10-29T22:24:28.167291Z",
     "iopub.status.idle": "2021-10-29T22:24:28.178290Z",
     "shell.execute_reply": "2021-10-29T22:24:28.176292Z",
     "shell.execute_reply.started": "2021-10-29T22:24:28.168290Z"
    }
   },
   "outputs": [],
   "source": [
    "topics_for_df = pull_out_earn_topic(topic_list)"
   ]
  },
  {
   "cell_type": "code",
   "execution_count": 103,
   "metadata": {
    "execution": {
     "iopub.execute_input": "2021-10-29T22:24:28.182291Z",
     "iopub.status.busy": "2021-10-29T22:24:28.181293Z",
     "iopub.status.idle": "2021-10-29T22:24:28.241294Z",
     "shell.execute_reply": "2021-10-29T22:24:28.239289Z",
     "shell.execute_reply.started": "2021-10-29T22:24:28.182291Z"
    }
   },
   "outputs": [],
   "source": [
    "df=pd.DataFrame(topics_for_df, columns=['topics_for_df'])"
   ]
  },
  {
   "cell_type": "code",
   "execution_count": 104,
   "metadata": {
    "execution": {
     "iopub.execute_input": "2021-10-29T22:24:28.245290Z",
     "iopub.status.busy": "2021-10-29T22:24:28.244291Z",
     "iopub.status.idle": "2021-10-29T22:24:28.319289Z",
     "shell.execute_reply": "2021-10-29T22:24:28.317295Z",
     "shell.execute_reply.started": "2021-10-29T22:24:28.245290Z"
    }
   },
   "outputs": [
    {
     "data": {
      "text/html": [
       "<div>\n",
       "<style scoped>\n",
       "    .dataframe tbody tr th:only-of-type {\n",
       "        vertical-align: middle;\n",
       "    }\n",
       "\n",
       "    .dataframe tbody tr th {\n",
       "        vertical-align: top;\n",
       "    }\n",
       "\n",
       "    .dataframe thead th {\n",
       "        text-align: right;\n",
       "    }\n",
       "</style>\n",
       "<table border=\"1\" class=\"dataframe\">\n",
       "  <thead>\n",
       "    <tr style=\"text-align: right;\">\n",
       "      <th></th>\n",
       "      <th>topics_for_df</th>\n",
       "    </tr>\n",
       "  </thead>\n",
       "  <tbody>\n",
       "    <tr>\n",
       "      <th>0</th>\n",
       "      <td>other</td>\n",
       "    </tr>\n",
       "    <tr>\n",
       "      <th>1</th>\n",
       "      <td>other</td>\n",
       "    </tr>\n",
       "    <tr>\n",
       "      <th>2</th>\n",
       "      <td>other</td>\n",
       "    </tr>\n",
       "    <tr>\n",
       "      <th>3</th>\n",
       "      <td>other</td>\n",
       "    </tr>\n",
       "    <tr>\n",
       "      <th>4</th>\n",
       "      <td>other</td>\n",
       "    </tr>\n",
       "    <tr>\n",
       "      <th>5</th>\n",
       "      <td>other</td>\n",
       "    </tr>\n",
       "    <tr>\n",
       "      <th>6</th>\n",
       "      <td>other</td>\n",
       "    </tr>\n",
       "    <tr>\n",
       "      <th>7</th>\n",
       "      <td>other</td>\n",
       "    </tr>\n",
       "    <tr>\n",
       "      <th>8</th>\n",
       "      <td>earn</td>\n",
       "    </tr>\n",
       "    <tr>\n",
       "      <th>9</th>\n",
       "      <td>other</td>\n",
       "    </tr>\n",
       "    <tr>\n",
       "      <th>10</th>\n",
       "      <td>earn</td>\n",
       "    </tr>\n",
       "    <tr>\n",
       "      <th>11</th>\n",
       "      <td>earn</td>\n",
       "    </tr>\n",
       "    <tr>\n",
       "      <th>12</th>\n",
       "      <td>earn</td>\n",
       "    </tr>\n",
       "    <tr>\n",
       "      <th>13</th>\n",
       "      <td>earn</td>\n",
       "    </tr>\n",
       "    <tr>\n",
       "      <th>14</th>\n",
       "      <td>other</td>\n",
       "    </tr>\n",
       "    <tr>\n",
       "      <th>15</th>\n",
       "      <td>other</td>\n",
       "    </tr>\n",
       "    <tr>\n",
       "      <th>16</th>\n",
       "      <td>other</td>\n",
       "    </tr>\n",
       "    <tr>\n",
       "      <th>17</th>\n",
       "      <td>earn</td>\n",
       "    </tr>\n",
       "    <tr>\n",
       "      <th>18</th>\n",
       "      <td>other</td>\n",
       "    </tr>\n",
       "    <tr>\n",
       "      <th>19</th>\n",
       "      <td>other</td>\n",
       "    </tr>\n",
       "  </tbody>\n",
       "</table>\n",
       "</div>"
      ],
      "text/plain": [
       "   topics_for_df\n",
       "0          other\n",
       "1          other\n",
       "2          other\n",
       "3          other\n",
       "4          other\n",
       "5          other\n",
       "6          other\n",
       "7          other\n",
       "8           earn\n",
       "9          other\n",
       "10          earn\n",
       "11          earn\n",
       "12          earn\n",
       "13          earn\n",
       "14         other\n",
       "15         other\n",
       "16         other\n",
       "17          earn\n",
       "18         other\n",
       "19         other"
      ]
     },
     "execution_count": 104,
     "metadata": {},
     "output_type": "execute_result"
    }
   ],
   "source": [
    "df[0:20]"
   ]
  },
  {
   "cell_type": "code",
   "execution_count": 137,
   "metadata": {
    "execution": {
     "iopub.execute_input": "2021-10-29T23:14:11.825964Z",
     "iopub.status.busy": "2021-10-29T23:14:11.825964Z",
     "iopub.status.idle": "2021-10-29T23:14:11.989963Z",
     "shell.execute_reply": "2021-10-29T23:14:11.988961Z",
     "shell.execute_reply.started": "2021-10-29T23:14:11.825964Z"
    }
   },
   "outputs": [],
   "source": [
    "articles = soup.find_all('text')"
   ]
  },
  {
   "cell_type": "code",
   "execution_count": null,
   "metadata": {},
   "outputs": [],
   "source": []
  },
  {
   "cell_type": "code",
   "execution_count": null,
   "metadata": {},
   "outputs": [],
   "source": []
  },
  {
   "cell_type": "code",
   "execution_count": null,
   "metadata": {},
   "outputs": [],
   "source": []
  },
  {
   "cell_type": "code",
   "execution_count": null,
   "metadata": {},
   "outputs": [],
   "source": []
  }
 ],
 "metadata": {
  "kernelspec": {
   "display_name": "Python 3",
   "language": "python",
   "name": "python3"
  },
  "language_info": {
   "codemirror_mode": {
    "name": "ipython",
    "version": 3
   },
   "file_extension": ".py",
   "mimetype": "text/x-python",
   "name": "python",
   "nbconvert_exporter": "python",
   "pygments_lexer": "ipython3",
   "version": "3.6.9"
  }
 },
 "nbformat": 4,
 "nbformat_minor": 4
}
