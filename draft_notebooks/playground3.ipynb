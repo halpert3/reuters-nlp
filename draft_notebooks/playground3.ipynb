{
 "cells": [
  {
   "cell_type": "code",
   "execution_count": 1,
   "metadata": {
    "execution": {
     "iopub.execute_input": "2022-02-04T19:51:48.837653Z",
     "iopub.status.busy": "2022-02-04T19:51:48.837653Z",
     "iopub.status.idle": "2022-02-04T19:51:50.150770Z",
     "shell.execute_reply": "2022-02-04T19:51:50.150770Z",
     "shell.execute_reply.started": "2022-02-04T19:51:48.837653Z"
    }
   },
   "outputs": [],
   "source": [
    "import pandas as pd\n",
    "import numpy as np\n",
    "from bs4 import BeautifulSoup\n",
    "import os"
   ]
  },
  {
   "cell_type": "code",
   "execution_count": 3,
   "metadata": {
    "execution": {
     "iopub.execute_input": "2022-02-04T20:06:33.708485Z",
     "iopub.status.busy": "2022-02-04T20:06:33.708485Z",
     "iopub.status.idle": "2022-02-04T20:06:33.726483Z",
     "shell.execute_reply": "2022-02-04T20:06:33.725481Z",
     "shell.execute_reply.started": "2022-02-04T20:06:33.708485Z"
    }
   },
   "outputs": [],
   "source": [
    "def pull_out_earn_topic(topic_list):\n",
    "    for i, topic in enumerate(topic_list):\n",
    "        \n",
    "        # format is a list of strings, so this loop removes topics from nested list\n",
    "        article_topics = ''\n",
    "        for word in topic:\n",
    "            article_topics += (word + ' ')\n",
    "            \n",
    "        # assign correct topic \n",
    "        if not article_topics:\n",
    "            topic_list[i] = 'blank'\n",
    "        elif 'earn' in article_topics:\n",
    "            topic_list[i] = 'earn'\n",
    "        else:\n",
    "            topic_list[i] = 'other'\n",
    "    \n",
    "    return topic_list"
   ]
  },
  {
   "cell_type": "code",
   "execution_count": 5,
   "metadata": {
    "execution": {
     "iopub.execute_input": "2022-02-04T20:07:09.132882Z",
     "iopub.status.busy": "2022-02-04T20:07:09.132882Z",
     "iopub.status.idle": "2022-02-04T20:07:09.152879Z",
     "shell.execute_reply": "2022-02-04T20:07:09.151881Z",
     "shell.execute_reply.started": "2022-02-04T20:07:09.132882Z"
    }
   },
   "outputs": [],
   "source": [
    "def add_to_df(topics, texts, df):\n",
    "    for i, topic in enumerate(topics):\n",
    "        new_row = pd.Series([topics[i], texts[i]], index=df.columns)\n",
    "        df = df.append(new_row, ignore_index=True)\n",
    "    return df"
   ]
  },
  {
   "cell_type": "code",
   "execution_count": 2,
   "metadata": {
    "execution": {
     "iopub.execute_input": "2022-02-04T19:51:52.151622Z",
     "iopub.status.busy": "2022-02-04T19:51:52.151622Z",
     "iopub.status.idle": "2022-02-04T19:51:52.174588Z",
     "shell.execute_reply": "2022-02-04T19:51:52.173590Z",
     "shell.execute_reply.started": "2022-02-04T19:51:52.151622Z"
    }
   },
   "outputs": [],
   "source": [
    "f = open('data_files/reut2-000.sgm', encoding='utf-8', errors='ignore')\n",
    "dataFile = f.read()"
   ]
  },
  {
   "cell_type": "code",
   "execution_count": 7,
   "metadata": {
    "execution": {
     "iopub.execute_input": "2022-02-04T20:10:19.431950Z",
     "iopub.status.busy": "2022-02-04T20:10:19.430946Z",
     "iopub.status.idle": "2022-02-04T20:10:19.440909Z",
     "shell.execute_reply": "2022-02-04T20:10:19.439912Z",
     "shell.execute_reply.started": "2022-02-04T20:10:19.431950Z"
    }
   },
   "outputs": [],
   "source": [
    "def make_bs4(file):\n",
    "    filename = os.path.join('data_files', file)\n",
    "    f = open(filename, 'r', encoding='utf-8', errors='ignore')\n",
    "    dataFile = f.read()\n",
    "    print(f.name)\n",
    "        \n",
    "    # make it a bs4 object\n",
    "    soup = BeautifulSoup(dataFile,'lxml')\n",
    "    return soup"
   ]
  },
  {
   "cell_type": "code",
   "execution_count": 8,
   "metadata": {
    "execution": {
     "iopub.execute_input": "2022-02-04T20:10:20.697527Z",
     "iopub.status.busy": "2022-02-04T20:10:20.697527Z",
     "iopub.status.idle": "2022-02-04T20:10:21.229636Z",
     "shell.execute_reply": "2022-02-04T20:10:21.228638Z",
     "shell.execute_reply.started": "2022-02-04T20:10:20.697527Z"
    }
   },
   "outputs": [
    {
     "name": "stdout",
     "output_type": "stream",
     "text": [
      "data_files\\reut2-000.sgm\n"
     ]
    },
    {
     "ename": "NameError",
     "evalue": "name 'df' is not defined",
     "output_type": "error",
     "traceback": [
      "\u001b[1;31m---------------------------------------------------------------------------\u001b[0m",
      "\u001b[1;31mNameError\u001b[0m                                 Traceback (most recent call last)",
      "\u001b[1;32m<ipython-input-8-2541561a2f0c>\u001b[0m in \u001b[0;36m<module>\u001b[1;34m\u001b[0m\n\u001b[0;32m     37\u001b[0m \u001b[1;33m\u001b[0m\u001b[0m\n\u001b[0;32m     38\u001b[0m         \u001b[1;31m# add the article's topic and the article's text to the df\u001b[0m\u001b[1;33m\u001b[0m\u001b[1;33m\u001b[0m\u001b[1;33m\u001b[0m\u001b[0m\n\u001b[1;32m---> 39\u001b[1;33m         \u001b[0mdf\u001b[0m \u001b[1;33m=\u001b[0m \u001b[0madd_to_df\u001b[0m\u001b[1;33m(\u001b[0m\u001b[0mtopic_list\u001b[0m\u001b[1;33m,\u001b[0m \u001b[0mlist_all_text\u001b[0m\u001b[1;33m,\u001b[0m \u001b[0mdf\u001b[0m\u001b[1;33m)\u001b[0m\u001b[1;33m\u001b[0m\u001b[1;33m\u001b[0m\u001b[0m\n\u001b[0m\u001b[0;32m     40\u001b[0m \u001b[0mdf\u001b[0m\u001b[1;33m\u001b[0m\u001b[1;33m\u001b[0m\u001b[0m\n",
      "\u001b[1;31mNameError\u001b[0m: name 'df' is not defined"
     ]
    }
   ],
   "source": [
    "for file in os.listdir(\"data_files/\"): \n",
    "\n",
    "    if file.endswith(\".sgm\"):\n",
    "        \n",
    "        # for each sgm file, read it and make it a bs4 object\n",
    "        soup = make_bs4(file)\n",
    "        \n",
    "        # isolate topics\n",
    "        topic_list = list()\n",
    "        \n",
    "        topics = soup.find_all('topics')\n",
    "        \n",
    "        for x in topics:\n",
    "            # turn bs4.tag into text\n",
    "            words = [i.text for i in x]\n",
    "            #append text to list\n",
    "            topic_list.append(words)\n",
    "        \n",
    "        topic_list = pull_out_earn_topic(topic_list)\n",
    "        \n",
    "        # isolate text\n",
    "        list_all_text = list()\n",
    "        \n",
    "        all_text = soup.find_all(\"text\")\n",
    "        \n",
    "        for text in all_text:\n",
    "            \n",
    "            # getting just the text from the element\n",
    "            # stripping out the newline indicator\n",
    "            working_text = text.get_text().replace(\"\\n\", \" \")\n",
    "            \n",
    "            # removing extra spaces\n",
    "            working_text = ' '.join(working_text.split())\n",
    "            \n",
    "            # appending to list\n",
    "            list_all_text.append(working_text)\n",
    "        \n",
    "        # add the article's topic and the article's text to the df         \n",
    "        df = add_to_df(topic_list, list_all_text, df)\n",
    "df"
   ]
  },
  {
   "cell_type": "code",
   "execution_count": null,
   "metadata": {},
   "outputs": [],
   "source": []
  },
  {
   "cell_type": "code",
   "execution_count": null,
   "metadata": {},
   "outputs": [],
   "source": []
  },
  {
   "cell_type": "code",
   "execution_count": null,
   "metadata": {},
   "outputs": [],
   "source": []
  },
  {
   "cell_type": "code",
   "execution_count": null,
   "metadata": {},
   "outputs": [],
   "source": []
  }
 ],
 "metadata": {
  "kernelspec": {
   "display_name": "Python 3",
   "language": "python",
   "name": "python3"
  },
  "language_info": {
   "codemirror_mode": {
    "name": "ipython",
    "version": 3
   },
   "file_extension": ".py",
   "mimetype": "text/x-python",
   "name": "python",
   "nbconvert_exporter": "python",
   "pygments_lexer": "ipython3",
   "version": "3.6.9"
  }
 },
 "nbformat": 4,
 "nbformat_minor": 4
}
