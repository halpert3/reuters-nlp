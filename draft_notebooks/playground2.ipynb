{
 "cells": [
  {
   "cell_type": "markdown",
   "metadata": {},
   "source": [
    "https://machinelearningmastery.com/train-test-split-for-evaluating-machine-learning-algorithms/"
   ]
  },
  {
   "cell_type": "code",
   "execution_count": 8,
   "metadata": {
    "execution": {
     "iopub.execute_input": "2021-11-06T16:52:35.881373Z",
     "iopub.status.busy": "2021-11-06T16:52:35.881373Z",
     "iopub.status.idle": "2021-11-06T16:52:35.889368Z",
     "shell.execute_reply": "2021-11-06T16:52:35.888370Z",
     "shell.execute_reply.started": "2021-11-06T16:52:35.881373Z"
    }
   },
   "outputs": [],
   "source": [
    "import pandas as pd"
   ]
  },
  {
   "cell_type": "code",
   "execution_count": 9,
   "metadata": {
    "execution": {
     "iopub.execute_input": "2021-11-06T16:52:35.892368Z",
     "iopub.status.busy": "2021-11-06T16:52:35.891368Z",
     "iopub.status.idle": "2021-11-06T16:52:35.969371Z",
     "shell.execute_reply": "2021-11-06T16:52:35.967368Z",
     "shell.execute_reply.started": "2021-11-06T16:52:35.892368Z"
    }
   },
   "outputs": [
    {
     "data": {
      "text/html": [
       "<div>\n",
       "<style scoped>\n",
       "    .dataframe tbody tr th:only-of-type {\n",
       "        vertical-align: middle;\n",
       "    }\n",
       "\n",
       "    .dataframe tbody tr th {\n",
       "        vertical-align: top;\n",
       "    }\n",
       "\n",
       "    .dataframe thead th {\n",
       "        text-align: right;\n",
       "    }\n",
       "</style>\n",
       "<table border=\"1\" class=\"dataframe\">\n",
       "  <thead>\n",
       "    <tr style=\"text-align: right;\">\n",
       "      <th></th>\n",
       "      <th>name</th>\n",
       "      <th>age</th>\n",
       "      <th>city</th>\n",
       "    </tr>\n",
       "  </thead>\n",
       "  <tbody>\n",
       "    <tr>\n",
       "      <th>0</th>\n",
       "      <td>jack</td>\n",
       "      <td>34</td>\n",
       "      <td>Sydney</td>\n",
       "    </tr>\n",
       "    <tr>\n",
       "      <th>1</th>\n",
       "      <td>Riti</td>\n",
       "      <td>30</td>\n",
       "      <td>Delhi</td>\n",
       "    </tr>\n",
       "    <tr>\n",
       "      <th>2</th>\n",
       "      <td>Aadi</td>\n",
       "      <td>16</td>\n",
       "      <td>New york</td>\n",
       "    </tr>\n",
       "  </tbody>\n",
       "</table>\n",
       "</div>"
      ],
      "text/plain": [
       "   name  age      city\n",
       "0  jack   34    Sydney\n",
       "1  Riti   30     Delhi\n",
       "2  Aadi   16  New york"
      ]
     },
     "execution_count": 9,
     "metadata": {},
     "output_type": "execute_result"
    }
   ],
   "source": [
    "studentData = {\n",
    "    'name' : ['jack', 'Riti', 'Aadi'],\n",
    "    'age' : [34, 30, 16],\n",
    "    'city' : ['Sydney', 'Delhi', 'New york']\n",
    "}\n",
    "pd.DataFrame(studentData)"
   ]
  },
  {
   "cell_type": "code",
   "execution_count": 11,
   "metadata": {
    "execution": {
     "iopub.execute_input": "2021-11-06T16:58:35.782846Z",
     "iopub.status.busy": "2021-11-06T16:58:35.781844Z",
     "iopub.status.idle": "2021-11-06T16:58:35.825846Z",
     "shell.execute_reply": "2021-11-06T16:58:35.824848Z",
     "shell.execute_reply.started": "2021-11-06T16:58:35.782846Z"
    }
   },
   "outputs": [],
   "source": [
    "comparison_df = pd.DataFrame(columns=['3_topics', '2_topics'])\n",
    "\n",
    "comparison_df.loc['test'] = [1,2]"
   ]
  },
  {
   "cell_type": "code",
   "execution_count": 12,
   "metadata": {
    "execution": {
     "iopub.execute_input": "2021-11-06T16:58:41.832465Z",
     "iopub.status.busy": "2021-11-06T16:58:41.831463Z",
     "iopub.status.idle": "2021-11-06T16:58:41.848461Z",
     "shell.execute_reply": "2021-11-06T16:58:41.847458Z",
     "shell.execute_reply.started": "2021-11-06T16:58:41.832465Z"
    }
   },
   "outputs": [
    {
     "data": {
      "text/html": [
       "<div>\n",
       "<style scoped>\n",
       "    .dataframe tbody tr th:only-of-type {\n",
       "        vertical-align: middle;\n",
       "    }\n",
       "\n",
       "    .dataframe tbody tr th {\n",
       "        vertical-align: top;\n",
       "    }\n",
       "\n",
       "    .dataframe thead th {\n",
       "        text-align: right;\n",
       "    }\n",
       "</style>\n",
       "<table border=\"1\" class=\"dataframe\">\n",
       "  <thead>\n",
       "    <tr style=\"text-align: right;\">\n",
       "      <th></th>\n",
       "      <th>3_topics</th>\n",
       "      <th>2_topics</th>\n",
       "    </tr>\n",
       "  </thead>\n",
       "  <tbody>\n",
       "    <tr>\n",
       "      <th>test</th>\n",
       "      <td>1</td>\n",
       "      <td>2</td>\n",
       "    </tr>\n",
       "  </tbody>\n",
       "</table>\n",
       "</div>"
      ],
      "text/plain": [
       "     3_topics 2_topics\n",
       "test        1        2"
      ]
     },
     "execution_count": 12,
     "metadata": {},
     "output_type": "execute_result"
    }
   ],
   "source": [
    "comparison_df"
   ]
  },
  {
   "cell_type": "code",
   "execution_count": 1,
   "metadata": {
    "execution": {
     "iopub.execute_input": "2021-11-08T23:02:36.452217Z",
     "iopub.status.busy": "2021-11-08T23:02:36.451218Z",
     "iopub.status.idle": "2021-11-08T23:02:36.506213Z",
     "shell.execute_reply": "2021-11-08T23:02:36.504213Z",
     "shell.execute_reply.started": "2021-11-08T23:02:36.451218Z"
    }
   },
   "outputs": [],
   "source": [
    "num_categories = 3"
   ]
  },
  {
   "cell_type": "code",
   "execution_count": 5,
   "metadata": {
    "execution": {
     "iopub.execute_input": "2021-11-08T23:08:52.327977Z",
     "iopub.status.busy": "2021-11-08T23:08:52.327977Z",
     "iopub.status.idle": "2021-11-08T23:08:52.344976Z",
     "shell.execute_reply": "2021-11-08T23:08:52.343976Z",
     "shell.execute_reply.started": "2021-11-08T23:08:52.327977Z"
    }
   },
   "outputs": [
    {
     "name": "stdout",
     "output_type": "stream",
     "text": [
      "1\n",
      "2\n",
      "3\n"
     ]
    }
   ],
   "source": [
    "for x in range(3):\n",
    "    print(x +1)"
   ]
  },
  {
   "cell_type": "code",
   "execution_count": 6,
   "metadata": {
    "execution": {
     "iopub.execute_input": "2021-11-08T23:09:32.074187Z",
     "iopub.status.busy": "2021-11-08T23:09:32.073156Z",
     "iopub.status.idle": "2021-11-08T23:09:32.102156Z",
     "shell.execute_reply": "2021-11-08T23:09:32.100158Z",
     "shell.execute_reply.started": "2021-11-08T23:09:32.074187Z"
    }
   },
   "outputs": [
    {
     "data": {
      "text/plain": [
       "[1, 2, 3]"
      ]
     },
     "execution_count": 6,
     "metadata": {},
     "output_type": "execute_result"
    }
   ],
   "source": [
    "new_list =[x + 1 for x in range(3)]\n",
    "new_list"
   ]
  },
  {
   "cell_type": "code",
   "execution_count": null,
   "metadata": {},
   "outputs": [],
   "source": []
  }
 ],
 "metadata": {
  "kernelspec": {
   "display_name": "Python 3",
   "language": "python",
   "name": "python3"
  },
  "language_info": {
   "codemirror_mode": {
    "name": "ipython",
    "version": 3
   },
   "file_extension": ".py",
   "mimetype": "text/x-python",
   "name": "python",
   "nbconvert_exporter": "python",
   "pygments_lexer": "ipython3",
   "version": "3.6.9"
  }
 },
 "nbformat": 4,
 "nbformat_minor": 4
}
