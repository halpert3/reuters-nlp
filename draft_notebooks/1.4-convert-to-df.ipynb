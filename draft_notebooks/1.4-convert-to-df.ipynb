{
 "cells": [
  {
   "cell_type": "code",
   "execution_count": 1,
   "metadata": {
    "execution": {
     "iopub.execute_input": "2022-02-03T23:50:46.112746Z",
     "iopub.status.busy": "2022-02-03T23:50:46.111743Z",
     "iopub.status.idle": "2022-02-03T23:50:47.128553Z",
     "shell.execute_reply": "2022-02-03T23:50:47.128553Z",
     "shell.execute_reply.started": "2022-02-03T23:50:46.112746Z"
    }
   },
   "outputs": [],
   "source": [
    "import pandas as pd\n",
    "import numpy as np\n",
    "from bs4 import BeautifulSoup\n",
    "import os"
   ]
  },
  {
   "cell_type": "markdown",
   "metadata": {},
   "source": [
    "### Open file and parse it with bs4"
   ]
  },
  {
   "cell_type": "code",
   "execution_count": 2,
   "metadata": {
    "execution": {
     "iopub.execute_input": "2022-02-03T23:50:47.128553Z",
     "iopub.status.busy": "2022-02-03T23:50:47.128553Z",
     "iopub.status.idle": "2022-02-03T23:50:47.482282Z",
     "shell.execute_reply": "2022-02-03T23:50:47.478296Z",
     "shell.execute_reply.started": "2022-02-03T23:50:47.128553Z"
    }
   },
   "outputs": [
    {
     "ename": "FileNotFoundError",
     "evalue": "[Errno 2] No such file or directory: 'data_files/reut2-000.sgm'",
     "output_type": "error",
     "traceback": [
      "\u001b[1;31m---------------------------------------------------------------------------\u001b[0m",
      "\u001b[1;31mFileNotFoundError\u001b[0m                         Traceback (most recent call last)",
      "\u001b[1;32m<ipython-input-2-8ada8319744a>\u001b[0m in \u001b[0;36m<module>\u001b[1;34m\u001b[0m\n\u001b[1;32m----> 1\u001b[1;33m \u001b[0mf\u001b[0m \u001b[1;33m=\u001b[0m \u001b[0mopen\u001b[0m\u001b[1;33m(\u001b[0m\u001b[1;34m'data_files/reut2-000.sgm'\u001b[0m\u001b[1;33m,\u001b[0m \u001b[0mencoding\u001b[0m\u001b[1;33m=\u001b[0m\u001b[1;34m'utf-8'\u001b[0m\u001b[1;33m,\u001b[0m \u001b[0merrors\u001b[0m\u001b[1;33m=\u001b[0m\u001b[1;34m'ignore'\u001b[0m\u001b[1;33m)\u001b[0m\u001b[1;33m\u001b[0m\u001b[1;33m\u001b[0m\u001b[0m\n\u001b[0m\u001b[0;32m      2\u001b[0m \u001b[0mdataFile\u001b[0m \u001b[1;33m=\u001b[0m \u001b[0mf\u001b[0m\u001b[1;33m.\u001b[0m\u001b[0mread\u001b[0m\u001b[1;33m(\u001b[0m\u001b[1;33m)\u001b[0m\u001b[1;33m\u001b[0m\u001b[1;33m\u001b[0m\u001b[0m\n\u001b[0;32m      3\u001b[0m \u001b[0msoup\u001b[0m \u001b[1;33m=\u001b[0m \u001b[0mBeautifulSoup\u001b[0m\u001b[1;33m(\u001b[0m\u001b[0mdataFile\u001b[0m\u001b[1;33m,\u001b[0m\u001b[1;34m'lxml'\u001b[0m\u001b[1;33m)\u001b[0m\u001b[1;33m\u001b[0m\u001b[1;33m\u001b[0m\u001b[0m\n",
      "\u001b[1;31mFileNotFoundError\u001b[0m: [Errno 2] No such file or directory: 'data_files/reut2-000.sgm'"
     ]
    }
   ],
   "source": [
    "f = open('data_files/reut2-000.sgm', encoding='utf-8', errors='ignore')\n",
    "dataFile = f.read()\n",
    "soup = BeautifulSoup(dataFile,'lxml')"
   ]
  },
  {
   "cell_type": "code",
   "execution_count": null,
   "metadata": {
    "execution": {
     "iopub.status.busy": "2022-02-03T23:50:47.483285Z",
     "iopub.status.idle": "2022-02-03T23:50:47.483285Z",
     "shell.execute_reply": "2022-02-03T23:50:47.483285Z"
    }
   },
   "outputs": [],
   "source": [
    "type(soup)"
   ]
  },
  {
   "cell_type": "code",
   "execution_count": null,
   "metadata": {
    "execution": {
     "iopub.status.busy": "2022-02-03T23:50:47.484287Z",
     "iopub.status.idle": "2022-02-03T23:50:47.485280Z",
     "shell.execute_reply": "2022-02-03T23:50:47.485280Z"
    }
   },
   "outputs": [],
   "source": [
    "f.name"
   ]
  },
  {
   "cell_type": "markdown",
   "metadata": {},
   "source": [
    "### Check structure of an article"
   ]
  },
  {
   "cell_type": "code",
   "execution_count": null,
   "metadata": {
    "execution": {
     "iopub.status.busy": "2022-02-03T23:50:47.486280Z",
     "iopub.status.idle": "2022-02-03T23:50:47.486280Z",
     "shell.execute_reply": "2022-02-03T23:50:47.486280Z"
    }
   },
   "outputs": [],
   "source": [
    "content = soup.find_all('reuters')"
   ]
  },
  {
   "cell_type": "code",
   "execution_count": null,
   "metadata": {
    "execution": {
     "iopub.status.busy": "2022-02-03T23:50:47.487280Z",
     "iopub.status.idle": "2022-02-03T23:50:47.487280Z",
     "shell.execute_reply": "2022-02-03T23:50:47.487280Z"
    }
   },
   "outputs": [],
   "source": [
    "len(content)"
   ]
  },
  {
   "cell_type": "markdown",
   "metadata": {},
   "source": [
    "Each file has 1000 articles"
   ]
  },
  {
   "cell_type": "code",
   "execution_count": null,
   "metadata": {
    "execution": {
     "iopub.status.busy": "2022-02-03T23:50:47.489283Z",
     "iopub.status.idle": "2022-02-03T23:50:47.489283Z",
     "shell.execute_reply": "2022-02-03T23:50:47.489283Z"
    }
   },
   "outputs": [],
   "source": [
    "content[5]"
   ]
  },
  {
   "cell_type": "markdown",
   "metadata": {
    "execution": {
     "iopub.execute_input": "2021-10-30T14:14:51.779215Z",
     "iopub.status.busy": "2021-10-30T14:14:51.779215Z",
     "iopub.status.idle": "2021-10-30T14:14:51.806212Z",
     "shell.execute_reply": "2021-10-30T14:14:51.804212Z",
     "shell.execute_reply.started": "2021-10-30T14:14:51.779215Z"
    }
   },
   "source": [
    "### Look at topic list"
   ]
  },
  {
   "cell_type": "code",
   "execution_count": null,
   "metadata": {
    "execution": {
     "iopub.status.busy": "2022-02-03T23:50:47.490283Z",
     "iopub.status.idle": "2022-02-03T23:50:47.490283Z",
     "shell.execute_reply": "2022-02-03T23:50:47.490283Z"
    }
   },
   "outputs": [],
   "source": [
    "topics = np.genfromtxt(\"data_files/all-topics-strings.lc.txt\", \n",
    "                      delimiter='\\n', dtype=None, encoding=None)\n",
    "topics"
   ]
  },
  {
   "cell_type": "markdown",
   "metadata": {},
   "source": [
    "### Find all topics and turn them in to text"
   ]
  },
  {
   "cell_type": "code",
   "execution_count": null,
   "metadata": {
    "execution": {
     "iopub.status.busy": "2022-02-03T23:50:47.491284Z",
     "iopub.status.idle": "2022-02-03T23:50:47.491284Z",
     "shell.execute_reply": "2022-02-03T23:50:47.491284Z"
    }
   },
   "outputs": [],
   "source": [
    "topics = soup.find_all('topics')\n",
    "topic_list = list()"
   ]
  },
  {
   "cell_type": "code",
   "execution_count": null,
   "metadata": {
    "execution": {
     "iopub.status.busy": "2022-02-03T23:50:47.492283Z",
     "iopub.status.idle": "2022-02-03T23:50:47.493282Z",
     "shell.execute_reply": "2022-02-03T23:50:47.492283Z"
    }
   },
   "outputs": [],
   "source": [
    "for x in topics:\n",
    "    # turn bs4.tag into text\n",
    "    words = [i.text for i in x]\n",
    "    #append text to list\n",
    "    topic_list.append(words)"
   ]
  },
  {
   "cell_type": "markdown",
   "metadata": {},
   "source": [
    "### Make a dataframe with the topics"
   ]
  },
  {
   "cell_type": "markdown",
   "metadata": {
    "execution": {
     "iopub.execute_input": "2021-10-30T14:17:34.823185Z",
     "iopub.status.busy": "2021-10-30T14:17:34.823185Z",
     "iopub.status.idle": "2021-10-30T14:17:34.842183Z",
     "shell.execute_reply": "2021-10-30T14:17:34.841180Z",
     "shell.execute_reply.started": "2021-10-30T14:17:34.823185Z"
    }
   },
   "source": [
    "Make function to pull out **'earn'** topic\n",
    "\n",
    "I only care about the 'earn' topic for now, so I'm making it the only one that matters, but I'm not clear what the ones that have no topic mean. I'm calling those 'blank'."
   ]
  },
  {
   "cell_type": "code",
   "execution_count": null,
   "metadata": {
    "execution": {
     "iopub.status.busy": "2022-02-03T23:50:47.494281Z",
     "iopub.status.idle": "2022-02-03T23:50:47.494281Z",
     "shell.execute_reply": "2022-02-03T23:50:47.494281Z"
    }
   },
   "outputs": [],
   "source": [
    "def pull_out_earn_topic(topic_list):\n",
    "    for i, topic in enumerate(topic_list):\n",
    "        \n",
    "        # format is a list of strings, so this loop removes topics from nested list\n",
    "        article_topics = ''\n",
    "        for word in topic:\n",
    "            article_topics += (word + ' ')\n",
    "            \n",
    "        # assign correct topic \n",
    "        if not article_topics:\n",
    "            topic_list[i] = 'blank'\n",
    "        elif 'earn' in article_topics:\n",
    "            topic_list[i] = 'earn'\n",
    "        else:\n",
    "            topic_list[i] = 'other'\n",
    "    \n",
    "    return topic_list"
   ]
  },
  {
   "cell_type": "code",
   "execution_count": null,
   "metadata": {
    "execution": {
     "iopub.status.busy": "2022-02-03T23:50:47.496286Z",
     "iopub.status.idle": "2022-02-03T23:50:47.496286Z",
     "shell.execute_reply": "2022-02-03T23:50:47.496286Z"
    }
   },
   "outputs": [],
   "source": [
    "test_list = pull_out_earn_topic(topic_list[0:100])\n",
    "test_list[0:10]"
   ]
  },
  {
   "cell_type": "markdown",
   "metadata": {},
   "source": [
    "Test case works. Make the whole dataframe."
   ]
  },
  {
   "cell_type": "code",
   "execution_count": null,
   "metadata": {
    "execution": {
     "iopub.status.busy": "2022-02-03T23:50:47.498283Z",
     "iopub.status.idle": "2022-02-03T23:50:47.499287Z",
     "shell.execute_reply": "2022-02-03T23:50:47.498283Z"
    }
   },
   "outputs": [],
   "source": [
    "topics_for_df = pull_out_earn_topic(topic_list)\n",
    "df=pd.DataFrame(topics_for_df, columns=['topics'])"
   ]
  },
  {
   "cell_type": "code",
   "execution_count": null,
   "metadata": {
    "execution": {
     "iopub.status.busy": "2022-02-03T23:50:47.500305Z",
     "iopub.status.idle": "2022-02-03T23:50:47.501292Z",
     "shell.execute_reply": "2022-02-03T23:50:47.501292Z"
    }
   },
   "outputs": [],
   "source": [
    "df"
   ]
  },
  {
   "cell_type": "markdown",
   "metadata": {},
   "source": [
    "### Make list of article content"
   ]
  },
  {
   "cell_type": "code",
   "execution_count": null,
   "metadata": {
    "execution": {
     "iopub.status.busy": "2022-02-03T23:50:47.502284Z",
     "iopub.status.idle": "2022-02-03T23:50:47.503284Z",
     "shell.execute_reply": "2022-02-03T23:50:47.503284Z"
    }
   },
   "outputs": [],
   "source": [
    "all_text = soup.find_all(\"text\")\n",
    "len(all_text)"
   ]
  },
  {
   "cell_type": "code",
   "execution_count": null,
   "metadata": {
    "execution": {
     "iopub.status.busy": "2022-02-03T23:50:47.504283Z",
     "iopub.status.idle": "2022-02-03T23:50:47.504283Z",
     "shell.execute_reply": "2022-02-03T23:50:47.504283Z"
    }
   },
   "outputs": [],
   "source": [
    "list_all_text = list()\n",
    "for text in all_text:\n",
    "    \n",
    "    # getting just the text from the element\n",
    "    # stripping out the newline indicator\n",
    "    working_text = text.get_text().replace(\"\\n\", \" \")\n",
    "    \n",
    "    # removing extra spaces\n",
    "    working_text = ' '.join(working_text.split())\n",
    "    \n",
    "    # appending to list\n",
    "    list_all_text.append(working_text)"
   ]
  },
  {
   "cell_type": "code",
   "execution_count": null,
   "metadata": {
    "execution": {
     "iopub.status.busy": "2022-02-03T23:50:47.506281Z",
     "iopub.status.idle": "2022-02-03T23:50:47.506281Z",
     "shell.execute_reply": "2022-02-03T23:50:47.506281Z"
    }
   },
   "outputs": [],
   "source": [
    "df['text'] = list_all_text"
   ]
  },
  {
   "cell_type": "code",
   "execution_count": null,
   "metadata": {
    "execution": {
     "iopub.status.busy": "2022-02-03T23:50:47.507295Z",
     "iopub.status.idle": "2022-02-03T23:50:47.508283Z",
     "shell.execute_reply": "2022-02-03T23:50:47.508283Z"
    }
   },
   "outputs": [],
   "source": [
    "df"
   ]
  },
  {
   "cell_type": "markdown",
   "metadata": {},
   "source": [
    "Now that I got it working with one .sgm file, do the entire dataset."
   ]
  },
  {
   "cell_type": "markdown",
   "metadata": {
    "execution": {
     "iopub.execute_input": "2021-10-30T16:19:43.929281Z",
     "iopub.status.busy": "2021-10-30T16:19:43.926247Z",
     "iopub.status.idle": "2021-10-30T16:19:43.955027Z",
     "shell.execute_reply": "2021-10-30T16:19:43.954027Z",
     "shell.execute_reply.started": "2021-10-30T16:19:43.929281Z"
    }
   },
   "source": [
    "# Join all datafiles"
   ]
  },
  {
   "cell_type": "markdown",
   "metadata": {},
   "source": [
    "- make an empty df with the two columns\n",
    "- loop through each file\n",
    "    - read the file and make it a bs4 object\n",
    "    - find the topics\n",
    "        - make an empty list\n",
    "        - loop through the topics and turn the bs4 tags into text\n",
    "        - run the function on the list to make it the topics for the df\n",
    "    - find the text\n",
    "        - make an empty list\n",
    "        - run the loop using `.get_text()`\n",
    "            - clean the text in the loop\n",
    "    - add the lists to df using `add_to_df` function\n",
    "  \n"
   ]
  },
  {
   "cell_type": "markdown",
   "metadata": {},
   "source": [
    "### Define functions"
   ]
  },
  {
   "cell_type": "code",
   "execution_count": null,
   "metadata": {
    "execution": {
     "iopub.status.busy": "2022-02-03T23:50:47.510282Z",
     "iopub.status.idle": "2022-02-03T23:50:47.511281Z",
     "shell.execute_reply": "2022-02-03T23:50:47.511281Z"
    }
   },
   "outputs": [],
   "source": [
    "def pull_out_earn_topic(topic_list):\n",
    "    for i, topic in enumerate(topic_list):\n",
    "        \n",
    "        # format is a list of strings, so this loop removes topics from nested list\n",
    "        article_topics = ''\n",
    "        for word in topic:\n",
    "            article_topics += (word + ' ')\n",
    "            \n",
    "        # assign correct topic \n",
    "        if not article_topics:\n",
    "            topic_list[i] = 'blank'\n",
    "        elif 'earn' in article_topics:\n",
    "            topic_list[i] = 'earn'\n",
    "        else:\n",
    "            topic_list[i] = 'other'\n",
    "    \n",
    "    return topic_list"
   ]
  },
  {
   "cell_type": "code",
   "execution_count": null,
   "metadata": {
    "execution": {
     "iopub.status.busy": "2022-02-03T23:50:47.513284Z",
     "iopub.status.idle": "2022-02-03T23:50:47.514284Z",
     "shell.execute_reply": "2022-02-03T23:50:47.514284Z"
    }
   },
   "outputs": [],
   "source": [
    "def make_bs4(file):\n",
    "    filename = os.path.join(\"data_files\", file)\n",
    "    f = open(filename, 'r', encoding='utf-8', errors='ignore')\n",
    "    dataFile = f.read()\n",
    "    print(f.name)\n",
    "        \n",
    "    # make it a bs4 object\n",
    "    soup = BeautifulSoup(dataFile,'lxml')\n",
    "    return soup"
   ]
  },
  {
   "cell_type": "code",
   "execution_count": null,
   "metadata": {
    "execution": {
     "iopub.status.busy": "2022-02-03T23:50:47.517289Z",
     "iopub.status.idle": "2022-02-03T23:50:47.518290Z",
     "shell.execute_reply": "2022-02-03T23:50:47.517289Z"
    }
   },
   "outputs": [],
   "source": [
    "def add_to_df(topics, texts, df):\n",
    "    for i, topic in enumerate(topics):\n",
    "        new_row = pd.Series([topics[i], texts[i]], index=df.columns)\n",
    "        df = df.append(new_row, ignore_index=True)\n",
    "    return df"
   ]
  },
  {
   "cell_type": "markdown",
   "metadata": {
    "execution": {
     "iopub.execute_input": "2021-10-30T21:44:00.199865Z",
     "iopub.status.busy": "2021-10-30T21:44:00.198858Z",
     "iopub.status.idle": "2021-10-30T21:44:00.213860Z",
     "shell.execute_reply": "2021-10-30T21:44:00.211858Z",
     "shell.execute_reply.started": "2021-10-30T21:44:00.199865Z"
    }
   },
   "source": [
    "### Make empty dataframe"
   ]
  },
  {
   "cell_type": "code",
   "execution_count": null,
   "metadata": {
    "execution": {
     "iopub.status.busy": "2022-02-03T23:50:47.520283Z",
     "iopub.status.idle": "2022-02-03T23:50:47.520283Z",
     "shell.execute_reply": "2022-02-03T23:50:47.520283Z"
    }
   },
   "outputs": [],
   "source": [
    "df = pd.DataFrame(columns=['topic', 'text'])\n",
    "df"
   ]
  },
  {
   "cell_type": "markdown",
   "metadata": {},
   "source": [
    "### Execute big loop to add all the data to the dataframe"
   ]
  },
  {
   "cell_type": "code",
   "execution_count": 3,
   "metadata": {
    "execution": {
     "iopub.execute_input": "2022-02-03T23:50:50.482531Z",
     "iopub.status.busy": "2022-02-03T23:50:50.482531Z",
     "iopub.status.idle": "2022-02-03T23:50:50.506533Z",
     "shell.execute_reply": "2022-02-03T23:50:50.505560Z",
     "shell.execute_reply.started": "2022-02-03T23:50:50.482531Z"
    }
   },
   "outputs": [
    {
     "ename": "FileNotFoundError",
     "evalue": "[WinError 3] The system cannot find the path specified: 'data_files/'",
     "output_type": "error",
     "traceback": [
      "\u001b[1;31m---------------------------------------------------------------------------\u001b[0m",
      "\u001b[1;31mFileNotFoundError\u001b[0m                         Traceback (most recent call last)",
      "\u001b[1;32m<ipython-input-3-2541561a2f0c>\u001b[0m in \u001b[0;36m<module>\u001b[1;34m\u001b[0m\n\u001b[1;32m----> 1\u001b[1;33m \u001b[1;32mfor\u001b[0m \u001b[0mfile\u001b[0m \u001b[1;32min\u001b[0m \u001b[0mos\u001b[0m\u001b[1;33m.\u001b[0m\u001b[0mlistdir\u001b[0m\u001b[1;33m(\u001b[0m\u001b[1;34m\"data_files/\"\u001b[0m\u001b[1;33m)\u001b[0m\u001b[1;33m:\u001b[0m\u001b[1;33m\u001b[0m\u001b[1;33m\u001b[0m\u001b[0m\n\u001b[0m\u001b[0;32m      2\u001b[0m \u001b[1;33m\u001b[0m\u001b[0m\n\u001b[0;32m      3\u001b[0m     \u001b[1;32mif\u001b[0m \u001b[0mfile\u001b[0m\u001b[1;33m.\u001b[0m\u001b[0mendswith\u001b[0m\u001b[1;33m(\u001b[0m\u001b[1;34m\".sgm\"\u001b[0m\u001b[1;33m)\u001b[0m\u001b[1;33m:\u001b[0m\u001b[1;33m\u001b[0m\u001b[1;33m\u001b[0m\u001b[0m\n\u001b[0;32m      4\u001b[0m \u001b[1;33m\u001b[0m\u001b[0m\n\u001b[0;32m      5\u001b[0m         \u001b[1;31m# for each sgm file, read it and make it a bs4 object\u001b[0m\u001b[1;33m\u001b[0m\u001b[1;33m\u001b[0m\u001b[1;33m\u001b[0m\u001b[0m\n",
      "\u001b[1;31mFileNotFoundError\u001b[0m: [WinError 3] The system cannot find the path specified: 'data_files/'"
     ]
    }
   ],
   "source": [
    "\n",
    "for file in os.listdir(\"data_files/\"): \n",
    "\n",
    "    if file.endswith(\".sgm\"):\n",
    "        \n",
    "        # for each sgm file, read it and make it a bs4 object\n",
    "        soup = make_bs4(file)\n",
    "        \n",
    "        # isolate topics\n",
    "        topic_list = list()\n",
    "        \n",
    "        topics = soup.find_all('topics')\n",
    "        \n",
    "        for x in topics:\n",
    "            # turn bs4.tag into text\n",
    "            words = [i.text for i in x]\n",
    "            #append text to list\n",
    "            topic_list.append(words)\n",
    "        \n",
    "        topic_list = pull_out_earn_topic(topic_list)\n",
    "        \n",
    "        # isolate text\n",
    "        list_all_text = list()\n",
    "        \n",
    "        all_text = soup.find_all(\"text\")\n",
    "        \n",
    "        for text in all_text:\n",
    "            \n",
    "            # getting just the text from the element\n",
    "            # stripping out the newline indicator\n",
    "            working_text = text.get_text().replace(\"\\n\", \" \")\n",
    "            \n",
    "            # removing extra spaces\n",
    "            working_text = ' '.join(working_text.split())\n",
    "            \n",
    "            # appending to list\n",
    "            list_all_text.append(working_text)\n",
    "        \n",
    "        # add the article's topic and the article's text to the df         \n",
    "        df = add_to_df(topic_list, list_all_text, df)\n",
    "df"
   ]
  },
  {
   "cell_type": "code",
   "execution_count": 16,
   "metadata": {
    "execution": {
     "iopub.execute_input": "2021-11-01T20:45:17.051174Z",
     "iopub.status.busy": "2021-11-01T20:45:17.051174Z",
     "iopub.status.idle": "2021-11-01T20:45:17.093176Z",
     "shell.execute_reply": "2021-11-01T20:45:17.092176Z",
     "shell.execute_reply.started": "2021-11-01T20:45:17.051174Z"
    }
   },
   "outputs": [
    {
     "name": "stdout",
     "output_type": "stream",
     "text": [
      "<class 'pandas.core.frame.DataFrame'>\n",
      "RangeIndex: 23000 entries, 0 to 22999\n",
      "Data columns (total 2 columns):\n",
      " #   Column  Non-Null Count  Dtype \n",
      "---  ------  --------------  ----- \n",
      " 0   topic   23000 non-null  object\n",
      " 1   text    23000 non-null  object\n",
      "dtypes: object(2)\n",
      "memory usage: 359.5+ KB\n"
     ]
    }
   ],
   "source": [
    "df.info()"
   ]
  },
  {
   "cell_type": "code",
   "execution_count": 175,
   "metadata": {
    "execution": {
     "iopub.execute_input": "2021-10-30T21:38:34.596732Z",
     "iopub.status.busy": "2021-10-30T21:38:34.596732Z",
     "iopub.status.idle": "2021-10-30T21:38:34.627735Z",
     "shell.execute_reply": "2021-10-30T21:38:34.624742Z",
     "shell.execute_reply.started": "2021-10-30T21:38:34.596732Z"
    }
   },
   "outputs": [
    {
     "data": {
      "text/html": [
       "<div>\n",
       "<style scoped>\n",
       "    .dataframe tbody tr th:only-of-type {\n",
       "        vertical-align: middle;\n",
       "    }\n",
       "\n",
       "    .dataframe tbody tr th {\n",
       "        vertical-align: top;\n",
       "    }\n",
       "\n",
       "    .dataframe thead th {\n",
       "        text-align: right;\n",
       "    }\n",
       "</style>\n",
       "<table border=\"1\" class=\"dataframe\">\n",
       "  <thead>\n",
       "    <tr style=\"text-align: right;\">\n",
       "      <th></th>\n",
       "      <th>topic</th>\n",
       "      <th>text</th>\n",
       "    </tr>\n",
       "  </thead>\n",
       "  <tbody>\n",
       "    <tr>\n",
       "      <th>0</th>\n",
       "      <td>other</td>\n",
       "      <td>BAHIA COCOA REVIEW SALVADOR, Feb 26 - Showers ...</td>\n",
       "    </tr>\n",
       "    <tr>\n",
       "      <th>1</th>\n",
       "      <td>blank</td>\n",
       "      <td>STANDARD OIL &lt;SRD&gt; TO FORM FINANCIAL UNIT CLEV...</td>\n",
       "    </tr>\n",
       "    <tr>\n",
       "      <th>2</th>\n",
       "      <td>blank</td>\n",
       "      <td>TEXAS COMMERCE BANCSHARES &lt;TCB&gt; FILES PLAN HOU...</td>\n",
       "    </tr>\n",
       "    <tr>\n",
       "      <th>3</th>\n",
       "      <td>blank</td>\n",
       "      <td>TALKING POINT/BANKAMERICA &lt;BAC&gt; EQUITY OFFER b...</td>\n",
       "    </tr>\n",
       "    <tr>\n",
       "      <th>4</th>\n",
       "      <td>other</td>\n",
       "      <td>NATIONAL AVERAGE PRICES FOR FARMER-OWNED RESER...</td>\n",
       "    </tr>\n",
       "    <tr>\n",
       "      <th>5</th>\n",
       "      <td>other</td>\n",
       "      <td>ARGENTINE 1986/87 GRAIN/OILSEED REGISTRATIONS ...</td>\n",
       "    </tr>\n",
       "    <tr>\n",
       "      <th>6</th>\n",
       "      <td>blank</td>\n",
       "      <td>RED LION INNS FILES PLANS OFFERING PORTLAND, O...</td>\n",
       "    </tr>\n",
       "    <tr>\n",
       "      <th>7</th>\n",
       "      <td>blank</td>\n",
       "      <td>USX &lt;X&gt; DEBT DOWGRADED BY MOODY'S NEW YORK, Fe...</td>\n",
       "    </tr>\n",
       "    <tr>\n",
       "      <th>8</th>\n",
       "      <td>earn</td>\n",
       "      <td>CHAMPION PRODUCTS &lt;CH&gt; APPROVES STOCK SPLIT RO...</td>\n",
       "    </tr>\n",
       "    <tr>\n",
       "      <th>9</th>\n",
       "      <td>other</td>\n",
       "      <td>COMPUTER TERMINAL SYSTEMS &lt;CPML&gt; COMPLETES SAL...</td>\n",
       "    </tr>\n",
       "  </tbody>\n",
       "</table>\n",
       "</div>"
      ],
      "text/plain": [
       "   topic                                               text\n",
       "0  other  BAHIA COCOA REVIEW SALVADOR, Feb 26 - Showers ...\n",
       "1  blank  STANDARD OIL <SRD> TO FORM FINANCIAL UNIT CLEV...\n",
       "2  blank  TEXAS COMMERCE BANCSHARES <TCB> FILES PLAN HOU...\n",
       "3  blank  TALKING POINT/BANKAMERICA <BAC> EQUITY OFFER b...\n",
       "4  other  NATIONAL AVERAGE PRICES FOR FARMER-OWNED RESER...\n",
       "5  other  ARGENTINE 1986/87 GRAIN/OILSEED REGISTRATIONS ...\n",
       "6  blank  RED LION INNS FILES PLANS OFFERING PORTLAND, O...\n",
       "7  blank  USX <X> DEBT DOWGRADED BY MOODY'S NEW YORK, Fe...\n",
       "8   earn  CHAMPION PRODUCTS <CH> APPROVES STOCK SPLIT RO...\n",
       "9  other  COMPUTER TERMINAL SYSTEMS <CPML> COMPLETES SAL..."
      ]
     },
     "execution_count": 175,
     "metadata": {},
     "output_type": "execute_result"
    }
   ],
   "source": [
    "df[0:10]"
   ]
  },
  {
   "cell_type": "code",
   "execution_count": 178,
   "metadata": {
    "execution": {
     "iopub.execute_input": "2021-10-30T21:51:55.469103Z",
     "iopub.status.busy": "2021-10-30T21:51:55.469103Z",
     "iopub.status.idle": "2021-10-30T21:51:55.550104Z",
     "shell.execute_reply": "2021-10-30T21:51:55.549102Z",
     "shell.execute_reply.started": "2021-10-30T21:51:55.469103Z"
    }
   },
   "outputs": [
    {
     "data": {
      "text/html": [
       "<div>\n",
       "<style scoped>\n",
       "    .dataframe tbody tr th:only-of-type {\n",
       "        vertical-align: middle;\n",
       "    }\n",
       "\n",
       "    .dataframe tbody tr th {\n",
       "        vertical-align: top;\n",
       "    }\n",
       "\n",
       "    .dataframe thead th {\n",
       "        text-align: right;\n",
       "    }\n",
       "</style>\n",
       "<table border=\"1\" class=\"dataframe\">\n",
       "  <thead>\n",
       "    <tr style=\"text-align: right;\">\n",
       "      <th></th>\n",
       "      <th>topic</th>\n",
       "      <th>text</th>\n",
       "    </tr>\n",
       "  </thead>\n",
       "  <tbody>\n",
       "    <tr>\n",
       "      <th>990</th>\n",
       "      <td>other</td>\n",
       "      <td>U.S. ASKS JAPAN END AGRICULTURE IMPORT CONTROL...</td>\n",
       "    </tr>\n",
       "    <tr>\n",
       "      <th>991</th>\n",
       "      <td>blank</td>\n",
       "      <td>U.S. FINANCIAL ANALYSTS - March 3 Wilcox/Gibbs...</td>\n",
       "    </tr>\n",
       "    <tr>\n",
       "      <th>992</th>\n",
       "      <td>blank</td>\n",
       "      <td>U.S. DIVIDEND MEETINGS - MARCH 3 Mickelberry C...</td>\n",
       "    </tr>\n",
       "    <tr>\n",
       "      <th>993</th>\n",
       "      <td>blank</td>\n",
       "      <td>U.S. SHAREHOLDER MEETINGS - MARCH 3 None Repor...</td>\n",
       "    </tr>\n",
       "    <tr>\n",
       "      <th>994</th>\n",
       "      <td>earn</td>\n",
       "      <td>FIRSTCORP &lt;FCR&gt; SEES GAIN ON CONDEMNATION RALE...</td>\n",
       "    </tr>\n",
       "    <tr>\n",
       "      <th>995</th>\n",
       "      <td>blank</td>\n",
       "      <td>ASHTON-TATE &lt;TATE&gt; TO OFFER COMMON SHARES TORR...</td>\n",
       "    </tr>\n",
       "    <tr>\n",
       "      <th>996</th>\n",
       "      <td>blank</td>\n",
       "      <td>KEYCORP &lt;KEY&gt; REGISTERS SUBORDINATED NOTES ALB...</td>\n",
       "    </tr>\n",
       "    <tr>\n",
       "      <th>997</th>\n",
       "      <td>earn</td>\n",
       "      <td>&lt;NATIONAL SEA PRODUCTS LTD&gt; 4TH QTR NET HALIFA...</td>\n",
       "    </tr>\n",
       "    <tr>\n",
       "      <th>998</th>\n",
       "      <td>other</td>\n",
       "      <td>U.K. MONEY MARKET SHORTAGE FORECAST REVISED DO...</td>\n",
       "    </tr>\n",
       "    <tr>\n",
       "      <th>999</th>\n",
       "      <td>other</td>\n",
       "      <td>NATIONAL AMUSEMENTS AGAIN UPS VIACOM &lt;VIA&gt; BID...</td>\n",
       "    </tr>\n",
       "    <tr>\n",
       "      <th>1000</th>\n",
       "      <td>blank</td>\n",
       "      <td>SANDOZ PLANS WEEDKILLER JOINT VENTURE IN USSR ...</td>\n",
       "    </tr>\n",
       "  </tbody>\n",
       "</table>\n",
       "</div>"
      ],
      "text/plain": [
       "      topic                                               text\n",
       "990   other  U.S. ASKS JAPAN END AGRICULTURE IMPORT CONTROL...\n",
       "991   blank  U.S. FINANCIAL ANALYSTS - March 3 Wilcox/Gibbs...\n",
       "992   blank  U.S. DIVIDEND MEETINGS - MARCH 3 Mickelberry C...\n",
       "993   blank  U.S. SHAREHOLDER MEETINGS - MARCH 3 None Repor...\n",
       "994    earn  FIRSTCORP <FCR> SEES GAIN ON CONDEMNATION RALE...\n",
       "995   blank  ASHTON-TATE <TATE> TO OFFER COMMON SHARES TORR...\n",
       "996   blank  KEYCORP <KEY> REGISTERS SUBORDINATED NOTES ALB...\n",
       "997    earn  <NATIONAL SEA PRODUCTS LTD> 4TH QTR NET HALIFA...\n",
       "998   other  U.K. MONEY MARKET SHORTAGE FORECAST REVISED DO...\n",
       "999   other  NATIONAL AMUSEMENTS AGAIN UPS VIACOM <VIA> BID...\n",
       "1000  blank  SANDOZ PLANS WEEDKILLER JOINT VENTURE IN USSR ..."
      ]
     },
     "execution_count": 178,
     "metadata": {},
     "output_type": "execute_result"
    }
   ],
   "source": [
    "df[990:1001]"
   ]
  },
  {
   "cell_type": "code",
   "execution_count": 18,
   "metadata": {
    "execution": {
     "iopub.execute_input": "2021-11-01T20:53:08.140213Z",
     "iopub.status.busy": "2021-11-01T20:53:08.133214Z",
     "iopub.status.idle": "2021-11-01T20:53:08.297219Z",
     "shell.execute_reply": "2021-11-01T20:53:08.296214Z",
     "shell.execute_reply.started": "2021-11-01T20:53:08.139213Z"
    }
   },
   "outputs": [
    {
     "data": {
      "text/plain": [
       "topic    blank\n",
       "text          \n",
       "Name: 14792, dtype: object"
      ]
     },
     "execution_count": 18,
     "metadata": {},
     "output_type": "execute_result"
    }
   ],
   "source": [
    "df.iloc[14792]"
   ]
  },
  {
   "cell_type": "markdown",
   "metadata": {},
   "source": [
    "### Checking to see if there are any null or blank strings"
   ]
  },
  {
   "cell_type": "code",
   "execution_count": 19,
   "metadata": {
    "execution": {
     "iopub.execute_input": "2021-11-01T20:54:49.388393Z",
     "iopub.status.busy": "2021-11-01T20:54:49.387391Z",
     "iopub.status.idle": "2021-11-01T20:54:49.695957Z",
     "shell.execute_reply": "2021-11-01T20:54:49.694960Z",
     "shell.execute_reply.started": "2021-11-01T20:54:49.388393Z"
    }
   },
   "outputs": [
    {
     "data": {
      "text/plain": [
       "(array([], dtype=int64), array([], dtype=int64))"
      ]
     },
     "execution_count": 19,
     "metadata": {},
     "output_type": "execute_result"
    }
   ],
   "source": [
    "np.where(pd.isnull(df))"
   ]
  },
  {
   "cell_type": "code",
   "execution_count": 21,
   "metadata": {
    "execution": {
     "iopub.execute_input": "2021-11-01T20:55:25.547094Z",
     "iopub.status.busy": "2021-11-01T20:55:25.546094Z",
     "iopub.status.idle": "2021-11-01T20:55:25.829095Z",
     "shell.execute_reply": "2021-11-01T20:55:25.827094Z",
     "shell.execute_reply.started": "2021-11-01T20:55:25.547094Z"
    }
   },
   "outputs": [
    {
     "data": {
      "text/plain": [
       "(array([14792], dtype=int64), array([1], dtype=int64))"
      ]
     },
     "execution_count": 21,
     "metadata": {},
     "output_type": "execute_result"
    }
   ],
   "source": [
    "np.where(df.applymap(lambda x: x == ''))"
   ]
  },
  {
   "cell_type": "code",
   "execution_count": 22,
   "metadata": {
    "execution": {
     "iopub.execute_input": "2021-11-01T20:57:19.989988Z",
     "iopub.status.busy": "2021-11-01T20:57:19.989988Z",
     "iopub.status.idle": "2021-11-01T20:57:20.010988Z",
     "shell.execute_reply": "2021-11-01T20:57:20.010023Z",
     "shell.execute_reply.started": "2021-11-01T20:57:19.989988Z"
    }
   },
   "outputs": [
    {
     "data": {
      "text/plain": [
       "topic    blank\n",
       "text          \n",
       "Name: 14792, dtype: object"
      ]
     },
     "execution_count": 22,
     "metadata": {},
     "output_type": "execute_result"
    }
   ],
   "source": [
    "df.iloc[14792]"
   ]
  },
  {
   "cell_type": "markdown",
   "metadata": {},
   "source": [
    "It seems row 14792 has empty string. Remove it, and double-check."
   ]
  },
  {
   "cell_type": "code",
   "execution_count": 23,
   "metadata": {
    "execution": {
     "iopub.execute_input": "2021-11-01T20:59:31.959600Z",
     "iopub.status.busy": "2021-11-01T20:59:31.957601Z",
     "iopub.status.idle": "2021-11-01T20:59:32.144603Z",
     "shell.execute_reply": "2021-11-01T20:59:32.143605Z",
     "shell.execute_reply.started": "2021-11-01T20:59:31.959600Z"
    }
   },
   "outputs": [
    {
     "data": {
      "text/plain": [
       "(array([], dtype=int64), array([], dtype=int64))"
      ]
     },
     "execution_count": 23,
     "metadata": {},
     "output_type": "execute_result"
    }
   ],
   "source": [
    "df = df.drop([14792])\n",
    "np.where(df.applymap(lambda x: x == ''))"
   ]
  },
  {
   "cell_type": "code",
   "execution_count": null,
   "metadata": {},
   "outputs": [],
   "source": [
    "Looks OK."
   ]
  },
  {
   "cell_type": "code",
   "execution_count": 24,
   "metadata": {
    "execution": {
     "iopub.execute_input": "2021-11-01T20:59:35.579653Z",
     "iopub.status.busy": "2021-11-01T20:59:35.578654Z",
     "iopub.status.idle": "2021-11-01T20:59:36.394646Z",
     "shell.execute_reply": "2021-11-01T20:59:36.393646Z",
     "shell.execute_reply.started": "2021-11-01T20:59:35.579653Z"
    }
   },
   "outputs": [],
   "source": [
    "df.to_csv('data_files/topics_and_text.csv', index=False)"
   ]
  },
  {
   "cell_type": "code",
   "execution_count": null,
   "metadata": {},
   "outputs": [],
   "source": []
  }
 ],
 "metadata": {
  "kernelspec": {
   "display_name": "Python 3",
   "language": "python",
   "name": "python3"
  },
  "language_info": {
   "codemirror_mode": {
    "name": "ipython",
    "version": 3
   },
   "file_extension": ".py",
   "mimetype": "text/x-python",
   "name": "python",
   "nbconvert_exporter": "python",
   "pygments_lexer": "ipython3",
   "version": "3.6.9"
  }
 },
 "nbformat": 4,
 "nbformat_minor": 4
}
