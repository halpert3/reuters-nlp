{
 "cells": [
  {
   "cell_type": "code",
   "execution_count": 1,
   "metadata": {
    "execution": {
     "iopub.execute_input": "2021-11-01T20:37:54.595404Z",
     "iopub.status.busy": "2021-11-01T20:37:54.592407Z",
     "iopub.status.idle": "2021-11-01T20:37:57.927422Z",
     "shell.execute_reply": "2021-11-01T20:37:57.925416Z",
     "shell.execute_reply.started": "2021-11-01T20:37:54.595404Z"
    }
   },
   "outputs": [],
   "source": [
    "import pandas as pd\n",
    "import numpy as np\n",
    "from bs4 import BeautifulSoup\n",
    "import os"
   ]
  },
  {
   "cell_type": "markdown",
   "metadata": {},
   "source": [
    "### Open file and parse it with bs4"
   ]
  },
  {
   "cell_type": "code",
   "execution_count": 2,
   "metadata": {
    "execution": {
     "iopub.execute_input": "2021-11-01T20:37:57.929420Z",
     "iopub.status.busy": "2021-11-01T20:37:57.929420Z",
     "iopub.status.idle": "2021-11-01T20:37:58.861418Z",
     "shell.execute_reply": "2021-11-01T20:37:58.860415Z",
     "shell.execute_reply.started": "2021-11-01T20:37:57.929420Z"
    }
   },
   "outputs": [],
   "source": [
    "f = open('data_files/reut2-000.sgm', encoding='utf-8', errors='ignore')\n",
    "dataFile = f.read()\n",
    "soup = BeautifulSoup(dataFile,'lxml')"
   ]
  },
  {
   "cell_type": "code",
   "execution_count": 3,
   "metadata": {
    "execution": {
     "iopub.execute_input": "2021-11-01T20:37:58.864420Z",
     "iopub.status.busy": "2021-11-01T20:37:58.863419Z",
     "iopub.status.idle": "2021-11-01T20:37:58.895420Z",
     "shell.execute_reply": "2021-11-01T20:37:58.892419Z",
     "shell.execute_reply.started": "2021-11-01T20:37:58.864420Z"
    }
   },
   "outputs": [
    {
     "data": {
      "text/plain": [
       "bs4.BeautifulSoup"
      ]
     },
     "execution_count": 3,
     "metadata": {},
     "output_type": "execute_result"
    }
   ],
   "source": [
    "type(soup)"
   ]
  },
  {
   "cell_type": "code",
   "execution_count": 6,
   "metadata": {
    "execution": {
     "iopub.execute_input": "2021-11-01T20:38:35.101344Z",
     "iopub.status.busy": "2021-11-01T20:38:35.101344Z",
     "iopub.status.idle": "2021-11-01T20:38:35.112342Z",
     "shell.execute_reply": "2021-11-01T20:38:35.111342Z",
     "shell.execute_reply.started": "2021-11-01T20:38:35.101344Z"
    }
   },
   "outputs": [
    {
     "data": {
      "text/plain": [
       "'data_files/reut2-000.sgm'"
      ]
     },
     "execution_count": 6,
     "metadata": {},
     "output_type": "execute_result"
    }
   ],
   "source": [
    "f.name"
   ]
  },
  {
   "cell_type": "markdown",
   "metadata": {},
   "source": [
    "### Check structure of an article"
   ]
  },
  {
   "cell_type": "code",
   "execution_count": 157,
   "metadata": {
    "execution": {
     "iopub.execute_input": "2021-10-30T21:37:06.465731Z",
     "iopub.status.busy": "2021-10-30T21:37:06.464735Z",
     "iopub.status.idle": "2021-10-30T21:37:06.525761Z",
     "shell.execute_reply": "2021-10-30T21:37:06.523733Z",
     "shell.execute_reply.started": "2021-10-30T21:37:06.465731Z"
    }
   },
   "outputs": [],
   "source": [
    "content = soup.find_all('reuters')"
   ]
  },
  {
   "cell_type": "code",
   "execution_count": 158,
   "metadata": {
    "execution": {
     "iopub.execute_input": "2021-10-30T21:37:06.528733Z",
     "iopub.status.busy": "2021-10-30T21:37:06.528733Z",
     "iopub.status.idle": "2021-10-30T21:37:06.544733Z",
     "shell.execute_reply": "2021-10-30T21:37:06.539741Z",
     "shell.execute_reply.started": "2021-10-30T21:37:06.528733Z"
    }
   },
   "outputs": [
    {
     "data": {
      "text/plain": [
       "1000"
      ]
     },
     "execution_count": 158,
     "metadata": {},
     "output_type": "execute_result"
    }
   ],
   "source": [
    "len(content)"
   ]
  },
  {
   "cell_type": "markdown",
   "metadata": {},
   "source": [
    "Each file has 1000 articles"
   ]
  },
  {
   "cell_type": "code",
   "execution_count": 159,
   "metadata": {
    "execution": {
     "iopub.execute_input": "2021-10-30T21:37:06.550735Z",
     "iopub.status.busy": "2021-10-30T21:37:06.548736Z",
     "iopub.status.idle": "2021-10-30T21:37:06.589737Z",
     "shell.execute_reply": "2021-10-30T21:37:06.587734Z",
     "shell.execute_reply.started": "2021-10-30T21:37:06.550735Z"
    }
   },
   "outputs": [
    {
     "data": {
      "text/plain": [
       "<reuters cgisplit=\"TRAINING-SET\" lewissplit=\"TRAIN\" newid=\"6\" oldid=\"5549\" topics=\"YES\">\n",
       "<date>26-FEB-1987 15:14:36.41</date>\n",
       "<topics><d>veg-oil</d><d>linseed</d><d>lin-oil</d><d>soy-oil</d><d>sun-oil</d><d>soybean</d><d>oilseed</d><d>corn</d><d>sunseed</d><d>grain</d><d>sorghum</d><d>wheat</d></topics>\n",
       "<places><d>argentina</d></places>\n",
       "<people></people>\n",
       "<orgs></orgs>\n",
       "<exchanges></exchanges>\n",
       "<companies></companies>\n",
       "<unknown> \n",
       "G\n",
       "f0754reute\n",
       "r f BC-ARGENTINE-1986/87-GRA   02-26 0066</unknown>\n",
       "<text>\n",
       "<title>ARGENTINE 1986/87 GRAIN/OILSEED REGISTRATIONS</title>\n",
       "<dateline>    BUENOS AIRES, Feb 26 - </dateline>Argentine grain board figures show\n",
       "crop registrations of grains, oilseeds and their products to\n",
       "February 11, in thousands of tonnes, showing those for futurE\n",
       "shipments month, 1986/87 total and 1985/86 total to February\n",
       "12, 1986, in brackets:\n",
       "    Bread wheat prev 1,655.8, Feb 872.0, March 164.6, total\n",
       "2,692.4 (4,161.0).\n",
       "    Maize Mar 48.0, total 48.0 (nil).\n",
       "    Sorghum nil (nil)\n",
       "    Oilseed export registrations were:\n",
       "    Sunflowerseed total 15.0 (7.9)\n",
       "    Soybean May 20.0, total 20.0 (nil)\n",
       "    The board also detailed export registrations for\n",
       "subproducts, as follows,\n",
       "    SUBPRODUCTS\n",
       "    Wheat prev 39.9, Feb 48.7, March 13.2, Apr 10.0, total\n",
       "111.8 (82.7) .\n",
       "    Linseed prev 34.8, Feb 32.9, Mar 6.8, Apr 6.3, total 80.8\n",
       "(87.4).\n",
       "    Soybean prev 100.9, Feb 45.1, MAr nil, Apr nil, May 20.0,\n",
       "total 166.1 (218.5).\n",
       "    Sunflowerseed prev 48.6, Feb 61.5, Mar 25.1, Apr 14.5,\n",
       "total 149.8 (145.3).\n",
       "    Vegetable oil registrations were :         \n",
       "    Sunoil prev 37.4, Feb 107.3, Mar 24.5, Apr 3.2, May nil,\n",
       "Jun 10.0, total 182.4 (117.6).                  \n",
       "    Linoil prev 15.9, Feb 23.6, Mar 20.4, Apr 2.0, total 61.8,\n",
       "(76.1).                         \n",
       "    Soybean oil prev 3.7, Feb 21.1, Mar nil, Apr 2.0, May 9.0,\n",
       "Jun 13.0, Jul 7.0, total 55.8 (33.7).        REUTER\n",
       "</text>\n",
       "</reuters>"
      ]
     },
     "execution_count": 159,
     "metadata": {},
     "output_type": "execute_result"
    }
   ],
   "source": [
    "content[5]"
   ]
  },
  {
   "cell_type": "markdown",
   "metadata": {
    "execution": {
     "iopub.execute_input": "2021-10-30T14:14:51.779215Z",
     "iopub.status.busy": "2021-10-30T14:14:51.779215Z",
     "iopub.status.idle": "2021-10-30T14:14:51.806212Z",
     "shell.execute_reply": "2021-10-30T14:14:51.804212Z",
     "shell.execute_reply.started": "2021-10-30T14:14:51.779215Z"
    }
   },
   "source": [
    "### Look at topic list"
   ]
  },
  {
   "cell_type": "code",
   "execution_count": 160,
   "metadata": {
    "execution": {
     "iopub.execute_input": "2021-10-30T21:37:06.593732Z",
     "iopub.status.busy": "2021-10-30T21:37:06.592738Z",
     "iopub.status.idle": "2021-10-30T21:37:06.621734Z",
     "shell.execute_reply": "2021-10-30T21:37:06.619732Z",
     "shell.execute_reply.started": "2021-10-30T21:37:06.592738Z"
    }
   },
   "outputs": [
    {
     "data": {
      "text/plain": [
       "array(['acq', 'alum', 'austdlr', 'austral', 'barley', 'bfr', 'bop', 'can',\n",
       "       'carcass', 'castor-meal', 'castor-oil', 'castorseed', 'citruspulp',\n",
       "       'cocoa', 'coconut', 'coconut-oil', 'coffee', 'copper',\n",
       "       'copra-cake', 'corn', 'corn-oil', 'cornglutenfeed', 'cotton',\n",
       "       'cotton-meal', 'cotton-oil', 'cottonseed', 'cpi', 'cpu', 'crude',\n",
       "       'cruzado', 'dfl', 'dkr', 'dlr', 'dmk', 'drachma', 'earn', 'escudo',\n",
       "       'f-cattle', 'ffr', 'fishmeal', 'flaxseed', 'fuel', 'gas', 'gnp',\n",
       "       'gold', 'grain', 'groundnut', 'groundnut-meal', 'groundnut-oil',\n",
       "       'heat', 'hk', 'hog', 'housing', 'income', 'instal-debt',\n",
       "       'interest', 'inventories', 'ipi', 'iron-steel', 'jet', 'jobs',\n",
       "       'l-cattle', 'lead', 'lei', 'lin-meal', 'lin-oil', 'linseed', 'lit',\n",
       "       'livestock', 'lumber', 'lupin', 'meal-feed', 'mexpeso', 'money-fx',\n",
       "       'money-supply', 'naphtha', 'nat-gas', 'nickel', 'nkr', 'nzdlr',\n",
       "       'oat', 'oilseed', 'orange', 'palladium', 'palm-meal', 'palm-oil',\n",
       "       'palmkernel', 'peseta', 'pet-chem', 'platinum', 'plywood',\n",
       "       'pork-belly', 'potato', 'propane', 'rand', 'rape-meal', 'rape-oil',\n",
       "       'rapeseed', 'red-bean', 'reserves', 'retail', 'rice', 'ringgit',\n",
       "       'rubber', 'rupiah', 'rye', 'saudriyal', 'sfr', 'ship', 'silk',\n",
       "       'silver', 'singdlr', 'skr', 'sorghum', 'soy-meal', 'soy-oil',\n",
       "       'soybean', 'stg', 'strategic-metal', 'sugar', 'sun-meal',\n",
       "       'sun-oil', 'sunseed', 'tapioca', 'tea', 'tin', 'trade', 'tung',\n",
       "       'tung-oil', 'veg-oil', 'wheat', 'wool', 'wpi', 'yen', 'zinc'],\n",
       "      dtype='<U15')"
      ]
     },
     "execution_count": 160,
     "metadata": {},
     "output_type": "execute_result"
    }
   ],
   "source": [
    "topics = np.genfromtxt(\"data_files/all-topics-strings.lc.txt\", \n",
    "                      delimiter='\\n', dtype=None, encoding=None)\n",
    "topics"
   ]
  },
  {
   "cell_type": "markdown",
   "metadata": {},
   "source": [
    "### Find all topics and turn them in to text"
   ]
  },
  {
   "cell_type": "code",
   "execution_count": 161,
   "metadata": {
    "execution": {
     "iopub.execute_input": "2021-10-30T21:37:06.628738Z",
     "iopub.status.busy": "2021-10-30T21:37:06.627738Z",
     "iopub.status.idle": "2021-10-30T21:37:06.731735Z",
     "shell.execute_reply": "2021-10-30T21:37:06.729728Z",
     "shell.execute_reply.started": "2021-10-30T21:37:06.628738Z"
    }
   },
   "outputs": [],
   "source": [
    "topics = soup.find_all('topics')\n",
    "topic_list = list()"
   ]
  },
  {
   "cell_type": "code",
   "execution_count": 162,
   "metadata": {
    "execution": {
     "iopub.execute_input": "2021-10-30T21:37:06.735733Z",
     "iopub.status.busy": "2021-10-30T21:37:06.735733Z",
     "iopub.status.idle": "2021-10-30T21:37:06.764733Z",
     "shell.execute_reply": "2021-10-30T21:37:06.760744Z",
     "shell.execute_reply.started": "2021-10-30T21:37:06.735733Z"
    }
   },
   "outputs": [],
   "source": [
    "for x in topics:\n",
    "    # turn bs4.tag into text\n",
    "    words = [i.text for i in x]\n",
    "    #append text to list\n",
    "    topic_list.append(words)"
   ]
  },
  {
   "cell_type": "markdown",
   "metadata": {},
   "source": [
    "### Make a dataframe with the topics"
   ]
  },
  {
   "cell_type": "markdown",
   "metadata": {
    "execution": {
     "iopub.execute_input": "2021-10-30T14:17:34.823185Z",
     "iopub.status.busy": "2021-10-30T14:17:34.823185Z",
     "iopub.status.idle": "2021-10-30T14:17:34.842183Z",
     "shell.execute_reply": "2021-10-30T14:17:34.841180Z",
     "shell.execute_reply.started": "2021-10-30T14:17:34.823185Z"
    }
   },
   "source": [
    "Make function to pull out **'earn'** topic\n",
    "\n",
    "I only care about the 'earn' topic for now, so I'm making it the only one that matters, but I'm not clear what the ones that have no topic mean. I'm calling those 'blank'."
   ]
  },
  {
   "cell_type": "code",
   "execution_count": 7,
   "metadata": {
    "execution": {
     "iopub.execute_input": "2021-11-01T20:39:48.383049Z",
     "iopub.status.busy": "2021-11-01T20:39:48.383049Z",
     "iopub.status.idle": "2021-11-01T20:39:48.406049Z",
     "shell.execute_reply": "2021-11-01T20:39:48.405050Z",
     "shell.execute_reply.started": "2021-11-01T20:39:48.383049Z"
    }
   },
   "outputs": [],
   "source": [
    "def pull_out_earn_topic(topic_list):\n",
    "    for i, topic in enumerate(topic_list):\n",
    "        \n",
    "        # format is a list of strings, so this loop removes topics from nested list\n",
    "        article_topics = ''\n",
    "        for word in topic:\n",
    "            article_topics += (word + ' ')\n",
    "            \n",
    "        # assign correct topic \n",
    "        if not article_topics:\n",
    "            topic_list[i] = 'blank'\n",
    "        elif 'earn' in article_topics:\n",
    "            topic_list[i] = 'earn'\n",
    "        else:\n",
    "            topic_list[i] = 'other'\n",
    "    \n",
    "    return topic_list"
   ]
  },
  {
   "cell_type": "code",
   "execution_count": 164,
   "metadata": {
    "execution": {
     "iopub.execute_input": "2021-10-30T21:37:06.817732Z",
     "iopub.status.busy": "2021-10-30T21:37:06.815734Z",
     "iopub.status.idle": "2021-10-30T21:37:06.843740Z",
     "shell.execute_reply": "2021-10-30T21:37:06.840731Z",
     "shell.execute_reply.started": "2021-10-30T21:37:06.817732Z"
    }
   },
   "outputs": [
    {
     "data": {
      "text/plain": [
       "['other',\n",
       " 'blank',\n",
       " 'blank',\n",
       " 'blank',\n",
       " 'other',\n",
       " 'other',\n",
       " 'blank',\n",
       " 'blank',\n",
       " 'earn',\n",
       " 'other']"
      ]
     },
     "execution_count": 164,
     "metadata": {},
     "output_type": "execute_result"
    }
   ],
   "source": [
    "test_list = pull_out_earn_topic(topic_list[0:100])\n",
    "test_list[0:10]"
   ]
  },
  {
   "cell_type": "markdown",
   "metadata": {},
   "source": [
    "Test case works. Make the whole dataframe."
   ]
  },
  {
   "cell_type": "code",
   "execution_count": 165,
   "metadata": {
    "execution": {
     "iopub.execute_input": "2021-10-30T21:37:06.848741Z",
     "iopub.status.busy": "2021-10-30T21:37:06.847740Z",
     "iopub.status.idle": "2021-10-30T21:37:06.873735Z",
     "shell.execute_reply": "2021-10-30T21:37:06.871732Z",
     "shell.execute_reply.started": "2021-10-30T21:37:06.848741Z"
    }
   },
   "outputs": [],
   "source": [
    "topics_for_df = pull_out_earn_topic(topic_list)\n",
    "df=pd.DataFrame(topics_for_df, columns=['topics'])"
   ]
  },
  {
   "cell_type": "code",
   "execution_count": 166,
   "metadata": {
    "execution": {
     "iopub.execute_input": "2021-10-30T21:37:06.879734Z",
     "iopub.status.busy": "2021-10-30T21:37:06.877732Z",
     "iopub.status.idle": "2021-10-30T21:37:06.937737Z",
     "shell.execute_reply": "2021-10-30T21:37:06.935734Z",
     "shell.execute_reply.started": "2021-10-30T21:37:06.879734Z"
    }
   },
   "outputs": [
    {
     "data": {
      "text/html": [
       "<div>\n",
       "<style scoped>\n",
       "    .dataframe tbody tr th:only-of-type {\n",
       "        vertical-align: middle;\n",
       "    }\n",
       "\n",
       "    .dataframe tbody tr th {\n",
       "        vertical-align: top;\n",
       "    }\n",
       "\n",
       "    .dataframe thead th {\n",
       "        text-align: right;\n",
       "    }\n",
       "</style>\n",
       "<table border=\"1\" class=\"dataframe\">\n",
       "  <thead>\n",
       "    <tr style=\"text-align: right;\">\n",
       "      <th></th>\n",
       "      <th>topics</th>\n",
       "    </tr>\n",
       "  </thead>\n",
       "  <tbody>\n",
       "    <tr>\n",
       "      <th>0</th>\n",
       "      <td>other</td>\n",
       "    </tr>\n",
       "    <tr>\n",
       "      <th>1</th>\n",
       "      <td>blank</td>\n",
       "    </tr>\n",
       "    <tr>\n",
       "      <th>2</th>\n",
       "      <td>blank</td>\n",
       "    </tr>\n",
       "    <tr>\n",
       "      <th>3</th>\n",
       "      <td>blank</td>\n",
       "    </tr>\n",
       "    <tr>\n",
       "      <th>4</th>\n",
       "      <td>other</td>\n",
       "    </tr>\n",
       "    <tr>\n",
       "      <th>...</th>\n",
       "      <td>...</td>\n",
       "    </tr>\n",
       "    <tr>\n",
       "      <th>995</th>\n",
       "      <td>blank</td>\n",
       "    </tr>\n",
       "    <tr>\n",
       "      <th>996</th>\n",
       "      <td>blank</td>\n",
       "    </tr>\n",
       "    <tr>\n",
       "      <th>997</th>\n",
       "      <td>earn</td>\n",
       "    </tr>\n",
       "    <tr>\n",
       "      <th>998</th>\n",
       "      <td>other</td>\n",
       "    </tr>\n",
       "    <tr>\n",
       "      <th>999</th>\n",
       "      <td>other</td>\n",
       "    </tr>\n",
       "  </tbody>\n",
       "</table>\n",
       "<p>1000 rows × 1 columns</p>\n",
       "</div>"
      ],
      "text/plain": [
       "    topics\n",
       "0    other\n",
       "1    blank\n",
       "2    blank\n",
       "3    blank\n",
       "4    other\n",
       "..     ...\n",
       "995  blank\n",
       "996  blank\n",
       "997   earn\n",
       "998  other\n",
       "999  other\n",
       "\n",
       "[1000 rows x 1 columns]"
      ]
     },
     "execution_count": 166,
     "metadata": {},
     "output_type": "execute_result"
    }
   ],
   "source": [
    "df"
   ]
  },
  {
   "cell_type": "markdown",
   "metadata": {},
   "source": [
    "### Make list of article content"
   ]
  },
  {
   "cell_type": "code",
   "execution_count": 167,
   "metadata": {
    "execution": {
     "iopub.execute_input": "2021-10-30T21:37:06.941733Z",
     "iopub.status.busy": "2021-10-30T21:37:06.940734Z",
     "iopub.status.idle": "2021-10-30T21:37:07.032734Z",
     "shell.execute_reply": "2021-10-30T21:37:07.029736Z",
     "shell.execute_reply.started": "2021-10-30T21:37:06.941733Z"
    }
   },
   "outputs": [
    {
     "data": {
      "text/plain": [
       "1000"
      ]
     },
     "execution_count": 167,
     "metadata": {},
     "output_type": "execute_result"
    }
   ],
   "source": [
    "all_text = soup.find_all(\"text\")\n",
    "len(all_text)"
   ]
  },
  {
   "cell_type": "code",
   "execution_count": 168,
   "metadata": {
    "execution": {
     "iopub.execute_input": "2021-10-30T21:37:07.036734Z",
     "iopub.status.busy": "2021-10-30T21:37:07.035733Z",
     "iopub.status.idle": "2021-10-30T21:37:07.113733Z",
     "shell.execute_reply": "2021-10-30T21:37:07.109745Z",
     "shell.execute_reply.started": "2021-10-30T21:37:07.036734Z"
    }
   },
   "outputs": [],
   "source": [
    "list_all_text = list()\n",
    "for text in all_text:\n",
    "    \n",
    "    # getting just the text from the element\n",
    "    # stripping out the newline indicator\n",
    "    working_text = text.get_text().replace(\"\\n\", \" \")\n",
    "    \n",
    "    # removing extra spaces\n",
    "    working_text = ' '.join(working_text.split())\n",
    "    \n",
    "    # appending to list\n",
    "    list_all_text.append(working_text)"
   ]
  },
  {
   "cell_type": "code",
   "execution_count": 169,
   "metadata": {
    "execution": {
     "iopub.execute_input": "2021-10-30T21:37:07.116734Z",
     "iopub.status.busy": "2021-10-30T21:37:07.116734Z",
     "iopub.status.idle": "2021-10-30T21:37:07.144744Z",
     "shell.execute_reply": "2021-10-30T21:37:07.140734Z",
     "shell.execute_reply.started": "2021-10-30T21:37:07.116734Z"
    }
   },
   "outputs": [],
   "source": [
    "df['text'] = list_all_text"
   ]
  },
  {
   "cell_type": "code",
   "execution_count": 170,
   "metadata": {
    "execution": {
     "iopub.execute_input": "2021-10-30T21:37:07.148734Z",
     "iopub.status.busy": "2021-10-30T21:37:07.147734Z",
     "iopub.status.idle": "2021-10-30T21:37:07.196734Z",
     "shell.execute_reply": "2021-10-30T21:37:07.192741Z",
     "shell.execute_reply.started": "2021-10-30T21:37:07.148734Z"
    }
   },
   "outputs": [
    {
     "data": {
      "text/html": [
       "<div>\n",
       "<style scoped>\n",
       "    .dataframe tbody tr th:only-of-type {\n",
       "        vertical-align: middle;\n",
       "    }\n",
       "\n",
       "    .dataframe tbody tr th {\n",
       "        vertical-align: top;\n",
       "    }\n",
       "\n",
       "    .dataframe thead th {\n",
       "        text-align: right;\n",
       "    }\n",
       "</style>\n",
       "<table border=\"1\" class=\"dataframe\">\n",
       "  <thead>\n",
       "    <tr style=\"text-align: right;\">\n",
       "      <th></th>\n",
       "      <th>topics</th>\n",
       "      <th>text</th>\n",
       "    </tr>\n",
       "  </thead>\n",
       "  <tbody>\n",
       "    <tr>\n",
       "      <th>0</th>\n",
       "      <td>other</td>\n",
       "      <td>BAHIA COCOA REVIEW SALVADOR, Feb 26 - Showers ...</td>\n",
       "    </tr>\n",
       "    <tr>\n",
       "      <th>1</th>\n",
       "      <td>blank</td>\n",
       "      <td>STANDARD OIL &lt;SRD&gt; TO FORM FINANCIAL UNIT CLEV...</td>\n",
       "    </tr>\n",
       "    <tr>\n",
       "      <th>2</th>\n",
       "      <td>blank</td>\n",
       "      <td>TEXAS COMMERCE BANCSHARES &lt;TCB&gt; FILES PLAN HOU...</td>\n",
       "    </tr>\n",
       "    <tr>\n",
       "      <th>3</th>\n",
       "      <td>blank</td>\n",
       "      <td>TALKING POINT/BANKAMERICA &lt;BAC&gt; EQUITY OFFER b...</td>\n",
       "    </tr>\n",
       "    <tr>\n",
       "      <th>4</th>\n",
       "      <td>other</td>\n",
       "      <td>NATIONAL AVERAGE PRICES FOR FARMER-OWNED RESER...</td>\n",
       "    </tr>\n",
       "    <tr>\n",
       "      <th>...</th>\n",
       "      <td>...</td>\n",
       "      <td>...</td>\n",
       "    </tr>\n",
       "    <tr>\n",
       "      <th>995</th>\n",
       "      <td>blank</td>\n",
       "      <td>ASHTON-TATE &lt;TATE&gt; TO OFFER COMMON SHARES TORR...</td>\n",
       "    </tr>\n",
       "    <tr>\n",
       "      <th>996</th>\n",
       "      <td>blank</td>\n",
       "      <td>KEYCORP &lt;KEY&gt; REGISTERS SUBORDINATED NOTES ALB...</td>\n",
       "    </tr>\n",
       "    <tr>\n",
       "      <th>997</th>\n",
       "      <td>earn</td>\n",
       "      <td>&lt;NATIONAL SEA PRODUCTS LTD&gt; 4TH QTR NET HALIFA...</td>\n",
       "    </tr>\n",
       "    <tr>\n",
       "      <th>998</th>\n",
       "      <td>other</td>\n",
       "      <td>U.K. MONEY MARKET SHORTAGE FORECAST REVISED DO...</td>\n",
       "    </tr>\n",
       "    <tr>\n",
       "      <th>999</th>\n",
       "      <td>other</td>\n",
       "      <td>NATIONAL AMUSEMENTS AGAIN UPS VIACOM &lt;VIA&gt; BID...</td>\n",
       "    </tr>\n",
       "  </tbody>\n",
       "</table>\n",
       "<p>1000 rows × 2 columns</p>\n",
       "</div>"
      ],
      "text/plain": [
       "    topics                                               text\n",
       "0    other  BAHIA COCOA REVIEW SALVADOR, Feb 26 - Showers ...\n",
       "1    blank  STANDARD OIL <SRD> TO FORM FINANCIAL UNIT CLEV...\n",
       "2    blank  TEXAS COMMERCE BANCSHARES <TCB> FILES PLAN HOU...\n",
       "3    blank  TALKING POINT/BANKAMERICA <BAC> EQUITY OFFER b...\n",
       "4    other  NATIONAL AVERAGE PRICES FOR FARMER-OWNED RESER...\n",
       "..     ...                                                ...\n",
       "995  blank  ASHTON-TATE <TATE> TO OFFER COMMON SHARES TORR...\n",
       "996  blank  KEYCORP <KEY> REGISTERS SUBORDINATED NOTES ALB...\n",
       "997   earn  <NATIONAL SEA PRODUCTS LTD> 4TH QTR NET HALIFA...\n",
       "998  other  U.K. MONEY MARKET SHORTAGE FORECAST REVISED DO...\n",
       "999  other  NATIONAL AMUSEMENTS AGAIN UPS VIACOM <VIA> BID...\n",
       "\n",
       "[1000 rows x 2 columns]"
      ]
     },
     "execution_count": 170,
     "metadata": {},
     "output_type": "execute_result"
    }
   ],
   "source": [
    "df"
   ]
  },
  {
   "cell_type": "markdown",
   "metadata": {},
   "source": [
    "Now that I got it working with one .sgm file, do the entire dataset."
   ]
  },
  {
   "cell_type": "markdown",
   "metadata": {
    "execution": {
     "iopub.execute_input": "2021-10-30T16:19:43.929281Z",
     "iopub.status.busy": "2021-10-30T16:19:43.926247Z",
     "iopub.status.idle": "2021-10-30T16:19:43.955027Z",
     "shell.execute_reply": "2021-10-30T16:19:43.954027Z",
     "shell.execute_reply.started": "2021-10-30T16:19:43.929281Z"
    }
   },
   "source": [
    "# Join all datafiles"
   ]
  },
  {
   "cell_type": "markdown",
   "metadata": {},
   "source": [
    "- make an empty df with the two columns\n",
    "- loop through each file\n",
    "    - read the file and make it a bs4 object\n",
    "    - find the topics\n",
    "        - make an empty list\n",
    "        - loop through the topics and turn the bs4 tags into text\n",
    "        - run the function on the list to make it the topics for the df\n",
    "    - find the text\n",
    "        - make an empty list\n",
    "        - run the loop using `.get_text()`\n",
    "            - clean the text in the loop\n",
    "    - add the lists to df using `add_to_df` function\n",
    "  \n"
   ]
  },
  {
   "cell_type": "markdown",
   "metadata": {},
   "source": [
    "### Define functions"
   ]
  },
  {
   "cell_type": "code",
   "execution_count": 8,
   "metadata": {
    "execution": {
     "iopub.execute_input": "2021-11-01T20:40:03.138391Z",
     "iopub.status.busy": "2021-11-01T20:40:03.137356Z",
     "iopub.status.idle": "2021-11-01T20:40:03.151355Z",
     "shell.execute_reply": "2021-11-01T20:40:03.150387Z",
     "shell.execute_reply.started": "2021-11-01T20:40:03.138391Z"
    }
   },
   "outputs": [],
   "source": [
    "def pull_out_earn_topic(topic_list):\n",
    "    for i, topic in enumerate(topic_list):\n",
    "        \n",
    "        # format is a list of strings, so this loop removes topics from nested list\n",
    "        article_topics = ''\n",
    "        for word in topic:\n",
    "            article_topics += (word + ' ')\n",
    "            \n",
    "        # assign correct topic \n",
    "        if not article_topics:\n",
    "            topic_list[i] = 'blank'\n",
    "        elif 'earn' in article_topics:\n",
    "            topic_list[i] = 'earn'\n",
    "        else:\n",
    "            topic_list[i] = 'other'\n",
    "    \n",
    "    return topic_list"
   ]
  },
  {
   "cell_type": "code",
   "execution_count": 13,
   "metadata": {
    "execution": {
     "iopub.execute_input": "2021-11-01T20:42:39.496093Z",
     "iopub.status.busy": "2021-11-01T20:42:39.495092Z",
     "iopub.status.idle": "2021-11-01T20:42:39.515092Z",
     "shell.execute_reply": "2021-11-01T20:42:39.514094Z",
     "shell.execute_reply.started": "2021-11-01T20:42:39.496093Z"
    }
   },
   "outputs": [],
   "source": [
    "def make_bs4(file):\n",
    "    filename = os.path.join(\"data_files\", file)\n",
    "    f = open(filename, 'r', encoding='utf-8', errors='ignore')\n",
    "    dataFile = f.read()\n",
    "    print(f.name)\n",
    "        \n",
    "    # make it a bs4 object\n",
    "    soup = BeautifulSoup(dataFile,'lxml')\n",
    "    return soup"
   ]
  },
  {
   "cell_type": "code",
   "execution_count": 10,
   "metadata": {
    "execution": {
     "iopub.execute_input": "2021-11-01T20:40:05.855689Z",
     "iopub.status.busy": "2021-11-01T20:40:05.854688Z",
     "iopub.status.idle": "2021-11-01T20:40:05.868689Z",
     "shell.execute_reply": "2021-11-01T20:40:05.867687Z",
     "shell.execute_reply.started": "2021-11-01T20:40:05.855689Z"
    }
   },
   "outputs": [],
   "source": [
    "def add_to_df(topics, texts, df):\n",
    "    for i, topic in enumerate(topics):\n",
    "        new_row = pd.Series([topics[i], texts[i]], index=df.columns)\n",
    "        df = df.append(new_row, ignore_index=True)\n",
    "    return df"
   ]
  },
  {
   "cell_type": "markdown",
   "metadata": {
    "execution": {
     "iopub.execute_input": "2021-10-30T21:44:00.199865Z",
     "iopub.status.busy": "2021-10-30T21:44:00.198858Z",
     "iopub.status.idle": "2021-10-30T21:44:00.213860Z",
     "shell.execute_reply": "2021-10-30T21:44:00.211858Z",
     "shell.execute_reply.started": "2021-10-30T21:44:00.199865Z"
    }
   },
   "source": [
    "### Make empty dataframe"
   ]
  },
  {
   "cell_type": "code",
   "execution_count": 11,
   "metadata": {
    "execution": {
     "iopub.execute_input": "2021-11-01T20:40:09.348474Z",
     "iopub.status.busy": "2021-11-01T20:40:09.347475Z",
     "iopub.status.idle": "2021-11-01T20:40:09.375479Z",
     "shell.execute_reply": "2021-11-01T20:40:09.374508Z",
     "shell.execute_reply.started": "2021-11-01T20:40:09.348474Z"
    }
   },
   "outputs": [
    {
     "data": {
      "text/html": [
       "<div>\n",
       "<style scoped>\n",
       "    .dataframe tbody tr th:only-of-type {\n",
       "        vertical-align: middle;\n",
       "    }\n",
       "\n",
       "    .dataframe tbody tr th {\n",
       "        vertical-align: top;\n",
       "    }\n",
       "\n",
       "    .dataframe thead th {\n",
       "        text-align: right;\n",
       "    }\n",
       "</style>\n",
       "<table border=\"1\" class=\"dataframe\">\n",
       "  <thead>\n",
       "    <tr style=\"text-align: right;\">\n",
       "      <th></th>\n",
       "      <th>topic</th>\n",
       "      <th>text</th>\n",
       "    </tr>\n",
       "  </thead>\n",
       "  <tbody>\n",
       "  </tbody>\n",
       "</table>\n",
       "</div>"
      ],
      "text/plain": [
       "Empty DataFrame\n",
       "Columns: [topic, text]\n",
       "Index: []"
      ]
     },
     "execution_count": 11,
     "metadata": {},
     "output_type": "execute_result"
    }
   ],
   "source": [
    "df = pd.DataFrame(columns=['topic', 'text'])\n",
    "df"
   ]
  },
  {
   "cell_type": "markdown",
   "metadata": {},
   "source": [
    "### Execute big loop to add all the data to the dataframe"
   ]
  },
  {
   "cell_type": "code",
   "execution_count": 15,
   "metadata": {
    "execution": {
     "iopub.execute_input": "2021-11-01T20:43:35.897578Z",
     "iopub.status.busy": "2021-11-01T20:43:35.896578Z",
     "iopub.status.idle": "2021-11-01T20:44:54.936661Z",
     "shell.execute_reply": "2021-11-01T20:44:54.935653Z",
     "shell.execute_reply.started": "2021-11-01T20:43:35.897578Z"
    }
   },
   "outputs": [
    {
     "name": "stdout",
     "output_type": "stream",
     "text": [
      "data_files\\reut2-000.sgm\n",
      "1000\n",
      "1000\n",
      "data_files\\reut2-001.sgm\n",
      "1000\n",
      "1000\n",
      "data_files\\reut2-002.sgm\n",
      "1000\n",
      "1000\n",
      "data_files\\reut2-003.sgm\n",
      "1000\n",
      "1000\n",
      "data_files\\reut2-004.sgm\n",
      "1000\n",
      "1000\n",
      "data_files\\reut2-005.sgm\n",
      "1000\n",
      "1000\n",
      "data_files\\reut2-006.sgm\n",
      "1000\n",
      "1000\n",
      "data_files\\reut2-007.sgm\n",
      "1000\n",
      "1000\n",
      "data_files\\reut2-008.sgm\n",
      "1000\n",
      "1000\n",
      "data_files\\reut2-009.sgm\n",
      "1000\n",
      "1000\n",
      "data_files\\reut2-010.sgm\n",
      "1000\n",
      "1000\n",
      "data_files\\reut2-011.sgm\n",
      "1000\n",
      "1000\n",
      "data_files\\reut2-012.sgm\n",
      "1000\n",
      "1000\n",
      "data_files\\reut2-013.sgm\n",
      "1000\n",
      "1000\n",
      "data_files\\reut2-014.sgm\n",
      "1000\n",
      "1000\n",
      "data_files\\reut2-015.sgm\n",
      "1000\n",
      "1000\n",
      "data_files\\reut2-016.sgm\n",
      "1000\n",
      "1000\n",
      "data_files\\reut2-017.sgm\n",
      "1000\n",
      "1000\n",
      "data_files\\reut2-018.sgm\n",
      "1000\n",
      "1000\n",
      "data_files\\reut2-019.sgm\n",
      "1000\n",
      "1000\n",
      "data_files\\reut2-020.sgm\n",
      "1000\n",
      "1000\n"
     ]
    },
    {
     "data": {
      "text/html": [
       "<div>\n",
       "<style scoped>\n",
       "    .dataframe tbody tr th:only-of-type {\n",
       "        vertical-align: middle;\n",
       "    }\n",
       "\n",
       "    .dataframe tbody tr th {\n",
       "        vertical-align: top;\n",
       "    }\n",
       "\n",
       "    .dataframe thead th {\n",
       "        text-align: right;\n",
       "    }\n",
       "</style>\n",
       "<table border=\"1\" class=\"dataframe\">\n",
       "  <thead>\n",
       "    <tr style=\"text-align: right;\">\n",
       "      <th></th>\n",
       "      <th>topic</th>\n",
       "      <th>text</th>\n",
       "    </tr>\n",
       "  </thead>\n",
       "  <tbody>\n",
       "    <tr>\n",
       "      <th>0</th>\n",
       "      <td>other</td>\n",
       "      <td>BAHIA COCOA REVIEW SALVADOR, Feb 26 - Showers ...</td>\n",
       "    </tr>\n",
       "    <tr>\n",
       "      <th>1</th>\n",
       "      <td>blank</td>\n",
       "      <td>STANDARD OIL &lt;SRD&gt; TO FORM FINANCIAL UNIT CLEV...</td>\n",
       "    </tr>\n",
       "    <tr>\n",
       "      <th>2</th>\n",
       "      <td>blank</td>\n",
       "      <td>TEXAS COMMERCE BANCSHARES &lt;TCB&gt; FILES PLAN HOU...</td>\n",
       "    </tr>\n",
       "    <tr>\n",
       "      <th>3</th>\n",
       "      <td>blank</td>\n",
       "      <td>TALKING POINT/BANKAMERICA &lt;BAC&gt; EQUITY OFFER b...</td>\n",
       "    </tr>\n",
       "    <tr>\n",
       "      <th>4</th>\n",
       "      <td>other</td>\n",
       "      <td>NATIONAL AVERAGE PRICES FOR FARMER-OWNED RESER...</td>\n",
       "    </tr>\n",
       "    <tr>\n",
       "      <th>...</th>\n",
       "      <td>...</td>\n",
       "      <td>...</td>\n",
       "    </tr>\n",
       "    <tr>\n",
       "      <th>22995</th>\n",
       "      <td>blank</td>\n",
       "      <td>******PACIFIC STOCK EXCHANGE SAYS IT WILL CLOS...</td>\n",
       "    </tr>\n",
       "    <tr>\n",
       "      <th>22996</th>\n",
       "      <td>blank</td>\n",
       "      <td>******DOW FALLS 404 POINTS TO 1844, LOWEST LEV...</td>\n",
       "    </tr>\n",
       "    <tr>\n",
       "      <th>22997</th>\n",
       "      <td>blank</td>\n",
       "      <td>AFG INDUSTRIES &lt;AFG&gt; TO BUY BACK STOCK IRVINE,...</td>\n",
       "    </tr>\n",
       "    <tr>\n",
       "      <th>22998</th>\n",
       "      <td>blank</td>\n",
       "      <td>J.P. MORGAN &lt;JPM&gt; LOWERS LOAN-LOSS PROVISIONS ...</td>\n",
       "    </tr>\n",
       "    <tr>\n",
       "      <th>22999</th>\n",
       "      <td>other</td>\n",
       "      <td>CCR VIDEO&lt;CCCR.O&gt; GETS OFFER ON TAKEOVER TALKS...</td>\n",
       "    </tr>\n",
       "  </tbody>\n",
       "</table>\n",
       "<p>23000 rows × 2 columns</p>\n",
       "</div>"
      ],
      "text/plain": [
       "       topic                                               text\n",
       "0      other  BAHIA COCOA REVIEW SALVADOR, Feb 26 - Showers ...\n",
       "1      blank  STANDARD OIL <SRD> TO FORM FINANCIAL UNIT CLEV...\n",
       "2      blank  TEXAS COMMERCE BANCSHARES <TCB> FILES PLAN HOU...\n",
       "3      blank  TALKING POINT/BANKAMERICA <BAC> EQUITY OFFER b...\n",
       "4      other  NATIONAL AVERAGE PRICES FOR FARMER-OWNED RESER...\n",
       "...      ...                                                ...\n",
       "22995  blank  ******PACIFIC STOCK EXCHANGE SAYS IT WILL CLOS...\n",
       "22996  blank  ******DOW FALLS 404 POINTS TO 1844, LOWEST LEV...\n",
       "22997  blank  AFG INDUSTRIES <AFG> TO BUY BACK STOCK IRVINE,...\n",
       "22998  blank  J.P. MORGAN <JPM> LOWERS LOAN-LOSS PROVISIONS ...\n",
       "22999  other  CCR VIDEO<CCCR.O> GETS OFFER ON TAKEOVER TALKS...\n",
       "\n",
       "[23000 rows x 2 columns]"
      ]
     },
     "execution_count": 15,
     "metadata": {},
     "output_type": "execute_result"
    }
   ],
   "source": [
    "\n",
    "for file in os.listdir(\"data_files/\"): \n",
    "\n",
    "    if file.endswith(\".sgm\"):\n",
    "        \n",
    "        # for each sgm file, read it and make it a bs4 object\n",
    "        soup = make_bs4(file)\n",
    "        \n",
    "        # isolate topics\n",
    "        topic_list = list()\n",
    "        \n",
    "        topics = soup.find_all('topics')\n",
    "        \n",
    "        for x in topics:\n",
    "            # turn bs4.tag into text\n",
    "            words = [i.text for i in x]\n",
    "            #append text to list\n",
    "            topic_list.append(words)\n",
    "        \n",
    "        topic_list = pull_out_earn_topic(topic_list)\n",
    "        \n",
    "        # isolate text\n",
    "        list_all_text = list()\n",
    "        \n",
    "        all_text = soup.find_all(\"text\")\n",
    "        \n",
    "        for text in all_text:\n",
    "            \n",
    "            # getting just the text from the element\n",
    "            # stripping out the newline indicator\n",
    "            working_text = text.get_text().replace(\"\\n\", \" \")\n",
    "            \n",
    "            # removing extra spaces\n",
    "            working_text = ' '.join(working_text.split())\n",
    "            \n",
    "            # appending to list\n",
    "            list_all_text.append(working_text)\n",
    "        \n",
    "        # add the article's topic and the article's text to the df         \n",
    "        df = add_to_df(topic_list, list_all_text, df)\n",
    "df"
   ]
  },
  {
   "cell_type": "code",
   "execution_count": 16,
   "metadata": {
    "execution": {
     "iopub.execute_input": "2021-11-01T20:45:17.051174Z",
     "iopub.status.busy": "2021-11-01T20:45:17.051174Z",
     "iopub.status.idle": "2021-11-01T20:45:17.093176Z",
     "shell.execute_reply": "2021-11-01T20:45:17.092176Z",
     "shell.execute_reply.started": "2021-11-01T20:45:17.051174Z"
    }
   },
   "outputs": [
    {
     "name": "stdout",
     "output_type": "stream",
     "text": [
      "<class 'pandas.core.frame.DataFrame'>\n",
      "RangeIndex: 23000 entries, 0 to 22999\n",
      "Data columns (total 2 columns):\n",
      " #   Column  Non-Null Count  Dtype \n",
      "---  ------  --------------  ----- \n",
      " 0   topic   23000 non-null  object\n",
      " 1   text    23000 non-null  object\n",
      "dtypes: object(2)\n",
      "memory usage: 359.5+ KB\n"
     ]
    }
   ],
   "source": [
    "df.info()"
   ]
  },
  {
   "cell_type": "code",
   "execution_count": 175,
   "metadata": {
    "execution": {
     "iopub.execute_input": "2021-10-30T21:38:34.596732Z",
     "iopub.status.busy": "2021-10-30T21:38:34.596732Z",
     "iopub.status.idle": "2021-10-30T21:38:34.627735Z",
     "shell.execute_reply": "2021-10-30T21:38:34.624742Z",
     "shell.execute_reply.started": "2021-10-30T21:38:34.596732Z"
    }
   },
   "outputs": [
    {
     "data": {
      "text/html": [
       "<div>\n",
       "<style scoped>\n",
       "    .dataframe tbody tr th:only-of-type {\n",
       "        vertical-align: middle;\n",
       "    }\n",
       "\n",
       "    .dataframe tbody tr th {\n",
       "        vertical-align: top;\n",
       "    }\n",
       "\n",
       "    .dataframe thead th {\n",
       "        text-align: right;\n",
       "    }\n",
       "</style>\n",
       "<table border=\"1\" class=\"dataframe\">\n",
       "  <thead>\n",
       "    <tr style=\"text-align: right;\">\n",
       "      <th></th>\n",
       "      <th>topic</th>\n",
       "      <th>text</th>\n",
       "    </tr>\n",
       "  </thead>\n",
       "  <tbody>\n",
       "    <tr>\n",
       "      <th>0</th>\n",
       "      <td>other</td>\n",
       "      <td>BAHIA COCOA REVIEW SALVADOR, Feb 26 - Showers ...</td>\n",
       "    </tr>\n",
       "    <tr>\n",
       "      <th>1</th>\n",
       "      <td>blank</td>\n",
       "      <td>STANDARD OIL &lt;SRD&gt; TO FORM FINANCIAL UNIT CLEV...</td>\n",
       "    </tr>\n",
       "    <tr>\n",
       "      <th>2</th>\n",
       "      <td>blank</td>\n",
       "      <td>TEXAS COMMERCE BANCSHARES &lt;TCB&gt; FILES PLAN HOU...</td>\n",
       "    </tr>\n",
       "    <tr>\n",
       "      <th>3</th>\n",
       "      <td>blank</td>\n",
       "      <td>TALKING POINT/BANKAMERICA &lt;BAC&gt; EQUITY OFFER b...</td>\n",
       "    </tr>\n",
       "    <tr>\n",
       "      <th>4</th>\n",
       "      <td>other</td>\n",
       "      <td>NATIONAL AVERAGE PRICES FOR FARMER-OWNED RESER...</td>\n",
       "    </tr>\n",
       "    <tr>\n",
       "      <th>5</th>\n",
       "      <td>other</td>\n",
       "      <td>ARGENTINE 1986/87 GRAIN/OILSEED REGISTRATIONS ...</td>\n",
       "    </tr>\n",
       "    <tr>\n",
       "      <th>6</th>\n",
       "      <td>blank</td>\n",
       "      <td>RED LION INNS FILES PLANS OFFERING PORTLAND, O...</td>\n",
       "    </tr>\n",
       "    <tr>\n",
       "      <th>7</th>\n",
       "      <td>blank</td>\n",
       "      <td>USX &lt;X&gt; DEBT DOWGRADED BY MOODY'S NEW YORK, Fe...</td>\n",
       "    </tr>\n",
       "    <tr>\n",
       "      <th>8</th>\n",
       "      <td>earn</td>\n",
       "      <td>CHAMPION PRODUCTS &lt;CH&gt; APPROVES STOCK SPLIT RO...</td>\n",
       "    </tr>\n",
       "    <tr>\n",
       "      <th>9</th>\n",
       "      <td>other</td>\n",
       "      <td>COMPUTER TERMINAL SYSTEMS &lt;CPML&gt; COMPLETES SAL...</td>\n",
       "    </tr>\n",
       "  </tbody>\n",
       "</table>\n",
       "</div>"
      ],
      "text/plain": [
       "   topic                                               text\n",
       "0  other  BAHIA COCOA REVIEW SALVADOR, Feb 26 - Showers ...\n",
       "1  blank  STANDARD OIL <SRD> TO FORM FINANCIAL UNIT CLEV...\n",
       "2  blank  TEXAS COMMERCE BANCSHARES <TCB> FILES PLAN HOU...\n",
       "3  blank  TALKING POINT/BANKAMERICA <BAC> EQUITY OFFER b...\n",
       "4  other  NATIONAL AVERAGE PRICES FOR FARMER-OWNED RESER...\n",
       "5  other  ARGENTINE 1986/87 GRAIN/OILSEED REGISTRATIONS ...\n",
       "6  blank  RED LION INNS FILES PLANS OFFERING PORTLAND, O...\n",
       "7  blank  USX <X> DEBT DOWGRADED BY MOODY'S NEW YORK, Fe...\n",
       "8   earn  CHAMPION PRODUCTS <CH> APPROVES STOCK SPLIT RO...\n",
       "9  other  COMPUTER TERMINAL SYSTEMS <CPML> COMPLETES SAL..."
      ]
     },
     "execution_count": 175,
     "metadata": {},
     "output_type": "execute_result"
    }
   ],
   "source": [
    "df[0:10]"
   ]
  },
  {
   "cell_type": "code",
   "execution_count": 178,
   "metadata": {
    "execution": {
     "iopub.execute_input": "2021-10-30T21:51:55.469103Z",
     "iopub.status.busy": "2021-10-30T21:51:55.469103Z",
     "iopub.status.idle": "2021-10-30T21:51:55.550104Z",
     "shell.execute_reply": "2021-10-30T21:51:55.549102Z",
     "shell.execute_reply.started": "2021-10-30T21:51:55.469103Z"
    }
   },
   "outputs": [
    {
     "data": {
      "text/html": [
       "<div>\n",
       "<style scoped>\n",
       "    .dataframe tbody tr th:only-of-type {\n",
       "        vertical-align: middle;\n",
       "    }\n",
       "\n",
       "    .dataframe tbody tr th {\n",
       "        vertical-align: top;\n",
       "    }\n",
       "\n",
       "    .dataframe thead th {\n",
       "        text-align: right;\n",
       "    }\n",
       "</style>\n",
       "<table border=\"1\" class=\"dataframe\">\n",
       "  <thead>\n",
       "    <tr style=\"text-align: right;\">\n",
       "      <th></th>\n",
       "      <th>topic</th>\n",
       "      <th>text</th>\n",
       "    </tr>\n",
       "  </thead>\n",
       "  <tbody>\n",
       "    <tr>\n",
       "      <th>990</th>\n",
       "      <td>other</td>\n",
       "      <td>U.S. ASKS JAPAN END AGRICULTURE IMPORT CONTROL...</td>\n",
       "    </tr>\n",
       "    <tr>\n",
       "      <th>991</th>\n",
       "      <td>blank</td>\n",
       "      <td>U.S. FINANCIAL ANALYSTS - March 3 Wilcox/Gibbs...</td>\n",
       "    </tr>\n",
       "    <tr>\n",
       "      <th>992</th>\n",
       "      <td>blank</td>\n",
       "      <td>U.S. DIVIDEND MEETINGS - MARCH 3 Mickelberry C...</td>\n",
       "    </tr>\n",
       "    <tr>\n",
       "      <th>993</th>\n",
       "      <td>blank</td>\n",
       "      <td>U.S. SHAREHOLDER MEETINGS - MARCH 3 None Repor...</td>\n",
       "    </tr>\n",
       "    <tr>\n",
       "      <th>994</th>\n",
       "      <td>earn</td>\n",
       "      <td>FIRSTCORP &lt;FCR&gt; SEES GAIN ON CONDEMNATION RALE...</td>\n",
       "    </tr>\n",
       "    <tr>\n",
       "      <th>995</th>\n",
       "      <td>blank</td>\n",
       "      <td>ASHTON-TATE &lt;TATE&gt; TO OFFER COMMON SHARES TORR...</td>\n",
       "    </tr>\n",
       "    <tr>\n",
       "      <th>996</th>\n",
       "      <td>blank</td>\n",
       "      <td>KEYCORP &lt;KEY&gt; REGISTERS SUBORDINATED NOTES ALB...</td>\n",
       "    </tr>\n",
       "    <tr>\n",
       "      <th>997</th>\n",
       "      <td>earn</td>\n",
       "      <td>&lt;NATIONAL SEA PRODUCTS LTD&gt; 4TH QTR NET HALIFA...</td>\n",
       "    </tr>\n",
       "    <tr>\n",
       "      <th>998</th>\n",
       "      <td>other</td>\n",
       "      <td>U.K. MONEY MARKET SHORTAGE FORECAST REVISED DO...</td>\n",
       "    </tr>\n",
       "    <tr>\n",
       "      <th>999</th>\n",
       "      <td>other</td>\n",
       "      <td>NATIONAL AMUSEMENTS AGAIN UPS VIACOM &lt;VIA&gt; BID...</td>\n",
       "    </tr>\n",
       "    <tr>\n",
       "      <th>1000</th>\n",
       "      <td>blank</td>\n",
       "      <td>SANDOZ PLANS WEEDKILLER JOINT VENTURE IN USSR ...</td>\n",
       "    </tr>\n",
       "  </tbody>\n",
       "</table>\n",
       "</div>"
      ],
      "text/plain": [
       "      topic                                               text\n",
       "990   other  U.S. ASKS JAPAN END AGRICULTURE IMPORT CONTROL...\n",
       "991   blank  U.S. FINANCIAL ANALYSTS - March 3 Wilcox/Gibbs...\n",
       "992   blank  U.S. DIVIDEND MEETINGS - MARCH 3 Mickelberry C...\n",
       "993   blank  U.S. SHAREHOLDER MEETINGS - MARCH 3 None Repor...\n",
       "994    earn  FIRSTCORP <FCR> SEES GAIN ON CONDEMNATION RALE...\n",
       "995   blank  ASHTON-TATE <TATE> TO OFFER COMMON SHARES TORR...\n",
       "996   blank  KEYCORP <KEY> REGISTERS SUBORDINATED NOTES ALB...\n",
       "997    earn  <NATIONAL SEA PRODUCTS LTD> 4TH QTR NET HALIFA...\n",
       "998   other  U.K. MONEY MARKET SHORTAGE FORECAST REVISED DO...\n",
       "999   other  NATIONAL AMUSEMENTS AGAIN UPS VIACOM <VIA> BID...\n",
       "1000  blank  SANDOZ PLANS WEEDKILLER JOINT VENTURE IN USSR ..."
      ]
     },
     "execution_count": 178,
     "metadata": {},
     "output_type": "execute_result"
    }
   ],
   "source": [
    "df[990:1001]"
   ]
  },
  {
   "cell_type": "code",
   "execution_count": 18,
   "metadata": {
    "execution": {
     "iopub.execute_input": "2021-11-01T20:53:08.140213Z",
     "iopub.status.busy": "2021-11-01T20:53:08.133214Z",
     "iopub.status.idle": "2021-11-01T20:53:08.297219Z",
     "shell.execute_reply": "2021-11-01T20:53:08.296214Z",
     "shell.execute_reply.started": "2021-11-01T20:53:08.139213Z"
    }
   },
   "outputs": [
    {
     "data": {
      "text/plain": [
       "topic    blank\n",
       "text          \n",
       "Name: 14792, dtype: object"
      ]
     },
     "execution_count": 18,
     "metadata": {},
     "output_type": "execute_result"
    }
   ],
   "source": [
    "df.iloc[14792]"
   ]
  },
  {
   "cell_type": "markdown",
   "metadata": {},
   "source": [
    "### Checking to see if there are any null or blank strings"
   ]
  },
  {
   "cell_type": "code",
   "execution_count": 19,
   "metadata": {
    "execution": {
     "iopub.execute_input": "2021-11-01T20:54:49.388393Z",
     "iopub.status.busy": "2021-11-01T20:54:49.387391Z",
     "iopub.status.idle": "2021-11-01T20:54:49.695957Z",
     "shell.execute_reply": "2021-11-01T20:54:49.694960Z",
     "shell.execute_reply.started": "2021-11-01T20:54:49.388393Z"
    }
   },
   "outputs": [
    {
     "data": {
      "text/plain": [
       "(array([], dtype=int64), array([], dtype=int64))"
      ]
     },
     "execution_count": 19,
     "metadata": {},
     "output_type": "execute_result"
    }
   ],
   "source": [
    "np.where(pd.isnull(df))"
   ]
  },
  {
   "cell_type": "code",
   "execution_count": 21,
   "metadata": {
    "execution": {
     "iopub.execute_input": "2021-11-01T20:55:25.547094Z",
     "iopub.status.busy": "2021-11-01T20:55:25.546094Z",
     "iopub.status.idle": "2021-11-01T20:55:25.829095Z",
     "shell.execute_reply": "2021-11-01T20:55:25.827094Z",
     "shell.execute_reply.started": "2021-11-01T20:55:25.547094Z"
    }
   },
   "outputs": [
    {
     "data": {
      "text/plain": [
       "(array([14792], dtype=int64), array([1], dtype=int64))"
      ]
     },
     "execution_count": 21,
     "metadata": {},
     "output_type": "execute_result"
    }
   ],
   "source": [
    "np.where(df.applymap(lambda x: x == ''))"
   ]
  },
  {
   "cell_type": "code",
   "execution_count": 22,
   "metadata": {
    "execution": {
     "iopub.execute_input": "2021-11-01T20:57:19.989988Z",
     "iopub.status.busy": "2021-11-01T20:57:19.989988Z",
     "iopub.status.idle": "2021-11-01T20:57:20.010988Z",
     "shell.execute_reply": "2021-11-01T20:57:20.010023Z",
     "shell.execute_reply.started": "2021-11-01T20:57:19.989988Z"
    }
   },
   "outputs": [
    {
     "data": {
      "text/plain": [
       "topic    blank\n",
       "text          \n",
       "Name: 14792, dtype: object"
      ]
     },
     "execution_count": 22,
     "metadata": {},
     "output_type": "execute_result"
    }
   ],
   "source": [
    "df.iloc[14792]"
   ]
  },
  {
   "cell_type": "markdown",
   "metadata": {},
   "source": [
    "It seems row 14792 has empty string. Remove it, and double-check."
   ]
  },
  {
   "cell_type": "code",
   "execution_count": 23,
   "metadata": {
    "execution": {
     "iopub.execute_input": "2021-11-01T20:59:31.959600Z",
     "iopub.status.busy": "2021-11-01T20:59:31.957601Z",
     "iopub.status.idle": "2021-11-01T20:59:32.144603Z",
     "shell.execute_reply": "2021-11-01T20:59:32.143605Z",
     "shell.execute_reply.started": "2021-11-01T20:59:31.959600Z"
    }
   },
   "outputs": [
    {
     "data": {
      "text/plain": [
       "(array([], dtype=int64), array([], dtype=int64))"
      ]
     },
     "execution_count": 23,
     "metadata": {},
     "output_type": "execute_result"
    }
   ],
   "source": [
    "df = df.drop([14792])\n",
    "np.where(df.applymap(lambda x: x == ''))"
   ]
  },
  {
   "cell_type": "code",
   "execution_count": null,
   "metadata": {},
   "outputs": [],
   "source": [
    "Looks OK."
   ]
  },
  {
   "cell_type": "code",
   "execution_count": 24,
   "metadata": {
    "execution": {
     "iopub.execute_input": "2021-11-01T20:59:35.579653Z",
     "iopub.status.busy": "2021-11-01T20:59:35.578654Z",
     "iopub.status.idle": "2021-11-01T20:59:36.394646Z",
     "shell.execute_reply": "2021-11-01T20:59:36.393646Z",
     "shell.execute_reply.started": "2021-11-01T20:59:35.579653Z"
    }
   },
   "outputs": [],
   "source": [
    "df.to_csv('data_files/topics_and_text.csv', index=False)"
   ]
  },
  {
   "cell_type": "code",
   "execution_count": null,
   "metadata": {},
   "outputs": [],
   "source": []
  }
 ],
 "metadata": {
  "kernelspec": {
   "display_name": "Python 3",
   "language": "python",
   "name": "python3"
  },
  "language_info": {
   "codemirror_mode": {
    "name": "ipython",
    "version": 3
   },
   "file_extension": ".py",
   "mimetype": "text/x-python",
   "name": "python",
   "nbconvert_exporter": "python",
   "pygments_lexer": "ipython3",
   "version": "3.6.9"
  }
 },
 "nbformat": 4,
 "nbformat_minor": 4
}
