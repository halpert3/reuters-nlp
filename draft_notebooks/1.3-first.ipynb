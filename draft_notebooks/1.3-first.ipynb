{
 "cells": [
  {
   "cell_type": "code",
   "execution_count": 20,
   "metadata": {
    "execution": {
     "iopub.execute_input": "2021-10-30T01:40:53.594712Z",
     "iopub.status.busy": "2021-10-30T01:40:53.593709Z",
     "iopub.status.idle": "2021-10-30T01:40:53.606716Z",
     "shell.execute_reply": "2021-10-30T01:40:53.605710Z",
     "shell.execute_reply.started": "2021-10-30T01:40:53.594712Z"
    }
   },
   "outputs": [],
   "source": [
    "import pandas as pd\n",
    "import numpy as np\n",
    "from bs4 import BeautifulSoup\n",
    "import os"
   ]
  },
  {
   "cell_type": "code",
   "execution_count": 21,
   "metadata": {
    "execution": {
     "iopub.execute_input": "2021-10-30T01:40:53.608747Z",
     "iopub.status.busy": "2021-10-30T01:40:53.608747Z",
     "iopub.status.idle": "2021-10-30T01:40:53.622711Z",
     "shell.execute_reply": "2021-10-30T01:40:53.621710Z",
     "shell.execute_reply.started": "2021-10-30T01:40:53.608747Z"
    }
   },
   "outputs": [],
   "source": [
    "f = open('data_files/reut2-000.sgm', encoding='utf-8', errors='ignore')\n",
    "dataFile = f.read()"
   ]
  },
  {
   "cell_type": "code",
   "execution_count": 22,
   "metadata": {
    "execution": {
     "iopub.execute_input": "2021-10-30T01:40:53.625711Z",
     "iopub.status.busy": "2021-10-30T01:40:53.624712Z",
     "iopub.status.idle": "2021-10-30T01:40:54.562711Z",
     "shell.execute_reply": "2021-10-30T01:40:54.561708Z",
     "shell.execute_reply.started": "2021-10-30T01:40:53.625711Z"
    }
   },
   "outputs": [],
   "source": [
    "soup = BeautifulSoup(dataFile,'lxml')"
   ]
  },
  {
   "cell_type": "code",
   "execution_count": 23,
   "metadata": {
    "execution": {
     "iopub.execute_input": "2021-10-30T01:40:54.565715Z",
     "iopub.status.busy": "2021-10-30T01:40:54.565715Z",
     "iopub.status.idle": "2021-10-30T01:40:54.625714Z",
     "shell.execute_reply": "2021-10-30T01:40:54.624713Z",
     "shell.execute_reply.started": "2021-10-30T01:40:54.565715Z"
    }
   },
   "outputs": [],
   "source": [
    "all_text = soup.find_all(\"text\")"
   ]
  },
  {
   "cell_type": "code",
   "execution_count": 24,
   "metadata": {
    "execution": {
     "iopub.execute_input": "2021-10-30T01:40:54.628716Z",
     "iopub.status.busy": "2021-10-30T01:40:54.627714Z",
     "iopub.status.idle": "2021-10-30T01:40:54.658717Z",
     "shell.execute_reply": "2021-10-30T01:40:54.656713Z",
     "shell.execute_reply.started": "2021-10-30T01:40:54.627714Z"
    }
   },
   "outputs": [
    {
     "data": {
      "text/plain": [
       "1000"
      ]
     },
     "execution_count": 24,
     "metadata": {},
     "output_type": "execute_result"
    }
   ],
   "source": [
    "len(all_text)"
   ]
  },
  {
   "cell_type": "code",
   "execution_count": 25,
   "metadata": {
    "execution": {
     "iopub.execute_input": "2021-10-30T01:40:54.661711Z",
     "iopub.status.busy": "2021-10-30T01:40:54.660713Z",
     "iopub.status.idle": "2021-10-30T01:40:54.691714Z",
     "shell.execute_reply": "2021-10-30T01:40:54.688712Z",
     "shell.execute_reply.started": "2021-10-30T01:40:54.661711Z"
    }
   },
   "outputs": [
    {
     "data": {
      "text/plain": [
       "'    SALVADOR, Feb 26 - '"
      ]
     },
     "execution_count": 25,
     "metadata": {},
     "output_type": "execute_result"
    }
   ],
   "source": [
    "all_text[0].dateline.string"
   ]
  },
  {
   "cell_type": "code",
   "execution_count": 26,
   "metadata": {
    "execution": {
     "iopub.execute_input": "2021-10-30T01:40:54.698721Z",
     "iopub.status.busy": "2021-10-30T01:40:54.695715Z",
     "iopub.status.idle": "2021-10-30T01:40:54.722718Z",
     "shell.execute_reply": "2021-10-30T01:40:54.720714Z",
     "shell.execute_reply.started": "2021-10-30T01:40:54.697726Z"
    }
   },
   "outputs": [
    {
     "name": "stdout",
     "output_type": "stream",
     "text": [
      "\n",
      "BAHIA COCOA REVIEW\n",
      "    SALVADOR, Feb 26 - Showers continued throughout the week in\n",
      "the Bahia cocoa zone, alleviating the drought since early\n",
      "January and improving prospects for the coming temporao,\n",
      "although normal humidity levels have not been restored,\n",
      "Comissaria Smith said in its weekly review.\n",
      "    The dry period means the temporao will be late this year.\n",
      "    Arrivals for the week ended February 22 were 155,221 bags\n",
      "of 60 kilos making a cumulative total for the season of 5.93\n",
      "mln against 5.81 at the same stage last year. Again it seems\n",
      "that cocoa delivered earlier on consignment was included in the\n",
      "arrivals figures.\n",
      "    Comissaria Smith said there is still some doubt as to how\n",
      "much old crop cocoa is still available as harvesting has\n",
      "practically come to an end. With total Bahia crop estimates\n",
      "around 6.4 mln bags and sales standing at almost 6.2 mln there\n",
      "are a few hundred thousand bags still in the hands of farmers,\n",
      "middlemen, exporters and processors.\n",
      "    There are doubts as to how much of this cocoa would be fit\n",
      "for export as shippers are now experiencing dificulties in\n",
      "obtaining +Bahia superior+ certificates.\n",
      "    In view of the lower quality over recent weeks farmers have\n",
      "sold a good part of their cocoa held on consignment.\n",
      "    Comissaria Smith said spot bean prices rose to 340 to 350\n",
      "cruzados per arroba of 15 kilos.\n",
      "    Bean shippers were reluctant to offer nearby shipment and\n",
      "only limited sales were booked for March shipment at 1,750 to\n",
      "1,780 dlrs per tonne to ports to be named.\n",
      "    New crop sales were also light and all to open ports with\n",
      "June/July going at 1,850 and 1,880 dlrs and at 35 and 45 dlrs\n",
      "under New York july, Aug/Sept at 1,870, 1,875 and 1,880 dlrs\n",
      "per tonne FOB.\n",
      "    Routine sales of butter were made. March/April sold at\n",
      "4,340, 4,345 and 4,350 dlrs.\n",
      "    April/May butter went at 2.27 times New York May, June/July\n",
      "at 4,400 and 4,415 dlrs, Aug/Sept at 4,351 to 4,450 dlrs and at\n",
      "2.27 and 2.28 times New York Sept and Oct/Dec at 4,480 dlrs and\n",
      "2.27 times New York Dec, Comissaria Smith said.\n",
      "    Destinations were the U.S., Covertible currency areas,\n",
      "Uruguay and open ports.\n",
      "    Cake sales were registered at 785 to 995 dlrs for\n",
      "March/April, 785 dlrs for May, 753 dlrs for Aug and 0.39 times\n",
      "New York Dec for Oct/Dec.\n",
      "    Buyers were the U.S., Argentina, Uruguay and convertible\n",
      "currency areas.\n",
      "    Liquor sales were limited with March/April selling at 2,325\n",
      "and 2,380 dlrs, June/July at 2,375 dlrs and at 1.25 times New\n",
      "York July, Aug/Sept at 2,400 dlrs and at 1.25 times New York\n",
      "Sept and Oct/Dec at 1.25 times New York Dec, Comissaria Smith\n",
      "said.\n",
      "    Total Bahia sales are currently estimated at 6.13 mln bags\n",
      "against the 1986/87 crop and 1.06 mln bags against the 1987/88\n",
      "crop.\n",
      "    Final figures for the period to February 28 are expected to\n",
      "be published by the Brazilian Cocoa Trade Commission after\n",
      "carnival which ends midday on February 27.\n",
      " Reuter\n",
      "\n"
     ]
    }
   ],
   "source": [
    "print(all_text[0].get_text())"
   ]
  },
  {
   "cell_type": "code",
   "execution_count": 51,
   "metadata": {
    "execution": {
     "iopub.execute_input": "2021-10-30T01:48:01.002034Z",
     "iopub.status.busy": "2021-10-30T01:48:01.001070Z",
     "iopub.status.idle": "2021-10-30T01:48:01.007033Z",
     "shell.execute_reply": "2021-10-30T01:48:01.006033Z",
     "shell.execute_reply.started": "2021-10-30T01:48:01.001070Z"
    }
   },
   "outputs": [],
   "source": [
    "list_all_text = list()\n",
    "for text in all_text[0:5]:\n",
    "    # getting just the text from the element and stripping out the newline indicator\n",
    "    list_all_text.append(text.get_text().replace(\"\\n\", \" \"))"
   ]
  },
  {
   "cell_type": "code",
   "execution_count": 52,
   "metadata": {
    "execution": {
     "iopub.execute_input": "2021-10-30T01:48:01.852957Z",
     "iopub.status.busy": "2021-10-30T01:48:01.852957Z",
     "iopub.status.idle": "2021-10-30T01:48:01.867954Z",
     "shell.execute_reply": "2021-10-30T01:48:01.866956Z",
     "shell.execute_reply.started": "2021-10-30T01:48:01.852957Z"
    }
   },
   "outputs": [
    {
     "data": {
      "text/plain": [
       "[' BAHIA COCOA REVIEW     SALVADOR, Feb 26 - Showers continued throughout the week in the Bahia cocoa zone, alleviating the drought since early January and improving prospects for the coming temporao, although normal humidity levels have not been restored, Comissaria Smith said in its weekly review.     The dry period means the temporao will be late this year.     Arrivals for the week ended February 22 were 155,221 bags of 60 kilos making a cumulative total for the season of 5.93 mln against 5.81 at the same stage last year. Again it seems that cocoa delivered earlier on consignment was included in the arrivals figures.     Comissaria Smith said there is still some doubt as to how much old crop cocoa is still available as harvesting has practically come to an end. With total Bahia crop estimates around 6.4 mln bags and sales standing at almost 6.2 mln there are a few hundred thousand bags still in the hands of farmers, middlemen, exporters and processors.     There are doubts as to how much of this cocoa would be fit for export as shippers are now experiencing dificulties in obtaining +Bahia superior+ certificates.     In view of the lower quality over recent weeks farmers have sold a good part of their cocoa held on consignment.     Comissaria Smith said spot bean prices rose to 340 to 350 cruzados per arroba of 15 kilos.     Bean shippers were reluctant to offer nearby shipment and only limited sales were booked for March shipment at 1,750 to 1,780 dlrs per tonne to ports to be named.     New crop sales were also light and all to open ports with June/July going at 1,850 and 1,880 dlrs and at 35 and 45 dlrs under New York july, Aug/Sept at 1,870, 1,875 and 1,880 dlrs per tonne FOB.     Routine sales of butter were made. March/April sold at 4,340, 4,345 and 4,350 dlrs.     April/May butter went at 2.27 times New York May, June/July at 4,400 and 4,415 dlrs, Aug/Sept at 4,351 to 4,450 dlrs and at 2.27 and 2.28 times New York Sept and Oct/Dec at 4,480 dlrs and 2.27 times New York Dec, Comissaria Smith said.     Destinations were the U.S., Covertible currency areas, Uruguay and open ports.     Cake sales were registered at 785 to 995 dlrs for March/April, 785 dlrs for May, 753 dlrs for Aug and 0.39 times New York Dec for Oct/Dec.     Buyers were the U.S., Argentina, Uruguay and convertible currency areas.     Liquor sales were limited with March/April selling at 2,325 and 2,380 dlrs, June/July at 2,375 dlrs and at 1.25 times New York July, Aug/Sept at 2,400 dlrs and at 1.25 times New York Sept and Oct/Dec at 1.25 times New York Dec, Comissaria Smith said.     Total Bahia sales are currently estimated at 6.13 mln bags against the 1986/87 crop and 1.06 mln bags against the 1987/88 crop.     Final figures for the period to February 28 are expected to be published by the Brazilian Cocoa Trade Commission after carnival which ends midday on February 27.  Reuter ',\n",
       " ' STANDARD OIL <SRD> TO FORM FINANCIAL UNIT     CLEVELAND, Feb 26 - Standard Oil Co and BP North America Inc said they plan to form a venture to manage the money market borrowing and investment activities of both companies.     BP North America is a subsidiary of British Petroleum Co Plc <BP>, which also owns a 55 pct interest in Standard Oil.     The venture will be called BP/Standard Financial Trading and will be operated by Standard Oil under the oversight of a joint management committee.   Reuter ',\n",
       " \" TEXAS COMMERCE BANCSHARES <TCB> FILES PLAN     HOUSTON, Feb 26 - Texas Commerce Bancshares Inc's Texas Commerce Bank-Houston said it filed an application with the Comptroller of the Currency in an effort to create the largest banking network in Harris County.     The bank said the network would link 31 banks having 13.5 billion dlrs in assets and 7.5 billion dlrs in deposits.          Reuter \",\n",
       " ' TALKING POINT/BANKAMERICA <BAC> EQUITY OFFER     by Janie Gabbett, Reuters     LOS ANGELES, Feb 26 - BankAmerica Corp is not under pressure to act quickly on its proposed equity offering and would do well to delay it because of the stock\\'s recent poor performance, banking analysts said.     Some analysts said they have recommended BankAmerica delay its up to one-billion-dlr equity offering, which has yet to be approved by the Securities and Exchange Commission.     BankAmerica stock fell this week, along with other banking issues, on the news that Brazil has suspended interest payments on a large portion of its foreign debt.     The stock traded around 12, down 1/8, this afternoon, after falling to 11-1/2 earlier this week on the news.     Banking analysts said that with the immediate threat of the First Interstate Bancorp <I> takeover bid gone, BankAmerica is under no pressure to sell the securities into a market that will be nervous on bank stocks in the near term.     BankAmerica filed the offer on January 26. It was seen as one of the major factors leading the First Interstate withdrawing its takeover bid on February 9.     A BankAmerica spokesman said SEC approval is taking longer than expected and market conditions must now be re-evaluated.     \"The circumstances at the time will determine what we do,\" said Arthur Miller, BankAmerica\\'s Vice President for Financial Communications, when asked if BankAmerica would proceed with the offer immediately after it receives SEC approval.     \"I\\'d put it off as long as they conceivably could,\" said Lawrence Cohn, analyst with Merrill Lynch, Pierce, Fenner and Smith.     Cohn said the longer BankAmerica waits, the longer they have to show the market an improved financial outlook.     Although BankAmerica has yet to specify the types of equities it would offer, most analysts believed a convertible preferred stock would encompass at least part of it.     Such an offering at a depressed stock price would mean a lower conversion price and more dilution to BankAmerica stock holders, noted Daniel Williams, analyst with Sutro Group.     Several analysts said that while they believe the Brazilian debt problem will continue to hang over the banking industry through the quarter, the initial shock reaction is likely to ease over the coming weeks.     Nevertheless, BankAmerica, which holds about 2.70 billion dlrs in Brazilian loans, stands to lose 15-20 mln dlrs if the interest rate is reduced on the debt, and as much as 200 mln dlrs if Brazil pays no interest for a year, said Joseph Arsenio, analyst with Birr, Wilson and Co.     He noted, however, that any potential losses would not show up in the current quarter.     With other major banks standing to lose even more than BankAmerica if Brazil fails to service its debt, the analysts said they expect the debt will be restructured, similar to way Mexico\\'s debt was, minimizing losses to the creditor banks.  Reuter ',\n",
       " ' NATIONAL AVERAGE PRICES FOR FARMER-OWNED RESERVE     WASHINGTON, Feb 26 - The U.S. Agriculture Department reported the farmer-owned reserve national five-day average price through February 25 as follows (Dlrs/Bu-Sorghum Cwt) -          Natl   Loan           Release   Call          Avge   Rate-X  Level    Price  Price  Wheat   2.55   2.40       IV     4.65     --                             V     4.65     --                            VI     4.45     --  Corn    1.35   1.92       IV     3.15   3.15                             V     3.25     --  X - 1986 Rates.            Natl   Loan          Release   Call           Avge   Rate-X  Level   Price  Price  Oats     1.24   0.99        V    1.65    --   Barley   n.a.   1.56       IV    2.55   2.55                              V    2.65    --   Sorghum  2.34   3.25-Y     IV    5.36   5.36                              V    5.54    --      Reserves I, II and III have matured. Level IV reflects grain entered after Oct 6, 1981 for feedgrain and after July 23, 1981 for wheat. Level V wheat/barley after 5/14/82, corn/sorghum after 7/1/82. Level VI covers wheat entered after January 19, 1984.  X-1986 rates. Y-dlrs per CWT (100 lbs). n.a.-not available.  Reuter ']"
      ]
     },
     "execution_count": 52,
     "metadata": {},
     "output_type": "execute_result"
    }
   ],
   "source": [
    "list_all_text"
   ]
  },
  {
   "cell_type": "code",
   "execution_count": 53,
   "metadata": {
    "execution": {
     "iopub.execute_input": "2021-10-30T01:49:06.195294Z",
     "iopub.status.busy": "2021-10-30T01:49:06.195294Z",
     "iopub.status.idle": "2021-10-30T01:49:06.214294Z",
     "shell.execute_reply": "2021-10-30T01:49:06.213295Z",
     "shell.execute_reply.started": "2021-10-30T01:49:06.195294Z"
    }
   },
   "outputs": [],
   "source": [
    "df=pd.DataFrame(list_all_text, columns=['text'])"
   ]
  },
  {
   "cell_type": "code",
   "execution_count": 54,
   "metadata": {
    "execution": {
     "iopub.execute_input": "2021-10-30T01:49:06.676295Z",
     "iopub.status.busy": "2021-10-30T01:49:06.675293Z",
     "iopub.status.idle": "2021-10-30T01:49:06.691294Z",
     "shell.execute_reply": "2021-10-30T01:49:06.690297Z",
     "shell.execute_reply.started": "2021-10-30T01:49:06.676295Z"
    }
   },
   "outputs": [
    {
     "data": {
      "text/html": [
       "<div>\n",
       "<style scoped>\n",
       "    .dataframe tbody tr th:only-of-type {\n",
       "        vertical-align: middle;\n",
       "    }\n",
       "\n",
       "    .dataframe tbody tr th {\n",
       "        vertical-align: top;\n",
       "    }\n",
       "\n",
       "    .dataframe thead th {\n",
       "        text-align: right;\n",
       "    }\n",
       "</style>\n",
       "<table border=\"1\" class=\"dataframe\">\n",
       "  <thead>\n",
       "    <tr style=\"text-align: right;\">\n",
       "      <th></th>\n",
       "      <th>text</th>\n",
       "    </tr>\n",
       "  </thead>\n",
       "  <tbody>\n",
       "    <tr>\n",
       "      <th>0</th>\n",
       "      <td>BAHIA COCOA REVIEW     SALVADOR, Feb 26 - Sho...</td>\n",
       "    </tr>\n",
       "    <tr>\n",
       "      <th>1</th>\n",
       "      <td>STANDARD OIL &lt;SRD&gt; TO FORM FINANCIAL UNIT    ...</td>\n",
       "    </tr>\n",
       "    <tr>\n",
       "      <th>2</th>\n",
       "      <td>TEXAS COMMERCE BANCSHARES &lt;TCB&gt; FILES PLAN   ...</td>\n",
       "    </tr>\n",
       "    <tr>\n",
       "      <th>3</th>\n",
       "      <td>TALKING POINT/BANKAMERICA &lt;BAC&gt; EQUITY OFFER ...</td>\n",
       "    </tr>\n",
       "    <tr>\n",
       "      <th>4</th>\n",
       "      <td>NATIONAL AVERAGE PRICES FOR FARMER-OWNED RESE...</td>\n",
       "    </tr>\n",
       "  </tbody>\n",
       "</table>\n",
       "</div>"
      ],
      "text/plain": [
       "                                                text\n",
       "0   BAHIA COCOA REVIEW     SALVADOR, Feb 26 - Sho...\n",
       "1   STANDARD OIL <SRD> TO FORM FINANCIAL UNIT    ...\n",
       "2   TEXAS COMMERCE BANCSHARES <TCB> FILES PLAN   ...\n",
       "3   TALKING POINT/BANKAMERICA <BAC> EQUITY OFFER ...\n",
       "4   NATIONAL AVERAGE PRICES FOR FARMER-OWNED RESE..."
      ]
     },
     "execution_count": 54,
     "metadata": {},
     "output_type": "execute_result"
    }
   ],
   "source": [
    "df"
   ]
  },
  {
   "cell_type": "code",
   "execution_count": null,
   "metadata": {},
   "outputs": [],
   "source": []
  }
 ],
 "metadata": {
  "kernelspec": {
   "display_name": "Python 3",
   "language": "python",
   "name": "python3"
  },
  "language_info": {
   "codemirror_mode": {
    "name": "ipython",
    "version": 3
   },
   "file_extension": ".py",
   "mimetype": "text/x-python",
   "name": "python",
   "nbconvert_exporter": "python",
   "pygments_lexer": "ipython3",
   "version": "3.6.9"
  }
 },
 "nbformat": 4,
 "nbformat_minor": 4
}
