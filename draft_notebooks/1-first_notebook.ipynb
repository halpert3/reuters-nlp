{
 "cells": [
  {
   "cell_type": "code",
   "execution_count": 1,
   "metadata": {
    "execution": {
     "iopub.execute_input": "2021-10-28T19:50:49.410864Z",
     "iopub.status.busy": "2021-10-28T19:50:49.410864Z",
     "iopub.status.idle": "2021-10-28T19:50:52.924360Z",
     "shell.execute_reply": "2021-10-28T19:50:52.922354Z",
     "shell.execute_reply.started": "2021-10-28T19:50:49.410864Z"
    }
   },
   "outputs": [],
   "source": [
    "import pandas as pd\n",
    "import numpy as np\n",
    "from bs4 import BeautifulSoup\n",
    "import os"
   ]
  },
  {
   "cell_type": "code",
   "execution_count": 2,
   "metadata": {
    "execution": {
     "iopub.execute_input": "2021-10-28T19:50:52.927358Z",
     "iopub.status.busy": "2021-10-28T19:50:52.926371Z",
     "iopub.status.idle": "2021-10-28T19:50:52.972358Z",
     "shell.execute_reply": "2021-10-28T19:50:52.970359Z",
     "shell.execute_reply.started": "2021-10-28T19:50:52.927358Z"
    }
   },
   "outputs": [
    {
     "data": {
      "text/plain": [
       "array(['acq', 'alum', 'austdlr', 'austral', 'barley', 'bfr', 'bop', 'can',\n",
       "       'carcass', 'castor-meal', 'castor-oil', 'castorseed', 'citruspulp',\n",
       "       'cocoa', 'coconut', 'coconut-oil', 'coffee', 'copper',\n",
       "       'copra-cake', 'corn', 'corn-oil', 'cornglutenfeed', 'cotton',\n",
       "       'cotton-meal', 'cotton-oil', 'cottonseed', 'cpi', 'cpu', 'crude',\n",
       "       'cruzado', 'dfl', 'dkr', 'dlr', 'dmk', 'drachma', 'earn', 'escudo',\n",
       "       'f-cattle', 'ffr', 'fishmeal', 'flaxseed', 'fuel', 'gas', 'gnp',\n",
       "       'gold', 'grain', 'groundnut', 'groundnut-meal', 'groundnut-oil',\n",
       "       'heat', 'hk', 'hog', 'housing', 'income', 'instal-debt',\n",
       "       'interest', 'inventories', 'ipi', 'iron-steel', 'jet', 'jobs',\n",
       "       'l-cattle', 'lead', 'lei', 'lin-meal', 'lin-oil', 'linseed', 'lit',\n",
       "       'livestock', 'lumber', 'lupin', 'meal-feed', 'mexpeso', 'money-fx',\n",
       "       'money-supply', 'naphtha', 'nat-gas', 'nickel', 'nkr', 'nzdlr',\n",
       "       'oat', 'oilseed', 'orange', 'palladium', 'palm-meal', 'palm-oil',\n",
       "       'palmkernel', 'peseta', 'pet-chem', 'platinum', 'plywood',\n",
       "       'pork-belly', 'potato', 'propane', 'rand', 'rape-meal', 'rape-oil',\n",
       "       'rapeseed', 'red-bean', 'reserves', 'retail', 'rice', 'ringgit',\n",
       "       'rubber', 'rupiah', 'rye', 'saudriyal', 'sfr', 'ship', 'silk',\n",
       "       'silver', 'singdlr', 'skr', 'sorghum', 'soy-meal', 'soy-oil',\n",
       "       'soybean', 'stg', 'strategic-metal', 'sugar', 'sun-meal',\n",
       "       'sun-oil', 'sunseed', 'tapioca', 'tea', 'tin', 'trade', 'tung',\n",
       "       'tung-oil', 'veg-oil', 'wheat', 'wool', 'wpi', 'yen', 'zinc'],\n",
       "      dtype='<U15')"
      ]
     },
     "execution_count": 2,
     "metadata": {},
     "output_type": "execute_result"
    }
   ],
   "source": [
    "topics = np.genfromtxt(\"data_files/all-topics-strings.lc.txt\", \n",
    "                      delimiter='\\n', dtype=None, encoding=None)\n",
    "topics"
   ]
  },
  {
   "cell_type": "code",
   "execution_count": 3,
   "metadata": {
    "execution": {
     "iopub.execute_input": "2021-10-28T19:50:52.979359Z",
     "iopub.status.busy": "2021-10-28T19:50:52.977381Z",
     "iopub.status.idle": "2021-10-28T19:50:53.004357Z",
     "shell.execute_reply": "2021-10-28T19:50:53.002359Z",
     "shell.execute_reply.started": "2021-10-28T19:50:52.979359Z"
    }
   },
   "outputs": [
    {
     "data": {
      "text/plain": [
       "array(['amex', 'ase', 'asx', 'biffex', 'bse', 'cboe', 'cbt', 'cme',\n",
       "       'comex', 'cse', 'fox', 'fse', 'hkse', 'ipe', 'jse', 'klce', 'klse',\n",
       "       'liffe', 'lme', 'lse', 'mase', 'mise', 'mnse', 'mose', 'nasdaq',\n",
       "       'nyce', 'nycsce', 'nymex', 'nyse', 'ose', 'pse', 'set', 'simex',\n",
       "       'sse', 'stse', 'tose', 'tse', 'wce', 'zse'], dtype='<U6')"
      ]
     },
     "execution_count": 3,
     "metadata": {},
     "output_type": "execute_result"
    }
   ],
   "source": [
    "exchanges = np.genfromtxt(\"data_files/all-exchanges-strings.lc.txt\", \n",
    "                          delimiter='\\n', \n",
    "                          dtype=None, \n",
    "                          encoding=None)\n",
    "exchanges"
   ]
  },
  {
   "cell_type": "code",
   "execution_count": 4,
   "metadata": {
    "execution": {
     "iopub.execute_input": "2021-10-28T19:50:53.008365Z",
     "iopub.status.busy": "2021-10-28T19:50:53.007359Z",
     "iopub.status.idle": "2021-10-28T19:50:53.035357Z",
     "shell.execute_reply": "2021-10-28T19:50:53.034358Z",
     "shell.execute_reply.started": "2021-10-28T19:50:53.008365Z"
    }
   },
   "outputs": [
    {
     "data": {
      "text/plain": [
       "array(['adb-africa', 'adb-asia', 'aibd', 'aid', 'anrpc', 'asean', 'atpc',\n",
       "       'bis', 'cipec', 'comecon', 'ec', 'eca', 'ecafe', 'ece', 'ecla',\n",
       "       'ecsc', 'ecwa', 'efta', 'eib', 'emcf', 'escap', 'euratom', 'fao',\n",
       "       'gatt', 'gcc', 'geplacea', 'iaea', 'iata', 'icco', 'ico-coffee',\n",
       "       'ico-islam', 'ida', 'iea', 'iisi', 'ilo', 'ilzsg', 'imco', 'imf',\n",
       "       'inro', 'irsg', 'isa', 'itc', 'iwc-whale', 'iwc-wheat', 'iwcc',\n",
       "       'iws', 'iwto', 'lafta', 'mfa', 'oapec', 'oecd', 'opec', 'un',\n",
       "       'unctad', 'who', 'worldbank'], dtype='<U10')"
      ]
     },
     "execution_count": 4,
     "metadata": {},
     "output_type": "execute_result"
    }
   ],
   "source": [
    "orgs = np.genfromtxt(\"data_files/all-orgs-strings.lc.txt\", \n",
    "                     delimiter='\\n', \n",
    "                     dtype=None, \n",
    "                     encoding=None)\n",
    "orgs"
   ]
  },
  {
   "cell_type": "code",
   "execution_count": 5,
   "metadata": {
    "execution": {
     "iopub.execute_input": "2021-10-28T19:50:53.038359Z",
     "iopub.status.busy": "2021-10-28T19:50:53.037359Z",
     "iopub.status.idle": "2021-10-28T19:50:53.084362Z",
     "shell.execute_reply": "2021-10-28T19:50:53.082357Z",
     "shell.execute_reply.started": "2021-10-28T19:50:53.038359Z"
    }
   },
   "outputs": [
    {
     "data": {
      "text/plain": [
       "array(['abdel-hadi-kandeel', 'alfonsin', 'alhaji-abdul-ahmed',\n",
       "       'alptemocin', 'amato', 'andersen', 'andriessen', 'aqazadeh',\n",
       "       'aquino', 'arafat', 'babangida', 'balladur', 'bangemann',\n",
       "       'barreto', 'berge', 'beteta', 'blix', 'boesky', 'bond', 'botha',\n",
       "       'bouey', 'braks', 'bresser-pereira', 'brodersohn', 'brundtland',\n",
       "       'camdessus', 'carlsson', 'caro', 'castelo-branco', 'castro',\n",
       "       'cavaco-silva', 'chaves', 'chen-muhua', 'chiang-ching-kuo',\n",
       "       'chien', 'chirac', 'ciampi', 'colombo', 'conable', 'concepcion',\n",
       "       'corrigan', 'cossiga', 'crow', 'dadzie', 'dauster', 'de-clercq',\n",
       "       'de-kock', 'de-korte', 'de-la-madrid', 'de-larosiere', 'del-mazo',\n",
       "       'delamuraz', 'delors', 'dementsev', 'deng-xiaoping', 'dennis',\n",
       "       'dhillon', 'dominguez', 'douglas', 'du-plessis', 'duisenberg',\n",
       "       'dunkel', 'edelman', 'enggaard', 'eser', 'evren', 'eyskens',\n",
       "       'feldt', 'fernandez', 'ferrari', 'finnbogadottir', 'friedman',\n",
       "       'fujioka', 'gaddafi', 'gandhi', 'garcia', 'gava', 'godeaux',\n",
       "       'gonzalez', 'gorbachev', 'goria', 'gostyev', 'graf', 'greenspan',\n",
       "       'gromyko', 'grosz', 'guillaume', 'halikias',\n",
       "       'hamad-saud-al-sayyari', 'hannibalsson', 'haughey', 'hawke',\n",
       "       'he-kang', 'herrington', 'hillery', 'hisham-nazer', 'hoefner',\n",
       "       'hoffmeyer', 'holberg', 'holkeri', 'honecker', 'hovmand',\n",
       "       'howard-baker', 'husak', 'icahn', 'james-baker', 'james-miller',\n",
       "       'jaruzelski', 'jayme', 'johnston', 'kaminsky', 'kaufman',\n",
       "       'keating', 'khameini', 'khomeini', 'kiechle', 'king-fahd', 'kohl',\n",
       "       'koivisto', 'kondo', 'koren', 'kullberg', 'lacina', 'lange',\n",
       "       'languetin', 'lawson', 'lee-ta-hai', 'lee-teng-hui', 'leenanon',\n",
       "       'leigh-pemberton', 'leitz', 'li-peng', 'li-xiannian', 'liikanen',\n",
       "       'lubbers', 'lukman', 'lyng', 'machinea', 'macsharry', 'malhotra',\n",
       "       'mancera-aguayo', 'martens', 'martin', 'masse', 'maxwell',\n",
       "       'maystadt', 'medgyessy', 'messner', 'mikulic', 'milliet',\n",
       "       'mitterrand', 'miyazawa', 'mohammad-ibrahim-jaffrey-baluch',\n",
       "       'mohammad-khan-junejo', 'mohammad-yasin-khan-wattoo',\n",
       "       'mohammed-ahmed-al-razaz', 'mohammed-ali-abal-khail',\n",
       "       'mohammed-salaheddin-hamid', 'morales-bermudez', 'mousavi',\n",
       "       'moyle', 'mubarak', 'mulroney', 'murdoch', 'mustapha', 'nakao',\n",
       "       'nakasone', 'nasko', 'nemeth', 'nobrega', 'o-cofaigh', 'o-kennedy',\n",
       "       'oeien', 'okongwu', 'ongpin', 'ortega', 'ozal', 'palsson',\n",
       "       'pandolfi', 'papandreou', 'parkinson', 'paye', 'perez-de-cuellar',\n",
       "       'petricioli', 'pickens', 'poehl', 'pottakis', 'prawiro', 'qassemi',\n",
       "       'rafnar', 'rafsanjani', 'reagan', 'rezende', 'riberio-cadilhe',\n",
       "       'rich', 'rikanovic', 'rojas', 'romero', 'roumeliotis', 'rowland',\n",
       "       'rubio', 'ruder', 'ruding', 'russell', 'ryzhkov', 'saberbein',\n",
       "       'salinas', 'samojlik', 'santer', 'saracoglu', 'sarney',\n",
       "       'sartzetakis', 'sathe', 'schlueter', 'sedki', 'simitis',\n",
       "       'simonsen', 'singhasaneh', 'siregar', 'skaanland', 'soares',\n",
       "       'solchaga', 'sourrouille', 'sprinkel', 'steeg', 'stich',\n",
       "       'stoltenberg', 'stoph', 'strougal', 'subroto', 'suharto', 'sumita',\n",
       "       'suominen', 'takeshita', 'tamura', 'tavares-moreia', 'thatcher',\n",
       "       'timar', 'tinsulanonda', 'tiwari', 'toernaes', 'toman', 'tsovolas',\n",
       "       'vancsa', 'venkataraman', 'vera-la-rosa', 'verity', 'villanyi',\n",
       "       'vlatkovic', 'volcker', 'von-weizsaecker', 'vranitzky', 'waldheim',\n",
       "       'wali', 'walsh', 'wang-bingqian', 'wardhana', 'wasim-aun-jaffrey',\n",
       "       'wilson', 'wise', 'yeutter', 'young', 'yu-kuo-hua', 'zak',\n",
       "       'zhao-ziyang', 'zheng-tuobin', 'zia-ul-haq'], dtype='<U31')"
      ]
     },
     "execution_count": 5,
     "metadata": {},
     "output_type": "execute_result"
    }
   ],
   "source": [
    "people = np.genfromtxt(\"data_files/all-people-strings.lc.txt\", \n",
    "                     delimiter='\\n', \n",
    "                     dtype=None, \n",
    "                     encoding=None)\n",
    "people"
   ]
  },
  {
   "cell_type": "code",
   "execution_count": 6,
   "metadata": {
    "execution": {
     "iopub.execute_input": "2021-10-28T19:50:53.087361Z",
     "iopub.status.busy": "2021-10-28T19:50:53.086358Z",
     "iopub.status.idle": "2021-10-28T19:50:53.116356Z",
     "shell.execute_reply": "2021-10-28T19:50:53.114357Z",
     "shell.execute_reply.started": "2021-10-28T19:50:53.087361Z"
    }
   },
   "outputs": [
    {
     "data": {
      "text/plain": [
       "array(['afghanistan', 'albania', 'algeria', 'american-samoa', 'andorra',\n",
       "       'angola', 'anguilla', 'antigua', 'argentina', 'aruba', 'australia',\n",
       "       'austria', 'bahamas', 'bahrain', 'bangladesh', 'barbados',\n",
       "       'belgium', 'belize', 'benin', 'bermuda', 'bhutan', 'bolivia',\n",
       "       'botswana', 'brazil', 'british-virgin-islands', 'brunei',\n",
       "       'bulgaria', 'burkina-faso', 'burma', 'burundi', 'cameroon',\n",
       "       'canada', 'cape-verde', 'cayman-islands',\n",
       "       'central-african-republic', 'chad', 'chile', 'china', 'colombia',\n",
       "       'congo', 'costa-rica', 'cuba', 'cyprus', 'czechoslovakia',\n",
       "       'denmark', 'djibouti', 'dominica', 'dominican-republic',\n",
       "       'east-germany', 'ecuador', 'egypt', 'el-salvador',\n",
       "       'equatorial-guinea', 'ethiopia', 'fiji', 'finland', 'france',\n",
       "       'french-guiana', 'gabon', 'gambia', 'ghana', 'gibraltar', 'greece',\n",
       "       'grenada', 'guadeloupe', 'guam', 'guatemala', 'guinea',\n",
       "       'guinea-bissau', 'guyana', 'haiti', 'honduras', 'hong-kong',\n",
       "       'hungary', 'iceland', 'india', 'indonesia', 'iran', 'iraq',\n",
       "       'ireland', 'israel', 'italy', 'ivory-coast', 'jamaica', 'japan',\n",
       "       'jordan', 'kampuchea', 'kenya', 'kuwait', 'laos', 'lebanon',\n",
       "       'lesotho', 'liberia', 'libya', 'liechtenstein', 'luxembourg',\n",
       "       'macao', 'madagascar', 'malawi', 'malaysia', 'mali', 'malta',\n",
       "       'martinique', 'mauritania', 'mauritius', 'mexico', 'monaco',\n",
       "       'morocco', 'mozambique', 'namibia', 'nepal', 'netherlands',\n",
       "       'netherlands-antilles', 'new-caledonia', 'new-zealand',\n",
       "       'nicaragua', 'niger', 'nigeria', 'north-korea', 'norway', 'oman',\n",
       "       'pakistan', 'panama', 'papua-new-guinea', 'paraguay', 'peru',\n",
       "       'philippines', 'poland', 'portugal', 'qatar', 'romania', 'rwanda',\n",
       "       'saudi-arabia', 'senegal', 'seychelles', 'sierra-leone',\n",
       "       'singapore', 'somalia', 'south-africa', 'south-korea', 'spain',\n",
       "       'sri-lanka', 'sudan', 'suriname', 'swaziland', 'sweden',\n",
       "       'switzerland', 'syria', 'taiwan', 'tanzania', 'thailand', 'togo',\n",
       "       'tonga', 'trinidad-tobago', 'tunisia', 'turkey', 'uae', 'uganda',\n",
       "       'uk', 'uruguay', 'us-virgin-islands', 'usa', 'ussr', 'vanuatu',\n",
       "       'vatican', 'venezuela', 'vietnam', 'west-germany', 'western-samoa',\n",
       "       'yemen-arab-republic', 'yemen-demo-republic', 'yugoslavia',\n",
       "       'zaire', 'zambia', 'zimbabwe'], dtype='<U24')"
      ]
     },
     "execution_count": 6,
     "metadata": {},
     "output_type": "execute_result"
    }
   ],
   "source": [
    "places = np.genfromtxt(\"data_files/all-places-strings.lc.txt\", \n",
    "                     delimiter='\\n', \n",
    "                     dtype=None, \n",
    "                     encoding=None)\n",
    "places"
   ]
  },
  {
   "cell_type": "code",
   "execution_count": 7,
   "metadata": {
    "execution": {
     "iopub.execute_input": "2021-10-28T19:50:53.119359Z",
     "iopub.status.busy": "2021-10-28T19:50:53.118359Z",
     "iopub.status.idle": "2021-10-28T19:50:53.164359Z",
     "shell.execute_reply": "2021-10-28T19:50:53.162359Z",
     "shell.execute_reply.started": "2021-10-28T19:50:53.119359Z"
    }
   },
   "outputs": [],
   "source": [
    "categories = np.genfromtxt(\"data_files/cat-descriptions_120396.txt\", \n",
    "                     delimiter='\\n', \n",
    "                     dtype=None, \n",
    "                     encoding=None)\n",
    "# categories"
   ]
  },
  {
   "cell_type": "code",
   "execution_count": 8,
   "metadata": {
    "execution": {
     "iopub.execute_input": "2021-10-28T19:50:53.171360Z",
     "iopub.status.busy": "2021-10-28T19:50:53.170358Z",
     "iopub.status.idle": "2021-10-28T19:51:22.022358Z",
     "shell.execute_reply": "2021-10-28T19:51:22.021359Z",
     "shell.execute_reply.started": "2021-10-28T19:50:53.171360Z"
    }
   },
   "outputs": [
    {
     "name": "stdout",
     "output_type": "stream",
     "text": [
      "We have 18583 documents\n"
     ]
    }
   ],
   "source": [
    "# adapted from \n",
    "# https://medium.com/@namanjain2050/finding-similar-documents-reuters-dataset-example-part-4-eb0462e1ab2b\n",
    "\n",
    "\n",
    "documents = []\n",
    "for file in os.listdir(\"data_files/\"):\n",
    "    \n",
    "    if file.endswith(\".sgm\"):\n",
    "        \n",
    "        # for each sgm file, read it\n",
    "        filename = os.path.join(\"data_files\", file)\n",
    "        f = open(filename, 'r', encoding='utf-8', errors='ignore')\n",
    "        dataFile = f.read()\n",
    " \n",
    "        # pass it to BeautifulSoup\n",
    "        soup = BeautifulSoup(dataFile, 'html.parser')\n",
    "        contents = soup.findAll('body')\n",
    "        \n",
    "        # for each body tag, extract it's text\n",
    "        for content in contents:\n",
    "            documents.append(content.text)\n",
    "print('We have {} documents'.format(len(documents)))\n",
    "# print(documents[0])"
   ]
  },
  {
   "cell_type": "code",
   "execution_count": 9,
   "metadata": {
    "execution": {
     "iopub.execute_input": "2021-10-28T19:51:22.026357Z",
     "iopub.status.busy": "2021-10-28T19:51:22.025358Z",
     "iopub.status.idle": "2021-10-28T19:51:22.038366Z",
     "shell.execute_reply": "2021-10-28T19:51:22.036358Z",
     "shell.execute_reply.started": "2021-10-28T19:51:22.026357Z"
    }
   },
   "outputs": [
    {
     "data": {
      "text/plain": [
       "'Showers continued throughout the week in\\nthe Bahia cocoa zone, alleviating the drought since early\\nJanuary and improving prospects for the coming temporao,\\nalthough normal humidity levels have not been restored,\\nComissaria Smith said in its weekly review.\\n    The dry period means the temporao will be late this year.\\n    Arrivals for the week ended February 22 were 155,221 bags\\nof 60 kilos making a cumulative total for the season of 5.93\\nmln against 5.81 at the same stage last year. Again it seems\\nthat cocoa delivered earlier on consignment was included in the\\narrivals figures.\\n    Comissaria Smith said there is still some doubt as to how\\nmuch old crop cocoa is still available as harvesting has\\npractically come to an end. With total Bahia crop estimates\\naround 6.4 mln bags and sales standing at almost 6.2 mln there\\nare a few hundred thousand bags still in the hands of farmers,\\nmiddlemen, exporters and processors.\\n    There are doubts as to how much of this cocoa would be fit\\nfor export as shippers are now experiencing dificulties in\\nobtaining +Bahia superior+ certificates.\\n    In view of the lower quality over recent weeks farmers have\\nsold a good part of their cocoa held on consignment.\\n    Comissaria Smith said spot bean prices rose to 340 to 350\\ncruzados per arroba of 15 kilos.\\n    Bean shippers were reluctant to offer nearby shipment and\\nonly limited sales were booked for March shipment at 1,750 to\\n1,780 dlrs per tonne to ports to be named.\\n    New crop sales were also light and all to open ports with\\nJune/July going at 1,850 and 1,880 dlrs and at 35 and 45 dlrs\\nunder New York july, Aug/Sept at 1,870, 1,875 and 1,880 dlrs\\nper tonne FOB.\\n    Routine sales of butter were made. March/April sold at\\n4,340, 4,345 and 4,350 dlrs.\\n    April/May butter went at 2.27 times New York May, June/July\\nat 4,400 and 4,415 dlrs, Aug/Sept at 4,351 to 4,450 dlrs and at\\n2.27 and 2.28 times New York Sept and Oct/Dec at 4,480 dlrs and\\n2.27 times New York Dec, Comissaria Smith said.\\n    Destinations were the U.S., Covertible currency areas,\\nUruguay and open ports.\\n    Cake sales were registered at 785 to 995 dlrs for\\nMarch/April, 785 dlrs for May, 753 dlrs for Aug and 0.39 times\\nNew York Dec for Oct/Dec.\\n    Buyers were the U.S., Argentina, Uruguay and convertible\\ncurrency areas.\\n    Liquor sales were limited with March/April selling at 2,325\\nand 2,380 dlrs, June/July at 2,375 dlrs and at 1.25 times New\\nYork July, Aug/Sept at 2,400 dlrs and at 1.25 times New York\\nSept and Oct/Dec at 1.25 times New York Dec, Comissaria Smith\\nsaid.\\n    Total Bahia sales are currently estimated at 6.13 mln bags\\nagainst the 1986/87 crop and 1.06 mln bags against the 1987/88\\ncrop.\\n    Final figures for the period to February 28 are expected to\\nbe published by the Brazilian Cocoa Trade Commission after\\ncarnival which ends midday on February 27.\\n Reuter\\n\\x03'"
      ]
     },
     "execution_count": 9,
     "metadata": {},
     "output_type": "execute_result"
    }
   ],
   "source": [
    "documents[0]"
   ]
  },
  {
   "cell_type": "markdown",
   "metadata": {},
   "source": [
    "It seems the code above just does the body. Let me do it getting more meta data."
   ]
  },
  {
   "cell_type": "code",
   "execution_count": 10,
   "metadata": {
    "execution": {
     "iopub.execute_input": "2021-10-28T19:51:22.041361Z",
     "iopub.status.busy": "2021-10-28T19:51:22.040361Z",
     "iopub.status.idle": "2021-10-28T19:51:22.055360Z",
     "shell.execute_reply": "2021-10-28T19:51:22.053360Z",
     "shell.execute_reply.started": "2021-10-28T19:51:22.041361Z"
    }
   },
   "outputs": [],
   "source": [
    "# documents = []\n",
    "# for file in os.listdir(\"data_files/\"):\n",
    "    \n",
    "#     if file.endswith(\".sgm\"):\n",
    "        \n",
    "#         # for each sgm file, read it\n",
    "#         filename = os.path.join(\"data_files\", file)\n",
    "#         f = open(filename, 'r', encoding='utf-8', errors='ignore')\n",
    "#         dataFile = f.read()\n",
    " \n",
    "#         # pass it to BeautifulSoup\n",
    "#         soup = BeautifulSoup(dataFile, 'html.parser')\n",
    "#         contents = soup.findAll('body')\n",
    "        \n",
    "#         # for each body tag, extract it's text\n",
    "#         for content in contents:\n",
    "#             documents.append(content.text)\n",
    "# print('We have {} documents'.format(len(documents)))\n",
    "# # print(documents[0])"
   ]
  },
  {
   "cell_type": "code",
   "execution_count": 11,
   "metadata": {
    "execution": {
     "iopub.execute_input": "2021-10-28T19:51:22.060360Z",
     "iopub.status.busy": "2021-10-28T19:51:22.059361Z",
     "iopub.status.idle": "2021-10-28T19:51:22.086366Z",
     "shell.execute_reply": "2021-10-28T19:51:22.084359Z",
     "shell.execute_reply.started": "2021-10-28T19:51:22.060360Z"
    }
   },
   "outputs": [],
   "source": [
    "f = open('data_files/reut2-000.sgm', encoding='utf-8', errors='ignore')\n",
    "dataFile = f.read()"
   ]
  },
  {
   "cell_type": "code",
   "execution_count": 12,
   "metadata": {
    "execution": {
     "iopub.execute_input": "2021-10-28T19:51:22.091360Z",
     "iopub.status.busy": "2021-10-28T19:51:22.089359Z",
     "iopub.status.idle": "2021-10-28T19:51:22.119361Z",
     "shell.execute_reply": "2021-10-28T19:51:22.116357Z",
     "shell.execute_reply.started": "2021-10-28T19:51:22.091360Z"
    }
   },
   "outputs": [],
   "source": [
    "# dataFile"
   ]
  },
  {
   "cell_type": "markdown",
   "metadata": {},
   "source": [
    "The above gives you a lot of text crammed together. Need to figure out how to parse it."
   ]
  },
  {
   "cell_type": "code",
   "execution_count": 13,
   "metadata": {
    "execution": {
     "iopub.execute_input": "2021-10-28T19:51:22.124358Z",
     "iopub.status.busy": "2021-10-28T19:51:22.123369Z",
     "iopub.status.idle": "2021-10-28T19:51:24.730357Z",
     "shell.execute_reply": "2021-10-28T19:51:24.728357Z",
     "shell.execute_reply.started": "2021-10-28T19:51:22.124358Z"
    }
   },
   "outputs": [],
   "source": [
    "soup = BeautifulSoup(dataFile, 'html.parser')\n",
    "# print(soup.prettify())\n",
    "content = soup.findAll('reuters')\n",
    "# df = pd.read_html(soup.text)"
   ]
  },
  {
   "cell_type": "code",
   "execution_count": 14,
   "metadata": {
    "execution": {
     "iopub.execute_input": "2021-10-28T19:51:24.733357Z",
     "iopub.status.busy": "2021-10-28T19:51:24.733357Z",
     "iopub.status.idle": "2021-10-28T19:51:24.745357Z",
     "shell.execute_reply": "2021-10-28T19:51:24.743358Z",
     "shell.execute_reply.started": "2021-10-28T19:51:24.733357Z"
    }
   },
   "outputs": [
    {
     "data": {
      "text/plain": [
       "bs4.BeautifulSoup"
      ]
     },
     "execution_count": 14,
     "metadata": {},
     "output_type": "execute_result"
    }
   ],
   "source": [
    "type(soup)"
   ]
  },
  {
   "cell_type": "code",
   "execution_count": 15,
   "metadata": {
    "execution": {
     "iopub.execute_input": "2021-10-28T19:51:24.748357Z",
     "iopub.status.busy": "2021-10-28T19:51:24.747357Z",
     "iopub.status.idle": "2021-10-28T19:51:24.764355Z",
     "shell.execute_reply": "2021-10-28T19:51:24.759356Z",
     "shell.execute_reply.started": "2021-10-28T19:51:24.748357Z"
    }
   },
   "outputs": [
    {
     "data": {
      "text/plain": [
       "bs4.element.ResultSet"
      ]
     },
     "execution_count": 15,
     "metadata": {},
     "output_type": "execute_result"
    }
   ],
   "source": [
    "type(content)"
   ]
  },
  {
   "cell_type": "code",
   "execution_count": 16,
   "metadata": {
    "execution": {
     "iopub.execute_input": "2021-10-28T19:51:24.768358Z",
     "iopub.status.busy": "2021-10-28T19:51:24.767359Z",
     "iopub.status.idle": "2021-10-28T19:51:24.793360Z",
     "shell.execute_reply": "2021-10-28T19:51:24.791355Z",
     "shell.execute_reply.started": "2021-10-28T19:51:24.767359Z"
    }
   },
   "outputs": [],
   "source": [
    "contentList = [i for i in content]"
   ]
  },
  {
   "cell_type": "code",
   "execution_count": 17,
   "metadata": {
    "execution": {
     "iopub.execute_input": "2021-10-28T19:51:24.796358Z",
     "iopub.status.busy": "2021-10-28T19:51:24.795357Z",
     "iopub.status.idle": "2021-10-28T19:51:24.825358Z",
     "shell.execute_reply": "2021-10-28T19:51:24.823361Z",
     "shell.execute_reply.started": "2021-10-28T19:51:24.796358Z"
    }
   },
   "outputs": [
    {
     "data": {
      "text/plain": [
       "<reuters cgisplit=\"TRAINING-SET\" lewissplit=\"TRAIN\" newid=\"1\" oldid=\"5544\" topics=\"YES\">\n",
       "<date>26-FEB-1987 15:01:01.79</date>\n",
       "<topics><d>cocoa</d></topics>\n",
       "<places><d>el-salvador</d><d>usa</d><d>uruguay</d></places>\n",
       "<people></people>\n",
       "<orgs></orgs>\n",
       "<exchanges></exchanges>\n",
       "<companies></companies>\n",
       "<unknown> \n",
       "\u0005\u0005\u0005C T\n",
       "\u0016\u0016\u0001f0704\u001freute\n",
       "u f BC-BAHIA-COCOA-REVIEW   02-26 0105</unknown>\n",
       "<text>\u0002\n",
       "<title>BAHIA COCOA REVIEW</title>\n",
       "<dateline>    SALVADOR, Feb 26 - </dateline><body>Showers continued throughout the week in\n",
       "the Bahia cocoa zone, alleviating the drought since early\n",
       "January and improving prospects for the coming temporao,\n",
       "although normal humidity levels have not been restored,\n",
       "Comissaria Smith said in its weekly review.\n",
       "    The dry period means the temporao will be late this year.\n",
       "    Arrivals for the week ended February 22 were 155,221 bags\n",
       "of 60 kilos making a cumulative total for the season of 5.93\n",
       "mln against 5.81 at the same stage last year. Again it seems\n",
       "that cocoa delivered earlier on consignment was included in the\n",
       "arrivals figures.\n",
       "    Comissaria Smith said there is still some doubt as to how\n",
       "much old crop cocoa is still available as harvesting has\n",
       "practically come to an end. With total Bahia crop estimates\n",
       "around 6.4 mln bags and sales standing at almost 6.2 mln there\n",
       "are a few hundred thousand bags still in the hands of farmers,\n",
       "middlemen, exporters and processors.\n",
       "    There are doubts as to how much of this cocoa would be fit\n",
       "for export as shippers are now experiencing dificulties in\n",
       "obtaining +Bahia superior+ certificates.\n",
       "    In view of the lower quality over recent weeks farmers have\n",
       "sold a good part of their cocoa held on consignment.\n",
       "    Comissaria Smith said spot bean prices rose to 340 to 350\n",
       "cruzados per arroba of 15 kilos.\n",
       "    Bean shippers were reluctant to offer nearby shipment and\n",
       "only limited sales were booked for March shipment at 1,750 to\n",
       "1,780 dlrs per tonne to ports to be named.\n",
       "    New crop sales were also light and all to open ports with\n",
       "June/July going at 1,850 and 1,880 dlrs and at 35 and 45 dlrs\n",
       "under New York july, Aug/Sept at 1,870, 1,875 and 1,880 dlrs\n",
       "per tonne FOB.\n",
       "    Routine sales of butter were made. March/April sold at\n",
       "4,340, 4,345 and 4,350 dlrs.\n",
       "    April/May butter went at 2.27 times New York May, June/July\n",
       "at 4,400 and 4,415 dlrs, Aug/Sept at 4,351 to 4,450 dlrs and at\n",
       "2.27 and 2.28 times New York Sept and Oct/Dec at 4,480 dlrs and\n",
       "2.27 times New York Dec, Comissaria Smith said.\n",
       "    Destinations were the U.S., Covertible currency areas,\n",
       "Uruguay and open ports.\n",
       "    Cake sales were registered at 785 to 995 dlrs for\n",
       "March/April, 785 dlrs for May, 753 dlrs for Aug and 0.39 times\n",
       "New York Dec for Oct/Dec.\n",
       "    Buyers were the U.S., Argentina, Uruguay and convertible\n",
       "currency areas.\n",
       "    Liquor sales were limited with March/April selling at 2,325\n",
       "and 2,380 dlrs, June/July at 2,375 dlrs and at 1.25 times New\n",
       "York July, Aug/Sept at 2,400 dlrs and at 1.25 times New York\n",
       "Sept and Oct/Dec at 1.25 times New York Dec, Comissaria Smith\n",
       "said.\n",
       "    Total Bahia sales are currently estimated at 6.13 mln bags\n",
       "against the 1986/87 crop and 1.06 mln bags against the 1987/88\n",
       "crop.\n",
       "    Final figures for the period to February 28 are expected to\n",
       "be published by the Brazilian Cocoa Trade Commission after\n",
       "carnival which ends midday on February 27.\n",
       " Reuter\n",
       "\u0003</body></text>\n",
       "</reuters>"
      ]
     },
     "execution_count": 17,
     "metadata": {},
     "output_type": "execute_result"
    }
   ],
   "source": [
    "contentList[0]"
   ]
  },
  {
   "cell_type": "code",
   "execution_count": 18,
   "metadata": {
    "execution": {
     "iopub.execute_input": "2021-10-28T19:51:24.828359Z",
     "iopub.status.busy": "2021-10-28T19:51:24.827358Z",
     "iopub.status.idle": "2021-10-28T19:51:24.841356Z",
     "shell.execute_reply": "2021-10-28T19:51:24.839357Z",
     "shell.execute_reply.started": "2021-10-28T19:51:24.828359Z"
    }
   },
   "outputs": [
    {
     "data": {
      "text/plain": [
       "1000"
      ]
     },
     "execution_count": 18,
     "metadata": {},
     "output_type": "execute_result"
    }
   ],
   "source": [
    "len(contentList)"
   ]
  },
  {
   "cell_type": "code",
   "execution_count": 19,
   "metadata": {
    "execution": {
     "iopub.execute_input": "2021-10-28T19:51:24.845357Z",
     "iopub.status.busy": "2021-10-28T19:51:24.844358Z",
     "iopub.status.idle": "2021-10-28T19:51:24.857358Z",
     "shell.execute_reply": "2021-10-28T19:51:24.855355Z",
     "shell.execute_reply.started": "2021-10-28T19:51:24.845357Z"
    }
   },
   "outputs": [
    {
     "data": {
      "text/plain": [
       "[<reuters cgisplit=\"TRAINING-SET\" lewissplit=\"TRAIN\" newid=\"4\" oldid=\"5547\" topics=\"NO\">\n",
       " <date>26-FEB-1987 15:07:13.72</date>\n",
       " <topics></topics>\n",
       " <places><d>usa</d><d>brazil</d></places>\n",
       " <people></people>\n",
       " <orgs></orgs>\n",
       " <exchanges></exchanges>\n",
       " <companies></companies>\n",
       " <unknown> \n",
       " \u0005\u0005\u0005F\n",
       " \u0016\u0016\u0001f0725\u001freute\n",
       " u f BC-TALKING-POINT/BANKAME   02-26 0105</unknown>\n",
       " <text>\u0002\n",
       " <title>TALKING POINT/BANKAMERICA &lt;BAC&gt; EQUITY OFFER</title>\n",
       " <author>    by Janie Gabbett, Reuters</author>\n",
       " <dateline>    LOS ANGELES, Feb 26 - </dateline><body>BankAmerica Corp is not under\n",
       " pressure to act quickly on its proposed equity offering and\n",
       " would do well to delay it because of the stock's recent poor\n",
       " performance, banking analysts said.\n",
       "     Some analysts said they have recommended BankAmerica delay\n",
       " its up to one-billion-dlr equity offering, which has yet to be\n",
       " approved by the Securities and Exchange Commission.\n",
       "     BankAmerica stock fell this week, along with other banking\n",
       " issues, on the news that Brazil has suspended interest payments\n",
       " on a large portion of its foreign debt.\n",
       "     The stock traded around 12, down 1/8, this afternoon,\n",
       " after falling to 11-1/2 earlier this week on the news.\n",
       "     Banking analysts said that with the immediate threat of the\n",
       " First Interstate Bancorp &lt;I&gt; takeover bid gone, BankAmerica is\n",
       " under no pressure to sell the securities into a market that\n",
       " will be nervous on bank stocks in the near term.\n",
       "     BankAmerica filed the offer on January 26. It was seen as\n",
       " one of the major factors leading the First Interstate\n",
       " withdrawing its takeover bid on February 9.\n",
       "     A BankAmerica spokesman said SEC approval is taking longer\n",
       " than expected and market conditions must now be re-evaluated.\n",
       "     \"The circumstances at the time will determine what we do,\"\n",
       " said Arthur Miller, BankAmerica's Vice President for Financial\n",
       " Communications, when asked if BankAmerica would proceed with\n",
       " the offer immediately after it receives SEC approval.\n",
       "     \"I'd put it off as long as they conceivably could,\" said\n",
       " Lawrence Cohn, analyst with Merrill Lynch, Pierce, Fenner and\n",
       " Smith.\n",
       "     Cohn said the longer BankAmerica waits, the longer they\n",
       " have to show the market an improved financial outlook.\n",
       "     Although BankAmerica has yet to specify the types of\n",
       " equities it would offer, most analysts believed a convertible\n",
       " preferred stock would encompass at least part of it.\n",
       "     Such an offering at a depressed stock price would mean a\n",
       " lower conversion price and more dilution to BankAmerica stock\n",
       " holders, noted Daniel Williams, analyst with Sutro Group.\n",
       "     Several analysts said that while they believe the Brazilian\n",
       " debt problem will continue to hang over the banking industry\n",
       " through the quarter, the initial shock reaction is likely to\n",
       " ease over the coming weeks.\n",
       "     Nevertheless, BankAmerica, which holds about 2.70 billion\n",
       " dlrs in Brazilian loans, stands to lose 15-20 mln dlrs if the\n",
       " interest rate is reduced on the debt, and as much as 200 mln\n",
       " dlrs if Brazil pays no interest for a year, said Joseph\n",
       " Arsenio, analyst with Birr, Wilson and Co.\n",
       "     He noted, however, that any potential losses would not show\n",
       " up in the current quarter.\n",
       "     With other major banks standing to lose even more than\n",
       " BankAmerica if Brazil fails to service its debt, the analysts\n",
       " said they expect the debt will be restructured, similar to way\n",
       " Mexico's debt was, minimizing losses to the creditor banks.\n",
       "  Reuter\n",
       " \u0003</body></text>\n",
       " </reuters>,\n",
       " <reuters cgisplit=\"TRAINING-SET\" lewissplit=\"TRAIN\" newid=\"5\" oldid=\"5548\" topics=\"YES\">\n",
       " <date>26-FEB-1987 15:10:44.60</date>\n",
       " <topics><d>grain</d><d>wheat</d><d>corn</d><d>barley</d><d>oat</d><d>sorghum</d></topics>\n",
       " <places><d>usa</d></places>\n",
       " <people></people>\n",
       " <orgs></orgs>\n",
       " <exchanges></exchanges>\n",
       " <companies></companies>\n",
       " <unknown> \n",
       " \u0005\u0005\u0005C G\n",
       " \u0016\u0016\u0001f0738\u001freute\n",
       " u f BC-average-prices   02-26 0095</unknown>\n",
       " <text>\u0002\n",
       " <title>NATIONAL AVERAGE PRICES FOR FARMER-OWNED RESERVE</title>\n",
       " <dateline>    WASHINGTON, Feb 26 - </dateline><body>The U.S. Agriculture Department\n",
       " reported the farmer-owned reserve national five-day average\n",
       " price through February 25 as follows (Dlrs/Bu-Sorghum Cwt) -\n",
       "          Natl   Loan           Release   Call\n",
       "          Avge   Rate-X  Level    Price  Price\n",
       "  Wheat   2.55   2.40       IV     4.65     --\n",
       "                             V     4.65     --\n",
       "                            VI     4.45     --\n",
       "  Corn    1.35   1.92       IV     3.15   3.15\n",
       "                             V     3.25     --\n",
       "  X - 1986 Rates.\n",
       " \n",
       "           Natl   Loan          Release   Call\n",
       "           Avge   Rate-X  Level   Price  Price\n",
       "  Oats     1.24   0.99        V    1.65    -- \n",
       "  Barley   n.a.   1.56       IV    2.55   2.55\n",
       "                              V    2.65    -- \n",
       "  Sorghum  2.34   3.25-Y     IV    5.36   5.36\n",
       "                              V    5.54    -- \n",
       "     Reserves I, II and III have matured. Level IV reflects\n",
       " grain entered after Oct 6, 1981 for feedgrain and after July\n",
       " 23, 1981 for wheat. Level V wheat/barley after 5/14/82,\n",
       " corn/sorghum after 7/1/82. Level VI covers wheat entered after\n",
       " January 19, 1984.  X-1986 rates. Y-dlrs per CWT (100 lbs).\n",
       " n.a.-not available.\n",
       "  Reuter\n",
       " \u0003</body></text>\n",
       " </reuters>]"
      ]
     },
     "execution_count": 19,
     "metadata": {},
     "output_type": "execute_result"
    }
   ],
   "source": [
    "contentList[3:5]"
   ]
  },
  {
   "cell_type": "markdown",
   "metadata": {},
   "source": [
    "I think you should try splitting it at `</reuters>,`"
   ]
  },
  {
   "cell_type": "markdown",
   "metadata": {},
   "source": [
    "https://pythonprogramminglanguage.com/web-scraping-with-pandas-and-beautifulsoup/"
   ]
  },
  {
   "cell_type": "code",
   "execution_count": null,
   "metadata": {},
   "outputs": [],
   "source": []
  }
 ],
 "metadata": {
  "kernelspec": {
   "display_name": "Python 3",
   "language": "python",
   "name": "python3"
  },
  "language_info": {
   "codemirror_mode": {
    "name": "ipython",
    "version": 3
   },
   "file_extension": ".py",
   "mimetype": "text/x-python",
   "name": "python",
   "nbconvert_exporter": "python",
   "pygments_lexer": "ipython3",
   "version": "3.6.9"
  }
 },
 "nbformat": 4,
 "nbformat_minor": 4
}
