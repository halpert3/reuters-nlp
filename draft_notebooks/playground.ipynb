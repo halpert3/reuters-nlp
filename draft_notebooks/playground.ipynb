{
 "cells": [
  {
   "cell_type": "code",
   "execution_count": 29,
   "metadata": {
    "execution": {
     "iopub.execute_input": "2021-11-05T21:53:40.964233Z",
     "iopub.status.busy": "2021-11-05T21:53:40.963234Z",
     "iopub.status.idle": "2021-11-05T21:53:40.974233Z",
     "shell.execute_reply": "2021-11-05T21:53:40.973230Z",
     "shell.execute_reply.started": "2021-11-05T21:53:40.964233Z"
    }
   },
   "outputs": [],
   "source": [
    "import pandas as pd\n",
    "import nltk\n",
    "from nltk.corpus import stopwords\n",
    "from nltk import word_tokenize, FreqDist\n",
    "from nltk.stem.wordnet import WordNetLemmatizer\n",
    "import string"
   ]
  },
  {
   "cell_type": "code",
   "execution_count": 2,
   "metadata": {
    "execution": {
     "iopub.execute_input": "2021-11-05T21:53:03.293968Z",
     "iopub.status.busy": "2021-11-05T21:53:03.292969Z",
     "iopub.status.idle": "2021-11-05T21:53:03.353968Z",
     "shell.execute_reply": "2021-11-05T21:53:03.351968Z",
     "shell.execute_reply.started": "2021-11-05T21:53:03.293968Z"
    }
   },
   "outputs": [
    {
     "data": {
      "text/html": [
       "<div>\n",
       "<style scoped>\n",
       "    .dataframe tbody tr th:only-of-type {\n",
       "        vertical-align: middle;\n",
       "    }\n",
       "\n",
       "    .dataframe tbody tr th {\n",
       "        vertical-align: top;\n",
       "    }\n",
       "\n",
       "    .dataframe thead th {\n",
       "        text-align: right;\n",
       "    }\n",
       "</style>\n",
       "<table border=\"1\" class=\"dataframe\">\n",
       "  <thead>\n",
       "    <tr style=\"text-align: right;\">\n",
       "      <th></th>\n",
       "      <th>letters</th>\n",
       "      <th>numbers</th>\n",
       "    </tr>\n",
       "  </thead>\n",
       "  <tbody>\n",
       "  </tbody>\n",
       "</table>\n",
       "</div>"
      ],
      "text/plain": [
       "Empty DataFrame\n",
       "Columns: [letters, numbers]\n",
       "Index: []"
      ]
     },
     "execution_count": 2,
     "metadata": {},
     "output_type": "execute_result"
    }
   ],
   "source": [
    "df = pd.DataFrame(columns=['letters', 'numbers'])\n",
    "df"
   ]
  },
  {
   "cell_type": "code",
   "execution_count": 3,
   "metadata": {
    "execution": {
     "iopub.execute_input": "2021-11-05T21:53:03.358973Z",
     "iopub.status.busy": "2021-11-05T21:53:03.358973Z",
     "iopub.status.idle": "2021-11-05T21:53:03.386973Z",
     "shell.execute_reply": "2021-11-05T21:53:03.383974Z",
     "shell.execute_reply.started": "2021-11-05T21:53:03.358973Z"
    }
   },
   "outputs": [
    {
     "data": {
      "text/html": [
       "<div>\n",
       "<style scoped>\n",
       "    .dataframe tbody tr th:only-of-type {\n",
       "        vertical-align: middle;\n",
       "    }\n",
       "\n",
       "    .dataframe tbody tr th {\n",
       "        vertical-align: top;\n",
       "    }\n",
       "\n",
       "    .dataframe thead th {\n",
       "        text-align: right;\n",
       "    }\n",
       "</style>\n",
       "<table border=\"1\" class=\"dataframe\">\n",
       "  <thead>\n",
       "    <tr style=\"text-align: right;\">\n",
       "      <th></th>\n",
       "      <th>letters</th>\n",
       "      <th>numbers</th>\n",
       "    </tr>\n",
       "  </thead>\n",
       "  <tbody>\n",
       "    <tr>\n",
       "      <th>0</th>\n",
       "      <td>z</td>\n",
       "      <td>100</td>\n",
       "    </tr>\n",
       "  </tbody>\n",
       "</table>\n",
       "</div>"
      ],
      "text/plain": [
       "  letters numbers\n",
       "0       z     100"
      ]
     },
     "execution_count": 3,
     "metadata": {},
     "output_type": "execute_result"
    }
   ],
   "source": [
    "new_series = pd.Series(['z', 100], index=df.columns)\n",
    "df = df.append(new_series, ignore_index=True)\n",
    "df"
   ]
  },
  {
   "cell_type": "code",
   "execution_count": 4,
   "metadata": {
    "execution": {
     "iopub.execute_input": "2021-11-05T21:53:03.392971Z",
     "iopub.status.busy": "2021-11-05T21:53:03.391974Z",
     "iopub.status.idle": "2021-11-05T21:53:03.417971Z",
     "shell.execute_reply": "2021-11-05T21:53:03.415969Z",
     "shell.execute_reply.started": "2021-11-05T21:53:03.391974Z"
    }
   },
   "outputs": [],
   "source": [
    "letters = ['a', 'b', 'c', 'd', 'e']\n",
    "numbers = [1, 2, 3, 4, 5]"
   ]
  },
  {
   "cell_type": "code",
   "execution_count": 5,
   "metadata": {
    "execution": {
     "iopub.execute_input": "2021-11-05T21:53:03.420972Z",
     "iopub.status.busy": "2021-11-05T21:53:03.419972Z",
     "iopub.status.idle": "2021-11-05T21:53:03.529969Z",
     "shell.execute_reply": "2021-11-05T21:53:03.527970Z",
     "shell.execute_reply.started": "2021-11-05T21:53:03.420972Z"
    }
   },
   "outputs": [
    {
     "data": {
      "text/html": [
       "<div>\n",
       "<style scoped>\n",
       "    .dataframe tbody tr th:only-of-type {\n",
       "        vertical-align: middle;\n",
       "    }\n",
       "\n",
       "    .dataframe tbody tr th {\n",
       "        vertical-align: top;\n",
       "    }\n",
       "\n",
       "    .dataframe thead th {\n",
       "        text-align: right;\n",
       "    }\n",
       "</style>\n",
       "<table border=\"1\" class=\"dataframe\">\n",
       "  <thead>\n",
       "    <tr style=\"text-align: right;\">\n",
       "      <th></th>\n",
       "      <th>letters</th>\n",
       "      <th>numbers</th>\n",
       "    </tr>\n",
       "  </thead>\n",
       "  <tbody>\n",
       "    <tr>\n",
       "      <th>0</th>\n",
       "      <td>z</td>\n",
       "      <td>100</td>\n",
       "    </tr>\n",
       "    <tr>\n",
       "      <th>1</th>\n",
       "      <td>a</td>\n",
       "      <td>1</td>\n",
       "    </tr>\n",
       "    <tr>\n",
       "      <th>2</th>\n",
       "      <td>b</td>\n",
       "      <td>2</td>\n",
       "    </tr>\n",
       "    <tr>\n",
       "      <th>3</th>\n",
       "      <td>c</td>\n",
       "      <td>3</td>\n",
       "    </tr>\n",
       "    <tr>\n",
       "      <th>4</th>\n",
       "      <td>d</td>\n",
       "      <td>4</td>\n",
       "    </tr>\n",
       "    <tr>\n",
       "      <th>5</th>\n",
       "      <td>e</td>\n",
       "      <td>5</td>\n",
       "    </tr>\n",
       "  </tbody>\n",
       "</table>\n",
       "</div>"
      ],
      "text/plain": [
       "  letters numbers\n",
       "0       z     100\n",
       "1       a       1\n",
       "2       b       2\n",
       "3       c       3\n",
       "4       d       4\n",
       "5       e       5"
      ]
     },
     "execution_count": 5,
     "metadata": {},
     "output_type": "execute_result"
    }
   ],
   "source": [
    "for i, letter in enumerate(letters):\n",
    "    new_row = pd.Series([letters[i], numbers[i]], index=df.columns)\n",
    "    df = df.append(new_row, ignore_index=True)\n",
    "df"
   ]
  },
  {
   "cell_type": "code",
   "execution_count": 6,
   "metadata": {
    "execution": {
     "iopub.execute_input": "2021-11-05T21:53:03.532969Z",
     "iopub.status.busy": "2021-11-05T21:53:03.531972Z",
     "iopub.status.idle": "2021-11-05T21:53:03.560970Z",
     "shell.execute_reply": "2021-11-05T21:53:03.558970Z",
     "shell.execute_reply.started": "2021-11-05T21:53:03.532969Z"
    }
   },
   "outputs": [],
   "source": [
    "df = pd.DataFrame(columns=['letters', 'numbers'])"
   ]
  },
  {
   "cell_type": "code",
   "execution_count": 7,
   "metadata": {
    "execution": {
     "iopub.execute_input": "2021-11-05T21:53:03.571969Z",
     "iopub.status.busy": "2021-11-05T21:53:03.570972Z",
     "iopub.status.idle": "2021-11-05T21:53:03.608972Z",
     "shell.execute_reply": "2021-11-05T21:53:03.605972Z",
     "shell.execute_reply.started": "2021-11-05T21:53:03.571969Z"
    }
   },
   "outputs": [],
   "source": [
    "def add_to_df(topics, texts, df):\n",
    "    for i, topic in enumerate(topics):\n",
    "        new_row = pd.Series([topics[i], texts[i]], index=df.columns)\n",
    "        df = df.append(new_row, ignore_index=True)\n",
    "    return df"
   ]
  },
  {
   "cell_type": "code",
   "execution_count": 8,
   "metadata": {
    "execution": {
     "iopub.execute_input": "2021-11-05T21:53:03.615973Z",
     "iopub.status.busy": "2021-11-05T21:53:03.614970Z",
     "iopub.status.idle": "2021-11-05T21:53:03.717972Z",
     "shell.execute_reply": "2021-11-05T21:53:03.715972Z",
     "shell.execute_reply.started": "2021-11-05T21:53:03.615973Z"
    }
   },
   "outputs": [
    {
     "data": {
      "text/html": [
       "<div>\n",
       "<style scoped>\n",
       "    .dataframe tbody tr th:only-of-type {\n",
       "        vertical-align: middle;\n",
       "    }\n",
       "\n",
       "    .dataframe tbody tr th {\n",
       "        vertical-align: top;\n",
       "    }\n",
       "\n",
       "    .dataframe thead th {\n",
       "        text-align: right;\n",
       "    }\n",
       "</style>\n",
       "<table border=\"1\" class=\"dataframe\">\n",
       "  <thead>\n",
       "    <tr style=\"text-align: right;\">\n",
       "      <th></th>\n",
       "      <th>letters</th>\n",
       "      <th>numbers</th>\n",
       "    </tr>\n",
       "  </thead>\n",
       "  <tbody>\n",
       "    <tr>\n",
       "      <th>0</th>\n",
       "      <td>a</td>\n",
       "      <td>1</td>\n",
       "    </tr>\n",
       "    <tr>\n",
       "      <th>1</th>\n",
       "      <td>b</td>\n",
       "      <td>2</td>\n",
       "    </tr>\n",
       "    <tr>\n",
       "      <th>2</th>\n",
       "      <td>c</td>\n",
       "      <td>3</td>\n",
       "    </tr>\n",
       "    <tr>\n",
       "      <th>3</th>\n",
       "      <td>d</td>\n",
       "      <td>4</td>\n",
       "    </tr>\n",
       "    <tr>\n",
       "      <th>4</th>\n",
       "      <td>e</td>\n",
       "      <td>5</td>\n",
       "    </tr>\n",
       "  </tbody>\n",
       "</table>\n",
       "</div>"
      ],
      "text/plain": [
       "  letters numbers\n",
       "0       a       1\n",
       "1       b       2\n",
       "2       c       3\n",
       "3       d       4\n",
       "4       e       5"
      ]
     },
     "execution_count": 8,
     "metadata": {},
     "output_type": "execute_result"
    }
   ],
   "source": [
    "add_to_df(letters, numbers, df)"
   ]
  },
  {
   "cell_type": "code",
   "execution_count": 9,
   "metadata": {
    "execution": {
     "iopub.execute_input": "2021-11-05T21:53:03.722972Z",
     "iopub.status.busy": "2021-11-05T21:53:03.721982Z",
     "iopub.status.idle": "2021-11-05T21:53:03.733972Z",
     "shell.execute_reply": "2021-11-05T21:53:03.731972Z",
     "shell.execute_reply.started": "2021-11-05T21:53:03.722972Z"
    }
   },
   "outputs": [],
   "source": [
    "sample = [1, 3]"
   ]
  },
  {
   "cell_type": "code",
   "execution_count": 10,
   "metadata": {
    "execution": {
     "iopub.execute_input": "2021-11-05T21:53:03.736972Z",
     "iopub.status.busy": "2021-11-05T21:53:03.735973Z",
     "iopub.status.idle": "2021-11-05T21:53:03.765973Z",
     "shell.execute_reply": "2021-11-05T21:53:03.763982Z",
     "shell.execute_reply.started": "2021-11-05T21:53:03.736972Z"
    }
   },
   "outputs": [],
   "source": [
    "sample.append(2)"
   ]
  },
  {
   "cell_type": "code",
   "execution_count": 11,
   "metadata": {
    "execution": {
     "iopub.execute_input": "2021-11-05T21:53:03.771971Z",
     "iopub.status.busy": "2021-11-05T21:53:03.769971Z",
     "iopub.status.idle": "2021-11-05T21:53:03.796970Z",
     "shell.execute_reply": "2021-11-05T21:53:03.794988Z",
     "shell.execute_reply.started": "2021-11-05T21:53:03.771971Z"
    }
   },
   "outputs": [
    {
     "data": {
      "text/plain": [
       "[1, 3, 2]"
      ]
     },
     "execution_count": 11,
     "metadata": {},
     "output_type": "execute_result"
    }
   ],
   "source": [
    "sample"
   ]
  },
  {
   "cell_type": "code",
   "execution_count": 12,
   "metadata": {
    "execution": {
     "iopub.execute_input": "2021-11-05T21:53:03.801972Z",
     "iopub.status.busy": "2021-11-05T21:53:03.800972Z",
     "iopub.status.idle": "2021-11-05T21:53:03.827970Z",
     "shell.execute_reply": "2021-11-05T21:53:03.825970Z",
     "shell.execute_reply.started": "2021-11-05T21:53:03.801972Z"
    }
   },
   "outputs": [],
   "source": [
    "import nltk\n",
    "from nltk.corpus import stopwords\n",
    "from nltk import word_tokenize, FreqDist\n",
    "import re"
   ]
  },
  {
   "cell_type": "code",
   "execution_count": 13,
   "metadata": {
    "execution": {
     "iopub.execute_input": "2021-11-05T21:53:03.831971Z",
     "iopub.status.busy": "2021-11-05T21:53:03.830974Z",
     "iopub.status.idle": "2021-11-05T21:53:03.909972Z",
     "shell.execute_reply": "2021-11-05T21:53:03.905973Z",
     "shell.execute_reply.started": "2021-11-05T21:53:03.831971Z"
    }
   },
   "outputs": [
    {
     "data": {
      "text/plain": [
       "['hello', '<', 'CH', '>', ',', 'goodbye', '<', 'SH', '>']"
      ]
     },
     "execution_count": 13,
     "metadata": {},
     "output_type": "execute_result"
    }
   ],
   "source": [
    "string = 'hello <CH>, goodbye <SH>'\n",
    "word_tokenize(string)"
   ]
  },
  {
   "cell_type": "code",
   "execution_count": 14,
   "metadata": {
    "execution": {
     "iopub.execute_input": "2021-11-05T21:53:03.914972Z",
     "iopub.status.busy": "2021-11-05T21:53:03.911973Z",
     "iopub.status.idle": "2021-11-05T21:53:03.940970Z",
     "shell.execute_reply": "2021-11-05T21:53:03.937971Z",
     "shell.execute_reply.started": "2021-11-05T21:53:03.914972Z"
    }
   },
   "outputs": [
    {
     "data": {
      "text/plain": [
       "['<CH>', '<SH>']"
      ]
     },
     "execution_count": 14,
     "metadata": {},
     "output_type": "execute_result"
    }
   ],
   "source": [
    "re.findall(\"\\<\\w+>\", string)"
   ]
  },
  {
   "cell_type": "code",
   "execution_count": 15,
   "metadata": {
    "execution": {
     "iopub.execute_input": "2021-11-05T21:53:03.944974Z",
     "iopub.status.busy": "2021-11-05T21:53:03.943972Z",
     "iopub.status.idle": "2021-11-05T21:53:03.974983Z",
     "shell.execute_reply": "2021-11-05T21:53:03.968971Z",
     "shell.execute_reply.started": "2021-11-05T21:53:03.944974Z"
    }
   },
   "outputs": [
    {
     "data": {
      "text/plain": [
       "'hello , goodbye '"
      ]
     },
     "execution_count": 15,
     "metadata": {},
     "output_type": "execute_result"
    }
   ],
   "source": [
    "re.sub(\"\\<\\w+>\", \"\", string)"
   ]
  },
  {
   "cell_type": "code",
   "execution_count": 16,
   "metadata": {
    "execution": {
     "iopub.execute_input": "2021-11-05T21:53:03.981973Z",
     "iopub.status.busy": "2021-11-05T21:53:03.979974Z",
     "iopub.status.idle": "2021-11-05T21:53:04.019972Z",
     "shell.execute_reply": "2021-11-05T21:53:04.016969Z",
     "shell.execute_reply.started": "2021-11-05T21:53:03.981973Z"
    }
   },
   "outputs": [
    {
     "data": {
      "text/plain": [
       "['hello', '<CH>,', 'goodbye', '<SH>']"
      ]
     },
     "execution_count": 16,
     "metadata": {},
     "output_type": "execute_result"
    }
   ],
   "source": [
    "string.split()"
   ]
  },
  {
   "cell_type": "code",
   "execution_count": 17,
   "metadata": {
    "execution": {
     "iopub.execute_input": "2021-11-05T21:53:04.024979Z",
     "iopub.status.busy": "2021-11-05T21:53:04.023972Z",
     "iopub.status.idle": "2021-11-05T21:53:04.049970Z",
     "shell.execute_reply": "2021-11-05T21:53:04.047970Z",
     "shell.execute_reply.started": "2021-11-05T21:53:04.023972Z"
    }
   },
   "outputs": [],
   "source": [
    "def reserve_tickers(string):\n",
    "    tickers = re.findall(\"\\<\\w+>\", string)\n",
    "    split_string = string.split()\n",
    "\n",
    "    for element in split_string:\n",
    "        if element in tickers:\n",
    "            print(element)\n",
    "            split_string.remove(element)\n",
    "    \n",
    "    return tickers, split_string"
   ]
  },
  {
   "cell_type": "code",
   "execution_count": 18,
   "metadata": {
    "execution": {
     "iopub.execute_input": "2021-11-05T21:53:04.053973Z",
     "iopub.status.busy": "2021-11-05T21:53:04.052974Z",
     "iopub.status.idle": "2021-11-05T21:53:04.095969Z",
     "shell.execute_reply": "2021-11-05T21:53:04.093970Z",
     "shell.execute_reply.started": "2021-11-05T21:53:04.053973Z"
    }
   },
   "outputs": [
    {
     "name": "stdout",
     "output_type": "stream",
     "text": [
      "<SH>\n"
     ]
    },
    {
     "data": {
      "text/plain": [
       "(['<CH>', '<SH>'], ['hello', '<CH>,', 'goodbye'])"
      ]
     },
     "execution_count": 18,
     "metadata": {},
     "output_type": "execute_result"
    }
   ],
   "source": [
    "reserve_tickers(string)"
   ]
  },
  {
   "cell_type": "code",
   "execution_count": 19,
   "metadata": {
    "execution": {
     "iopub.execute_input": "2021-11-05T21:53:04.099972Z",
     "iopub.status.busy": "2021-11-05T21:53:04.098971Z",
     "iopub.status.idle": "2021-11-05T21:53:04.126971Z",
     "shell.execute_reply": "2021-11-05T21:53:04.124979Z",
     "shell.execute_reply.started": "2021-11-05T21:53:04.099972Z"
    }
   },
   "outputs": [
    {
     "name": "stdout",
     "output_type": "stream",
     "text": [
      "['c']\n"
     ]
    }
   ],
   "source": [
    "list_1 = [\"a\", \"b\"]\n",
    "list_2 = [\"a\", \"b\", \"c\"]\n",
    "\n",
    "for element in list_1:\n",
    "    if element in list_2:\n",
    "        list_2.remove(element)\n",
    "\n",
    "print(list_2)"
   ]
  },
  {
   "cell_type": "code",
   "execution_count": 20,
   "metadata": {
    "execution": {
     "iopub.execute_input": "2021-11-05T21:53:04.131970Z",
     "iopub.status.busy": "2021-11-05T21:53:04.130972Z",
     "iopub.status.idle": "2021-11-05T21:53:04.142970Z",
     "shell.execute_reply": "2021-11-05T21:53:04.139981Z",
     "shell.execute_reply.started": "2021-11-05T21:53:04.131970Z"
    }
   },
   "outputs": [],
   "source": [
    "string = 'hello <CH>, goodbye <SH>'"
   ]
  },
  {
   "cell_type": "code",
   "execution_count": 21,
   "metadata": {
    "execution": {
     "iopub.execute_input": "2021-11-05T21:53:04.145970Z",
     "iopub.status.busy": "2021-11-05T21:53:04.144973Z",
     "iopub.status.idle": "2021-11-05T21:53:04.173971Z",
     "shell.execute_reply": "2021-11-05T21:53:04.171972Z",
     "shell.execute_reply.started": "2021-11-05T21:53:04.145970Z"
    }
   },
   "outputs": [],
   "source": [
    "def reserve_tickers(string):\n",
    "    tickers = re.findall(\"\\<\\w+>\", string)\n",
    "    string = re.sub(\"\\<\\w+>\", \"\", string)\n",
    "    \n",
    "    return tickers, string"
   ]
  },
  {
   "cell_type": "code",
   "execution_count": 22,
   "metadata": {
    "execution": {
     "iopub.execute_input": "2021-11-05T21:53:04.178972Z",
     "iopub.status.busy": "2021-11-05T21:53:04.177972Z",
     "iopub.status.idle": "2021-11-05T21:53:04.195975Z",
     "shell.execute_reply": "2021-11-05T21:53:04.187971Z",
     "shell.execute_reply.started": "2021-11-05T21:53:04.178972Z"
    }
   },
   "outputs": [],
   "source": [
    "tick, new_str = reserve_tickers(string)"
   ]
  },
  {
   "cell_type": "code",
   "execution_count": 23,
   "metadata": {
    "execution": {
     "iopub.execute_input": "2021-11-05T21:53:04.212973Z",
     "iopub.status.busy": "2021-11-05T21:53:04.210975Z",
     "iopub.status.idle": "2021-11-05T21:53:04.247970Z",
     "shell.execute_reply": "2021-11-05T21:53:04.234969Z",
     "shell.execute_reply.started": "2021-11-05T21:53:04.212973Z"
    }
   },
   "outputs": [
    {
     "data": {
      "text/plain": [
       "'hello , goodbye '"
      ]
     },
     "execution_count": 23,
     "metadata": {},
     "output_type": "execute_result"
    }
   ],
   "source": [
    "new_str"
   ]
  },
  {
   "cell_type": "code",
   "execution_count": 24,
   "metadata": {
    "execution": {
     "iopub.execute_input": "2021-11-05T21:53:04.252973Z",
     "iopub.status.busy": "2021-11-05T21:53:04.251972Z",
     "iopub.status.idle": "2021-11-05T21:53:04.299970Z",
     "shell.execute_reply": "2021-11-05T21:53:04.297970Z",
     "shell.execute_reply.started": "2021-11-05T21:53:04.252973Z"
    }
   },
   "outputs": [],
   "source": [
    "def process_text(text):\n",
    "    \n",
    "    stopwords_list = stopwords.words('english') + list(string.punctuation)\n",
    "    stopwords_list.append('...')\n",
    "    \n",
    "    tickers, text = reserve_tickers(text)\n",
    "    print(tickers)\n",
    "    \n",
    "    tokens = nltk.word_tokenize(text)\n",
    "    stopwords_removed = [token.lower() for token in tokens if token.lower() not in stopwords_list]\n",
    "    \n",
    "    # adding line to remove all tokens with numbers and punctuation\n",
    "    stopwords_punc_and_numbers_removed = [word for word in stopwords_removed if word.isalpha()]\n",
    "    \n",
    "    return stopwords_punc_and_numbers_removed + tickers\n"
   ]
  },
  {
   "cell_type": "code",
   "execution_count": 25,
   "metadata": {
    "execution": {
     "iopub.execute_input": "2021-11-05T21:53:04.303986Z",
     "iopub.status.busy": "2021-11-05T21:53:04.302975Z",
     "iopub.status.idle": "2021-11-05T21:53:04.750969Z",
     "shell.execute_reply": "2021-11-05T21:53:04.748983Z",
     "shell.execute_reply.started": "2021-11-05T21:53:04.303986Z"
    }
   },
   "outputs": [],
   "source": [
    "df = pd.read_csv('data_files/topics_and_text.csv')"
   ]
  },
  {
   "cell_type": "code",
   "execution_count": 26,
   "metadata": {
    "execution": {
     "iopub.execute_input": "2021-11-05T21:53:04.753969Z",
     "iopub.status.busy": "2021-11-05T21:53:04.753969Z",
     "iopub.status.idle": "2021-11-05T21:53:04.767976Z",
     "shell.execute_reply": "2021-11-05T21:53:04.764973Z",
     "shell.execute_reply.started": "2021-11-05T21:53:04.753969Z"
    }
   },
   "outputs": [],
   "source": [
    "text = df.iloc[1].text"
   ]
  },
  {
   "cell_type": "code",
   "execution_count": 27,
   "metadata": {
    "execution": {
     "iopub.execute_input": "2021-11-05T21:53:04.772972Z",
     "iopub.status.busy": "2021-11-05T21:53:04.771976Z",
     "iopub.status.idle": "2021-11-05T21:53:04.845970Z",
     "shell.execute_reply": "2021-11-05T21:53:04.842971Z",
     "shell.execute_reply.started": "2021-11-05T21:53:04.772972Z"
    }
   },
   "outputs": [
    {
     "data": {
      "text/plain": [
       "'STANDARD OIL <SRD> TO FORM FINANCIAL UNIT CLEVELAND, Feb 26 - Standard Oil Co and BP North America Inc said they plan to form a venture to manage the money market borrowing and investment activities of both companies. BP North America is a subsidiary of British Petroleum Co Plc <BP>, which also owns a 55 pct interest in Standard Oil. The venture will be called BP/Standard Financial Trading and will be operated by Standard Oil under the oversight of a joint management committee. Reuter'"
      ]
     },
     "execution_count": 27,
     "metadata": {},
     "output_type": "execute_result"
    }
   ],
   "source": [
    "text"
   ]
  },
  {
   "cell_type": "code",
   "execution_count": 30,
   "metadata": {
    "execution": {
     "iopub.execute_input": "2021-11-05T21:53:47.260944Z",
     "iopub.status.busy": "2021-11-05T21:53:47.260944Z",
     "iopub.status.idle": "2021-11-05T21:53:47.277943Z",
     "shell.execute_reply": "2021-11-05T21:53:47.276941Z",
     "shell.execute_reply.started": "2021-11-05T21:53:47.260944Z"
    }
   },
   "outputs": [
    {
     "name": "stdout",
     "output_type": "stream",
     "text": [
      "['<SRD>', '<BP>']\n"
     ]
    },
    {
     "data": {
      "text/plain": [
       "['standard',\n",
       " 'oil',\n",
       " 'form',\n",
       " 'financial',\n",
       " 'unit',\n",
       " 'cleveland',\n",
       " 'feb',\n",
       " 'standard',\n",
       " 'oil',\n",
       " 'co',\n",
       " 'bp',\n",
       " 'north',\n",
       " 'america',\n",
       " 'inc',\n",
       " 'said',\n",
       " 'plan',\n",
       " 'form',\n",
       " 'venture',\n",
       " 'manage',\n",
       " 'money',\n",
       " 'market',\n",
       " 'borrowing',\n",
       " 'investment',\n",
       " 'activities',\n",
       " 'companies',\n",
       " 'bp',\n",
       " 'north',\n",
       " 'america',\n",
       " 'subsidiary',\n",
       " 'british',\n",
       " 'petroleum',\n",
       " 'co',\n",
       " 'plc',\n",
       " 'also',\n",
       " 'owns',\n",
       " 'pct',\n",
       " 'interest',\n",
       " 'standard',\n",
       " 'oil',\n",
       " 'venture',\n",
       " 'called',\n",
       " 'financial',\n",
       " 'trading',\n",
       " 'operated',\n",
       " 'standard',\n",
       " 'oil',\n",
       " 'oversight',\n",
       " 'joint',\n",
       " 'management',\n",
       " 'committee',\n",
       " 'reuter',\n",
       " '<SRD>',\n",
       " '<BP>']"
      ]
     },
     "execution_count": 30,
     "metadata": {},
     "output_type": "execute_result"
    }
   ],
   "source": [
    "process_text(text)"
   ]
  },
  {
   "cell_type": "code",
   "execution_count": null,
   "metadata": {
    "execution": {
     "iopub.status.busy": "2021-11-05T21:53:05.578968Z",
     "iopub.status.idle": "2021-11-05T21:53:05.578968Z",
     "shell.execute_reply": "2021-11-05T21:53:05.578968Z"
    }
   },
   "outputs": [],
   "source": [
    "[1, 2] + [3, 4]"
   ]
  },
  {
   "cell_type": "code",
   "execution_count": null,
   "metadata": {
    "execution": {
     "iopub.status.busy": "2021-11-05T21:53:05.580968Z",
     "iopub.status.idle": "2021-11-05T21:53:05.581968Z",
     "shell.execute_reply": "2021-11-05T21:53:05.581968Z"
    }
   },
   "outputs": [],
   "source": [
    "list1 = [1, 2]\n",
    "list2 = [3, 4]\n",
    "list1 + list2 == list1 + [3, 4]"
   ]
  },
  {
   "cell_type": "code",
   "execution_count": null,
   "metadata": {},
   "outputs": [],
   "source": []
  }
 ],
 "metadata": {
  "kernelspec": {
   "display_name": "Python 3",
   "language": "python",
   "name": "python3"
  },
  "language_info": {
   "codemirror_mode": {
    "name": "ipython",
    "version": 3
   },
   "file_extension": ".py",
   "mimetype": "text/x-python",
   "name": "python",
   "nbconvert_exporter": "python",
   "pygments_lexer": "ipython3",
   "version": "3.6.9"
  }
 },
 "nbformat": 4,
 "nbformat_minor": 4
}
