{
 "cells": [
  {
   "cell_type": "code",
   "execution_count": 122,
   "metadata": {
    "execution": {
     "iopub.execute_input": "2021-11-08T22:57:17.849907Z",
     "iopub.status.busy": "2021-11-08T22:57:17.848906Z",
     "iopub.status.idle": "2021-11-08T22:57:17.862906Z",
     "shell.execute_reply": "2021-11-08T22:57:17.861906Z",
     "shell.execute_reply.started": "2021-11-08T22:57:17.849907Z"
    }
   },
   "outputs": [],
   "source": [
    "import numpy as np\n",
    "import pandas as pd\n",
    "\n",
    "\n",
    "from sklearn.feature_extraction.text import TfidfVectorizer, CountVectorizer\n",
    "\n",
    "from sklearn.model_selection import train_test_split, GridSearchCV, cross_val_score\n",
    "from sklearn.metrics import classification_report, accuracy_score, confusion_matrix, recall_score, precision_score, f1_score\n",
    "from sklearn.metrics import plot_confusion_matrix\n",
    "from sklearn.metrics import confusion_matrix\n",
    "from sklearn.metrics import ConfusionMatrixDisplay\n",
    "\n",
    "from imblearn.over_sampling import SMOTE\n",
    "\n",
    "from sklearn.naive_bayes import MultinomialNB\n",
    "from sklearn.tree import DecisionTreeClassifier\n",
    "from sklearn.ensemble import GradientBoostingClassifier\n",
    "\n",
    "from sklearn.pipeline import Pipeline\n",
    "\n",
    "# imp allows to reload the above function file when tinkering with it without kernel restart\n",
    "import imp\n",
    "\n",
    "import time\n",
    "import matplotlib.pyplot as plt"
   ]
  },
  {
   "cell_type": "code",
   "execution_count": 131,
   "metadata": {
    "execution": {
     "iopub.execute_input": "2021-11-08T23:12:57.055916Z",
     "iopub.status.busy": "2021-11-08T23:12:57.054916Z",
     "iopub.status.idle": "2021-11-08T23:12:57.102915Z",
     "shell.execute_reply": "2021-11-08T23:12:57.100911Z",
     "shell.execute_reply.started": "2021-11-08T23:12:57.055916Z"
    }
   },
   "outputs": [],
   "source": [
    "def run_model(model, X_train, y_train, X_test, y_test, num_categories):\n",
    "    model.fit(X_train, y_train)\n",
    "    train_y_pred = model.predict(X_train)\n",
    "    test_y_pred = model.predict(X_test)\n",
    "    score_train_and_test(y_train, train_y_pred, y_test, test_y_pred)\n",
    "    disp_conf_matrix(y_train, train_y_pred, y_test, test_y_pred, num_categories)\n",
    "    \n",
    "def disp_conf_matrix(y_train, train_y_pred, y_test, test_y_pred, num_categories):\n",
    "    cm_train = confusion_matrix(y_train, train_y_pred, \n",
    "                               labels = [x + 1 for x in range(num_categories)])\n",
    "    cm_test = confusion_matrix(y_test, test_y_pred, \n",
    "                               labels = [x + 1 for x in range(num_categories)])\n",
    "    disp1 = ConfusionMatrixDisplay(confusion_matrix=cm_train)\n",
    "    disp2 = ConfusionMatrixDisplay(confusion_matrix=cm_test)\n",
    "    \n",
    "    # plotting two side by side\n",
    "    fig, axes = plt.subplots(nrows=1, ncols=2, figsize=(15, 5))\n",
    "    axes[0].set_title('Training confusion matrix'.upper(), fontsize = 12)\n",
    "    axes[1].set_title('Testing confusion matrix'.upper(), fontsize = 12)\n",
    "    disp1.plot(ax=axes[0])\n",
    "    disp2.plot(ax=axes[1])\n",
    "    \n",
    "\n",
    "def score_train_and_test(y_train, train_y_pred, y_test, test_y_pred):\n",
    "\n",
    "    # Training Scores\n",
    "    training_accuracy = accuracy_score(y_train, train_y_pred)\n",
    "    training_precision = precision_score(y_train, train_y_pred, average='macro')\n",
    "    training_recall = recall_score(y_train, train_y_pred, average='macro')\n",
    "    training_f1 = f1_score(y_train, train_y_pred, average='macro')\n",
    "    \n",
    "    print(\"TRAINING - Classification Report\")\n",
    "    print(\"Accuracy: {:.1%}\".format(training_accuracy))\n",
    "    print(\"Precision: {:.1%}\".format(training_precision))\n",
    "    print(\"Recall: {:.1%}\".format(training_recall))\n",
    "    print(\"F1: {:.1%}\".format(training_f1))\n",
    "    print(classification_report(y_train, train_y_pred))\n",
    "    \n",
    "    # Testing Scores\n",
    "    testing_accuracy = accuracy_score(y_test, test_y_pred)\n",
    "    testing_precision = precision_score(y_test, test_y_pred, average='macro')\n",
    "    testing_recall = recall_score(y_test, test_y_pred, average='macro')\n",
    "    testing_f1 = f1_score(y_test, test_y_pred, average='macro')\n",
    "    \n",
    "    print(\"TESTING - Classification Report\")\n",
    "    print(\"Accuracy: {:.1%}\".format(testing_accuracy))\n",
    "    print(\"Precision: {:.1%}\".format(testing_precision))\n",
    "    print(\"Recall: {:.1%}\".format(testing_recall))\n",
    "    print(\"F1: {:.1%}\".format(testing_f1))\n",
    "    print(classification_report(y_test, test_y_pred))\n",
    "\n",
    "def scoring(y_real, y_pred, model, X_data): # change y_test to y_real\n",
    "    # Calculates and prints scores for the model\n",
    "    accuracy = accuracy_score(y_real, y_pred)\n",
    "    precision = precision_score(y_real, y_pred, average='macro')\n",
    "    recall = recall_score(y_real, y_pred, average='macro')\n",
    "    f1 = f1_score(y_real, y_pred, average='macro')\n",
    "\n",
    "    print(\"Accuracy: {:.1%}\".format(accuracy))\n",
    "    print(\"Precision: {:.1%}\".format(precision))\n",
    "    print(\"Recall: {:.1%}\".format(recall))\n",
    "    print(\"F1: {:.1%}\".format(f1))\n",
    "\n",
    "    print('\\n')\n",
    "    print(\"Classification Report\")\n",
    "    print('\\n')\n",
    "    print(classification_report(y_real, y_pred))\n",
    "    # Plots a confusion matrix graphic (defined below)\n",
    "    plot = plot_c_matrix(model, X_data, y_real)\n",
    "\n",
    "# note that plot_confustion_matrix needs to rerun the model. That's what you pass in the model again. \n",
    "def plot_c_matrix(model, X_test, y_real):\n",
    "    # Generates a confusion matrix graphic\n",
    "    plot_confusion_matrix(model, X_test, y_real)\n",
    "    plt.grid(False)\n",
    "    plt.show()\n"
   ]
  },
  {
   "cell_type": "code",
   "execution_count": 84,
   "metadata": {
    "execution": {
     "iopub.execute_input": "2021-11-08T17:50:03.813757Z",
     "iopub.status.busy": "2021-11-08T17:50:03.813757Z",
     "iopub.status.idle": "2021-11-08T17:50:04.302755Z",
     "shell.execute_reply": "2021-11-08T17:50:04.301755Z",
     "shell.execute_reply.started": "2021-11-08T17:50:03.813757Z"
    }
   },
   "outputs": [],
   "source": [
    "df = pd.read_csv('data_files/text_processed.csv')\n",
    "df.drop(['Unnamed: 0'], axis=1, inplace=True)\n",
    "df_merged = pd.read_csv('data_files/text_processed.csv')\n",
    "df_merged.drop(['Unnamed: 0'], axis=1, inplace=True)"
   ]
  },
  {
   "cell_type": "code",
   "execution_count": 85,
   "metadata": {
    "execution": {
     "iopub.execute_input": "2021-11-08T17:50:04.304756Z",
     "iopub.status.busy": "2021-11-08T17:50:04.304756Z",
     "iopub.status.idle": "2021-11-08T17:50:04.334758Z",
     "shell.execute_reply": "2021-11-08T17:50:04.332762Z",
     "shell.execute_reply.started": "2021-11-08T17:50:04.304756Z"
    }
   },
   "outputs": [
    {
     "data": {
      "text/html": [
       "<div>\n",
       "<style scoped>\n",
       "    .dataframe tbody tr th:only-of-type {\n",
       "        vertical-align: middle;\n",
       "    }\n",
       "\n",
       "    .dataframe tbody tr th {\n",
       "        vertical-align: top;\n",
       "    }\n",
       "\n",
       "    .dataframe thead th {\n",
       "        text-align: right;\n",
       "    }\n",
       "</style>\n",
       "<table border=\"1\" class=\"dataframe\">\n",
       "  <thead>\n",
       "    <tr style=\"text-align: right;\">\n",
       "      <th></th>\n",
       "      <th>topic</th>\n",
       "      <th>text</th>\n",
       "    </tr>\n",
       "  </thead>\n",
       "  <tbody>\n",
       "    <tr>\n",
       "      <th>0</th>\n",
       "      <td>other</td>\n",
       "      <td>bahia cocoa review salvador feb shower continu...</td>\n",
       "    </tr>\n",
       "    <tr>\n",
       "      <th>1</th>\n",
       "      <td>blank</td>\n",
       "      <td>standard oil form financial unit cleveland feb...</td>\n",
       "    </tr>\n",
       "    <tr>\n",
       "      <th>2</th>\n",
       "      <td>blank</td>\n",
       "      <td>texas commerce bancshares file plan houston fe...</td>\n",
       "    </tr>\n",
       "    <tr>\n",
       "      <th>3</th>\n",
       "      <td>blank</td>\n",
       "      <td>talking equity offer janie gabbett reuters los...</td>\n",
       "    </tr>\n",
       "    <tr>\n",
       "      <th>4</th>\n",
       "      <td>other</td>\n",
       "      <td>national average price reserve washington feb ...</td>\n",
       "    </tr>\n",
       "  </tbody>\n",
       "</table>\n",
       "</div>"
      ],
      "text/plain": [
       "   topic                                               text\n",
       "0  other  bahia cocoa review salvador feb shower continu...\n",
       "1  blank  standard oil form financial unit cleveland feb...\n",
       "2  blank  texas commerce bancshares file plan houston fe...\n",
       "3  blank  talking equity offer janie gabbett reuters los...\n",
       "4  other  national average price reserve washington feb ..."
      ]
     },
     "execution_count": 85,
     "metadata": {},
     "output_type": "execute_result"
    }
   ],
   "source": [
    "df.head()"
   ]
  },
  {
   "cell_type": "code",
   "execution_count": 86,
   "metadata": {
    "execution": {
     "iopub.execute_input": "2021-11-08T17:50:04.337756Z",
     "iopub.status.busy": "2021-11-08T17:50:04.337756Z",
     "iopub.status.idle": "2021-11-08T17:50:04.350756Z",
     "shell.execute_reply": "2021-11-08T17:50:04.348755Z",
     "shell.execute_reply.started": "2021-11-08T17:50:04.337756Z"
    }
   },
   "outputs": [],
   "source": [
    "topic_dict = {'earn': 1, 'other': 2, 'blank': 3}\n",
    "topic_dict_merged = {'earn': 1, 'other': 2, 'blank': 2}"
   ]
  },
  {
   "cell_type": "code",
   "execution_count": 87,
   "metadata": {
    "execution": {
     "iopub.execute_input": "2021-11-08T17:50:04.353756Z",
     "iopub.status.busy": "2021-11-08T17:50:04.353756Z",
     "iopub.status.idle": "2021-11-08T17:50:04.445755Z",
     "shell.execute_reply": "2021-11-08T17:50:04.444755Z",
     "shell.execute_reply.started": "2021-11-08T17:50:04.353756Z"
    }
   },
   "outputs": [],
   "source": [
    "# for all three topics\n",
    "df.topic.replace(topic_dict, inplace=True)\n",
    "\n",
    "# for merging 'blank' and 'other'\n",
    "df_merged.topic.replace(topic_dict_merged, inplace=True)"
   ]
  },
  {
   "cell_type": "markdown",
   "metadata": {},
   "source": [
    "# Decision Tree - Main df"
   ]
  },
  {
   "cell_type": "markdown",
   "metadata": {},
   "source": [
    "## Train Test Split"
   ]
  },
  {
   "cell_type": "code",
   "execution_count": 91,
   "metadata": {
    "execution": {
     "iopub.execute_input": "2021-11-08T22:22:10.600483Z",
     "iopub.status.busy": "2021-11-08T22:22:10.595483Z",
     "iopub.status.idle": "2021-11-08T22:22:10.963486Z",
     "shell.execute_reply": "2021-11-08T22:22:10.962483Z",
     "shell.execute_reply.started": "2021-11-08T22:22:10.600483Z"
    }
   },
   "outputs": [],
   "source": [
    "X = df.drop(['topic'], axis=1)\n",
    "y = df['topic']\n",
    "\n",
    "X_train, X_test, y_train, y_test = train_test_split(X['text'], y, test_size=0.20, random_state=200)"
   ]
  },
  {
   "cell_type": "markdown",
   "metadata": {},
   "source": [
    "## Pipeline 1\n",
    "- get idea on what limiting TF-IDF does to performance\n",
    "- get idea on what max depth does to performance"
   ]
  },
  {
   "cell_type": "code",
   "execution_count": 92,
   "metadata": {
    "execution": {
     "iopub.execute_input": "2021-11-08T22:23:40.396175Z",
     "iopub.status.busy": "2021-11-08T22:23:40.396175Z",
     "iopub.status.idle": "2021-11-08T22:23:40.479179Z",
     "shell.execute_reply": "2021-11-08T22:23:40.474180Z",
     "shell.execute_reply.started": "2021-11-08T22:23:40.396175Z"
    }
   },
   "outputs": [],
   "source": [
    "dt1_pipeline = Pipeline([('tfidf', TfidfVectorizer()), \n",
    "                         ('dt', DecisionTreeClassifier(random_state=123))])"
   ]
  },
  {
   "cell_type": "code",
   "execution_count": 104,
   "metadata": {
    "execution": {
     "iopub.execute_input": "2021-11-08T22:36:09.655402Z",
     "iopub.status.busy": "2021-11-08T22:36:09.655402Z",
     "iopub.status.idle": "2021-11-08T22:36:09.669365Z",
     "shell.execute_reply": "2021-11-08T22:36:09.668364Z",
     "shell.execute_reply.started": "2021-11-08T22:36:09.655402Z"
    }
   },
   "outputs": [],
   "source": [
    "dt1_param_grid = {\n",
    "    'tfidf__ngram_range': [(1,1), (1,2)],\n",
    "    'tfidf__max_features': [5000, 10000], \n",
    "    'dt__max_depth': [4, 6, 10]\n",
    "}"
   ]
  },
  {
   "cell_type": "code",
   "execution_count": 105,
   "metadata": {
    "execution": {
     "iopub.execute_input": "2021-11-08T22:36:11.525363Z",
     "iopub.status.busy": "2021-11-08T22:36:11.525363Z",
     "iopub.status.idle": "2021-11-08T22:36:11.541365Z",
     "shell.execute_reply": "2021-11-08T22:36:11.540367Z",
     "shell.execute_reply.started": "2021-11-08T22:36:11.525363Z"
    }
   },
   "outputs": [],
   "source": [
    "dt1_grid_search = GridSearchCV(estimator=dt1_pipeline,\n",
    "                               param_grid=dt1_param_grid,\n",
    "                               scoring='recall_macro',\n",
    "                               cv=3)"
   ]
  },
  {
   "cell_type": "code",
   "execution_count": 106,
   "metadata": {
    "execution": {
     "iopub.execute_input": "2021-11-08T22:36:13.188364Z",
     "iopub.status.busy": "2021-11-08T22:36:13.187364Z",
     "iopub.status.idle": "2021-11-08T22:39:12.866431Z",
     "shell.execute_reply": "2021-11-08T22:39:12.864431Z",
     "shell.execute_reply.started": "2021-11-08T22:36:13.188364Z"
    }
   },
   "outputs": [
    {
     "data": {
      "text/plain": [
       "GridSearchCV(cv=3,\n",
       "             estimator=Pipeline(steps=[('tfidf', TfidfVectorizer()),\n",
       "                                       ('dt',\n",
       "                                        DecisionTreeClassifier(random_state=123))]),\n",
       "             param_grid={'dt__max_depth': [4, 6, 10],\n",
       "                         'tfidf__max_features': [5000, 10000],\n",
       "                         'tfidf__ngram_range': [(1, 1), (1, 2)]},\n",
       "             scoring='recall_macro')"
      ]
     },
     "execution_count": 106,
     "metadata": {},
     "output_type": "execute_result"
    }
   ],
   "source": [
    "dt1_grid_search.fit(X_train, y_train)"
   ]
  },
  {
   "cell_type": "code",
   "execution_count": 107,
   "metadata": {
    "execution": {
     "iopub.execute_input": "2021-11-08T22:39:12.870435Z",
     "iopub.status.busy": "2021-11-08T22:39:12.869428Z",
     "iopub.status.idle": "2021-11-08T22:39:12.882435Z",
     "shell.execute_reply": "2021-11-08T22:39:12.880433Z",
     "shell.execute_reply.started": "2021-11-08T22:39:12.870435Z"
    }
   },
   "outputs": [
    {
     "data": {
      "text/plain": [
       "{'dt__max_depth': 10,\n",
       " 'tfidf__max_features': 10000,\n",
       " 'tfidf__ngram_range': (1, 1)}"
      ]
     },
     "execution_count": 107,
     "metadata": {},
     "output_type": "execute_result"
    }
   ],
   "source": [
    "dt1_grid_search.best_params_"
   ]
  },
  {
   "cell_type": "markdown",
   "metadata": {
    "execution": {
     "iopub.execute_input": "2021-11-08T23:15:07.223293Z",
     "iopub.status.busy": "2021-11-08T23:15:07.222290Z",
     "iopub.status.idle": "2021-11-08T23:15:07.238286Z",
     "shell.execute_reply": "2021-11-08T23:15:07.237286Z",
     "shell.execute_reply.started": "2021-11-08T23:15:07.223293Z"
    }
   },
   "source": [
    "## Pipeline 2"
   ]
  },
  {
   "cell_type": "code",
   "execution_count": 109,
   "metadata": {
    "execution": {
     "iopub.execute_input": "2021-11-08T22:41:27.261252Z",
     "iopub.status.busy": "2021-11-08T22:41:27.261252Z",
     "iopub.status.idle": "2021-11-08T22:41:27.281252Z",
     "shell.execute_reply": "2021-11-08T22:41:27.280252Z",
     "shell.execute_reply.started": "2021-11-08T22:41:27.261252Z"
    }
   },
   "outputs": [],
   "source": [
    "dt2_pipeline = Pipeline([('tfidf', TfidfVectorizer()), \n",
    "                         ('dt', DecisionTreeClassifier(random_state=123))])\n",
    "\n",
    "\n",
    "dt2_param_grid = {\n",
    "    'tfidf__ngram_range': [(1,1)],\n",
    "    'tfidf__max_features': [10000, 15000], \n",
    "    'dt__max_depth': [10, 15]\n",
    "}"
   ]
  },
  {
   "cell_type": "code",
   "execution_count": 110,
   "metadata": {
    "execution": {
     "iopub.execute_input": "2021-11-08T22:41:43.067925Z",
     "iopub.status.busy": "2021-11-08T22:41:43.067925Z",
     "iopub.status.idle": "2021-11-08T22:41:43.080923Z",
     "shell.execute_reply": "2021-11-08T22:41:43.078923Z",
     "shell.execute_reply.started": "2021-11-08T22:41:43.067925Z"
    }
   },
   "outputs": [],
   "source": [
    "dt2_grid_search = GridSearchCV(estimator=dt2_pipeline,\n",
    "                               param_grid=dt2_param_grid,\n",
    "                               scoring='recall_macro',\n",
    "                               cv=3)"
   ]
  },
  {
   "cell_type": "code",
   "execution_count": 111,
   "metadata": {
    "execution": {
     "iopub.execute_input": "2021-11-08T22:42:12.528367Z",
     "iopub.status.busy": "2021-11-08T22:42:12.528367Z",
     "iopub.status.idle": "2021-11-08T22:43:01.658366Z",
     "shell.execute_reply": "2021-11-08T22:43:01.656368Z",
     "shell.execute_reply.started": "2021-11-08T22:42:12.528367Z"
    }
   },
   "outputs": [
    {
     "data": {
      "text/plain": [
       "{'dt__max_depth': 15,\n",
       " 'tfidf__max_features': 10000,\n",
       " 'tfidf__ngram_range': (1, 1)}"
      ]
     },
     "execution_count": 111,
     "metadata": {},
     "output_type": "execute_result"
    }
   ],
   "source": [
    "dt2_grid_search.fit(X_train, y_train)\n",
    "dt2_grid_search.best_params_"
   ]
  },
  {
   "cell_type": "markdown",
   "metadata": {
    "execution": {
     "iopub.execute_input": "2021-11-08T23:15:26.697791Z",
     "iopub.status.busy": "2021-11-08T23:15:26.697791Z",
     "iopub.status.idle": "2021-11-08T23:15:26.714792Z",
     "shell.execute_reply": "2021-11-08T23:15:26.713789Z",
     "shell.execute_reply.started": "2021-11-08T23:15:26.697791Z"
    }
   },
   "source": [
    "## Pipeline 3"
   ]
  },
  {
   "cell_type": "code",
   "execution_count": 115,
   "metadata": {
    "execution": {
     "iopub.execute_input": "2021-11-08T22:48:10.514507Z",
     "iopub.status.busy": "2021-11-08T22:48:10.514507Z",
     "iopub.status.idle": "2021-11-08T22:48:10.545508Z",
     "shell.execute_reply": "2021-11-08T22:48:10.544549Z",
     "shell.execute_reply.started": "2021-11-08T22:48:10.514507Z"
    }
   },
   "outputs": [],
   "source": [
    "dt3_pipeline = Pipeline([('tfidf', TfidfVectorizer()), \n",
    "                         ('dt', DecisionTreeClassifier(random_state=123))])\n",
    "\n",
    "\n",
    "dt3_param_grid = {\n",
    "    'tfidf__ngram_range': [(1,1)],\n",
    "    'tfidf__max_features': [10000], \n",
    "    'dt__max_depth': [15, None]\n",
    "}"
   ]
  },
  {
   "cell_type": "code",
   "execution_count": 116,
   "metadata": {
    "execution": {
     "iopub.execute_input": "2021-11-08T22:48:11.384512Z",
     "iopub.status.busy": "2021-11-08T22:48:11.383508Z",
     "iopub.status.idle": "2021-11-08T22:49:14.660507Z",
     "shell.execute_reply": "2021-11-08T22:49:14.659509Z",
     "shell.execute_reply.started": "2021-11-08T22:48:11.384512Z"
    }
   },
   "outputs": [
    {
     "data": {
      "text/plain": [
       "{'dt__max_depth': None,\n",
       " 'tfidf__max_features': 10000,\n",
       " 'tfidf__ngram_range': (1, 1)}"
      ]
     },
     "execution_count": 116,
     "metadata": {},
     "output_type": "execute_result"
    }
   ],
   "source": [
    "dt3_grid_search = GridSearchCV(estimator=dt3_pipeline,\n",
    "                               param_grid=dt3_param_grid,\n",
    "                               scoring='recall_macro',\n",
    "                               cv=3)\n",
    "\n",
    "dt3_grid_search.fit(X_train, y_train)\n",
    "dt3_grid_search.best_params_"
   ]
  },
  {
   "cell_type": "markdown",
   "metadata": {},
   "source": [
    "Now let me try these parameters on the actual dataset "
   ]
  },
  {
   "cell_type": "code",
   "execution_count": 118,
   "metadata": {
    "execution": {
     "iopub.execute_input": "2021-11-08T22:55:04.862402Z",
     "iopub.status.busy": "2021-11-08T22:55:04.861404Z",
     "iopub.status.idle": "2021-11-08T22:55:20.992400Z",
     "shell.execute_reply": "2021-11-08T22:55:20.990403Z",
     "shell.execute_reply.started": "2021-11-08T22:55:04.862402Z"
    }
   },
   "outputs": [
    {
     "data": {
      "text/plain": [
       "DecisionTreeClassifier()"
      ]
     },
     "execution_count": 118,
     "metadata": {},
     "output_type": "execute_result"
    }
   ],
   "source": [
    "vectorizer = TfidfVectorizer(ngram_range=(1,1), max_features=10000)\n",
    "vect_X_train = vectorizer.fit_transform(X_train)\n",
    "vect_X_test = vectorizer.transform(X_test)\n",
    "\n",
    "dtree = DecisionTreeClassifier(max_depth=None)\n",
    "dtree.fit(vect_X_train, y_train)"
   ]
  },
  {
   "cell_type": "code",
   "execution_count": 132,
   "metadata": {
    "execution": {
     "iopub.execute_input": "2021-11-08T23:13:03.974916Z",
     "iopub.status.busy": "2021-11-08T23:13:03.973920Z",
     "iopub.status.idle": "2021-11-08T23:13:22.691914Z",
     "shell.execute_reply": "2021-11-08T23:13:22.690916Z",
     "shell.execute_reply.started": "2021-11-08T23:13:03.974916Z"
    }
   },
   "outputs": [
    {
     "name": "stdout",
     "output_type": "stream",
     "text": [
      "TRAINING - Classification Report\n",
      "Accuracy: 99.8%\n",
      "Precision: 99.8%\n",
      "Recall: 99.9%\n",
      "F1: 99.8%\n",
      "              precision    recall  f1-score   support\n",
      "\n",
      "           1       1.00      1.00      1.00      3448\n",
      "           2       1.00      1.00      1.00      6236\n",
      "           3       1.00      1.00      1.00      8715\n",
      "\n",
      "    accuracy                           1.00     18399\n",
      "   macro avg       1.00      1.00      1.00     18399\n",
      "weighted avg       1.00      1.00      1.00     18399\n",
      "\n",
      "TESTING - Classification Report\n",
      "Accuracy: 83.2%\n",
      "Precision: 84.0%\n",
      "Recall: 84.5%\n",
      "F1: 84.2%\n",
      "              precision    recall  f1-score   support\n",
      "\n",
      "           1       0.88      0.90      0.89       808\n",
      "           2       0.79      0.82      0.80      1582\n",
      "           3       0.84      0.82      0.83      2210\n",
      "\n",
      "    accuracy                           0.83      4600\n",
      "   macro avg       0.84      0.85      0.84      4600\n",
      "weighted avg       0.83      0.83      0.83      4600\n",
      "\n"
     ]
    },
    {
     "data": {
      "image/png": "[encoded data removed]",
      "text/plain": [
       "<Figure size 1080x360 with 4 Axes>"
      ]
     },
     "metadata": {
      "needs_background": "light"
     },
     "output_type": "display_data"
    }
   ],
   "source": [
    "run_model(dtree, vect_X_train, y_train, vect_X_test, y_test, 3)"
   ]
  },
  {
   "cell_type": "markdown",
   "metadata": {},
   "source": [
    "Good scores, but problem with overfitting. 10 point difference in recall 'earn' parameter"
   ]
  },
  {
   "cell_type": "markdown",
   "metadata": {},
   "source": [
    "# Decision Tree - Merged DF"
   ]
  },
  {
   "cell_type": "code",
   "execution_count": 135,
   "metadata": {
    "execution": {
     "iopub.execute_input": "2021-11-08T23:17:18.870213Z",
     "iopub.status.busy": "2021-11-08T23:17:18.869214Z",
     "iopub.status.idle": "2021-11-08T23:17:19.247215Z",
     "shell.execute_reply": "2021-11-08T23:17:19.245211Z",
     "shell.execute_reply.started": "2021-11-08T23:17:18.870213Z"
    }
   },
   "outputs": [],
   "source": [
    "X = df_merged.drop(['topic'], axis=1)\n",
    "y = df_merged['topic']\n",
    "\n",
    "X_train, X_test, y_train, y_test = train_test_split(X['text'], y, test_size=0.20, random_state=200)"
   ]
  },
  {
   "cell_type": "code",
   "execution_count": 136,
   "metadata": {
    "execution": {
     "iopub.execute_input": "2021-11-08T23:17:42.008369Z",
     "iopub.status.busy": "2021-11-08T23:17:42.008369Z",
     "iopub.status.idle": "2021-11-08T23:17:55.145333Z",
     "shell.execute_reply": "2021-11-08T23:17:55.143334Z",
     "shell.execute_reply.started": "2021-11-08T23:17:42.008369Z"
    }
   },
   "outputs": [
    {
     "data": {
      "text/plain": [
       "DecisionTreeClassifier()"
      ]
     },
     "execution_count": 136,
     "metadata": {},
     "output_type": "execute_result"
    }
   ],
   "source": [
    "vectorizer = TfidfVectorizer(ngram_range=(1,1), max_features=10000)\n",
    "vect_X_train = vectorizer.fit_transform(X_train)\n",
    "vect_X_test = vectorizer.transform(X_test)\n",
    "\n",
    "dtree = DecisionTreeClassifier(max_depth=None)\n",
    "dtree.fit(vect_X_train, y_train)"
   ]
  },
  {
   "cell_type": "code",
   "execution_count": 137,
   "metadata": {
    "execution": {
     "iopub.execute_input": "2021-11-08T23:17:57.253268Z",
     "iopub.status.busy": "2021-11-08T23:17:57.252271Z",
     "iopub.status.idle": "2021-11-08T23:18:10.958270Z",
     "shell.execute_reply": "2021-11-08T23:18:10.957269Z",
     "shell.execute_reply.started": "2021-11-08T23:17:57.253268Z"
    }
   },
   "outputs": [
    {
     "name": "stdout",
     "output_type": "stream",
     "text": [
      "TRAINING - Classification Report\n",
      "Accuracy: 100.0%\n",
      "Precision: 99.9%\n",
      "Recall: 100.0%\n",
      "F1: 99.9%\n",
      "              precision    recall  f1-score   support\n",
      "\n",
      "           1       1.00      1.00      1.00      3448\n",
      "           2       1.00      1.00      1.00     14951\n",
      "\n",
      "    accuracy                           1.00     18399\n",
      "   macro avg       1.00      1.00      1.00     18399\n",
      "weighted avg       1.00      1.00      1.00     18399\n",
      "\n",
      "TESTING - Classification Report\n",
      "Accuracy: 96.0%\n",
      "Precision: 93.2%\n",
      "Recall: 92.8%\n",
      "F1: 93.0%\n",
      "              precision    recall  f1-score   support\n",
      "\n",
      "           1       0.89      0.88      0.88       808\n",
      "           2       0.97      0.98      0.98      3792\n",
      "\n",
      "    accuracy                           0.96      4600\n",
      "   macro avg       0.93      0.93      0.93      4600\n",
      "weighted avg       0.96      0.96      0.96      4600\n",
      "\n"
     ]
    },
    {
     "data": {
      "image/png": "[encoded data removed]",
      "text/plain": [
       "<Figure size 1080x360 with 4 Axes>"
      ]
     },
     "metadata": {
      "needs_background": "light"
     },
     "output_type": "display_data"
    }
   ],
   "source": [
    "run_model(dtree, vect_X_train, y_train, vect_X_test, y_test, 2)"
   ]
  },
  {
   "cell_type": "markdown",
   "metadata": {},
   "source": [
    "Similar results, but the overfitting problem is a tad worse with the merged df."
   ]
  },
  {
   "cell_type": "code",
   "execution_count": null,
   "metadata": {},
   "outputs": [],
   "source": []
  }
 ],
 "metadata": {
  "kernelspec": {
   "display_name": "Python 3",
   "language": "python",
   "name": "python3"
  },
  "language_info": {
   "codemirror_mode": {
    "name": "ipython",
    "version": 3
   },
   "file_extension": ".py",
   "mimetype": "text/x-python",
   "name": "python",
   "nbconvert_exporter": "python",
   "pygments_lexer": "ipython3",
   "version": "3.6.9"
  }
 },
 "nbformat": 4,
 "nbformat_minor": 4
}
