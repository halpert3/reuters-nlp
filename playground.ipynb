{
 "cells": [
  {
   "cell_type": "code",
   "execution_count": 20,
   "metadata": {
    "execution": {
     "iopub.execute_input": "2021-10-30T20:39:59.423234Z",
     "iopub.status.busy": "2021-10-30T20:39:59.423234Z",
     "iopub.status.idle": "2021-10-30T20:39:59.440229Z",
     "shell.execute_reply": "2021-10-30T20:39:59.439228Z",
     "shell.execute_reply.started": "2021-10-30T20:39:59.423234Z"
    }
   },
   "outputs": [],
   "source": [
    "import pandas as pd"
   ]
  },
  {
   "cell_type": "code",
   "execution_count": 21,
   "metadata": {
    "execution": {
     "iopub.execute_input": "2021-10-30T20:39:59.442232Z",
     "iopub.status.busy": "2021-10-30T20:39:59.442232Z",
     "iopub.status.idle": "2021-10-30T20:39:59.471231Z",
     "shell.execute_reply": "2021-10-30T20:39:59.470231Z",
     "shell.execute_reply.started": "2021-10-30T20:39:59.442232Z"
    }
   },
   "outputs": [
    {
     "data": {
      "text/html": [
       "<div>\n",
       "<style scoped>\n",
       "    .dataframe tbody tr th:only-of-type {\n",
       "        vertical-align: middle;\n",
       "    }\n",
       "\n",
       "    .dataframe tbody tr th {\n",
       "        vertical-align: top;\n",
       "    }\n",
       "\n",
       "    .dataframe thead th {\n",
       "        text-align: right;\n",
       "    }\n",
       "</style>\n",
       "<table border=\"1\" class=\"dataframe\">\n",
       "  <thead>\n",
       "    <tr style=\"text-align: right;\">\n",
       "      <th></th>\n",
       "      <th>letters</th>\n",
       "      <th>numbers</th>\n",
       "    </tr>\n",
       "  </thead>\n",
       "  <tbody>\n",
       "  </tbody>\n",
       "</table>\n",
       "</div>"
      ],
      "text/plain": [
       "Empty DataFrame\n",
       "Columns: [letters, numbers]\n",
       "Index: []"
      ]
     },
     "execution_count": 21,
     "metadata": {},
     "output_type": "execute_result"
    }
   ],
   "source": [
    "df = pd.DataFrame(columns=['letters', 'numbers'])\n",
    "df"
   ]
  },
  {
   "cell_type": "code",
   "execution_count": 22,
   "metadata": {
    "execution": {
     "iopub.execute_input": "2021-10-30T20:39:59.475234Z",
     "iopub.status.busy": "2021-10-30T20:39:59.474234Z",
     "iopub.status.idle": "2021-10-30T20:39:59.505228Z",
     "shell.execute_reply": "2021-10-30T20:39:59.502231Z",
     "shell.execute_reply.started": "2021-10-30T20:39:59.475234Z"
    }
   },
   "outputs": [
    {
     "data": {
      "text/html": [
       "<div>\n",
       "<style scoped>\n",
       "    .dataframe tbody tr th:only-of-type {\n",
       "        vertical-align: middle;\n",
       "    }\n",
       "\n",
       "    .dataframe tbody tr th {\n",
       "        vertical-align: top;\n",
       "    }\n",
       "\n",
       "    .dataframe thead th {\n",
       "        text-align: right;\n",
       "    }\n",
       "</style>\n",
       "<table border=\"1\" class=\"dataframe\">\n",
       "  <thead>\n",
       "    <tr style=\"text-align: right;\">\n",
       "      <th></th>\n",
       "      <th>letters</th>\n",
       "      <th>numbers</th>\n",
       "    </tr>\n",
       "  </thead>\n",
       "  <tbody>\n",
       "    <tr>\n",
       "      <th>0</th>\n",
       "      <td>z</td>\n",
       "      <td>100</td>\n",
       "    </tr>\n",
       "  </tbody>\n",
       "</table>\n",
       "</div>"
      ],
      "text/plain": [
       "  letters numbers\n",
       "0       z     100"
      ]
     },
     "execution_count": 22,
     "metadata": {},
     "output_type": "execute_result"
    }
   ],
   "source": [
    "new_series = pd.Series(['z', 100], index=df.columns)\n",
    "df = df.append(new_series, ignore_index=True)\n",
    "df"
   ]
  },
  {
   "cell_type": "code",
   "execution_count": 23,
   "metadata": {
    "execution": {
     "iopub.execute_input": "2021-10-30T20:39:59.513232Z",
     "iopub.status.busy": "2021-10-30T20:39:59.511232Z",
     "iopub.status.idle": "2021-10-30T20:39:59.551232Z",
     "shell.execute_reply": "2021-10-30T20:39:59.550230Z",
     "shell.execute_reply.started": "2021-10-30T20:39:59.513232Z"
    }
   },
   "outputs": [],
   "source": [
    "letters = ['a', 'b', 'c', 'd', 'e']\n",
    "numbers = [1, 2, 3, 4, 5]"
   ]
  },
  {
   "cell_type": "code",
   "execution_count": 24,
   "metadata": {
    "execution": {
     "iopub.execute_input": "2021-10-30T20:39:59.555233Z",
     "iopub.status.busy": "2021-10-30T20:39:59.554232Z",
     "iopub.status.idle": "2021-10-30T20:39:59.647234Z",
     "shell.execute_reply": "2021-10-30T20:39:59.646232Z",
     "shell.execute_reply.started": "2021-10-30T20:39:59.555233Z"
    }
   },
   "outputs": [
    {
     "data": {
      "text/html": [
       "<div>\n",
       "<style scoped>\n",
       "    .dataframe tbody tr th:only-of-type {\n",
       "        vertical-align: middle;\n",
       "    }\n",
       "\n",
       "    .dataframe tbody tr th {\n",
       "        vertical-align: top;\n",
       "    }\n",
       "\n",
       "    .dataframe thead th {\n",
       "        text-align: right;\n",
       "    }\n",
       "</style>\n",
       "<table border=\"1\" class=\"dataframe\">\n",
       "  <thead>\n",
       "    <tr style=\"text-align: right;\">\n",
       "      <th></th>\n",
       "      <th>letters</th>\n",
       "      <th>numbers</th>\n",
       "    </tr>\n",
       "  </thead>\n",
       "  <tbody>\n",
       "    <tr>\n",
       "      <th>0</th>\n",
       "      <td>z</td>\n",
       "      <td>100</td>\n",
       "    </tr>\n",
       "    <tr>\n",
       "      <th>1</th>\n",
       "      <td>a</td>\n",
       "      <td>1</td>\n",
       "    </tr>\n",
       "    <tr>\n",
       "      <th>2</th>\n",
       "      <td>b</td>\n",
       "      <td>2</td>\n",
       "    </tr>\n",
       "    <tr>\n",
       "      <th>3</th>\n",
       "      <td>c</td>\n",
       "      <td>3</td>\n",
       "    </tr>\n",
       "    <tr>\n",
       "      <th>4</th>\n",
       "      <td>d</td>\n",
       "      <td>4</td>\n",
       "    </tr>\n",
       "    <tr>\n",
       "      <th>5</th>\n",
       "      <td>e</td>\n",
       "      <td>5</td>\n",
       "    </tr>\n",
       "  </tbody>\n",
       "</table>\n",
       "</div>"
      ],
      "text/plain": [
       "  letters numbers\n",
       "0       z     100\n",
       "1       a       1\n",
       "2       b       2\n",
       "3       c       3\n",
       "4       d       4\n",
       "5       e       5"
      ]
     },
     "execution_count": 24,
     "metadata": {},
     "output_type": "execute_result"
    }
   ],
   "source": [
    "for i, letter in enumerate(letters):\n",
    "    new_row = pd.Series([letters[i], numbers[i]], index=df.columns)\n",
    "    df = df.append(new_row, ignore_index=True)\n",
    "df"
   ]
  },
  {
   "cell_type": "code",
   "execution_count": 25,
   "metadata": {
    "execution": {
     "iopub.execute_input": "2021-10-30T21:21:20.056043Z",
     "iopub.status.busy": "2021-10-30T21:21:20.049045Z",
     "iopub.status.idle": "2021-10-30T21:21:20.133048Z",
     "shell.execute_reply": "2021-10-30T21:21:20.130045Z",
     "shell.execute_reply.started": "2021-10-30T21:21:20.055042Z"
    }
   },
   "outputs": [],
   "source": [
    "df = pd.DataFrame(columns=['letters', 'numbers'])"
   ]
  },
  {
   "cell_type": "code",
   "execution_count": 26,
   "metadata": {
    "execution": {
     "iopub.execute_input": "2021-10-30T21:22:18.496361Z",
     "iopub.status.busy": "2021-10-30T21:22:18.495362Z",
     "iopub.status.idle": "2021-10-30T21:22:18.529360Z",
     "shell.execute_reply": "2021-10-30T21:22:18.528358Z",
     "shell.execute_reply.started": "2021-10-30T21:22:18.496361Z"
    }
   },
   "outputs": [],
   "source": [
    "def add_to_df(topics, texts, df):\n",
    "    for i, topic in enumerate(topics):\n",
    "        new_row = pd.Series([topics[i], texts[i]], index=df.columns)\n",
    "        df = df.append(new_row, ignore_index=True)\n",
    "    return df"
   ]
  },
  {
   "cell_type": "code",
   "execution_count": 27,
   "metadata": {
    "execution": {
     "iopub.execute_input": "2021-10-30T21:22:35.308447Z",
     "iopub.status.busy": "2021-10-30T21:22:35.307447Z",
     "iopub.status.idle": "2021-10-30T21:22:35.363448Z",
     "shell.execute_reply": "2021-10-30T21:22:35.362445Z",
     "shell.execute_reply.started": "2021-10-30T21:22:35.308447Z"
    }
   },
   "outputs": [
    {
     "data": {
      "text/html": [
       "<div>\n",
       "<style scoped>\n",
       "    .dataframe tbody tr th:only-of-type {\n",
       "        vertical-align: middle;\n",
       "    }\n",
       "\n",
       "    .dataframe tbody tr th {\n",
       "        vertical-align: top;\n",
       "    }\n",
       "\n",
       "    .dataframe thead th {\n",
       "        text-align: right;\n",
       "    }\n",
       "</style>\n",
       "<table border=\"1\" class=\"dataframe\">\n",
       "  <thead>\n",
       "    <tr style=\"text-align: right;\">\n",
       "      <th></th>\n",
       "      <th>letters</th>\n",
       "      <th>numbers</th>\n",
       "    </tr>\n",
       "  </thead>\n",
       "  <tbody>\n",
       "    <tr>\n",
       "      <th>0</th>\n",
       "      <td>a</td>\n",
       "      <td>1</td>\n",
       "    </tr>\n",
       "    <tr>\n",
       "      <th>1</th>\n",
       "      <td>b</td>\n",
       "      <td>2</td>\n",
       "    </tr>\n",
       "    <tr>\n",
       "      <th>2</th>\n",
       "      <td>c</td>\n",
       "      <td>3</td>\n",
       "    </tr>\n",
       "    <tr>\n",
       "      <th>3</th>\n",
       "      <td>d</td>\n",
       "      <td>4</td>\n",
       "    </tr>\n",
       "    <tr>\n",
       "      <th>4</th>\n",
       "      <td>e</td>\n",
       "      <td>5</td>\n",
       "    </tr>\n",
       "  </tbody>\n",
       "</table>\n",
       "</div>"
      ],
      "text/plain": [
       "  letters numbers\n",
       "0       a       1\n",
       "1       b       2\n",
       "2       c       3\n",
       "3       d       4\n",
       "4       e       5"
      ]
     },
     "execution_count": 27,
     "metadata": {},
     "output_type": "execute_result"
    }
   ],
   "source": [
    "add_to_df(letters, numbers, df)"
   ]
  },
  {
   "cell_type": "code",
   "execution_count": 7,
   "metadata": {
    "execution": {
     "iopub.execute_input": "2021-11-01T21:33:00.652347Z",
     "iopub.status.busy": "2021-11-01T21:33:00.652347Z",
     "iopub.status.idle": "2021-11-01T21:33:00.663348Z",
     "shell.execute_reply": "2021-11-01T21:33:00.661345Z",
     "shell.execute_reply.started": "2021-11-01T21:33:00.652347Z"
    }
   },
   "outputs": [],
   "source": [
    "sample = [1, 3]"
   ]
  },
  {
   "cell_type": "code",
   "execution_count": 8,
   "metadata": {
    "execution": {
     "iopub.execute_input": "2021-11-01T21:33:05.705462Z",
     "iopub.status.busy": "2021-11-01T21:33:05.704461Z",
     "iopub.status.idle": "2021-11-01T21:33:05.723463Z",
     "shell.execute_reply": "2021-11-01T21:33:05.722460Z",
     "shell.execute_reply.started": "2021-11-01T21:33:05.705462Z"
    }
   },
   "outputs": [],
   "source": [
    "sample.append(2)"
   ]
  },
  {
   "cell_type": "code",
   "execution_count": 9,
   "metadata": {
    "execution": {
     "iopub.execute_input": "2021-11-01T21:33:06.133149Z",
     "iopub.status.busy": "2021-11-01T21:33:06.132147Z",
     "iopub.status.idle": "2021-11-01T21:33:06.155145Z",
     "shell.execute_reply": "2021-11-01T21:33:06.153145Z",
     "shell.execute_reply.started": "2021-11-01T21:33:06.133149Z"
    }
   },
   "outputs": [
    {
     "data": {
      "text/plain": [
       "[1, 3, 2]"
      ]
     },
     "execution_count": 9,
     "metadata": {},
     "output_type": "execute_result"
    }
   ],
   "source": [
    "sample"
   ]
  },
  {
   "cell_type": "code",
   "execution_count": null,
   "metadata": {},
   "outputs": [],
   "source": []
  }
 ],
 "metadata": {
  "kernelspec": {
   "display_name": "Python 3",
   "language": "python",
   "name": "python3"
  },
  "language_info": {
   "codemirror_mode": {
    "name": "ipython",
    "version": 3
   },
   "file_extension": ".py",
   "mimetype": "text/x-python",
   "name": "python",
   "nbconvert_exporter": "python",
   "pygments_lexer": "ipython3",
   "version": "3.6.9"
  }
 },
 "nbformat": 4,
 "nbformat_minor": 4
}
