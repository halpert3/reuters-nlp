{
 "cells": [
  {
   "cell_type": "code",
   "execution_count": 22,
   "metadata": {
    "execution": {
     "iopub.execute_input": "2021-11-05T02:22:35.855105Z",
     "iopub.status.busy": "2021-11-05T02:22:35.855105Z",
     "iopub.status.idle": "2021-11-05T02:22:37.384101Z",
     "shell.execute_reply": "2021-11-05T02:22:37.383100Z",
     "shell.execute_reply.started": "2021-11-05T02:22:35.855105Z"
    }
   },
   "outputs": [],
   "source": [
    "import pandas as pd"
   ]
  },
  {
   "cell_type": "code",
   "execution_count": 23,
   "metadata": {
    "execution": {
     "iopub.execute_input": "2021-11-05T02:22:37.386102Z",
     "iopub.status.busy": "2021-11-05T02:22:37.385102Z",
     "iopub.status.idle": "2021-11-05T02:22:37.433102Z",
     "shell.execute_reply": "2021-11-05T02:22:37.431103Z",
     "shell.execute_reply.started": "2021-11-05T02:22:37.386102Z"
    }
   },
   "outputs": [
    {
     "data": {
      "text/html": [
       "<div>\n",
       "<style scoped>\n",
       "    .dataframe tbody tr th:only-of-type {\n",
       "        vertical-align: middle;\n",
       "    }\n",
       "\n",
       "    .dataframe tbody tr th {\n",
       "        vertical-align: top;\n",
       "    }\n",
       "\n",
       "    .dataframe thead th {\n",
       "        text-align: right;\n",
       "    }\n",
       "</style>\n",
       "<table border=\"1\" class=\"dataframe\">\n",
       "  <thead>\n",
       "    <tr style=\"text-align: right;\">\n",
       "      <th></th>\n",
       "      <th>letters</th>\n",
       "      <th>numbers</th>\n",
       "    </tr>\n",
       "  </thead>\n",
       "  <tbody>\n",
       "  </tbody>\n",
       "</table>\n",
       "</div>"
      ],
      "text/plain": [
       "Empty DataFrame\n",
       "Columns: [letters, numbers]\n",
       "Index: []"
      ]
     },
     "execution_count": 23,
     "metadata": {},
     "output_type": "execute_result"
    }
   ],
   "source": [
    "df = pd.DataFrame(columns=['letters', 'numbers'])\n",
    "df"
   ]
  },
  {
   "cell_type": "code",
   "execution_count": 24,
   "metadata": {
    "execution": {
     "iopub.execute_input": "2021-11-05T02:22:37.436102Z",
     "iopub.status.busy": "2021-11-05T02:22:37.436102Z",
     "iopub.status.idle": "2021-11-05T02:22:37.480109Z",
     "shell.execute_reply": "2021-11-05T02:22:37.478105Z",
     "shell.execute_reply.started": "2021-11-05T02:22:37.436102Z"
    }
   },
   "outputs": [
    {
     "data": {
      "text/html": [
       "<div>\n",
       "<style scoped>\n",
       "    .dataframe tbody tr th:only-of-type {\n",
       "        vertical-align: middle;\n",
       "    }\n",
       "\n",
       "    .dataframe tbody tr th {\n",
       "        vertical-align: top;\n",
       "    }\n",
       "\n",
       "    .dataframe thead th {\n",
       "        text-align: right;\n",
       "    }\n",
       "</style>\n",
       "<table border=\"1\" class=\"dataframe\">\n",
       "  <thead>\n",
       "    <tr style=\"text-align: right;\">\n",
       "      <th></th>\n",
       "      <th>letters</th>\n",
       "      <th>numbers</th>\n",
       "    </tr>\n",
       "  </thead>\n",
       "  <tbody>\n",
       "    <tr>\n",
       "      <th>0</th>\n",
       "      <td>z</td>\n",
       "      <td>100</td>\n",
       "    </tr>\n",
       "  </tbody>\n",
       "</table>\n",
       "</div>"
      ],
      "text/plain": [
       "  letters numbers\n",
       "0       z     100"
      ]
     },
     "execution_count": 24,
     "metadata": {},
     "output_type": "execute_result"
    }
   ],
   "source": [
    "new_series = pd.Series(['z', 100], index=df.columns)\n",
    "df = df.append(new_series, ignore_index=True)\n",
    "df"
   ]
  },
  {
   "cell_type": "code",
   "execution_count": 25,
   "metadata": {
    "execution": {
     "iopub.execute_input": "2021-11-05T02:22:37.489109Z",
     "iopub.status.busy": "2021-11-05T02:22:37.484109Z",
     "iopub.status.idle": "2021-11-05T02:22:37.511103Z",
     "shell.execute_reply": "2021-11-05T02:22:37.509104Z",
     "shell.execute_reply.started": "2021-11-05T02:22:37.489109Z"
    }
   },
   "outputs": [],
   "source": [
    "letters = ['a', 'b', 'c', 'd', 'e']\n",
    "numbers = [1, 2, 3, 4, 5]"
   ]
  },
  {
   "cell_type": "code",
   "execution_count": 26,
   "metadata": {
    "execution": {
     "iopub.execute_input": "2021-11-05T02:22:37.515114Z",
     "iopub.status.busy": "2021-11-05T02:22:37.513107Z",
     "iopub.status.idle": "2021-11-05T02:22:37.591106Z",
     "shell.execute_reply": "2021-11-05T02:22:37.589106Z",
     "shell.execute_reply.started": "2021-11-05T02:22:37.515114Z"
    }
   },
   "outputs": [
    {
     "data": {
      "text/html": [
       "<div>\n",
       "<style scoped>\n",
       "    .dataframe tbody tr th:only-of-type {\n",
       "        vertical-align: middle;\n",
       "    }\n",
       "\n",
       "    .dataframe tbody tr th {\n",
       "        vertical-align: top;\n",
       "    }\n",
       "\n",
       "    .dataframe thead th {\n",
       "        text-align: right;\n",
       "    }\n",
       "</style>\n",
       "<table border=\"1\" class=\"dataframe\">\n",
       "  <thead>\n",
       "    <tr style=\"text-align: right;\">\n",
       "      <th></th>\n",
       "      <th>letters</th>\n",
       "      <th>numbers</th>\n",
       "    </tr>\n",
       "  </thead>\n",
       "  <tbody>\n",
       "    <tr>\n",
       "      <th>0</th>\n",
       "      <td>z</td>\n",
       "      <td>100</td>\n",
       "    </tr>\n",
       "    <tr>\n",
       "      <th>1</th>\n",
       "      <td>a</td>\n",
       "      <td>1</td>\n",
       "    </tr>\n",
       "    <tr>\n",
       "      <th>2</th>\n",
       "      <td>b</td>\n",
       "      <td>2</td>\n",
       "    </tr>\n",
       "    <tr>\n",
       "      <th>3</th>\n",
       "      <td>c</td>\n",
       "      <td>3</td>\n",
       "    </tr>\n",
       "    <tr>\n",
       "      <th>4</th>\n",
       "      <td>d</td>\n",
       "      <td>4</td>\n",
       "    </tr>\n",
       "    <tr>\n",
       "      <th>5</th>\n",
       "      <td>e</td>\n",
       "      <td>5</td>\n",
       "    </tr>\n",
       "  </tbody>\n",
       "</table>\n",
       "</div>"
      ],
      "text/plain": [
       "  letters numbers\n",
       "0       z     100\n",
       "1       a       1\n",
       "2       b       2\n",
       "3       c       3\n",
       "4       d       4\n",
       "5       e       5"
      ]
     },
     "execution_count": 26,
     "metadata": {},
     "output_type": "execute_result"
    }
   ],
   "source": [
    "for i, letter in enumerate(letters):\n",
    "    new_row = pd.Series([letters[i], numbers[i]], index=df.columns)\n",
    "    df = df.append(new_row, ignore_index=True)\n",
    "df"
   ]
  },
  {
   "cell_type": "code",
   "execution_count": 27,
   "metadata": {
    "execution": {
     "iopub.execute_input": "2021-11-05T02:22:37.595106Z",
     "iopub.status.busy": "2021-11-05T02:22:37.595106Z",
     "iopub.status.idle": "2021-11-05T02:22:37.623107Z",
     "shell.execute_reply": "2021-11-05T02:22:37.621113Z",
     "shell.execute_reply.started": "2021-11-05T02:22:37.595106Z"
    }
   },
   "outputs": [],
   "source": [
    "df = pd.DataFrame(columns=['letters', 'numbers'])"
   ]
  },
  {
   "cell_type": "code",
   "execution_count": 28,
   "metadata": {
    "execution": {
     "iopub.execute_input": "2021-11-05T02:22:37.627105Z",
     "iopub.status.busy": "2021-11-05T02:22:37.626107Z",
     "iopub.status.idle": "2021-11-05T02:22:37.641106Z",
     "shell.execute_reply": "2021-11-05T02:22:37.637120Z",
     "shell.execute_reply.started": "2021-11-05T02:22:37.627105Z"
    }
   },
   "outputs": [],
   "source": [
    "def add_to_df(topics, texts, df):\n",
    "    for i, topic in enumerate(topics):\n",
    "        new_row = pd.Series([topics[i], texts[i]], index=df.columns)\n",
    "        df = df.append(new_row, ignore_index=True)\n",
    "    return df"
   ]
  },
  {
   "cell_type": "code",
   "execution_count": 29,
   "metadata": {
    "execution": {
     "iopub.execute_input": "2021-11-05T02:22:37.647113Z",
     "iopub.status.busy": "2021-11-05T02:22:37.646105Z",
     "iopub.status.idle": "2021-11-05T02:22:37.718109Z",
     "shell.execute_reply": "2021-11-05T02:22:37.716107Z",
     "shell.execute_reply.started": "2021-11-05T02:22:37.646105Z"
    }
   },
   "outputs": [
    {
     "data": {
      "text/html": [
       "<div>\n",
       "<style scoped>\n",
       "    .dataframe tbody tr th:only-of-type {\n",
       "        vertical-align: middle;\n",
       "    }\n",
       "\n",
       "    .dataframe tbody tr th {\n",
       "        vertical-align: top;\n",
       "    }\n",
       "\n",
       "    .dataframe thead th {\n",
       "        text-align: right;\n",
       "    }\n",
       "</style>\n",
       "<table border=\"1\" class=\"dataframe\">\n",
       "  <thead>\n",
       "    <tr style=\"text-align: right;\">\n",
       "      <th></th>\n",
       "      <th>letters</th>\n",
       "      <th>numbers</th>\n",
       "    </tr>\n",
       "  </thead>\n",
       "  <tbody>\n",
       "    <tr>\n",
       "      <th>0</th>\n",
       "      <td>a</td>\n",
       "      <td>1</td>\n",
       "    </tr>\n",
       "    <tr>\n",
       "      <th>1</th>\n",
       "      <td>b</td>\n",
       "      <td>2</td>\n",
       "    </tr>\n",
       "    <tr>\n",
       "      <th>2</th>\n",
       "      <td>c</td>\n",
       "      <td>3</td>\n",
       "    </tr>\n",
       "    <tr>\n",
       "      <th>3</th>\n",
       "      <td>d</td>\n",
       "      <td>4</td>\n",
       "    </tr>\n",
       "    <tr>\n",
       "      <th>4</th>\n",
       "      <td>e</td>\n",
       "      <td>5</td>\n",
       "    </tr>\n",
       "  </tbody>\n",
       "</table>\n",
       "</div>"
      ],
      "text/plain": [
       "  letters numbers\n",
       "0       a       1\n",
       "1       b       2\n",
       "2       c       3\n",
       "3       d       4\n",
       "4       e       5"
      ]
     },
     "execution_count": 29,
     "metadata": {},
     "output_type": "execute_result"
    }
   ],
   "source": [
    "add_to_df(letters, numbers, df)"
   ]
  },
  {
   "cell_type": "code",
   "execution_count": 30,
   "metadata": {
    "execution": {
     "iopub.execute_input": "2021-11-05T02:22:37.723111Z",
     "iopub.status.busy": "2021-11-05T02:22:37.722108Z",
     "iopub.status.idle": "2021-11-05T02:22:37.735108Z",
     "shell.execute_reply": "2021-11-05T02:22:37.732105Z",
     "shell.execute_reply.started": "2021-11-05T02:22:37.723111Z"
    }
   },
   "outputs": [],
   "source": [
    "sample = [1, 3]"
   ]
  },
  {
   "cell_type": "code",
   "execution_count": 31,
   "metadata": {
    "execution": {
     "iopub.execute_input": "2021-11-05T02:22:37.740108Z",
     "iopub.status.busy": "2021-11-05T02:22:37.738119Z",
     "iopub.status.idle": "2021-11-05T02:22:37.765106Z",
     "shell.execute_reply": "2021-11-05T02:22:37.763107Z",
     "shell.execute_reply.started": "2021-11-05T02:22:37.739117Z"
    }
   },
   "outputs": [],
   "source": [
    "sample.append(2)"
   ]
  },
  {
   "cell_type": "code",
   "execution_count": 32,
   "metadata": {
    "execution": {
     "iopub.execute_input": "2021-11-05T02:22:37.769103Z",
     "iopub.status.busy": "2021-11-05T02:22:37.768106Z",
     "iopub.status.idle": "2021-11-05T02:22:37.797108Z",
     "shell.execute_reply": "2021-11-05T02:22:37.794105Z",
     "shell.execute_reply.started": "2021-11-05T02:22:37.769103Z"
    }
   },
   "outputs": [
    {
     "data": {
      "text/plain": [
       "[1, 3, 2]"
      ]
     },
     "execution_count": 32,
     "metadata": {},
     "output_type": "execute_result"
    }
   ],
   "source": [
    "sample"
   ]
  },
  {
   "cell_type": "code",
   "execution_count": 33,
   "metadata": {
    "execution": {
     "iopub.execute_input": "2021-11-05T02:22:37.801114Z",
     "iopub.status.busy": "2021-11-05T02:22:37.799109Z",
     "iopub.status.idle": "2021-11-05T02:22:37.812113Z",
     "shell.execute_reply": "2021-11-05T02:22:37.809111Z",
     "shell.execute_reply.started": "2021-11-05T02:22:37.801114Z"
    }
   },
   "outputs": [],
   "source": [
    "import nltk\n",
    "from nltk.corpus import stopwords\n",
    "from nltk import word_tokenize, FreqDist\n",
    "import re"
   ]
  },
  {
   "cell_type": "code",
   "execution_count": 34,
   "metadata": {
    "execution": {
     "iopub.execute_input": "2021-11-05T02:22:37.815107Z",
     "iopub.status.busy": "2021-11-05T02:22:37.815107Z",
     "iopub.status.idle": "2021-11-05T02:22:37.858108Z",
     "shell.execute_reply": "2021-11-05T02:22:37.856106Z",
     "shell.execute_reply.started": "2021-11-05T02:22:37.815107Z"
    }
   },
   "outputs": [
    {
     "data": {
      "text/plain": [
       "['hello', '<', 'CH', '>', ',', 'goodbye', '<', 'SH', '>']"
      ]
     },
     "execution_count": 34,
     "metadata": {},
     "output_type": "execute_result"
    }
   ],
   "source": [
    "string = 'hello <CH>, goodbye <SH>'\n",
    "word_tokenize(string)"
   ]
  },
  {
   "cell_type": "code",
   "execution_count": 35,
   "metadata": {
    "execution": {
     "iopub.execute_input": "2021-11-05T02:22:37.861109Z",
     "iopub.status.busy": "2021-11-05T02:22:37.860105Z",
     "iopub.status.idle": "2021-11-05T02:22:37.891105Z",
     "shell.execute_reply": "2021-11-05T02:22:37.888103Z",
     "shell.execute_reply.started": "2021-11-05T02:22:37.861109Z"
    }
   },
   "outputs": [
    {
     "data": {
      "text/plain": [
       "['<CH>', '<SH>']"
      ]
     },
     "execution_count": 35,
     "metadata": {},
     "output_type": "execute_result"
    }
   ],
   "source": [
    "re.findall(\"\\<\\w+>\", string)"
   ]
  },
  {
   "cell_type": "code",
   "execution_count": 37,
   "metadata": {
    "execution": {
     "iopub.execute_input": "2021-11-05T02:22:37.928105Z",
     "iopub.status.busy": "2021-11-05T02:22:37.926105Z",
     "iopub.status.idle": "2021-11-05T02:22:37.955107Z",
     "shell.execute_reply": "2021-11-05T02:22:37.951105Z",
     "shell.execute_reply.started": "2021-11-05T02:22:37.928105Z"
    }
   },
   "outputs": [
    {
     "data": {
      "text/plain": [
       "['hello', '<CH>,', 'goodbye', '<SH>']"
      ]
     },
     "execution_count": 37,
     "metadata": {},
     "output_type": "execute_result"
    }
   ],
   "source": [
    "string.split()"
   ]
  },
  {
   "cell_type": "code",
   "execution_count": 49,
   "metadata": {
    "execution": {
     "iopub.execute_input": "2021-11-05T02:28:32.273869Z",
     "iopub.status.busy": "2021-11-05T02:28:32.273869Z",
     "iopub.status.idle": "2021-11-05T02:28:32.290872Z",
     "shell.execute_reply": "2021-11-05T02:28:32.288866Z",
     "shell.execute_reply.started": "2021-11-05T02:28:32.273869Z"
    }
   },
   "outputs": [],
   "source": [
    "def reserve_tickers(string):\n",
    "    tickers = re.findall(\"\\<\\w+>\", string)\n",
    "    split_string = string.split()\n",
    "\n",
    "    for element in split_string:\n",
    "        if element in tickers:\n",
    "            print(element)\n",
    "            split_string.remove(element)\n",
    "    \n",
    "    return tickers, split_string"
   ]
  },
  {
   "cell_type": "code",
   "execution_count": 50,
   "metadata": {
    "execution": {
     "iopub.execute_input": "2021-11-05T02:28:33.151872Z",
     "iopub.status.busy": "2021-11-05T02:28:33.150872Z",
     "iopub.status.idle": "2021-11-05T02:28:33.174869Z",
     "shell.execute_reply": "2021-11-05T02:28:33.173872Z",
     "shell.execute_reply.started": "2021-11-05T02:28:33.151872Z"
    }
   },
   "outputs": [
    {
     "name": "stdout",
     "output_type": "stream",
     "text": [
      "<SH>\n"
     ]
    },
    {
     "data": {
      "text/plain": [
       "(['<CH>', '<SH>'], ['hello', '<CH>,', 'goodbye'])"
      ]
     },
     "execution_count": 50,
     "metadata": {},
     "output_type": "execute_result"
    }
   ],
   "source": [
    "reserve_tickers(string)"
   ]
  },
  {
   "cell_type": "code",
   "execution_count": 44,
   "metadata": {
    "execution": {
     "iopub.execute_input": "2021-11-05T02:27:00.783570Z",
     "iopub.status.busy": "2021-11-05T02:27:00.783570Z",
     "iopub.status.idle": "2021-11-05T02:27:00.797571Z",
     "shell.execute_reply": "2021-11-05T02:27:00.796572Z",
     "shell.execute_reply.started": "2021-11-05T02:27:00.783570Z"
    }
   },
   "outputs": [
    {
     "name": "stdout",
     "output_type": "stream",
     "text": [
      "['c']\n"
     ]
    }
   ],
   "source": [
    "list_1 = [\"a\", \"b\"]\n",
    "list_2 = [\"a\", \"b\", \"c\"]\n",
    "\n",
    "for element in list_1:\n",
    "    if element in list_2:\n",
    "        list_2.remove(element)\n",
    "\n",
    "print(list_2)"
   ]
  }
 ],
 "metadata": {
  "kernelspec": {
   "display_name": "Python 3",
   "language": "python",
   "name": "python3"
  },
  "language_info": {
   "codemirror_mode": {
    "name": "ipython",
    "version": 3
   },
   "file_extension": ".py",
   "mimetype": "text/x-python",
   "name": "python",
   "nbconvert_exporter": "python",
   "pygments_lexer": "ipython3",
   "version": "3.6.9"
  }
 },
 "nbformat": 4,
 "nbformat_minor": 4
}
