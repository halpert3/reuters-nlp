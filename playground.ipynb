{
 "cells": [
  {
   "cell_type": "code",
   "execution_count": 41,
   "metadata": {
    "execution": {
     "iopub.execute_input": "2021-11-05T21:29:26.829410Z",
     "iopub.status.busy": "2021-11-05T21:29:26.829410Z",
     "iopub.status.idle": "2021-11-05T21:29:26.838409Z",
     "shell.execute_reply": "2021-11-05T21:29:26.837408Z",
     "shell.execute_reply.started": "2021-11-05T21:29:26.829410Z"
    }
   },
   "outputs": [],
   "source": [
    "import pandas as pd\n",
    "import nltk\n",
    "from nltk.corpus import stopwords\n",
    "from nltk import word_tokenize, FreqDist\n",
    "from nltk.stem.wordnet import WordNetLemmatizer\n",
    "import string"
   ]
  },
  {
   "cell_type": "code",
   "execution_count": 2,
   "metadata": {
    "execution": {
     "iopub.execute_input": "2021-11-05T20:38:29.270209Z",
     "iopub.status.busy": "2021-11-05T20:38:29.269208Z",
     "iopub.status.idle": "2021-11-05T20:38:29.332208Z",
     "shell.execute_reply": "2021-11-05T20:38:29.330203Z",
     "shell.execute_reply.started": "2021-11-05T20:38:29.270209Z"
    }
   },
   "outputs": [
    {
     "data": {
      "text/html": [
       "<div>\n",
       "<style scoped>\n",
       "    .dataframe tbody tr th:only-of-type {\n",
       "        vertical-align: middle;\n",
       "    }\n",
       "\n",
       "    .dataframe tbody tr th {\n",
       "        vertical-align: top;\n",
       "    }\n",
       "\n",
       "    .dataframe thead th {\n",
       "        text-align: right;\n",
       "    }\n",
       "</style>\n",
       "<table border=\"1\" class=\"dataframe\">\n",
       "  <thead>\n",
       "    <tr style=\"text-align: right;\">\n",
       "      <th></th>\n",
       "      <th>letters</th>\n",
       "      <th>numbers</th>\n",
       "    </tr>\n",
       "  </thead>\n",
       "  <tbody>\n",
       "  </tbody>\n",
       "</table>\n",
       "</div>"
      ],
      "text/plain": [
       "Empty DataFrame\n",
       "Columns: [letters, numbers]\n",
       "Index: []"
      ]
     },
     "execution_count": 2,
     "metadata": {},
     "output_type": "execute_result"
    }
   ],
   "source": [
    "df = pd.DataFrame(columns=['letters', 'numbers'])\n",
    "df"
   ]
  },
  {
   "cell_type": "code",
   "execution_count": 3,
   "metadata": {
    "execution": {
     "iopub.execute_input": "2021-11-05T20:38:29.335205Z",
     "iopub.status.busy": "2021-11-05T20:38:29.334204Z",
     "iopub.status.idle": "2021-11-05T20:38:29.368207Z",
     "shell.execute_reply": "2021-11-05T20:38:29.362208Z",
     "shell.execute_reply.started": "2021-11-05T20:38:29.335205Z"
    }
   },
   "outputs": [
    {
     "data": {
      "text/html": [
       "<div>\n",
       "<style scoped>\n",
       "    .dataframe tbody tr th:only-of-type {\n",
       "        vertical-align: middle;\n",
       "    }\n",
       "\n",
       "    .dataframe tbody tr th {\n",
       "        vertical-align: top;\n",
       "    }\n",
       "\n",
       "    .dataframe thead th {\n",
       "        text-align: right;\n",
       "    }\n",
       "</style>\n",
       "<table border=\"1\" class=\"dataframe\">\n",
       "  <thead>\n",
       "    <tr style=\"text-align: right;\">\n",
       "      <th></th>\n",
       "      <th>letters</th>\n",
       "      <th>numbers</th>\n",
       "    </tr>\n",
       "  </thead>\n",
       "  <tbody>\n",
       "    <tr>\n",
       "      <th>0</th>\n",
       "      <td>z</td>\n",
       "      <td>100</td>\n",
       "    </tr>\n",
       "  </tbody>\n",
       "</table>\n",
       "</div>"
      ],
      "text/plain": [
       "  letters numbers\n",
       "0       z     100"
      ]
     },
     "execution_count": 3,
     "metadata": {},
     "output_type": "execute_result"
    }
   ],
   "source": [
    "new_series = pd.Series(['z', 100], index=df.columns)\n",
    "df = df.append(new_series, ignore_index=True)\n",
    "df"
   ]
  },
  {
   "cell_type": "code",
   "execution_count": 4,
   "metadata": {
    "execution": {
     "iopub.execute_input": "2021-11-05T20:38:29.372208Z",
     "iopub.status.busy": "2021-11-05T20:38:29.371207Z",
     "iopub.status.idle": "2021-11-05T20:38:29.412205Z",
     "shell.execute_reply": "2021-11-05T20:38:29.410213Z",
     "shell.execute_reply.started": "2021-11-05T20:38:29.372208Z"
    }
   },
   "outputs": [],
   "source": [
    "letters = ['a', 'b', 'c', 'd', 'e']\n",
    "numbers = [1, 2, 3, 4, 5]"
   ]
  },
  {
   "cell_type": "code",
   "execution_count": 5,
   "metadata": {
    "execution": {
     "iopub.execute_input": "2021-11-05T20:38:29.415209Z",
     "iopub.status.busy": "2021-11-05T20:38:29.414206Z",
     "iopub.status.idle": "2021-11-05T20:38:29.491206Z",
     "shell.execute_reply": "2021-11-05T20:38:29.489208Z",
     "shell.execute_reply.started": "2021-11-05T20:38:29.415209Z"
    }
   },
   "outputs": [
    {
     "data": {
      "text/html": [
       "<div>\n",
       "<style scoped>\n",
       "    .dataframe tbody tr th:only-of-type {\n",
       "        vertical-align: middle;\n",
       "    }\n",
       "\n",
       "    .dataframe tbody tr th {\n",
       "        vertical-align: top;\n",
       "    }\n",
       "\n",
       "    .dataframe thead th {\n",
       "        text-align: right;\n",
       "    }\n",
       "</style>\n",
       "<table border=\"1\" class=\"dataframe\">\n",
       "  <thead>\n",
       "    <tr style=\"text-align: right;\">\n",
       "      <th></th>\n",
       "      <th>letters</th>\n",
       "      <th>numbers</th>\n",
       "    </tr>\n",
       "  </thead>\n",
       "  <tbody>\n",
       "    <tr>\n",
       "      <th>0</th>\n",
       "      <td>z</td>\n",
       "      <td>100</td>\n",
       "    </tr>\n",
       "    <tr>\n",
       "      <th>1</th>\n",
       "      <td>a</td>\n",
       "      <td>1</td>\n",
       "    </tr>\n",
       "    <tr>\n",
       "      <th>2</th>\n",
       "      <td>b</td>\n",
       "      <td>2</td>\n",
       "    </tr>\n",
       "    <tr>\n",
       "      <th>3</th>\n",
       "      <td>c</td>\n",
       "      <td>3</td>\n",
       "    </tr>\n",
       "    <tr>\n",
       "      <th>4</th>\n",
       "      <td>d</td>\n",
       "      <td>4</td>\n",
       "    </tr>\n",
       "    <tr>\n",
       "      <th>5</th>\n",
       "      <td>e</td>\n",
       "      <td>5</td>\n",
       "    </tr>\n",
       "  </tbody>\n",
       "</table>\n",
       "</div>"
      ],
      "text/plain": [
       "  letters numbers\n",
       "0       z     100\n",
       "1       a       1\n",
       "2       b       2\n",
       "3       c       3\n",
       "4       d       4\n",
       "5       e       5"
      ]
     },
     "execution_count": 5,
     "metadata": {},
     "output_type": "execute_result"
    }
   ],
   "source": [
    "for i, letter in enumerate(letters):\n",
    "    new_row = pd.Series([letters[i], numbers[i]], index=df.columns)\n",
    "    df = df.append(new_row, ignore_index=True)\n",
    "df"
   ]
  },
  {
   "cell_type": "code",
   "execution_count": 6,
   "metadata": {
    "execution": {
     "iopub.execute_input": "2021-11-05T20:38:29.495216Z",
     "iopub.status.busy": "2021-11-05T20:38:29.494220Z",
     "iopub.status.idle": "2021-11-05T20:38:29.524212Z",
     "shell.execute_reply": "2021-11-05T20:38:29.520205Z",
     "shell.execute_reply.started": "2021-11-05T20:38:29.495216Z"
    }
   },
   "outputs": [],
   "source": [
    "df = pd.DataFrame(columns=['letters', 'numbers'])"
   ]
  },
  {
   "cell_type": "code",
   "execution_count": 7,
   "metadata": {
    "execution": {
     "iopub.execute_input": "2021-11-05T20:38:29.534210Z",
     "iopub.status.busy": "2021-11-05T20:38:29.533206Z",
     "iopub.status.idle": "2021-11-05T20:38:29.569212Z",
     "shell.execute_reply": "2021-11-05T20:38:29.567204Z",
     "shell.execute_reply.started": "2021-11-05T20:38:29.534210Z"
    }
   },
   "outputs": [],
   "source": [
    "def add_to_df(topics, texts, df):\n",
    "    for i, topic in enumerate(topics):\n",
    "        new_row = pd.Series([topics[i], texts[i]], index=df.columns)\n",
    "        df = df.append(new_row, ignore_index=True)\n",
    "    return df"
   ]
  },
  {
   "cell_type": "code",
   "execution_count": 8,
   "metadata": {
    "execution": {
     "iopub.execute_input": "2021-11-05T20:38:29.577207Z",
     "iopub.status.busy": "2021-11-05T20:38:29.575208Z",
     "iopub.status.idle": "2021-11-05T20:38:29.650218Z",
     "shell.execute_reply": "2021-11-05T20:38:29.647206Z",
     "shell.execute_reply.started": "2021-11-05T20:38:29.577207Z"
    }
   },
   "outputs": [
    {
     "data": {
      "text/html": [
       "<div>\n",
       "<style scoped>\n",
       "    .dataframe tbody tr th:only-of-type {\n",
       "        vertical-align: middle;\n",
       "    }\n",
       "\n",
       "    .dataframe tbody tr th {\n",
       "        vertical-align: top;\n",
       "    }\n",
       "\n",
       "    .dataframe thead th {\n",
       "        text-align: right;\n",
       "    }\n",
       "</style>\n",
       "<table border=\"1\" class=\"dataframe\">\n",
       "  <thead>\n",
       "    <tr style=\"text-align: right;\">\n",
       "      <th></th>\n",
       "      <th>letters</th>\n",
       "      <th>numbers</th>\n",
       "    </tr>\n",
       "  </thead>\n",
       "  <tbody>\n",
       "    <tr>\n",
       "      <th>0</th>\n",
       "      <td>a</td>\n",
       "      <td>1</td>\n",
       "    </tr>\n",
       "    <tr>\n",
       "      <th>1</th>\n",
       "      <td>b</td>\n",
       "      <td>2</td>\n",
       "    </tr>\n",
       "    <tr>\n",
       "      <th>2</th>\n",
       "      <td>c</td>\n",
       "      <td>3</td>\n",
       "    </tr>\n",
       "    <tr>\n",
       "      <th>3</th>\n",
       "      <td>d</td>\n",
       "      <td>4</td>\n",
       "    </tr>\n",
       "    <tr>\n",
       "      <th>4</th>\n",
       "      <td>e</td>\n",
       "      <td>5</td>\n",
       "    </tr>\n",
       "  </tbody>\n",
       "</table>\n",
       "</div>"
      ],
      "text/plain": [
       "  letters numbers\n",
       "0       a       1\n",
       "1       b       2\n",
       "2       c       3\n",
       "3       d       4\n",
       "4       e       5"
      ]
     },
     "execution_count": 8,
     "metadata": {},
     "output_type": "execute_result"
    }
   ],
   "source": [
    "add_to_df(letters, numbers, df)"
   ]
  },
  {
   "cell_type": "code",
   "execution_count": 9,
   "metadata": {
    "execution": {
     "iopub.execute_input": "2021-11-05T20:38:29.655206Z",
     "iopub.status.busy": "2021-11-05T20:38:29.654206Z",
     "iopub.status.idle": "2021-11-05T20:38:29.681208Z",
     "shell.execute_reply": "2021-11-05T20:38:29.679207Z",
     "shell.execute_reply.started": "2021-11-05T20:38:29.655206Z"
    }
   },
   "outputs": [],
   "source": [
    "sample = [1, 3]"
   ]
  },
  {
   "cell_type": "code",
   "execution_count": 10,
   "metadata": {
    "execution": {
     "iopub.execute_input": "2021-11-05T20:38:29.685205Z",
     "iopub.status.busy": "2021-11-05T20:38:29.684207Z",
     "iopub.status.idle": "2021-11-05T20:38:29.727208Z",
     "shell.execute_reply": "2021-11-05T20:38:29.726205Z",
     "shell.execute_reply.started": "2021-11-05T20:38:29.685205Z"
    }
   },
   "outputs": [],
   "source": [
    "sample.append(2)"
   ]
  },
  {
   "cell_type": "code",
   "execution_count": 11,
   "metadata": {
    "execution": {
     "iopub.execute_input": "2021-11-05T20:38:29.730206Z",
     "iopub.status.busy": "2021-11-05T20:38:29.729206Z",
     "iopub.status.idle": "2021-11-05T20:38:29.759207Z",
     "shell.execute_reply": "2021-11-05T20:38:29.757207Z",
     "shell.execute_reply.started": "2021-11-05T20:38:29.730206Z"
    }
   },
   "outputs": [
    {
     "data": {
      "text/plain": [
       "[1, 3, 2]"
      ]
     },
     "execution_count": 11,
     "metadata": {},
     "output_type": "execute_result"
    }
   ],
   "source": [
    "sample"
   ]
  },
  {
   "cell_type": "code",
   "execution_count": 12,
   "metadata": {
    "execution": {
     "iopub.execute_input": "2021-11-05T20:38:29.764206Z",
     "iopub.status.busy": "2021-11-05T20:38:29.763208Z",
     "iopub.status.idle": "2021-11-05T20:38:38.497803Z",
     "shell.execute_reply": "2021-11-05T20:38:38.496804Z",
     "shell.execute_reply.started": "2021-11-05T20:38:29.764206Z"
    }
   },
   "outputs": [],
   "source": [
    "import nltk\n",
    "from nltk.corpus import stopwords\n",
    "from nltk import word_tokenize, FreqDist\n",
    "import re"
   ]
  },
  {
   "cell_type": "code",
   "execution_count": 13,
   "metadata": {
    "execution": {
     "iopub.execute_input": "2021-11-05T20:38:38.500775Z",
     "iopub.status.busy": "2021-11-05T20:38:38.499776Z",
     "iopub.status.idle": "2021-11-05T20:38:38.560773Z",
     "shell.execute_reply": "2021-11-05T20:38:38.559772Z",
     "shell.execute_reply.started": "2021-11-05T20:38:38.500775Z"
    }
   },
   "outputs": [
    {
     "data": {
      "text/plain": [
       "['hello', '<', 'CH', '>', ',', 'goodbye', '<', 'SH', '>']"
      ]
     },
     "execution_count": 13,
     "metadata": {},
     "output_type": "execute_result"
    }
   ],
   "source": [
    "string = 'hello <CH>, goodbye <SH>'\n",
    "word_tokenize(string)"
   ]
  },
  {
   "cell_type": "code",
   "execution_count": 14,
   "metadata": {
    "execution": {
     "iopub.execute_input": "2021-11-05T20:38:38.563775Z",
     "iopub.status.busy": "2021-11-05T20:38:38.562771Z",
     "iopub.status.idle": "2021-11-05T20:38:38.576770Z",
     "shell.execute_reply": "2021-11-05T20:38:38.575770Z",
     "shell.execute_reply.started": "2021-11-05T20:38:38.563775Z"
    }
   },
   "outputs": [
    {
     "data": {
      "text/plain": [
       "['<CH>', '<SH>']"
      ]
     },
     "execution_count": 14,
     "metadata": {},
     "output_type": "execute_result"
    }
   ],
   "source": [
    "re.findall(\"\\<\\w+>\", string)"
   ]
  },
  {
   "cell_type": "code",
   "execution_count": 19,
   "metadata": {
    "execution": {
     "iopub.execute_input": "2021-11-05T20:42:02.921368Z",
     "iopub.status.busy": "2021-11-05T20:42:02.920365Z",
     "iopub.status.idle": "2021-11-05T20:42:02.927363Z",
     "shell.execute_reply": "2021-11-05T20:42:02.926365Z",
     "shell.execute_reply.started": "2021-11-05T20:42:02.921368Z"
    }
   },
   "outputs": [
    {
     "data": {
      "text/plain": [
       "'hello , goodbye '"
      ]
     },
     "execution_count": 19,
     "metadata": {},
     "output_type": "execute_result"
    }
   ],
   "source": [
    "re.sub(\"\\<\\w+>\", \"\", string)"
   ]
  },
  {
   "cell_type": "code",
   "execution_count": 15,
   "metadata": {
    "execution": {
     "iopub.execute_input": "2021-11-05T20:38:38.584776Z",
     "iopub.status.busy": "2021-11-05T20:38:38.578772Z",
     "iopub.status.idle": "2021-11-05T20:38:38.608774Z",
     "shell.execute_reply": "2021-11-05T20:38:38.606770Z",
     "shell.execute_reply.started": "2021-11-05T20:38:38.584776Z"
    }
   },
   "outputs": [
    {
     "data": {
      "text/plain": [
       "['hello', '<CH>,', 'goodbye', '<SH>']"
      ]
     },
     "execution_count": 15,
     "metadata": {},
     "output_type": "execute_result"
    }
   ],
   "source": [
    "string.split()"
   ]
  },
  {
   "cell_type": "code",
   "execution_count": 16,
   "metadata": {
    "execution": {
     "iopub.execute_input": "2021-11-05T20:38:38.612770Z",
     "iopub.status.busy": "2021-11-05T20:38:38.611772Z",
     "iopub.status.idle": "2021-11-05T20:38:38.623774Z",
     "shell.execute_reply": "2021-11-05T20:38:38.622775Z",
     "shell.execute_reply.started": "2021-11-05T20:38:38.612770Z"
    }
   },
   "outputs": [],
   "source": [
    "def reserve_tickers(string):\n",
    "    tickers = re.findall(\"\\<\\w+>\", string)\n",
    "    split_string = string.split()\n",
    "\n",
    "    for element in split_string:\n",
    "        if element in tickers:\n",
    "            print(element)\n",
    "            split_string.remove(element)\n",
    "    \n",
    "    return tickers, split_string"
   ]
  },
  {
   "cell_type": "code",
   "execution_count": 17,
   "metadata": {
    "execution": {
     "iopub.execute_input": "2021-11-05T20:38:38.627772Z",
     "iopub.status.busy": "2021-11-05T20:38:38.626772Z",
     "iopub.status.idle": "2021-11-05T20:38:38.656772Z",
     "shell.execute_reply": "2021-11-05T20:38:38.654783Z",
     "shell.execute_reply.started": "2021-11-05T20:38:38.627772Z"
    }
   },
   "outputs": [
    {
     "name": "stdout",
     "output_type": "stream",
     "text": [
      "<SH>\n"
     ]
    },
    {
     "data": {
      "text/plain": [
       "(['<CH>', '<SH>'], ['hello', '<CH>,', 'goodbye'])"
      ]
     },
     "execution_count": 17,
     "metadata": {},
     "output_type": "execute_result"
    }
   ],
   "source": [
    "reserve_tickers(string)"
   ]
  },
  {
   "cell_type": "code",
   "execution_count": 18,
   "metadata": {
    "execution": {
     "iopub.execute_input": "2021-11-05T20:38:38.661773Z",
     "iopub.status.busy": "2021-11-05T20:38:38.660773Z",
     "iopub.status.idle": "2021-11-05T20:38:38.691770Z",
     "shell.execute_reply": "2021-11-05T20:38:38.686772Z",
     "shell.execute_reply.started": "2021-11-05T20:38:38.661773Z"
    }
   },
   "outputs": [
    {
     "name": "stdout",
     "output_type": "stream",
     "text": [
      "['c']\n"
     ]
    }
   ],
   "source": [
    "list_1 = [\"a\", \"b\"]\n",
    "list_2 = [\"a\", \"b\", \"c\"]\n",
    "\n",
    "for element in list_1:\n",
    "    if element in list_2:\n",
    "        list_2.remove(element)\n",
    "\n",
    "print(list_2)"
   ]
  },
  {
   "cell_type": "code",
   "execution_count": 20,
   "metadata": {
    "execution": {
     "iopub.execute_input": "2021-11-05T20:43:03.717445Z",
     "iopub.status.busy": "2021-11-05T20:43:03.716439Z",
     "iopub.status.idle": "2021-11-05T20:43:03.727439Z",
     "shell.execute_reply": "2021-11-05T20:43:03.726439Z",
     "shell.execute_reply.started": "2021-11-05T20:43:03.717445Z"
    }
   },
   "outputs": [],
   "source": [
    "string = 'hello <CH>, goodbye <SH>'"
   ]
  },
  {
   "cell_type": "code",
   "execution_count": 27,
   "metadata": {
    "execution": {
     "iopub.execute_input": "2021-11-05T20:44:40.670734Z",
     "iopub.status.busy": "2021-11-05T20:44:40.670734Z",
     "iopub.status.idle": "2021-11-05T20:44:40.683730Z",
     "shell.execute_reply": "2021-11-05T20:44:40.682729Z",
     "shell.execute_reply.started": "2021-11-05T20:44:40.670734Z"
    }
   },
   "outputs": [],
   "source": [
    "def reserve_tickers(string):\n",
    "    tickers = re.findall(\"\\<\\w+>\", string)\n",
    "    string = re.sub(\"\\<\\w+>\", \"\", string)\n",
    "    \n",
    "    return tickers, string"
   ]
  },
  {
   "cell_type": "code",
   "execution_count": 28,
   "metadata": {
    "execution": {
     "iopub.execute_input": "2021-11-05T20:44:41.438732Z",
     "iopub.status.busy": "2021-11-05T20:44:41.438732Z",
     "iopub.status.idle": "2021-11-05T20:44:41.446729Z",
     "shell.execute_reply": "2021-11-05T20:44:41.445734Z",
     "shell.execute_reply.started": "2021-11-05T20:44:41.438732Z"
    }
   },
   "outputs": [],
   "source": [
    "tick, new_str = reserve_tickers(string)"
   ]
  },
  {
   "cell_type": "code",
   "execution_count": 29,
   "metadata": {
    "execution": {
     "iopub.execute_input": "2021-11-05T20:44:41.922732Z",
     "iopub.status.busy": "2021-11-05T20:44:41.922732Z",
     "iopub.status.idle": "2021-11-05T20:44:41.938729Z",
     "shell.execute_reply": "2021-11-05T20:44:41.937727Z",
     "shell.execute_reply.started": "2021-11-05T20:44:41.922732Z"
    }
   },
   "outputs": [
    {
     "data": {
      "text/plain": [
       "'hello , goodbye '"
      ]
     },
     "execution_count": 29,
     "metadata": {},
     "output_type": "execute_result"
    }
   ],
   "source": [
    "new_str"
   ]
  },
  {
   "cell_type": "code",
   "execution_count": 47,
   "metadata": {
    "execution": {
     "iopub.execute_input": "2021-11-05T21:32:12.208757Z",
     "iopub.status.busy": "2021-11-05T21:32:12.208757Z",
     "iopub.status.idle": "2021-11-05T21:32:12.219755Z",
     "shell.execute_reply": "2021-11-05T21:32:12.218760Z",
     "shell.execute_reply.started": "2021-11-05T21:32:12.208757Z"
    }
   },
   "outputs": [],
   "source": [
    "def process_text(text):\n",
    "    \n",
    "    stopwords_list = stopwords.words('english') + list(string.punctuation)\n",
    "    stopwords_list.append('...')\n",
    "    \n",
    "    tickers, text = reserve_tickers(text)\n",
    "    print(tickers)\n",
    "    \n",
    "    tokens = nltk.word_tokenize(text)\n",
    "    stopwords_removed = [token.lower() for token in tokens if token.lower() not in stopwords_list]\n",
    "    \n",
    "    # adding line to remove all tokens with numbers and punctuation\n",
    "    stopwords_punc_and_numbers_removed = [word for word in stopwords_removed if word.isalpha()]\n",
    "    \n",
    "    return stopwords_punc_and_numbers_removed + tickers\n"
   ]
  },
  {
   "cell_type": "code",
   "execution_count": 31,
   "metadata": {
    "execution": {
     "iopub.execute_input": "2021-11-05T21:25:44.842481Z",
     "iopub.status.busy": "2021-11-05T21:25:44.829482Z",
     "iopub.status.idle": "2021-11-05T21:25:45.695485Z",
     "shell.execute_reply": "2021-11-05T21:25:45.693485Z",
     "shell.execute_reply.started": "2021-11-05T21:25:44.842481Z"
    }
   },
   "outputs": [],
   "source": [
    "df = pd.read_csv('data_files/topics_and_text.csv')"
   ]
  },
  {
   "cell_type": "code",
   "execution_count": 34,
   "metadata": {
    "execution": {
     "iopub.execute_input": "2021-11-05T21:26:23.355605Z",
     "iopub.status.busy": "2021-11-05T21:26:23.354604Z",
     "iopub.status.idle": "2021-11-05T21:26:23.375604Z",
     "shell.execute_reply": "2021-11-05T21:26:23.374604Z",
     "shell.execute_reply.started": "2021-11-05T21:26:23.355605Z"
    }
   },
   "outputs": [],
   "source": [
    "text = df.iloc[1].text"
   ]
  },
  {
   "cell_type": "code",
   "execution_count": 35,
   "metadata": {
    "execution": {
     "iopub.execute_input": "2021-11-05T21:26:24.460152Z",
     "iopub.status.busy": "2021-11-05T21:26:24.460152Z",
     "iopub.status.idle": "2021-11-05T21:26:24.477150Z",
     "shell.execute_reply": "2021-11-05T21:26:24.475153Z",
     "shell.execute_reply.started": "2021-11-05T21:26:24.460152Z"
    }
   },
   "outputs": [
    {
     "data": {
      "text/plain": [
       "'STANDARD OIL <SRD> TO FORM FINANCIAL UNIT CLEVELAND, Feb 26 - Standard Oil Co and BP North America Inc said they plan to form a venture to manage the money market borrowing and investment activities of both companies. BP North America is a subsidiary of British Petroleum Co Plc <BP>, which also owns a 55 pct interest in Standard Oil. The venture will be called BP/Standard Financial Trading and will be operated by Standard Oil under the oversight of a joint management committee. Reuter'"
      ]
     },
     "execution_count": 35,
     "metadata": {},
     "output_type": "execute_result"
    }
   ],
   "source": [
    "text"
   ]
  },
  {
   "cell_type": "code",
   "execution_count": 48,
   "metadata": {
    "execution": {
     "iopub.execute_input": "2021-11-05T21:32:17.622756Z",
     "iopub.status.busy": "2021-11-05T21:32:17.622756Z",
     "iopub.status.idle": "2021-11-05T21:32:17.635754Z",
     "shell.execute_reply": "2021-11-05T21:32:17.634759Z",
     "shell.execute_reply.started": "2021-11-05T21:32:17.622756Z"
    }
   },
   "outputs": [
    {
     "name": "stdout",
     "output_type": "stream",
     "text": [
      "['<SRD>', '<BP>']\n"
     ]
    },
    {
     "data": {
      "text/plain": [
       "['standard',\n",
       " 'oil',\n",
       " 'form',\n",
       " 'financial',\n",
       " 'unit',\n",
       " 'cleveland',\n",
       " 'feb',\n",
       " 'standard',\n",
       " 'oil',\n",
       " 'co',\n",
       " 'bp',\n",
       " 'north',\n",
       " 'america',\n",
       " 'inc',\n",
       " 'said',\n",
       " 'plan',\n",
       " 'form',\n",
       " 'venture',\n",
       " 'manage',\n",
       " 'money',\n",
       " 'market',\n",
       " 'borrowing',\n",
       " 'investment',\n",
       " 'activities',\n",
       " 'companies',\n",
       " 'bp',\n",
       " 'north',\n",
       " 'america',\n",
       " 'subsidiary',\n",
       " 'british',\n",
       " 'petroleum',\n",
       " 'co',\n",
       " 'plc',\n",
       " 'also',\n",
       " 'owns',\n",
       " 'pct',\n",
       " 'interest',\n",
       " 'standard',\n",
       " 'oil',\n",
       " 'venture',\n",
       " 'called',\n",
       " 'financial',\n",
       " 'trading',\n",
       " 'operated',\n",
       " 'standard',\n",
       " 'oil',\n",
       " 'oversight',\n",
       " 'joint',\n",
       " 'management',\n",
       " 'committee',\n",
       " 'reuter',\n",
       " '<SRD>',\n",
       " '<BP>']"
      ]
     },
     "execution_count": 48,
     "metadata": {},
     "output_type": "execute_result"
    }
   ],
   "source": [
    "process_text(text)"
   ]
  },
  {
   "cell_type": "code",
   "execution_count": 46,
   "metadata": {
    "execution": {
     "iopub.execute_input": "2021-11-05T21:31:59.498548Z",
     "iopub.status.busy": "2021-11-05T21:31:59.498548Z",
     "iopub.status.idle": "2021-11-05T21:31:59.509549Z",
     "shell.execute_reply": "2021-11-05T21:31:59.508549Z",
     "shell.execute_reply.started": "2021-11-05T21:31:59.498548Z"
    }
   },
   "outputs": [
    {
     "data": {
      "text/plain": [
       "[1, 2, 3, 4]"
      ]
     },
     "execution_count": 46,
     "metadata": {},
     "output_type": "execute_result"
    }
   ],
   "source": [
    "[1, 2] + [3, 4]"
   ]
  },
  {
   "cell_type": "code",
   "execution_count": 50,
   "metadata": {
    "execution": {
     "iopub.execute_input": "2021-11-05T21:34:05.631552Z",
     "iopub.status.busy": "2021-11-05T21:34:05.630519Z",
     "iopub.status.idle": "2021-11-05T21:34:05.652514Z",
     "shell.execute_reply": "2021-11-05T21:34:05.651514Z",
     "shell.execute_reply.started": "2021-11-05T21:34:05.631552Z"
    }
   },
   "outputs": [
    {
     "data": {
      "text/plain": [
       "True"
      ]
     },
     "execution_count": 50,
     "metadata": {},
     "output_type": "execute_result"
    }
   ],
   "source": [
    "list1 = [1, 2]\n",
    "list2 = [3, 4]\n",
    "list1 + list2 == list1 + [3, 4]"
   ]
  },
  {
   "cell_type": "code",
   "execution_count": null,
   "metadata": {},
   "outputs": [],
   "source": []
  }
 ],
 "metadata": {
  "kernelspec": {
   "display_name": "Python 3",
   "language": "python",
   "name": "python3"
  },
  "language_info": {
   "codemirror_mode": {
    "name": "ipython",
    "version": 3
   },
   "file_extension": ".py",
   "mimetype": "text/x-python",
   "name": "python",
   "nbconvert_exporter": "python",
   "pygments_lexer": "ipython3",
   "version": "3.6.9"
  }
 },
 "nbformat": 4,
 "nbformat_minor": 4
}
