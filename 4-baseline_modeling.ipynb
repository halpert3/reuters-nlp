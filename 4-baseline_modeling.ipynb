{
 "cells": [
  {
   "cell_type": "code",
   "execution_count": 108,
   "metadata": {
    "execution": {
     "iopub.execute_input": "2021-11-06T16:45:28.538913Z",
     "iopub.status.busy": "2021-11-06T16:45:28.537919Z",
     "iopub.status.idle": "2021-11-06T16:45:28.557916Z",
     "shell.execute_reply": "2021-11-06T16:45:28.556915Z",
     "shell.execute_reply.started": "2021-11-06T16:45:28.537919Z"
    }
   },
   "outputs": [],
   "source": [
    "import numpy as np\n",
    "import pandas as pd\n",
    "\n",
    "\n",
    "from sklearn.model_selection import train_test_split\n",
    "from sklearn.feature_extraction.text import TfidfVectorizer, CountVectorizer\n",
    "from sklearn.naive_bayes import MultinomialNB\n",
    "from sklearn.ensemble import RandomForestClassifier\n",
    "from sklearn.tree import DecisionTreeClassifier\n",
    "from sklearn.neighbors import KNeighborsClassifier\n",
    "from sklearn.ensemble import GradientBoostingClassifier\n",
    "from xgboost import XGBClassifier\n",
    "\n",
    "from sklearn.metrics import classification_report, accuracy_score, confusion_matrix, recall_score, precision_score, f1_score\n",
    "from sklearn.metrics import plot_confusion_matrix\n",
    "# from scoring_functions import scoring_functions as f\n",
    "\n",
    "# imp allows to reload the above function file when tinkering with it without kernel restart\n",
    "import imp\n",
    "\n",
    "import matplotlib.pyplot as plt"
   ]
  },
  {
   "cell_type": "code",
   "execution_count": 109,
   "metadata": {
    "execution": {
     "iopub.execute_input": "2021-11-06T16:45:28.560914Z",
     "iopub.status.busy": "2021-11-06T16:45:28.560914Z",
     "iopub.status.idle": "2021-11-06T16:45:28.573915Z",
     "shell.execute_reply": "2021-11-06T16:45:28.572913Z",
     "shell.execute_reply.started": "2021-11-06T16:45:28.560914Z"
    }
   },
   "outputs": [],
   "source": [
    "def scoring(y_real, y_pred, model, X_data): # change y_test to y_real\n",
    "    # Calculates and prints scores for the model\n",
    "    accuracy = accuracy_score(y_real, y_pred)\n",
    "    precision = precision_score(y_real, y_pred, average='macro')\n",
    "    recall = recall_score(y_real, y_pred, average='macro')\n",
    "    f1 = f1_score(y_real, y_pred, average='macro')\n",
    "\n",
    "    print(\"Accuracy: {:.1%}\".format(accuracy))\n",
    "    print(\"Precision: {:.1%}\".format(precision))\n",
    "    print(\"Recall: {:.1%}\".format(recall))\n",
    "    print(\"F1: {:.1%}\".format(f1))\n",
    "\n",
    "    print('\\n')\n",
    "    print(\"Classification Report\")\n",
    "    print('\\n')\n",
    "    print(classification_report(y_real, y_pred))\n",
    "    # Plots a confusion matrix graphic (defined below)\n",
    "    plot = plot_c_matrix(model, X_data, y_real)\n",
    "\n",
    "# note that plot_confustion_matrix needs to rerun the model. That's what you pass in the model again. \n",
    "def plot_c_matrix(model, X_test, y_real):\n",
    "    # Generates a confusion matrix graphic\n",
    "    plot_confusion_matrix(model, X_test, y_real)\n",
    "    plt.grid(False)\n",
    "    plt.show()\n"
   ]
  },
  {
   "cell_type": "code",
   "execution_count": 157,
   "metadata": {
    "execution": {
     "iopub.execute_input": "2021-11-06T17:52:12.413607Z",
     "iopub.status.busy": "2021-11-06T17:52:12.413607Z",
     "iopub.status.idle": "2021-11-06T17:52:13.287604Z",
     "shell.execute_reply": "2021-11-06T17:52:13.286604Z",
     "shell.execute_reply.started": "2021-11-06T17:52:12.413607Z"
    }
   },
   "outputs": [],
   "source": [
    "df = pd.read_csv('data_files/text_processed.csv')\n",
    "df.drop(['Unnamed: 0'], axis=1, inplace=True)"
   ]
  },
  {
   "cell_type": "code",
   "execution_count": 111,
   "metadata": {
    "execution": {
     "iopub.execute_input": "2021-11-06T16:45:28.882917Z",
     "iopub.status.busy": "2021-11-06T16:45:28.881916Z",
     "iopub.status.idle": "2021-11-06T16:45:28.925915Z",
     "shell.execute_reply": "2021-11-06T16:45:28.922913Z",
     "shell.execute_reply.started": "2021-11-06T16:45:28.882917Z"
    }
   },
   "outputs": [
    {
     "data": {
      "text/html": [
       "<div>\n",
       "<style scoped>\n",
       "    .dataframe tbody tr th:only-of-type {\n",
       "        vertical-align: middle;\n",
       "    }\n",
       "\n",
       "    .dataframe tbody tr th {\n",
       "        vertical-align: top;\n",
       "    }\n",
       "\n",
       "    .dataframe thead th {\n",
       "        text-align: right;\n",
       "    }\n",
       "</style>\n",
       "<table border=\"1\" class=\"dataframe\">\n",
       "  <thead>\n",
       "    <tr style=\"text-align: right;\">\n",
       "      <th></th>\n",
       "      <th>topic</th>\n",
       "      <th>text</th>\n",
       "    </tr>\n",
       "  </thead>\n",
       "  <tbody>\n",
       "    <tr>\n",
       "      <th>0</th>\n",
       "      <td>other</td>\n",
       "      <td>bahia cocoa review salvador feb shower continu...</td>\n",
       "    </tr>\n",
       "    <tr>\n",
       "      <th>1</th>\n",
       "      <td>blank</td>\n",
       "      <td>standard oil form financial unit cleveland feb...</td>\n",
       "    </tr>\n",
       "    <tr>\n",
       "      <th>2</th>\n",
       "      <td>blank</td>\n",
       "      <td>texas commerce bancshares file plan houston fe...</td>\n",
       "    </tr>\n",
       "    <tr>\n",
       "      <th>3</th>\n",
       "      <td>blank</td>\n",
       "      <td>talking equity offer janie gabbett reuters los...</td>\n",
       "    </tr>\n",
       "    <tr>\n",
       "      <th>4</th>\n",
       "      <td>other</td>\n",
       "      <td>national average price reserve washington feb ...</td>\n",
       "    </tr>\n",
       "  </tbody>\n",
       "</table>\n",
       "</div>"
      ],
      "text/plain": [
       "   topic                                               text\n",
       "0  other  bahia cocoa review salvador feb shower continu...\n",
       "1  blank  standard oil form financial unit cleveland feb...\n",
       "2  blank  texas commerce bancshares file plan houston fe...\n",
       "3  blank  talking equity offer janie gabbett reuters los...\n",
       "4  other  national average price reserve washington feb ..."
      ]
     },
     "execution_count": 111,
     "metadata": {},
     "output_type": "execute_result"
    }
   ],
   "source": [
    "df.head()"
   ]
  },
  {
   "cell_type": "code",
   "execution_count": 112,
   "metadata": {
    "execution": {
     "iopub.execute_input": "2021-11-06T16:45:28.928917Z",
     "iopub.status.busy": "2021-11-06T16:45:28.927917Z",
     "iopub.status.idle": "2021-11-06T16:45:28.956915Z",
     "shell.execute_reply": "2021-11-06T16:45:28.954915Z",
     "shell.execute_reply.started": "2021-11-06T16:45:28.928917Z"
    }
   },
   "outputs": [
    {
     "data": {
      "text/plain": [
       "(22999, 2)"
      ]
     },
     "execution_count": 112,
     "metadata": {},
     "output_type": "execute_result"
    }
   ],
   "source": [
    "df.shape"
   ]
  },
  {
   "cell_type": "markdown",
   "metadata": {},
   "source": [
    "## Change topic names to integers"
   ]
  },
  {
   "cell_type": "code",
   "execution_count": 113,
   "metadata": {
    "execution": {
     "iopub.execute_input": "2021-11-06T16:45:28.960920Z",
     "iopub.status.busy": "2021-11-06T16:45:28.959916Z",
     "iopub.status.idle": "2021-11-06T16:45:28.987914Z",
     "shell.execute_reply": "2021-11-06T16:45:28.985912Z",
     "shell.execute_reply.started": "2021-11-06T16:45:28.960920Z"
    }
   },
   "outputs": [
    {
     "data": {
      "text/plain": [
       "array(['other', 'blank', 'earn'], dtype=object)"
      ]
     },
     "execution_count": 113,
     "metadata": {},
     "output_type": "execute_result"
    }
   ],
   "source": [
    "df.topic.unique()"
   ]
  },
  {
   "cell_type": "code",
   "execution_count": 158,
   "metadata": {
    "execution": {
     "iopub.execute_input": "2021-11-06T17:52:18.348107Z",
     "iopub.status.busy": "2021-11-06T17:52:18.348107Z",
     "iopub.status.idle": "2021-11-06T17:52:18.360104Z",
     "shell.execute_reply": "2021-11-06T17:52:18.359105Z",
     "shell.execute_reply.started": "2021-11-06T17:52:18.348107Z"
    }
   },
   "outputs": [],
   "source": [
    "topic_dict = {'earn': 1, 'other': 2, 'blank': 3}"
   ]
  },
  {
   "cell_type": "code",
   "execution_count": 159,
   "metadata": {
    "execution": {
     "iopub.execute_input": "2021-11-06T17:52:21.008107Z",
     "iopub.status.busy": "2021-11-06T17:52:21.008107Z",
     "iopub.status.idle": "2021-11-06T17:52:21.056106Z",
     "shell.execute_reply": "2021-11-06T17:52:21.055105Z",
     "shell.execute_reply.started": "2021-11-06T17:52:21.008107Z"
    }
   },
   "outputs": [],
   "source": [
    "df.topic.replace(topic_dict, inplace=True)"
   ]
  },
  {
   "cell_type": "code",
   "execution_count": 116,
   "metadata": {
    "execution": {
     "iopub.execute_input": "2021-11-06T16:45:29.059916Z",
     "iopub.status.busy": "2021-11-06T16:45:29.057918Z",
     "iopub.status.idle": "2021-11-06T16:45:29.083920Z",
     "shell.execute_reply": "2021-11-06T16:45:29.081915Z",
     "shell.execute_reply.started": "2021-11-06T16:45:29.059916Z"
    }
   },
   "outputs": [
    {
     "data": {
      "text/plain": [
       "array([2, 3, 1], dtype=int64)"
      ]
     },
     "execution_count": 116,
     "metadata": {},
     "output_type": "execute_result"
    }
   ],
   "source": [
    "df.topic.unique()"
   ]
  },
  {
   "cell_type": "code",
   "execution_count": 160,
   "metadata": {
    "execution": {
     "iopub.execute_input": "2021-11-06T17:52:24.217104Z",
     "iopub.status.busy": "2021-11-06T17:52:24.216104Z",
     "iopub.status.idle": "2021-11-06T17:52:24.255104Z",
     "shell.execute_reply": "2021-11-06T17:52:24.254105Z",
     "shell.execute_reply.started": "2021-11-06T17:52:24.217104Z"
    }
   },
   "outputs": [
    {
     "name": "stdout",
     "output_type": "stream",
     "text": [
      "Topic 1: 18.51%\n",
      "Topic 2: 33.99%\n",
      "Topic 3: 47.5%\n"
     ]
    }
   ],
   "source": [
    "print(f\"Topic 1: {round((sum(df.topic == 1)/len(df.topic)) *100, 2)}%\")\n",
    "print(f\"Topic 2: {round((sum(df.topic == 2)/len(df.topic)) *100, 2)}%\")\n",
    "print(f\"Topic 3: {round((sum(df.topic == 3)/len(df.topic)) *100, 2)}%\")"
   ]
  },
  {
   "cell_type": "markdown",
   "metadata": {},
   "source": [
    "## Train-Test Split"
   ]
  },
  {
   "cell_type": "code",
   "execution_count": 117,
   "metadata": {
    "execution": {
     "iopub.execute_input": "2021-11-06T16:45:29.088916Z",
     "iopub.status.busy": "2021-11-06T16:45:29.087915Z",
     "iopub.status.idle": "2021-11-06T16:45:29.113914Z",
     "shell.execute_reply": "2021-11-06T16:45:29.112912Z",
     "shell.execute_reply.started": "2021-11-06T16:45:29.088916Z"
    }
   },
   "outputs": [],
   "source": [
    "X = df.drop(['topic'], axis=1)\n",
    "y = df['topic']\n",
    "\n",
    "X_train, X_test, y_train, y_test = train_test_split(X['text'], y, test_size=0.20, random_state=200)"
   ]
  },
  {
   "cell_type": "code",
   "execution_count": 118,
   "metadata": {
    "execution": {
     "iopub.execute_input": "2021-11-06T16:45:29.116918Z",
     "iopub.status.busy": "2021-11-06T16:45:29.115914Z",
     "iopub.status.idle": "2021-11-06T16:45:29.130917Z",
     "shell.execute_reply": "2021-11-06T16:45:29.128917Z",
     "shell.execute_reply.started": "2021-11-06T16:45:29.116918Z"
    }
   },
   "outputs": [
    {
     "data": {
      "text/plain": [
       "8654     first union acquisition approved jacksonville ...\n",
       "15548    london eurodollar deposit rate april overnight...\n",
       "12409    denmark mln crown eurobond deal copenhagen mar...\n",
       "4370     nova subsidiary raise polyethylene price calga...\n",
       "19981    amoco canada offer top one billion dlrs toront...\n",
       "                               ...                        \n",
       "9036     delegation hope veg oil tax defeat bonn march ...\n",
       "14007    coffee export quota october seems unlikely ico...\n",
       "784      anchor glass cleared listed nyse tampa march a...\n",
       "12905    midland set subsidiary finland london march mi...\n",
       "1818     syntex set rapid strep throat test palo alto m...\n",
       "Name: text, Length: 18399, dtype: object"
      ]
     },
     "execution_count": 118,
     "metadata": {},
     "output_type": "execute_result"
    }
   ],
   "source": [
    "X_train"
   ]
  },
  {
   "cell_type": "code",
   "execution_count": 119,
   "metadata": {
    "execution": {
     "iopub.execute_input": "2021-11-06T16:45:29.134917Z",
     "iopub.status.busy": "2021-11-06T16:45:29.133917Z",
     "iopub.status.idle": "2021-11-06T16:45:29.176916Z",
     "shell.execute_reply": "2021-11-06T16:45:29.174919Z",
     "shell.execute_reply.started": "2021-11-06T16:45:29.134917Z"
    }
   },
   "outputs": [
    {
     "data": {
      "text/plain": [
       "8654     2\n",
       "15548    3\n",
       "12409    3\n",
       "4370     2\n",
       "19981    3\n",
       "        ..\n",
       "9036     2\n",
       "14007    2\n",
       "784      3\n",
       "12905    3\n",
       "1818     3\n",
       "Name: topic, Length: 18399, dtype: int64"
      ]
     },
     "execution_count": 119,
     "metadata": {},
     "output_type": "execute_result"
    }
   ],
   "source": [
    "y_train"
   ]
  },
  {
   "cell_type": "code",
   "execution_count": 120,
   "metadata": {
    "execution": {
     "iopub.execute_input": "2021-11-06T16:45:29.179919Z",
     "iopub.status.busy": "2021-11-06T16:45:29.179919Z",
     "iopub.status.idle": "2021-11-06T16:45:29.208917Z",
     "shell.execute_reply": "2021-11-06T16:45:29.206913Z",
     "shell.execute_reply.started": "2021-11-06T16:45:29.179919Z"
    }
   },
   "outputs": [
    {
     "name": "stdout",
     "output_type": "stream",
     "text": [
      "(4600,)\n"
     ]
    },
    {
     "data": {
      "text/plain": [
       "(18399,)"
      ]
     },
     "execution_count": 120,
     "metadata": {},
     "output_type": "execute_result"
    }
   ],
   "source": [
    "print(X_test.shape)\n",
    "X_train.shape"
   ]
  },
  {
   "cell_type": "code",
   "execution_count": 121,
   "metadata": {
    "execution": {
     "iopub.execute_input": "2021-11-06T16:45:29.213917Z",
     "iopub.status.busy": "2021-11-06T16:45:29.212918Z",
     "iopub.status.idle": "2021-11-06T16:45:29.248915Z",
     "shell.execute_reply": "2021-11-06T16:45:29.238913Z",
     "shell.execute_reply.started": "2021-11-06T16:45:29.213917Z"
    }
   },
   "outputs": [
    {
     "name": "stdout",
     "output_type": "stream",
     "text": [
      "(4600,)\n"
     ]
    },
    {
     "data": {
      "text/plain": [
       "(18399,)"
      ]
     },
     "execution_count": 121,
     "metadata": {},
     "output_type": "execute_result"
    }
   ],
   "source": [
    "print(y_test.shape)\n",
    "y_train.shape"
   ]
  },
  {
   "cell_type": "markdown",
   "metadata": {
    "execution": {
     "iopub.execute_input": "2021-11-06T16:18:21.372443Z",
     "iopub.status.busy": "2021-11-06T16:18:21.372443Z",
     "iopub.status.idle": "2021-11-06T16:18:21.379441Z",
     "shell.execute_reply": "2021-11-06T16:18:21.378440Z",
     "shell.execute_reply.started": "2021-11-06T16:18:21.372443Z"
    }
   },
   "source": [
    "# TF-IDF"
   ]
  },
  {
   "cell_type": "markdown",
   "metadata": {},
   "source": [
    "## Instatiate Training Set"
   ]
  },
  {
   "cell_type": "code",
   "execution_count": 122,
   "metadata": {
    "execution": {
     "iopub.execute_input": "2021-11-06T16:45:29.252917Z",
     "iopub.status.busy": "2021-11-06T16:45:29.251919Z",
     "iopub.status.idle": "2021-11-06T16:45:39.150914Z",
     "shell.execute_reply": "2021-11-06T16:45:39.148911Z",
     "shell.execute_reply.started": "2021-11-06T16:45:29.252917Z"
    }
   },
   "outputs": [],
   "source": [
    "vectorizer = TfidfVectorizer(ngram_range=(1,2))\n",
    "vect_X_train = vectorizer.fit_transform(X_train)\n",
    "feature_names =  vectorizer.get_feature_names()"
   ]
  },
  {
   "cell_type": "code",
   "execution_count": 123,
   "metadata": {
    "execution": {
     "iopub.execute_input": "2021-11-06T16:45:39.152913Z",
     "iopub.status.busy": "2021-11-06T16:45:39.151912Z",
     "iopub.status.idle": "2021-11-06T16:45:39.165914Z",
     "shell.execute_reply": "2021-11-06T16:45:39.164916Z",
     "shell.execute_reply.started": "2021-11-06T16:45:39.152913Z"
    }
   },
   "outputs": [
    {
     "data": {
      "text/plain": [
       "602453"
      ]
     },
     "execution_count": 123,
     "metadata": {},
     "output_type": "execute_result"
    }
   ],
   "source": [
    "len(feature_names)"
   ]
  },
  {
   "cell_type": "code",
   "execution_count": 124,
   "metadata": {
    "execution": {
     "iopub.execute_input": "2021-11-06T16:45:39.169916Z",
     "iopub.status.busy": "2021-11-06T16:45:39.168915Z",
     "iopub.status.idle": "2021-11-06T16:45:39.197916Z",
     "shell.execute_reply": "2021-11-06T16:45:39.195915Z",
     "shell.execute_reply.started": "2021-11-06T16:45:39.169916Z"
    }
   },
   "outputs": [
    {
     "data": {
      "text/plain": [
       "(18399, 602453)"
      ]
     },
     "execution_count": 124,
     "metadata": {},
     "output_type": "execute_result"
    }
   ],
   "source": [
    "vect_X_train.shape"
   ]
  },
  {
   "cell_type": "markdown",
   "metadata": {},
   "source": [
    "Use `fit_transform()` on training data and `transform()` on test data. The model has already been fit on the training data, so you don't want to fit it again."
   ]
  },
  {
   "cell_type": "code",
   "execution_count": 125,
   "metadata": {
    "execution": {
     "iopub.execute_input": "2021-11-06T16:45:39.201915Z",
     "iopub.status.busy": "2021-11-06T16:45:39.200919Z",
     "iopub.status.idle": "2021-11-06T16:45:40.663953Z",
     "shell.execute_reply": "2021-11-06T16:45:40.662957Z",
     "shell.execute_reply.started": "2021-11-06T16:45:39.201915Z"
    }
   },
   "outputs": [],
   "source": [
    "vect_X_test = vectorizer.transform(X_test)"
   ]
  },
  {
   "cell_type": "markdown",
   "metadata": {},
   "source": [
    "# Create first model"
   ]
  },
  {
   "cell_type": "markdown",
   "metadata": {},
   "source": [
    "## Create Naive Bayes model and predict"
   ]
  },
  {
   "cell_type": "markdown",
   "metadata": {},
   "source": [
    "Instantiate new model instance. Fit the model to all the training data."
   ]
  },
  {
   "cell_type": "code",
   "execution_count": 126,
   "metadata": {
    "execution": {
     "iopub.execute_input": "2021-11-06T16:45:40.666955Z",
     "iopub.status.busy": "2021-11-06T16:45:40.665956Z",
     "iopub.status.idle": "2021-11-06T16:45:40.855914Z",
     "shell.execute_reply": "2021-11-06T16:45:40.854912Z",
     "shell.execute_reply.started": "2021-11-06T16:45:40.666955Z"
    }
   },
   "outputs": [
    {
     "data": {
      "text/plain": [
       "MultinomialNB()"
      ]
     },
     "execution_count": 126,
     "metadata": {},
     "output_type": "execute_result"
    }
   ],
   "source": [
    "cls = MultinomialNB()\n",
    "cls.fit(vect_X_train, y_train)"
   ]
  },
  {
   "cell_type": "markdown",
   "metadata": {},
   "source": [
    "Now that the model has been trained on the vectorized training data, see how it will predict classes from that test data."
   ]
  },
  {
   "cell_type": "code",
   "execution_count": 127,
   "metadata": {
    "execution": {
     "iopub.execute_input": "2021-11-06T16:45:40.858913Z",
     "iopub.status.busy": "2021-11-06T16:45:40.857913Z",
     "iopub.status.idle": "2021-11-06T16:45:40.981913Z",
     "shell.execute_reply": "2021-11-06T16:45:40.979911Z",
     "shell.execute_reply.started": "2021-11-06T16:45:40.858913Z"
    }
   },
   "outputs": [],
   "source": [
    "y_pred = cls.predict(vect_X_train)"
   ]
  },
  {
   "cell_type": "code",
   "execution_count": 128,
   "metadata": {
    "execution": {
     "iopub.execute_input": "2021-11-06T16:45:40.983916Z",
     "iopub.status.busy": "2021-11-06T16:45:40.982914Z",
     "iopub.status.idle": "2021-11-06T16:45:41.002916Z",
     "shell.execute_reply": "2021-11-06T16:45:40.999915Z",
     "shell.execute_reply.started": "2021-11-06T16:45:40.983916Z"
    }
   },
   "outputs": [
    {
     "data": {
      "text/plain": [
       "array([1, 2, 3], dtype=int64)"
      ]
     },
     "execution_count": 128,
     "metadata": {},
     "output_type": "execute_result"
    }
   ],
   "source": [
    "np.unique(y_pred)"
   ]
  },
  {
   "cell_type": "markdown",
   "metadata": {
    "execution": {
     "iopub.execute_input": "2021-11-06T16:25:55.869617Z",
     "iopub.status.busy": "2021-11-06T16:25:55.869617Z",
     "iopub.status.idle": "2021-11-06T16:25:55.882619Z",
     "shell.execute_reply": "2021-11-06T16:25:55.881617Z",
     "shell.execute_reply.started": "2021-11-06T16:25:55.869617Z"
    }
   },
   "source": [
    "Compare how accurate the real test data is to what the model predicted"
   ]
  },
  {
   "cell_type": "code",
   "execution_count": 129,
   "metadata": {
    "execution": {
     "iopub.execute_input": "2021-11-06T16:45:41.006922Z",
     "iopub.status.busy": "2021-11-06T16:45:41.005917Z",
     "iopub.status.idle": "2021-11-06T16:45:41.029916Z",
     "shell.execute_reply": "2021-11-06T16:45:41.026917Z",
     "shell.execute_reply.started": "2021-11-06T16:45:41.006922Z"
    }
   },
   "outputs": [
    {
     "data": {
      "text/plain": [
       "'The accuracy score is: 89.39%'"
      ]
     },
     "execution_count": 129,
     "metadata": {},
     "output_type": "execute_result"
    }
   ],
   "source": [
    "f'The accuracy score is: {round(accuracy_score(y_train, y_pred)*100, 2)}%'"
   ]
  },
  {
   "cell_type": "code",
   "execution_count": 130,
   "metadata": {
    "execution": {
     "iopub.execute_input": "2021-11-06T16:45:41.033915Z",
     "iopub.status.busy": "2021-11-06T16:45:41.032916Z",
     "iopub.status.idle": "2021-11-06T16:45:41.678916Z",
     "shell.execute_reply": "2021-11-06T16:45:41.676914Z",
     "shell.execute_reply.started": "2021-11-06T16:45:41.033915Z"
    }
   },
   "outputs": [
    {
     "name": "stdout",
     "output_type": "stream",
     "text": [
      "Accuracy: 89.4%\n",
      "Precision: 91.8%\n",
      "Recall: 87.0%\n",
      "F1: 88.9%\n",
      "\n",
      "\n",
      "Classification Report\n",
      "\n",
      "\n",
      "              precision    recall  f1-score   support\n",
      "\n",
      "           1       0.95      0.79      0.86      3448\n",
      "           2       0.96      0.85      0.90      6236\n",
      "           3       0.84      0.96      0.90      8715\n",
      "\n",
      "    accuracy                           0.89     18399\n",
      "   macro avg       0.92      0.87      0.89     18399\n",
      "weighted avg       0.90      0.89      0.89     18399\n",
      "\n"
     ]
    },
    {
     "data": {
      "image/png": "[encoded data removed]",
      "text/plain": [
       "<Figure size 432x288 with 2 Axes>"
      ]
     },
     "metadata": {
      "needs_background": "light"
     },
     "output_type": "display_data"
    }
   ],
   "source": [
    "scoring(y_train, y_pred, cls, vect_X_train)"
   ]
  },
  {
   "cell_type": "markdown",
   "metadata": {
    "execution": {
     "iopub.execute_input": "2021-11-06T16:34:50.779728Z",
     "iopub.status.busy": "2021-11-06T16:34:50.779728Z",
     "iopub.status.idle": "2021-11-06T16:34:50.802730Z",
     "shell.execute_reply": "2021-11-06T16:34:50.800728Z",
     "shell.execute_reply.started": "2021-11-06T16:34:50.779728Z"
    }
   },
   "source": [
    "Pretty good!"
   ]
  },
  {
   "cell_type": "markdown",
   "metadata": {
    "execution": {
     "iopub.execute_input": "2021-11-06T16:38:41.621234Z",
     "iopub.status.busy": "2021-11-06T16:38:41.621234Z",
     "iopub.status.idle": "2021-11-06T16:38:41.634231Z",
     "shell.execute_reply": "2021-11-06T16:38:41.633234Z",
     "shell.execute_reply.started": "2021-11-06T16:38:41.621234Z"
    }
   },
   "source": [
    "## Try it when merging 'blank' and 'other' into one topic "
   ]
  },
  {
   "cell_type": "code",
   "execution_count": 131,
   "metadata": {
    "execution": {
     "iopub.execute_input": "2021-11-06T16:45:41.680917Z",
     "iopub.status.busy": "2021-11-06T16:45:41.679915Z",
     "iopub.status.idle": "2021-11-06T16:45:41.980912Z",
     "shell.execute_reply": "2021-11-06T16:45:41.979915Z",
     "shell.execute_reply.started": "2021-11-06T16:45:41.680917Z"
    }
   },
   "outputs": [],
   "source": [
    "df2 = pd.read_csv('data_files/text_processed.csv')\n",
    "df2.drop(['Unnamed: 0'], axis=1, inplace=True)\n",
    "topic_dict = {'earn': 1, 'other': 2, 'blank': 2}\n",
    "df2.topic.replace(topic_dict, inplace=True)"
   ]
  },
  {
   "cell_type": "code",
   "execution_count": 132,
   "metadata": {
    "execution": {
     "iopub.execute_input": "2021-11-06T16:45:41.982914Z",
     "iopub.status.busy": "2021-11-06T16:45:41.982914Z",
     "iopub.status.idle": "2021-11-06T16:45:42.012923Z",
     "shell.execute_reply": "2021-11-06T16:45:42.010915Z",
     "shell.execute_reply.started": "2021-11-06T16:45:41.982914Z"
    }
   },
   "outputs": [
    {
     "data": {
      "text/html": [
       "<div>\n",
       "<style scoped>\n",
       "    .dataframe tbody tr th:only-of-type {\n",
       "        vertical-align: middle;\n",
       "    }\n",
       "\n",
       "    .dataframe tbody tr th {\n",
       "        vertical-align: top;\n",
       "    }\n",
       "\n",
       "    .dataframe thead th {\n",
       "        text-align: right;\n",
       "    }\n",
       "</style>\n",
       "<table border=\"1\" class=\"dataframe\">\n",
       "  <thead>\n",
       "    <tr style=\"text-align: right;\">\n",
       "      <th></th>\n",
       "      <th>topic</th>\n",
       "      <th>text</th>\n",
       "    </tr>\n",
       "  </thead>\n",
       "  <tbody>\n",
       "    <tr>\n",
       "      <th>0</th>\n",
       "      <td>2</td>\n",
       "      <td>bahia cocoa review salvador feb shower continu...</td>\n",
       "    </tr>\n",
       "    <tr>\n",
       "      <th>1</th>\n",
       "      <td>2</td>\n",
       "      <td>standard oil form financial unit cleveland feb...</td>\n",
       "    </tr>\n",
       "    <tr>\n",
       "      <th>2</th>\n",
       "      <td>2</td>\n",
       "      <td>texas commerce bancshares file plan houston fe...</td>\n",
       "    </tr>\n",
       "    <tr>\n",
       "      <th>3</th>\n",
       "      <td>2</td>\n",
       "      <td>talking equity offer janie gabbett reuters los...</td>\n",
       "    </tr>\n",
       "    <tr>\n",
       "      <th>4</th>\n",
       "      <td>2</td>\n",
       "      <td>national average price reserve washington feb ...</td>\n",
       "    </tr>\n",
       "    <tr>\n",
       "      <th>5</th>\n",
       "      <td>2</td>\n",
       "      <td>argentine registration buenos aire feb argenti...</td>\n",
       "    </tr>\n",
       "    <tr>\n",
       "      <th>6</th>\n",
       "      <td>2</td>\n",
       "      <td>red lion inn file plan offering portland feb r...</td>\n",
       "    </tr>\n",
       "    <tr>\n",
       "      <th>7</th>\n",
       "      <td>2</td>\n",
       "      <td>usx debt dowgraded moody new york feb moody in...</td>\n",
       "    </tr>\n",
       "    <tr>\n",
       "      <th>8</th>\n",
       "      <td>1</td>\n",
       "      <td>champion product approves stock split rocheste...</td>\n",
       "    </tr>\n",
       "    <tr>\n",
       "      <th>9</th>\n",
       "      <td>2</td>\n",
       "      <td>computer terminal system completes sale commac...</td>\n",
       "    </tr>\n",
       "  </tbody>\n",
       "</table>\n",
       "</div>"
      ],
      "text/plain": [
       "   topic                                               text\n",
       "0      2  bahia cocoa review salvador feb shower continu...\n",
       "1      2  standard oil form financial unit cleveland feb...\n",
       "2      2  texas commerce bancshares file plan houston fe...\n",
       "3      2  talking equity offer janie gabbett reuters los...\n",
       "4      2  national average price reserve washington feb ...\n",
       "5      2  argentine registration buenos aire feb argenti...\n",
       "6      2  red lion inn file plan offering portland feb r...\n",
       "7      2  usx debt dowgraded moody new york feb moody in...\n",
       "8      1  champion product approves stock split rocheste...\n",
       "9      2  computer terminal system completes sale commac..."
      ]
     },
     "execution_count": 132,
     "metadata": {},
     "output_type": "execute_result"
    }
   ],
   "source": [
    "df2.head(10)"
   ]
  },
  {
   "cell_type": "code",
   "execution_count": 156,
   "metadata": {
    "execution": {
     "iopub.execute_input": "2021-11-06T17:50:41.799503Z",
     "iopub.status.busy": "2021-11-06T17:50:41.799503Z",
     "iopub.status.idle": "2021-11-06T17:50:41.818458Z",
     "shell.execute_reply": "2021-11-06T17:50:41.817457Z",
     "shell.execute_reply.started": "2021-11-06T17:50:41.799503Z"
    }
   },
   "outputs": [
    {
     "name": "stdout",
     "output_type": "stream",
     "text": [
      "Topic 1: 18.51%\n",
      "Topic 2: 81.49%\n"
     ]
    }
   ],
   "source": [
    "print(f\"Topic 1: {round((sum(df2.topic == 1)/len(df2.topic)) *100, 2)}%\")\n",
    "print(f\"Topic 2: {round((sum(df2.topic == 2)/len(df2.topic)) *100, 2)}%\")"
   ]
  },
  {
   "cell_type": "code",
   "execution_count": 133,
   "metadata": {
    "execution": {
     "iopub.execute_input": "2021-11-06T16:45:42.017915Z",
     "iopub.status.busy": "2021-11-06T16:45:42.015918Z",
     "iopub.status.idle": "2021-11-06T16:45:42.044920Z",
     "shell.execute_reply": "2021-11-06T16:45:42.042915Z",
     "shell.execute_reply.started": "2021-11-06T16:45:42.017915Z"
    }
   },
   "outputs": [],
   "source": [
    "X2 = df2.drop(['topic'], axis=1)\n",
    "y2 = df2['topic']\n",
    "\n",
    "X2_train, X2_test, y2_train, y2_test = train_test_split(X2['text'], y2, test_size=0.20, random_state=200)"
   ]
  },
  {
   "cell_type": "code",
   "execution_count": 134,
   "metadata": {
    "execution": {
     "iopub.execute_input": "2021-11-06T16:45:42.052915Z",
     "iopub.status.busy": "2021-11-06T16:45:42.051916Z",
     "iopub.status.idle": "2021-11-06T16:45:50.361912Z",
     "shell.execute_reply": "2021-11-06T16:45:50.360911Z",
     "shell.execute_reply.started": "2021-11-06T16:45:42.051916Z"
    }
   },
   "outputs": [],
   "source": [
    "vect_X2_train = vectorizer.fit_transform(X2_train)\n",
    "vect_X2_test = vectorizer.transform(X2_test)"
   ]
  },
  {
   "cell_type": "code",
   "execution_count": 135,
   "metadata": {
    "execution": {
     "iopub.execute_input": "2021-11-06T16:45:50.363914Z",
     "iopub.status.busy": "2021-11-06T16:45:50.363914Z",
     "iopub.status.idle": "2021-11-06T16:45:50.538919Z",
     "shell.execute_reply": "2021-11-06T16:45:50.536915Z",
     "shell.execute_reply.started": "2021-11-06T16:45:50.363914Z"
    }
   },
   "outputs": [],
   "source": [
    "cls2 = MultinomialNB()\n",
    "cls2.fit(vect_X2_train, y2_train)\n",
    "y2_pred = cls2.predict(vect_X2_train)"
   ]
  },
  {
   "cell_type": "code",
   "execution_count": 136,
   "metadata": {
    "execution": {
     "iopub.execute_input": "2021-11-06T16:45:50.541918Z",
     "iopub.status.busy": "2021-11-06T16:45:50.540912Z",
     "iopub.status.idle": "2021-11-06T16:45:50.964915Z",
     "shell.execute_reply": "2021-11-06T16:45:50.963914Z",
     "shell.execute_reply.started": "2021-11-06T16:45:50.541918Z"
    }
   },
   "outputs": [
    {
     "name": "stdout",
     "output_type": "stream",
     "text": [
      "Accuracy: 94.6%\n",
      "Precision: 95.5%\n",
      "Recall: 86.4%\n",
      "F1: 90.1%\n",
      "\n",
      "\n",
      "Classification Report\n",
      "\n",
      "\n",
      "              precision    recall  f1-score   support\n",
      "\n",
      "           1       0.97      0.73      0.83      3448\n",
      "           2       0.94      0.99      0.97     14951\n",
      "\n",
      "    accuracy                           0.95     18399\n",
      "   macro avg       0.96      0.86      0.90     18399\n",
      "weighted avg       0.95      0.95      0.94     18399\n",
      "\n"
     ]
    },
    {
     "data": {
      "image/png": "[encoded data removed]",
      "text/plain": [
       "<Figure size 432x288 with 2 Axes>"
      ]
     },
     "metadata": {
      "needs_background": "light"
     },
     "output_type": "display_data"
    }
   ],
   "source": [
    "scoring(y2_train, y2_pred, cls2, vect_X2_train)"
   ]
  },
  {
   "cell_type": "markdown",
   "metadata": {},
   "source": [
    "Making a df to easily compare how the two models did"
   ]
  },
  {
   "cell_type": "code",
   "execution_count": 141,
   "metadata": {
    "execution": {
     "iopub.execute_input": "2021-11-06T17:09:12.995950Z",
     "iopub.status.busy": "2021-11-06T17:09:12.994949Z",
     "iopub.status.idle": "2021-11-06T17:09:13.078951Z",
     "shell.execute_reply": "2021-11-06T17:09:13.077948Z",
     "shell.execute_reply.started": "2021-11-06T17:09:12.995950Z"
    }
   },
   "outputs": [
    {
     "data": {
      "text/html": [
       "<div>\n",
       "<style scoped>\n",
       "    .dataframe tbody tr th:only-of-type {\n",
       "        vertical-align: middle;\n",
       "    }\n",
       "\n",
       "    .dataframe tbody tr th {\n",
       "        vertical-align: top;\n",
       "    }\n",
       "\n",
       "    .dataframe thead th {\n",
       "        text-align: right;\n",
       "    }\n",
       "</style>\n",
       "<table border=\"1\" class=\"dataframe\">\n",
       "  <thead>\n",
       "    <tr style=\"text-align: right;\">\n",
       "      <th></th>\n",
       "      <th>3_topics</th>\n",
       "      <th>2_topics</th>\n",
       "    </tr>\n",
       "  </thead>\n",
       "  <tbody>\n",
       "    <tr>\n",
       "      <th>overall accuracy</th>\n",
       "      <td>89.4</td>\n",
       "      <td>94.6</td>\n",
       "    </tr>\n",
       "    <tr>\n",
       "      <th>overall precision</th>\n",
       "      <td>91.8</td>\n",
       "      <td>95.5</td>\n",
       "    </tr>\n",
       "    <tr>\n",
       "      <th>overall recall</th>\n",
       "      <td>87.0</td>\n",
       "      <td>86.4</td>\n",
       "    </tr>\n",
       "    <tr>\n",
       "      <th>overall F1</th>\n",
       "      <td>88.9</td>\n",
       "      <td>90.1</td>\n",
       "    </tr>\n",
       "    <tr>\n",
       "      <th>earn precision</th>\n",
       "      <td>95.0</td>\n",
       "      <td>97.0</td>\n",
       "    </tr>\n",
       "    <tr>\n",
       "      <th>earn recall</th>\n",
       "      <td>79.0</td>\n",
       "      <td>73.0</td>\n",
       "    </tr>\n",
       "    <tr>\n",
       "      <th>earn F1</th>\n",
       "      <td>86.0</td>\n",
       "      <td>83.0</td>\n",
       "    </tr>\n",
       "  </tbody>\n",
       "</table>\n",
       "</div>"
      ],
      "text/plain": [
       "                   3_topics  2_topics\n",
       "overall accuracy       89.4      94.6\n",
       "overall precision      91.8      95.5\n",
       "overall recall         87.0      86.4\n",
       "overall F1             88.9      90.1\n",
       "earn precision         95.0      97.0\n",
       "earn recall            79.0      73.0\n",
       "earn F1                86.0      83.0"
      ]
     },
     "execution_count": 141,
     "metadata": {},
     "output_type": "execute_result"
    }
   ],
   "source": [
    "compare = pd.DataFrame(columns=['3_topics', '2_topics'])\n",
    "\n",
    "compare.loc['overall accuracy'] = [89.4, 94.6]\n",
    "compare.loc['overall precision'] = [91.8, 95.5]\n",
    "compare.loc['overall recall'] = [87.0, 86.4]\n",
    "compare.loc['overall F1'] = [88.9, 90.1]\n",
    "compare.loc['earn precision'] = [95, 97]\n",
    "compare.loc['earn recall'] = [79, 73]\n",
    "compare.loc['earn F1'] = [86, 83]\n",
    "compare"
   ]
  },
  {
   "cell_type": "markdown",
   "metadata": {},
   "source": [
    "The models did pretty similar with some trade offs here and there. Overall accuracy was 5 points better on the model with two topics.\n",
    "\n",
    "The purpose of this task is to predict the articles that can be classified as 'earn'. \n",
    "\n",
    "'Earn' precision preformed 2 points better with two topics, but 'earn' recall performed 6 points worse with two topics. 'Earn' F1 was 3 points better.\n",
    "\n"
   ]
  },
  {
   "cell_type": "markdown",
   "metadata": {},
   "source": [
    "## Check for overfitting"
   ]
  },
  {
   "cell_type": "code",
   "execution_count": 161,
   "metadata": {
    "execution": {
     "iopub.execute_input": "2021-11-06T22:45:15.229062Z",
     "iopub.status.busy": "2021-11-06T22:45:15.222063Z",
     "iopub.status.idle": "2021-11-06T22:45:15.561062Z",
     "shell.execute_reply": "2021-11-06T22:45:15.559061Z",
     "shell.execute_reply.started": "2021-11-06T22:45:15.229062Z"
    }
   },
   "outputs": [],
   "source": [
    "test_y_pred = cls.predict(vect_X_test)"
   ]
  },
  {
   "cell_type": "code",
   "execution_count": 162,
   "metadata": {
    "execution": {
     "iopub.execute_input": "2021-11-06T22:45:31.592050Z",
     "iopub.status.busy": "2021-11-06T22:45:31.591049Z",
     "iopub.status.idle": "2021-11-06T22:45:32.530750Z",
     "shell.execute_reply": "2021-11-06T22:45:32.529787Z",
     "shell.execute_reply.started": "2021-11-06T22:45:31.591049Z"
    }
   },
   "outputs": [
    {
     "name": "stdout",
     "output_type": "stream",
     "text": [
      "Accuracy: 82.8%\n",
      "Precision: 87.2%\n",
      "Recall: 80.3%\n",
      "F1: 82.7%\n",
      "\n",
      "\n",
      "Classification Report\n",
      "\n",
      "\n",
      "              precision    recall  f1-score   support\n",
      "\n",
      "           1       0.93      0.77      0.84       808\n",
      "           2       0.92      0.70      0.80      1582\n",
      "           3       0.76      0.94      0.84      2210\n",
      "\n",
      "    accuracy                           0.83      4600\n",
      "   macro avg       0.87      0.80      0.83      4600\n",
      "weighted avg       0.85      0.83      0.83      4600\n",
      "\n"
     ]
    },
    {
     "data": {
      "image/png": "[encoded data removed]",
      "text/plain": [
       "<Figure size 432x288 with 2 Axes>"
      ]
     },
     "metadata": {
      "needs_background": "light"
     },
     "output_type": "display_data"
    }
   ],
   "source": [
    "scoring(y_test, test_y_pred, cls, vect_X_test)"
   ]
  },
  {
   "cell_type": "code",
   "execution_count": 164,
   "metadata": {
    "execution": {
     "iopub.execute_input": "2021-11-06T22:47:01.908655Z",
     "iopub.status.busy": "2021-11-06T22:47:01.907657Z",
     "iopub.status.idle": "2021-11-06T22:47:02.296656Z",
     "shell.execute_reply": "2021-11-06T22:47:02.295679Z",
     "shell.execute_reply.started": "2021-11-06T22:47:01.908655Z"
    }
   },
   "outputs": [
    {
     "name": "stdout",
     "output_type": "stream",
     "text": [
      "Accuracy: 89.4%\n",
      "Precision: 91.8%\n",
      "Recall: 87.0%\n",
      "F1: 88.9%\n",
      "\n",
      "\n",
      "Classification Report\n",
      "\n",
      "\n",
      "              precision    recall  f1-score   support\n",
      "\n",
      "           1       0.95      0.79      0.86      3448\n",
      "           2       0.96      0.85      0.90      6236\n",
      "           3       0.84      0.96      0.90      8715\n",
      "\n",
      "    accuracy                           0.89     18399\n",
      "   macro avg       0.92      0.87      0.89     18399\n",
      "weighted avg       0.90      0.89      0.89     18399\n",
      "\n"
     ]
    },
    {
     "data": {
      "image/png": "[encoded data removed]",
      "text/plain": [
       "<Figure size 432x288 with 2 Axes>"
      ]
     },
     "metadata": {
      "needs_background": "light"
     },
     "output_type": "display_data"
    }
   ],
   "source": [
    "# This is the first one, above\n",
    "scoring(y_train, y_pred, cls, vect_X_train)"
   ]
  },
  {
   "cell_type": "markdown",
   "metadata": {},
   "source": [
    "Overall accuracy is down a little (7 points), but for the category 'earn', indivdual scores are down fewer points, maybe 2 or 3."
   ]
  },
  {
   "cell_type": "markdown",
   "metadata": {},
   "source": [
    "## Random Forest"
   ]
  },
  {
   "cell_type": "code",
   "execution_count": 165,
   "metadata": {
    "execution": {
     "iopub.execute_input": "2021-11-06T22:53:54.207180Z",
     "iopub.status.busy": "2021-11-06T22:53:54.207180Z",
     "iopub.status.idle": "2021-11-06T22:54:05.335712Z",
     "shell.execute_reply": "2021-11-06T22:54:05.334711Z",
     "shell.execute_reply.started": "2021-11-06T22:53:54.207180Z"
    }
   },
   "outputs": [
    {
     "data": {
      "text/plain": [
       "RandomForestClassifier(max_depth=20)"
      ]
     },
     "execution_count": 165,
     "metadata": {},
     "output_type": "execute_result"
    }
   ],
   "source": [
    "rdmfst = RandomForestClassifier(max_depth=20)\n",
    "rdmfst.fit(vect_X_train, y_train)"
   ]
  },
  {
   "cell_type": "code",
   "execution_count": 166,
   "metadata": {
    "execution": {
     "iopub.execute_input": "2021-11-06T22:54:07.660071Z",
     "iopub.status.busy": "2021-11-06T22:54:07.659069Z",
     "iopub.status.idle": "2021-11-06T22:54:10.710070Z",
     "shell.execute_reply": "2021-11-06T22:54:10.709066Z",
     "shell.execute_reply.started": "2021-11-06T22:54:07.660071Z"
    }
   },
   "outputs": [],
   "source": [
    "y_pred = rdmfst.predict(vect_X_train)"
   ]
  },
  {
   "cell_type": "code",
   "execution_count": 167,
   "metadata": {
    "execution": {
     "iopub.execute_input": "2021-11-06T22:54:17.281512Z",
     "iopub.status.busy": "2021-11-06T22:54:17.281512Z",
     "iopub.status.idle": "2021-11-06T22:54:20.335516Z",
     "shell.execute_reply": "2021-11-06T22:54:20.334515Z",
     "shell.execute_reply.started": "2021-11-06T22:54:17.281512Z"
    }
   },
   "outputs": [
    {
     "name": "stdout",
     "output_type": "stream",
     "text": [
      "Accuracy: 71.7%\n",
      "Precision: 86.8%\n",
      "Recall: 67.6%\n",
      "F1: 69.7%\n",
      "\n",
      "\n",
      "Classification Report\n",
      "\n",
      "\n",
      "              precision    recall  f1-score   support\n",
      "\n",
      "           1       0.98      0.69      0.81      3448\n",
      "           2       1.00      0.35      0.51      6236\n",
      "           3       0.63      0.99      0.77      8715\n",
      "\n",
      "    accuracy                           0.72     18399\n",
      "   macro avg       0.87      0.68      0.70     18399\n",
      "weighted avg       0.82      0.72      0.69     18399\n",
      "\n"
     ]
    },
    {
     "data": {
      "image/png": "[encoded data removed]",
      "text/plain": [
       "<Figure size 432x288 with 2 Axes>"
      ]
     },
     "metadata": {
      "needs_background": "light"
     },
     "output_type": "display_data"
    }
   ],
   "source": [
    "scoring(y_train, y_pred, rdmfst, vect_X_train)"
   ]
  },
  {
   "cell_type": "markdown",
   "metadata": {},
   "source": [
    "Overall, a worse model. "
   ]
  },
  {
   "cell_type": "markdown",
   "metadata": {},
   "source": [
    "## Decision Tree"
   ]
  },
  {
   "cell_type": "code",
   "execution_count": 168,
   "metadata": {
    "execution": {
     "iopub.execute_input": "2021-11-06T22:55:08.700671Z",
     "iopub.status.busy": "2021-11-06T22:55:08.699672Z",
     "iopub.status.idle": "2021-11-06T22:55:32.255213Z",
     "shell.execute_reply": "2021-11-06T22:55:32.253212Z",
     "shell.execute_reply.started": "2021-11-06T22:55:08.700671Z"
    }
   },
   "outputs": [
    {
     "data": {
      "text/plain": [
       "DecisionTreeClassifier(max_depth=20)"
      ]
     },
     "execution_count": 168,
     "metadata": {},
     "output_type": "execute_result"
    }
   ],
   "source": [
    "dtree = DecisionTreeClassifier(max_depth=20)\n",
    "dtree.fit(vect_X_train, y_train)"
   ]
  },
  {
   "cell_type": "code",
   "execution_count": 169,
   "metadata": {
    "execution": {
     "iopub.execute_input": "2021-11-06T22:55:32.259210Z",
     "iopub.status.busy": "2021-11-06T22:55:32.258211Z",
     "iopub.status.idle": "2021-11-06T22:55:32.355213Z",
     "shell.execute_reply": "2021-11-06T22:55:32.349234Z",
     "shell.execute_reply.started": "2021-11-06T22:55:32.259210Z"
    }
   },
   "outputs": [
    {
     "data": {
      "text/plain": [
       "'The accuracy score is: 87.54%'"
      ]
     },
     "execution_count": 169,
     "metadata": {},
     "output_type": "execute_result"
    }
   ],
   "source": [
    "y_pred = dtree.predict(vect_X_train)\n",
    "f'The accuracy score is: {round(accuracy_score(y_train, y_pred)*100, 2)}%'"
   ]
  },
  {
   "cell_type": "code",
   "execution_count": 170,
   "metadata": {
    "execution": {
     "iopub.execute_input": "2021-11-06T22:55:43.737983Z",
     "iopub.status.busy": "2021-11-06T22:55:43.737983Z",
     "iopub.status.idle": "2021-11-06T22:55:44.149981Z",
     "shell.execute_reply": "2021-11-06T22:55:44.148979Z",
     "shell.execute_reply.started": "2021-11-06T22:55:43.737983Z"
    }
   },
   "outputs": [
    {
     "name": "stdout",
     "output_type": "stream",
     "text": [
      "Accuracy: 87.5%\n",
      "Precision: 90.9%\n",
      "Recall: 87.3%\n",
      "F1: 88.4%\n",
      "\n",
      "\n",
      "Classification Report\n",
      "\n",
      "\n",
      "              precision    recall  f1-score   support\n",
      "\n",
      "           1       0.97      0.93      0.95      3448\n",
      "           2       0.94      0.72      0.82      6236\n",
      "           3       0.81      0.96      0.88      8715\n",
      "\n",
      "    accuracy                           0.88     18399\n",
      "   macro avg       0.91      0.87      0.88     18399\n",
      "weighted avg       0.89      0.88      0.87     18399\n",
      "\n"
     ]
    },
    {
     "data": {
      "image/png": "[encoded data removed]",
      "text/plain": [
       "<Figure size 432x288 with 2 Axes>"
      ]
     },
     "metadata": {
      "needs_background": "light"
     },
     "output_type": "display_data"
    }
   ],
   "source": [
    "scoring(y_train, y_pred, dtree, vect_X_train)"
   ]
  },
  {
   "cell_type": "markdown",
   "metadata": {},
   "source": [
    "Seems pretty good, as good or better than NB"
   ]
  },
  {
   "cell_type": "markdown",
   "metadata": {},
   "source": [
    "### Check for overfitting"
   ]
  },
  {
   "cell_type": "code",
   "execution_count": 171,
   "metadata": {
    "execution": {
     "iopub.execute_input": "2021-11-06T22:57:09.003874Z",
     "iopub.status.busy": "2021-11-06T22:57:09.002873Z",
     "iopub.status.idle": "2021-11-06T22:57:09.053873Z",
     "shell.execute_reply": "2021-11-06T22:57:09.052873Z",
     "shell.execute_reply.started": "2021-11-06T22:57:09.003874Z"
    }
   },
   "outputs": [],
   "source": [
    "test_y_pred = dtree.predict(vect_X_test)"
   ]
  },
  {
   "cell_type": "code",
   "execution_count": 172,
   "metadata": {
    "execution": {
     "iopub.execute_input": "2021-11-06T22:57:39.251312Z",
     "iopub.status.busy": "2021-11-06T22:57:39.251312Z",
     "iopub.status.idle": "2021-11-06T22:57:39.592311Z",
     "shell.execute_reply": "2021-11-06T22:57:39.591307Z",
     "shell.execute_reply.started": "2021-11-06T22:57:39.251312Z"
    }
   },
   "outputs": [
    {
     "name": "stdout",
     "output_type": "stream",
     "text": [
      "Accuracy: 79.6%\n",
      "Precision: 82.2%\n",
      "Recall: 79.9%\n",
      "F1: 80.5%\n",
      "\n",
      "\n",
      "Classification Report\n",
      "\n",
      "\n",
      "              precision    recall  f1-score   support\n",
      "\n",
      "           1       0.89      0.88      0.88       808\n",
      "           2       0.82      0.65      0.72      1582\n",
      "           3       0.76      0.88      0.81      2210\n",
      "\n",
      "    accuracy                           0.80      4600\n",
      "   macro avg       0.82      0.80      0.81      4600\n",
      "weighted avg       0.80      0.80      0.79      4600\n",
      "\n"
     ]
    },
    {
     "data": {
      "image/png": "[encoded data removed]",
      "text/plain": [
       "<Figure size 432x288 with 2 Axes>"
      ]
     },
     "metadata": {
      "needs_background": "light"
     },
     "output_type": "display_data"
    }
   ],
   "source": [
    "scoring(y_test, test_y_pred, dtree, vect_X_test)"
   ]
  },
  {
   "cell_type": "markdown",
   "metadata": {},
   "source": [
    "At a quick glance, seems to have some problem with overfitting, espectially with 'earn' precision, but overall not too bad."
   ]
  },
  {
   "cell_type": "markdown",
   "metadata": {},
   "source": [
    "## KNN"
   ]
  },
  {
   "cell_type": "code",
   "execution_count": 173,
   "metadata": {
    "execution": {
     "iopub.execute_input": "2021-11-06T22:59:19.550477Z",
     "iopub.status.busy": "2021-11-06T22:59:19.550477Z",
     "iopub.status.idle": "2021-11-06T22:59:19.619432Z",
     "shell.execute_reply": "2021-11-06T22:59:19.617435Z",
     "shell.execute_reply.started": "2021-11-06T22:59:19.550477Z"
    }
   },
   "outputs": [
    {
     "data": {
      "text/plain": [
       "KNeighborsClassifier(weights='distance')"
      ]
     },
     "execution_count": 173,
     "metadata": {},
     "output_type": "execute_result"
    }
   ],
   "source": [
    "neigh = KNeighborsClassifier(n_neighbors=5, weights='distance')\n",
    "neigh.fit(vect_X_train, y_train)"
   ]
  },
  {
   "cell_type": "code",
   "execution_count": 175,
   "metadata": {
    "execution": {
     "iopub.execute_input": "2021-11-06T23:00:51.429019Z",
     "iopub.status.busy": "2021-11-06T23:00:51.428021Z",
     "iopub.status.idle": "2021-11-06T23:01:36.042936Z",
     "shell.execute_reply": "2021-11-06T23:01:36.034936Z",
     "shell.execute_reply.started": "2021-11-06T23:00:51.428021Z"
    }
   },
   "outputs": [
    {
     "data": {
      "text/plain": [
       "'The accuracy score is: 99.83%'"
      ]
     },
     "execution_count": 175,
     "metadata": {},
     "output_type": "execute_result"
    }
   ],
   "source": [
    "y_pred = neigh.predict(vect_X_train)\n",
    "f'The accuracy score is: {round(accuracy_score(y_train, y_pred)*100, 2)}%'"
   ]
  },
  {
   "cell_type": "code",
   "execution_count": 176,
   "metadata": {
    "execution": {
     "iopub.execute_input": "2021-11-06T23:02:01.155619Z",
     "iopub.status.busy": "2021-11-06T23:02:01.154622Z",
     "iopub.status.idle": "2021-11-06T23:02:23.622008Z",
     "shell.execute_reply": "2021-11-06T23:02:23.621008Z",
     "shell.execute_reply.started": "2021-11-06T23:02:01.155619Z"
    }
   },
   "outputs": [
    {
     "name": "stdout",
     "output_type": "stream",
     "text": [
      "Accuracy: 99.8%\n",
      "Precision: 99.8%\n",
      "Recall: 99.8%\n",
      "F1: 99.8%\n",
      "\n",
      "\n",
      "Classification Report\n",
      "\n",
      "\n",
      "              precision    recall  f1-score   support\n",
      "\n",
      "           1       1.00      1.00      1.00      3448\n",
      "           2       1.00      1.00      1.00      6236\n",
      "           3       1.00      1.00      1.00      8715\n",
      "\n",
      "    accuracy                           1.00     18399\n",
      "   macro avg       1.00      1.00      1.00     18399\n",
      "weighted avg       1.00      1.00      1.00     18399\n",
      "\n"
     ]
    },
    {
     "data": {
      "image/png": "[encoded data removed]",
      "text/plain": [
       "<Figure size 432x288 with 2 Axes>"
      ]
     },
     "metadata": {
      "needs_background": "light"
     },
     "output_type": "display_data"
    }
   ],
   "source": [
    "scoring(y_train, y_pred, neigh, vect_X_train)"
   ]
  },
  {
   "cell_type": "markdown",
   "metadata": {},
   "source": [
    "Almost perfect! \n",
    "\n",
    "### Check for overfitting"
   ]
  },
  {
   "cell_type": "code",
   "execution_count": 179,
   "metadata": {
    "execution": {
     "iopub.execute_input": "2021-11-06T23:04:43.202088Z",
     "iopub.status.busy": "2021-11-06T23:04:43.201088Z",
     "iopub.status.idle": "2021-11-06T23:04:49.402086Z",
     "shell.execute_reply": "2021-11-06T23:04:49.401086Z",
     "shell.execute_reply.started": "2021-11-06T23:04:43.201088Z"
    }
   },
   "outputs": [],
   "source": [
    "test_y_pred = neigh.predict(vect_X_test)"
   ]
  },
  {
   "cell_type": "code",
   "execution_count": 181,
   "metadata": {
    "execution": {
     "iopub.execute_input": "2021-11-06T23:04:53.866302Z",
     "iopub.status.busy": "2021-11-06T23:04:53.865303Z",
     "iopub.status.idle": "2021-11-06T23:04:59.855297Z",
     "shell.execute_reply": "2021-11-06T23:04:59.854296Z",
     "shell.execute_reply.started": "2021-11-06T23:04:53.866302Z"
    }
   },
   "outputs": [
    {
     "name": "stdout",
     "output_type": "stream",
     "text": [
      "Accuracy: 84.5%\n",
      "Precision: 84.3%\n",
      "Recall: 85.0%\n",
      "F1: 84.6%\n",
      "\n",
      "\n",
      "Classification Report\n",
      "\n",
      "\n",
      "              precision    recall  f1-score   support\n",
      "\n",
      "           1       0.84      0.89      0.86       808\n",
      "           2       0.84      0.81      0.82      1582\n",
      "           3       0.85      0.86      0.85      2210\n",
      "\n",
      "    accuracy                           0.84      4600\n",
      "   macro avg       0.84      0.85      0.85      4600\n",
      "weighted avg       0.84      0.84      0.84      4600\n",
      "\n"
     ]
    },
    {
     "data": {
      "image/png": "[encoded data removed]",
      "text/plain": [
       "<Figure size 432x288 with 2 Axes>"
      ]
     },
     "metadata": {
      "needs_background": "light"
     },
     "output_type": "display_data"
    }
   ],
   "source": [
    "scoring(y_test, test_y_pred, neigh, vect_X_test)"
   ]
  },
  {
   "cell_type": "markdown",
   "metadata": {},
   "source": [
    "Does seem to have an issue with overfitting, almost 15 point difference with accuracy"
   ]
  },
  {
   "cell_type": "markdown",
   "metadata": {},
   "source": [
    "## XGBoost"
   ]
  },
  {
   "cell_type": "code",
   "execution_count": 186,
   "metadata": {
    "execution": {
     "iopub.execute_input": "2021-11-06T23:21:47.688506Z",
     "iopub.status.busy": "2021-11-06T23:21:47.688506Z",
     "iopub.status.idle": "2021-11-06T23:21:47.735471Z",
     "shell.execute_reply": "2021-11-06T23:21:47.734475Z",
     "shell.execute_reply.started": "2021-11-06T23:21:47.688506Z"
    }
   },
   "outputs": [],
   "source": [
    "xgb = XGBClassifier()"
   ]
  },
  {
   "cell_type": "code",
   "execution_count": 187,
   "metadata": {
    "execution": {
     "iopub.execute_input": "2021-11-06T23:21:55.481974Z",
     "iopub.status.busy": "2021-11-06T23:21:55.481974Z",
     "iopub.status.idle": "2021-11-06T23:31:12.254962Z",
     "shell.execute_reply": "2021-11-06T23:31:12.251958Z",
     "shell.execute_reply.started": "2021-11-06T23:21:55.481974Z"
    }
   },
   "outputs": [
    {
     "data": {
      "text/plain": [
       "XGBClassifier(objective='multi:softprob')"
      ]
     },
     "execution_count": 187,
     "metadata": {},
     "output_type": "execute_result"
    }
   ],
   "source": [
    "xgb.fit(vect_X_train, y_train)"
   ]
  },
  {
   "cell_type": "code",
   "execution_count": 188,
   "metadata": {
    "execution": {
     "iopub.execute_input": "2021-11-06T23:31:12.264960Z",
     "iopub.status.busy": "2021-11-06T23:31:12.263957Z",
     "iopub.status.idle": "2021-11-06T23:31:13.654957Z",
     "shell.execute_reply": "2021-11-06T23:31:13.653996Z",
     "shell.execute_reply.started": "2021-11-06T23:31:12.264960Z"
    }
   },
   "outputs": [
    {
     "data": {
      "text/plain": [
       "'The accuracy score is: 84.68%'"
      ]
     },
     "execution_count": 188,
     "metadata": {},
     "output_type": "execute_result"
    }
   ],
   "source": [
    "y_pred = xgb.predict(vect_X_train)\n",
    "f'The accuracy score is: {round(accuracy_score(y_train, y_pred)*100, 2)}%'"
   ]
  },
  {
   "cell_type": "code",
   "execution_count": 189,
   "metadata": {
    "execution": {
     "iopub.execute_input": "2021-11-06T23:35:22.262585Z",
     "iopub.status.busy": "2021-11-06T23:35:22.261582Z",
     "iopub.status.idle": "2021-11-06T23:35:24.636075Z",
     "shell.execute_reply": "2021-11-06T23:35:24.635076Z",
     "shell.execute_reply.started": "2021-11-06T23:35:22.262585Z"
    }
   },
   "outputs": [
    {
     "name": "stdout",
     "output_type": "stream",
     "text": [
      "Accuracy: 84.7%\n",
      "Precision: 87.6%\n",
      "Recall: 84.6%\n",
      "F1: 85.5%\n",
      "\n",
      "\n",
      "Classification Report\n",
      "\n",
      "\n",
      "              precision    recall  f1-score   support\n",
      "\n",
      "           1       0.94      0.91      0.92      3448\n",
      "           2       0.90      0.70      0.79      6236\n",
      "           3       0.79      0.92      0.85      8715\n",
      "\n",
      "    accuracy                           0.85     18399\n",
      "   macro avg       0.88      0.85      0.86     18399\n",
      "weighted avg       0.86      0.85      0.84     18399\n",
      "\n"
     ]
    },
    {
     "data": {
      "image/png": "[encoded data removed]",
      "text/plain": [
       "<Figure size 432x288 with 2 Axes>"
      ]
     },
     "metadata": {
      "needs_background": "light"
     },
     "output_type": "display_data"
    }
   ],
   "source": [
    "scoring(y_train, y_pred, xgb, vect_X_train)"
   ]
  },
  {
   "cell_type": "markdown",
   "metadata": {},
   "source": [
    "An OK model, but not as strong as Naive Bayes or KNN"
   ]
  },
  {
   "cell_type": "markdown",
   "metadata": {},
   "source": [
    "### Check for overfitting"
   ]
  },
  {
   "cell_type": "code",
   "execution_count": 190,
   "metadata": {
    "execution": {
     "iopub.execute_input": "2021-11-06T23:37:08.508590Z",
     "iopub.status.busy": "2021-11-06T23:37:08.508590Z",
     "iopub.status.idle": "2021-11-06T23:37:09.144591Z",
     "shell.execute_reply": "2021-11-06T23:37:09.142589Z",
     "shell.execute_reply.started": "2021-11-06T23:37:08.508590Z"
    }
   },
   "outputs": [],
   "source": [
    "test_y_pred = xgb.predict(vect_X_test)"
   ]
  },
  {
   "cell_type": "code",
   "execution_count": 191,
   "metadata": {
    "execution": {
     "iopub.execute_input": "2021-11-06T23:37:43.200164Z",
     "iopub.status.busy": "2021-11-06T23:37:43.199157Z",
     "iopub.status.idle": "2021-11-06T23:37:44.221165Z",
     "shell.execute_reply": "2021-11-06T23:37:44.220194Z",
     "shell.execute_reply.started": "2021-11-06T23:37:43.200164Z"
    }
   },
   "outputs": [
    {
     "name": "stdout",
     "output_type": "stream",
     "text": [
      "Accuracy: 81.5%\n",
      "Precision: 84.0%\n",
      "Recall: 82.1%\n",
      "F1: 82.6%\n",
      "\n",
      "\n",
      "Classification Report\n",
      "\n",
      "\n",
      "              precision    recall  f1-score   support\n",
      "\n",
      "           1       0.91      0.90      0.90       808\n",
      "           2       0.84      0.68      0.75      1582\n",
      "           3       0.77      0.88      0.82      2210\n",
      "\n",
      "    accuracy                           0.81      4600\n",
      "   macro avg       0.84      0.82      0.83      4600\n",
      "weighted avg       0.82      0.81      0.81      4600\n",
      "\n"
     ]
    },
    {
     "data": {
      "image/png": "[encoded data removed]",
      "text/plain": [
       "<Figure size 432x288 with 2 Axes>"
      ]
     },
     "metadata": {
      "needs_background": "light"
     },
     "output_type": "display_data"
    }
   ],
   "source": [
    "scoring(y_test, test_y_pred, xgb, vect_X_test)"
   ]
  },
  {
   "cell_type": "markdown",
   "metadata": {},
   "source": [
    "Pretty good on not overfitting"
   ]
  }
 ],
 "metadata": {
  "kernelspec": {
   "display_name": "Python 3",
   "language": "python",
   "name": "python3"
  },
  "language_info": {
   "codemirror_mode": {
    "name": "ipython",
    "version": 3
   },
   "file_extension": ".py",
   "mimetype": "text/x-python",
   "name": "python",
   "nbconvert_exporter": "python",
   "pygments_lexer": "ipython3",
   "version": "3.6.9"
  }
 },
 "nbformat": 4,
 "nbformat_minor": 4
}
