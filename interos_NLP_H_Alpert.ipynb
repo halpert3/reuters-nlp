{
  "nbformat": 4,
  "nbformat_minor": 0,
  "metadata": {
    "colab": {
      "name": "interos_NLP-H_Alpert.ipynb",
      "provenance": [],
      "collapsed_sections": [],
      "toc_visible": true
    },
    "kernelspec": {
      "name": "python3",
      "display_name": "Python 3"
    },
    "language_info": {
      "name": "python"
    }
  },
  "cells": [
    {
      "cell_type": "markdown",
      "metadata": {
        "id": "ZTAV5qQ0_Syc"
      },
      "source": [
        "# Load and inspect data"
      ]
    },
    {
      "cell_type": "markdown",
      "metadata": {
        "id": "y4PZXPRS20ju"
      },
      "source": [
        "I used this video to help me figure out how to load data into Colab: https://www.youtube.com/watch?v=lHRC5gFvQnA"
      ]
    },
    {
      "cell_type": "code",
      "metadata": {
        "id": "U0ldSvLWvaZv"
      },
      "source": [
        "import pandas as pd\n",
        "import numpy as np\n",
        "from bs4 import BeautifulSoup"
      ],
      "execution_count": null,
      "outputs": []
    },
    {
      "cell_type": "code",
      "metadata": {
        "id": "f5pXdtSDvi3f",
        "colab": {
          "base_uri": "https://localhost:8080/"
        },
        "outputId": "1515f6cf-01da-45a1-beeb-39f7672d6764"
      },
      "source": [
        "from google.colab import drive\n",
        "drive.mount('/gdrive')\n",
        "%cd /gdrive"
      ],
      "execution_count": null,
      "outputs": [
        {
          "output_type": "stream",
          "name": "stdout",
          "text": [
            "Mounted at /gdrive\n",
            "/gdrive\n"
          ]
        }
      ]
    },
    {
      "cell_type": "code",
      "metadata": {
        "id": "e2VTY-R-BpC0"
      },
      "source": [
        "path = '/gdrive/My Drive/Colab Notebooks/interos/data_files/'\n",
        "f = open(path + 'reut2-000.sgm', encoding='utf-8', errors='ignore')\n",
        "dataFile = f.read()"
      ],
      "execution_count": null,
      "outputs": []
    },
    {
      "cell_type": "code",
      "metadata": {
        "colab": {
          "base_uri": "https://localhost:8080/"
        },
        "id": "zLI_ilRxCpU1",
        "outputId": "ee62054b-efb4-46e9-e068-d66dbf8ba162"
      },
      "source": [
        "type(dataFile)"
      ],
      "execution_count": null,
      "outputs": [
        {
          "output_type": "execute_result",
          "data": {
            "text/plain": [
              "str"
            ]
          },
          "metadata": {},
          "execution_count": 21
        }
      ]
    },
    {
      "cell_type": "markdown",
      "metadata": {
        "id": "H-SFUqIlCpkM"
      },
      "source": [
        "DataFile is a string"
      ]
    },
    {
      "cell_type": "code",
      "metadata": {
        "colab": {
          "base_uri": "https://localhost:8080/",
          "height": 157
        },
        "id": "pv-7aPG-Cpq9",
        "outputId": "e9d17f44-21cd-412c-9002-f142dace09c9"
      },
      "source": [
        "dataFile[0:1000]"
      ],
      "execution_count": null,
      "outputs": [
        {
          "output_type": "execute_result",
          "data": {
            "application/vnd.google.colaboratory.intrinsic+json": {
              "type": "string"
            },
            "text/plain": [
              "'<!DOCTYPE lewis SYSTEM \"lewis.dtd\">\\n<REUTERS TOPICS=\"YES\" LEWISSPLIT=\"TRAIN\" CGISPLIT=\"TRAINING-SET\" OLDID=\"5544\" NEWID=\"1\">\\n<DATE>26-FEB-1987 15:01:01.79</DATE>\\n<TOPICS><D>cocoa</D></TOPICS>\\n<PLACES><D>el-salvador</D><D>usa</D><D>uruguay</D></PLACES>\\n<PEOPLE></PEOPLE>\\n<ORGS></ORGS>\\n<EXCHANGES></EXCHANGES>\\n<COMPANIES></COMPANIES>\\n<UNKNOWN> \\n&#5;&#5;&#5;C T\\n&#22;&#22;&#1;f0704&#31;reute\\nu f BC-BAHIA-COCOA-REVIEW   02-26 0105</UNKNOWN>\\n<TEXT>&#2;\\n<TITLE>BAHIA COCOA REVIEW</TITLE>\\n<DATELINE>    SALVADOR, Feb 26 - </DATELINE><BODY>Showers continued throughout the week in\\nthe Bahia cocoa zone, alleviating the drought since early\\nJanuary and improving prospects for the coming temporao,\\nalthough normal humidity levels have not been restored,\\nComissaria Smith said in its weekly review.\\n    The dry period means the temporao will be late this year.\\n    Arrivals for the week ended February 22 were 155,221 bags\\nof 60 kilos making a cumulative total for the season of 5.93\\nmln against 5.81 at the sa'"
            ]
          },
          "metadata": {},
          "execution_count": 22
        }
      ]
    },
    {
      "cell_type": "markdown",
      "metadata": {
        "id": "znWVGNRuCpyX"
      },
      "source": [
        "It's hard to read. Parse it with BS4\n",
        "\n",
        "(I used [this tutorial](https://www.youtube.com/watch?v=GjKQ6V_ViQE) to help me with Beautiful Soup.)"
      ]
    },
    {
      "cell_type": "code",
      "metadata": {
        "id": "cbtQBfjZMDFd",
        "colab": {
          "base_uri": "https://localhost:8080/"
        },
        "outputId": "0cc0f278-1688-4ea1-996d-c61f79c948b2"
      },
      "source": [
        "soup = BeautifulSoup(dataFile,'html.parser')\n",
        "type(soup)"
      ],
      "execution_count": null,
      "outputs": [
        {
          "output_type": "execute_result",
          "data": {
            "text/plain": [
              "bs4.BeautifulSoup"
            ]
          },
          "metadata": {},
          "execution_count": 23
        }
      ]
    },
    {
      "cell_type": "code",
      "metadata": {
        "id": "nj4_qXeQFXkY"
      },
      "source": [
        "# print(soup.prettify())"
      ],
      "execution_count": null,
      "outputs": []
    },
    {
      "cell_type": "markdown",
      "metadata": {
        "id": "nSfpiLx3F9ve"
      },
      "source": [
        "I'm commenting out the above line because of the large output, but it shows every article starts with the html tag `<reuters>`."
      ]
    },
    {
      "cell_type": "markdown",
      "metadata": {
        "id": "W-o7X9afMJTV"
      },
      "source": [
        "## Check structure of an article"
      ]
    },
    {
      "cell_type": "markdown",
      "metadata": {
        "id": "CwxOOI5kHe4T"
      },
      "source": [
        "Looking at the `<body>` tag."
      ]
    },
    {
      "cell_type": "code",
      "metadata": {
        "id": "H8azCTc3MO-9"
      },
      "source": [
        "contents = soup.findAll('body')"
      ],
      "execution_count": null,
      "outputs": []
    },
    {
      "cell_type": "code",
      "metadata": {
        "id": "imROlmigMTuu"
      },
      "source": [
        "documents = []\n",
        "for content in contents:\n",
        "  documents.append(content.text)"
      ],
      "execution_count": null,
      "outputs": []
    },
    {
      "cell_type": "code",
      "metadata": {
        "id": "9YCaCMJzNUFP",
        "colab": {
          "base_uri": "https://localhost:8080/"
        },
        "outputId": "b60f3778-1722-41d3-fac2-ad6f6fccc9fa"
      },
      "source": [
        "documents[0:1]"
      ],
      "execution_count": null,
      "outputs": [
        {
          "output_type": "execute_result",
          "data": {
            "text/plain": [
              "['Showers continued throughout the week in\\nthe Bahia cocoa zone, alleviating the drought since early\\nJanuary and improving prospects for the coming temporao,\\nalthough normal humidity levels have not been restored,\\nComissaria Smith said in its weekly review.\\n    The dry period means the temporao will be late this year.\\n    Arrivals for the week ended February 22 were 155,221 bags\\nof 60 kilos making a cumulative total for the season of 5.93\\nmln against 5.81 at the same stage last year. Again it seems\\nthat cocoa delivered earlier on consignment was included in the\\narrivals figures.\\n    Comissaria Smith said there is still some doubt as to how\\nmuch old crop cocoa is still available as harvesting has\\npractically come to an end. With total Bahia crop estimates\\naround 6.4 mln bags and sales standing at almost 6.2 mln there\\nare a few hundred thousand bags still in the hands of farmers,\\nmiddlemen, exporters and processors.\\n    There are doubts as to how much of this cocoa would be fit\\nfor export as shippers are now experiencing dificulties in\\nobtaining +Bahia superior+ certificates.\\n    In view of the lower quality over recent weeks farmers have\\nsold a good part of their cocoa held on consignment.\\n    Comissaria Smith said spot bean prices rose to 340 to 350\\ncruzados per arroba of 15 kilos.\\n    Bean shippers were reluctant to offer nearby shipment and\\nonly limited sales were booked for March shipment at 1,750 to\\n1,780 dlrs per tonne to ports to be named.\\n    New crop sales were also light and all to open ports with\\nJune/July going at 1,850 and 1,880 dlrs and at 35 and 45 dlrs\\nunder New York july, Aug/Sept at 1,870, 1,875 and 1,880 dlrs\\nper tonne FOB.\\n    Routine sales of butter were made. March/April sold at\\n4,340, 4,345 and 4,350 dlrs.\\n    April/May butter went at 2.27 times New York May, June/July\\nat 4,400 and 4,415 dlrs, Aug/Sept at 4,351 to 4,450 dlrs and at\\n2.27 and 2.28 times New York Sept and Oct/Dec at 4,480 dlrs and\\n2.27 times New York Dec, Comissaria Smith said.\\n    Destinations were the U.S., Covertible currency areas,\\nUruguay and open ports.\\n    Cake sales were registered at 785 to 995 dlrs for\\nMarch/April, 785 dlrs for May, 753 dlrs for Aug and 0.39 times\\nNew York Dec for Oct/Dec.\\n    Buyers were the U.S., Argentina, Uruguay and convertible\\ncurrency areas.\\n    Liquor sales were limited with March/April selling at 2,325\\nand 2,380 dlrs, June/July at 2,375 dlrs and at 1.25 times New\\nYork July, Aug/Sept at 2,400 dlrs and at 1.25 times New York\\nSept and Oct/Dec at 1.25 times New York Dec, Comissaria Smith\\nsaid.\\n    Total Bahia sales are currently estimated at 6.13 mln bags\\nagainst the 1986/87 crop and 1.06 mln bags against the 1987/88\\ncrop.\\n    Final figures for the period to February 28 are expected to\\nbe published by the Brazilian Cocoa Trade Commission after\\ncarnival which ends midday on February 27.\\n Reuter\\n\\x03']"
            ]
          },
          "metadata": {},
          "execution_count": 27
        }
      ]
    },
    {
      "cell_type": "markdown",
      "metadata": {
        "id": "-J_85lRtHqMJ"
      },
      "source": [
        "Re-parsing with lxml (why not?) and separating at the `<reuters>` tag"
      ]
    },
    {
      "cell_type": "code",
      "metadata": {
        "id": "nXSQXP3KNhgI"
      },
      "source": [
        "soup = BeautifulSoup(dataFile,'lxml')\n",
        "content = soup.find_all('reuters')"
      ],
      "execution_count": null,
      "outputs": []
    },
    {
      "cell_type": "code",
      "metadata": {
        "colab": {
          "base_uri": "https://localhost:8080/"
        },
        "id": "JiZSB0m8KPkc",
        "outputId": "a1a50999-c3b7-4f71-bc44-0f5c3054de30"
      },
      "source": [
        "len(content)"
      ],
      "execution_count": null,
      "outputs": [
        {
          "output_type": "execute_result",
          "data": {
            "text/plain": [
              "1000"
            ]
          },
          "metadata": {},
          "execution_count": 29
        }
      ]
    },
    {
      "cell_type": "markdown",
      "metadata": {
        "id": "BH7UzQx-KTWQ"
      },
      "source": [
        "Every file has 1000 articles."
      ]
    },
    {
      "cell_type": "markdown",
      "metadata": {
        "id": "VPc0aVqBJyCF"
      },
      "source": [
        "Checking random article"
      ]
    },
    {
      "cell_type": "code",
      "metadata": {
        "id": "sM5DXeZ0OFwh",
        "colab": {
          "base_uri": "https://localhost:8080/"
        },
        "outputId": "4e516141-4e9c-4191-9525-a826f1c56564"
      },
      "source": [
        "content[5]"
      ],
      "execution_count": null,
      "outputs": [
        {
          "output_type": "execute_result",
          "data": {
            "text/plain": [
              "<reuters cgisplit=\"TRAINING-SET\" lewissplit=\"TRAIN\" newid=\"6\" oldid=\"5549\" topics=\"YES\">\n",
              "<date>26-FEB-1987 15:14:36.41</date>\n",
              "<topics><d>veg-oil</d><d>linseed</d><d>lin-oil</d><d>soy-oil</d><d>sun-oil</d><d>soybean</d><d>oilseed</d><d>corn</d><d>sunseed</d><d>grain</d><d>sorghum</d><d>wheat</d></topics>\n",
              "<places><d>argentina</d></places>\n",
              "<people></people>\n",
              "<orgs></orgs>\n",
              "<exchanges></exchanges>\n",
              "<companies></companies>\n",
              "<unknown> \n",
              "G\n",
              "f0754reute\n",
              "r f BC-ARGENTINE-1986/87-GRA   02-26 0066</unknown>\n",
              "<text>\n",
              "<title>ARGENTINE 1986/87 GRAIN/OILSEED REGISTRATIONS</title>\n",
              "<dateline>    BUENOS AIRES, Feb 26 - </dateline>Argentine grain board figures show\n",
              "crop registrations of grains, oilseeds and their products to\n",
              "February 11, in thousands of tonnes, showing those for futurE\n",
              "shipments month, 1986/87 total and 1985/86 total to February\n",
              "12, 1986, in brackets:\n",
              "    Bread wheat prev 1,655.8, Feb 872.0, March 164.6, total\n",
              "2,692.4 (4,161.0).\n",
              "    Maize Mar 48.0, total 48.0 (nil).\n",
              "    Sorghum nil (nil)\n",
              "    Oilseed export registrations were:\n",
              "    Sunflowerseed total 15.0 (7.9)\n",
              "    Soybean May 20.0, total 20.0 (nil)\n",
              "    The board also detailed export registrations for\n",
              "subproducts, as follows,\n",
              "    SUBPRODUCTS\n",
              "    Wheat prev 39.9, Feb 48.7, March 13.2, Apr 10.0, total\n",
              "111.8 (82.7) .\n",
              "    Linseed prev 34.8, Feb 32.9, Mar 6.8, Apr 6.3, total 80.8\n",
              "(87.4).\n",
              "    Soybean prev 100.9, Feb 45.1, MAr nil, Apr nil, May 20.0,\n",
              "total 166.1 (218.5).\n",
              "    Sunflowerseed prev 48.6, Feb 61.5, Mar 25.1, Apr 14.5,\n",
              "total 149.8 (145.3).\n",
              "    Vegetable oil registrations were :         \n",
              "    Sunoil prev 37.4, Feb 107.3, Mar 24.5, Apr 3.2, May nil,\n",
              "Jun 10.0, total 182.4 (117.6).                  \n",
              "    Linoil prev 15.9, Feb 23.6, Mar 20.4, Apr 2.0, total 61.8,\n",
              "(76.1).                         \n",
              "    Soybean oil prev 3.7, Feb 21.1, Mar nil, Apr 2.0, May 9.0,\n",
              "Jun 13.0, Jul 7.0, total 55.8 (33.7).        REUTER\n",
              "</text>\n",
              "</reuters>"
            ]
          },
          "metadata": {},
          "execution_count": 30
        }
      ]
    },
    {
      "cell_type": "markdown",
      "metadata": {
        "id": "CLLNvsG6OJxi"
      },
      "source": [
        "## Investigate topics"
      ]
    },
    {
      "cell_type": "code",
      "metadata": {
        "colab": {
          "base_uri": "https://localhost:8080/"
        },
        "id": "kJy4XS0HILLL",
        "outputId": "3ca53561-c9bd-4e20-dc4e-2bedc91b19db"
      },
      "source": [
        "topics = np.genfromtxt(path + \"all-topics-strings.lc.txt\", \n",
        "                      delimiter='\\n', dtype=None, encoding=None)\n",
        "topics"
      ],
      "execution_count": null,
      "outputs": [
        {
          "output_type": "execute_result",
          "data": {
            "text/plain": [
              "array(['acq', 'alum', 'austdlr', 'austral', 'barley', 'bfr', 'bop', 'can',\n",
              "       'carcass', 'castor-meal', 'castor-oil', 'castorseed', 'citruspulp',\n",
              "       'cocoa', 'coconut', 'coconut-oil', 'coffee', 'copper',\n",
              "       'copra-cake', 'corn', 'corn-oil', 'cornglutenfeed', 'cotton',\n",
              "       'cotton-meal', 'cotton-oil', 'cottonseed', 'cpi', 'cpu', 'crude',\n",
              "       'cruzado', 'dfl', 'dkr', 'dlr', 'dmk', 'drachma', 'earn', 'escudo',\n",
              "       'f-cattle', 'ffr', 'fishmeal', 'flaxseed', 'fuel', 'gas', 'gnp',\n",
              "       'gold', 'grain', 'groundnut', 'groundnut-meal', 'groundnut-oil',\n",
              "       'heat', 'hk', 'hog', 'housing', 'income', 'instal-debt',\n",
              "       'interest', 'inventories', 'ipi', 'iron-steel', 'jet', 'jobs',\n",
              "       'l-cattle', 'lead', 'lei', 'lin-meal', 'lin-oil', 'linseed', 'lit',\n",
              "       'livestock', 'lumber', 'lupin', 'meal-feed', 'mexpeso', 'money-fx',\n",
              "       'money-supply', 'naphtha', 'nat-gas', 'nickel', 'nkr', 'nzdlr',\n",
              "       'oat', 'oilseed', 'orange', 'palladium', 'palm-meal', 'palm-oil',\n",
              "       'palmkernel', 'peseta', 'pet-chem', 'platinum', 'plywood',\n",
              "       'pork-belly', 'potato', 'propane', 'rand', 'rape-meal', 'rape-oil',\n",
              "       'rapeseed', 'red-bean', 'reserves', 'retail', 'rice', 'ringgit',\n",
              "       'rubber', 'rupiah', 'rye', 'saudriyal', 'sfr', 'ship', 'silk',\n",
              "       'silver', 'singdlr', 'skr', 'sorghum', 'soy-meal', 'soy-oil',\n",
              "       'soybean', 'stg', 'strategic-metal', 'sugar', 'sun-meal',\n",
              "       'sun-oil', 'sunseed', 'tapioca', 'tea', 'tin', 'trade', 'tung',\n",
              "       'tung-oil', 'veg-oil', 'wheat', 'wool', 'wpi', 'yen', 'zinc'],\n",
              "      dtype='<U15')"
            ]
          },
          "metadata": {},
          "execution_count": 5
        }
      ]
    },
    {
      "cell_type": "code",
      "metadata": {
        "colab": {
          "base_uri": "https://localhost:8080/"
        },
        "id": "6Z_dQu_5DBXU",
        "outputId": "cf1b8309-2f51-43af-9d82-fe6a003e703c"
      },
      "source": [
        "len(topics)"
      ],
      "execution_count": null,
      "outputs": [
        {
          "output_type": "execute_result",
          "data": {
            "text/plain": [
              "135"
            ]
          },
          "metadata": {},
          "execution_count": 6
        }
      ]
    },
    {
      "cell_type": "markdown",
      "metadata": {
        "id": "9-Vz3ZfSIOPX"
      },
      "source": [
        "Find all topics in the soup file and turn them in to text"
      ]
    },
    {
      "cell_type": "code",
      "metadata": {
        "id": "zBjxVMYfIRw8"
      },
      "source": [
        "topics = soup.find_all('topics')\n",
        "topic_list = list()"
      ],
      "execution_count": null,
      "outputs": []
    },
    {
      "cell_type": "code",
      "metadata": {
        "colab": {
          "base_uri": "https://localhost:8080/"
        },
        "id": "HGBMMRWbIScj",
        "outputId": "242667ec-ac80-4571-a4e6-f5cbf5e15a6c"
      },
      "source": [
        "for x in topics:\n",
        "    # turn bs4.tag into text\n",
        "    words = [i.text for i in x]\n",
        "    #append text to list\n",
        "    topic_list.append(words)\n",
        "\n",
        "topic_list[0:10]"
      ],
      "execution_count": null,
      "outputs": [
        {
          "output_type": "execute_result",
          "data": {
            "text/plain": [
              "[['cocoa'],\n",
              " [],\n",
              " [],\n",
              " [],\n",
              " ['grain', 'wheat', 'corn', 'barley', 'oat', 'sorghum'],\n",
              " ['veg-oil',\n",
              "  'linseed',\n",
              "  'lin-oil',\n",
              "  'soy-oil',\n",
              "  'sun-oil',\n",
              "  'soybean',\n",
              "  'oilseed',\n",
              "  'corn',\n",
              "  'sunseed',\n",
              "  'grain',\n",
              "  'sorghum',\n",
              "  'wheat'],\n",
              " [],\n",
              " [],\n",
              " ['earn'],\n",
              " ['acq']]"
            ]
          },
          "metadata": {},
          "execution_count": 33
        }
      ]
    },
    {
      "cell_type": "markdown",
      "metadata": {
        "id": "m97mJkJjITNI"
      },
      "source": [
        "Some topics are blank, and some articles have several topics."
      ]
    },
    {
      "cell_type": "markdown",
      "metadata": {
        "id": "ANnOQLCQI2w-"
      },
      "source": [
        "## Make dataframe with the topics"
      ]
    },
    {
      "cell_type": "markdown",
      "metadata": {
        "id": "esJUpaaSJV8x"
      },
      "source": [
        "Make function to pull out **'earn'** topic\n",
        "\n",
        "I only care about the 'earn' topic for now, so I'm making it the only one that matters. If it's not 'earn', it's 'other'. But I'm not clear what the ones that have no topic mean. I'm calling those 'blank'."
      ]
    },
    {
      "cell_type": "code",
      "metadata": {
        "id": "jD2Mstj-JcW2"
      },
      "source": [
        "def pull_out_earn_topic(topic_list):\n",
        "    for i, topic in enumerate(topic_list):\n",
        "        \n",
        "        # format is a list of strings, so this loop removes topics from nested list\n",
        "        article_topics = ''\n",
        "        for word in topic:\n",
        "            article_topics += (word + ' ')\n",
        "            \n",
        "        # assign correct topic \n",
        "        if not article_topics:\n",
        "            topic_list[i] = 'blank'\n",
        "        elif 'earn' in article_topics:\n",
        "            topic_list[i] = 'earn'\n",
        "        else:\n",
        "            topic_list[i] = 'other'\n",
        "    \n",
        "    return topic_list"
      ],
      "execution_count": null,
      "outputs": []
    },
    {
      "cell_type": "code",
      "metadata": {
        "colab": {
          "base_uri": "https://localhost:8080/"
        },
        "id": "fh8qYOGJJdUW",
        "outputId": "07a2ad6d-dc48-4111-de5c-baa705216b36"
      },
      "source": [
        "test_list = pull_out_earn_topic(topic_list[0:100])\n",
        "test_list[0:10]"
      ],
      "execution_count": null,
      "outputs": [
        {
          "output_type": "execute_result",
          "data": {
            "text/plain": [
              "['other',\n",
              " 'blank',\n",
              " 'blank',\n",
              " 'blank',\n",
              " 'other',\n",
              " 'other',\n",
              " 'blank',\n",
              " 'blank',\n",
              " 'earn',\n",
              " 'other']"
            ]
          },
          "metadata": {},
          "execution_count": 35
        }
      ]
    },
    {
      "cell_type": "markdown",
      "metadata": {
        "id": "UrMjA0qjJdW7"
      },
      "source": [
        "Test case works. Make the whole dataframe."
      ]
    },
    {
      "cell_type": "code",
      "metadata": {
        "colab": {
          "base_uri": "https://localhost:8080/",
          "height": 423
        },
        "id": "u07_5I8eJddE",
        "outputId": "88e92a75-8cce-4ee2-f3ef-469cad133db3"
      },
      "source": [
        "topics_for_df = pull_out_earn_topic(topic_list)\n",
        "df=pd.DataFrame(topics_for_df, columns=['topic'])\n",
        "\n",
        "df"
      ],
      "execution_count": null,
      "outputs": [
        {
          "output_type": "execute_result",
          "data": {
            "text/html": [
              "<div>\n",
              "<style scoped>\n",
              "    .dataframe tbody tr th:only-of-type {\n",
              "        vertical-align: middle;\n",
              "    }\n",
              "\n",
              "    .dataframe tbody tr th {\n",
              "        vertical-align: top;\n",
              "    }\n",
              "\n",
              "    .dataframe thead th {\n",
              "        text-align: right;\n",
              "    }\n",
              "</style>\n",
              "<table border=\"1\" class=\"dataframe\">\n",
              "  <thead>\n",
              "    <tr style=\"text-align: right;\">\n",
              "      <th></th>\n",
              "      <th>topic</th>\n",
              "    </tr>\n",
              "  </thead>\n",
              "  <tbody>\n",
              "    <tr>\n",
              "      <th>0</th>\n",
              "      <td>other</td>\n",
              "    </tr>\n",
              "    <tr>\n",
              "      <th>1</th>\n",
              "      <td>blank</td>\n",
              "    </tr>\n",
              "    <tr>\n",
              "      <th>2</th>\n",
              "      <td>blank</td>\n",
              "    </tr>\n",
              "    <tr>\n",
              "      <th>3</th>\n",
              "      <td>blank</td>\n",
              "    </tr>\n",
              "    <tr>\n",
              "      <th>4</th>\n",
              "      <td>other</td>\n",
              "    </tr>\n",
              "    <tr>\n",
              "      <th>...</th>\n",
              "      <td>...</td>\n",
              "    </tr>\n",
              "    <tr>\n",
              "      <th>995</th>\n",
              "      <td>blank</td>\n",
              "    </tr>\n",
              "    <tr>\n",
              "      <th>996</th>\n",
              "      <td>blank</td>\n",
              "    </tr>\n",
              "    <tr>\n",
              "      <th>997</th>\n",
              "      <td>earn</td>\n",
              "    </tr>\n",
              "    <tr>\n",
              "      <th>998</th>\n",
              "      <td>other</td>\n",
              "    </tr>\n",
              "    <tr>\n",
              "      <th>999</th>\n",
              "      <td>other</td>\n",
              "    </tr>\n",
              "  </tbody>\n",
              "</table>\n",
              "<p>1000 rows × 1 columns</p>\n",
              "</div>"
            ],
            "text/plain": [
              "     topic\n",
              "0    other\n",
              "1    blank\n",
              "2    blank\n",
              "3    blank\n",
              "4    other\n",
              "..     ...\n",
              "995  blank\n",
              "996  blank\n",
              "997   earn\n",
              "998  other\n",
              "999  other\n",
              "\n",
              "[1000 rows x 1 columns]"
            ]
          },
          "metadata": {},
          "execution_count": 36
        }
      ]
    },
    {
      "cell_type": "markdown",
      "metadata": {
        "id": "xZP4W1M6Jdib"
      },
      "source": [
        "## Add article content to df"
      ]
    },
    {
      "cell_type": "code",
      "metadata": {
        "colab": {
          "base_uri": "https://localhost:8080/"
        },
        "id": "khzDhFbLJdlZ",
        "outputId": "c304e159-50a0-425e-b1cd-72a002c39309"
      },
      "source": [
        "all_text = soup.find_all(\"text\")\n",
        "len(all_text)"
      ],
      "execution_count": null,
      "outputs": [
        {
          "output_type": "execute_result",
          "data": {
            "text/plain": [
              "1000"
            ]
          },
          "metadata": {},
          "execution_count": 37
        }
      ]
    },
    {
      "cell_type": "code",
      "metadata": {
        "id": "P4kxYpx6JdoG"
      },
      "source": [
        "list_all_text = list()\n",
        "for text in all_text:\n",
        "    \n",
        "    # getting just the text from the element\n",
        "    # stripping out the newline indicator\n",
        "    working_text = text.get_text().replace(\"\\n\", \" \")\n",
        "    \n",
        "    # removing extra spaces\n",
        "    working_text = ' '.join(working_text.split())\n",
        "    \n",
        "    # appending to list\n",
        "    list_all_text.append(working_text)"
      ],
      "execution_count": null,
      "outputs": []
    },
    {
      "cell_type": "code",
      "metadata": {
        "colab": {
          "base_uri": "https://localhost:8080/",
          "height": 423
        },
        "id": "AsAGYBwKJdqx",
        "outputId": "d5f1062a-aadd-466f-9420-872040ae4f82"
      },
      "source": [
        "df['text'] = list_all_text\n",
        "df"
      ],
      "execution_count": null,
      "outputs": [
        {
          "output_type": "execute_result",
          "data": {
            "text/html": [
              "<div>\n",
              "<style scoped>\n",
              "    .dataframe tbody tr th:only-of-type {\n",
              "        vertical-align: middle;\n",
              "    }\n",
              "\n",
              "    .dataframe tbody tr th {\n",
              "        vertical-align: top;\n",
              "    }\n",
              "\n",
              "    .dataframe thead th {\n",
              "        text-align: right;\n",
              "    }\n",
              "</style>\n",
              "<table border=\"1\" class=\"dataframe\">\n",
              "  <thead>\n",
              "    <tr style=\"text-align: right;\">\n",
              "      <th></th>\n",
              "      <th>topic</th>\n",
              "      <th>text</th>\n",
              "    </tr>\n",
              "  </thead>\n",
              "  <tbody>\n",
              "    <tr>\n",
              "      <th>0</th>\n",
              "      <td>other</td>\n",
              "      <td>BAHIA COCOA REVIEW SALVADOR, Feb 26 - Showers ...</td>\n",
              "    </tr>\n",
              "    <tr>\n",
              "      <th>1</th>\n",
              "      <td>blank</td>\n",
              "      <td>STANDARD OIL &lt;SRD&gt; TO FORM FINANCIAL UNIT CLEV...</td>\n",
              "    </tr>\n",
              "    <tr>\n",
              "      <th>2</th>\n",
              "      <td>blank</td>\n",
              "      <td>TEXAS COMMERCE BANCSHARES &lt;TCB&gt; FILES PLAN HOU...</td>\n",
              "    </tr>\n",
              "    <tr>\n",
              "      <th>3</th>\n",
              "      <td>blank</td>\n",
              "      <td>TALKING POINT/BANKAMERICA &lt;BAC&gt; EQUITY OFFER b...</td>\n",
              "    </tr>\n",
              "    <tr>\n",
              "      <th>4</th>\n",
              "      <td>other</td>\n",
              "      <td>NATIONAL AVERAGE PRICES FOR FARMER-OWNED RESER...</td>\n",
              "    </tr>\n",
              "    <tr>\n",
              "      <th>...</th>\n",
              "      <td>...</td>\n",
              "      <td>...</td>\n",
              "    </tr>\n",
              "    <tr>\n",
              "      <th>995</th>\n",
              "      <td>blank</td>\n",
              "      <td>ASHTON-TATE &lt;TATE&gt; TO OFFER COMMON SHARES TORR...</td>\n",
              "    </tr>\n",
              "    <tr>\n",
              "      <th>996</th>\n",
              "      <td>blank</td>\n",
              "      <td>KEYCORP &lt;KEY&gt; REGISTERS SUBORDINATED NOTES ALB...</td>\n",
              "    </tr>\n",
              "    <tr>\n",
              "      <th>997</th>\n",
              "      <td>earn</td>\n",
              "      <td>&lt;NATIONAL SEA PRODUCTS LTD&gt; 4TH QTR NET HALIFA...</td>\n",
              "    </tr>\n",
              "    <tr>\n",
              "      <th>998</th>\n",
              "      <td>other</td>\n",
              "      <td>U.K. MONEY MARKET SHORTAGE FORECAST REVISED DO...</td>\n",
              "    </tr>\n",
              "    <tr>\n",
              "      <th>999</th>\n",
              "      <td>other</td>\n",
              "      <td>NATIONAL AMUSEMENTS AGAIN UPS VIACOM &lt;VIA&gt; BID...</td>\n",
              "    </tr>\n",
              "  </tbody>\n",
              "</table>\n",
              "<p>1000 rows × 2 columns</p>\n",
              "</div>"
            ],
            "text/plain": [
              "     topic                                               text\n",
              "0    other  BAHIA COCOA REVIEW SALVADOR, Feb 26 - Showers ...\n",
              "1    blank  STANDARD OIL <SRD> TO FORM FINANCIAL UNIT CLEV...\n",
              "2    blank  TEXAS COMMERCE BANCSHARES <TCB> FILES PLAN HOU...\n",
              "3    blank  TALKING POINT/BANKAMERICA <BAC> EQUITY OFFER b...\n",
              "4    other  NATIONAL AVERAGE PRICES FOR FARMER-OWNED RESER...\n",
              "..     ...                                                ...\n",
              "995  blank  ASHTON-TATE <TATE> TO OFFER COMMON SHARES TORR...\n",
              "996  blank  KEYCORP <KEY> REGISTERS SUBORDINATED NOTES ALB...\n",
              "997   earn  <NATIONAL SEA PRODUCTS LTD> 4TH QTR NET HALIFA...\n",
              "998  other  U.K. MONEY MARKET SHORTAGE FORECAST REVISED DO...\n",
              "999  other  NATIONAL AMUSEMENTS AGAIN UPS VIACOM <VIA> BID...\n",
              "\n",
              "[1000 rows x 2 columns]"
            ]
          },
          "metadata": {},
          "execution_count": 39
        }
      ]
    },
    {
      "cell_type": "markdown",
      "metadata": {
        "id": "qp8_kd_wJdwJ"
      },
      "source": [
        "Now that I got it working with one .sgm file, do the entire dataset."
      ]
    },
    {
      "cell_type": "markdown",
      "metadata": {
        "id": "EEHLQiGqK1ws"
      },
      "source": [
        "# Join all datafiles"
      ]
    },
    {
      "cell_type": "markdown",
      "metadata": {
        "id": "053-vYcMK2Oi"
      },
      "source": [
        "## Method\n",
        "- make an empty df with the two columns\n",
        "- loop through each file\n",
        "    - read the file and make it a bs4 object\n",
        "    - find the topics\n",
        "        - make an empty list\n",
        "        - loop through the topics and turn the bs4 tags into text\n",
        "        - run the function on the list to make it the topics for the df\n",
        "    - find the text\n",
        "        - make an empty list\n",
        "        - run the loop using `.get_text()`\n",
        "            - clean the text in the loop\n",
        "    - add the lists to df using `add_to_df` function\n",
        "  "
      ]
    },
    {
      "cell_type": "markdown",
      "metadata": {
        "id": "XCwu3035K2U0"
      },
      "source": [
        "## Define functions"
      ]
    },
    {
      "cell_type": "code",
      "metadata": {
        "id": "C8A2_3koK2aE"
      },
      "source": [
        "def pull_out_earn_topic(topic_list):\n",
        "    for i, topic in enumerate(topic_list):\n",
        "        \n",
        "        # format is a list of strings, so this loop removes topics from nested list\n",
        "        article_topics = ''\n",
        "        for word in topic:\n",
        "            article_topics += (word + ' ')\n",
        "            \n",
        "        # assign correct topic \n",
        "        if not article_topics:\n",
        "            topic_list[i] = 'blank'\n",
        "        elif 'earn' in article_topics:\n",
        "            topic_list[i] = 'earn'\n",
        "        else:\n",
        "            topic_list[i] = 'other'\n",
        "    \n",
        "    return topic_list"
      ],
      "execution_count": null,
      "outputs": []
    },
    {
      "cell_type": "code",
      "metadata": {
        "id": "Byj4zNmhK2ex"
      },
      "source": [
        "def make_bs4(file):\n",
        "    filename = os.path.join(path, file)\n",
        "    f = open(filename, 'r', encoding='utf-8', errors='ignore')\n",
        "    dataFile = f.read()\n",
        "    print(f.name)\n",
        "        \n",
        "    # make it a bs4 object\n",
        "    soup = BeautifulSoup(dataFile,'lxml')\n",
        "    return soup"
      ],
      "execution_count": null,
      "outputs": []
    },
    {
      "cell_type": "code",
      "metadata": {
        "id": "_SXWc1BFK2i1"
      },
      "source": [
        "def add_to_df(topics, texts, df):\n",
        "    for i, topic in enumerate(topics):\n",
        "        new_row = pd.Series([topics[i], texts[i]], index=df.columns)\n",
        "        df = df.append(new_row, ignore_index=True)\n",
        "    return df"
      ],
      "execution_count": null,
      "outputs": []
    },
    {
      "cell_type": "markdown",
      "metadata": {
        "id": "5c4KD7S8K2mn"
      },
      "source": [
        "## Execute big loop to add all the data to the dataframe"
      ]
    },
    {
      "cell_type": "markdown",
      "metadata": {
        "id": "ks9WCV9YMksk"
      },
      "source": [
        "Help with BS4 and loop adapted from code found [here](https://medium.com/@namanjain2050/finding-similar-documents-reuters-dataset-example-part-4-eb0462e1ab2b). "
      ]
    },
    {
      "cell_type": "code",
      "metadata": {
        "colab": {
          "base_uri": "https://localhost:8080/",
          "height": 787
        },
        "id": "Y-Y8uXQZLSka",
        "outputId": "6a1a48f8-e8c0-4638-afdf-69f42bcfdd86"
      },
      "source": [
        "import os \n",
        "for file in os.listdir(path): \n",
        "\n",
        "    if file.endswith(\".sgm\"):\n",
        "        \n",
        "        # for each sgm file, read it and make it a bs4 object\n",
        "        soup = make_bs4(file)\n",
        "        \n",
        "        # isolate topics\n",
        "        topic_list = list()\n",
        "        \n",
        "        topics = soup.find_all('topics')\n",
        "        \n",
        "        for x in topics:\n",
        "            # turn bs4.tag into text\n",
        "            words = [i.text for i in x]\n",
        "            #append text to list\n",
        "            topic_list.append(words)\n",
        "        \n",
        "        topic_list = pull_out_earn_topic(topic_list)\n",
        "        \n",
        "        # isolate text\n",
        "        list_all_text = list()\n",
        "        \n",
        "        all_text = soup.find_all(\"text\")\n",
        "        \n",
        "        for text in all_text:\n",
        "            \n",
        "            # getting just the text from the element\n",
        "            # stripping out the newline indicator\n",
        "            working_text = text.get_text().replace(\"\\n\", \" \")\n",
        "            \n",
        "            # removing extra spaces\n",
        "            working_text = ' '.join(working_text.split())\n",
        "            \n",
        "            # appending to list\n",
        "            list_all_text.append(working_text)\n",
        "        \n",
        "        # add the article's topic and the article's text to the df         \n",
        "        df = add_to_df(topic_list, list_all_text, df)\n",
        "df"
      ],
      "execution_count": null,
      "outputs": [
        {
          "output_type": "stream",
          "name": "stdout",
          "text": [
            "/gdrive/My Drive/Colab Notebooks/interos/data_files/reut2-000.sgm\n",
            "/gdrive/My Drive/Colab Notebooks/interos/data_files/reut2-004.sgm\n",
            "/gdrive/My Drive/Colab Notebooks/interos/data_files/reut2-003.sgm\n",
            "/gdrive/My Drive/Colab Notebooks/interos/data_files/reut2-002.sgm\n",
            "/gdrive/My Drive/Colab Notebooks/interos/data_files/reut2-001.sgm\n",
            "/gdrive/My Drive/Colab Notebooks/interos/data_files/reut2-007.sgm\n",
            "/gdrive/My Drive/Colab Notebooks/interos/data_files/reut2-005.sgm\n",
            "/gdrive/My Drive/Colab Notebooks/interos/data_files/reut2-006.sgm\n",
            "/gdrive/My Drive/Colab Notebooks/interos/data_files/reut2-009.sgm\n",
            "/gdrive/My Drive/Colab Notebooks/interos/data_files/reut2-010.sgm\n",
            "/gdrive/My Drive/Colab Notebooks/interos/data_files/reut2-008.sgm\n",
            "/gdrive/My Drive/Colab Notebooks/interos/data_files/reut2-011.sgm\n",
            "/gdrive/My Drive/Colab Notebooks/interos/data_files/reut2-013.sgm\n",
            "/gdrive/My Drive/Colab Notebooks/interos/data_files/reut2-012.sgm\n",
            "/gdrive/My Drive/Colab Notebooks/interos/data_files/reut2-014.sgm\n",
            "/gdrive/My Drive/Colab Notebooks/interos/data_files/reut2-015.sgm\n",
            "/gdrive/My Drive/Colab Notebooks/interos/data_files/reut2-016.sgm\n",
            "/gdrive/My Drive/Colab Notebooks/interos/data_files/reut2-018.sgm\n",
            "/gdrive/My Drive/Colab Notebooks/interos/data_files/reut2-017.sgm\n",
            "/gdrive/My Drive/Colab Notebooks/interos/data_files/reut2-019.sgm\n",
            "/gdrive/My Drive/Colab Notebooks/interos/data_files/reut2-020.sgm\n"
          ]
        },
        {
          "output_type": "execute_result",
          "data": {
            "text/html": [
              "<div>\n",
              "<style scoped>\n",
              "    .dataframe tbody tr th:only-of-type {\n",
              "        vertical-align: middle;\n",
              "    }\n",
              "\n",
              "    .dataframe tbody tr th {\n",
              "        vertical-align: top;\n",
              "    }\n",
              "\n",
              "    .dataframe thead th {\n",
              "        text-align: right;\n",
              "    }\n",
              "</style>\n",
              "<table border=\"1\" class=\"dataframe\">\n",
              "  <thead>\n",
              "    <tr style=\"text-align: right;\">\n",
              "      <th></th>\n",
              "      <th>topic</th>\n",
              "      <th>text</th>\n",
              "    </tr>\n",
              "  </thead>\n",
              "  <tbody>\n",
              "    <tr>\n",
              "      <th>0</th>\n",
              "      <td>other</td>\n",
              "      <td>BAHIA COCOA REVIEW SALVADOR, Feb 26 - Showers ...</td>\n",
              "    </tr>\n",
              "    <tr>\n",
              "      <th>1</th>\n",
              "      <td>blank</td>\n",
              "      <td>STANDARD OIL &lt;SRD&gt; TO FORM FINANCIAL UNIT CLEV...</td>\n",
              "    </tr>\n",
              "    <tr>\n",
              "      <th>2</th>\n",
              "      <td>blank</td>\n",
              "      <td>TEXAS COMMERCE BANCSHARES &lt;TCB&gt; FILES PLAN HOU...</td>\n",
              "    </tr>\n",
              "    <tr>\n",
              "      <th>3</th>\n",
              "      <td>blank</td>\n",
              "      <td>TALKING POINT/BANKAMERICA &lt;BAC&gt; EQUITY OFFER b...</td>\n",
              "    </tr>\n",
              "    <tr>\n",
              "      <th>4</th>\n",
              "      <td>other</td>\n",
              "      <td>NATIONAL AVERAGE PRICES FOR FARMER-OWNED RESER...</td>\n",
              "    </tr>\n",
              "    <tr>\n",
              "      <th>...</th>\n",
              "      <td>...</td>\n",
              "      <td>...</td>\n",
              "    </tr>\n",
              "    <tr>\n",
              "      <th>21995</th>\n",
              "      <td>blank</td>\n",
              "      <td>******PACIFIC STOCK EXCHANGE SAYS IT WILL CLOS...</td>\n",
              "    </tr>\n",
              "    <tr>\n",
              "      <th>21996</th>\n",
              "      <td>blank</td>\n",
              "      <td>******DOW FALLS 404 POINTS TO 1844, LOWEST LEV...</td>\n",
              "    </tr>\n",
              "    <tr>\n",
              "      <th>21997</th>\n",
              "      <td>blank</td>\n",
              "      <td>AFG INDUSTRIES &lt;AFG&gt; TO BUY BACK STOCK IRVINE,...</td>\n",
              "    </tr>\n",
              "    <tr>\n",
              "      <th>21998</th>\n",
              "      <td>blank</td>\n",
              "      <td>J.P. MORGAN &lt;JPM&gt; LOWERS LOAN-LOSS PROVISIONS ...</td>\n",
              "    </tr>\n",
              "    <tr>\n",
              "      <th>21999</th>\n",
              "      <td>other</td>\n",
              "      <td>CCR VIDEO&lt;CCCR.O&gt; GETS OFFER ON TAKEOVER TALKS...</td>\n",
              "    </tr>\n",
              "  </tbody>\n",
              "</table>\n",
              "<p>22000 rows × 2 columns</p>\n",
              "</div>"
            ],
            "text/plain": [
              "       topic                                               text\n",
              "0      other  BAHIA COCOA REVIEW SALVADOR, Feb 26 - Showers ...\n",
              "1      blank  STANDARD OIL <SRD> TO FORM FINANCIAL UNIT CLEV...\n",
              "2      blank  TEXAS COMMERCE BANCSHARES <TCB> FILES PLAN HOU...\n",
              "3      blank  TALKING POINT/BANKAMERICA <BAC> EQUITY OFFER b...\n",
              "4      other  NATIONAL AVERAGE PRICES FOR FARMER-OWNED RESER...\n",
              "...      ...                                                ...\n",
              "21995  blank  ******PACIFIC STOCK EXCHANGE SAYS IT WILL CLOS...\n",
              "21996  blank  ******DOW FALLS 404 POINTS TO 1844, LOWEST LEV...\n",
              "21997  blank  AFG INDUSTRIES <AFG> TO BUY BACK STOCK IRVINE,...\n",
              "21998  blank  J.P. MORGAN <JPM> LOWERS LOAN-LOSS PROVISIONS ...\n",
              "21999  other  CCR VIDEO<CCCR.O> GETS OFFER ON TAKEOVER TALKS...\n",
              "\n",
              "[22000 rows x 2 columns]"
            ]
          },
          "metadata": {},
          "execution_count": 43
        }
      ]
    },
    {
      "cell_type": "markdown",
      "metadata": {
        "id": "HnOcDwuENyUA"
      },
      "source": [
        "Take a look at new df."
      ]
    },
    {
      "cell_type": "code",
      "metadata": {
        "colab": {
          "base_uri": "https://localhost:8080/"
        },
        "id": "hGDMjROZLSrY",
        "outputId": "d3133c81-174f-45b1-819a-3e5e4b29e1f2"
      },
      "source": [
        "df.info()"
      ],
      "execution_count": null,
      "outputs": [
        {
          "output_type": "stream",
          "name": "stdout",
          "text": [
            "<class 'pandas.core.frame.DataFrame'>\n",
            "RangeIndex: 22000 entries, 0 to 21999\n",
            "Data columns (total 2 columns):\n",
            " #   Column  Non-Null Count  Dtype \n",
            "---  ------  --------------  ----- \n",
            " 0   topic   22000 non-null  object\n",
            " 1   text    22000 non-null  object\n",
            "dtypes: object(2)\n",
            "memory usage: 343.9+ KB\n"
          ]
        }
      ]
    },
    {
      "cell_type": "code",
      "metadata": {
        "colab": {
          "base_uri": "https://localhost:8080/",
          "height": 394
        },
        "id": "z-Ij2VvJLSwC",
        "outputId": "c61cebb3-09e4-4e9d-9412-0ca9c93e15a6"
      },
      "source": [
        "df[990:1001]"
      ],
      "execution_count": null,
      "outputs": [
        {
          "output_type": "execute_result",
          "data": {
            "text/html": [
              "<div>\n",
              "<style scoped>\n",
              "    .dataframe tbody tr th:only-of-type {\n",
              "        vertical-align: middle;\n",
              "    }\n",
              "\n",
              "    .dataframe tbody tr th {\n",
              "        vertical-align: top;\n",
              "    }\n",
              "\n",
              "    .dataframe thead th {\n",
              "        text-align: right;\n",
              "    }\n",
              "</style>\n",
              "<table border=\"1\" class=\"dataframe\">\n",
              "  <thead>\n",
              "    <tr style=\"text-align: right;\">\n",
              "      <th></th>\n",
              "      <th>topic</th>\n",
              "      <th>text</th>\n",
              "    </tr>\n",
              "  </thead>\n",
              "  <tbody>\n",
              "    <tr>\n",
              "      <th>990</th>\n",
              "      <td>other</td>\n",
              "      <td>U.S. ASKS JAPAN END AGRICULTURE IMPORT CONTROL...</td>\n",
              "    </tr>\n",
              "    <tr>\n",
              "      <th>991</th>\n",
              "      <td>blank</td>\n",
              "      <td>U.S. FINANCIAL ANALYSTS - March 3 Wilcox/Gibbs...</td>\n",
              "    </tr>\n",
              "    <tr>\n",
              "      <th>992</th>\n",
              "      <td>blank</td>\n",
              "      <td>U.S. DIVIDEND MEETINGS - MARCH 3 Mickelberry C...</td>\n",
              "    </tr>\n",
              "    <tr>\n",
              "      <th>993</th>\n",
              "      <td>blank</td>\n",
              "      <td>U.S. SHAREHOLDER MEETINGS - MARCH 3 None Repor...</td>\n",
              "    </tr>\n",
              "    <tr>\n",
              "      <th>994</th>\n",
              "      <td>earn</td>\n",
              "      <td>FIRSTCORP &lt;FCR&gt; SEES GAIN ON CONDEMNATION RALE...</td>\n",
              "    </tr>\n",
              "    <tr>\n",
              "      <th>995</th>\n",
              "      <td>blank</td>\n",
              "      <td>ASHTON-TATE &lt;TATE&gt; TO OFFER COMMON SHARES TORR...</td>\n",
              "    </tr>\n",
              "    <tr>\n",
              "      <th>996</th>\n",
              "      <td>blank</td>\n",
              "      <td>KEYCORP &lt;KEY&gt; REGISTERS SUBORDINATED NOTES ALB...</td>\n",
              "    </tr>\n",
              "    <tr>\n",
              "      <th>997</th>\n",
              "      <td>earn</td>\n",
              "      <td>&lt;NATIONAL SEA PRODUCTS LTD&gt; 4TH QTR NET HALIFA...</td>\n",
              "    </tr>\n",
              "    <tr>\n",
              "      <th>998</th>\n",
              "      <td>other</td>\n",
              "      <td>U.K. MONEY MARKET SHORTAGE FORECAST REVISED DO...</td>\n",
              "    </tr>\n",
              "    <tr>\n",
              "      <th>999</th>\n",
              "      <td>other</td>\n",
              "      <td>NATIONAL AMUSEMENTS AGAIN UPS VIACOM &lt;VIA&gt; BID...</td>\n",
              "    </tr>\n",
              "    <tr>\n",
              "      <th>1000</th>\n",
              "      <td>other</td>\n",
              "      <td>BAHIA COCOA REVIEW SALVADOR, Feb 26 - Showers ...</td>\n",
              "    </tr>\n",
              "  </tbody>\n",
              "</table>\n",
              "</div>"
            ],
            "text/plain": [
              "      topic                                               text\n",
              "990   other  U.S. ASKS JAPAN END AGRICULTURE IMPORT CONTROL...\n",
              "991   blank  U.S. FINANCIAL ANALYSTS - March 3 Wilcox/Gibbs...\n",
              "992   blank  U.S. DIVIDEND MEETINGS - MARCH 3 Mickelberry C...\n",
              "993   blank  U.S. SHAREHOLDER MEETINGS - MARCH 3 None Repor...\n",
              "994    earn  FIRSTCORP <FCR> SEES GAIN ON CONDEMNATION RALE...\n",
              "995   blank  ASHTON-TATE <TATE> TO OFFER COMMON SHARES TORR...\n",
              "996   blank  KEYCORP <KEY> REGISTERS SUBORDINATED NOTES ALB...\n",
              "997    earn  <NATIONAL SEA PRODUCTS LTD> 4TH QTR NET HALIFA...\n",
              "998   other  U.K. MONEY MARKET SHORTAGE FORECAST REVISED DO...\n",
              "999   other  NATIONAL AMUSEMENTS AGAIN UPS VIACOM <VIA> BID...\n",
              "1000  other  BAHIA COCOA REVIEW SALVADOR, Feb 26 - Showers ..."
            ]
          },
          "metadata": {},
          "execution_count": 45
        }
      ]
    },
    {
      "cell_type": "markdown",
      "metadata": {
        "id": "Mc5TohyzLSzr"
      },
      "source": [
        "Checking if any articles are empty strings"
      ]
    },
    {
      "cell_type": "code",
      "metadata": {
        "colab": {
          "base_uri": "https://localhost:8080/"
        },
        "id": "Ryg3BJe2LS7T",
        "outputId": "36cdce70-5774-44b8-e81b-a6df25748d41"
      },
      "source": [
        "np.where(df.applymap(lambda x: x == ''))"
      ],
      "execution_count": null,
      "outputs": [
        {
          "output_type": "execute_result",
          "data": {
            "text/plain": [
              "(array([14792]), array([1]))"
            ]
          },
          "metadata": {},
          "execution_count": 46
        }
      ]
    },
    {
      "cell_type": "code",
      "metadata": {
        "colab": {
          "base_uri": "https://localhost:8080/"
        },
        "id": "MMdbh38MLTDx",
        "outputId": "ead166d1-8ede-4b6b-d479-27527d7fd3a3"
      },
      "source": [
        "df.iloc[14792]"
      ],
      "execution_count": null,
      "outputs": [
        {
          "output_type": "execute_result",
          "data": {
            "text/plain": [
              "topic    blank\n",
              "text          \n",
              "Name: 14792, dtype: object"
            ]
          },
          "metadata": {},
          "execution_count": 47
        }
      ]
    },
    {
      "cell_type": "markdown",
      "metadata": {
        "id": "Ac_0SdTbK21y"
      },
      "source": [
        "It seems row 14792 has empty string. Remove it, and double-check."
      ]
    },
    {
      "cell_type": "code",
      "metadata": {
        "colab": {
          "base_uri": "https://localhost:8080/"
        },
        "id": "FMC_7kS5OVKJ",
        "outputId": "f6592316-effe-4247-9762-2c3f5c9be023"
      },
      "source": [
        "df = df.drop([14792])\n",
        "np.where(df.applymap(lambda x: x == ''))"
      ],
      "execution_count": null,
      "outputs": [
        {
          "output_type": "execute_result",
          "data": {
            "text/plain": [
              "(array([], dtype=int64), array([], dtype=int64))"
            ]
          },
          "metadata": {},
          "execution_count": 48
        }
      ]
    },
    {
      "cell_type": "markdown",
      "metadata": {
        "id": "36kv4cv-OVbi"
      },
      "source": [
        "Looks ok. Save the dataframe."
      ]
    },
    {
      "cell_type": "code",
      "metadata": {
        "id": "ZAqQI46bOVfq"
      },
      "source": [
        "df.to_csv(path + 'topics_and_text.csv', index=False)"
      ],
      "execution_count": null,
      "outputs": []
    },
    {
      "cell_type": "markdown",
      "metadata": {
        "id": "-R4va0FCfoCh"
      },
      "source": [
        "# Exploratory Data Analysis\n"
      ]
    },
    {
      "cell_type": "code",
      "metadata": {
        "colab": {
          "base_uri": "https://localhost:8080/"
        },
        "id": "VDWcVO9XOVm2",
        "outputId": "9c8a21c3-dc7b-44ce-a8b7-c91da38fa03a"
      },
      "source": [
        "import matplotlib.pyplot as plt\n",
        "import seaborn as sns\n",
        "import nltk\n",
        "nltk.download('stopwords')\n",
        "nltk.download('punkt')\n",
        "from nltk.corpus import stopwords\n",
        "from nltk import word_tokenize, FreqDist\n",
        "from nltk.stem.wordnet import WordNetLemmatizer\n",
        "import string"
      ],
      "execution_count": null,
      "outputs": [
        {
          "output_type": "stream",
          "name": "stdout",
          "text": [
            "[nltk_data] Downloading package stopwords to /root/nltk_data...\n",
            "[nltk_data]   Unzipping corpora/stopwords.zip.\n",
            "[nltk_data] Downloading package punkt to /root/nltk_data...\n",
            "[nltk_data]   Unzipping tokenizers/punkt.zip.\n"
          ]
        }
      ]
    },
    {
      "cell_type": "code",
      "metadata": {
        "colab": {
          "base_uri": "https://localhost:8080/"
        },
        "id": "4J3Gezu7OVq3",
        "outputId": "f3567aa6-0c47-455e-a741-cd31167c47ab"
      },
      "source": [
        "from google.colab import drive\n",
        "drive.mount('/gdrive')\n",
        "%cd /gdrive\n",
        "path = '/gdrive/My Drive/Colab Notebooks/interos/data_files/'\n",
        "df = pd.read_csv(path + 'topics_and_text.csv')"
      ],
      "execution_count": null,
      "outputs": [
        {
          "output_type": "stream",
          "name": "stdout",
          "text": [
            "Drive already mounted at /gdrive; to attempt to forcibly remount, call drive.mount(\"/gdrive\", force_remount=True).\n",
            "/gdrive\n"
          ]
        }
      ]
    },
    {
      "cell_type": "code",
      "metadata": {
        "colab": {
          "base_uri": "https://localhost:8080/",
          "height": 206
        },
        "id": "em1vqS8uf5Z1",
        "outputId": "4e61bcdc-3c64-4b7a-823d-d7b32cbd7cfc"
      },
      "source": [
        "df.head()"
      ],
      "execution_count": null,
      "outputs": [
        {
          "output_type": "execute_result",
          "data": {
            "text/html": [
              "<div>\n",
              "<style scoped>\n",
              "    .dataframe tbody tr th:only-of-type {\n",
              "        vertical-align: middle;\n",
              "    }\n",
              "\n",
              "    .dataframe tbody tr th {\n",
              "        vertical-align: top;\n",
              "    }\n",
              "\n",
              "    .dataframe thead th {\n",
              "        text-align: right;\n",
              "    }\n",
              "</style>\n",
              "<table border=\"1\" class=\"dataframe\">\n",
              "  <thead>\n",
              "    <tr style=\"text-align: right;\">\n",
              "      <th></th>\n",
              "      <th>topic</th>\n",
              "      <th>text</th>\n",
              "    </tr>\n",
              "  </thead>\n",
              "  <tbody>\n",
              "    <tr>\n",
              "      <th>0</th>\n",
              "      <td>other</td>\n",
              "      <td>BAHIA COCOA REVIEW SALVADOR, Feb 26 - Showers ...</td>\n",
              "    </tr>\n",
              "    <tr>\n",
              "      <th>1</th>\n",
              "      <td>blank</td>\n",
              "      <td>STANDARD OIL &lt;SRD&gt; TO FORM FINANCIAL UNIT CLEV...</td>\n",
              "    </tr>\n",
              "    <tr>\n",
              "      <th>2</th>\n",
              "      <td>blank</td>\n",
              "      <td>TEXAS COMMERCE BANCSHARES &lt;TCB&gt; FILES PLAN HOU...</td>\n",
              "    </tr>\n",
              "    <tr>\n",
              "      <th>3</th>\n",
              "      <td>blank</td>\n",
              "      <td>TALKING POINT/BANKAMERICA &lt;BAC&gt; EQUITY OFFER b...</td>\n",
              "    </tr>\n",
              "    <tr>\n",
              "      <th>4</th>\n",
              "      <td>other</td>\n",
              "      <td>NATIONAL AVERAGE PRICES FOR FARMER-OWNED RESER...</td>\n",
              "    </tr>\n",
              "  </tbody>\n",
              "</table>\n",
              "</div>"
            ],
            "text/plain": [
              "   topic                                               text\n",
              "0  other  BAHIA COCOA REVIEW SALVADOR, Feb 26 - Showers ...\n",
              "1  blank  STANDARD OIL <SRD> TO FORM FINANCIAL UNIT CLEV...\n",
              "2  blank  TEXAS COMMERCE BANCSHARES <TCB> FILES PLAN HOU...\n",
              "3  blank  TALKING POINT/BANKAMERICA <BAC> EQUITY OFFER b...\n",
              "4  other  NATIONAL AVERAGE PRICES FOR FARMER-OWNED RESER..."
            ]
          },
          "metadata": {},
          "execution_count": 52
        }
      ]
    },
    {
      "cell_type": "code",
      "metadata": {
        "colab": {
          "base_uri": "https://localhost:8080/"
        },
        "id": "y_vRR_StgTif",
        "outputId": "bd078581-5162-4d71-d918-99eea61b54e4"
      },
      "source": [
        "df.info()"
      ],
      "execution_count": null,
      "outputs": [
        {
          "output_type": "stream",
          "name": "stdout",
          "text": [
            "<class 'pandas.core.frame.DataFrame'>\n",
            "RangeIndex: 21999 entries, 0 to 21998\n",
            "Data columns (total 2 columns):\n",
            " #   Column  Non-Null Count  Dtype \n",
            "---  ------  --------------  ----- \n",
            " 0   topic   21999 non-null  object\n",
            " 1   text    21999 non-null  object\n",
            "dtypes: object(2)\n",
            "memory usage: 343.9+ KB\n"
          ]
        }
      ]
    },
    {
      "cell_type": "code",
      "metadata": {
        "colab": {
          "base_uri": "https://localhost:8080/"
        },
        "id": "4MY2HgiagVVV",
        "outputId": "9a66f63b-845c-4cdd-dc79-60a47c624eea"
      },
      "source": [
        "df['topic'].value_counts()"
      ],
      "execution_count": null,
      "outputs": [
        {
          "output_type": "execute_result",
          "data": {
            "text/plain": [
              "blank    10449\n",
              "other     7521\n",
              "earn      4029\n",
              "Name: topic, dtype: int64"
            ]
          },
          "metadata": {},
          "execution_count": 54
        }
      ]
    },
    {
      "cell_type": "code",
      "metadata": {
        "colab": {
          "base_uri": "https://localhost:8080/",
          "height": 357
        },
        "id": "TO59mKWdgX-N",
        "outputId": "5d2cf932-a8cb-4237-b6f4-e294b1dbe89a"
      },
      "source": [
        "from matplotlib.pyplot import figure\n",
        "\n",
        "figure(figsize=(6, 6))\n",
        "# sns.set_theme()\n",
        "sns.color_palette(\"husl\", 3)\n",
        "data = df['topic'].value_counts()\n",
        "labels = data.keys()\n",
        "plt.pie(x = data, labels = labels, autopct=\"%.1f%%\", colors = ['blue','seagreen','aqua'])\n",
        "plt.show()"
      ],
      "execution_count": null,
      "outputs": [
        {
          "output_type": "display_data",
          "data": {
            "image/png": "[encoded data removed]",
            "text/plain": [
              "<Figure size 432x432 with 1 Axes>"
            ]
          },
          "metadata": {}
        }
      ]
    },
    {
      "cell_type": "markdown",
      "metadata": {
        "id": "4qoGJpWhhQiy"
      },
      "source": [
        "Close to half are blank. The question will be what to do about these. "
      ]
    },
    {
      "cell_type": "markdown",
      "metadata": {
        "id": "RfLn2yG4hbB-"
      },
      "source": [
        "## Process the text"
      ]
    },
    {
      "cell_type": "code",
      "metadata": {
        "colab": {
          "base_uri": "https://localhost:8080/",
          "height": 157
        },
        "id": "PbH30_mnhgI7",
        "outputId": "2de84d48-f051-4060-9238-8930d97daefe"
      },
      "source": [
        "df.text[0]"
      ],
      "execution_count": null,
      "outputs": [
        {
          "output_type": "execute_result",
          "data": {
            "application/vnd.google.colaboratory.intrinsic+json": {
              "type": "string"
            },
            "text/plain": [
              "'BAHIA COCOA REVIEW SALVADOR, Feb 26 - Showers continued throughout the week in the Bahia cocoa zone, alleviating the drought since early January and improving prospects for the coming temporao, although normal humidity levels have not been restored, Comissaria Smith said in its weekly review. The dry period means the temporao will be late this year. Arrivals for the week ended February 22 were 155,221 bags of 60 kilos making a cumulative total for the season of 5.93 mln against 5.81 at the same stage last year. Again it seems that cocoa delivered earlier on consignment was included in the arrivals figures. Comissaria Smith said there is still some doubt as to how much old crop cocoa is still available as harvesting has practically come to an end. With total Bahia crop estimates around 6.4 mln bags and sales standing at almost 6.2 mln there are a few hundred thousand bags still in the hands of farmers, middlemen, exporters and processors. There are doubts as to how much of this cocoa would be fit for export as shippers are now experiencing dificulties in obtaining +Bahia superior+ certificates. In view of the lower quality over recent weeks farmers have sold a good part of their cocoa held on consignment. Comissaria Smith said spot bean prices rose to 340 to 350 cruzados per arroba of 15 kilos. Bean shippers were reluctant to offer nearby shipment and only limited sales were booked for March shipment at 1,750 to 1,780 dlrs per tonne to ports to be named. New crop sales were also light and all to open ports with June/July going at 1,850 and 1,880 dlrs and at 35 and 45 dlrs under New York july, Aug/Sept at 1,870, 1,875 and 1,880 dlrs per tonne FOB. Routine sales of butter were made. March/April sold at 4,340, 4,345 and 4,350 dlrs. April/May butter went at 2.27 times New York May, June/July at 4,400 and 4,415 dlrs, Aug/Sept at 4,351 to 4,450 dlrs and at 2.27 and 2.28 times New York Sept and Oct/Dec at 4,480 dlrs and 2.27 times New York Dec, Comissaria Smith said. Destinations were the U.S., Covertible currency areas, Uruguay and open ports. Cake sales were registered at 785 to 995 dlrs for March/April, 785 dlrs for May, 753 dlrs for Aug and 0.39 times New York Dec for Oct/Dec. Buyers were the U.S., Argentina, Uruguay and convertible currency areas. Liquor sales were limited with March/April selling at 2,325 and 2,380 dlrs, June/July at 2,375 dlrs and at 1.25 times New York July, Aug/Sept at 2,400 dlrs and at 1.25 times New York Sept and Oct/Dec at 1.25 times New York Dec, Comissaria Smith said. Total Bahia sales are currently estimated at 6.13 mln bags against the 1986/87 crop and 1.06 mln bags against the 1987/88 crop. Final figures for the period to February 28 are expected to be published by the Brazilian Cocoa Trade Commission after carnival which ends midday on February 27. Reuter'"
            ]
          },
          "metadata": {},
          "execution_count": 56
        }
      ]
    },
    {
      "cell_type": "code",
      "metadata": {
        "colab": {
          "base_uri": "https://localhost:8080/",
          "height": 105
        },
        "id": "K6Fls5F6hgzR",
        "outputId": "501f1ff3-ea10-4f63-a634-e2fae2ee6d6e"
      },
      "source": [
        "df.text[100]"
      ],
      "execution_count": null,
      "outputs": [
        {
          "output_type": "execute_result",
          "data": {
            "application/vnd.google.colaboratory.intrinsic+json": {
              "type": "string"
            },
            "text/plain": [
              "'FEDERAL RESERVE MONEY SUPPLY REPORT - FEB 26 One Week Ended Feb 16 M-1.........................736.7 up.......2.1 Previous week revised to....734.6 From...734.2 Avge 4 Weeks (Vs Week Ago).735.0 Vs.....733.5 Avge 13 Weeks (Vs week Ago).731.8 Vs.....729.8 Monthly aggregates (Adjusted avgs in billions) M-1 (Jan vs Dec)............737.6 Vs.....730.5 M-2 (Jan vs Dec)..........2,820.1 Vs...2,798.4 M-3 (Jan vs Dec)..........3,513.6 Vs...3,488.1 L...(Dec vs Nov)..........4,141.5 Vs...4,110.5 Domestic Debt(Dec vs Nov).7,604.4 Vs...7,519.8 Reuter'"
            ]
          },
          "metadata": {},
          "execution_count": 57
        }
      ]
    },
    {
      "cell_type": "code",
      "metadata": {
        "colab": {
          "base_uri": "https://localhost:8080/",
          "height": 35
        },
        "id": "1f4Ye_Rbhg4F",
        "outputId": "c1805936-fad7-468b-84f2-167aa4b0fefd"
      },
      "source": [
        "string.punctuation"
      ],
      "execution_count": null,
      "outputs": [
        {
          "output_type": "execute_result",
          "data": {
            "application/vnd.google.colaboratory.intrinsic+json": {
              "type": "string"
            },
            "text/plain": [
              "'!\"#$%&\\'()*+,-./:;<=>?@[\\\\]^_`{|}~'"
            ]
          },
          "metadata": {},
          "execution_count": 58
        }
      ]
    },
    {
      "cell_type": "code",
      "metadata": {
        "id": "UANhD3y4hg8D"
      },
      "source": [
        "stopwords_list = stopwords.words('english') + list(string.punctuation)"
      ],
      "execution_count": null,
      "outputs": []
    },
    {
      "cell_type": "code",
      "metadata": {
        "id": "Mxgu7rkohg_1"
      },
      "source": [
        "# function to remove stopwords and tokenize text\n",
        "def process_narrative(narrative):\n",
        "    tokens = nltk.word_tokenize(narrative)\n",
        "    stopwords_removed = [token.lower() for token in tokens if token.lower() not in stopwords_list]\n",
        "    return stopwords_removed"
      ],
      "execution_count": null,
      "outputs": []
    },
    {
      "cell_type": "code",
      "metadata": {
        "colab": {
          "base_uri": "https://localhost:8080/"
        },
        "id": "WvtbjeLwhhDi",
        "outputId": "072c0185-9fd1-4990-bc1f-2f433a4d76dd"
      },
      "source": [
        "text1 = df.text[0]\n",
        "text_words = process_narrative(text1)\n",
        "text_words[0:20]"
      ],
      "execution_count": null,
      "outputs": [
        {
          "output_type": "execute_result",
          "data": {
            "text/plain": [
              "['bahia',\n",
              " 'cocoa',\n",
              " 'review',\n",
              " 'salvador',\n",
              " 'feb',\n",
              " '26',\n",
              " 'showers',\n",
              " 'continued',\n",
              " 'throughout',\n",
              " 'week',\n",
              " 'bahia',\n",
              " 'cocoa',\n",
              " 'zone',\n",
              " 'alleviating',\n",
              " 'drought',\n",
              " 'since',\n",
              " 'early',\n",
              " 'january',\n",
              " 'improving',\n",
              " 'prospects']"
            ]
          },
          "metadata": {},
          "execution_count": 61
        }
      ]
    },
    {
      "cell_type": "code",
      "metadata": {
        "colab": {
          "base_uri": "https://localhost:8080/"
        },
        "id": "BGXGIdy_hhHZ",
        "outputId": "c85a2da0-b9d5-420a-dc16-1b204dacaf24"
      },
      "source": [
        "text2 = df.text[100]\n",
        "text_words = process_narrative(text2)\n",
        "text_words[0:20]"
      ],
      "execution_count": null,
      "outputs": [
        {
          "output_type": "execute_result",
          "data": {
            "text/plain": [
              "['federal',\n",
              " 'reserve',\n",
              " 'money',\n",
              " 'supply',\n",
              " 'report',\n",
              " 'feb',\n",
              " '26',\n",
              " 'one',\n",
              " 'week',\n",
              " 'ended',\n",
              " 'feb',\n",
              " '16',\n",
              " 'm-1',\n",
              " '...',\n",
              " '...',\n",
              " '...',\n",
              " '...',\n",
              " '...',\n",
              " '...',\n",
              " '...']"
            ]
          },
          "metadata": {},
          "execution_count": 62
        }
      ]
    },
    {
      "cell_type": "markdown",
      "metadata": {
        "id": "zN1cfYoHhhLH"
      },
      "source": [
        "I'll add '...' to stopwords."
      ]
    },
    {
      "cell_type": "code",
      "metadata": {
        "colab": {
          "base_uri": "https://localhost:8080/"
        },
        "id": "iuHQjiMchhO6",
        "outputId": "dc330ca1-292b-47d7-a039-519ec5125eea"
      },
      "source": [
        "stopwords_list.append('...')\n",
        "stopwords_list[-5:]"
      ],
      "execution_count": null,
      "outputs": [
        {
          "output_type": "execute_result",
          "data": {
            "text/plain": [
              "['{', '|', '}', '~', '...']"
            ]
          },
          "metadata": {},
          "execution_count": 63
        }
      ]
    },
    {
      "cell_type": "code",
      "metadata": {
        "colab": {
          "base_uri": "https://localhost:8080/"
        },
        "id": "EdeOc71shhSv",
        "outputId": "43c90e95-9ed4-4405-ef99-e6b0e71cf1a9"
      },
      "source": [
        "text2 = df.text[100]\n",
        "text_words = process_narrative(text2)\n",
        "text_words[0:20]"
      ],
      "execution_count": null,
      "outputs": [
        {
          "output_type": "execute_result",
          "data": {
            "text/plain": [
              "['federal',\n",
              " 'reserve',\n",
              " 'money',\n",
              " 'supply',\n",
              " 'report',\n",
              " 'feb',\n",
              " '26',\n",
              " 'one',\n",
              " 'week',\n",
              " 'ended',\n",
              " 'feb',\n",
              " '16',\n",
              " 'm-1',\n",
              " '.736.7',\n",
              " '.2.1',\n",
              " 'previous',\n",
              " 'week',\n",
              " 'revised',\n",
              " '.734.6',\n",
              " '734.2']"
            ]
          },
          "metadata": {},
          "execution_count": 64
        }
      ]
    },
    {
      "cell_type": "code",
      "metadata": {
        "colab": {
          "base_uri": "https://localhost:8080/",
          "height": 53
        },
        "id": "Ok9BJFqJhhWr",
        "outputId": "eb63d431-4b9f-4ad9-ccca-e161a0e0f4af"
      },
      "source": [
        "df.text[200]"
      ],
      "execution_count": null,
      "outputs": [
        {
          "output_type": "execute_result",
          "data": {
            "application/vnd.google.colaboratory.intrinsic+json": {
              "type": "string"
            },
            "text/plain": [
              "'MAIL BOXES ETC <MAIL> 3RD QTR JAN 31 NET SAN DIEGO, Calif., Feb 26 - Shr 23 cts vs 18 cts Net 509,144 vs 277,834 Revs 2,258,341 vs 1,328,634 Avg shrs 2,177,553 vs 1,564,605 Nine mths Shr 55 cts vs 42 cts Net 1,150,633 vs 649,914 Revs 6,169,168 vs 3,178,115 Reuter'"
            ]
          },
          "metadata": {},
          "execution_count": 65
        }
      ]
    },
    {
      "cell_type": "code",
      "metadata": {
        "colab": {
          "base_uri": "https://localhost:8080/",
          "height": 157
        },
        "id": "F8YjNCz-hhal",
        "outputId": "f56d35b7-0aab-47c9-e966-b8cd96516ef4"
      },
      "source": [
        "df.text[20001]"
      ],
      "execution_count": null,
      "outputs": [
        {
          "output_type": "execute_result",
          "data": {
            "application/vnd.google.colaboratory.intrinsic+json": {
              "type": "string"
            },
            "text/plain": [
              "'U.S. HOUSE CALLS HIGHER JAPAN DEFENSE SPENDING WASHINGTON, June 18 - The House today supported a call for Japan to boost its defense spending to help share the burden of protecting Western interests in sensitive areas around the world, including in the Gulf. House member approved a measure that would require Secretary of State George Shultz to enter into talks with Japan on increasing Japanese defense spending to at least 3 pct of its gross national product. The measure, passed during consideration of the 1988-89 State Department funding bill would not require an increase, but legislators called on Japan to spend more on defense. The Senate must approve the measure before it becomes law. \"We don\\'t have to bash the Japanese. We have to show them how to share the burden of the defense of the free world,\" said Rep. Robert Dornan, a California Republican. The amendment calls on Shultz to enter into talks with Japan with the aim of reaching agreement on one of two alternatives: either Japan can spend 3 pct of its GNP on defense by itself or give the equivalent amount of money to the United States as a kind of security fee. Reuter'"
            ]
          },
          "metadata": {},
          "execution_count": 66
        }
      ]
    },
    {
      "cell_type": "code",
      "metadata": {
        "id": "1TZ5TSnxhhel",
        "colab": {
          "base_uri": "https://localhost:8080/"
        },
        "outputId": "2b1d55b6-8741-4612-82e4-d34c57300596"
      },
      "source": [
        "# Check out word counts\n",
        "\n",
        "text_words = process_narrative(text1)\n",
        "\n",
        "word_counts = {}\n",
        "for i in range(len(text_words)):\n",
        "    word_counts[text_words[i]] = text_words.count(text_words[i])\n",
        "word_counts"
      ],
      "execution_count": null,
      "outputs": [
        {
          "output_type": "execute_result",
          "data": {
            "text/plain": [
              "{'+bahia': 1,\n",
              " '0.39': 1,\n",
              " '1,750': 1,\n",
              " '1,780': 1,\n",
              " '1,850': 1,\n",
              " '1,870': 1,\n",
              " '1,875': 1,\n",
              " '1,880': 2,\n",
              " '1.06': 1,\n",
              " '1.25': 3,\n",
              " '15': 1,\n",
              " '155,221': 1,\n",
              " '1986/87': 1,\n",
              " '1987/88': 1,\n",
              " '2,325': 1,\n",
              " '2,375': 1,\n",
              " '2,380': 1,\n",
              " '2,400': 1,\n",
              " '2.27': 3,\n",
              " '2.28': 1,\n",
              " '22': 1,\n",
              " '26': 1,\n",
              " '27': 1,\n",
              " '28': 1,\n",
              " '340': 1,\n",
              " '35': 1,\n",
              " '350': 1,\n",
              " '4,340': 1,\n",
              " '4,345': 1,\n",
              " '4,350': 1,\n",
              " '4,351': 1,\n",
              " '4,400': 1,\n",
              " '4,415': 1,\n",
              " '4,450': 1,\n",
              " '4,480': 1,\n",
              " '45': 1,\n",
              " '5.81': 1,\n",
              " '5.93': 1,\n",
              " '6.13': 1,\n",
              " '6.2': 1,\n",
              " '6.4': 1,\n",
              " '60': 1,\n",
              " '753': 1,\n",
              " '785': 2,\n",
              " '995': 1,\n",
              " 'alleviating': 1,\n",
              " 'almost': 1,\n",
              " 'also': 1,\n",
              " 'although': 1,\n",
              " 'april/may': 1,\n",
              " 'areas': 2,\n",
              " 'argentina': 1,\n",
              " 'around': 1,\n",
              " 'arrivals': 2,\n",
              " 'arroba': 1,\n",
              " 'aug': 1,\n",
              " 'aug/sept': 3,\n",
              " 'available': 1,\n",
              " 'bags': 5,\n",
              " 'bahia': 4,\n",
              " 'bean': 2,\n",
              " 'booked': 1,\n",
              " 'brazilian': 1,\n",
              " 'butter': 2,\n",
              " 'buyers': 1,\n",
              " 'cake': 1,\n",
              " 'carnival': 1,\n",
              " 'certificates': 1,\n",
              " 'cocoa': 7,\n",
              " 'come': 1,\n",
              " 'coming': 1,\n",
              " 'comissaria': 5,\n",
              " 'commission': 1,\n",
              " 'consignment': 2,\n",
              " 'continued': 1,\n",
              " 'convertible': 1,\n",
              " 'covertible': 1,\n",
              " 'crop': 5,\n",
              " 'cruzados': 1,\n",
              " 'cumulative': 1,\n",
              " 'currency': 2,\n",
              " 'currently': 1,\n",
              " 'dec': 3,\n",
              " 'delivered': 1,\n",
              " 'destinations': 1,\n",
              " 'dificulties': 1,\n",
              " 'dlrs': 14,\n",
              " 'doubt': 1,\n",
              " 'doubts': 1,\n",
              " 'drought': 1,\n",
              " 'dry': 1,\n",
              " 'earlier': 1,\n",
              " 'early': 1,\n",
              " 'end': 1,\n",
              " 'ended': 1,\n",
              " 'ends': 1,\n",
              " 'estimated': 1,\n",
              " 'estimates': 1,\n",
              " 'expected': 1,\n",
              " 'experiencing': 1,\n",
              " 'export': 1,\n",
              " 'exporters': 1,\n",
              " 'farmers': 2,\n",
              " 'feb': 1,\n",
              " 'february': 3,\n",
              " 'figures': 2,\n",
              " 'final': 1,\n",
              " 'fit': 1,\n",
              " 'fob': 1,\n",
              " 'going': 1,\n",
              " 'good': 1,\n",
              " 'hands': 1,\n",
              " 'harvesting': 1,\n",
              " 'held': 1,\n",
              " 'humidity': 1,\n",
              " 'hundred': 1,\n",
              " 'improving': 1,\n",
              " 'included': 1,\n",
              " 'january': 1,\n",
              " 'july': 2,\n",
              " 'june/july': 3,\n",
              " 'kilos': 2,\n",
              " 'last': 1,\n",
              " 'late': 1,\n",
              " 'levels': 1,\n",
              " 'light': 1,\n",
              " 'limited': 2,\n",
              " 'liquor': 1,\n",
              " 'lower': 1,\n",
              " 'made': 1,\n",
              " 'making': 1,\n",
              " 'march': 1,\n",
              " 'march/april': 3,\n",
              " 'may': 2,\n",
              " 'means': 1,\n",
              " 'midday': 1,\n",
              " 'middlemen': 1,\n",
              " 'mln': 5,\n",
              " 'much': 2,\n",
              " 'named': 1,\n",
              " 'nearby': 1,\n",
              " 'new': 9,\n",
              " 'normal': 1,\n",
              " 'obtaining': 1,\n",
              " 'oct/dec': 3,\n",
              " 'offer': 1,\n",
              " 'old': 1,\n",
              " 'open': 2,\n",
              " 'part': 1,\n",
              " 'per': 3,\n",
              " 'period': 2,\n",
              " 'ports': 3,\n",
              " 'practically': 1,\n",
              " 'prices': 1,\n",
              " 'processors': 1,\n",
              " 'prospects': 1,\n",
              " 'published': 1,\n",
              " 'quality': 1,\n",
              " 'recent': 1,\n",
              " 'registered': 1,\n",
              " 'reluctant': 1,\n",
              " 'restored': 1,\n",
              " 'reuter': 1,\n",
              " 'review': 2,\n",
              " 'rose': 1,\n",
              " 'routine': 1,\n",
              " 'said': 5,\n",
              " 'sales': 7,\n",
              " 'salvador': 1,\n",
              " 'season': 1,\n",
              " 'seems': 1,\n",
              " 'selling': 1,\n",
              " 'sept': 2,\n",
              " 'shipment': 2,\n",
              " 'shippers': 2,\n",
              " 'showers': 1,\n",
              " 'since': 1,\n",
              " 'smith': 5,\n",
              " 'sold': 2,\n",
              " 'spot': 1,\n",
              " 'stage': 1,\n",
              " 'standing': 1,\n",
              " 'still': 3,\n",
              " 'superior+': 1,\n",
              " 'temporao': 2,\n",
              " 'thousand': 1,\n",
              " 'throughout': 1,\n",
              " 'times': 7,\n",
              " 'tonne': 2,\n",
              " 'total': 3,\n",
              " 'trade': 1,\n",
              " 'u.s.': 2,\n",
              " 'uruguay': 2,\n",
              " 'view': 1,\n",
              " 'week': 2,\n",
              " 'weekly': 1,\n",
              " 'weeks': 1,\n",
              " 'went': 1,\n",
              " 'would': 1,\n",
              " 'year': 2,\n",
              " 'york': 8,\n",
              " 'zone': 1}"
            ]
          },
          "metadata": {},
          "execution_count": 67
        }
      ]
    },
    {
      "cell_type": "code",
      "metadata": {
        "colab": {
          "base_uri": "https://localhost:8080/"
        },
        "id": "tzTgrWK8i8N2",
        "outputId": "5eb8b4a6-6ffe-4731-b90b-a48572744b38"
      },
      "source": [
        "FreqDist(text_words)"
      ],
      "execution_count": null,
      "outputs": [
        {
          "output_type": "execute_result",
          "data": {
            "text/plain": [
              "FreqDist({'+bahia': 1,\n",
              "          '0.39': 1,\n",
              "          '1,750': 1,\n",
              "          '1,780': 1,\n",
              "          '1,850': 1,\n",
              "          '1,870': 1,\n",
              "          '1,875': 1,\n",
              "          '1,880': 2,\n",
              "          '1.06': 1,\n",
              "          '1.25': 3,\n",
              "          '15': 1,\n",
              "          '155,221': 1,\n",
              "          '1986/87': 1,\n",
              "          '1987/88': 1,\n",
              "          '2,325': 1,\n",
              "          '2,375': 1,\n",
              "          '2,380': 1,\n",
              "          '2,400': 1,\n",
              "          '2.27': 3,\n",
              "          '2.28': 1,\n",
              "          '22': 1,\n",
              "          '26': 1,\n",
              "          '27': 1,\n",
              "          '28': 1,\n",
              "          '340': 1,\n",
              "          '35': 1,\n",
              "          '350': 1,\n",
              "          '4,340': 1,\n",
              "          '4,345': 1,\n",
              "          '4,350': 1,\n",
              "          '4,351': 1,\n",
              "          '4,400': 1,\n",
              "          '4,415': 1,\n",
              "          '4,450': 1,\n",
              "          '4,480': 1,\n",
              "          '45': 1,\n",
              "          '5.81': 1,\n",
              "          '5.93': 1,\n",
              "          '6.13': 1,\n",
              "          '6.2': 1,\n",
              "          '6.4': 1,\n",
              "          '60': 1,\n",
              "          '753': 1,\n",
              "          '785': 2,\n",
              "          '995': 1,\n",
              "          'alleviating': 1,\n",
              "          'almost': 1,\n",
              "          'also': 1,\n",
              "          'although': 1,\n",
              "          'april/may': 1,\n",
              "          'areas': 2,\n",
              "          'argentina': 1,\n",
              "          'around': 1,\n",
              "          'arrivals': 2,\n",
              "          'arroba': 1,\n",
              "          'aug': 1,\n",
              "          'aug/sept': 3,\n",
              "          'available': 1,\n",
              "          'bags': 5,\n",
              "          'bahia': 4,\n",
              "          'bean': 2,\n",
              "          'booked': 1,\n",
              "          'brazilian': 1,\n",
              "          'butter': 2,\n",
              "          'buyers': 1,\n",
              "          'cake': 1,\n",
              "          'carnival': 1,\n",
              "          'certificates': 1,\n",
              "          'cocoa': 7,\n",
              "          'come': 1,\n",
              "          'coming': 1,\n",
              "          'comissaria': 5,\n",
              "          'commission': 1,\n",
              "          'consignment': 2,\n",
              "          'continued': 1,\n",
              "          'convertible': 1,\n",
              "          'covertible': 1,\n",
              "          'crop': 5,\n",
              "          'cruzados': 1,\n",
              "          'cumulative': 1,\n",
              "          'currency': 2,\n",
              "          'currently': 1,\n",
              "          'dec': 3,\n",
              "          'delivered': 1,\n",
              "          'destinations': 1,\n",
              "          'dificulties': 1,\n",
              "          'dlrs': 14,\n",
              "          'doubt': 1,\n",
              "          'doubts': 1,\n",
              "          'drought': 1,\n",
              "          'dry': 1,\n",
              "          'earlier': 1,\n",
              "          'early': 1,\n",
              "          'end': 1,\n",
              "          'ended': 1,\n",
              "          'ends': 1,\n",
              "          'estimated': 1,\n",
              "          'estimates': 1,\n",
              "          'expected': 1,\n",
              "          'experiencing': 1,\n",
              "          'export': 1,\n",
              "          'exporters': 1,\n",
              "          'farmers': 2,\n",
              "          'feb': 1,\n",
              "          'february': 3,\n",
              "          'figures': 2,\n",
              "          'final': 1,\n",
              "          'fit': 1,\n",
              "          'fob': 1,\n",
              "          'going': 1,\n",
              "          'good': 1,\n",
              "          'hands': 1,\n",
              "          'harvesting': 1,\n",
              "          'held': 1,\n",
              "          'humidity': 1,\n",
              "          'hundred': 1,\n",
              "          'improving': 1,\n",
              "          'included': 1,\n",
              "          'january': 1,\n",
              "          'july': 2,\n",
              "          'june/july': 3,\n",
              "          'kilos': 2,\n",
              "          'last': 1,\n",
              "          'late': 1,\n",
              "          'levels': 1,\n",
              "          'light': 1,\n",
              "          'limited': 2,\n",
              "          'liquor': 1,\n",
              "          'lower': 1,\n",
              "          'made': 1,\n",
              "          'making': 1,\n",
              "          'march': 1,\n",
              "          'march/april': 3,\n",
              "          'may': 2,\n",
              "          'means': 1,\n",
              "          'midday': 1,\n",
              "          'middlemen': 1,\n",
              "          'mln': 5,\n",
              "          'much': 2,\n",
              "          'named': 1,\n",
              "          'nearby': 1,\n",
              "          'new': 9,\n",
              "          'normal': 1,\n",
              "          'obtaining': 1,\n",
              "          'oct/dec': 3,\n",
              "          'offer': 1,\n",
              "          'old': 1,\n",
              "          'open': 2,\n",
              "          'part': 1,\n",
              "          'per': 3,\n",
              "          'period': 2,\n",
              "          'ports': 3,\n",
              "          'practically': 1,\n",
              "          'prices': 1,\n",
              "          'processors': 1,\n",
              "          'prospects': 1,\n",
              "          'published': 1,\n",
              "          'quality': 1,\n",
              "          'recent': 1,\n",
              "          'registered': 1,\n",
              "          'reluctant': 1,\n",
              "          'restored': 1,\n",
              "          'reuter': 1,\n",
              "          'review': 2,\n",
              "          'rose': 1,\n",
              "          'routine': 1,\n",
              "          'said': 5,\n",
              "          'sales': 7,\n",
              "          'salvador': 1,\n",
              "          'season': 1,\n",
              "          'seems': 1,\n",
              "          'selling': 1,\n",
              "          'sept': 2,\n",
              "          'shipment': 2,\n",
              "          'shippers': 2,\n",
              "          'showers': 1,\n",
              "          'since': 1,\n",
              "          'smith': 5,\n",
              "          'sold': 2,\n",
              "          'spot': 1,\n",
              "          'stage': 1,\n",
              "          'standing': 1,\n",
              "          'still': 3,\n",
              "          'superior+': 1,\n",
              "          'temporao': 2,\n",
              "          'thousand': 1,\n",
              "          'throughout': 1,\n",
              "          'times': 7,\n",
              "          'tonne': 2,\n",
              "          'total': 3,\n",
              "          'trade': 1,\n",
              "          'u.s.': 2,\n",
              "          'uruguay': 2,\n",
              "          'view': 1,\n",
              "          'week': 2,\n",
              "          'weekly': 1,\n",
              "          'weeks': 1,\n",
              "          'went': 1,\n",
              "          'would': 1,\n",
              "          'year': 2,\n",
              "          'york': 8,\n",
              "          'zone': 1})"
            ]
          },
          "metadata": {},
          "execution_count": 68
        }
      ]
    },
    {
      "cell_type": "code",
      "metadata": {
        "colab": {
          "base_uri": "https://localhost:8080/"
        },
        "id": "ldlWjCYUlMWO",
        "outputId": "de09cbea-ffac-4bd0-b272-6b8f9c9f2ca6"
      },
      "source": [
        "FreqDist(text_words).most_common(10)"
      ],
      "execution_count": null,
      "outputs": [
        {
          "output_type": "execute_result",
          "data": {
            "text/plain": [
              "[('dlrs', 14),\n",
              " ('new', 9),\n",
              " ('york', 8),\n",
              " ('cocoa', 7),\n",
              " ('sales', 7),\n",
              " ('times', 7),\n",
              " ('comissaria', 5),\n",
              " ('smith', 5),\n",
              " ('said', 5),\n",
              " ('bags', 5)]"
            ]
          },
          "metadata": {},
          "execution_count": 69
        }
      ]
    },
    {
      "cell_type": "markdown",
      "metadata": {
        "id": "-DcAvOuQlOtu"
      },
      "source": [
        "It seems there are a lot of numbers. Update function to get rid of numbers from the list.\n",
        "\n",
        "Note: this function also gets rid of strings with punctuation in it like \"n't\"."
      ]
    },
    {
      "cell_type": "code",
      "metadata": {
        "id": "IsSSNBFxlaHg"
      },
      "source": [
        "def process_narrative(narrative):\n",
        "    tokens = nltk.word_tokenize(narrative)\n",
        "    stopwords_removed = [token.lower() for token in tokens if token.lower() not in stopwords_list]\n",
        "    \n",
        "    # adding line to remove all tokens with numbers and punctuation\n",
        "    stopwords_punc_and_numbers_removed = [word for word in stopwords_removed if word.isalpha()]\n",
        "    \n",
        "    return stopwords_punc_and_numbers_removed"
      ],
      "execution_count": null,
      "outputs": []
    },
    {
      "cell_type": "code",
      "metadata": {
        "colab": {
          "base_uri": "https://localhost:8080/"
        },
        "id": "rVZscVZcldPK",
        "outputId": "a13ac75f-ba38-4988-fe8b-a62a51a1e085"
      },
      "source": [
        "text1 = df.text[0]\n",
        "text_words = process_narrative(text1)\n",
        "text_words[0:20]"
      ],
      "execution_count": null,
      "outputs": [
        {
          "output_type": "execute_result",
          "data": {
            "text/plain": [
              "['bahia',\n",
              " 'cocoa',\n",
              " 'review',\n",
              " 'salvador',\n",
              " 'feb',\n",
              " 'showers',\n",
              " 'continued',\n",
              " 'throughout',\n",
              " 'week',\n",
              " 'bahia',\n",
              " 'cocoa',\n",
              " 'zone',\n",
              " 'alleviating',\n",
              " 'drought',\n",
              " 'since',\n",
              " 'early',\n",
              " 'january',\n",
              " 'improving',\n",
              " 'prospects',\n",
              " 'coming']"
            ]
          },
          "metadata": {},
          "execution_count": 71
        }
      ]
    },
    {
      "cell_type": "markdown",
      "metadata": {
        "id": "lOA06MNTldZv"
      },
      "source": [
        "## Concatenate all the narratives into a single string per topic"
      ]
    },
    {
      "cell_type": "code",
      "metadata": {
        "id": "55ilZkUIldde"
      },
      "source": [
        "blank_df = df[df['topic'] == 'blank']\n",
        "other_df = df[df['topic'] == 'other']\n",
        "earn_df = df[df['topic'] == 'earn']"
      ],
      "execution_count": null,
      "outputs": []
    },
    {
      "cell_type": "code",
      "metadata": {
        "id": "D_v9VxoMldg9"
      },
      "source": [
        "def concat_narratives(df):\n",
        "    # concat narratives\n",
        "    narr = ''\n",
        "    for i in range(len(df)):\n",
        "        narr += df.iloc[i]['text']\n",
        "    print('Finished Concatenation')\n",
        "    return narr"
      ],
      "execution_count": null,
      "outputs": []
    },
    {
      "cell_type": "code",
      "metadata": {
        "colab": {
          "base_uri": "https://localhost:8080/"
        },
        "id": "1KZzT9wKldkZ",
        "outputId": "355abaea-f3fd-4da7-e561-49a6f0996ab1"
      },
      "source": [
        "blank_text = concat_narratives(blank_df)\n",
        "blank_text_processed = process_narrative(blank_text)\n",
        "\n",
        "other_text = concat_narratives(other_df)\n",
        "other_text_processed = process_narrative(other_text)\n",
        "\n",
        "earn_text = concat_narratives(earn_df)\n",
        "earn_text_processed = process_narrative(earn_text)"
      ],
      "execution_count": null,
      "outputs": [
        {
          "output_type": "stream",
          "name": "stdout",
          "text": [
            "Finished Concatenation\n",
            "Finished Concatenation\n",
            "Finished Concatenation\n"
          ]
        }
      ]
    },
    {
      "cell_type": "code",
      "metadata": {
        "colab": {
          "base_uri": "https://localhost:8080/"
        },
        "id": "-0Lad31Mldn4",
        "outputId": "bbbd001d-8f6c-49f6-8ce8-ce267fed70f9"
      },
      "source": [
        "FreqDist(blank_text_processed).most_common(30)"
      ],
      "execution_count": null,
      "outputs": [
        {
          "output_type": "execute_result",
          "data": {
            "text/plain": [
              "[('said', 26590),\n",
              " ('dlrs', 8914),\n",
              " ('pct', 8127),\n",
              " ('mln', 8030),\n",
              " ('march', 6362),\n",
              " ('new', 5815),\n",
              " ('company', 4958),\n",
              " ('billion', 4720),\n",
              " ('would', 4259),\n",
              " ('bank', 4179),\n",
              " ('year', 4151),\n",
              " ('april', 4010),\n",
              " ('inc', 3876),\n",
              " ('corp', 3721),\n",
              " ('debt', 3274),\n",
              " ('stock', 3094),\n",
              " ('market', 2961),\n",
              " ('one', 2639),\n",
              " ('shares', 2588),\n",
              " ('last', 2568),\n",
              " ('also', 2523),\n",
              " ('co', 2483),\n",
              " ('banks', 2279),\n",
              " ('two', 2161),\n",
              " ('york', 2151),\n",
              " ('may', 2146),\n",
              " ('government', 2118),\n",
              " ('june', 2072),\n",
              " ('dlr', 2071),\n",
              " ('first', 1991)]"
            ]
          },
          "metadata": {},
          "execution_count": 75
        }
      ]
    },
    {
      "cell_type": "code",
      "metadata": {
        "colab": {
          "base_uri": "https://localhost:8080/"
        },
        "id": "ew2EQeC3ldrV",
        "outputId": "13842c6c-047f-4db8-95bc-15de1b218de9"
      },
      "source": [
        "FreqDist(other_text_processed).most_common(30)"
      ],
      "execution_count": null,
      "outputs": [
        {
          "output_type": "execute_result",
          "data": {
            "text/plain": [
              "[('said', 24465),\n",
              " ('pct', 9340),\n",
              " ('mln', 7717),\n",
              " ('dlrs', 6906),\n",
              " ('march', 5390),\n",
              " ('would', 4843),\n",
              " ('billion', 4307),\n",
              " ('year', 4287),\n",
              " ('trade', 3512),\n",
              " ('new', 3384),\n",
              " ('oil', 3368),\n",
              " ('bank', 3289),\n",
              " ('company', 3184),\n",
              " ('last', 3157),\n",
              " ('april', 3030),\n",
              " ('market', 2898),\n",
              " ('tonnes', 2795),\n",
              " ('prices', 2413),\n",
              " ('inc', 2403),\n",
              " ('also', 2321),\n",
              " ('shares', 2200),\n",
              " ('corp', 2135),\n",
              " ('one', 2111),\n",
              " ('two', 1981),\n",
              " ('price', 1950),\n",
              " ('government', 1947),\n",
              " ('japan', 1929),\n",
              " ('rate', 1878),\n",
              " ('stock', 1855),\n",
              " ('february', 1777)]"
            ]
          },
          "metadata": {},
          "execution_count": 76
        }
      ]
    },
    {
      "cell_type": "code",
      "metadata": {
        "colab": {
          "base_uri": "https://localhost:8080/"
        },
        "id": "I1M9f2kKldu6",
        "outputId": "8de1afe0-3925-4f5f-8059-738aa89de328"
      },
      "source": [
        "FreqDist(earn_text_processed).most_common(30)"
      ],
      "execution_count": null,
      "outputs": [
        {
          "output_type": "execute_result",
          "data": {
            "text/plain": [
              "[('vs', 13885),\n",
              " ('mln', 11458),\n",
              " ('cts', 7828),\n",
              " ('net', 6496),\n",
              " ('dlrs', 6077),\n",
              " ('loss', 5022),\n",
              " ('shr', 3969),\n",
              " ('said', 3641),\n",
              " ('march', 3276),\n",
              " ('year', 3150),\n",
              " ('profit', 2822),\n",
              " ('qtr', 2490),\n",
              " ('revs', 2328),\n",
              " ('billion', 1947),\n",
              " ('share', 1768),\n",
              " ('april', 1722),\n",
              " ('company', 1702),\n",
              " ('inc', 1665),\n",
              " ('note', 1413),\n",
              " ('pct', 1278),\n",
              " ('corp', 1255),\n",
              " ('sales', 1250),\n",
              " ('oper', 1219),\n",
              " ('quarter', 1163),\n",
              " ('dividend', 1044),\n",
              " ('avg', 1027),\n",
              " ('shrs', 1023),\n",
              " ('record', 963),\n",
              " ('earnings', 884),\n",
              " ('nine', 881)]"
            ]
          },
          "metadata": {},
          "execution_count": 77
        }
      ]
    },
    {
      "cell_type": "code",
      "metadata": {
        "colab": {
          "base_uri": "https://localhost:8080/",
          "height": 414
        },
        "id": "JunIblGPl9At",
        "outputId": "bc692a52-462f-4803-ee2c-dda063ebae04"
      },
      "source": [
        "figure(figsize=(15, 6))\n",
        "other_words = FreqDist(other_text_processed).most_common(30)\n",
        "words = [i[0] for i in other_words]\n",
        "counts = [i[1] for i in other_words]\n",
        "plt.xticks(fontsize=10, rotation = 45)\n",
        "plt.bar(words, counts, color = 'seagreen')\n",
        "plt.show()"
      ],
      "execution_count": null,
      "outputs": [
        {
          "output_type": "display_data",
          "data": {
            "image/png": "[encoded data removed]",
            "text/plain": [
              "<Figure size 1080x432 with 1 Axes>"
            ]
          },
          "metadata": {
            "needs_background": "light"
          }
        }
      ]
    },
    {
      "cell_type": "code",
      "metadata": {
        "colab": {
          "base_uri": "https://localhost:8080/",
          "height": 414
        },
        "id": "uiLjgfWKmV6x",
        "outputId": "8fcb62e1-6cab-4e7b-d2f5-52acfaaaed8c"
      },
      "source": [
        "figure(figsize=(15, 6))\n",
        "blank_words = FreqDist(blank_text_processed).most_common(30)\n",
        "words = [i[0] for i in blank_words]\n",
        "counts = [i[1] for i in blank_words]\n",
        "plt.xticks(fontsize=10, rotation = 45)\n",
        "plt.bar(words, counts, color = 'blue')\n",
        "plt.show()"
      ],
      "execution_count": null,
      "outputs": [
        {
          "output_type": "display_data",
          "data": {
            "image/png": "[encoded data removed]",
            "text/plain": [
              "<Figure size 1080x432 with 1 Axes>"
            ]
          },
          "metadata": {
            "needs_background": "light"
          }
        }
      ]
    },
    {
      "cell_type": "code",
      "metadata": {
        "colab": {
          "base_uri": "https://localhost:8080/",
          "height": 403
        },
        "id": "DPikJU-7mWGP",
        "outputId": "4278f3eb-2816-4029-e5c8-8a8412a13a32"
      },
      "source": [
        "figure(figsize=(15, 6))\n",
        "earn_words = FreqDist(earn_text_processed).most_common(30)\n",
        "words = [i[0] for i in earn_words]\n",
        "counts = [i[1] for i in earn_words]\n",
        "plt.xticks(fontsize=10, rotation = 45)\n",
        "plt.bar(words, counts, color = 'aqua')\n",
        "plt.show()"
      ],
      "execution_count": null,
      "outputs": [
        {
          "output_type": "display_data",
          "data": {
            "image/png": "[encoded data removed]",
            "text/plain": [
              "<Figure size 1080x432 with 1 Axes>"
            ]
          },
          "metadata": {
            "needs_background": "light"
          }
        }
      ]
    },
    {
      "cell_type": "markdown",
      "metadata": {
        "id": "_uLlpbokmWOu"
      },
      "source": [
        "## Check with TF-IDF"
      ]
    },
    {
      "cell_type": "markdown",
      "metadata": {
        "id": "6ZOhUsucmWUd"
      },
      "source": [
        "This step will help weight the words to equalize docs of different lengths.\n",
        "  "
      ]
    },
    {
      "cell_type": "code",
      "metadata": {
        "id": "UXcMGWn0mWX2"
      },
      "source": [
        "from sklearn.feature_extraction.text import TfidfVectorizer, CountVectorizer"
      ],
      "execution_count": null,
      "outputs": []
    },
    {
      "cell_type": "code",
      "metadata": {
        "id": "VzKSOGEWmWda"
      },
      "source": [
        "# function to concat processed text as a single string inside a list\n",
        "def concat_words(list):\n",
        "    # remove any NaN's\n",
        "    list = [i for i in list if i is not np.nan]\n",
        "\n",
        "    # concat words\n",
        "    concat_words = ''\n",
        "    for word in list:\n",
        "        concat_words += word + ' '\n",
        "    return [concat_words]"
      ],
      "execution_count": null,
      "outputs": []
    },
    {
      "cell_type": "code",
      "metadata": {
        "id": "M7jBRKiDmWgg"
      },
      "source": [
        "vectorizer = TfidfVectorizer()\n",
        "blank_corpus = concat_words(blank_text_processed)\n",
        "X_blank = vectorizer.fit_transform(blank_corpus)"
      ],
      "execution_count": null,
      "outputs": []
    },
    {
      "cell_type": "code",
      "metadata": {
        "id": "AWbHFMCkmWjc",
        "colab": {
          "base_uri": "https://localhost:8080/"
        },
        "outputId": "0f51451d-9f70-4df4-a5dc-31ccd4676fab"
      },
      "source": [
        "X_blank.shape"
      ],
      "execution_count": null,
      "outputs": [
        {
          "output_type": "execute_result",
          "data": {
            "text/plain": [
              "(1, 32041)"
            ]
          },
          "metadata": {},
          "execution_count": 84
        }
      ]
    },
    {
      "cell_type": "code",
      "metadata": {
        "colab": {
          "base_uri": "https://localhost:8080/"
        },
        "id": "P-8FqL7DrCgT",
        "outputId": "f158ff8b-584e-4d65-ae02-a2260870d277"
      },
      "source": [
        "# transposing it \n",
        "X_blank = X_blank.T.todense()\n",
        "X_blank.shape"
      ],
      "execution_count": null,
      "outputs": [
        {
          "output_type": "execute_result",
          "data": {
            "text/plain": [
              "(32041, 1)"
            ]
          },
          "metadata": {},
          "execution_count": 85
        }
      ]
    },
    {
      "cell_type": "code",
      "metadata": {
        "id": "SWT5B9XtrCyl"
      },
      "source": [
        "feature_names = vectorizer.get_feature_names_out()"
      ],
      "execution_count": null,
      "outputs": []
    },
    {
      "cell_type": "code",
      "metadata": {
        "colab": {
          "base_uri": "https://localhost:8080/",
          "height": 519
        },
        "id": "XMfkhMk6rFUV",
        "outputId": "0dc6c254-7c9c-4e23-bfac-9c6832fe4bc7"
      },
      "source": [
        "df_blank = pd.DataFrame(X_blank, index=feature_names, columns=[\"score_blank\"])\n",
        "df_blank = df_blank.sort_values(by=\"score_blank\", ascending=False)\n",
        "df_blank.iloc[0:15]"
      ],
      "execution_count": null,
      "outputs": [
        {
          "output_type": "execute_result",
          "data": {
            "text/html": [
              "<div>\n",
              "<style scoped>\n",
              "    .dataframe tbody tr th:only-of-type {\n",
              "        vertical-align: middle;\n",
              "    }\n",
              "\n",
              "    .dataframe tbody tr th {\n",
              "        vertical-align: top;\n",
              "    }\n",
              "\n",
              "    .dataframe thead th {\n",
              "        text-align: right;\n",
              "    }\n",
              "</style>\n",
              "<table border=\"1\" class=\"dataframe\">\n",
              "  <thead>\n",
              "    <tr style=\"text-align: right;\">\n",
              "      <th></th>\n",
              "      <th>score_blank</th>\n",
              "    </tr>\n",
              "  </thead>\n",
              "  <tbody>\n",
              "    <tr>\n",
              "      <th>said</th>\n",
              "      <td>0.690419</td>\n",
              "    </tr>\n",
              "    <tr>\n",
              "      <th>dlrs</th>\n",
              "      <td>0.231455</td>\n",
              "    </tr>\n",
              "    <tr>\n",
              "      <th>pct</th>\n",
              "      <td>0.211020</td>\n",
              "    </tr>\n",
              "    <tr>\n",
              "      <th>mln</th>\n",
              "      <td>0.208502</td>\n",
              "    </tr>\n",
              "    <tr>\n",
              "      <th>march</th>\n",
              "      <td>0.165192</td>\n",
              "    </tr>\n",
              "    <tr>\n",
              "      <th>new</th>\n",
              "      <td>0.150988</td>\n",
              "    </tr>\n",
              "    <tr>\n",
              "      <th>company</th>\n",
              "      <td>0.128736</td>\n",
              "    </tr>\n",
              "    <tr>\n",
              "      <th>billion</th>\n",
              "      <td>0.122556</td>\n",
              "    </tr>\n",
              "    <tr>\n",
              "      <th>would</th>\n",
              "      <td>0.110586</td>\n",
              "    </tr>\n",
              "    <tr>\n",
              "      <th>bank</th>\n",
              "      <td>0.108509</td>\n",
              "    </tr>\n",
              "    <tr>\n",
              "      <th>year</th>\n",
              "      <td>0.107782</td>\n",
              "    </tr>\n",
              "    <tr>\n",
              "      <th>april</th>\n",
              "      <td>0.104121</td>\n",
              "    </tr>\n",
              "    <tr>\n",
              "      <th>inc</th>\n",
              "      <td>0.100642</td>\n",
              "    </tr>\n",
              "    <tr>\n",
              "      <th>corp</th>\n",
              "      <td>0.096617</td>\n",
              "    </tr>\n",
              "    <tr>\n",
              "      <th>debt</th>\n",
              "      <td>0.085011</td>\n",
              "    </tr>\n",
              "  </tbody>\n",
              "</table>\n",
              "</div>"
            ],
            "text/plain": [
              "         score_blank\n",
              "said        0.690419\n",
              "dlrs        0.231455\n",
              "pct         0.211020\n",
              "mln         0.208502\n",
              "march       0.165192\n",
              "new         0.150988\n",
              "company     0.128736\n",
              "billion     0.122556\n",
              "would       0.110586\n",
              "bank        0.108509\n",
              "year        0.107782\n",
              "april       0.104121\n",
              "inc         0.100642\n",
              "corp        0.096617\n",
              "debt        0.085011"
            ]
          },
          "metadata": {},
          "execution_count": 87
        }
      ]
    },
    {
      "cell_type": "markdown",
      "metadata": {
        "id": "X6zD8cuGrF-V"
      },
      "source": [
        "Let's do it with the other two"
      ]
    },
    {
      "cell_type": "code",
      "metadata": {
        "colab": {
          "base_uri": "https://localhost:8080/",
          "height": 519
        },
        "id": "86-z-iiZrGO5",
        "outputId": "3920ea29-8c15-4b59-c0d3-f6f2718380dc"
      },
      "source": [
        "earn_corpus = concat_words(earn_text_processed)\n",
        "X_earn = vectorizer.fit_transform(earn_corpus)\n",
        "X_earn = X_earn.T.todense()\n",
        "feature_names = vectorizer.get_feature_names_out()\n",
        "df_earn = pd.DataFrame(X_earn, index=feature_names, columns=[\"score_earn\"])\n",
        "df_earn = df_earn.sort_values(by=\"score_earn\", ascending=False)\n",
        "df_earn.iloc[0:15]"
      ],
      "execution_count": null,
      "outputs": [
        {
          "output_type": "execute_result",
          "data": {
            "text/html": [
              "<div>\n",
              "<style scoped>\n",
              "    .dataframe tbody tr th:only-of-type {\n",
              "        vertical-align: middle;\n",
              "    }\n",
              "\n",
              "    .dataframe tbody tr th {\n",
              "        vertical-align: top;\n",
              "    }\n",
              "\n",
              "    .dataframe thead th {\n",
              "        text-align: right;\n",
              "    }\n",
              "</style>\n",
              "<table border=\"1\" class=\"dataframe\">\n",
              "  <thead>\n",
              "    <tr style=\"text-align: right;\">\n",
              "      <th></th>\n",
              "      <th>score_earn</th>\n",
              "    </tr>\n",
              "  </thead>\n",
              "  <tbody>\n",
              "    <tr>\n",
              "      <th>vs</th>\n",
              "      <td>0.562084</td>\n",
              "    </tr>\n",
              "    <tr>\n",
              "      <th>mln</th>\n",
              "      <td>0.463835</td>\n",
              "    </tr>\n",
              "    <tr>\n",
              "      <th>cts</th>\n",
              "      <td>0.316888</td>\n",
              "    </tr>\n",
              "    <tr>\n",
              "      <th>net</th>\n",
              "      <td>0.262967</td>\n",
              "    </tr>\n",
              "    <tr>\n",
              "      <th>dlrs</th>\n",
              "      <td>0.246005</td>\n",
              "    </tr>\n",
              "    <tr>\n",
              "      <th>loss</th>\n",
              "      <td>0.203297</td>\n",
              "    </tr>\n",
              "    <tr>\n",
              "      <th>shr</th>\n",
              "      <td>0.160670</td>\n",
              "    </tr>\n",
              "    <tr>\n",
              "      <th>said</th>\n",
              "      <td>0.147393</td>\n",
              "    </tr>\n",
              "    <tr>\n",
              "      <th>march</th>\n",
              "      <td>0.132617</td>\n",
              "    </tr>\n",
              "    <tr>\n",
              "      <th>year</th>\n",
              "      <td>0.127516</td>\n",
              "    </tr>\n",
              "    <tr>\n",
              "      <th>profit</th>\n",
              "      <td>0.114238</td>\n",
              "    </tr>\n",
              "    <tr>\n",
              "      <th>qtr</th>\n",
              "      <td>0.100799</td>\n",
              "    </tr>\n",
              "    <tr>\n",
              "      <th>revs</th>\n",
              "      <td>0.094241</td>\n",
              "    </tr>\n",
              "    <tr>\n",
              "      <th>billion</th>\n",
              "      <td>0.078817</td>\n",
              "    </tr>\n",
              "    <tr>\n",
              "      <th>share</th>\n",
              "      <td>0.071571</td>\n",
              "    </tr>\n",
              "  </tbody>\n",
              "</table>\n",
              "</div>"
            ],
            "text/plain": [
              "         score_earn\n",
              "vs         0.562084\n",
              "mln        0.463835\n",
              "cts        0.316888\n",
              "net        0.262967\n",
              "dlrs       0.246005\n",
              "loss       0.203297\n",
              "shr        0.160670\n",
              "said       0.147393\n",
              "march      0.132617\n",
              "year       0.127516\n",
              "profit     0.114238\n",
              "qtr        0.100799\n",
              "revs       0.094241\n",
              "billion    0.078817\n",
              "share      0.071571"
            ]
          },
          "metadata": {},
          "execution_count": 88
        }
      ]
    },
    {
      "cell_type": "code",
      "metadata": {
        "colab": {
          "base_uri": "https://localhost:8080/",
          "height": 519
        },
        "id": "_xVqITHjrGZp",
        "outputId": "6be60e11-e007-4f04-fd3d-51bc09df2323"
      },
      "source": [
        "other_corpus = concat_words(other_text_processed)\n",
        "X_other = vectorizer.fit_transform(other_corpus)\n",
        "X_other = X_other.T.todense()\n",
        "feature_names = vectorizer.get_feature_names_out()\n",
        "df_other = pd.DataFrame(X_other, index=feature_names, columns=[\"score_other\"])\n",
        "df_other = df_other.sort_values(by=\"score_other\", ascending=False)\n",
        "df_other.iloc[0:15]"
      ],
      "execution_count": null,
      "outputs": [
        {
          "output_type": "execute_result",
          "data": {
            "text/html": [
              "<div>\n",
              "<style scoped>\n",
              "    .dataframe tbody tr th:only-of-type {\n",
              "        vertical-align: middle;\n",
              "    }\n",
              "\n",
              "    .dataframe tbody tr th {\n",
              "        vertical-align: top;\n",
              "    }\n",
              "\n",
              "    .dataframe thead th {\n",
              "        text-align: right;\n",
              "    }\n",
              "</style>\n",
              "<table border=\"1\" class=\"dataframe\">\n",
              "  <thead>\n",
              "    <tr style=\"text-align: right;\">\n",
              "      <th></th>\n",
              "      <th>score_other</th>\n",
              "    </tr>\n",
              "  </thead>\n",
              "  <tbody>\n",
              "    <tr>\n",
              "      <th>said</th>\n",
              "      <td>0.687616</td>\n",
              "    </tr>\n",
              "    <tr>\n",
              "      <th>pct</th>\n",
              "      <td>0.262511</td>\n",
              "    </tr>\n",
              "    <tr>\n",
              "      <th>mln</th>\n",
              "      <td>0.216895</td>\n",
              "    </tr>\n",
              "    <tr>\n",
              "      <th>dlrs</th>\n",
              "      <td>0.194101</td>\n",
              "    </tr>\n",
              "    <tr>\n",
              "      <th>march</th>\n",
              "      <td>0.151492</td>\n",
              "    </tr>\n",
              "    <tr>\n",
              "      <th>would</th>\n",
              "      <td>0.136118</td>\n",
              "    </tr>\n",
              "    <tr>\n",
              "      <th>billion</th>\n",
              "      <td>0.121053</td>\n",
              "    </tr>\n",
              "    <tr>\n",
              "      <th>year</th>\n",
              "      <td>0.120491</td>\n",
              "    </tr>\n",
              "    <tr>\n",
              "      <th>trade</th>\n",
              "      <td>0.098709</td>\n",
              "    </tr>\n",
              "    <tr>\n",
              "      <th>new</th>\n",
              "      <td>0.095111</td>\n",
              "    </tr>\n",
              "    <tr>\n",
              "      <th>oil</th>\n",
              "      <td>0.094661</td>\n",
              "    </tr>\n",
              "    <tr>\n",
              "      <th>bank</th>\n",
              "      <td>0.092441</td>\n",
              "    </tr>\n",
              "    <tr>\n",
              "      <th>company</th>\n",
              "      <td>0.089490</td>\n",
              "    </tr>\n",
              "    <tr>\n",
              "      <th>last</th>\n",
              "      <td>0.088731</td>\n",
              "    </tr>\n",
              "    <tr>\n",
              "      <th>april</th>\n",
              "      <td>0.085162</td>\n",
              "    </tr>\n",
              "  </tbody>\n",
              "</table>\n",
              "</div>"
            ],
            "text/plain": [
              "         score_other\n",
              "said        0.687616\n",
              "pct         0.262511\n",
              "mln         0.216895\n",
              "dlrs        0.194101\n",
              "march       0.151492\n",
              "would       0.136118\n",
              "billion     0.121053\n",
              "year        0.120491\n",
              "trade       0.098709\n",
              "new         0.095111\n",
              "oil         0.094661\n",
              "bank        0.092441\n",
              "company     0.089490\n",
              "last        0.088731\n",
              "april       0.085162"
            ]
          },
          "metadata": {},
          "execution_count": 89
        }
      ]
    },
    {
      "cell_type": "markdown",
      "metadata": {
        "id": "3qfn7bozrGjx"
      },
      "source": [
        "## Making a combined TF-IDF dataframe"
      ]
    },
    {
      "cell_type": "code",
      "metadata": {
        "colab": {
          "base_uri": "https://localhost:8080/"
        },
        "id": "EPm4Rk0hrGtr",
        "outputId": "d2f6a7a4-2638-41b1-9265-ce0b8e7103b5"
      },
      "source": [
        "corpus = other_corpus + blank_corpus + earn_corpus\n",
        "print(type(corpus))\n",
        "print(len(corpus))"
      ],
      "execution_count": null,
      "outputs": [
        {
          "output_type": "stream",
          "name": "stdout",
          "text": [
            "<class 'list'>\n",
            "3\n"
          ]
        }
      ]
    },
    {
      "cell_type": "code",
      "metadata": {
        "colab": {
          "base_uri": "https://localhost:8080/",
          "height": 519
        },
        "id": "qwXr-1l6rDBn",
        "outputId": "a96c65c6-44e7-4469-b20d-9110fc500326"
      },
      "source": [
        "X_corpus = vectorizer.fit_transform(corpus)\n",
        "X_corpus = X_corpus.T.todense()\n",
        "feature_names = vectorizer.get_feature_names_out()\n",
        "df_corpus = pd.DataFrame(X_corpus, index=feature_names, columns=[\"other\", \"blank\", \"earn\"])\n",
        "df_corpus = df_corpus.sort_values(by=\"other\", ascending=False)\n",
        "df_corpus.iloc[0:15]"
      ],
      "execution_count": null,
      "outputs": [
        {
          "output_type": "execute_result",
          "data": {
            "text/html": [
              "<div>\n",
              "<style scoped>\n",
              "    .dataframe tbody tr th:only-of-type {\n",
              "        vertical-align: middle;\n",
              "    }\n",
              "\n",
              "    .dataframe tbody tr th {\n",
              "        vertical-align: top;\n",
              "    }\n",
              "\n",
              "    .dataframe thead th {\n",
              "        text-align: right;\n",
              "    }\n",
              "</style>\n",
              "<table border=\"1\" class=\"dataframe\">\n",
              "  <thead>\n",
              "    <tr style=\"text-align: right;\">\n",
              "      <th></th>\n",
              "      <th>other</th>\n",
              "      <th>blank</th>\n",
              "      <th>earn</th>\n",
              "    </tr>\n",
              "  </thead>\n",
              "  <tbody>\n",
              "    <tr>\n",
              "      <th>said</th>\n",
              "      <td>0.686221</td>\n",
              "      <td>0.689477</td>\n",
              "      <td>0.146762</td>\n",
              "    </tr>\n",
              "    <tr>\n",
              "      <th>pct</th>\n",
              "      <td>0.261978</td>\n",
              "      <td>0.210733</td>\n",
              "      <td>0.051514</td>\n",
              "    </tr>\n",
              "    <tr>\n",
              "      <th>mln</th>\n",
              "      <td>0.216455</td>\n",
              "      <td>0.208218</td>\n",
              "      <td>0.461852</td>\n",
              "    </tr>\n",
              "    <tr>\n",
              "      <th>dlrs</th>\n",
              "      <td>0.193707</td>\n",
              "      <td>0.231140</td>\n",
              "      <td>0.244953</td>\n",
              "    </tr>\n",
              "    <tr>\n",
              "      <th>march</th>\n",
              "      <td>0.151185</td>\n",
              "      <td>0.164966</td>\n",
              "      <td>0.132050</td>\n",
              "    </tr>\n",
              "    <tr>\n",
              "      <th>would</th>\n",
              "      <td>0.135842</td>\n",
              "      <td>0.110436</td>\n",
              "      <td>0.016889</td>\n",
              "    </tr>\n",
              "    <tr>\n",
              "      <th>billion</th>\n",
              "      <td>0.120807</td>\n",
              "      <td>0.122389</td>\n",
              "      <td>0.078480</td>\n",
              "    </tr>\n",
              "    <tr>\n",
              "      <th>year</th>\n",
              "      <td>0.120246</td>\n",
              "      <td>0.107635</td>\n",
              "      <td>0.126971</td>\n",
              "    </tr>\n",
              "    <tr>\n",
              "      <th>trade</th>\n",
              "      <td>0.098508</td>\n",
              "      <td>0.032412</td>\n",
              "      <td>0.000927</td>\n",
              "    </tr>\n",
              "    <tr>\n",
              "      <th>new</th>\n",
              "      <td>0.094918</td>\n",
              "      <td>0.150783</td>\n",
              "      <td>0.032126</td>\n",
              "    </tr>\n",
              "    <tr>\n",
              "      <th>oil</th>\n",
              "      <td>0.094469</td>\n",
              "      <td>0.017840</td>\n",
              "      <td>0.011407</td>\n",
              "    </tr>\n",
              "    <tr>\n",
              "      <th>bank</th>\n",
              "      <td>0.092253</td>\n",
              "      <td>0.108361</td>\n",
              "      <td>0.021404</td>\n",
              "    </tr>\n",
              "    <tr>\n",
              "      <th>company</th>\n",
              "      <td>0.089308</td>\n",
              "      <td>0.128561</td>\n",
              "      <td>0.068605</td>\n",
              "    </tr>\n",
              "    <tr>\n",
              "      <th>last</th>\n",
              "      <td>0.088551</td>\n",
              "      <td>0.066588</td>\n",
              "      <td>0.018300</td>\n",
              "    </tr>\n",
              "    <tr>\n",
              "      <th>april</th>\n",
              "      <td>0.084989</td>\n",
              "      <td>0.103979</td>\n",
              "      <td>0.069411</td>\n",
              "    </tr>\n",
              "  </tbody>\n",
              "</table>\n",
              "</div>"
            ],
            "text/plain": [
              "            other     blank      earn\n",
              "said     0.686221  0.689477  0.146762\n",
              "pct      0.261978  0.210733  0.051514\n",
              "mln      0.216455  0.208218  0.461852\n",
              "dlrs     0.193707  0.231140  0.244953\n",
              "march    0.151185  0.164966  0.132050\n",
              "would    0.135842  0.110436  0.016889\n",
              "billion  0.120807  0.122389  0.078480\n",
              "year     0.120246  0.107635  0.126971\n",
              "trade    0.098508  0.032412  0.000927\n",
              "new      0.094918  0.150783  0.032126\n",
              "oil      0.094469  0.017840  0.011407\n",
              "bank     0.092253  0.108361  0.021404\n",
              "company  0.089308  0.128561  0.068605\n",
              "last     0.088551  0.066588  0.018300\n",
              "april    0.084989  0.103979  0.069411"
            ]
          },
          "metadata": {},
          "execution_count": 91
        }
      ]
    },
    {
      "cell_type": "code",
      "metadata": {
        "colab": {
          "base_uri": "https://localhost:8080/",
          "height": 519
        },
        "id": "9lRPX2cntZKM",
        "outputId": "84ecd28a-1e60-4066-d14a-0e34e5b8b199"
      },
      "source": [
        "df_corpus.sort_values(by=\"earn\", ascending=False).iloc[0:15]"
      ],
      "execution_count": null,
      "outputs": [
        {
          "output_type": "execute_result",
          "data": {
            "text/html": [
              "<div>\n",
              "<style scoped>\n",
              "    .dataframe tbody tr th:only-of-type {\n",
              "        vertical-align: middle;\n",
              "    }\n",
              "\n",
              "    .dataframe tbody tr th {\n",
              "        vertical-align: top;\n",
              "    }\n",
              "\n",
              "    .dataframe thead th {\n",
              "        text-align: right;\n",
              "    }\n",
              "</style>\n",
              "<table border=\"1\" class=\"dataframe\">\n",
              "  <thead>\n",
              "    <tr style=\"text-align: right;\">\n",
              "      <th></th>\n",
              "      <th>other</th>\n",
              "      <th>blank</th>\n",
              "      <th>earn</th>\n",
              "    </tr>\n",
              "  </thead>\n",
              "  <tbody>\n",
              "    <tr>\n",
              "      <th>vs</th>\n",
              "      <td>0.008443</td>\n",
              "      <td>0.017088</td>\n",
              "      <td>0.559680</td>\n",
              "    </tr>\n",
              "    <tr>\n",
              "      <th>mln</th>\n",
              "      <td>0.216455</td>\n",
              "      <td>0.208218</td>\n",
              "      <td>0.461852</td>\n",
              "    </tr>\n",
              "    <tr>\n",
              "      <th>cts</th>\n",
              "      <td>0.011416</td>\n",
              "      <td>0.026578</td>\n",
              "      <td>0.315533</td>\n",
              "    </tr>\n",
              "    <tr>\n",
              "      <th>net</th>\n",
              "      <td>0.011528</td>\n",
              "      <td>0.019344</td>\n",
              "      <td>0.261842</td>\n",
              "    </tr>\n",
              "    <tr>\n",
              "      <th>dlrs</th>\n",
              "      <td>0.193707</td>\n",
              "      <td>0.231140</td>\n",
              "      <td>0.244953</td>\n",
              "    </tr>\n",
              "    <tr>\n",
              "      <th>loss</th>\n",
              "      <td>0.005750</td>\n",
              "      <td>0.013406</td>\n",
              "      <td>0.202428</td>\n",
              "    </tr>\n",
              "    <tr>\n",
              "      <th>shr</th>\n",
              "      <td>0.000056</td>\n",
              "      <td>0.005004</td>\n",
              "      <td>0.159983</td>\n",
              "    </tr>\n",
              "    <tr>\n",
              "      <th>said</th>\n",
              "      <td>0.686221</td>\n",
              "      <td>0.689477</td>\n",
              "      <td>0.146762</td>\n",
              "    </tr>\n",
              "    <tr>\n",
              "      <th>march</th>\n",
              "      <td>0.151185</td>\n",
              "      <td>0.164966</td>\n",
              "      <td>0.132050</td>\n",
              "    </tr>\n",
              "    <tr>\n",
              "      <th>year</th>\n",
              "      <td>0.120246</td>\n",
              "      <td>0.107635</td>\n",
              "      <td>0.126971</td>\n",
              "    </tr>\n",
              "    <tr>\n",
              "      <th>revs</th>\n",
              "      <td>0.000000</td>\n",
              "      <td>0.002170</td>\n",
              "      <td>0.120833</td>\n",
              "    </tr>\n",
              "    <tr>\n",
              "      <th>profit</th>\n",
              "      <td>0.003562</td>\n",
              "      <td>0.008894</td>\n",
              "      <td>0.113750</td>\n",
              "    </tr>\n",
              "    <tr>\n",
              "      <th>qtr</th>\n",
              "      <td>0.000729</td>\n",
              "      <td>0.005186</td>\n",
              "      <td>0.100368</td>\n",
              "    </tr>\n",
              "    <tr>\n",
              "      <th>billion</th>\n",
              "      <td>0.120807</td>\n",
              "      <td>0.122389</td>\n",
              "      <td>0.078480</td>\n",
              "    </tr>\n",
              "    <tr>\n",
              "      <th>share</th>\n",
              "      <td>0.040615</td>\n",
              "      <td>0.043122</td>\n",
              "      <td>0.071265</td>\n",
              "    </tr>\n",
              "  </tbody>\n",
              "</table>\n",
              "</div>"
            ],
            "text/plain": [
              "            other     blank      earn\n",
              "vs       0.008443  0.017088  0.559680\n",
              "mln      0.216455  0.208218  0.461852\n",
              "cts      0.011416  0.026578  0.315533\n",
              "net      0.011528  0.019344  0.261842\n",
              "dlrs     0.193707  0.231140  0.244953\n",
              "loss     0.005750  0.013406  0.202428\n",
              "shr      0.000056  0.005004  0.159983\n",
              "said     0.686221  0.689477  0.146762\n",
              "march    0.151185  0.164966  0.132050\n",
              "year     0.120246  0.107635  0.126971\n",
              "revs     0.000000  0.002170  0.120833\n",
              "profit   0.003562  0.008894  0.113750\n",
              "qtr      0.000729  0.005186  0.100368\n",
              "billion  0.120807  0.122389  0.078480\n",
              "share    0.040615  0.043122  0.071265"
            ]
          },
          "metadata": {},
          "execution_count": 92
        }
      ]
    },
    {
      "cell_type": "markdown",
      "metadata": {
        "id": "lrN4ZAG8tbUQ"
      },
      "source": [
        "## Create TF-IDF with bi-grams"
      ]
    },
    {
      "cell_type": "code",
      "metadata": {
        "colab": {
          "base_uri": "https://localhost:8080/",
          "height": 519
        },
        "id": "psOg6eVwtfgl",
        "outputId": "a5d22d0a-2da9-44d8-dbb8-2d67aae628bc"
      },
      "source": [
        "vectorizer = TfidfVectorizer(ngram_range=(1,2))\n",
        "\n",
        "X_corpus = vectorizer.fit_transform(corpus)\n",
        "X_corpus = X_corpus.T.todense()\n",
        "feature_names = vectorizer.get_feature_names_out()\n",
        "df_corpus = pd.DataFrame(X_corpus, index=feature_names, columns=[\"other\", \"blank\", \"earn\"])\n",
        "df_corpus = df_corpus.sort_values(by=\"other\", ascending=False)\n",
        "df_corpus.iloc[0:15]"
      ],
      "execution_count": null,
      "outputs": [
        {
          "output_type": "execute_result",
          "data": {
            "text/html": [
              "<div>\n",
              "<style scoped>\n",
              "    .dataframe tbody tr th:only-of-type {\n",
              "        vertical-align: middle;\n",
              "    }\n",
              "\n",
              "    .dataframe tbody tr th {\n",
              "        vertical-align: top;\n",
              "    }\n",
              "\n",
              "    .dataframe thead th {\n",
              "        text-align: right;\n",
              "    }\n",
              "</style>\n",
              "<table border=\"1\" class=\"dataframe\">\n",
              "  <thead>\n",
              "    <tr style=\"text-align: right;\">\n",
              "      <th></th>\n",
              "      <th>other</th>\n",
              "      <th>blank</th>\n",
              "      <th>earn</th>\n",
              "    </tr>\n",
              "  </thead>\n",
              "  <tbody>\n",
              "    <tr>\n",
              "      <th>said</th>\n",
              "      <td>0.676093</td>\n",
              "      <td>0.676250</td>\n",
              "      <td>0.136195</td>\n",
              "    </tr>\n",
              "    <tr>\n",
              "      <th>pct</th>\n",
              "      <td>0.258112</td>\n",
              "      <td>0.206690</td>\n",
              "      <td>0.047805</td>\n",
              "    </tr>\n",
              "    <tr>\n",
              "      <th>mln</th>\n",
              "      <td>0.213260</td>\n",
              "      <td>0.204223</td>\n",
              "      <td>0.428597</td>\n",
              "    </tr>\n",
              "    <tr>\n",
              "      <th>dlrs</th>\n",
              "      <td>0.190848</td>\n",
              "      <td>0.226705</td>\n",
              "      <td>0.227316</td>\n",
              "    </tr>\n",
              "    <tr>\n",
              "      <th>march</th>\n",
              "      <td>0.148953</td>\n",
              "      <td>0.161802</td>\n",
              "      <td>0.122542</td>\n",
              "    </tr>\n",
              "    <tr>\n",
              "      <th>would</th>\n",
              "      <td>0.133837</td>\n",
              "      <td>0.108317</td>\n",
              "      <td>0.015673</td>\n",
              "    </tr>\n",
              "    <tr>\n",
              "      <th>billion</th>\n",
              "      <td>0.119024</td>\n",
              "      <td>0.120041</td>\n",
              "      <td>0.072829</td>\n",
              "    </tr>\n",
              "    <tr>\n",
              "      <th>year</th>\n",
              "      <td>0.118472</td>\n",
              "      <td>0.105570</td>\n",
              "      <td>0.117829</td>\n",
              "    </tr>\n",
              "    <tr>\n",
              "      <th>trade</th>\n",
              "      <td>0.097055</td>\n",
              "      <td>0.031791</td>\n",
              "      <td>0.000860</td>\n",
              "    </tr>\n",
              "    <tr>\n",
              "      <th>new</th>\n",
              "      <td>0.093517</td>\n",
              "      <td>0.147890</td>\n",
              "      <td>0.029812</td>\n",
              "    </tr>\n",
              "    <tr>\n",
              "      <th>oil</th>\n",
              "      <td>0.093075</td>\n",
              "      <td>0.017498</td>\n",
              "      <td>0.010586</td>\n",
              "    </tr>\n",
              "    <tr>\n",
              "      <th>bank</th>\n",
              "      <td>0.090892</td>\n",
              "      <td>0.106282</td>\n",
              "      <td>0.019863</td>\n",
              "    </tr>\n",
              "    <tr>\n",
              "      <th>company</th>\n",
              "      <td>0.087990</td>\n",
              "      <td>0.126094</td>\n",
              "      <td>0.063665</td>\n",
              "    </tr>\n",
              "    <tr>\n",
              "      <th>last</th>\n",
              "      <td>0.087244</td>\n",
              "      <td>0.065311</td>\n",
              "      <td>0.016982</td>\n",
              "    </tr>\n",
              "    <tr>\n",
              "      <th>april</th>\n",
              "      <td>0.083734</td>\n",
              "      <td>0.101984</td>\n",
              "      <td>0.064413</td>\n",
              "    </tr>\n",
              "  </tbody>\n",
              "</table>\n",
              "</div>"
            ],
            "text/plain": [
              "            other     blank      earn\n",
              "said     0.676093  0.676250  0.136195\n",
              "pct      0.258112  0.206690  0.047805\n",
              "mln      0.213260  0.204223  0.428597\n",
              "dlrs     0.190848  0.226705  0.227316\n",
              "march    0.148953  0.161802  0.122542\n",
              "would    0.133837  0.108317  0.015673\n",
              "billion  0.119024  0.120041  0.072829\n",
              "year     0.118472  0.105570  0.117829\n",
              "trade    0.097055  0.031791  0.000860\n",
              "new      0.093517  0.147890  0.029812\n",
              "oil      0.093075  0.017498  0.010586\n",
              "bank     0.090892  0.106282  0.019863\n",
              "company  0.087990  0.126094  0.063665\n",
              "last     0.087244  0.065311  0.016982\n",
              "april    0.083734  0.101984  0.064413"
            ]
          },
          "metadata": {},
          "execution_count": 93
        }
      ]
    },
    {
      "cell_type": "code",
      "metadata": {
        "colab": {
          "base_uri": "https://localhost:8080/"
        },
        "id": "5p3ZTqyqti3k",
        "outputId": "077423d8-a86d-47bc-9052-68372b9a92af"
      },
      "source": [
        "top_words_tfidf_earn = df_corpus.index[0:20].values.tolist()\n",
        "top_words_tfidf_earn"
      ],
      "execution_count": null,
      "outputs": [
        {
          "output_type": "execute_result",
          "data": {
            "text/plain": [
              "['said',\n",
              " 'pct',\n",
              " 'mln',\n",
              " 'dlrs',\n",
              " 'march',\n",
              " 'would',\n",
              " 'billion',\n",
              " 'year',\n",
              " 'trade',\n",
              " 'new',\n",
              " 'oil',\n",
              " 'bank',\n",
              " 'company',\n",
              " 'last',\n",
              " 'april',\n",
              " 'market',\n",
              " 'tonnes',\n",
              " 'mln dlrs',\n",
              " 'prices',\n",
              " 'inc']"
            ]
          },
          "metadata": {},
          "execution_count": 94
        }
      ]
    },
    {
      "cell_type": "code",
      "metadata": {
        "colab": {
          "base_uri": "https://localhost:8080/",
          "height": 519
        },
        "id": "jOLTNvwTtnof",
        "outputId": "adc34d5a-1575-4ff2-c68b-93667183de5f"
      },
      "source": [
        "df_corpus.sort_values(by=\"earn\", ascending=False).iloc[0:15]"
      ],
      "execution_count": null,
      "outputs": [
        {
          "output_type": "execute_result",
          "data": {
            "text/html": [
              "<div>\n",
              "<style scoped>\n",
              "    .dataframe tbody tr th:only-of-type {\n",
              "        vertical-align: middle;\n",
              "    }\n",
              "\n",
              "    .dataframe tbody tr th {\n",
              "        vertical-align: top;\n",
              "    }\n",
              "\n",
              "    .dataframe thead th {\n",
              "        text-align: right;\n",
              "    }\n",
              "</style>\n",
              "<table border=\"1\" class=\"dataframe\">\n",
              "  <thead>\n",
              "    <tr style=\"text-align: right;\">\n",
              "      <th></th>\n",
              "      <th>other</th>\n",
              "      <th>blank</th>\n",
              "      <th>earn</th>\n",
              "    </tr>\n",
              "  </thead>\n",
              "  <tbody>\n",
              "    <tr>\n",
              "      <th>vs</th>\n",
              "      <td>0.008318</td>\n",
              "      <td>0.016760</td>\n",
              "      <td>0.519381</td>\n",
              "    </tr>\n",
              "    <tr>\n",
              "      <th>mln</th>\n",
              "      <td>0.213260</td>\n",
              "      <td>0.204223</td>\n",
              "      <td>0.428597</td>\n",
              "    </tr>\n",
              "    <tr>\n",
              "      <th>cts</th>\n",
              "      <td>0.011247</td>\n",
              "      <td>0.026068</td>\n",
              "      <td>0.292813</td>\n",
              "    </tr>\n",
              "    <tr>\n",
              "      <th>net</th>\n",
              "      <td>0.011358</td>\n",
              "      <td>0.018973</td>\n",
              "      <td>0.242989</td>\n",
              "    </tr>\n",
              "    <tr>\n",
              "      <th>dlrs</th>\n",
              "      <td>0.190848</td>\n",
              "      <td>0.226705</td>\n",
              "      <td>0.227316</td>\n",
              "    </tr>\n",
              "    <tr>\n",
              "      <th>loss</th>\n",
              "      <td>0.005665</td>\n",
              "      <td>0.013149</td>\n",
              "      <td>0.187852</td>\n",
              "    </tr>\n",
              "    <tr>\n",
              "      <th>shr</th>\n",
              "      <td>0.000055</td>\n",
              "      <td>0.004908</td>\n",
              "      <td>0.148464</td>\n",
              "    </tr>\n",
              "    <tr>\n",
              "      <th>mln vs</th>\n",
              "      <td>0.000138</td>\n",
              "      <td>0.002620</td>\n",
              "      <td>0.143863</td>\n",
              "    </tr>\n",
              "    <tr>\n",
              "      <th>vs mln</th>\n",
              "      <td>0.001962</td>\n",
              "      <td>0.003026</td>\n",
              "      <td>0.142404</td>\n",
              "    </tr>\n",
              "    <tr>\n",
              "      <th>said</th>\n",
              "      <td>0.676093</td>\n",
              "      <td>0.676250</td>\n",
              "      <td>0.136195</td>\n",
              "    </tr>\n",
              "    <tr>\n",
              "      <th>march</th>\n",
              "      <td>0.148953</td>\n",
              "      <td>0.161802</td>\n",
              "      <td>0.122542</td>\n",
              "    </tr>\n",
              "    <tr>\n",
              "      <th>cts vs</th>\n",
              "      <td>0.000055</td>\n",
              "      <td>0.007274</td>\n",
              "      <td>0.121719</td>\n",
              "    </tr>\n",
              "    <tr>\n",
              "      <th>year</th>\n",
              "      <td>0.118472</td>\n",
              "      <td>0.105570</td>\n",
              "      <td>0.117829</td>\n",
              "    </tr>\n",
              "    <tr>\n",
              "      <th>revs</th>\n",
              "      <td>0.000000</td>\n",
              "      <td>0.002129</td>\n",
              "      <td>0.112132</td>\n",
              "    </tr>\n",
              "    <tr>\n",
              "      <th>profit</th>\n",
              "      <td>0.003510</td>\n",
              "      <td>0.008723</td>\n",
              "      <td>0.105559</td>\n",
              "    </tr>\n",
              "  </tbody>\n",
              "</table>\n",
              "</div>"
            ],
            "text/plain": [
              "           other     blank      earn\n",
              "vs      0.008318  0.016760  0.519381\n",
              "mln     0.213260  0.204223  0.428597\n",
              "cts     0.011247  0.026068  0.292813\n",
              "net     0.011358  0.018973  0.242989\n",
              "dlrs    0.190848  0.226705  0.227316\n",
              "loss    0.005665  0.013149  0.187852\n",
              "shr     0.000055  0.004908  0.148464\n",
              "mln vs  0.000138  0.002620  0.143863\n",
              "vs mln  0.001962  0.003026  0.142404\n",
              "said    0.676093  0.676250  0.136195\n",
              "march   0.148953  0.161802  0.122542\n",
              "cts vs  0.000055  0.007274  0.121719\n",
              "year    0.118472  0.105570  0.117829\n",
              "revs    0.000000  0.002129  0.112132\n",
              "profit  0.003510  0.008723  0.105559"
            ]
          },
          "metadata": {},
          "execution_count": 95
        }
      ]
    },
    {
      "cell_type": "markdown",
      "metadata": {
        "id": "-rRlKFLntn8K"
      },
      "source": [
        "Bi-grams may matter as they do occupy some top positions when sorting by \"earn\"\n",
        "\n",
        "Let's try it with tri-grams, sorted by \"earn\""
      ]
    },
    {
      "cell_type": "code",
      "metadata": {
        "colab": {
          "base_uri": "https://localhost:8080/",
          "height": 519
        },
        "id": "OLV3QsEutoFx",
        "outputId": "3e45d381-950d-4ebd-9897-f8d9fa666a2b"
      },
      "source": [
        "vectorizer = TfidfVectorizer(ngram_range=(1,3))\n",
        "\n",
        "X_corpus = vectorizer.fit_transform(corpus)\n",
        "X_corpus = X_corpus.T.todense()\n",
        "feature_names = vectorizer.get_feature_names_out()\n",
        "df_corpus = pd.DataFrame(X_corpus, index=feature_names, columns=[\"other\", \"blank\", \"earn\"])\n",
        "df_corpus = df_corpus.sort_values(by=\"earn\", ascending=False)\n",
        "df_corpus.iloc[0:15]"
      ],
      "execution_count": null,
      "outputs": [
        {
          "output_type": "execute_result",
          "data": {
            "text/html": [
              "<div>\n",
              "<style scoped>\n",
              "    .dataframe tbody tr th:only-of-type {\n",
              "        vertical-align: middle;\n",
              "    }\n",
              "\n",
              "    .dataframe tbody tr th {\n",
              "        vertical-align: top;\n",
              "    }\n",
              "\n",
              "    .dataframe thead th {\n",
              "        text-align: right;\n",
              "    }\n",
              "</style>\n",
              "<table border=\"1\" class=\"dataframe\">\n",
              "  <thead>\n",
              "    <tr style=\"text-align: right;\">\n",
              "      <th></th>\n",
              "      <th>other</th>\n",
              "      <th>blank</th>\n",
              "      <th>earn</th>\n",
              "    </tr>\n",
              "  </thead>\n",
              "  <tbody>\n",
              "    <tr>\n",
              "      <th>vs</th>\n",
              "      <td>0.008301</td>\n",
              "      <td>0.016718</td>\n",
              "      <td>0.504290</td>\n",
              "    </tr>\n",
              "    <tr>\n",
              "      <th>mln</th>\n",
              "      <td>0.212815</td>\n",
              "      <td>0.203707</td>\n",
              "      <td>0.416144</td>\n",
              "    </tr>\n",
              "    <tr>\n",
              "      <th>cts</th>\n",
              "      <td>0.011224</td>\n",
              "      <td>0.026002</td>\n",
              "      <td>0.284305</td>\n",
              "    </tr>\n",
              "    <tr>\n",
              "      <th>net</th>\n",
              "      <td>0.011334</td>\n",
              "      <td>0.018925</td>\n",
              "      <td>0.235928</td>\n",
              "    </tr>\n",
              "    <tr>\n",
              "      <th>dlrs</th>\n",
              "      <td>0.190450</td>\n",
              "      <td>0.226133</td>\n",
              "      <td>0.220711</td>\n",
              "    </tr>\n",
              "    <tr>\n",
              "      <th>loss</th>\n",
              "      <td>0.005653</td>\n",
              "      <td>0.013115</td>\n",
              "      <td>0.182394</td>\n",
              "    </tr>\n",
              "    <tr>\n",
              "      <th>shr</th>\n",
              "      <td>0.000055</td>\n",
              "      <td>0.004896</td>\n",
              "      <td>0.144150</td>\n",
              "    </tr>\n",
              "    <tr>\n",
              "      <th>mln vs</th>\n",
              "      <td>0.000138</td>\n",
              "      <td>0.002613</td>\n",
              "      <td>0.139683</td>\n",
              "    </tr>\n",
              "    <tr>\n",
              "      <th>vs mln</th>\n",
              "      <td>0.001958</td>\n",
              "      <td>0.003019</td>\n",
              "      <td>0.138267</td>\n",
              "    </tr>\n",
              "    <tr>\n",
              "      <th>said</th>\n",
              "      <td>0.674682</td>\n",
              "      <td>0.674542</td>\n",
              "      <td>0.132238</td>\n",
              "    </tr>\n",
              "    <tr>\n",
              "      <th>mln vs mln</th>\n",
              "      <td>0.000138</td>\n",
              "      <td>0.002435</td>\n",
              "      <td>0.120906</td>\n",
              "    </tr>\n",
              "    <tr>\n",
              "      <th>march</th>\n",
              "      <td>0.148642</td>\n",
              "      <td>0.161393</td>\n",
              "      <td>0.118981</td>\n",
              "    </tr>\n",
              "    <tr>\n",
              "      <th>cts vs</th>\n",
              "      <td>0.000055</td>\n",
              "      <td>0.007255</td>\n",
              "      <td>0.118182</td>\n",
              "    </tr>\n",
              "    <tr>\n",
              "      <th>year</th>\n",
              "      <td>0.118225</td>\n",
              "      <td>0.105304</td>\n",
              "      <td>0.114405</td>\n",
              "    </tr>\n",
              "    <tr>\n",
              "      <th>revs</th>\n",
              "      <td>0.000000</td>\n",
              "      <td>0.002123</td>\n",
              "      <td>0.108874</td>\n",
              "    </tr>\n",
              "  </tbody>\n",
              "</table>\n",
              "</div>"
            ],
            "text/plain": [
              "               other     blank      earn\n",
              "vs          0.008301  0.016718  0.504290\n",
              "mln         0.212815  0.203707  0.416144\n",
              "cts         0.011224  0.026002  0.284305\n",
              "net         0.011334  0.018925  0.235928\n",
              "dlrs        0.190450  0.226133  0.220711\n",
              "loss        0.005653  0.013115  0.182394\n",
              "shr         0.000055  0.004896  0.144150\n",
              "mln vs      0.000138  0.002613  0.139683\n",
              "vs mln      0.001958  0.003019  0.138267\n",
              "said        0.674682  0.674542  0.132238\n",
              "mln vs mln  0.000138  0.002435  0.120906\n",
              "march       0.148642  0.161393  0.118981\n",
              "cts vs      0.000055  0.007255  0.118182\n",
              "year        0.118225  0.105304  0.114405\n",
              "revs        0.000000  0.002123  0.108874"
            ]
          },
          "metadata": {},
          "execution_count": 96
        }
      ]
    },
    {
      "cell_type": "markdown",
      "metadata": {
        "id": "MY1pbFNGtoOI"
      },
      "source": [
        "There is one tri-gram in the 12 position"
      ]
    },
    {
      "cell_type": "markdown",
      "metadata": {
        "id": "f6uiWLPDtoVe"
      },
      "source": [
        "## Count Vectorizer"
      ]
    },
    {
      "cell_type": "markdown",
      "metadata": {
        "id": "u3kLOW4vtocJ"
      },
      "source": [
        "Try it with bi-grams"
      ]
    },
    {
      "cell_type": "code",
      "metadata": {
        "colab": {
          "base_uri": "https://localhost:8080/",
          "height": 519
        },
        "id": "4F-fhkLBtohb",
        "outputId": "6539d838-4c0f-49bc-f8f8-e5ff79e4ccfa"
      },
      "source": [
        "vectorizer = CountVectorizer(ngram_range=(1,2))\n",
        "\n",
        "X_corpus = vectorizer.fit_transform(corpus)\n",
        "X_corpus = X_corpus.T.todense()\n",
        "feature_names = vectorizer.get_feature_names_out()\n",
        "df_corpus = pd.DataFrame(X_corpus, index=feature_names, columns=[\"other\", \"blank\", \"earn\"])\n",
        "df_corpus = df_corpus.sort_values(by=\"earn\", ascending=False)\n",
        "df_corpus.iloc[0:15]"
      ],
      "execution_count": null,
      "outputs": [
        {
          "output_type": "execute_result",
          "data": {
            "text/html": [
              "<div>\n",
              "<style scoped>\n",
              "    .dataframe tbody tr th:only-of-type {\n",
              "        vertical-align: middle;\n",
              "    }\n",
              "\n",
              "    .dataframe tbody tr th {\n",
              "        vertical-align: top;\n",
              "    }\n",
              "\n",
              "    .dataframe thead th {\n",
              "        text-align: right;\n",
              "    }\n",
              "</style>\n",
              "<table border=\"1\" class=\"dataframe\">\n",
              "  <thead>\n",
              "    <tr style=\"text-align: right;\">\n",
              "      <th></th>\n",
              "      <th>other</th>\n",
              "      <th>blank</th>\n",
              "      <th>earn</th>\n",
              "    </tr>\n",
              "  </thead>\n",
              "  <tbody>\n",
              "    <tr>\n",
              "      <th>vs</th>\n",
              "      <td>301</td>\n",
              "      <td>659</td>\n",
              "      <td>13885</td>\n",
              "    </tr>\n",
              "    <tr>\n",
              "      <th>mln</th>\n",
              "      <td>7717</td>\n",
              "      <td>8030</td>\n",
              "      <td>11458</td>\n",
              "    </tr>\n",
              "    <tr>\n",
              "      <th>cts</th>\n",
              "      <td>407</td>\n",
              "      <td>1025</td>\n",
              "      <td>7828</td>\n",
              "    </tr>\n",
              "    <tr>\n",
              "      <th>net</th>\n",
              "      <td>411</td>\n",
              "      <td>746</td>\n",
              "      <td>6496</td>\n",
              "    </tr>\n",
              "    <tr>\n",
              "      <th>dlrs</th>\n",
              "      <td>6906</td>\n",
              "      <td>8914</td>\n",
              "      <td>6077</td>\n",
              "    </tr>\n",
              "    <tr>\n",
              "      <th>loss</th>\n",
              "      <td>205</td>\n",
              "      <td>517</td>\n",
              "      <td>5022</td>\n",
              "    </tr>\n",
              "    <tr>\n",
              "      <th>shr</th>\n",
              "      <td>2</td>\n",
              "      <td>193</td>\n",
              "      <td>3969</td>\n",
              "    </tr>\n",
              "    <tr>\n",
              "      <th>mln vs</th>\n",
              "      <td>5</td>\n",
              "      <td>103</td>\n",
              "      <td>3846</td>\n",
              "    </tr>\n",
              "    <tr>\n",
              "      <th>vs mln</th>\n",
              "      <td>71</td>\n",
              "      <td>119</td>\n",
              "      <td>3807</td>\n",
              "    </tr>\n",
              "    <tr>\n",
              "      <th>said</th>\n",
              "      <td>24465</td>\n",
              "      <td>26590</td>\n",
              "      <td>3641</td>\n",
              "    </tr>\n",
              "    <tr>\n",
              "      <th>march</th>\n",
              "      <td>5390</td>\n",
              "      <td>6362</td>\n",
              "      <td>3276</td>\n",
              "    </tr>\n",
              "    <tr>\n",
              "      <th>cts vs</th>\n",
              "      <td>2</td>\n",
              "      <td>286</td>\n",
              "      <td>3254</td>\n",
              "    </tr>\n",
              "    <tr>\n",
              "      <th>year</th>\n",
              "      <td>4287</td>\n",
              "      <td>4151</td>\n",
              "      <td>3150</td>\n",
              "    </tr>\n",
              "    <tr>\n",
              "      <th>profit</th>\n",
              "      <td>127</td>\n",
              "      <td>343</td>\n",
              "      <td>2822</td>\n",
              "    </tr>\n",
              "    <tr>\n",
              "      <th>qtr</th>\n",
              "      <td>26</td>\n",
              "      <td>200</td>\n",
              "      <td>2490</td>\n",
              "    </tr>\n",
              "  </tbody>\n",
              "</table>\n",
              "</div>"
            ],
            "text/plain": [
              "        other  blank   earn\n",
              "vs        301    659  13885\n",
              "mln      7717   8030  11458\n",
              "cts       407   1025   7828\n",
              "net       411    746   6496\n",
              "dlrs     6906   8914   6077\n",
              "loss      205    517   5022\n",
              "shr         2    193   3969\n",
              "mln vs      5    103   3846\n",
              "vs mln     71    119   3807\n",
              "said    24465  26590   3641\n",
              "march    5390   6362   3276\n",
              "cts vs      2    286   3254\n",
              "year     4287   4151   3150\n",
              "profit    127    343   2822\n",
              "qtr        26    200   2490"
            ]
          },
          "metadata": {},
          "execution_count": 97
        }
      ]
    },
    {
      "cell_type": "code",
      "metadata": {
        "colab": {
          "base_uri": "https://localhost:8080/"
        },
        "id": "JYBXRcX7tonY",
        "outputId": "e6f7a984-9855-4fb7-bc2d-7be8fd3d63e9"
      },
      "source": [
        "top_words_cv_earn = df_corpus.index[0:20].values.tolist()\n",
        "top_words_cv_earn"
      ],
      "execution_count": null,
      "outputs": [
        {
          "output_type": "execute_result",
          "data": {
            "text/plain": [
              "['vs',\n",
              " 'mln',\n",
              " 'cts',\n",
              " 'net',\n",
              " 'dlrs',\n",
              " 'loss',\n",
              " 'shr',\n",
              " 'mln vs',\n",
              " 'vs mln',\n",
              " 'said',\n",
              " 'march',\n",
              " 'cts vs',\n",
              " 'year',\n",
              " 'profit',\n",
              " 'qtr',\n",
              " 'revs',\n",
              " 'cts net',\n",
              " 'mln dlrs',\n",
              " 'billion',\n",
              " 'vs cts']"
            ]
          },
          "metadata": {},
          "execution_count": 98
        }
      ]
    },
    {
      "cell_type": "code",
      "metadata": {
        "colab": {
          "base_uri": "https://localhost:8080/"
        },
        "id": "XwrChX2itor1",
        "outputId": "0ef145fc-ac20-441a-d6d4-b4997fd1a97e"
      },
      "source": [
        "top_words_tfidf_earn"
      ],
      "execution_count": null,
      "outputs": [
        {
          "output_type": "execute_result",
          "data": {
            "text/plain": [
              "['said',\n",
              " 'pct',\n",
              " 'mln',\n",
              " 'dlrs',\n",
              " 'march',\n",
              " 'would',\n",
              " 'billion',\n",
              " 'year',\n",
              " 'trade',\n",
              " 'new',\n",
              " 'oil',\n",
              " 'bank',\n",
              " 'company',\n",
              " 'last',\n",
              " 'april',\n",
              " 'market',\n",
              " 'tonnes',\n",
              " 'mln dlrs',\n",
              " 'prices',\n",
              " 'inc']"
            ]
          },
          "metadata": {},
          "execution_count": 99
        }
      ]
    },
    {
      "cell_type": "code",
      "metadata": {
        "colab": {
          "base_uri": "https://localhost:8080/",
          "height": 676
        },
        "id": "jKD8KwQVtowp",
        "outputId": "d6839ea2-5303-4e5d-ff15-b23e89f294e3"
      },
      "source": [
        "top_words_earn = {'tfidf': top_words_tfidf_earn, 'cv': top_words_cv_earn}\n",
        "pd.DataFrame(top_words_earn, columns=['tfidf', 'cv'])"
      ],
      "execution_count": null,
      "outputs": [
        {
          "output_type": "execute_result",
          "data": {
            "text/html": [
              "<div>\n",
              "<style scoped>\n",
              "    .dataframe tbody tr th:only-of-type {\n",
              "        vertical-align: middle;\n",
              "    }\n",
              "\n",
              "    .dataframe tbody tr th {\n",
              "        vertical-align: top;\n",
              "    }\n",
              "\n",
              "    .dataframe thead th {\n",
              "        text-align: right;\n",
              "    }\n",
              "</style>\n",
              "<table border=\"1\" class=\"dataframe\">\n",
              "  <thead>\n",
              "    <tr style=\"text-align: right;\">\n",
              "      <th></th>\n",
              "      <th>tfidf</th>\n",
              "      <th>cv</th>\n",
              "    </tr>\n",
              "  </thead>\n",
              "  <tbody>\n",
              "    <tr>\n",
              "      <th>0</th>\n",
              "      <td>said</td>\n",
              "      <td>vs</td>\n",
              "    </tr>\n",
              "    <tr>\n",
              "      <th>1</th>\n",
              "      <td>pct</td>\n",
              "      <td>mln</td>\n",
              "    </tr>\n",
              "    <tr>\n",
              "      <th>2</th>\n",
              "      <td>mln</td>\n",
              "      <td>cts</td>\n",
              "    </tr>\n",
              "    <tr>\n",
              "      <th>3</th>\n",
              "      <td>dlrs</td>\n",
              "      <td>net</td>\n",
              "    </tr>\n",
              "    <tr>\n",
              "      <th>4</th>\n",
              "      <td>march</td>\n",
              "      <td>dlrs</td>\n",
              "    </tr>\n",
              "    <tr>\n",
              "      <th>5</th>\n",
              "      <td>would</td>\n",
              "      <td>loss</td>\n",
              "    </tr>\n",
              "    <tr>\n",
              "      <th>6</th>\n",
              "      <td>billion</td>\n",
              "      <td>shr</td>\n",
              "    </tr>\n",
              "    <tr>\n",
              "      <th>7</th>\n",
              "      <td>year</td>\n",
              "      <td>mln vs</td>\n",
              "    </tr>\n",
              "    <tr>\n",
              "      <th>8</th>\n",
              "      <td>trade</td>\n",
              "      <td>vs mln</td>\n",
              "    </tr>\n",
              "    <tr>\n",
              "      <th>9</th>\n",
              "      <td>new</td>\n",
              "      <td>said</td>\n",
              "    </tr>\n",
              "    <tr>\n",
              "      <th>10</th>\n",
              "      <td>oil</td>\n",
              "      <td>march</td>\n",
              "    </tr>\n",
              "    <tr>\n",
              "      <th>11</th>\n",
              "      <td>bank</td>\n",
              "      <td>cts vs</td>\n",
              "    </tr>\n",
              "    <tr>\n",
              "      <th>12</th>\n",
              "      <td>company</td>\n",
              "      <td>year</td>\n",
              "    </tr>\n",
              "    <tr>\n",
              "      <th>13</th>\n",
              "      <td>last</td>\n",
              "      <td>profit</td>\n",
              "    </tr>\n",
              "    <tr>\n",
              "      <th>14</th>\n",
              "      <td>april</td>\n",
              "      <td>qtr</td>\n",
              "    </tr>\n",
              "    <tr>\n",
              "      <th>15</th>\n",
              "      <td>market</td>\n",
              "      <td>revs</td>\n",
              "    </tr>\n",
              "    <tr>\n",
              "      <th>16</th>\n",
              "      <td>tonnes</td>\n",
              "      <td>cts net</td>\n",
              "    </tr>\n",
              "    <tr>\n",
              "      <th>17</th>\n",
              "      <td>mln dlrs</td>\n",
              "      <td>mln dlrs</td>\n",
              "    </tr>\n",
              "    <tr>\n",
              "      <th>18</th>\n",
              "      <td>prices</td>\n",
              "      <td>billion</td>\n",
              "    </tr>\n",
              "    <tr>\n",
              "      <th>19</th>\n",
              "      <td>inc</td>\n",
              "      <td>vs cts</td>\n",
              "    </tr>\n",
              "  </tbody>\n",
              "</table>\n",
              "</div>"
            ],
            "text/plain": [
              "       tfidf        cv\n",
              "0       said        vs\n",
              "1        pct       mln\n",
              "2        mln       cts\n",
              "3       dlrs       net\n",
              "4      march      dlrs\n",
              "5      would      loss\n",
              "6    billion       shr\n",
              "7       year    mln vs\n",
              "8      trade    vs mln\n",
              "9        new      said\n",
              "10       oil     march\n",
              "11      bank    cts vs\n",
              "12   company      year\n",
              "13      last    profit\n",
              "14     april       qtr\n",
              "15    market      revs\n",
              "16    tonnes   cts net\n",
              "17  mln dlrs  mln dlrs\n",
              "18    prices   billion\n",
              "19       inc    vs cts"
            ]
          },
          "metadata": {},
          "execution_count": 100
        }
      ]
    },
    {
      "cell_type": "markdown",
      "metadata": {
        "id": "MbVi3dpGto2S"
      },
      "source": [
        "They are somewhat different. I should try both when modeling."
      ]
    },
    {
      "cell_type": "markdown",
      "metadata": {
        "id": "1Amk9fZluf-H"
      },
      "source": [
        "## Lemmatize the words"
      ]
    },
    {
      "cell_type": "code",
      "metadata": {
        "colab": {
          "base_uri": "https://localhost:8080/"
        },
        "id": "PUvWFuXHuipG",
        "outputId": "759c38ea-cb60-4ff7-874f-c27495d8c828"
      },
      "source": [
        "import nltk\n",
        "nltk.download('wordnet')\n",
        "lemm = WordNetLemmatizer()"
      ],
      "execution_count": null,
      "outputs": [
        {
          "output_type": "stream",
          "name": "stdout",
          "text": [
            "[nltk_data] Downloading package wordnet to /root/nltk_data...\n",
            "[nltk_data]   Unzipping corpora/wordnet.zip.\n"
          ]
        }
      ]
    },
    {
      "cell_type": "code",
      "metadata": {
        "id": "t8Ne2Es3ujLX"
      },
      "source": [
        "def make_lemma(list_of_words):\n",
        "    # remove any NaN's\n",
        "    list_of_words = [i for i in list_of_words if i is not np.nan]\n",
        "    \n",
        "    list_to_return = []\n",
        "    for idx, word in enumerate(list_of_words):\n",
        "        list_to_return.append(lemm.lemmatize(word))\n",
        "    return list_to_return"
      ],
      "execution_count": null,
      "outputs": []
    },
    {
      "cell_type": "code",
      "metadata": {
        "id": "lisJtSejujeI"
      },
      "source": [
        "other_lemmatized = concat_words(make_lemma(other_text_processed))\n",
        "blank_lemmatized = concat_words(make_lemma(blank_text_processed))\n",
        "earn_lemmatized = concat_words(make_lemma(earn_text_processed))"
      ],
      "execution_count": null,
      "outputs": []
    },
    {
      "cell_type": "code",
      "metadata": {
        "id": "wIK7t--QujuY"
      },
      "source": [
        "corpus_lemmatized = other_lemmatized + blank_lemmatized + earn_lemmatized"
      ],
      "execution_count": null,
      "outputs": []
    },
    {
      "cell_type": "markdown",
      "metadata": {
        "id": "YeFCZ5Iluj5W"
      },
      "source": [
        "Rerun the first TF-IDF bi-gram and check it against a lemmatized version"
      ]
    },
    {
      "cell_type": "code",
      "metadata": {
        "colab": {
          "base_uri": "https://localhost:8080/",
          "height": 519
        },
        "id": "9EMqUG6tukFM",
        "outputId": "e05f2da6-a95b-4352-cca6-ae7311f39b8a"
      },
      "source": [
        "vectorizer = TfidfVectorizer(ngram_range=(1,2))\n",
        "\n",
        "X_corpus = vectorizer.fit_transform(corpus)\n",
        "X_corpus = X_corpus.T.todense()\n",
        "feature_names = vectorizer.get_feature_names_out()\n",
        "df_corpus = pd.DataFrame(X_corpus, index=feature_names, columns=[\"other\", \"blank\", \"earn\"])\n",
        "df_corpus = df_corpus.sort_values(by=\"other\", ascending=False)\n",
        "df_corpus.iloc[0:15]"
      ],
      "execution_count": null,
      "outputs": [
        {
          "output_type": "execute_result",
          "data": {
            "text/html": [
              "<div>\n",
              "<style scoped>\n",
              "    .dataframe tbody tr th:only-of-type {\n",
              "        vertical-align: middle;\n",
              "    }\n",
              "\n",
              "    .dataframe tbody tr th {\n",
              "        vertical-align: top;\n",
              "    }\n",
              "\n",
              "    .dataframe thead th {\n",
              "        text-align: right;\n",
              "    }\n",
              "</style>\n",
              "<table border=\"1\" class=\"dataframe\">\n",
              "  <thead>\n",
              "    <tr style=\"text-align: right;\">\n",
              "      <th></th>\n",
              "      <th>other</th>\n",
              "      <th>blank</th>\n",
              "      <th>earn</th>\n",
              "    </tr>\n",
              "  </thead>\n",
              "  <tbody>\n",
              "    <tr>\n",
              "      <th>said</th>\n",
              "      <td>0.676093</td>\n",
              "      <td>0.676250</td>\n",
              "      <td>0.136195</td>\n",
              "    </tr>\n",
              "    <tr>\n",
              "      <th>pct</th>\n",
              "      <td>0.258112</td>\n",
              "      <td>0.206690</td>\n",
              "      <td>0.047805</td>\n",
              "    </tr>\n",
              "    <tr>\n",
              "      <th>mln</th>\n",
              "      <td>0.213260</td>\n",
              "      <td>0.204223</td>\n",
              "      <td>0.428597</td>\n",
              "    </tr>\n",
              "    <tr>\n",
              "      <th>dlrs</th>\n",
              "      <td>0.190848</td>\n",
              "      <td>0.226705</td>\n",
              "      <td>0.227316</td>\n",
              "    </tr>\n",
              "    <tr>\n",
              "      <th>march</th>\n",
              "      <td>0.148953</td>\n",
              "      <td>0.161802</td>\n",
              "      <td>0.122542</td>\n",
              "    </tr>\n",
              "    <tr>\n",
              "      <th>would</th>\n",
              "      <td>0.133837</td>\n",
              "      <td>0.108317</td>\n",
              "      <td>0.015673</td>\n",
              "    </tr>\n",
              "    <tr>\n",
              "      <th>billion</th>\n",
              "      <td>0.119024</td>\n",
              "      <td>0.120041</td>\n",
              "      <td>0.072829</td>\n",
              "    </tr>\n",
              "    <tr>\n",
              "      <th>year</th>\n",
              "      <td>0.118472</td>\n",
              "      <td>0.105570</td>\n",
              "      <td>0.117829</td>\n",
              "    </tr>\n",
              "    <tr>\n",
              "      <th>trade</th>\n",
              "      <td>0.097055</td>\n",
              "      <td>0.031791</td>\n",
              "      <td>0.000860</td>\n",
              "    </tr>\n",
              "    <tr>\n",
              "      <th>new</th>\n",
              "      <td>0.093517</td>\n",
              "      <td>0.147890</td>\n",
              "      <td>0.029812</td>\n",
              "    </tr>\n",
              "    <tr>\n",
              "      <th>oil</th>\n",
              "      <td>0.093075</td>\n",
              "      <td>0.017498</td>\n",
              "      <td>0.010586</td>\n",
              "    </tr>\n",
              "    <tr>\n",
              "      <th>bank</th>\n",
              "      <td>0.090892</td>\n",
              "      <td>0.106282</td>\n",
              "      <td>0.019863</td>\n",
              "    </tr>\n",
              "    <tr>\n",
              "      <th>company</th>\n",
              "      <td>0.087990</td>\n",
              "      <td>0.126094</td>\n",
              "      <td>0.063665</td>\n",
              "    </tr>\n",
              "    <tr>\n",
              "      <th>last</th>\n",
              "      <td>0.087244</td>\n",
              "      <td>0.065311</td>\n",
              "      <td>0.016982</td>\n",
              "    </tr>\n",
              "    <tr>\n",
              "      <th>april</th>\n",
              "      <td>0.083734</td>\n",
              "      <td>0.101984</td>\n",
              "      <td>0.064413</td>\n",
              "    </tr>\n",
              "  </tbody>\n",
              "</table>\n",
              "</div>"
            ],
            "text/plain": [
              "            other     blank      earn\n",
              "said     0.676093  0.676250  0.136195\n",
              "pct      0.258112  0.206690  0.047805\n",
              "mln      0.213260  0.204223  0.428597\n",
              "dlrs     0.190848  0.226705  0.227316\n",
              "march    0.148953  0.161802  0.122542\n",
              "would    0.133837  0.108317  0.015673\n",
              "billion  0.119024  0.120041  0.072829\n",
              "year     0.118472  0.105570  0.117829\n",
              "trade    0.097055  0.031791  0.000860\n",
              "new      0.093517  0.147890  0.029812\n",
              "oil      0.093075  0.017498  0.010586\n",
              "bank     0.090892  0.106282  0.019863\n",
              "company  0.087990  0.126094  0.063665\n",
              "last     0.087244  0.065311  0.016982\n",
              "april    0.083734  0.101984  0.064413"
            ]
          },
          "metadata": {},
          "execution_count": 105
        }
      ]
    },
    {
      "cell_type": "code",
      "metadata": {
        "colab": {
          "base_uri": "https://localhost:8080/",
          "height": 519
        },
        "id": "aM3drxl6ukOg",
        "outputId": "86f750f4-cb68-4028-e5b1-e0d03f5fe10a"
      },
      "source": [
        "vectorizer = TfidfVectorizer(ngram_range=(1,2))\n",
        "\n",
        "X_corpus = vectorizer.fit_transform(corpus_lemmatized)\n",
        "X_corpus = X_corpus.T.todense()\n",
        "feature_names = vectorizer.get_feature_names_out()\n",
        "df_corpus_lemmatized = pd.DataFrame(X_corpus, index=feature_names, columns=[\"other\", \"blank\", \"earn\"])\n",
        "df_corpus_lemmatized = df_corpus_lemmatized.sort_values(by=\"other\", ascending=False)\n",
        "df_corpus_lemmatized.iloc[0:15]"
      ],
      "execution_count": null,
      "outputs": [
        {
          "output_type": "execute_result",
          "data": {
            "text/html": [
              "<div>\n",
              "<style scoped>\n",
              "    .dataframe tbody tr th:only-of-type {\n",
              "        vertical-align: middle;\n",
              "    }\n",
              "\n",
              "    .dataframe tbody tr th {\n",
              "        vertical-align: top;\n",
              "    }\n",
              "\n",
              "    .dataframe thead th {\n",
              "        text-align: right;\n",
              "    }\n",
              "</style>\n",
              "<table border=\"1\" class=\"dataframe\">\n",
              "  <thead>\n",
              "    <tr style=\"text-align: right;\">\n",
              "      <th></th>\n",
              "      <th>other</th>\n",
              "      <th>blank</th>\n",
              "      <th>earn</th>\n",
              "    </tr>\n",
              "  </thead>\n",
              "  <tbody>\n",
              "    <tr>\n",
              "      <th>said</th>\n",
              "      <td>0.650819</td>\n",
              "      <td>0.650747</td>\n",
              "      <td>0.163769</td>\n",
              "    </tr>\n",
              "    <tr>\n",
              "      <th>pct</th>\n",
              "      <td>0.248463</td>\n",
              "      <td>0.198944</td>\n",
              "      <td>0.057483</td>\n",
              "    </tr>\n",
              "    <tr>\n",
              "      <th>mln</th>\n",
              "      <td>0.205288</td>\n",
              "      <td>0.196521</td>\n",
              "      <td>0.515369</td>\n",
              "    </tr>\n",
              "    <tr>\n",
              "      <th>dlrs</th>\n",
              "      <td>0.183714</td>\n",
              "      <td>0.218156</td>\n",
              "      <td>0.273337</td>\n",
              "    </tr>\n",
              "    <tr>\n",
              "      <th>march</th>\n",
              "      <td>0.143412</td>\n",
              "      <td>0.155700</td>\n",
              "      <td>0.147351</td>\n",
              "    </tr>\n",
              "    <tr>\n",
              "      <th>year</th>\n",
              "      <td>0.136335</td>\n",
              "      <td>0.135436</td>\n",
              "      <td>0.147756</td>\n",
              "    </tr>\n",
              "    <tr>\n",
              "      <th>would</th>\n",
              "      <td>0.128834</td>\n",
              "      <td>0.104232</td>\n",
              "      <td>0.018846</td>\n",
              "    </tr>\n",
              "    <tr>\n",
              "      <th>price</th>\n",
              "      <td>0.116065</td>\n",
              "      <td>0.054062</td>\n",
              "      <td>0.011470</td>\n",
              "    </tr>\n",
              "    <tr>\n",
              "      <th>billion</th>\n",
              "      <td>0.114894</td>\n",
              "      <td>0.116028</td>\n",
              "      <td>0.087574</td>\n",
              "    </tr>\n",
              "    <tr>\n",
              "      <th>bank</th>\n",
              "      <td>0.113910</td>\n",
              "      <td>0.158049</td>\n",
              "      <td>0.029776</td>\n",
              "    </tr>\n",
              "    <tr>\n",
              "      <th>company</th>\n",
              "      <td>0.108244</td>\n",
              "      <td>0.143438</td>\n",
              "      <td>0.080692</td>\n",
              "    </tr>\n",
              "    <tr>\n",
              "      <th>market</th>\n",
              "      <td>0.100423</td>\n",
              "      <td>0.094883</td>\n",
              "      <td>0.010975</td>\n",
              "    </tr>\n",
              "    <tr>\n",
              "      <th>share</th>\n",
              "      <td>0.097044</td>\n",
              "      <td>0.104036</td>\n",
              "      <td>0.104171</td>\n",
              "    </tr>\n",
              "    <tr>\n",
              "      <th>oil</th>\n",
              "      <td>0.095368</td>\n",
              "      <td>0.017425</td>\n",
              "      <td>0.012729</td>\n",
              "    </tr>\n",
              "    <tr>\n",
              "      <th>trade</th>\n",
              "      <td>0.094384</td>\n",
              "      <td>0.032403</td>\n",
              "      <td>0.001079</td>\n",
              "    </tr>\n",
              "  </tbody>\n",
              "</table>\n",
              "</div>"
            ],
            "text/plain": [
              "            other     blank      earn\n",
              "said     0.650819  0.650747  0.163769\n",
              "pct      0.248463  0.198944  0.057483\n",
              "mln      0.205288  0.196521  0.515369\n",
              "dlrs     0.183714  0.218156  0.273337\n",
              "march    0.143412  0.155700  0.147351\n",
              "year     0.136335  0.135436  0.147756\n",
              "would    0.128834  0.104232  0.018846\n",
              "price    0.116065  0.054062  0.011470\n",
              "billion  0.114894  0.116028  0.087574\n",
              "bank     0.113910  0.158049  0.029776\n",
              "company  0.108244  0.143438  0.080692\n",
              "market   0.100423  0.094883  0.010975\n",
              "share    0.097044  0.104036  0.104171\n",
              "oil      0.095368  0.017425  0.012729\n",
              "trade    0.094384  0.032403  0.001079"
            ]
          },
          "metadata": {},
          "execution_count": 106
        }
      ]
    },
    {
      "cell_type": "markdown",
      "metadata": {
        "id": "DUQ85YIQukcI"
      },
      "source": [
        "Some things look a little different. For example, 'april' appears on first list, 'oil' on second."
      ]
    },
    {
      "cell_type": "code",
      "metadata": {
        "colab": {
          "base_uri": "https://localhost:8080/"
        },
        "id": "CedfeSNGuko8",
        "outputId": "841735ea-8a99-4fac-8f97-6da98d839ea7"
      },
      "source": [
        "len(df_corpus_lemmatized)"
      ],
      "execution_count": null,
      "outputs": [
        {
          "output_type": "execute_result",
          "data": {
            "text/plain": [
              "729037"
            ]
          },
          "metadata": {},
          "execution_count": 107
        }
      ]
    },
    {
      "cell_type": "code",
      "metadata": {
        "colab": {
          "base_uri": "https://localhost:8080/"
        },
        "id": "qSRnDQjQvgUH",
        "outputId": "a9f09aee-cad5-47be-83a5-6ddfb3c90da2"
      },
      "source": [
        "len(df_corpus)"
      ],
      "execution_count": null,
      "outputs": [
        {
          "output_type": "execute_result",
          "data": {
            "text/plain": [
              "773690"
            ]
          },
          "metadata": {},
          "execution_count": 108
        }
      ]
    },
    {
      "cell_type": "code",
      "metadata": {
        "colab": {
          "base_uri": "https://localhost:8080/"
        },
        "id": "FeY8QEn2vko5",
        "outputId": "d161ebd3-cabf-4466-ea07-faad01419f89"
      },
      "source": [
        "len(df_corpus) - len(df_corpus_lemmatized)"
      ],
      "execution_count": null,
      "outputs": [
        {
          "output_type": "execute_result",
          "data": {
            "text/plain": [
              "44653"
            ]
          },
          "metadata": {},
          "execution_count": 109
        }
      ]
    },
    {
      "cell_type": "code",
      "metadata": {
        "colab": {
          "base_uri": "https://localhost:8080/"
        },
        "id": "TBj4KhAOvnVI",
        "outputId": "280f2b89-3ed2-4a9b-9186-a3ff1e318ec4"
      },
      "source": [
        "(len(df_corpus) - len(df_corpus_lemmatized))/len(df_corpus) * 100"
      ],
      "execution_count": null,
      "outputs": [
        {
          "output_type": "execute_result",
          "data": {
            "text/plain": [
              "5.771433002882291"
            ]
          },
          "metadata": {},
          "execution_count": 110
        }
      ]
    },
    {
      "cell_type": "markdown",
      "metadata": {
        "id": "VXiaC8vSvpW1"
      },
      "source": [
        "Lemmatizing the corpus consolidated some words and reduced the length by 5.77%"
      ]
    },
    {
      "cell_type": "markdown",
      "metadata": {
        "id": "oJvK8Ww1vrnA"
      },
      "source": [
        "# Prep data for modeling"
      ]
    },
    {
      "cell_type": "code",
      "metadata": {
        "id": "g6Yb0Q-ov0b9"
      },
      "source": [
        "# importing and reloading for when I don't want to rerun code above\n",
        "\n",
        "import pandas as pd\n",
        "import numpy as np\n",
        "import nltk\n",
        "from nltk.corpus import stopwords\n",
        "from nltk import word_tokenize, FreqDist\n",
        "from nltk.stem.wordnet import WordNetLemmatizer\n",
        "import string\n",
        "import re"
      ],
      "execution_count": null,
      "outputs": []
    },
    {
      "cell_type": "code",
      "metadata": {
        "colab": {
          "base_uri": "https://localhost:8080/"
        },
        "id": "Q19lT84Gv1eo",
        "outputId": "85e70565-5a1f-4cd0-f515-584b30c497dc"
      },
      "source": [
        "from google.colab import drive\n",
        "drive.mount('/gdrive')\n",
        "%cd /gdrive\n",
        "path = '/gdrive/My Drive/Colab Notebooks/interos/data_files/'\n",
        "df = pd.read_csv(path + 'topics_and_text.csv')"
      ],
      "execution_count": null,
      "outputs": [
        {
          "output_type": "stream",
          "name": "stdout",
          "text": [
            "Drive already mounted at /gdrive; to attempt to forcibly remount, call drive.mount(\"/gdrive\", force_remount=True).\n",
            "/gdrive\n"
          ]
        }
      ]
    },
    {
      "cell_type": "code",
      "metadata": {
        "colab": {
          "base_uri": "https://localhost:8080/",
          "height": 206
        },
        "id": "SjHoz0AVv1ya",
        "outputId": "55d5cd97-742e-48cd-b78b-9a5f732d83ef"
      },
      "source": [
        "df.head()"
      ],
      "execution_count": null,
      "outputs": [
        {
          "output_type": "execute_result",
          "data": {
            "text/html": [
              "<div>\n",
              "<style scoped>\n",
              "    .dataframe tbody tr th:only-of-type {\n",
              "        vertical-align: middle;\n",
              "    }\n",
              "\n",
              "    .dataframe tbody tr th {\n",
              "        vertical-align: top;\n",
              "    }\n",
              "\n",
              "    .dataframe thead th {\n",
              "        text-align: right;\n",
              "    }\n",
              "</style>\n",
              "<table border=\"1\" class=\"dataframe\">\n",
              "  <thead>\n",
              "    <tr style=\"text-align: right;\">\n",
              "      <th></th>\n",
              "      <th>topic</th>\n",
              "      <th>text</th>\n",
              "    </tr>\n",
              "  </thead>\n",
              "  <tbody>\n",
              "    <tr>\n",
              "      <th>0</th>\n",
              "      <td>other</td>\n",
              "      <td>BAHIA COCOA REVIEW SALVADOR, Feb 26 - Showers ...</td>\n",
              "    </tr>\n",
              "    <tr>\n",
              "      <th>1</th>\n",
              "      <td>blank</td>\n",
              "      <td>STANDARD OIL &lt;SRD&gt; TO FORM FINANCIAL UNIT CLEV...</td>\n",
              "    </tr>\n",
              "    <tr>\n",
              "      <th>2</th>\n",
              "      <td>blank</td>\n",
              "      <td>TEXAS COMMERCE BANCSHARES &lt;TCB&gt; FILES PLAN HOU...</td>\n",
              "    </tr>\n",
              "    <tr>\n",
              "      <th>3</th>\n",
              "      <td>blank</td>\n",
              "      <td>TALKING POINT/BANKAMERICA &lt;BAC&gt; EQUITY OFFER b...</td>\n",
              "    </tr>\n",
              "    <tr>\n",
              "      <th>4</th>\n",
              "      <td>other</td>\n",
              "      <td>NATIONAL AVERAGE PRICES FOR FARMER-OWNED RESER...</td>\n",
              "    </tr>\n",
              "  </tbody>\n",
              "</table>\n",
              "</div>"
            ],
            "text/plain": [
              "   topic                                               text\n",
              "0  other  BAHIA COCOA REVIEW SALVADOR, Feb 26 - Showers ...\n",
              "1  blank  STANDARD OIL <SRD> TO FORM FINANCIAL UNIT CLEV...\n",
              "2  blank  TEXAS COMMERCE BANCSHARES <TCB> FILES PLAN HOU...\n",
              "3  blank  TALKING POINT/BANKAMERICA <BAC> EQUITY OFFER b...\n",
              "4  other  NATIONAL AVERAGE PRICES FOR FARMER-OWNED RESER..."
            ]
          },
          "metadata": {},
          "execution_count": 113
        }
      ]
    },
    {
      "cell_type": "code",
      "metadata": {
        "colab": {
          "base_uri": "https://localhost:8080/",
          "height": 87
        },
        "id": "zsI1tKuHv16m",
        "outputId": "fd5c2d0c-1fa3-4f3b-a93e-aea553a1d265"
      },
      "source": [
        "df.loc[8].text"
      ],
      "execution_count": null,
      "outputs": [
        {
          "output_type": "execute_result",
          "data": {
            "application/vnd.google.colaboratory.intrinsic+json": {
              "type": "string"
            },
            "text/plain": [
              "'CHAMPION PRODUCTS <CH> APPROVES STOCK SPLIT ROCHESTER, N.Y., Feb 26 - Champion Products Inc said its board of directors approved a two-for-one stock split of its common shares for shareholders of record as of April 1, 1987. The company also said its board voted to recommend to shareholders at the annual meeting April 23 an increase in the authorized capital stock from five mln to 25 mln shares. Reuter'"
            ]
          },
          "metadata": {},
          "execution_count": 114
        }
      ]
    },
    {
      "cell_type": "code",
      "metadata": {
        "colab": {
          "base_uri": "https://localhost:8080/",
          "height": 35
        },
        "id": "E8gtr0YAv2Bi",
        "outputId": "e8beab3a-05ec-4c67-b93b-1604f63c9804"
      },
      "source": [
        "df.loc[1003].topic"
      ],
      "execution_count": null,
      "outputs": [
        {
          "output_type": "execute_result",
          "data": {
            "application/vnd.google.colaboratory.intrinsic+json": {
              "type": "string"
            },
            "text/plain": [
              "'blank'"
            ]
          },
          "metadata": {},
          "execution_count": 115
        }
      ]
    },
    {
      "cell_type": "code",
      "metadata": {
        "colab": {
          "base_uri": "https://localhost:8080/"
        },
        "id": "W24xGlzSv2IB",
        "outputId": "613bce4b-ac04-476e-ccc2-07b0bcfbaf99"
      },
      "source": [
        "len(df)"
      ],
      "execution_count": null,
      "outputs": [
        {
          "output_type": "execute_result",
          "data": {
            "text/plain": [
              "21999"
            ]
          },
          "metadata": {},
          "execution_count": 116
        }
      ]
    },
    {
      "cell_type": "markdown",
      "metadata": {
        "id": "X4rLv0xAwlB-"
      },
      "source": [
        "## Loop through texts to remove stopwords, tokenize and lemmatize"
      ]
    },
    {
      "cell_type": "code",
      "metadata": {
        "id": "F0D-T1Vnv2Nh"
      },
      "source": [
        "stopwords_list = stopwords.words('english') + list(string.punctuation) + ['...']"
      ],
      "execution_count": null,
      "outputs": []
    },
    {
      "cell_type": "markdown",
      "metadata": {
        "id": "Tpt0ibvLw8rA"
      },
      "source": [
        "I think the stock symbols might be important for modeling, so this function will take them out, and I'll stick them at the end of text after tokenizing. If I tokenize the tickers, it will remove '<>'."
      ]
    },
    {
      "cell_type": "code",
      "metadata": {
        "id": "VfGXKA1Ev2SZ"
      },
      "source": [
        "def reserve_tickers(string):\n",
        "    tickers = re.findall(\"\\<\\w+>\", string)\n",
        "    string = re.sub(\"\\<\\w+>\", \"\", string)\n",
        "    \n",
        "    return tickers, string"
      ],
      "execution_count": null,
      "outputs": []
    },
    {
      "cell_type": "code",
      "metadata": {
        "id": "3oYSrzBDv2XH"
      },
      "source": [
        "def process_text(text):\n",
        "    \n",
        "    tickers, text = reserve_tickers(text)\n",
        "    \n",
        "    tokens = nltk.word_tokenize(text)\n",
        "    stopwords_removed = [token.lower() for token in tokens if token.lower() not in stopwords_list]\n",
        "    \n",
        "    # adding line to remove all tokens with numbers and punctuation\n",
        "    stopwords_punc_and_numbers_removed = [word for word in stopwords_removed if word.isalpha()]\n",
        "    \n",
        "    return stopwords_punc_and_numbers_removed + tickers\n",
        "\n",
        "# function to concatenate a list of words into a single, space-separated string (used in function below)\n",
        "def concat_words(list_of_words):\n",
        "\n",
        "    concat_words = ''\n",
        "    for word in list_of_words:\n",
        "        concat_words += word + ' '\n",
        "    return concat_words.strip()\n",
        "\n",
        "# function to lemmatize words and merge each text into a single, space-separated string\n",
        "\n",
        "lemm = WordNetLemmatizer()\n",
        "\n",
        "def make_lemma_and_concat(list_of_words):\n",
        "    # remove any NaN's\n",
        "    list_of_words = [i for i in list_of_words if i is not np.nan]\n",
        "    \n",
        "    # lemmatize each word\n",
        "    lemmatized_list = []\n",
        "    for idx, word in enumerate(list_of_words):\n",
        "        lemmatized_list.append(lemm.lemmatize(word))\n",
        "    \n",
        "    # make the list into a single string \n",
        "    concatenated_string = concat_words(lemmatized_list)\n",
        "    return concatenated_string"
      ],
      "execution_count": null,
      "outputs": []
    },
    {
      "cell_type": "markdown",
      "metadata": {
        "id": "TWHKRqRBxGSO"
      },
      "source": [
        "## Prepare dataframe for modeling"
      ]
    },
    {
      "cell_type": "code",
      "metadata": {
        "colab": {
          "base_uri": "https://localhost:8080/",
          "height": 345
        },
        "id": "cyq18Hazv2b1",
        "outputId": "b0899aa2-8d83-46b5-c508-6fb5227e4e77"
      },
      "source": [
        "for i in range(len(df)):\n",
        "    processed_text = process_text(df['text'].loc[i])\n",
        "    txt = make_lemma_and_concat(processed_text)\n",
        "    df['text'].loc[i] = txt\n",
        "    if i % 3000 == 0:\n",
        "        print(f'Finished line number {i}')\n",
        "df.head()"
      ],
      "execution_count": null,
      "outputs": [
        {
          "output_type": "stream",
          "name": "stdout",
          "text": [
            "Finished line number 0\n",
            "Finished line number 3000\n",
            "Finished line number 6000\n",
            "Finished line number 9000\n",
            "Finished line number 12000\n",
            "Finished line number 15000\n",
            "Finished line number 18000\n",
            "Finished line number 21000\n"
          ]
        },
        {
          "output_type": "execute_result",
          "data": {
            "text/html": [
              "<div>\n",
              "<style scoped>\n",
              "    .dataframe tbody tr th:only-of-type {\n",
              "        vertical-align: middle;\n",
              "    }\n",
              "\n",
              "    .dataframe tbody tr th {\n",
              "        vertical-align: top;\n",
              "    }\n",
              "\n",
              "    .dataframe thead th {\n",
              "        text-align: right;\n",
              "    }\n",
              "</style>\n",
              "<table border=\"1\" class=\"dataframe\">\n",
              "  <thead>\n",
              "    <tr style=\"text-align: right;\">\n",
              "      <th></th>\n",
              "      <th>topic</th>\n",
              "      <th>text</th>\n",
              "    </tr>\n",
              "  </thead>\n",
              "  <tbody>\n",
              "    <tr>\n",
              "      <th>0</th>\n",
              "      <td>other</td>\n",
              "      <td>bahia cocoa review salvador feb shower continu...</td>\n",
              "    </tr>\n",
              "    <tr>\n",
              "      <th>1</th>\n",
              "      <td>blank</td>\n",
              "      <td>standard oil form financial unit cleveland feb...</td>\n",
              "    </tr>\n",
              "    <tr>\n",
              "      <th>2</th>\n",
              "      <td>blank</td>\n",
              "      <td>texas commerce bancshares file plan houston fe...</td>\n",
              "    </tr>\n",
              "    <tr>\n",
              "      <th>3</th>\n",
              "      <td>blank</td>\n",
              "      <td>talking equity offer janie gabbett reuters los...</td>\n",
              "    </tr>\n",
              "    <tr>\n",
              "      <th>4</th>\n",
              "      <td>other</td>\n",
              "      <td>national average price reserve washington feb ...</td>\n",
              "    </tr>\n",
              "  </tbody>\n",
              "</table>\n",
              "</div>"
            ],
            "text/plain": [
              "   topic                                               text\n",
              "0  other  bahia cocoa review salvador feb shower continu...\n",
              "1  blank  standard oil form financial unit cleveland feb...\n",
              "2  blank  texas commerce bancshares file plan houston fe...\n",
              "3  blank  talking equity offer janie gabbett reuters los...\n",
              "4  other  national average price reserve washington feb ..."
            ]
          },
          "metadata": {},
          "execution_count": 120
        }
      ]
    },
    {
      "cell_type": "code",
      "metadata": {
        "colab": {
          "base_uri": "https://localhost:8080/",
          "height": 70
        },
        "id": "57sj1jxFv2gW",
        "outputId": "aaf2676c-5396-4e0e-88e0-b941543e15cc"
      },
      "source": [
        "df.iloc[1].text"
      ],
      "execution_count": null,
      "outputs": [
        {
          "output_type": "execute_result",
          "data": {
            "application/vnd.google.colaboratory.intrinsic+json": {
              "type": "string"
            },
            "text/plain": [
              "'standard oil form financial unit cleveland feb standard oil co bp north america inc said plan form venture manage money market borrowing investment activity company bp north america subsidiary british petroleum co plc also owns pct interest standard oil venture called financial trading operated standard oil oversight joint management committee reuter <SRD> <BP>'"
            ]
          },
          "metadata": {},
          "execution_count": 121
        }
      ]
    },
    {
      "cell_type": "code",
      "metadata": {
        "colab": {
          "base_uri": "https://localhost:8080/"
        },
        "id": "tOrBwS_Fv2k7",
        "outputId": "b2377fe2-313f-475f-c5cb-a42bbe7b728f"
      },
      "source": [
        "len(df)"
      ],
      "execution_count": null,
      "outputs": [
        {
          "output_type": "execute_result",
          "data": {
            "text/plain": [
              "21999"
            ]
          },
          "metadata": {},
          "execution_count": 122
        }
      ]
    },
    {
      "cell_type": "markdown",
      "metadata": {
        "id": "8rIXNpahxurp"
      },
      "source": [
        "Save this dataframe\n"
      ]
    },
    {
      "cell_type": "code",
      "metadata": {
        "id": "dqbpNuYQv2pi"
      },
      "source": [
        "df.to_csv(path + 'text_processed.csv', index=False)"
      ],
      "execution_count": null,
      "outputs": []
    },
    {
      "cell_type": "markdown",
      "metadata": {
        "id": "wzr84ahVv2uE"
      },
      "source": [
        "# Baseline modeling"
      ]
    },
    {
      "cell_type": "code",
      "metadata": {
        "id": "iBq7XDB5v2yb"
      },
      "source": [
        "import numpy as np\n",
        "import pandas as pd\n",
        "\n",
        "\n",
        "from sklearn.feature_extraction.text import TfidfVectorizer, CountVectorizer\n",
        "\n",
        "from sklearn.model_selection import train_test_split, GridSearchCV, cross_val_score\n",
        "from sklearn.metrics import classification_report, accuracy_score, confusion_matrix, recall_score, precision_score, f1_score\n",
        "from sklearn.metrics import plot_confusion_matrix\n",
        "from sklearn.metrics import confusion_matrix\n",
        "from sklearn.metrics import ConfusionMatrixDisplay\n",
        "\n",
        "from sklearn.model_selection import train_test_split\n",
        "from sklearn.feature_extraction.text import TfidfVectorizer, CountVectorizer\n",
        "from sklearn.naive_bayes import MultinomialNB\n",
        "from sklearn.ensemble import RandomForestClassifier\n",
        "from sklearn.tree import DecisionTreeClassifier\n",
        "from sklearn.neighbors import KNeighborsClassifier\n",
        "from sklearn.ensemble import GradientBoostingClassifier\n",
        "from xgboost import XGBClassifier\n",
        "from sklearn.pipeline import Pipeline\n",
        "\n",
        "import time\n",
        "import matplotlib.pyplot as plt"
      ],
      "execution_count": null,
      "outputs": []
    },
    {
      "cell_type": "markdown",
      "metadata": {
        "id": "pRe5yH2xzHza"
      },
      "source": [
        "Add functions for scoring models"
      ]
    },
    {
      "cell_type": "code",
      "metadata": {
        "id": "tXEiCMaW5cB6"
      },
      "source": [
        "def scoring(y_real, y_pred, X_data): # change y_test to y_real\n",
        "    # Calculates and prints scores for the model\n",
        "    accuracy = accuracy_score(y_real, y_pred)\n",
        "    precision = precision_score(y_real, y_pred, average='macro')\n",
        "    recall = recall_score(y_real, y_pred, average='macro')\n",
        "    f1 = f1_score(y_real, y_pred, average='macro')\n",
        "\n",
        "    print(\"Accuracy: {:.1%}\".format(accuracy))\n",
        "    print(\"Precision: {:.1%}\".format(precision))\n",
        "    print(\"Recall: {:.1%}\".format(recall))\n",
        "    print(\"F1: {:.1%}\".format(f1))\n",
        "\n",
        "    print('\\n')\n",
        "    print(\"Classification Report\")\n",
        "    print('\\n')\n",
        "    print(classification_report(y_real, y_pred))\n",
        "    cm = confusion_matrix(y_real, y_pred)\n",
        "    disp = ConfusionMatrixDisplay(confusion_matrix=cm)\n",
        "    disp.plot()\n",
        "    plt.show()\n"
      ],
      "execution_count": null,
      "outputs": []
    },
    {
      "cell_type": "code",
      "metadata": {
        "id": "RGLbDIyp2C8a"
      },
      "source": [
        "df = pd.read_csv(path + 'text_processed.csv')"
      ],
      "execution_count": null,
      "outputs": []
    },
    {
      "cell_type": "code",
      "metadata": {
        "colab": {
          "base_uri": "https://localhost:8080/"
        },
        "id": "7i5SYBqw2C_2",
        "outputId": "78efce44-fcfb-478a-c0d8-696a77c7c6e3"
      },
      "source": [
        "df.shape"
      ],
      "execution_count": null,
      "outputs": [
        {
          "output_type": "execute_result",
          "data": {
            "text/plain": [
              "(21999, 2)"
            ]
          },
          "metadata": {},
          "execution_count": 127
        }
      ]
    },
    {
      "cell_type": "markdown",
      "metadata": {
        "id": "Hl1cFUtB2DFo"
      },
      "source": [
        "## Change topic names to integers"
      ]
    },
    {
      "cell_type": "code",
      "metadata": {
        "colab": {
          "base_uri": "https://localhost:8080/"
        },
        "id": "Uk1iV--o2DcQ",
        "outputId": "353493f9-20c2-41fc-c06a-4c9e340b2b32"
      },
      "source": [
        "df.topic.unique()"
      ],
      "execution_count": null,
      "outputs": [
        {
          "output_type": "execute_result",
          "data": {
            "text/plain": [
              "array(['other', 'blank', 'earn'], dtype=object)"
            ]
          },
          "metadata": {},
          "execution_count": 128
        }
      ]
    },
    {
      "cell_type": "code",
      "metadata": {
        "colab": {
          "base_uri": "https://localhost:8080/"
        },
        "id": "VATL_pHQ2DgE",
        "outputId": "aa3adb05-529d-4ad8-a606-21526e4505f9"
      },
      "source": [
        "topic_dict = {'earn': 1, 'other': 2, 'blank': 3}\n",
        "df.topic.replace(topic_dict, inplace=True)\n",
        "df.topic.unique()"
      ],
      "execution_count": null,
      "outputs": [
        {
          "output_type": "execute_result",
          "data": {
            "text/plain": [
              "array([2, 3, 1])"
            ]
          },
          "metadata": {},
          "execution_count": 129
        }
      ]
    },
    {
      "cell_type": "code",
      "metadata": {
        "colab": {
          "base_uri": "https://localhost:8080/"
        },
        "id": "knNPQleu2DkP",
        "outputId": "497eb084-a95c-4f84-b9e9-eb328f8956fb"
      },
      "source": [
        "print(f\"Topic 1: {round((sum(df.topic == 1)/len(df.topic)) *100, 2)}%\")\n",
        "print(f\"Topic 2: {round((sum(df.topic == 2)/len(df.topic)) *100, 2)}%\")\n",
        "print(f\"Topic 3: {round((sum(df.topic == 3)/len(df.topic)) *100, 2)}%\")"
      ],
      "execution_count": null,
      "outputs": [
        {
          "output_type": "stream",
          "name": "stdout",
          "text": [
            "Topic 1: 18.31%\n",
            "Topic 2: 34.19%\n",
            "Topic 3: 47.5%\n"
          ]
        }
      ]
    },
    {
      "cell_type": "markdown",
      "metadata": {
        "id": "qyIgUOFQ2Dog"
      },
      "source": [
        "## Train-Test Split"
      ]
    },
    {
      "cell_type": "code",
      "metadata": {
        "id": "s6xKhJJC2Dq_"
      },
      "source": [
        "X = df.drop(['topic'], axis=1)\n",
        "y = df['topic']\n",
        "\n",
        "X_train, X_test, y_train, y_test = train_test_split(X['text'], y, test_size=0.20, random_state=200)"
      ],
      "execution_count": null,
      "outputs": []
    },
    {
      "cell_type": "code",
      "metadata": {
        "colab": {
          "base_uri": "https://localhost:8080/"
        },
        "id": "SdAygxRJ2Dv1",
        "outputId": "a30899b1-2938-4bea-9a5d-f5b954835d47"
      },
      "source": [
        "X_train"
      ],
      "execution_count": null,
      "outputs": [
        {
          "output_type": "execute_result",
          "data": {
            "text/plain": [
              "6545     morgan guaranty offer australian dollar issue ...\n",
              "13851    grain reserve holding usda washington april ag...\n",
              "18917    bic corp raise quarterly milford june qtly div...\n",
              "21937    house say reagan concerned stock drop convince...\n",
              "19340    syria seeking white sugar next month trade lon...\n",
              "                               ...                        \n",
              "9036     weekly electric output pct washington march po...\n",
              "14007    coffee export quota october seems unlikely ico...\n",
              "784      anchor glass cleared listed nyse tampa march a...\n",
              "12905    national intergroup unit file offer pittsburgh...\n",
              "1818     siemens ag unit begin making system boca raton...\n",
              "Name: text, Length: 17599, dtype: object"
            ]
          },
          "metadata": {},
          "execution_count": 132
        }
      ]
    },
    {
      "cell_type": "code",
      "metadata": {
        "colab": {
          "base_uri": "https://localhost:8080/"
        },
        "id": "eDWxIkHF2Dyb",
        "outputId": "eab0d832-77c7-4392-b174-c5b7e2ad235d"
      },
      "source": [
        "y_train"
      ],
      "execution_count": null,
      "outputs": [
        {
          "output_type": "execute_result",
          "data": {
            "text/plain": [
              "6545     3\n",
              "13851    2\n",
              "18917    3\n",
              "21937    3\n",
              "19340    2\n",
              "        ..\n",
              "9036     3\n",
              "14007    2\n",
              "784      3\n",
              "12905    3\n",
              "1818     3\n",
              "Name: topic, Length: 17599, dtype: int64"
            ]
          },
          "metadata": {},
          "execution_count": 133
        }
      ]
    },
    {
      "cell_type": "code",
      "metadata": {
        "colab": {
          "base_uri": "https://localhost:8080/"
        },
        "id": "T630aeNe2EED",
        "outputId": "17b5319c-52f3-4473-edba-52a9c04d8b5a"
      },
      "source": [
        "print(X_test.shape)\n",
        "X_train.shape"
      ],
      "execution_count": null,
      "outputs": [
        {
          "output_type": "stream",
          "name": "stdout",
          "text": [
            "(4400,)\n"
          ]
        },
        {
          "output_type": "execute_result",
          "data": {
            "text/plain": [
              "(17599,)"
            ]
          },
          "metadata": {},
          "execution_count": 134
        }
      ]
    },
    {
      "cell_type": "markdown",
      "metadata": {
        "id": "UnWHRCl42EIw"
      },
      "source": [
        "## TF-IDF"
      ]
    },
    {
      "cell_type": "markdown",
      "metadata": {
        "id": "P1qst3s72ENt"
      },
      "source": [
        "### Instatiate training set"
      ]
    },
    {
      "cell_type": "code",
      "metadata": {
        "id": "fp9pixk02EQU"
      },
      "source": [
        "vectorizer = TfidfVectorizer(ngram_range=(1,2))\n",
        "vect_X_train = vectorizer.fit_transform(X_train)\n",
        "feature_names =  vectorizer.get_feature_names_out()"
      ],
      "execution_count": null,
      "outputs": []
    },
    {
      "cell_type": "code",
      "metadata": {
        "colab": {
          "base_uri": "https://localhost:8080/"
        },
        "id": "DCLYi4y42EVj",
        "outputId": "0e59e75c-89c9-4e63-b4a3-d67aa92536be"
      },
      "source": [
        "len(feature_names)"
      ],
      "execution_count": null,
      "outputs": [
        {
          "output_type": "execute_result",
          "data": {
            "text/plain": [
              "599730"
            ]
          },
          "metadata": {},
          "execution_count": 136
        }
      ]
    },
    {
      "cell_type": "code",
      "metadata": {
        "colab": {
          "base_uri": "https://localhost:8080/"
        },
        "id": "0lUZcbPU2EYH",
        "outputId": "6bdbfeb9-feaf-4ade-8246-e7affcc68cac"
      },
      "source": [
        "vect_X_train.shape"
      ],
      "execution_count": null,
      "outputs": [
        {
          "output_type": "execute_result",
          "data": {
            "text/plain": [
              "(17599, 599730)"
            ]
          },
          "metadata": {},
          "execution_count": 137
        }
      ]
    },
    {
      "cell_type": "markdown",
      "metadata": {
        "id": "rvQ9I8Zh2Eag"
      },
      "source": [
        "Use `fit_transform()` on training data and `transform()` on test data. The model has already been fit on the training data, so you don't want to fit it again."
      ]
    },
    {
      "cell_type": "code",
      "metadata": {
        "id": "_bBGk7Zg2Edf"
      },
      "source": [
        "vect_X_test = vectorizer.transform(X_test)"
      ],
      "execution_count": null,
      "outputs": []
    },
    {
      "cell_type": "markdown",
      "metadata": {
        "id": "Oah0dHOC2Eku"
      },
      "source": [
        "## Create models"
      ]
    },
    {
      "cell_type": "markdown",
      "metadata": {
        "id": "axoJhbcf3nkO"
      },
      "source": [
        "### Naive Bayes\n"
      ]
    },
    {
      "cell_type": "markdown",
      "metadata": {
        "id": "nqBMTKtT3nuW"
      },
      "source": [
        "Instantiate new model instance. Fit the model to all the training data.\n"
      ]
    },
    {
      "cell_type": "code",
      "metadata": {
        "colab": {
          "base_uri": "https://localhost:8080/"
        },
        "id": "L1I2R0LX3nyu",
        "outputId": "3787824a-c515-4f5b-829f-8458498fc4bf"
      },
      "source": [
        "cls = MultinomialNB()\n",
        "cls.fit(vect_X_train, y_train)"
      ],
      "execution_count": null,
      "outputs": [
        {
          "output_type": "execute_result",
          "data": {
            "text/plain": [
              "MultinomialNB()"
            ]
          },
          "metadata": {},
          "execution_count": 139
        }
      ]
    },
    {
      "cell_type": "markdown",
      "metadata": {
        "id": "6cLgQpzD3n21"
      },
      "source": [
        "Now that the model has been trained on the vectorized training data, see how it will predict classes from that test data."
      ]
    },
    {
      "cell_type": "code",
      "metadata": {
        "id": "09a3gMfV3n6J"
      },
      "source": [
        "y_pred = cls.predict(vect_X_train)"
      ],
      "execution_count": null,
      "outputs": []
    },
    {
      "cell_type": "code",
      "metadata": {
        "colab": {
          "base_uri": "https://localhost:8080/"
        },
        "id": "5jh9zttg3n91",
        "outputId": "712ef25f-249f-45f3-9e88-7a330c5d9dc1"
      },
      "source": [
        "np.unique(y_pred)"
      ],
      "execution_count": null,
      "outputs": [
        {
          "output_type": "execute_result",
          "data": {
            "text/plain": [
              "array([1, 2, 3])"
            ]
          },
          "metadata": {},
          "execution_count": 141
        }
      ]
    },
    {
      "cell_type": "markdown",
      "metadata": {
        "id": "YoSg8lFY3oBV"
      },
      "source": [
        "Compare how accurate the real test data is to what the model predicted"
      ]
    },
    {
      "cell_type": "code",
      "metadata": {
        "colab": {
          "base_uri": "https://localhost:8080/",
          "height": 35
        },
        "id": "N6H07WQk3oE0",
        "outputId": "7e64bff1-e9ac-43a6-80d1-28fd1ff5d2b7"
      },
      "source": [
        "f'The accuracy score is: {round(accuracy_score(y_train, y_pred)*100, 2)}%'"
      ],
      "execution_count": null,
      "outputs": [
        {
          "output_type": "execute_result",
          "data": {
            "application/vnd.google.colaboratory.intrinsic+json": {
              "type": "string"
            },
            "text/plain": [
              "'The accuracy score is: 89.33%'"
            ]
          },
          "metadata": {},
          "execution_count": 142
        }
      ]
    },
    {
      "cell_type": "code",
      "metadata": {
        "colab": {
          "base_uri": "https://localhost:8080/",
          "height": 611
        },
        "id": "YmFKEeel3oIH",
        "outputId": "4dc27f97-325c-4ad2-d917-c0429e27c20f"
      },
      "source": [
        "scoring(y_train, y_pred, vect_X_train)"
      ],
      "execution_count": null,
      "outputs": [
        {
          "output_type": "stream",
          "name": "stdout",
          "text": [
            "Accuracy: 89.3%\n",
            "Precision: 91.8%\n",
            "Recall: 86.6%\n",
            "F1: 88.7%\n",
            "\n",
            "\n",
            "Classification Report\n",
            "\n",
            "\n",
            "              precision    recall  f1-score   support\n",
            "\n",
            "           1       0.95      0.78      0.86      3246\n",
            "           2       0.97      0.85      0.91      5994\n",
            "           3       0.84      0.97      0.90      8359\n",
            "\n",
            "    accuracy                           0.89     17599\n",
            "   macro avg       0.92      0.87      0.89     17599\n",
            "weighted avg       0.90      0.89      0.89     17599\n",
            "\n"
          ]
        },
        {
          "output_type": "display_data",
          "data": {
            "image/png": "[encoded data removed]",
            "text/plain": [
              "<Figure size 432x288 with 2 Axes>"
            ]
          },
          "metadata": {
            "needs_background": "light"
          }
        }
      ]
    },
    {
      "cell_type": "markdown",
      "metadata": {
        "id": "zcv_FoTb3oLj"
      },
      "source": [
        "Pretty good!"
      ]
    },
    {
      "cell_type": "markdown",
      "metadata": {
        "id": "_UAYK6jl3oPF"
      },
      "source": [
        "Try it when merging 'blank' and 'other' into one topic "
      ]
    },
    {
      "cell_type": "code",
      "metadata": {
        "id": "1tgt9i8-3oSd"
      },
      "source": [
        "df2 = pd.read_csv(path + 'text_processed.csv')\n",
        "topic_dict = {'earn': 1, 'other': 2, 'blank': 2}\n",
        "df2.topic.replace(topic_dict, inplace=True)"
      ],
      "execution_count": null,
      "outputs": []
    },
    {
      "cell_type": "code",
      "metadata": {
        "colab": {
          "base_uri": "https://localhost:8080/",
          "height": 363
        },
        "id": "KfDj6lv53oV8",
        "outputId": "87e78096-e66a-4889-89f7-00da56405114"
      },
      "source": [
        "df2.head(10)"
      ],
      "execution_count": null,
      "outputs": [
        {
          "output_type": "execute_result",
          "data": {
            "text/html": [
              "<div>\n",
              "<style scoped>\n",
              "    .dataframe tbody tr th:only-of-type {\n",
              "        vertical-align: middle;\n",
              "    }\n",
              "\n",
              "    .dataframe tbody tr th {\n",
              "        vertical-align: top;\n",
              "    }\n",
              "\n",
              "    .dataframe thead th {\n",
              "        text-align: right;\n",
              "    }\n",
              "</style>\n",
              "<table border=\"1\" class=\"dataframe\">\n",
              "  <thead>\n",
              "    <tr style=\"text-align: right;\">\n",
              "      <th></th>\n",
              "      <th>topic</th>\n",
              "      <th>text</th>\n",
              "    </tr>\n",
              "  </thead>\n",
              "  <tbody>\n",
              "    <tr>\n",
              "      <th>0</th>\n",
              "      <td>2</td>\n",
              "      <td>bahia cocoa review salvador feb shower continu...</td>\n",
              "    </tr>\n",
              "    <tr>\n",
              "      <th>1</th>\n",
              "      <td>2</td>\n",
              "      <td>standard oil form financial unit cleveland feb...</td>\n",
              "    </tr>\n",
              "    <tr>\n",
              "      <th>2</th>\n",
              "      <td>2</td>\n",
              "      <td>texas commerce bancshares file plan houston fe...</td>\n",
              "    </tr>\n",
              "    <tr>\n",
              "      <th>3</th>\n",
              "      <td>2</td>\n",
              "      <td>talking equity offer janie gabbett reuters los...</td>\n",
              "    </tr>\n",
              "    <tr>\n",
              "      <th>4</th>\n",
              "      <td>2</td>\n",
              "      <td>national average price reserve washington feb ...</td>\n",
              "    </tr>\n",
              "    <tr>\n",
              "      <th>5</th>\n",
              "      <td>2</td>\n",
              "      <td>argentine registration buenos aire feb argenti...</td>\n",
              "    </tr>\n",
              "    <tr>\n",
              "      <th>6</th>\n",
              "      <td>2</td>\n",
              "      <td>red lion inn file plan offering portland feb r...</td>\n",
              "    </tr>\n",
              "    <tr>\n",
              "      <th>7</th>\n",
              "      <td>2</td>\n",
              "      <td>usx debt dowgraded moody new york feb moody in...</td>\n",
              "    </tr>\n",
              "    <tr>\n",
              "      <th>8</th>\n",
              "      <td>1</td>\n",
              "      <td>champion product approves stock split rocheste...</td>\n",
              "    </tr>\n",
              "    <tr>\n",
              "      <th>9</th>\n",
              "      <td>2</td>\n",
              "      <td>computer terminal system completes sale commac...</td>\n",
              "    </tr>\n",
              "  </tbody>\n",
              "</table>\n",
              "</div>"
            ],
            "text/plain": [
              "   topic                                               text\n",
              "0      2  bahia cocoa review salvador feb shower continu...\n",
              "1      2  standard oil form financial unit cleveland feb...\n",
              "2      2  texas commerce bancshares file plan houston fe...\n",
              "3      2  talking equity offer janie gabbett reuters los...\n",
              "4      2  national average price reserve washington feb ...\n",
              "5      2  argentine registration buenos aire feb argenti...\n",
              "6      2  red lion inn file plan offering portland feb r...\n",
              "7      2  usx debt dowgraded moody new york feb moody in...\n",
              "8      1  champion product approves stock split rocheste...\n",
              "9      2  computer terminal system completes sale commac..."
            ]
          },
          "metadata": {},
          "execution_count": 145
        }
      ]
    },
    {
      "cell_type": "code",
      "metadata": {
        "colab": {
          "base_uri": "https://localhost:8080/"
        },
        "id": "b5dp2Iyg3oZk",
        "outputId": "a1ce6357-d27d-463c-9320-8e07b29adedd"
      },
      "source": [
        "print(f\"Topic 1: {round((sum(df2.topic == 1)/len(df2.topic)) *100, 2)}%\")\n",
        "print(f\"Topic 2: {round((sum(df2.topic == 2)/len(df2.topic)) *100, 2)}%\")"
      ],
      "execution_count": null,
      "outputs": [
        {
          "output_type": "stream",
          "name": "stdout",
          "text": [
            "Topic 1: 18.31%\n",
            "Topic 2: 81.69%\n"
          ]
        }
      ]
    },
    {
      "cell_type": "code",
      "metadata": {
        "id": "xKFGTSmb3odP"
      },
      "source": [
        "X2 = df2.drop(['topic'], axis=1)\n",
        "y2 = df2['topic']\n",
        "\n",
        "X2_train, X2_test, y2_train, y2_test = train_test_split(X2['text'], y2, test_size=0.20, random_state=200)"
      ],
      "execution_count": null,
      "outputs": []
    },
    {
      "cell_type": "code",
      "metadata": {
        "id": "4n75GQ9p3okC"
      },
      "source": [
        "vect_X2_train = vectorizer.fit_transform(X2_train)\n",
        "vect_X2_test = vectorizer.transform(X2_test)"
      ],
      "execution_count": null,
      "outputs": []
    },
    {
      "cell_type": "code",
      "metadata": {
        "id": "y91DPDsq3onc"
      },
      "source": [
        "cls2 = MultinomialNB()\n",
        "cls2.fit(vect_X2_train, y2_train)\n",
        "y2_pred = cls2.predict(vect_X2_train)"
      ],
      "execution_count": null,
      "outputs": []
    },
    {
      "cell_type": "code",
      "metadata": {
        "colab": {
          "base_uri": "https://localhost:8080/",
          "height": 591
        },
        "id": "0fW5hckR3oqu",
        "outputId": "b0f92517-e517-448c-919b-ea75d2d9ebc9"
      },
      "source": [
        "scoring(y2_train, y2_pred, vect_X2_train)"
      ],
      "execution_count": null,
      "outputs": [
        {
          "output_type": "stream",
          "name": "stdout",
          "text": [
            "Accuracy: 94.4%\n",
            "Precision: 95.3%\n",
            "Recall: 85.7%\n",
            "F1: 89.6%\n",
            "\n",
            "\n",
            "Classification Report\n",
            "\n",
            "\n",
            "              precision    recall  f1-score   support\n",
            "\n",
            "           1       0.96      0.72      0.83      3246\n",
            "           2       0.94      0.99      0.97     14353\n",
            "\n",
            "    accuracy                           0.94     17599\n",
            "   macro avg       0.95      0.86      0.90     17599\n",
            "weighted avg       0.94      0.94      0.94     17599\n",
            "\n"
          ]
        },
        {
          "output_type": "display_data",
          "data": {
            "image/png": "[encoded data removed]",
            "text/plain": [
              "<Figure size 432x288 with 2 Axes>"
            ]
          },
          "metadata": {
            "needs_background": "light"
          }
        }
      ]
    },
    {
      "cell_type": "markdown",
      "metadata": {
        "id": "TKSNJ5F52EnH"
      },
      "source": [
        "\n",
        "Making a df to easily compare how the two models did"
      ]
    },
    {
      "cell_type": "code",
      "metadata": {
        "colab": {
          "base_uri": "https://localhost:8080/",
          "height": 269
        },
        "id": "PgYmBdik2Epc",
        "outputId": "267ecdea-4534-4226-e74c-805bee50ca05"
      },
      "source": [
        "compare = pd.DataFrame(columns=['3_topics', '2_topics'])\n",
        "\n",
        "compare.loc['overall accuracy'] = [89.4, 94.6]\n",
        "compare.loc['overall precision'] = [91.8, 95.5]\n",
        "compare.loc['overall recall'] = [87.0, 86.4]\n",
        "compare.loc['overall F1'] = [88.9, 90.1]\n",
        "compare.loc['earn precision'] = [95, 97]\n",
        "compare.loc['earn recall'] = [79, 73]\n",
        "compare.loc['earn F1'] = [86, 83]\n",
        "compare"
      ],
      "execution_count": null,
      "outputs": [
        {
          "output_type": "execute_result",
          "data": {
            "text/html": [
              "<div>\n",
              "<style scoped>\n",
              "    .dataframe tbody tr th:only-of-type {\n",
              "        vertical-align: middle;\n",
              "    }\n",
              "\n",
              "    .dataframe tbody tr th {\n",
              "        vertical-align: top;\n",
              "    }\n",
              "\n",
              "    .dataframe thead th {\n",
              "        text-align: right;\n",
              "    }\n",
              "</style>\n",
              "<table border=\"1\" class=\"dataframe\">\n",
              "  <thead>\n",
              "    <tr style=\"text-align: right;\">\n",
              "      <th></th>\n",
              "      <th>3_topics</th>\n",
              "      <th>2_topics</th>\n",
              "    </tr>\n",
              "  </thead>\n",
              "  <tbody>\n",
              "    <tr>\n",
              "      <th>overall accuracy</th>\n",
              "      <td>89.4</td>\n",
              "      <td>94.6</td>\n",
              "    </tr>\n",
              "    <tr>\n",
              "      <th>overall precision</th>\n",
              "      <td>91.8</td>\n",
              "      <td>95.5</td>\n",
              "    </tr>\n",
              "    <tr>\n",
              "      <th>overall recall</th>\n",
              "      <td>87.0</td>\n",
              "      <td>86.4</td>\n",
              "    </tr>\n",
              "    <tr>\n",
              "      <th>overall F1</th>\n",
              "      <td>88.9</td>\n",
              "      <td>90.1</td>\n",
              "    </tr>\n",
              "    <tr>\n",
              "      <th>earn precision</th>\n",
              "      <td>95.0</td>\n",
              "      <td>97.0</td>\n",
              "    </tr>\n",
              "    <tr>\n",
              "      <th>earn recall</th>\n",
              "      <td>79.0</td>\n",
              "      <td>73.0</td>\n",
              "    </tr>\n",
              "    <tr>\n",
              "      <th>earn F1</th>\n",
              "      <td>86.0</td>\n",
              "      <td>83.0</td>\n",
              "    </tr>\n",
              "  </tbody>\n",
              "</table>\n",
              "</div>"
            ],
            "text/plain": [
              "                   3_topics  2_topics\n",
              "overall accuracy       89.4      94.6\n",
              "overall precision      91.8      95.5\n",
              "overall recall         87.0      86.4\n",
              "overall F1             88.9      90.1\n",
              "earn precision         95.0      97.0\n",
              "earn recall            79.0      73.0\n",
              "earn F1                86.0      83.0"
            ]
          },
          "metadata": {},
          "execution_count": 151
        }
      ]
    },
    {
      "cell_type": "markdown",
      "metadata": {
        "id": "B33_hsxJ2Er6"
      },
      "source": [
        "The models did pretty similar with some trade offs here and there. Overall accuracy was 5 points better on the model with two topics.\n",
        "\n",
        "The purpose of this task is to predict the articles that can be classified as 'earn'. \n",
        "\n",
        "'Earn' precision preformed 2 points better with two topics, but 'earn' recall performed 6 points worse with two topics. 'Earn' F1 was 3 points better."
      ]
    },
    {
      "cell_type": "markdown",
      "metadata": {
        "id": "Lq_fyX782Eue"
      },
      "source": [
        "#### Check for overfitting\n",
        "Comparing with the one with 3 topics (un-merged)"
      ]
    },
    {
      "cell_type": "code",
      "metadata": {
        "id": "QwXrRkq07nUO"
      },
      "source": [
        "test_y_pred = cls.predict(vect_X_test)"
      ],
      "execution_count": null,
      "outputs": []
    },
    {
      "cell_type": "code",
      "metadata": {
        "colab": {
          "base_uri": "https://localhost:8080/",
          "height": 609
        },
        "id": "zFajYp5A7neV",
        "outputId": "5f2e93cf-78c2-424b-e0bf-e37ec2f48f65"
      },
      "source": [
        "scoring(y_test, test_y_pred, vect_X_test)"
      ],
      "execution_count": null,
      "outputs": [
        {
          "output_type": "stream",
          "name": "stdout",
          "text": [
            "Accuracy: 81.6%\n",
            "Precision: 86.5%\n",
            "Recall: 79.4%\n",
            "F1: 81.7%\n",
            "\n",
            "\n",
            "Classification Report\n",
            "\n",
            "\n",
            "              precision    recall  f1-score   support\n",
            "\n",
            "           1       0.94      0.78      0.85       783\n",
            "           2       0.91      0.67      0.77      1527\n",
            "           3       0.75      0.94      0.83      2090\n",
            "\n",
            "    accuracy                           0.82      4400\n",
            "   macro avg       0.86      0.79      0.82      4400\n",
            "weighted avg       0.84      0.82      0.81      4400\n",
            "\n"
          ]
        },
        {
          "output_type": "display_data",
          "data": {
            "image/png": "[encoded data removed]",
            "text/plain": [
              "<Figure size 432x288 with 2 Axes>"
            ]
          },
          "metadata": {
            "needs_background": "light"
          }
        }
      ]
    },
    {
      "cell_type": "markdown",
      "metadata": {
        "id": "oK6WciK17njr"
      },
      "source": [
        "Overall accuracy is down a little (7 points), but for the category 'earn', indivdual scores are down fewer points, maybe 2 or 3."
      ]
    },
    {
      "cell_type": "markdown",
      "metadata": {
        "id": "x2Cv37JC7nnA"
      },
      "source": [
        "### Random Forest"
      ]
    },
    {
      "cell_type": "code",
      "metadata": {
        "colab": {
          "base_uri": "https://localhost:8080/"
        },
        "id": "nvqQoXgL7nqk",
        "outputId": "2adb5310-07d3-4669-bddb-2c9d8280ff97"
      },
      "source": [
        "rdmfst = RandomForestClassifier(max_depth=20)\n",
        "rdmfst.fit(vect_X_train, y_train)"
      ],
      "execution_count": null,
      "outputs": [
        {
          "output_type": "execute_result",
          "data": {
            "text/plain": [
              "RandomForestClassifier(max_depth=20)"
            ]
          },
          "metadata": {},
          "execution_count": 154
        }
      ]
    },
    {
      "cell_type": "code",
      "metadata": {
        "id": "Np1izZhp7nuA"
      },
      "source": [
        "y_pred = rdmfst.predict(vect_X_train)"
      ],
      "execution_count": null,
      "outputs": []
    },
    {
      "cell_type": "code",
      "metadata": {
        "colab": {
          "base_uri": "https://localhost:8080/",
          "height": 609
        },
        "id": "a2ZK1pru7nx0",
        "outputId": "685a0040-d857-4ff0-8f11-74cf42526cba"
      },
      "source": [
        "scoring(y_train, y_pred, vect_X_train)"
      ],
      "execution_count": null,
      "outputs": [
        {
          "output_type": "stream",
          "name": "stdout",
          "text": [
            "Accuracy: 71.1%\n",
            "Precision: 86.5%\n",
            "Recall: 66.5%\n",
            "F1: 68.8%\n",
            "\n",
            "\n",
            "Classification Report\n",
            "\n",
            "\n",
            "              precision    recall  f1-score   support\n",
            "\n",
            "           1       0.98      0.65      0.78      3246\n",
            "           2       0.99      0.35      0.52      5994\n",
            "           3       0.62      0.99      0.77      8359\n",
            "\n",
            "    accuracy                           0.71     17599\n",
            "   macro avg       0.86      0.66      0.69     17599\n",
            "weighted avg       0.81      0.71      0.68     17599\n",
            "\n"
          ]
        },
        {
          "output_type": "display_data",
          "data": {
            "image/png": "[encoded data removed]",
            "text/plain": [
              "<Figure size 432x288 with 2 Axes>"
            ]
          },
          "metadata": {
            "needs_background": "light"
          }
        }
      ]
    },
    {
      "cell_type": "markdown",
      "metadata": {
        "id": "cJqphl5A7n1w"
      },
      "source": [
        "Overall, a worse model. Won't bother checking for overfitting."
      ]
    },
    {
      "cell_type": "markdown",
      "metadata": {
        "id": "d_ep3s0t7n5Q"
      },
      "source": [
        "### Decision Tree"
      ]
    },
    {
      "cell_type": "code",
      "metadata": {
        "colab": {
          "base_uri": "https://localhost:8080/"
        },
        "id": "szUhS-EG7n9D",
        "outputId": "837c4086-1882-473a-ed17-5545e6d30b03"
      },
      "source": [
        "dtree = DecisionTreeClassifier(max_depth=20)\n",
        "dtree.fit(vect_X_train, y_train)"
      ],
      "execution_count": null,
      "outputs": [
        {
          "output_type": "execute_result",
          "data": {
            "text/plain": [
              "DecisionTreeClassifier(max_depth=20)"
            ]
          },
          "metadata": {},
          "execution_count": 157
        }
      ]
    },
    {
      "cell_type": "code",
      "metadata": {
        "colab": {
          "base_uri": "https://localhost:8080/",
          "height": 35
        },
        "id": "AzoTANob7oAm",
        "outputId": "ee87fa9e-037b-489f-ecf2-e08c3aa544d8"
      },
      "source": [
        "y_pred = dtree.predict(vect_X_train)\n",
        "f'The accuracy score is: {round(accuracy_score(y_train, y_pred)*100, 2)}%'"
      ],
      "execution_count": null,
      "outputs": [
        {
          "output_type": "execute_result",
          "data": {
            "application/vnd.google.colaboratory.intrinsic+json": {
              "type": "string"
            },
            "text/plain": [
              "'The accuracy score is: 87.08%'"
            ]
          },
          "metadata": {},
          "execution_count": 158
        }
      ]
    },
    {
      "cell_type": "code",
      "metadata": {
        "colab": {
          "base_uri": "https://localhost:8080/",
          "height": 613
        },
        "id": "42uy19-h7oCr",
        "outputId": "3e291703-bc3f-4028-afbf-9dc10fbac38e"
      },
      "source": [
        "scoring(y_train, y_pred, vect_X_train)"
      ],
      "execution_count": null,
      "outputs": [
        {
          "output_type": "stream",
          "name": "stdout",
          "text": [
            "Accuracy: 87.1%\n",
            "Precision: 90.8%\n",
            "Recall: 86.7%\n",
            "F1: 88.0%\n",
            "\n",
            "\n",
            "Classification Report\n",
            "\n",
            "\n",
            "              precision    recall  f1-score   support\n",
            "\n",
            "           1       0.98      0.92      0.95      3246\n",
            "           2       0.93      0.72      0.81      5994\n",
            "           3       0.81      0.96      0.88      8359\n",
            "\n",
            "    accuracy                           0.87     17599\n",
            "   macro avg       0.91      0.87      0.88     17599\n",
            "weighted avg       0.88      0.87      0.87     17599\n",
            "\n"
          ]
        },
        {
          "output_type": "display_data",
          "data": {
            "image/png": "[encoded data removed]",
            "text/plain": [
              "<Figure size 432x288 with 2 Axes>"
            ]
          },
          "metadata": {
            "needs_background": "light"
          }
        }
      ]
    },
    {
      "cell_type": "markdown",
      "metadata": {
        "id": "_BXURYi37oGk"
      },
      "source": [
        "Seems pretty good, as good or better than NB"
      ]
    },
    {
      "cell_type": "markdown",
      "metadata": {
        "id": "VucQErmelyyU"
      },
      "source": [
        "#### Check for overfitting"
      ]
    },
    {
      "cell_type": "code",
      "metadata": {
        "colab": {
          "base_uri": "https://localhost:8080/",
          "height": 609
        },
        "id": "ftQ_DT21ly_A",
        "outputId": "af31ee8a-5b05-4c33-f592-b8177a2ecb45"
      },
      "source": [
        "test_y_pred = dtree.predict(vect_X_test)\n",
        "\n",
        "scoring(y_test, test_y_pred, vect_X_test)"
      ],
      "execution_count": null,
      "outputs": [
        {
          "output_type": "stream",
          "name": "stdout",
          "text": [
            "Accuracy: 80.3%\n",
            "Precision: 83.4%\n",
            "Recall: 80.5%\n",
            "F1: 81.4%\n",
            "\n",
            "\n",
            "Classification Report\n",
            "\n",
            "\n",
            "              precision    recall  f1-score   support\n",
            "\n",
            "           1       0.92      0.88      0.90       783\n",
            "           2       0.83      0.64      0.73      1527\n",
            "           3       0.75      0.89      0.82      2090\n",
            "\n",
            "    accuracy                           0.80      4400\n",
            "   macro avg       0.83      0.81      0.81      4400\n",
            "weighted avg       0.81      0.80      0.80      4400\n",
            "\n"
          ]
        },
        {
          "output_type": "display_data",
          "data": {
            "image/png": "[encoded data removed]",
            "text/plain": [
              "<Figure size 432x288 with 2 Axes>"
            ]
          },
          "metadata": {
            "needs_background": "light"
          }
        }
      ]
    },
    {
      "cell_type": "markdown",
      "metadata": {
        "id": "YXsq5DP2lzG-"
      },
      "source": [
        "At a quick glance, seems to have some problem with overfitting, espectially with 'earn' precision, but overall not too bad."
      ]
    },
    {
      "cell_type": "markdown",
      "metadata": {
        "id": "RPLNAbrPlzL3"
      },
      "source": [
        "### KNN"
      ]
    },
    {
      "cell_type": "code",
      "metadata": {
        "colab": {
          "base_uri": "https://localhost:8080/"
        },
        "id": "d8Sip_sHlzPq",
        "outputId": "a27b0825-440e-4d50-a1da-9bb0aaf92023"
      },
      "source": [
        "neigh = KNeighborsClassifier(n_neighbors=5, weights='distance')\n",
        "neigh.fit(vect_X_train, y_train)"
      ],
      "execution_count": null,
      "outputs": [
        {
          "output_type": "execute_result",
          "data": {
            "text/plain": [
              "KNeighborsClassifier(weights='distance')"
            ]
          },
          "metadata": {},
          "execution_count": 161
        }
      ]
    },
    {
      "cell_type": "code",
      "metadata": {
        "colab": {
          "base_uri": "https://localhost:8080/",
          "height": 35
        },
        "id": "oHpdA-aOlzTo",
        "outputId": "ed3be8e7-d8a9-433f-da83-4427227c2f04"
      },
      "source": [
        "y_pred = neigh.predict(vect_X_train)\n",
        "f'The accuracy score is: {round(accuracy_score(y_train, y_pred)*100, 2)}%'"
      ],
      "execution_count": null,
      "outputs": [
        {
          "output_type": "execute_result",
          "data": {
            "application/vnd.google.colaboratory.intrinsic+json": {
              "type": "string"
            },
            "text/plain": [
              "'The accuracy score is: 99.86%'"
            ]
          },
          "metadata": {},
          "execution_count": 162
        }
      ]
    },
    {
      "cell_type": "code",
      "metadata": {
        "colab": {
          "base_uri": "https://localhost:8080/",
          "height": 609
        },
        "id": "idwrb0xFlzXv",
        "outputId": "473c224c-9bd8-4aa1-a13f-38e2d687e653"
      },
      "source": [
        "scoring(y_train, y_pred, vect_X_train)"
      ],
      "execution_count": null,
      "outputs": [
        {
          "output_type": "stream",
          "name": "stdout",
          "text": [
            "Accuracy: 99.9%\n",
            "Precision: 99.8%\n",
            "Recall: 99.9%\n",
            "F1: 99.9%\n",
            "\n",
            "\n",
            "Classification Report\n",
            "\n",
            "\n",
            "              precision    recall  f1-score   support\n",
            "\n",
            "           1       1.00      1.00      1.00      3246\n",
            "           2       1.00      1.00      1.00      5994\n",
            "           3       1.00      1.00      1.00      8359\n",
            "\n",
            "    accuracy                           1.00     17599\n",
            "   macro avg       1.00      1.00      1.00     17599\n",
            "weighted avg       1.00      1.00      1.00     17599\n",
            "\n"
          ]
        },
        {
          "output_type": "display_data",
          "data": {
            "image/png": "[encoded data removed]",
            "text/plain": [
              "<Figure size 432x288 with 2 Axes>"
            ]
          },
          "metadata": {
            "needs_background": "light"
          }
        }
      ]
    },
    {
      "cell_type": "markdown",
      "metadata": {
        "id": "a3IT0Hh_lzb1"
      },
      "source": [
        "Almost perfect!"
      ]
    },
    {
      "cell_type": "markdown",
      "metadata": {
        "id": "z4NJFTWTlzih"
      },
      "source": [
        "#### Check for overfitting"
      ]
    },
    {
      "cell_type": "code",
      "metadata": {
        "colab": {
          "base_uri": "https://localhost:8080/",
          "height": 609
        },
        "id": "FNnpBjxs7oKV",
        "outputId": "45621d2f-4121-4e25-84b3-21b9b610a95c"
      },
      "source": [
        "test_y_pred = neigh.predict(vect_X_test)\n",
        "\n",
        "scoring(y_test, test_y_pred, vect_X_test)"
      ],
      "execution_count": null,
      "outputs": [
        {
          "output_type": "stream",
          "name": "stdout",
          "text": [
            "Accuracy: 83.2%\n",
            "Precision: 83.0%\n",
            "Recall: 84.3%\n",
            "F1: 83.6%\n",
            "\n",
            "\n",
            "Classification Report\n",
            "\n",
            "\n",
            "              precision    recall  f1-score   support\n",
            "\n",
            "           1       0.82      0.91      0.86       783\n",
            "           2       0.83      0.78      0.80      1527\n",
            "           3       0.84      0.84      0.84      2090\n",
            "\n",
            "    accuracy                           0.83      4400\n",
            "   macro avg       0.83      0.84      0.84      4400\n",
            "weighted avg       0.83      0.83      0.83      4400\n",
            "\n"
          ]
        },
        {
          "output_type": "display_data",
          "data": {
            "image/png": "[encoded data removed]",
            "text/plain": [
              "<Figure size 432x288 with 2 Axes>"
            ]
          },
          "metadata": {
            "needs_background": "light"
          }
        }
      ]
    },
    {
      "cell_type": "markdown",
      "metadata": {
        "id": "jOL1UfUT7oN-"
      },
      "source": [
        "Does seem to have an issue with overfitting, 17 point difference with accuracy"
      ]
    },
    {
      "cell_type": "markdown",
      "metadata": {
        "id": "k-9YWQ-o2E2k"
      },
      "source": [
        "### XGBoost"
      ]
    },
    {
      "cell_type": "code",
      "metadata": {
        "id": "lkdv38vimyUp"
      },
      "source": [
        "xgb = XGBClassifier()"
      ],
      "execution_count": null,
      "outputs": []
    },
    {
      "cell_type": "code",
      "metadata": {
        "colab": {
          "base_uri": "https://localhost:8080/"
        },
        "id": "aagah2xmmyaS",
        "outputId": "0d847221-5a6f-4ea7-be4e-59f99d605543"
      },
      "source": [
        "xgb.fit(vect_X_train, y_train)"
      ],
      "execution_count": null,
      "outputs": [
        {
          "output_type": "execute_result",
          "data": {
            "text/plain": [
              "XGBClassifier(objective='multi:softprob')"
            ]
          },
          "metadata": {},
          "execution_count": 166
        }
      ]
    },
    {
      "cell_type": "code",
      "metadata": {
        "colab": {
          "base_uri": "https://localhost:8080/",
          "height": 35
        },
        "id": "eHNAZrnbmyd1",
        "outputId": "aa34aea9-787d-4480-8256-0c388db9d11e"
      },
      "source": [
        "y_pred = xgb.predict(vect_X_train)\n",
        "f'The accuracy score is: {round(accuracy_score(y_train, y_pred)*100, 2)}%'"
      ],
      "execution_count": null,
      "outputs": [
        {
          "output_type": "execute_result",
          "data": {
            "application/vnd.google.colaboratory.intrinsic+json": {
              "type": "string"
            },
            "text/plain": [
              "'The accuracy score is: 84.32%'"
            ]
          },
          "metadata": {},
          "execution_count": 167
        }
      ]
    },
    {
      "cell_type": "code",
      "metadata": {
        "colab": {
          "base_uri": "https://localhost:8080/",
          "height": 609
        },
        "id": "_gg1LqNmmyho",
        "outputId": "6f210746-f950-48e8-a1c5-7c9913c77684"
      },
      "source": [
        "scoring(y_train, y_pred, vect_X_train)"
      ],
      "execution_count": null,
      "outputs": [
        {
          "output_type": "stream",
          "name": "stdout",
          "text": [
            "Accuracy: 84.3%\n",
            "Precision: 87.3%\n",
            "Recall: 84.2%\n",
            "F1: 85.1%\n",
            "\n",
            "\n",
            "Classification Report\n",
            "\n",
            "\n",
            "              precision    recall  f1-score   support\n",
            "\n",
            "           1       0.93      0.90      0.92      3246\n",
            "           2       0.90      0.70      0.79      5994\n",
            "           3       0.79      0.92      0.85      8359\n",
            "\n",
            "    accuracy                           0.84     17599\n",
            "   macro avg       0.87      0.84      0.85     17599\n",
            "weighted avg       0.85      0.84      0.84     17599\n",
            "\n"
          ]
        },
        {
          "output_type": "display_data",
          "data": {
            "image/png": "[encoded data removed]",
            "text/plain": [
              "<Figure size 432x288 with 2 Axes>"
            ]
          },
          "metadata": {
            "needs_background": "light"
          }
        }
      ]
    },
    {
      "cell_type": "markdown",
      "metadata": {
        "id": "C6_ZFjRrmylJ"
      },
      "source": [
        "An OK model, but not as strong as Decision Tree, KNN. Takes a long time to fit."
      ]
    },
    {
      "cell_type": "markdown",
      "metadata": {
        "id": "WRenvBKGmyox"
      },
      "source": [
        "#### Check for overfitting"
      ]
    },
    {
      "cell_type": "code",
      "metadata": {
        "id": "lZMhFmASmyse"
      },
      "source": [
        "test_y_pred = xgb.predict(vect_X_test)"
      ],
      "execution_count": null,
      "outputs": []
    },
    {
      "cell_type": "code",
      "metadata": {
        "colab": {
          "base_uri": "https://localhost:8080/",
          "height": 609
        },
        "id": "Be3pE9famyus",
        "outputId": "b51bc736-ceed-4b00-af00-b4c8ca1b2201"
      },
      "source": [
        "scoring(y_test, test_y_pred, vect_X_test)"
      ],
      "execution_count": null,
      "outputs": [
        {
          "output_type": "stream",
          "name": "stdout",
          "text": [
            "Accuracy: 83.2%\n",
            "Precision: 85.7%\n",
            "Recall: 83.9%\n",
            "F1: 84.3%\n",
            "\n",
            "\n",
            "Classification Report\n",
            "\n",
            "\n",
            "              precision    recall  f1-score   support\n",
            "\n",
            "           1       0.92      0.93      0.93       783\n",
            "           2       0.86      0.69      0.77      1527\n",
            "           3       0.79      0.90      0.84      2090\n",
            "\n",
            "    accuracy                           0.83      4400\n",
            "   macro avg       0.86      0.84      0.84      4400\n",
            "weighted avg       0.84      0.83      0.83      4400\n",
            "\n"
          ]
        },
        {
          "output_type": "display_data",
          "data": {
            "image/png": "[encoded data removed]",
            "text/plain": [
              "<Figure size 432x288 with 2 Axes>"
            ]
          },
          "metadata": {
            "needs_background": "light"
          }
        }
      ]
    },
    {
      "cell_type": "markdown",
      "metadata": {
        "id": "8NgQf6skmyzA"
      },
      "source": [
        "Pretty good on not overfitting"
      ]
    },
    {
      "cell_type": "markdown",
      "metadata": {
        "id": "ZOFsKx_goGyW"
      },
      "source": [
        "## Compare models"
      ]
    },
    {
      "cell_type": "markdown",
      "metadata": {
        "id": "PrvSvsucoHXh"
      },
      "source": [
        "After looking through the models' scores and overfitting issues, I decided that Decision Tree is a high performing model worth refining."
      ]
    },
    {
      "cell_type": "markdown",
      "metadata": {
        "id": "AtKKfyvf2CKi"
      },
      "source": [
        "# Refining Model (Decision Tree)"
      ]
    },
    {
      "cell_type": "markdown",
      "metadata": {
        "id": "xSE8n5HIq7U9"
      },
      "source": [
        "Making new functions to score train and test models side by side for easy comparison."
      ]
    },
    {
      "cell_type": "code",
      "metadata": {
        "id": "toeWzBOTv22l"
      },
      "source": [
        "def run_model(model, X_train, y_train, X_test, y_test, num_categories):\n",
        "    model.fit(X_train, y_train)\n",
        "    train_y_pred = model.predict(X_train)\n",
        "    test_y_pred = model.predict(X_test)\n",
        "    score_train_and_test(y_train, train_y_pred, y_test, test_y_pred)\n",
        "    disp_conf_matrix(y_train, train_y_pred, y_test, test_y_pred, num_categories)"
      ],
      "execution_count": null,
      "outputs": []
    },
    {
      "cell_type": "code",
      "metadata": {
        "id": "sfqMhnFZsD_O"
      },
      "source": [
        "def disp_conf_matrix(y_train, train_y_pred, y_test, test_y_pred, num_categories):\n",
        "    cm_train = confusion_matrix(y_train, train_y_pred, \n",
        "                               labels = [x + 1 for x in range(num_categories)])\n",
        "    cm_test = confusion_matrix(y_test, test_y_pred, \n",
        "                               labels = [x + 1 for x in range(num_categories)])\n",
        "    disp1 = ConfusionMatrixDisplay(confusion_matrix=cm_train)\n",
        "    disp2 = ConfusionMatrixDisplay(confusion_matrix=cm_test)\n",
        "    \n",
        "    # plotting two side by side\n",
        "    fig, axes = plt.subplots(nrows=1, ncols=2, figsize=(15, 5))\n",
        "    axes[0].set_title('Training confusion matrix'.upper(), fontsize = 12)\n",
        "    axes[1].set_title('Testing confusion matrix'.upper(), fontsize = 12)\n",
        "    disp1.plot(ax=axes[0])\n",
        "    disp2.plot(ax=axes[1])\n",
        "\n",
        "def score_train_and_test(y_train, train_y_pred, y_test, test_y_pred):\n",
        "\n",
        "    # Training Scores\n",
        "    training_accuracy = accuracy_score(y_train, train_y_pred)\n",
        "    training_precision = precision_score(y_train, train_y_pred, average='macro')\n",
        "    training_recall = recall_score(y_train, train_y_pred, average='macro')\n",
        "    training_f1 = f1_score(y_train, train_y_pred, average='macro')\n",
        "    \n",
        "    print(\"TRAINING - Classification Report\")\n",
        "    print(\"Accuracy: {:.1%}\".format(training_accuracy))\n",
        "    print(\"Precision: {:.1%}\".format(training_precision))\n",
        "    print(\"Recall: {:.1%}\".format(training_recall))\n",
        "    print(\"F1: {:.1%}\".format(training_f1))\n",
        "    print(classification_report(y_train, train_y_pred))\n",
        "    \n",
        "    # Testing Scores\n",
        "    testing_accuracy = accuracy_score(y_test, test_y_pred)\n",
        "    testing_precision = precision_score(y_test, test_y_pred, average='macro')\n",
        "    testing_recall = recall_score(y_test, test_y_pred, average='macro')\n",
        "    testing_f1 = f1_score(y_test, test_y_pred, average='macro')\n",
        "    \n",
        "    print(\"TESTING - Classification Report\")\n",
        "    print(\"Accuracy: {:.1%}\".format(testing_accuracy))\n",
        "    print(\"Precision: {:.1%}\".format(testing_precision))\n",
        "    print(\"Recall: {:.1%}\".format(testing_recall))\n",
        "    print(\"F1: {:.1%}\".format(testing_f1))\n",
        "    print(classification_report(y_test, test_y_pred))\n"
      ],
      "execution_count": null,
      "outputs": []
    },
    {
      "cell_type": "markdown",
      "metadata": {
        "id": "Yov66Wujv269"
      },
      "source": [
        "It's unclear if 'blank' means no relevant topics or if these articles simply haven't been assigned and are really 'other'. \n",
        "\n",
        "Creating three dataframes to experiment with possibilities."
      ]
    },
    {
      "cell_type": "code",
      "metadata": {
        "id": "-xuPfC7Hv2_O"
      },
      "source": [
        "df = pd.read_csv(path + 'text_processed.csv')\n",
        "\n",
        "df_merged = pd.read_csv(path + 'text_processed.csv')\n",
        "\n",
        "df_no_blank = pd.read_csv(path + 'text_processed.csv') \n",
        "df_no_blank = df_no_blank[df_no_blank.topic != 'blank']"
      ],
      "execution_count": null,
      "outputs": []
    },
    {
      "cell_type": "code",
      "metadata": {
        "colab": {
          "base_uri": "https://localhost:8080/",
          "height": 206
        },
        "id": "8G4DCrUbv3Db",
        "outputId": "d3a65f0a-4c4c-4245-eeb0-90dc5de831df"
      },
      "source": [
        "df.head()"
      ],
      "execution_count": null,
      "outputs": [
        {
          "output_type": "execute_result",
          "data": {
            "text/html": [
              "<div>\n",
              "<style scoped>\n",
              "    .dataframe tbody tr th:only-of-type {\n",
              "        vertical-align: middle;\n",
              "    }\n",
              "\n",
              "    .dataframe tbody tr th {\n",
              "        vertical-align: top;\n",
              "    }\n",
              "\n",
              "    .dataframe thead th {\n",
              "        text-align: right;\n",
              "    }\n",
              "</style>\n",
              "<table border=\"1\" class=\"dataframe\">\n",
              "  <thead>\n",
              "    <tr style=\"text-align: right;\">\n",
              "      <th></th>\n",
              "      <th>topic</th>\n",
              "      <th>text</th>\n",
              "    </tr>\n",
              "  </thead>\n",
              "  <tbody>\n",
              "    <tr>\n",
              "      <th>0</th>\n",
              "      <td>other</td>\n",
              "      <td>bahia cocoa review salvador feb shower continu...</td>\n",
              "    </tr>\n",
              "    <tr>\n",
              "      <th>1</th>\n",
              "      <td>blank</td>\n",
              "      <td>standard oil form financial unit cleveland feb...</td>\n",
              "    </tr>\n",
              "    <tr>\n",
              "      <th>2</th>\n",
              "      <td>blank</td>\n",
              "      <td>texas commerce bancshares file plan houston fe...</td>\n",
              "    </tr>\n",
              "    <tr>\n",
              "      <th>3</th>\n",
              "      <td>blank</td>\n",
              "      <td>talking equity offer janie gabbett reuters los...</td>\n",
              "    </tr>\n",
              "    <tr>\n",
              "      <th>4</th>\n",
              "      <td>other</td>\n",
              "      <td>national average price reserve washington feb ...</td>\n",
              "    </tr>\n",
              "  </tbody>\n",
              "</table>\n",
              "</div>"
            ],
            "text/plain": [
              "   topic                                               text\n",
              "0  other  bahia cocoa review salvador feb shower continu...\n",
              "1  blank  standard oil form financial unit cleveland feb...\n",
              "2  blank  texas commerce bancshares file plan houston fe...\n",
              "3  blank  talking equity offer janie gabbett reuters los...\n",
              "4  other  national average price reserve washington feb ..."
            ]
          },
          "metadata": {},
          "execution_count": 174
        }
      ]
    },
    {
      "cell_type": "code",
      "metadata": {
        "id": "DU7abWZT0Rjt"
      },
      "source": [
        "topic_dict = {'earn': 1, 'other': 2, 'blank': 3}\n",
        "topic_dict_merged = {'earn': 1, 'other': 2, 'blank': 2}\n",
        "topic_dict_no_blank = {'earn': 1, 'other': 2}\n",
        "\n",
        "# for all three topics\n",
        "df.topic.replace(topic_dict, inplace=True)\n",
        "\n",
        "# for merging 'blank' and 'other'\n",
        "df_merged.topic.replace(topic_dict_merged, inplace=True)\n",
        "\n",
        "# for the df without blank topics\n",
        "df_no_blank.topic.replace(topic_dict_no_blank, inplace=True)"
      ],
      "execution_count": null,
      "outputs": []
    },
    {
      "cell_type": "code",
      "metadata": {
        "colab": {
          "base_uri": "https://localhost:8080/",
          "height": 206
        },
        "id": "EgdlpXEb0XTA",
        "outputId": "97cc67d6-6e98-4e93-9fc1-1f2948fc15fc"
      },
      "source": [
        "df_no_blank.head()"
      ],
      "execution_count": null,
      "outputs": [
        {
          "output_type": "execute_result",
          "data": {
            "text/html": [
              "<div>\n",
              "<style scoped>\n",
              "    .dataframe tbody tr th:only-of-type {\n",
              "        vertical-align: middle;\n",
              "    }\n",
              "\n",
              "    .dataframe tbody tr th {\n",
              "        vertical-align: top;\n",
              "    }\n",
              "\n",
              "    .dataframe thead th {\n",
              "        text-align: right;\n",
              "    }\n",
              "</style>\n",
              "<table border=\"1\" class=\"dataframe\">\n",
              "  <thead>\n",
              "    <tr style=\"text-align: right;\">\n",
              "      <th></th>\n",
              "      <th>topic</th>\n",
              "      <th>text</th>\n",
              "    </tr>\n",
              "  </thead>\n",
              "  <tbody>\n",
              "    <tr>\n",
              "      <th>0</th>\n",
              "      <td>2</td>\n",
              "      <td>bahia cocoa review salvador feb shower continu...</td>\n",
              "    </tr>\n",
              "    <tr>\n",
              "      <th>4</th>\n",
              "      <td>2</td>\n",
              "      <td>national average price reserve washington feb ...</td>\n",
              "    </tr>\n",
              "    <tr>\n",
              "      <th>5</th>\n",
              "      <td>2</td>\n",
              "      <td>argentine registration buenos aire feb argenti...</td>\n",
              "    </tr>\n",
              "    <tr>\n",
              "      <th>8</th>\n",
              "      <td>1</td>\n",
              "      <td>champion product approves stock split rocheste...</td>\n",
              "    </tr>\n",
              "    <tr>\n",
              "      <th>9</th>\n",
              "      <td>2</td>\n",
              "      <td>computer terminal system completes sale commac...</td>\n",
              "    </tr>\n",
              "  </tbody>\n",
              "</table>\n",
              "</div>"
            ],
            "text/plain": [
              "   topic                                               text\n",
              "0      2  bahia cocoa review salvador feb shower continu...\n",
              "4      2  national average price reserve washington feb ...\n",
              "5      2  argentine registration buenos aire feb argenti...\n",
              "8      1  champion product approves stock split rocheste...\n",
              "9      2  computer terminal system completes sale commac..."
            ]
          },
          "metadata": {},
          "execution_count": 176
        }
      ]
    },
    {
      "cell_type": "markdown",
      "metadata": {
        "id": "w4XZdtHE0Xzw"
      },
      "source": [
        "## TF-IDF "
      ]
    },
    {
      "cell_type": "markdown",
      "metadata": {
        "id": "2UpNg1Ip0X6V"
      },
      "source": [
        "### Decision Tree - Main df"
      ]
    },
    {
      "cell_type": "markdown",
      "metadata": {
        "id": "L_xkI44Y0X-M"
      },
      "source": [
        "#### Train-test split"
      ]
    },
    {
      "cell_type": "code",
      "metadata": {
        "id": "Sel8mGX50YBs"
      },
      "source": [
        "X = df.drop(['topic'], axis=1)\n",
        "y = df['topic']\n",
        "\n",
        "X_train, X_test, y_train, y_test = train_test_split(X['text'], y, test_size=0.20, random_state=200)"
      ],
      "execution_count": null,
      "outputs": []
    },
    {
      "cell_type": "markdown",
      "metadata": {
        "id": "XE3vVSfu0YGU"
      },
      "source": [
        "#### Pipeline 1\n",
        "- get idea on what limiting TF-IDF does to performance\n",
        "- get idea on what max depth does to performance"
      ]
    },
    {
      "cell_type": "code",
      "metadata": {
        "id": "6OO3NApn0YJw"
      },
      "source": [
        "dt1_pipeline = Pipeline([('tfidf', TfidfVectorizer()), \n",
        "                         ('dt', DecisionTreeClassifier(random_state=123))])"
      ],
      "execution_count": null,
      "outputs": []
    },
    {
      "cell_type": "code",
      "metadata": {
        "id": "wiVbkpu40YNQ"
      },
      "source": [
        "dt1_param_grid = {\n",
        "    'tfidf__ngram_range': [(1,1), (1,2)],\n",
        "    'tfidf__max_features': [5000, 10000], \n",
        "    'dt__max_depth': [4, 6, 10]\n",
        "}"
      ],
      "execution_count": null,
      "outputs": []
    },
    {
      "cell_type": "code",
      "metadata": {
        "id": "O361Ts7v0YQY"
      },
      "source": [
        "dt1_grid_search = GridSearchCV(estimator=dt1_pipeline,\n",
        "                               param_grid=dt1_param_grid,\n",
        "                               scoring='recall_macro',\n",
        "                               cv=3)"
      ],
      "execution_count": null,
      "outputs": []
    },
    {
      "cell_type": "code",
      "metadata": {
        "colab": {
          "base_uri": "https://localhost:8080/"
        },
        "id": "jZyyjIvf0YTv",
        "outputId": "b948d587-2d37-466e-e7e6-c48b9c1c26a9"
      },
      "source": [
        "dt1_grid_search.fit(X_train, y_train)"
      ],
      "execution_count": null,
      "outputs": [
        {
          "output_type": "execute_result",
          "data": {
            "text/plain": [
              "GridSearchCV(cv=3,\n",
              "             estimator=Pipeline(steps=[('tfidf', TfidfVectorizer()),\n",
              "                                       ('dt',\n",
              "                                        DecisionTreeClassifier(random_state=123))]),\n",
              "             param_grid={'dt__max_depth': [4, 6, 10],\n",
              "                         'tfidf__max_features': [5000, 10000],\n",
              "                         'tfidf__ngram_range': [(1, 1), (1, 2)]},\n",
              "             scoring='recall_macro')"
            ]
          },
          "metadata": {},
          "execution_count": 181
        }
      ]
    },
    {
      "cell_type": "code",
      "metadata": {
        "colab": {
          "base_uri": "https://localhost:8080/"
        },
        "id": "kI-kBpky0YXU",
        "outputId": "48b7553e-3fab-48da-c7a6-196221348fba"
      },
      "source": [
        "dt1_grid_search.best_params_"
      ],
      "execution_count": null,
      "outputs": [
        {
          "output_type": "execute_result",
          "data": {
            "text/plain": [
              "{'dt__max_depth': 10,\n",
              " 'tfidf__max_features': 10000,\n",
              " 'tfidf__ngram_range': (1, 1)}"
            ]
          },
          "metadata": {},
          "execution_count": 182
        }
      ]
    },
    {
      "cell_type": "markdown",
      "metadata": {
        "id": "tKUKfsbi0Yb8"
      },
      "source": [
        "#### Pipeline 2"
      ]
    },
    {
      "cell_type": "code",
      "metadata": {
        "id": "99nON4Oo0YfY"
      },
      "source": [
        "dt2_pipeline = Pipeline([('tfidf', TfidfVectorizer()), \n",
        "                         ('dt', DecisionTreeClassifier(random_state=123))])\n",
        "\n",
        "\n",
        "dt2_param_grid = {\n",
        "    'tfidf__ngram_range': [(1,1)],\n",
        "    'tfidf__max_features': [10000, 15000], \n",
        "    'dt__max_depth': [10, 15]\n",
        "}"
      ],
      "execution_count": null,
      "outputs": []
    },
    {
      "cell_type": "code",
      "metadata": {
        "id": "RbzN4I_w1JTy"
      },
      "source": [
        "dt2_grid_search = GridSearchCV(estimator=dt2_pipeline,\n",
        "                               param_grid=dt2_param_grid,\n",
        "                               scoring='recall_macro',\n",
        "                               cv=3)"
      ],
      "execution_count": null,
      "outputs": []
    },
    {
      "cell_type": "code",
      "metadata": {
        "colab": {
          "base_uri": "https://localhost:8080/"
        },
        "id": "xfUSYWjt1NS9",
        "outputId": "f9c0efcc-412f-47cb-cfa3-9618155418b5"
      },
      "source": [
        "dt2_grid_search.fit(X_train, y_train)\n",
        "dt2_grid_search.best_params_"
      ],
      "execution_count": null,
      "outputs": [
        {
          "output_type": "execute_result",
          "data": {
            "text/plain": [
              "{'dt__max_depth': 15,\n",
              " 'tfidf__max_features': 15000,\n",
              " 'tfidf__ngram_range': (1, 1)}"
            ]
          },
          "metadata": {},
          "execution_count": 185
        }
      ]
    },
    {
      "cell_type": "markdown",
      "metadata": {
        "id": "c2H3M_pQ1PBy"
      },
      "source": [
        "#### Pipeline 3"
      ]
    },
    {
      "cell_type": "code",
      "metadata": {
        "id": "7Y01VsbV1Qhe"
      },
      "source": [
        "dt3_pipeline = Pipeline([('tfidf', TfidfVectorizer()), \n",
        "                         ('dt', DecisionTreeClassifier(random_state=123))])\n",
        "\n",
        "\n",
        "dt3_param_grid = {\n",
        "    'tfidf__ngram_range': [(1,1)],\n",
        "    'tfidf__max_features': [15000], \n",
        "    'dt__max_depth': [15, None]\n",
        "}"
      ],
      "execution_count": null,
      "outputs": []
    },
    {
      "cell_type": "code",
      "metadata": {
        "colab": {
          "base_uri": "https://localhost:8080/"
        },
        "id": "qBbsoZYN1S39",
        "outputId": "7a411234-c416-4d91-dcc1-ac71ed314a8f"
      },
      "source": [
        "dt3_grid_search = GridSearchCV(estimator=dt3_pipeline,\n",
        "                               param_grid=dt3_param_grid,\n",
        "                               scoring='recall_macro',\n",
        "                               cv=3)\n",
        "\n",
        "dt3_grid_search.fit(X_train, y_train)\n",
        "dt3_grid_search.best_params_"
      ],
      "execution_count": null,
      "outputs": [
        {
          "output_type": "execute_result",
          "data": {
            "text/plain": [
              "{'dt__max_depth': None,\n",
              " 'tfidf__max_features': 15000,\n",
              " 'tfidf__ngram_range': (1, 1)}"
            ]
          },
          "metadata": {},
          "execution_count": 187
        }
      ]
    },
    {
      "cell_type": "markdown",
      "metadata": {
        "id": "B8JscsAd1YYw"
      },
      "source": [
        "#### Run model\n",
        "Try these parameters on the actual dataset"
      ]
    },
    {
      "cell_type": "code",
      "metadata": {
        "colab": {
          "base_uri": "https://localhost:8080/"
        },
        "id": "ttcIH4d11dbc",
        "outputId": "a06dc2a6-7405-4749-ec1e-f118b7c33592"
      },
      "source": [
        "vectorizer = TfidfVectorizer(ngram_range=(1,1), max_features=15000)\n",
        "vect_X_train = vectorizer.fit_transform(X_train)\n",
        "vect_X_test = vectorizer.transform(X_test)\n",
        "\n",
        "dtree = DecisionTreeClassifier(max_depth=None)\n",
        "dtree.fit(vect_X_train, y_train)"
      ],
      "execution_count": null,
      "outputs": [
        {
          "output_type": "execute_result",
          "data": {
            "text/plain": [
              "DecisionTreeClassifier()"
            ]
          },
          "metadata": {},
          "execution_count": 188
        }
      ]
    },
    {
      "cell_type": "code",
      "metadata": {
        "colab": {
          "base_uri": "https://localhost:8080/",
          "height": 870
        },
        "id": "w6_uSy6nwTPI",
        "outputId": "d54603ca-ef8c-40d7-aabf-6220de85314d"
      },
      "source": [
        "run_model(dtree, vect_X_train, y_train, vect_X_test, y_test, 3)"
      ],
      "execution_count": null,
      "outputs": [
        {
          "output_type": "stream",
          "name": "stdout",
          "text": [
            "TRAINING - Classification Report\n",
            "Accuracy: 99.8%\n",
            "Precision: 99.8%\n",
            "Recall: 99.9%\n",
            "F1: 99.8%\n",
            "              precision    recall  f1-score   support\n",
            "\n",
            "           1       1.00      1.00      1.00      3246\n",
            "           2       1.00      1.00      1.00      5994\n",
            "           3       1.00      1.00      1.00      8359\n",
            "\n",
            "    accuracy                           1.00     17599\n",
            "   macro avg       1.00      1.00      1.00     17599\n",
            "weighted avg       1.00      1.00      1.00     17599\n",
            "\n",
            "TESTING - Classification Report\n",
            "Accuracy: 82.0%\n",
            "Precision: 83.0%\n",
            "Recall: 83.2%\n",
            "F1: 83.1%\n",
            "              precision    recall  f1-score   support\n",
            "\n",
            "           1       0.88      0.90      0.89       783\n",
            "           2       0.78      0.78      0.78      1527\n",
            "           3       0.82      0.82      0.82      2090\n",
            "\n",
            "    accuracy                           0.82      4400\n",
            "   macro avg       0.83      0.83      0.83      4400\n",
            "weighted avg       0.82      0.82      0.82      4400\n",
            "\n"
          ]
        },
        {
          "output_type": "display_data",
          "data": {
            "image/png": "[encoded data removed]",
            "text/plain": [
              "<Figure size 1080x360 with 4 Axes>"
            ]
          },
          "metadata": {
            "needs_background": "light"
          }
        }
      ]
    },
    {
      "cell_type": "markdown",
      "metadata": {
        "id": "r8QGP2nLwUZ4"
      },
      "source": [
        "Good scores, but problem with overfitting. 11 point difference in recall 'earn' parameter"
      ]
    },
    {
      "cell_type": "markdown",
      "metadata": {
        "id": "hiPz1YsVxfaS"
      },
      "source": [
        "### Decision Tree - Merged df"
      ]
    },
    {
      "cell_type": "code",
      "metadata": {
        "id": "WbtVGM16xm3R"
      },
      "source": [
        "X = df_merged.drop(['topic'], axis=1)\n",
        "y = df_merged['topic']\n",
        "\n",
        "X_train, X_test, y_train, y_test = train_test_split(X['text'], y, test_size=0.20, random_state=200)"
      ],
      "execution_count": null,
      "outputs": []
    },
    {
      "cell_type": "code",
      "metadata": {
        "colab": {
          "base_uri": "https://localhost:8080/"
        },
        "id": "tcNdEpqsxoxg",
        "outputId": "1f28ad4b-68db-4982-f7cb-5aa585468bdb"
      },
      "source": [
        "vectorizer = TfidfVectorizer(ngram_range=(1,1), max_features=10000)\n",
        "vect_X_train = vectorizer.fit_transform(X_train)\n",
        "vect_X_test = vectorizer.transform(X_test)\n",
        "\n",
        "dtree = DecisionTreeClassifier(max_depth=None)\n",
        "dtree.fit(vect_X_train, y_train)"
      ],
      "execution_count": null,
      "outputs": [
        {
          "output_type": "execute_result",
          "data": {
            "text/plain": [
              "DecisionTreeClassifier()"
            ]
          },
          "metadata": {},
          "execution_count": 191
        }
      ]
    },
    {
      "cell_type": "code",
      "metadata": {
        "colab": {
          "base_uri": "https://localhost:8080/",
          "height": 835
        },
        "id": "QtHAshIFxo2l",
        "outputId": "33d99c9f-6e45-4601-926a-4d2c480b7981"
      },
      "source": [
        "run_model(dtree, vect_X_train, y_train, vect_X_test, y_test, 2)"
      ],
      "execution_count": null,
      "outputs": [
        {
          "output_type": "stream",
          "name": "stdout",
          "text": [
            "TRAINING - Classification Report\n",
            "Accuracy: 99.9%\n",
            "Precision: 99.8%\n",
            "Recall: 100.0%\n",
            "F1: 99.9%\n",
            "              precision    recall  f1-score   support\n",
            "\n",
            "           1       1.00      1.00      1.00      3246\n",
            "           2       1.00      1.00      1.00     14353\n",
            "\n",
            "    accuracy                           1.00     17599\n",
            "   macro avg       1.00      1.00      1.00     17599\n",
            "weighted avg       1.00      1.00      1.00     17599\n",
            "\n",
            "TESTING - Classification Report\n",
            "Accuracy: 96.2%\n",
            "Precision: 93.3%\n",
            "Recall: 94.0%\n",
            "F1: 93.6%\n",
            "              precision    recall  f1-score   support\n",
            "\n",
            "           1       0.89      0.90      0.90       783\n",
            "           2       0.98      0.97      0.98      3617\n",
            "\n",
            "    accuracy                           0.96      4400\n",
            "   macro avg       0.93      0.94      0.94      4400\n",
            "weighted avg       0.96      0.96      0.96      4400\n",
            "\n"
          ]
        },
        {
          "output_type": "display_data",
          "data": {
            "image/png": "[encoded data removed]",
            "text/plain": [
              "<Figure size 1080x360 with 4 Axes>"
            ]
          },
          "metadata": {
            "needs_background": "light"
          }
        }
      ]
    },
    {
      "cell_type": "markdown",
      "metadata": {
        "id": "DfNRy20mxo6M"
      },
      "source": [
        "Similar results, but the overfitting problem is a tad better with the merged df."
      ]
    },
    {
      "cell_type": "markdown",
      "metadata": {
        "id": "NAwknlPzxo97"
      },
      "source": [
        "### Decision Tree - No Blank"
      ]
    },
    {
      "cell_type": "markdown",
      "metadata": {
        "id": "GKOJhwQ4xpB4"
      },
      "source": [
        "Curious to see how the default parameters will work on the df without any blanks"
      ]
    },
    {
      "cell_type": "code",
      "metadata": {
        "colab": {
          "base_uri": "https://localhost:8080/"
        },
        "id": "inBiijA2xpEP",
        "outputId": "f011adfe-10d6-41cb-ea56-7c8297ddcc08"
      },
      "source": [
        "X = df_no_blank.drop(['topic'], axis=1)\n",
        "y = df_no_blank['topic']\n",
        "\n",
        "X_train, X_test, y_train, y_test = train_test_split(X['text'], y, test_size=0.20, random_state=200)\n",
        "\n",
        "vectorizer = TfidfVectorizer(ngram_range=(1,1))\n",
        "vect_X_train = vectorizer.fit_transform(X_train)\n",
        "vect_X_test = vectorizer.transform(X_test)\n",
        "\n",
        "dtree = DecisionTreeClassifier()\n",
        "dtree.fit(vect_X_train, y_train)"
      ],
      "execution_count": null,
      "outputs": [
        {
          "output_type": "execute_result",
          "data": {
            "text/plain": [
              "DecisionTreeClassifier()"
            ]
          },
          "metadata": {},
          "execution_count": 193
        }
      ]
    },
    {
      "cell_type": "code",
      "metadata": {
        "colab": {
          "base_uri": "https://localhost:8080/",
          "height": 835
        },
        "id": "VEvJc-uhxpJT",
        "outputId": "d965203b-c525-4d6b-b427-1bc41a2996cc"
      },
      "source": [
        "run_model(dtree, vect_X_train, y_train, vect_X_test, y_test, 2)"
      ],
      "execution_count": null,
      "outputs": [
        {
          "output_type": "stream",
          "name": "stdout",
          "text": [
            "TRAINING - Classification Report\n",
            "Accuracy: 100.0%\n",
            "Precision: 100.0%\n",
            "Recall: 100.0%\n",
            "F1: 100.0%\n",
            "              precision    recall  f1-score   support\n",
            "\n",
            "           1       1.00      1.00      1.00      3224\n",
            "           2       1.00      1.00      1.00      6016\n",
            "\n",
            "    accuracy                           1.00      9240\n",
            "   macro avg       1.00      1.00      1.00      9240\n",
            "weighted avg       1.00      1.00      1.00      9240\n",
            "\n",
            "TESTING - Classification Report\n",
            "Accuracy: 96.7%\n",
            "Precision: 96.2%\n",
            "Recall: 96.5%\n",
            "F1: 96.3%\n",
            "              precision    recall  f1-score   support\n",
            "\n",
            "           1       0.94      0.96      0.95       805\n",
            "           2       0.98      0.97      0.97      1505\n",
            "\n",
            "    accuracy                           0.97      2310\n",
            "   macro avg       0.96      0.97      0.96      2310\n",
            "weighted avg       0.97      0.97      0.97      2310\n",
            "\n"
          ]
        },
        {
          "output_type": "display_data",
          "data": {
            "image/png": "[encoded data removed]",
            "text/plain": [
              "<Figure size 1080x360 with 4 Axes>"
            ]
          },
          "metadata": {
            "needs_background": "light"
          }
        }
      ]
    },
    {
      "cell_type": "markdown",
      "metadata": {
        "id": "R_AX0Ts7yMFd"
      },
      "source": [
        "Very good scores! Minimal overfitting!\n",
        "\n",
        "Makes me think that the 'blank' category must be corrupted with articles that would have been classified as 'earn'. \n",
        "\n",
        "One problem is the dataset is much smaller. "
      ]
    },
    {
      "cell_type": "code",
      "metadata": {
        "colab": {
          "base_uri": "https://localhost:8080/"
        },
        "id": "hGxVDhDyyMM9",
        "outputId": "52f7799b-c77f-43b5-adba-347c8588764f"
      },
      "source": [
        "print(f\"Percent smaller without 'blank' topics: {round((len(df_no_blank)/len(df))*100, 2)}%\")"
      ],
      "execution_count": null,
      "outputs": [
        {
          "output_type": "stream",
          "name": "stdout",
          "text": [
            "Percent smaller without 'blank' topics: 52.5%\n"
          ]
        }
      ]
    },
    {
      "cell_type": "code",
      "metadata": {
        "colab": {
          "base_uri": "https://localhost:8080/"
        },
        "id": "TqM1OateyMRC",
        "outputId": "6f2b557f-5565-486b-88db-1dfc453cfee8"
      },
      "source": [
        "print(f\"Topic 1: {round((sum(df_no_blank.topic == 1)/len(df_no_blank.topic)) *100, 2)}%\")\n",
        "print(f\"Topic 2: {round((sum(df_no_blank.topic == 2)/len(df_no_blank.topic)) *100, 2)}%\")"
      ],
      "execution_count": null,
      "outputs": [
        {
          "output_type": "stream",
          "name": "stdout",
          "text": [
            "Topic 1: 34.88%\n",
            "Topic 2: 65.12%\n"
          ]
        }
      ]
    },
    {
      "cell_type": "markdown",
      "metadata": {
        "id": "zbubmZE8yMTe"
      },
      "source": [
        "## Count Vectorizer"
      ]
    },
    {
      "cell_type": "markdown",
      "metadata": {
        "id": "JEu8ETX1yMYb"
      },
      "source": [
        "### Decision Tree - Main df"
      ]
    },
    {
      "cell_type": "markdown",
      "metadata": {
        "id": "fYlKr1c5yMau"
      },
      "source": [
        "#### Train-test split"
      ]
    },
    {
      "cell_type": "code",
      "metadata": {
        "id": "VR6sJBR6yMfq"
      },
      "source": [
        "X = df.drop(['topic'], axis=1)\n",
        "y = df['topic']\n",
        "\n",
        "X_train, X_test, y_train, y_test = train_test_split(X['text'], y, test_size=0.20, random_state=200)"
      ],
      "execution_count": null,
      "outputs": []
    },
    {
      "cell_type": "markdown",
      "metadata": {
        "id": "XQam2XLdzP4T"
      },
      "source": [
        "#### Pipeline 1"
      ]
    },
    {
      "cell_type": "code",
      "metadata": {
        "id": "ezinLOh8zQfX"
      },
      "source": [
        "dt1_pipeline = Pipeline([('countv', CountVectorizer()), \n",
        "                         ('dt', DecisionTreeClassifier(random_state=123))])\n",
        "\n",
        "dt1_param_grid = {\n",
        "    'countv__ngram_range': [(1,1), (1,2)],\n",
        "    'countv__max_features': [5000, 10000, 25000], \n",
        "    'dt__max_depth': [6]\n",
        "}\n",
        "\n",
        "dt1_grid_search = GridSearchCV(estimator=dt1_pipeline,\n",
        "                               param_grid=dt1_param_grid,\n",
        "                               scoring='recall_macro',\n",
        "                               cv=3)"
      ],
      "execution_count": null,
      "outputs": []
    },
    {
      "cell_type": "code",
      "metadata": {
        "colab": {
          "base_uri": "https://localhost:8080/"
        },
        "id": "0jtVfJAuzQjX",
        "outputId": "1172b4d3-5d8c-4f0f-be32-25e9c025cc31"
      },
      "source": [
        "dt1_grid_search.fit(X_train, y_train)"
      ],
      "execution_count": null,
      "outputs": [
        {
          "output_type": "execute_result",
          "data": {
            "text/plain": [
              "GridSearchCV(cv=3,\n",
              "             estimator=Pipeline(steps=[('countv', CountVectorizer()),\n",
              "                                       ('dt',\n",
              "                                        DecisionTreeClassifier(random_state=123))]),\n",
              "             param_grid={'countv__max_features': [5000, 10000, 25000],\n",
              "                         'countv__ngram_range': [(1, 1), (1, 2)],\n",
              "                         'dt__max_depth': [6]},\n",
              "             scoring='recall_macro')"
            ]
          },
          "metadata": {},
          "execution_count": 199
        }
      ]
    },
    {
      "cell_type": "code",
      "metadata": {
        "colab": {
          "base_uri": "https://localhost:8080/"
        },
        "id": "t19Yt7-ZzQnP",
        "outputId": "31601770-989e-4dbe-fbb6-b7feb024bc6e"
      },
      "source": [
        "dt1_grid_search.best_params_"
      ],
      "execution_count": null,
      "outputs": [
        {
          "output_type": "execute_result",
          "data": {
            "text/plain": [
              "{'countv__max_features': 25000,\n",
              " 'countv__ngram_range': (1, 2),\n",
              " 'dt__max_depth': 6}"
            ]
          },
          "metadata": {},
          "execution_count": 200
        }
      ]
    },
    {
      "cell_type": "markdown",
      "metadata": {
        "id": "enOkLQ5pzQpi"
      },
      "source": [
        "#### Pipeline 2"
      ]
    },
    {
      "cell_type": "code",
      "metadata": {
        "colab": {
          "base_uri": "https://localhost:8080/"
        },
        "id": "6ka7Hn7RzQuf",
        "outputId": "34f1ebc7-cc96-480a-80b7-64166dcab2d2"
      },
      "source": [
        "dt2_pipeline = Pipeline([('countv', CountVectorizer()), \n",
        "                         ('dt', DecisionTreeClassifier(random_state=123))])\n",
        "\n",
        "dt2_param_grid = {\n",
        "    'countv__ngram_range': [(1,2)],\n",
        "    'countv__max_features': [25000, 35000], \n",
        "    'dt__max_depth': [6, None]\n",
        "}\n",
        "\n",
        "dt2_grid_search = GridSearchCV(estimator=dt2_pipeline,\n",
        "                               param_grid=dt2_param_grid,\n",
        "                               scoring='recall_macro',\n",
        "                               cv=3)\n",
        "\n",
        "dt2_grid_search.fit(X_train, y_train)\n",
        "\n",
        "dt2_grid_search.best_params_"
      ],
      "execution_count": null,
      "outputs": [
        {
          "output_type": "execute_result",
          "data": {
            "text/plain": [
              "{'countv__max_features': 25000,\n",
              " 'countv__ngram_range': (1, 2),\n",
              " 'dt__max_depth': None}"
            ]
          },
          "metadata": {},
          "execution_count": 201
        }
      ]
    },
    {
      "cell_type": "markdown",
      "metadata": {
        "id": "xh93fSChzQw5"
      },
      "source": [
        "#### Run Model"
      ]
    },
    {
      "cell_type": "code",
      "metadata": {
        "colab": {
          "base_uri": "https://localhost:8080/"
        },
        "id": "wcQQxbXwzhHk",
        "outputId": "2aa62fb5-855e-46a0-ec56-843426e4fd88"
      },
      "source": [
        "vectorizer = CountVectorizer(ngram_range=(1,2), max_features=25000)\n",
        "vect_X_train = vectorizer.fit_transform(X_train)\n",
        "vect_X_test = vectorizer.transform(X_test)\n",
        "\n",
        "dtree = DecisionTreeClassifier(max_depth=None)\n",
        "dtree.fit(vect_X_train, y_train)"
      ],
      "execution_count": null,
      "outputs": [
        {
          "output_type": "execute_result",
          "data": {
            "text/plain": [
              "DecisionTreeClassifier()"
            ]
          },
          "metadata": {},
          "execution_count": 202
        }
      ]
    },
    {
      "cell_type": "code",
      "metadata": {
        "colab": {
          "base_uri": "https://localhost:8080/",
          "height": 870
        },
        "id": "Svalia3rzhp6",
        "outputId": "f0575c6a-088c-475f-a08f-d8c451006fdf"
      },
      "source": [
        "run_model(dtree, vect_X_train, y_train, vect_X_test, y_test, 2)"
      ],
      "execution_count": null,
      "outputs": [
        {
          "output_type": "stream",
          "name": "stdout",
          "text": [
            "TRAINING - Classification Report\n",
            "Accuracy: 99.8%\n",
            "Precision: 99.8%\n",
            "Recall: 99.9%\n",
            "F1: 99.8%\n",
            "              precision    recall  f1-score   support\n",
            "\n",
            "           1       1.00      1.00      1.00      3246\n",
            "           2       1.00      1.00      1.00      5994\n",
            "           3       1.00      1.00      1.00      8359\n",
            "\n",
            "    accuracy                           1.00     17599\n",
            "   macro avg       1.00      1.00      1.00     17599\n",
            "weighted avg       1.00      1.00      1.00     17599\n",
            "\n",
            "TESTING - Classification Report\n",
            "Accuracy: 83.0%\n",
            "Precision: 84.0%\n",
            "Recall: 84.4%\n",
            "F1: 84.2%\n",
            "              precision    recall  f1-score   support\n",
            "\n",
            "           1       0.90      0.91      0.90       783\n",
            "           2       0.79      0.80      0.79      1527\n",
            "           3       0.84      0.82      0.83      2090\n",
            "\n",
            "    accuracy                           0.83      4400\n",
            "   macro avg       0.84      0.84      0.84      4400\n",
            "weighted avg       0.83      0.83      0.83      4400\n",
            "\n"
          ]
        },
        {
          "output_type": "display_data",
          "data": {
            "image/png": "[encoded data removed]",
            "text/plain": [
              "<Figure size 1080x360 with 4 Axes>"
            ]
          },
          "metadata": {
            "needs_background": "light"
          }
        }
      ]
    },
    {
      "cell_type": "markdown",
      "metadata": {
        "id": "IV2NijSvzhvn"
      },
      "source": [
        "About the same as the last one with worse issue with overfitting."
      ]
    },
    {
      "cell_type": "markdown",
      "metadata": {
        "id": "akf5H0Lszhzt"
      },
      "source": [
        "### Decision Tree - No Blank"
      ]
    },
    {
      "cell_type": "code",
      "metadata": {
        "colab": {
          "base_uri": "https://localhost:8080/"
        },
        "id": "RRVAOl8Izh4T",
        "outputId": "5050a615-d0a4-47d1-d1d3-eba5341cc8f8"
      },
      "source": [
        "X = df_no_blank.drop(['topic'], axis=1)\n",
        "y = df_no_blank['topic']\n",
        "\n",
        "X_train, X_test, y_train, y_test = train_test_split(X['text'], y, test_size=0.20, random_state=200)\n",
        "\n",
        "vectorizer = CountVectorizer(ngram_range=(1,2), max_features=25000)\n",
        "vect_X_train = vectorizer.fit_transform(X_train)\n",
        "vect_X_test = vectorizer.transform(X_test)\n",
        "\n",
        "dtree = DecisionTreeClassifier(max_depth=None)\n",
        "dtree.fit(vect_X_train, y_train)"
      ],
      "execution_count": null,
      "outputs": [
        {
          "output_type": "execute_result",
          "data": {
            "text/plain": [
              "DecisionTreeClassifier()"
            ]
          },
          "metadata": {},
          "execution_count": 204
        }
      ]
    },
    {
      "cell_type": "code",
      "metadata": {
        "colab": {
          "base_uri": "https://localhost:8080/",
          "height": 835
        },
        "id": "F7pBge3T0z1P",
        "outputId": "c82ace06-e663-42c2-a7f5-b36db3863134"
      },
      "source": [
        "run_model(dtree, vect_X_train, y_train, vect_X_test, y_test, 2)"
      ],
      "execution_count": null,
      "outputs": [
        {
          "output_type": "stream",
          "name": "stdout",
          "text": [
            "TRAINING - Classification Report\n",
            "Accuracy: 100.0%\n",
            "Precision: 100.0%\n",
            "Recall: 100.0%\n",
            "F1: 100.0%\n",
            "              precision    recall  f1-score   support\n",
            "\n",
            "           1       1.00      1.00      1.00      3224\n",
            "           2       1.00      1.00      1.00      6016\n",
            "\n",
            "    accuracy                           1.00      9240\n",
            "   macro avg       1.00      1.00      1.00      9240\n",
            "weighted avg       1.00      1.00      1.00      9240\n",
            "\n",
            "TESTING - Classification Report\n",
            "Accuracy: 96.4%\n",
            "Precision: 95.8%\n",
            "Recall: 96.3%\n",
            "F1: 96.1%\n",
            "              precision    recall  f1-score   support\n",
            "\n",
            "           1       0.94      0.96      0.95       805\n",
            "           2       0.98      0.97      0.97      1505\n",
            "\n",
            "    accuracy                           0.96      2310\n",
            "   macro avg       0.96      0.96      0.96      2310\n",
            "weighted avg       0.96      0.96      0.96      2310\n",
            "\n"
          ]
        },
        {
          "output_type": "display_data",
          "data": {
            "image/png": "[encoded data removed]",
            "text/plain": [
              "<Figure size 1080x360 with 4 Axes>"
            ]
          },
          "metadata": {
            "needs_background": "light"
          }
        }
      ]
    },
    {
      "cell_type": "markdown",
      "metadata": {
        "id": "iiFaR0nv00GF"
      },
      "source": [
        "Again, good scores when you don't have the 'blank' category."
      ]
    },
    {
      "cell_type": "markdown",
      "metadata": {
        "id": "Av2mFwY900LV"
      },
      "source": [
        "# Conclusion"
      ]
    },
    {
      "cell_type": "markdown",
      "metadata": {
        "id": "gi3LY07p00Qi"
      },
      "source": [
        "The best performing model with least overfitting for predicting the 'earn' category uses:     \n",
        "\n",
        "`vectorizer = TfidfVectorizer(ngram_range=(1,1))`\n",
        "with the default DecisionTree parameters and only two topics: 'earn' and 'other' and removing the articles where the topics are 'blank'. \n",
        "\n"
      ]
    },
    {
      "cell_type": "code",
      "metadata": {
        "id": "T8QJ2i2D2Ik6",
        "colab": {
          "base_uri": "https://localhost:8080/",
          "height": 835
        },
        "outputId": "dad5f4fb-e3b0-46e0-8ce7-0927882bc7f3"
      },
      "source": [
        "X = df_no_blank.drop(['topic'], axis=1)\n",
        "y = df_no_blank['topic']\n",
        "\n",
        "X_train, X_test, y_train, y_test = train_test_split(X['text'], y, test_size=0.20, random_state=200)\n",
        "\n",
        "vectorizer = TfidfVectorizer(ngram_range=(1,1))\n",
        "vect_X_train = vectorizer.fit_transform(X_train)\n",
        "vect_X_test = vectorizer.transform(X_test)\n",
        "\n",
        "dtree = DecisionTreeClassifier()\n",
        "dtree.fit(vect_X_train, y_train)\n",
        "\n",
        "run_model(dtree, vect_X_train, y_train, vect_X_test, y_test, 2)"
      ],
      "execution_count": null,
      "outputs": [
        {
          "output_type": "stream",
          "name": "stdout",
          "text": [
            "TRAINING - Classification Report\n",
            "Accuracy: 100.0%\n",
            "Precision: 100.0%\n",
            "Recall: 100.0%\n",
            "F1: 100.0%\n",
            "              precision    recall  f1-score   support\n",
            "\n",
            "           1       1.00      1.00      1.00      3224\n",
            "           2       1.00      1.00      1.00      6016\n",
            "\n",
            "    accuracy                           1.00      9240\n",
            "   macro avg       1.00      1.00      1.00      9240\n",
            "weighted avg       1.00      1.00      1.00      9240\n",
            "\n",
            "TESTING - Classification Report\n",
            "Accuracy: 96.1%\n",
            "Precision: 95.5%\n",
            "Recall: 95.9%\n",
            "F1: 95.7%\n",
            "              precision    recall  f1-score   support\n",
            "\n",
            "           1       0.94      0.95      0.94       805\n",
            "           2       0.97      0.97      0.97      1505\n",
            "\n",
            "    accuracy                           0.96      2310\n",
            "   macro avg       0.96      0.96      0.96      2310\n",
            "weighted avg       0.96      0.96      0.96      2310\n",
            "\n"
          ]
        },
        {
          "output_type": "display_data",
          "data": {
            "image/png": "[encoded data removed]",
            "text/plain": [
              "<Figure size 1080x360 with 4 Axes>"
            ]
          },
          "metadata": {
            "needs_background": "light"
          }
        }
      ]
    }
  ]
}