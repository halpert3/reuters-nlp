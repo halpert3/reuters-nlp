{
 "cells": [
  {
   "cell_type": "code",
   "execution_count": 15,
   "metadata": {
    "execution": {
     "iopub.execute_input": "2021-11-05T21:38:37.765140Z",
     "iopub.status.busy": "2021-11-05T21:38:37.765140Z",
     "iopub.status.idle": "2021-11-05T21:38:37.774141Z",
     "shell.execute_reply": "2021-11-05T21:38:37.773141Z",
     "shell.execute_reply.started": "2021-11-05T21:38:37.765140Z"
    }
   },
   "outputs": [],
   "source": [
    "import pandas as pd\n",
    "import numpy as np\n",
    "import nltk\n",
    "from nltk.corpus import stopwords\n",
    "from nltk import word_tokenize, FreqDist\n",
    "from nltk.stem.wordnet import WordNetLemmatizer\n",
    "import string\n",
    "import re"
   ]
  },
  {
   "cell_type": "code",
   "execution_count": 16,
   "metadata": {
    "execution": {
     "iopub.execute_input": "2021-11-05T21:38:37.777141Z",
     "iopub.status.busy": "2021-11-05T21:38:37.776141Z",
     "iopub.status.idle": "2021-11-05T21:38:38.057137Z",
     "shell.execute_reply": "2021-11-05T21:38:38.056138Z",
     "shell.execute_reply.started": "2021-11-05T21:38:37.777141Z"
    }
   },
   "outputs": [],
   "source": [
    "df = pd.read_csv('data_files/topics_and_text.csv')"
   ]
  },
  {
   "cell_type": "code",
   "execution_count": 17,
   "metadata": {
    "execution": {
     "iopub.execute_input": "2021-11-05T21:38:38.060136Z",
     "iopub.status.busy": "2021-11-05T21:38:38.059137Z",
     "iopub.status.idle": "2021-11-05T21:38:38.088161Z",
     "shell.execute_reply": "2021-11-05T21:38:38.086139Z",
     "shell.execute_reply.started": "2021-11-05T21:38:38.060136Z"
    }
   },
   "outputs": [
    {
     "data": {
      "text/html": [
       "<div>\n",
       "<style scoped>\n",
       "    .dataframe tbody tr th:only-of-type {\n",
       "        vertical-align: middle;\n",
       "    }\n",
       "\n",
       "    .dataframe tbody tr th {\n",
       "        vertical-align: top;\n",
       "    }\n",
       "\n",
       "    .dataframe thead th {\n",
       "        text-align: right;\n",
       "    }\n",
       "</style>\n",
       "<table border=\"1\" class=\"dataframe\">\n",
       "  <thead>\n",
       "    <tr style=\"text-align: right;\">\n",
       "      <th></th>\n",
       "      <th>topic</th>\n",
       "      <th>text</th>\n",
       "    </tr>\n",
       "  </thead>\n",
       "  <tbody>\n",
       "    <tr>\n",
       "      <th>0</th>\n",
       "      <td>other</td>\n",
       "      <td>BAHIA COCOA REVIEW SALVADOR, Feb 26 - Showers ...</td>\n",
       "    </tr>\n",
       "    <tr>\n",
       "      <th>1</th>\n",
       "      <td>blank</td>\n",
       "      <td>STANDARD OIL &lt;SRD&gt; TO FORM FINANCIAL UNIT CLEV...</td>\n",
       "    </tr>\n",
       "    <tr>\n",
       "      <th>2</th>\n",
       "      <td>blank</td>\n",
       "      <td>TEXAS COMMERCE BANCSHARES &lt;TCB&gt; FILES PLAN HOU...</td>\n",
       "    </tr>\n",
       "    <tr>\n",
       "      <th>3</th>\n",
       "      <td>blank</td>\n",
       "      <td>TALKING POINT/BANKAMERICA &lt;BAC&gt; EQUITY OFFER b...</td>\n",
       "    </tr>\n",
       "    <tr>\n",
       "      <th>4</th>\n",
       "      <td>other</td>\n",
       "      <td>NATIONAL AVERAGE PRICES FOR FARMER-OWNED RESER...</td>\n",
       "    </tr>\n",
       "    <tr>\n",
       "      <th>5</th>\n",
       "      <td>other</td>\n",
       "      <td>ARGENTINE 1986/87 GRAIN/OILSEED REGISTRATIONS ...</td>\n",
       "    </tr>\n",
       "    <tr>\n",
       "      <th>6</th>\n",
       "      <td>blank</td>\n",
       "      <td>RED LION INNS FILES PLANS OFFERING PORTLAND, O...</td>\n",
       "    </tr>\n",
       "    <tr>\n",
       "      <th>7</th>\n",
       "      <td>blank</td>\n",
       "      <td>USX &lt;X&gt; DEBT DOWGRADED BY MOODY'S NEW YORK, Fe...</td>\n",
       "    </tr>\n",
       "    <tr>\n",
       "      <th>8</th>\n",
       "      <td>earn</td>\n",
       "      <td>CHAMPION PRODUCTS &lt;CH&gt; APPROVES STOCK SPLIT RO...</td>\n",
       "    </tr>\n",
       "    <tr>\n",
       "      <th>9</th>\n",
       "      <td>other</td>\n",
       "      <td>COMPUTER TERMINAL SYSTEMS &lt;CPML&gt; COMPLETES SAL...</td>\n",
       "    </tr>\n",
       "  </tbody>\n",
       "</table>\n",
       "</div>"
      ],
      "text/plain": [
       "   topic                                               text\n",
       "0  other  BAHIA COCOA REVIEW SALVADOR, Feb 26 - Showers ...\n",
       "1  blank  STANDARD OIL <SRD> TO FORM FINANCIAL UNIT CLEV...\n",
       "2  blank  TEXAS COMMERCE BANCSHARES <TCB> FILES PLAN HOU...\n",
       "3  blank  TALKING POINT/BANKAMERICA <BAC> EQUITY OFFER b...\n",
       "4  other  NATIONAL AVERAGE PRICES FOR FARMER-OWNED RESER...\n",
       "5  other  ARGENTINE 1986/87 GRAIN/OILSEED REGISTRATIONS ...\n",
       "6  blank  RED LION INNS FILES PLANS OFFERING PORTLAND, O...\n",
       "7  blank  USX <X> DEBT DOWGRADED BY MOODY'S NEW YORK, Fe...\n",
       "8   earn  CHAMPION PRODUCTS <CH> APPROVES STOCK SPLIT RO...\n",
       "9  other  COMPUTER TERMINAL SYSTEMS <CPML> COMPLETES SAL..."
      ]
     },
     "execution_count": 17,
     "metadata": {},
     "output_type": "execute_result"
    }
   ],
   "source": [
    "df.head(10)"
   ]
  },
  {
   "cell_type": "code",
   "execution_count": 18,
   "metadata": {
    "execution": {
     "iopub.execute_input": "2021-11-05T21:38:38.092141Z",
     "iopub.status.busy": "2021-11-05T21:38:38.091142Z",
     "iopub.status.idle": "2021-11-05T21:38:38.104143Z",
     "shell.execute_reply": "2021-11-05T21:38:38.102142Z",
     "shell.execute_reply.started": "2021-11-05T21:38:38.092141Z"
    }
   },
   "outputs": [
    {
     "data": {
      "text/plain": [
       "'CHAMPION PRODUCTS <CH> APPROVES STOCK SPLIT ROCHESTER, N.Y., Feb 26 - Champion Products Inc said its board of directors approved a two-for-one stock split of its common shares for shareholders of record as of April 1, 1987. The company also said its board voted to recommend to shareholders at the annual meeting April 23 an increase in the authorized capital stock from five mln to 25 mln shares. Reuter'"
      ]
     },
     "execution_count": 18,
     "metadata": {},
     "output_type": "execute_result"
    }
   ],
   "source": [
    "df.loc[8].text"
   ]
  },
  {
   "cell_type": "code",
   "execution_count": 19,
   "metadata": {
    "execution": {
     "iopub.execute_input": "2021-11-05T21:38:38.107141Z",
     "iopub.status.busy": "2021-11-05T21:38:38.106142Z",
     "iopub.status.idle": "2021-11-05T21:38:38.136142Z",
     "shell.execute_reply": "2021-11-05T21:38:38.133151Z",
     "shell.execute_reply.started": "2021-11-05T21:38:38.107141Z"
    }
   },
   "outputs": [
    {
     "data": {
      "text/plain": [
       "'blank'"
      ]
     },
     "execution_count": 19,
     "metadata": {},
     "output_type": "execute_result"
    }
   ],
   "source": [
    "df.loc[1003].topic"
   ]
  },
  {
   "cell_type": "code",
   "execution_count": 20,
   "metadata": {
    "execution": {
     "iopub.execute_input": "2021-11-05T21:38:38.140142Z",
     "iopub.status.busy": "2021-11-05T21:38:38.138156Z",
     "iopub.status.idle": "2021-11-05T21:38:38.167139Z",
     "shell.execute_reply": "2021-11-05T21:38:38.165142Z",
     "shell.execute_reply.started": "2021-11-05T21:38:38.139145Z"
    }
   },
   "outputs": [
    {
     "data": {
      "text/plain": [
       "22999"
      ]
     },
     "execution_count": 20,
     "metadata": {},
     "output_type": "execute_result"
    }
   ],
   "source": [
    "len(df)"
   ]
  },
  {
   "cell_type": "markdown",
   "metadata": {},
   "source": [
    "## Loop through texts to remove stopwords, tokenize and lemmatize"
   ]
  },
  {
   "cell_type": "code",
   "execution_count": 21,
   "metadata": {
    "execution": {
     "iopub.execute_input": "2021-11-05T21:38:38.176141Z",
     "iopub.status.busy": "2021-11-05T21:38:38.171174Z",
     "iopub.status.idle": "2021-11-05T21:38:38.200144Z",
     "shell.execute_reply": "2021-11-05T21:38:38.197145Z",
     "shell.execute_reply.started": "2021-11-05T21:38:38.175140Z"
    }
   },
   "outputs": [],
   "source": [
    "stopwords_list = stopwords.words('english') + list(string.punctuation) + ['...']"
   ]
  },
  {
   "cell_type": "markdown",
   "metadata": {},
   "source": [
    "I think the stock symbols might be important for modeling, so this function will take them out, and I'll stick them at the end of text after tokenizing. If I tokenize the tickers, it will remove '<>'."
   ]
  },
  {
   "cell_type": "code",
   "execution_count": 22,
   "metadata": {
    "execution": {
     "iopub.execute_input": "2021-11-05T21:38:38.206142Z",
     "iopub.status.busy": "2021-11-05T21:38:38.205142Z",
     "iopub.status.idle": "2021-11-05T21:38:38.230141Z",
     "shell.execute_reply": "2021-11-05T21:38:38.228142Z",
     "shell.execute_reply.started": "2021-11-05T21:38:38.206142Z"
    }
   },
   "outputs": [],
   "source": [
    "def reserve_tickers(string):\n",
    "    tickers = re.findall(\"\\<\\w+>\", string)\n",
    "    string = re.sub(\"\\<\\w+>\", \"\", string)\n",
    "    \n",
    "    return tickers, string"
   ]
  },
  {
   "cell_type": "code",
   "execution_count": 23,
   "metadata": {
    "execution": {
     "iopub.execute_input": "2021-11-05T21:38:38.234140Z",
     "iopub.status.busy": "2021-11-05T21:38:38.233143Z",
     "iopub.status.idle": "2021-11-05T21:38:38.261139Z",
     "shell.execute_reply": "2021-11-05T21:38:38.259144Z",
     "shell.execute_reply.started": "2021-11-05T21:38:38.234140Z"
    }
   },
   "outputs": [],
   "source": [
    "def process_text(text):\n",
    "    \n",
    "    tickers, text = reserve_tickers(text)\n",
    "    \n",
    "    tokens = nltk.word_tokenize(text)\n",
    "    stopwords_removed = [token.lower() for token in tokens if token.lower() not in stopwords_list]\n",
    "    \n",
    "    # adding line to remove all tokens with numbers and punctuation\n",
    "    stopwords_punc_and_numbers_removed = [word for word in stopwords_removed if word.isalpha()]\n",
    "    \n",
    "    return stopwords_punc_and_numbers_removed + tickers\n",
    "\n",
    "# function to concatenate a list of words into a single, space-separated string (used in function below)\n",
    "def concat_words(list_of_words):\n",
    "\n",
    "    concat_words = ''\n",
    "    for word in list_of_words:\n",
    "        concat_words += word + ' '\n",
    "    return concat_words.strip()\n",
    "\n",
    "# function to lemmatize words and merge each text into a single, space-separated string\n",
    "\n",
    "lemm = WordNetLemmatizer()\n",
    "\n",
    "def make_lemma_and_concat(list_of_words):\n",
    "    # remove any NaN's\n",
    "    list_of_words = [i for i in list_of_words if i is not np.nan]\n",
    "    \n",
    "    # lemmatize each word\n",
    "    lemmatized_list = []\n",
    "    for idx, word in enumerate(list_of_words):\n",
    "        lemmatized_list.append(lemm.lemmatize(word))\n",
    "    \n",
    "    # make the list into a single string \n",
    "    concatenated_string = concat_words(lemmatized_list)\n",
    "    return concatenated_string"
   ]
  },
  {
   "cell_type": "markdown",
   "metadata": {},
   "source": [
    "## Prepare dataframe for modeling"
   ]
  },
  {
   "cell_type": "code",
   "execution_count": 24,
   "metadata": {
    "execution": {
     "iopub.execute_input": "2021-11-05T21:38:38.266140Z",
     "iopub.status.busy": "2021-11-05T21:38:38.264143Z",
     "iopub.status.idle": "2021-11-05T21:40:06.141141Z",
     "shell.execute_reply": "2021-11-05T21:40:06.140138Z",
     "shell.execute_reply.started": "2021-11-05T21:38:38.266140Z"
    }
   },
   "outputs": [
    {
     "name": "stdout",
     "output_type": "stream",
     "text": [
      "Finished line number 0\n",
      "Finished line number 3000\n",
      "Finished line number 6000\n",
      "Finished line number 9000\n",
      "Finished line number 12000\n",
      "Finished line number 15000\n",
      "Finished line number 18000\n",
      "Finished line number 21000\n"
     ]
    },
    {
     "data": {
      "text/html": [
       "<div>\n",
       "<style scoped>\n",
       "    .dataframe tbody tr th:only-of-type {\n",
       "        vertical-align: middle;\n",
       "    }\n",
       "\n",
       "    .dataframe tbody tr th {\n",
       "        vertical-align: top;\n",
       "    }\n",
       "\n",
       "    .dataframe thead th {\n",
       "        text-align: right;\n",
       "    }\n",
       "</style>\n",
       "<table border=\"1\" class=\"dataframe\">\n",
       "  <thead>\n",
       "    <tr style=\"text-align: right;\">\n",
       "      <th></th>\n",
       "      <th>topic</th>\n",
       "      <th>text</th>\n",
       "    </tr>\n",
       "  </thead>\n",
       "  <tbody>\n",
       "    <tr>\n",
       "      <th>0</th>\n",
       "      <td>other</td>\n",
       "      <td>bahia cocoa review salvador feb shower continu...</td>\n",
       "    </tr>\n",
       "    <tr>\n",
       "      <th>1</th>\n",
       "      <td>blank</td>\n",
       "      <td>standard oil form financial unit cleveland feb...</td>\n",
       "    </tr>\n",
       "    <tr>\n",
       "      <th>2</th>\n",
       "      <td>blank</td>\n",
       "      <td>texas commerce bancshares file plan houston fe...</td>\n",
       "    </tr>\n",
       "    <tr>\n",
       "      <th>3</th>\n",
       "      <td>blank</td>\n",
       "      <td>talking equity offer janie gabbett reuters los...</td>\n",
       "    </tr>\n",
       "    <tr>\n",
       "      <th>4</th>\n",
       "      <td>other</td>\n",
       "      <td>national average price reserve washington feb ...</td>\n",
       "    </tr>\n",
       "  </tbody>\n",
       "</table>\n",
       "</div>"
      ],
      "text/plain": [
       "   topic                                               text\n",
       "0  other  bahia cocoa review salvador feb shower continu...\n",
       "1  blank  standard oil form financial unit cleveland feb...\n",
       "2  blank  texas commerce bancshares file plan houston fe...\n",
       "3  blank  talking equity offer janie gabbett reuters los...\n",
       "4  other  national average price reserve washington feb ..."
      ]
     },
     "execution_count": 24,
     "metadata": {},
     "output_type": "execute_result"
    }
   ],
   "source": [
    "for i in range(len(df)):\n",
    "    processed_text = process_text(df['text'].loc[i])\n",
    "    txt = make_lemma_and_concat(processed_text)\n",
    "    df['text'].loc[i] = txt\n",
    "    if i % 3000 == 0:\n",
    "        print(f'Finished line number {i}')\n",
    "df.head()"
   ]
  },
  {
   "cell_type": "code",
   "execution_count": 25,
   "metadata": {
    "execution": {
     "iopub.execute_input": "2021-11-05T21:40:06.144138Z",
     "iopub.status.busy": "2021-11-05T21:40:06.143139Z",
     "iopub.status.idle": "2021-11-05T21:40:06.175140Z",
     "shell.execute_reply": "2021-11-05T21:40:06.172141Z",
     "shell.execute_reply.started": "2021-11-05T21:40:06.143139Z"
    }
   },
   "outputs": [
    {
     "data": {
      "text/html": [
       "<div>\n",
       "<style scoped>\n",
       "    .dataframe tbody tr th:only-of-type {\n",
       "        vertical-align: middle;\n",
       "    }\n",
       "\n",
       "    .dataframe tbody tr th {\n",
       "        vertical-align: top;\n",
       "    }\n",
       "\n",
       "    .dataframe thead th {\n",
       "        text-align: right;\n",
       "    }\n",
       "</style>\n",
       "<table border=\"1\" class=\"dataframe\">\n",
       "  <thead>\n",
       "    <tr style=\"text-align: right;\">\n",
       "      <th></th>\n",
       "      <th>topic</th>\n",
       "      <th>text</th>\n",
       "    </tr>\n",
       "  </thead>\n",
       "  <tbody>\n",
       "    <tr>\n",
       "      <th>0</th>\n",
       "      <td>other</td>\n",
       "      <td>bahia cocoa review salvador feb shower continu...</td>\n",
       "    </tr>\n",
       "    <tr>\n",
       "      <th>1</th>\n",
       "      <td>blank</td>\n",
       "      <td>standard oil form financial unit cleveland feb...</td>\n",
       "    </tr>\n",
       "    <tr>\n",
       "      <th>2</th>\n",
       "      <td>blank</td>\n",
       "      <td>texas commerce bancshares file plan houston fe...</td>\n",
       "    </tr>\n",
       "    <tr>\n",
       "      <th>3</th>\n",
       "      <td>blank</td>\n",
       "      <td>talking equity offer janie gabbett reuters los...</td>\n",
       "    </tr>\n",
       "    <tr>\n",
       "      <th>4</th>\n",
       "      <td>other</td>\n",
       "      <td>national average price reserve washington feb ...</td>\n",
       "    </tr>\n",
       "    <tr>\n",
       "      <th>5</th>\n",
       "      <td>other</td>\n",
       "      <td>argentine registration buenos aire feb argenti...</td>\n",
       "    </tr>\n",
       "    <tr>\n",
       "      <th>6</th>\n",
       "      <td>blank</td>\n",
       "      <td>red lion inn file plan offering portland feb r...</td>\n",
       "    </tr>\n",
       "    <tr>\n",
       "      <th>7</th>\n",
       "      <td>blank</td>\n",
       "      <td>usx debt dowgraded moody new york feb moody in...</td>\n",
       "    </tr>\n",
       "    <tr>\n",
       "      <th>8</th>\n",
       "      <td>earn</td>\n",
       "      <td>champion product approves stock split rocheste...</td>\n",
       "    </tr>\n",
       "    <tr>\n",
       "      <th>9</th>\n",
       "      <td>other</td>\n",
       "      <td>computer terminal system completes sale commac...</td>\n",
       "    </tr>\n",
       "  </tbody>\n",
       "</table>\n",
       "</div>"
      ],
      "text/plain": [
       "   topic                                               text\n",
       "0  other  bahia cocoa review salvador feb shower continu...\n",
       "1  blank  standard oil form financial unit cleveland feb...\n",
       "2  blank  texas commerce bancshares file plan houston fe...\n",
       "3  blank  talking equity offer janie gabbett reuters los...\n",
       "4  other  national average price reserve washington feb ...\n",
       "5  other  argentine registration buenos aire feb argenti...\n",
       "6  blank  red lion inn file plan offering portland feb r...\n",
       "7  blank  usx debt dowgraded moody new york feb moody in...\n",
       "8   earn  champion product approves stock split rocheste...\n",
       "9  other  computer terminal system completes sale commac..."
      ]
     },
     "execution_count": 25,
     "metadata": {},
     "output_type": "execute_result"
    }
   ],
   "source": [
    "df.head(10)"
   ]
  },
  {
   "cell_type": "code",
   "execution_count": 27,
   "metadata": {
    "execution": {
     "iopub.execute_input": "2021-11-05T21:40:44.787051Z",
     "iopub.status.busy": "2021-11-05T21:40:44.786053Z",
     "iopub.status.idle": "2021-11-05T21:40:44.805058Z",
     "shell.execute_reply": "2021-11-05T21:40:44.804051Z",
     "shell.execute_reply.started": "2021-11-05T21:40:44.787051Z"
    }
   },
   "outputs": [
    {
     "data": {
      "text/plain": [
       "'standard oil form financial unit cleveland feb standard oil co bp north america inc said plan form venture manage money market borrowing investment activity company bp north america subsidiary british petroleum co plc also owns pct interest standard oil venture called financial trading operated standard oil oversight joint management committee reuter <SRD> <BP>'"
      ]
     },
     "execution_count": 27,
     "metadata": {},
     "output_type": "execute_result"
    }
   ],
   "source": [
    "df.iloc[1].text"
   ]
  },
  {
   "cell_type": "code",
   "execution_count": 28,
   "metadata": {
    "execution": {
     "iopub.execute_input": "2021-11-05T21:41:40.559623Z",
     "iopub.status.busy": "2021-11-05T21:41:40.558623Z",
     "iopub.status.idle": "2021-11-05T21:41:40.578623Z",
     "shell.execute_reply": "2021-11-05T21:41:40.576620Z",
     "shell.execute_reply.started": "2021-11-05T21:41:40.559623Z"
    }
   },
   "outputs": [
    {
     "data": {
      "text/plain": [
       "22999"
      ]
     },
     "execution_count": 28,
     "metadata": {},
     "output_type": "execute_result"
    }
   ],
   "source": [
    "len(df)"
   ]
  },
  {
   "cell_type": "code",
   "execution_count": 29,
   "metadata": {
    "execution": {
     "iopub.execute_input": "2021-11-05T21:44:21.171826Z",
     "iopub.status.busy": "2021-11-05T21:44:21.170825Z",
     "iopub.status.idle": "2021-11-05T21:44:21.754825Z",
     "shell.execute_reply": "2021-11-05T21:44:21.753825Z",
     "shell.execute_reply.started": "2021-11-05T21:44:21.170825Z"
    }
   },
   "outputs": [],
   "source": [
    "df.to_csv('data_files/text_processed.csv')"
   ]
  },
  {
   "cell_type": "code",
   "execution_count": null,
   "metadata": {},
   "outputs": [],
   "source": []
  }
 ],
 "metadata": {
  "kernelspec": {
   "display_name": "Python 3",
   "language": "python",
   "name": "python3"
  },
  "language_info": {
   "codemirror_mode": {
    "name": "ipython",
    "version": 3
   },
   "file_extension": ".py",
   "mimetype": "text/x-python",
   "name": "python",
   "nbconvert_exporter": "python",
   "pygments_lexer": "ipython3",
   "version": "3.6.9"
  }
 },
 "nbformat": 4,
 "nbformat_minor": 4
}
