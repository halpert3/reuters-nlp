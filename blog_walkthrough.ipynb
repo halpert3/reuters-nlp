{
 "cells": [
  {
   "cell_type": "markdown",
   "metadata": {},
   "source": [
    "You may need to install it with  \n",
    "$ easy_install beautifulsoup4\n",
    "\n",
    "$ pip install beautifulsoup4"
   ]
  },
  {
   "cell_type": "code",
   "execution_count": 1,
   "metadata": {
    "execution": {
     "iopub.execute_input": "2022-02-24T22:54:21.557734Z",
     "iopub.status.busy": "2022-02-24T22:54:21.557734Z",
     "iopub.status.idle": "2022-02-24T22:54:26.291841Z",
     "shell.execute_reply": "2022-02-24T22:54:26.289829Z",
     "shell.execute_reply.started": "2022-02-24T22:54:21.557734Z"
    }
   },
   "outputs": [],
   "source": [
    "import pandas as pd\n",
    "import numpy as np\n",
    "from bs4 import BeautifulSoup\n",
    "# import os\n",
    "import requests"
   ]
  },
  {
   "cell_type": "code",
   "execution_count": 4,
   "metadata": {
    "execution": {
     "iopub.execute_input": "2022-02-23T02:31:55.495992Z",
     "iopub.status.busy": "2022-02-23T02:31:55.492994Z",
     "iopub.status.idle": "2022-02-23T02:31:55.541993Z",
     "shell.execute_reply": "2022-02-23T02:31:55.539992Z",
     "shell.execute_reply.started": "2022-02-23T02:31:55.495992Z"
    }
   },
   "outputs": [
    {
     "name": "stderr",
     "output_type": "stream",
     "text": [
      "C:\\Users\\halpe\\.conda\\envs\\learn-env\\lib\\site-packages\\bs4\\__init__.py:357: UserWarning: \"https://www.nytimes.com/\" looks like a URL. Beautiful Soup is not an HTTP client. You should probably use an HTTP client like requests to get the document behind the URL, and feed that document to Beautiful Soup.\n",
      "  ' that document to Beautiful Soup.' % decoded_markup\n"
     ]
    }
   ],
   "source": [
    "nyt = BeautifulSoup(\"https://www.nytimes.com/\", 'html.parser')"
   ]
  },
  {
   "cell_type": "code",
   "execution_count": 6,
   "metadata": {
    "execution": {
     "iopub.execute_input": "2022-02-23T02:34:09.147552Z",
     "iopub.status.busy": "2022-02-23T02:34:09.147552Z",
     "iopub.status.idle": "2022-02-23T02:34:09.560547Z",
     "shell.execute_reply": "2022-02-23T02:34:09.558547Z",
     "shell.execute_reply.started": "2022-02-23T02:34:09.147552Z"
    }
   },
   "outputs": [
    {
     "name": "stderr",
     "output_type": "stream",
     "text": [
      "C:\\Users\\halpe\\.conda\\envs\\learn-env\\lib\\site-packages\\urllib3\\connectionpool.py:847: InsecureRequestWarning: Unverified HTTPS request is being made. Adding certificate verification is strongly advised. See: https://urllib3.readthedocs.io/en/latest/advanced-usage.html#ssl-warnings\n",
      "  InsecureRequestWarning)\n"
     ]
    }
   ],
   "source": [
    "nyt_get_request = requests.get(\"https://www.nytimes.com/\", verify=False)"
   ]
  },
  {
   "cell_type": "code",
   "execution_count": 14,
   "metadata": {
    "execution": {
     "iopub.execute_input": "2022-02-23T02:47:18.891074Z",
     "iopub.status.busy": "2022-02-23T02:47:18.890073Z",
     "iopub.status.idle": "2022-02-23T02:47:19.079076Z",
     "shell.execute_reply": "2022-02-23T02:47:19.077071Z",
     "shell.execute_reply.started": "2022-02-23T02:47:18.891074Z"
    }
   },
   "outputs": [],
   "source": [
    "nyt = BeautifulSoup(nyt_get_request.content, 'html.parser')"
   ]
  },
  {
   "cell_type": "markdown",
   "metadata": {},
   "source": [
    "From inspecting, all article titles are `h3`"
   ]
  },
  {
   "cell_type": "code",
   "execution_count": 9,
   "metadata": {
    "execution": {
     "iopub.execute_input": "2022-02-23T02:34:34.789494Z",
     "iopub.status.busy": "2022-02-23T02:34:34.788490Z",
     "iopub.status.idle": "2022-02-23T02:34:34.815486Z",
     "shell.execute_reply": "2022-02-23T02:34:34.813485Z",
     "shell.execute_reply.started": "2022-02-23T02:34:34.789494Z"
    }
   },
   "outputs": [
    {
     "data": {
      "text/plain": [
       "<h3 class=\"css-w4bgn6 ee0hn7b0\" color=\"primary\" size=\"300\">U.S. and Allies Pause Pipeline and Cut Off Bank Financing</h3>"
      ]
     },
     "execution_count": 9,
     "metadata": {},
     "output_type": "execute_result"
    }
   ],
   "source": [
    "nyt.h3"
   ]
  },
  {
   "cell_type": "code",
   "execution_count": 10,
   "metadata": {
    "execution": {
     "iopub.execute_input": "2022-02-23T02:34:51.171486Z",
     "iopub.status.busy": "2022-02-23T02:34:51.170486Z",
     "iopub.status.idle": "2022-02-23T02:34:51.208487Z",
     "shell.execute_reply": "2022-02-23T02:34:51.207489Z",
     "shell.execute_reply.started": "2022-02-23T02:34:51.171486Z"
    }
   },
   "outputs": [
    {
     "data": {
      "text/plain": [
       "[<h3 class=\"css-w4bgn6 ee0hn7b0\" color=\"primary\" size=\"300\">U.S. and Allies Pause Pipeline and Cut Off Bank Financing</h3>,\n",
       " <h3 class=\"css-1dc6422 ee0hn7b0\" color=\"primary\" size=\"500\">Will Biden’s Sanctions Hold Putin Back in Ukraine?</h3>,\n",
       " <h3 class=\"css-1dc6422 ee0hn7b0\" color=\"primary\" size=\"500\">Analysis: The Limits of a Europe Whole and Free</h3>]"
      ]
     },
     "execution_count": 10,
     "metadata": {},
     "output_type": "execute_result"
    }
   ],
   "source": [
    "headlines = nyt.findAll('h3')\n",
    "headlines[0:3]"
   ]
  },
  {
   "cell_type": "markdown",
   "metadata": {},
   "source": [
    "It's a bit of a mess when I just want the text. I can isolate it like this. "
   ]
  },
  {
   "cell_type": "code",
   "execution_count": 15,
   "metadata": {
    "execution": {
     "iopub.execute_input": "2022-02-23T02:55:48.834870Z",
     "iopub.status.busy": "2022-02-23T02:55:48.832885Z",
     "iopub.status.idle": "2022-02-23T02:55:48.867849Z",
     "shell.execute_reply": "2022-02-23T02:55:48.866848Z",
     "shell.execute_reply.started": "2022-02-23T02:55:48.834870Z"
    }
   },
   "outputs": [
    {
     "data": {
      "text/plain": [
       "'U.S. and Allies Pause Pipeline and Cut Off Bank Financing'"
      ]
     },
     "execution_count": 15,
     "metadata": {},
     "output_type": "execute_result"
    }
   ],
   "source": [
    "headlines[0].text"
   ]
  },
  {
   "cell_type": "code",
   "execution_count": 16,
   "metadata": {
    "execution": {
     "iopub.execute_input": "2022-02-23T02:55:50.688865Z",
     "iopub.status.busy": "2022-02-23T02:55:50.688865Z",
     "iopub.status.idle": "2022-02-23T02:55:50.749865Z",
     "shell.execute_reply": "2022-02-23T02:55:50.747856Z",
     "shell.execute_reply.started": "2022-02-23T02:55:50.688865Z"
    }
   },
   "outputs": [],
   "source": [
    "all_headlines = [headline.text for headline in headlines]"
   ]
  },
  {
   "cell_type": "code",
   "execution_count": 17,
   "metadata": {
    "execution": {
     "iopub.execute_input": "2022-02-23T02:55:53.847854Z",
     "iopub.status.busy": "2022-02-23T02:55:53.847854Z",
     "iopub.status.idle": "2022-02-23T02:55:53.862853Z",
     "shell.execute_reply": "2022-02-23T02:55:53.861854Z",
     "shell.execute_reply.started": "2022-02-23T02:55:53.847854Z"
    }
   },
   "outputs": [
    {
     "data": {
      "text/plain": [
       "['U.S. and Allies Pause Pipeline and Cut Off Bank Financing',\n",
       " 'Will Biden’s Sanctions Hold Putin Back in Ukraine?',\n",
       " 'Analysis: The Limits of a Europe Whole and Free',\n",
       " 'President Vladimir Putin demanded Ukraine recognize Russia’s claim to Crimea and relinquish advanced weapons.']"
      ]
     },
     "execution_count": 17,
     "metadata": {},
     "output_type": "execute_result"
    }
   ],
   "source": [
    "all_headlines[0:4]"
   ]
  },
  {
   "cell_type": "markdown",
   "metadata": {},
   "source": [
    "# NLP Project"
   ]
  },
  {
   "cell_type": "code",
   "execution_count": 2,
   "metadata": {
    "execution": {
     "iopub.execute_input": "2022-02-24T23:34:10.014344Z",
     "iopub.status.busy": "2022-02-24T23:34:10.004338Z",
     "iopub.status.idle": "2022-02-24T23:34:10.188312Z",
     "shell.execute_reply": "2022-02-24T23:34:10.187318Z",
     "shell.execute_reply.started": "2022-02-24T23:34:10.013330Z"
    }
   },
   "outputs": [
    {
     "data": {
      "text/plain": [
       "'<!DOCTYPE lewis SYSTEM \"lewis.dtd\">\\n<REUTERS TOPICS=\"YES\" LEWISSPLIT=\"TRAIN\" CGISPLIT=\"TRAINING-SET\" OLDID=\"5544\" NEWID=\"1\">\\n<DATE>26-FEB-1987 15:01:01.79</DATE>\\n<TOPICS><D>cocoa</D></TOPICS>\\n<PLACES><D>el-salvador</D><D>usa</D><D>uruguay</D></PLACES>\\n<PEOPLE></PEOPLE>\\n<ORGS></ORGS>\\n<EXCHANGES></EXCHANGES>\\n<COMPANIES></COMPANIES>\\n<UNKNOWN> \\n&#5;&#5;&#5;C T\\n&#22;&#22;&#1;f0704&#31;reute\\nu f BC-BAHIA-COCOA-REVIEW   02-26 0105</UNKNOWN>\\n<TEXT>&#2;\\n<TITLE>BAHIA COCOA REVIEW</TITLE>\\n<DATELINE>    SALVADOR, Feb 26 - </DATELINE><BODY>Showers continued throughout the week in\\nthe Bahia cocoa zone, alleviating the drought since early\\nJanuary and improving prospects for the coming temporao,\\nalthough normal humidity levels have not been restored,\\nComissaria Smith said in its weekly review.\\n    The dry period means the temporao will be late this year.\\n    Arrivals for the week ended February 22 were 155,221 bags\\nof 60 kilos making a cumulative total for the season of 5.93\\nmln against 5.81 at the sa'"
      ]
     },
     "execution_count": 2,
     "metadata": {},
     "output_type": "execute_result"
    }
   ],
   "source": [
    "f = open('data_files/reut2-000.sgm', encoding='utf-8', errors='ignore')\n",
    "dataFile = f.read()\n",
    "dataFile[0:1000]"
   ]
  },
  {
   "cell_type": "code",
   "execution_count": 6,
   "metadata": {
    "execution": {
     "iopub.execute_input": "2022-02-24T23:43:53.785559Z",
     "iopub.status.busy": "2022-02-24T23:43:53.785559Z",
     "iopub.status.idle": "2022-02-24T23:43:54.559528Z",
     "shell.execute_reply": "2022-02-24T23:43:54.558527Z",
     "shell.execute_reply.started": "2022-02-24T23:43:53.785559Z"
    }
   },
   "outputs": [
    {
     "name": "stdout",
     "output_type": "stream",
     "text": [
      "<!DOCTYPE lewis SYSTEM \"lewis.dtd\">\n",
      "<html>\n",
      " <body>\n",
      "  <reuters cgisplit=\"TRAINING-SET\" lewissplit=\"TRAIN\" newid=\"1\" oldid=\"5544\" topics=\"YES\">\n",
      "   <date>\n",
      "    26-FEB-1987 15:01:01.79\n",
      "   </date>\n",
      "   <topics>\n",
      "    <d>\n",
      "     cocoa\n",
      "    </d>\n",
      "   </topics>\n",
      "   <places>\n",
      "    <d>\n",
      "     el-salvador\n",
      "    </d>\n",
      "    <d>\n",
      "  \n"
     ]
    }
   ],
   "source": [
    "soup = BeautifulSoup(dataFile, 'lxml')\n",
    "content = soup.prettify()\n",
    "print(content[0:300])"
   ]
  },
  {
   "cell_type": "code",
   "execution_count": null,
   "metadata": {},
   "outputs": [],
   "source": []
  },
  {
   "cell_type": "code",
   "execution_count": null,
   "metadata": {},
   "outputs": [],
   "source": []
  },
  {
   "cell_type": "code",
   "execution_count": null,
   "metadata": {},
   "outputs": [],
   "source": []
  }
 ],
 "metadata": {
  "kernelspec": {
   "display_name": "Python 3",
   "language": "python",
   "name": "python3"
  },
  "language_info": {
   "codemirror_mode": {
    "name": "ipython",
    "version": 3
   },
   "file_extension": ".py",
   "mimetype": "text/x-python",
   "name": "python",
   "nbconvert_exporter": "python",
   "pygments_lexer": "ipython3",
   "version": "3.6.9"
  }
 },
 "nbformat": 4,
 "nbformat_minor": 4
}
