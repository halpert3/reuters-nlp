{
 "cells": [
  {
   "cell_type": "markdown",
   "metadata": {},
   "source": [
    "You may need to install it with  \n",
    "$ easy_install beautifulsoup4\n",
    "\n",
    "$ pip install beautifulsoup4"
   ]
  },
  {
   "cell_type": "code",
   "execution_count": 39,
   "metadata": {
    "execution": {
     "iopub.execute_input": "2022-02-17T21:46:25.505164Z",
     "iopub.status.busy": "2022-02-17T21:46:25.505164Z",
     "iopub.status.idle": "2022-02-17T21:46:26.360154Z",
     "shell.execute_reply": "2022-02-17T21:46:26.359152Z",
     "shell.execute_reply.started": "2022-02-17T21:46:25.505164Z"
    }
   },
   "outputs": [],
   "source": [
    "import pandas as pd\n",
    "import numpy as np\n",
    "from bs4 import BeautifulSoup\n",
    "import os\n",
    "import requests"
   ]
  },
  {
   "cell_type": "code",
   "execution_count": 2,
   "metadata": {
    "execution": {
     "iopub.execute_input": "2022-02-17T21:28:13.362529Z",
     "iopub.status.busy": "2022-02-17T21:28:13.362529Z",
     "iopub.status.idle": "2022-02-17T21:28:13.424456Z",
     "shell.execute_reply": "2022-02-17T21:28:13.423489Z",
     "shell.execute_reply.started": "2022-02-17T21:28:13.362529Z"
    }
   },
   "outputs": [],
   "source": [
    "f = open('data_files/reut2-000.sgm', encoding='utf-8', errors='ignore')\n",
    "dataFile = f.read()"
   ]
  },
  {
   "cell_type": "code",
   "execution_count": 3,
   "metadata": {
    "execution": {
     "iopub.execute_input": "2022-02-17T21:28:13.426454Z",
     "iopub.status.busy": "2022-02-17T21:28:13.425452Z",
     "iopub.status.idle": "2022-02-17T21:28:13.441453Z",
     "shell.execute_reply": "2022-02-17T21:28:13.439450Z",
     "shell.execute_reply.started": "2022-02-17T21:28:13.426454Z"
    }
   },
   "outputs": [
    {
     "data": {
      "text/plain": [
       "str"
      ]
     },
     "execution_count": 3,
     "metadata": {},
     "output_type": "execute_result"
    }
   ],
   "source": [
    "type(dataFile)"
   ]
  },
  {
   "cell_type": "markdown",
   "metadata": {},
   "source": [
    "Datafile is a string\n"
   ]
  },
  {
   "cell_type": "markdown",
   "metadata": {},
   "source": [
    "The \"SGM\" in the .sgm file extension stands for Standard Generalized Markup Language. This is coding language technology for generating digital documents, and this is commonly implemented into applications as a digital information sharing standard."
   ]
  },
  {
   "cell_type": "code",
   "execution_count": 4,
   "metadata": {
    "execution": {
     "iopub.execute_input": "2022-02-17T21:28:13.443454Z",
     "iopub.status.busy": "2022-02-17T21:28:13.442451Z",
     "iopub.status.idle": "2022-02-17T21:28:13.456780Z",
     "shell.execute_reply": "2022-02-17T21:28:13.454763Z",
     "shell.execute_reply.started": "2022-02-17T21:28:13.443454Z"
    }
   },
   "outputs": [
    {
     "data": {
      "text/plain": [
       "'<!DOCTYPE lewis SYSTEM \"lewis.dtd\">\\n<REUTERS TOPICS=\"YES\" LEWISSPLIT=\"TRAIN\" CGISPLIT=\"TRAINING-SET\" OLDID=\"5544\" NEWID=\"1\">\\n<DATE>26-FEB-1987 15:01:01.79</DATE>\\n<TOPICS><D>cocoa</D></TOPICS>\\n<PLACES><D>el-salvador</D><D>usa</D><D>uruguay</D></PLACES>\\n<PEOPLE></PEOPLE>\\n<ORGS></ORGS>\\n<EXCHANGES></EXCHANGES>\\n<COMPANIES></COMPANIES>\\n<UNKNOWN> \\n&#5;&#5;&#5;C T\\n&#22;&#22;&#1;f0704&#31;reute\\nu f BC-BAHIA-COCOA-REVIEW   02-26 0105</UNKNOWN>\\n<TEXT>&#2;\\n<TITLE>BAHIA COCOA REVIEW</TITLE>\\n<DATELINE>    SALVADOR, Feb 26 - </DATELINE><BODY>Showers continued throughout the week in\\nthe Bahia cocoa zone, alleviating the drought since early\\nJanuary and improving prospects for the coming temporao,\\nalthough normal humidity levels have not been restored,\\nComissaria Smith said in its weekly review.\\n    The dry period means the temporao will be late this year.\\n    Arrivals for the week ended February 22 were 155,221 bags\\nof 60 kilos making a cumulative total for the season of 5.93\\nmln against 5.81 at the sa'"
      ]
     },
     "execution_count": 4,
     "metadata": {},
     "output_type": "execute_result"
    }
   ],
   "source": [
    "dataFile[0:1000]"
   ]
  },
  {
   "cell_type": "markdown",
   "metadata": {},
   "source": [
    "It's hard to read, but you can recognize some html tags in there.  \n",
    "\n",
    "They're custom tags like `<COMPANIES>`, `<TOPICS>`,  `<EXCHANGES>`"
   ]
  },
  {
   "cell_type": "markdown",
   "metadata": {},
   "source": [
    "Even though they're not standard tags, they're with html angle brackets, so beautiful soup should work.  \n",
    "Could me an XML file too.  \n",
    "\n",
    "There's some nuances between XML and HTML parsing. Check the documentation for details. "
   ]
  },
  {
   "cell_type": "code",
   "execution_count": 5,
   "metadata": {
    "execution": {
     "iopub.execute_input": "2022-02-17T21:28:13.459775Z",
     "iopub.status.busy": "2022-02-17T21:28:13.459775Z",
     "iopub.status.idle": "2022-02-17T21:28:14.091945Z",
     "shell.execute_reply": "2022-02-17T21:28:14.090940Z",
     "shell.execute_reply.started": "2022-02-17T21:28:13.459775Z"
    }
   },
   "outputs": [],
   "source": [
    "soup = BeautifulSoup(dataFile, 'html.parser')"
   ]
  },
  {
   "cell_type": "code",
   "execution_count": 6,
   "metadata": {
    "execution": {
     "iopub.execute_input": "2022-02-17T21:28:14.092944Z",
     "iopub.status.busy": "2022-02-17T21:28:14.092944Z",
     "iopub.status.idle": "2022-02-17T21:28:14.107941Z",
     "shell.execute_reply": "2022-02-17T21:28:14.106939Z",
     "shell.execute_reply.started": "2022-02-17T21:28:14.092944Z"
    }
   },
   "outputs": [
    {
     "data": {
      "text/plain": [
       "bs4.BeautifulSoup"
      ]
     },
     "execution_count": 6,
     "metadata": {},
     "output_type": "execute_result"
    }
   ],
   "source": [
    "type(soup)"
   ]
  },
  {
   "cell_type": "markdown",
   "metadata": {},
   "source": [
    "It's a bs4 object"
   ]
  },
  {
   "cell_type": "markdown",
   "metadata": {},
   "source": [
    "Turn it into a string with `get_text()`. Note that this gets just the text and ignores all the html tags.\n"
   ]
  },
  {
   "cell_type": "code",
   "execution_count": 7,
   "metadata": {
    "execution": {
     "iopub.execute_input": "2022-02-17T21:28:14.109941Z",
     "iopub.status.busy": "2022-02-17T21:28:14.109941Z",
     "iopub.status.idle": "2022-02-17T21:28:14.172959Z",
     "shell.execute_reply": "2022-02-17T21:28:14.170947Z",
     "shell.execute_reply.started": "2022-02-17T21:28:14.109941Z"
    }
   },
   "outputs": [],
   "source": [
    "words = soup.get_text()"
   ]
  },
  {
   "cell_type": "code",
   "execution_count": 8,
   "metadata": {
    "execution": {
     "iopub.execute_input": "2022-02-17T21:28:14.175942Z",
     "iopub.status.busy": "2022-02-17T21:28:14.174947Z",
     "iopub.status.idle": "2022-02-17T21:28:14.189973Z",
     "shell.execute_reply": "2022-02-17T21:28:14.186940Z",
     "shell.execute_reply.started": "2022-02-17T21:28:14.175942Z"
    }
   },
   "outputs": [
    {
     "data": {
      "text/plain": [
       "str"
      ]
     },
     "execution_count": 8,
     "metadata": {},
     "output_type": "execute_result"
    }
   ],
   "source": [
    "type(words)"
   ]
  },
  {
   "cell_type": "code",
   "execution_count": 9,
   "metadata": {
    "execution": {
     "iopub.execute_input": "2022-02-17T21:28:14.195940Z",
     "iopub.status.busy": "2022-02-17T21:28:14.194944Z",
     "iopub.status.idle": "2022-02-17T21:28:14.203944Z",
     "shell.execute_reply": "2022-02-17T21:28:14.202940Z",
     "shell.execute_reply.started": "2022-02-17T21:28:14.195940Z"
    }
   },
   "outputs": [
    {
     "data": {
      "text/plain": [
       "'\\n\\n26-FEB-1987 15:01:01.79\\ncocoa\\nel-salvadorusauruguay\\n\\n\\n\\n\\n \\n\\x05\\x05\\x05C T\\n\\x16\\x16\\x01f0704\\x1freute\\nu f BC-BAHIA-COCOA-REVIEW   02-26 0105\\n\\x02\\nBAHIA COCOA REVIEW\\n    SALVADOR, Feb 26 - Showers continued throughout the week in\\nthe Bahia cocoa zone, alleviating the drought since early\\nJanuary and improving prospects for the coming temporao,\\nalthough normal humidity levels have not been restored,\\nComissaria Smith said in its weekly review.\\n    The dry period means the temporao will be late this year.\\n    Arrivals for the week ended February 22 were 155,221 bags\\nof 60 kilos making a cumulative total for the season of 5.93\\nmln against 5.81 at the same stage last year. Again it seems\\nthat cocoa delivered earlier on consignment was included in the\\narrivals figures.\\n    Comissaria Smith said there is still some doubt as to how\\nmuch old crop cocoa is still available as harvesting has\\npractically come to an end. With total Bahia crop estimates\\naround 6.4 mln bags and sales standing at almost 6.2 mln there\\nare a few'"
      ]
     },
     "execution_count": 9,
     "metadata": {},
     "output_type": "execute_result"
    }
   ],
   "source": [
    "words[0:1000]"
   ]
  },
  {
   "cell_type": "markdown",
   "metadata": {},
   "source": [
    "You can also make it look nicer with `prettify()` and see where the hmtl tags are to help you to see the structure of the doc better.\n"
   ]
  },
  {
   "cell_type": "code",
   "execution_count": 10,
   "metadata": {
    "execution": {
     "iopub.execute_input": "2022-02-17T21:28:14.206942Z",
     "iopub.status.busy": "2022-02-17T21:28:14.205942Z",
     "iopub.status.idle": "2022-02-17T21:28:14.488347Z",
     "shell.execute_reply": "2022-02-17T21:28:14.484458Z",
     "shell.execute_reply.started": "2022-02-17T21:28:14.206942Z"
    }
   },
   "outputs": [],
   "source": [
    "pretty_words = soup.prettify()"
   ]
  },
  {
   "cell_type": "code",
   "execution_count": 11,
   "metadata": {
    "execution": {
     "iopub.execute_input": "2022-02-17T21:28:14.494352Z",
     "iopub.status.busy": "2022-02-17T21:28:14.493348Z",
     "iopub.status.idle": "2022-02-17T21:28:14.547341Z",
     "shell.execute_reply": "2022-02-17T21:28:14.546338Z",
     "shell.execute_reply.started": "2022-02-17T21:28:14.494352Z"
    }
   },
   "outputs": [
    {
     "name": "stdout",
     "output_type": "stream",
     "text": [
      "\n",
      " <text>\n",
      "  \u0002\n",
      "  <title>\n",
      "   BAHIA COCOA REVIEW\n",
      "  </title>\n",
      "  <dateline>\n",
      "   SALVADOR, Feb 26 -\n",
      "  </dateline>\n",
      "  <body>\n",
      "   Showers continued throughout the week in\n",
      "the Bahia cocoa zone, alleviating the drought since early\n",
      "January and improving prospects for the coming temporao,\n",
      "although normal humidity levels have not been restored,\n",
      "Comissaria Smith said in its weekly review.\n",
      "    The dry period means the temporao will be late this year.\n",
      "    Arrivals for the week ended February 22 were 155,221 bags\n",
      "of 60 kilos making a cumulative total for the season of 5.93\n",
      "mln against 5.81 at the same stage last year. Again it seems\n",
      "\n"
     ]
    }
   ],
   "source": [
    "print(pretty_words[481:1100])"
   ]
  },
  {
   "cell_type": "code",
   "execution_count": 12,
   "metadata": {
    "execution": {
     "iopub.execute_input": "2022-02-17T21:28:14.550338Z",
     "iopub.status.busy": "2022-02-17T21:28:14.549340Z",
     "iopub.status.idle": "2022-02-17T21:28:14.563336Z",
     "shell.execute_reply": "2022-02-17T21:28:14.562359Z",
     "shell.execute_reply.started": "2022-02-17T21:28:14.550338Z"
    }
   },
   "outputs": [
    {
     "data": {
      "text/plain": [
       "str"
      ]
     },
     "execution_count": 12,
     "metadata": {},
     "output_type": "execute_result"
    }
   ],
   "source": [
    "type(pretty_words)"
   ]
  },
  {
   "cell_type": "markdown",
   "metadata": {},
   "source": [
    "Trying XML"
   ]
  },
  {
   "cell_type": "code",
   "execution_count": 13,
   "metadata": {
    "execution": {
     "iopub.execute_input": "2022-02-17T21:28:14.565333Z",
     "iopub.status.busy": "2022-02-17T21:28:14.564335Z",
     "iopub.status.idle": "2022-02-17T21:28:15.043311Z",
     "shell.execute_reply": "2022-02-17T21:28:15.042462Z",
     "shell.execute_reply.started": "2022-02-17T21:28:14.565333Z"
    }
   },
   "outputs": [],
   "source": [
    "soupx = BeautifulSoup(dataFile, 'lxml')"
   ]
  },
  {
   "cell_type": "code",
   "execution_count": 14,
   "metadata": {
    "execution": {
     "iopub.execute_input": "2022-02-17T21:28:15.044307Z",
     "iopub.status.busy": "2022-02-17T21:28:15.044307Z",
     "iopub.status.idle": "2022-02-17T21:28:15.075296Z",
     "shell.execute_reply": "2022-02-17T21:28:15.074297Z",
     "shell.execute_reply.started": "2022-02-17T21:28:15.044307Z"
    }
   },
   "outputs": [],
   "source": [
    "wordsx = soupx.get_text()"
   ]
  },
  {
   "cell_type": "code",
   "execution_count": 15,
   "metadata": {
    "execution": {
     "iopub.execute_input": "2022-02-17T21:28:15.077297Z",
     "iopub.status.busy": "2022-02-17T21:28:15.077297Z",
     "iopub.status.idle": "2022-02-17T21:28:15.108297Z",
     "shell.execute_reply": "2022-02-17T21:28:15.107299Z",
     "shell.execute_reply.started": "2022-02-17T21:28:15.077297Z"
    }
   },
   "outputs": [
    {
     "data": {
      "text/plain": [
       "False"
      ]
     },
     "execution_count": 15,
     "metadata": {},
     "output_type": "execute_result"
    }
   ],
   "source": [
    "words == wordsx"
   ]
  },
  {
   "cell_type": "code",
   "execution_count": 16,
   "metadata": {
    "execution": {
     "iopub.execute_input": "2022-02-17T21:28:15.111296Z",
     "iopub.status.busy": "2022-02-17T21:28:15.110294Z",
     "iopub.status.idle": "2022-02-17T21:28:15.361256Z",
     "shell.execute_reply": "2022-02-17T21:28:15.358370Z",
     "shell.execute_reply.started": "2022-02-17T21:28:15.111296Z"
    }
   },
   "outputs": [],
   "source": [
    "pretty_wordsx = soupx.prettify()"
   ]
  },
  {
   "cell_type": "code",
   "execution_count": 17,
   "metadata": {
    "execution": {
     "iopub.execute_input": "2022-02-17T21:28:15.366265Z",
     "iopub.status.busy": "2022-02-17T21:28:15.365317Z",
     "iopub.status.idle": "2022-02-17T21:28:15.391736Z",
     "shell.execute_reply": "2022-02-17T21:28:15.389744Z",
     "shell.execute_reply.started": "2022-02-17T21:28:15.365317Z"
    }
   },
   "outputs": [
    {
     "name": "stdout",
     "output_type": "stream",
     "text": [
      "<!DOCTYPE lewis SYSTEM \"lewis.dtd\">\n",
      "<html>\n",
      " <body>\n",
      "  <reuters cgisplit=\"TRAINING-SET\" lewissplit=\"TR\n"
     ]
    }
   ],
   "source": [
    "print(pretty_wordsx[:100])"
   ]
  },
  {
   "cell_type": "code",
   "execution_count": 18,
   "metadata": {
    "execution": {
     "iopub.execute_input": "2022-02-17T21:28:15.393737Z",
     "iopub.status.busy": "2022-02-17T21:28:15.392734Z",
     "iopub.status.idle": "2022-02-17T21:28:15.406679Z",
     "shell.execute_reply": "2022-02-17T21:28:15.405660Z",
     "shell.execute_reply.started": "2022-02-17T21:28:15.393737Z"
    }
   },
   "outputs": [
    {
     "name": "stdout",
     "output_type": "stream",
     "text": [
      "<!DOCTYPE lewis SYSTEM \"lewis.dtd\">\n",
      "<reuters cgisplit=\"TRAINING-SET\" lewissplit=\"TRAIN\" newid=\"1\" ol\n"
     ]
    }
   ],
   "source": [
    "print(pretty_words[:100])"
   ]
  },
  {
   "cell_type": "markdown",
   "metadata": {},
   "source": [
    "### Starting with XML"
   ]
  },
  {
   "cell_type": "markdown",
   "metadata": {},
   "source": [
    "OK starting Over. It seems there is a slight difference between parsing as html vs. xml. Will re-do with XML"
   ]
  },
  {
   "cell_type": "code",
   "execution_count": 19,
   "metadata": {
    "execution": {
     "iopub.execute_input": "2022-02-17T21:28:15.408635Z",
     "iopub.status.busy": "2022-02-17T21:28:15.408635Z",
     "iopub.status.idle": "2022-02-17T21:28:15.848176Z",
     "shell.execute_reply": "2022-02-17T21:28:15.847644Z",
     "shell.execute_reply.started": "2022-02-17T21:28:15.408635Z"
    }
   },
   "outputs": [
    {
     "data": {
      "text/plain": [
       "bs4.BeautifulSoup"
      ]
     },
     "execution_count": 19,
     "metadata": {},
     "output_type": "execute_result"
    }
   ],
   "source": [
    "soup = BeautifulSoup(dataFile, 'lxml')\n",
    "type(soup)"
   ]
  },
  {
   "cell_type": "code",
   "execution_count": 20,
   "metadata": {
    "execution": {
     "iopub.execute_input": "2022-02-17T21:30:48.181941Z",
     "iopub.status.busy": "2022-02-17T21:30:48.181941Z",
     "iopub.status.idle": "2022-02-17T21:30:48.471938Z",
     "shell.execute_reply": "2022-02-17T21:30:48.470932Z",
     "shell.execute_reply.started": "2022-02-17T21:30:48.181941Z"
    }
   },
   "outputs": [],
   "source": [
    "content = soup.prettify()"
   ]
  },
  {
   "cell_type": "code",
   "execution_count": 22,
   "metadata": {
    "execution": {
     "iopub.execute_input": "2022-02-17T21:31:34.998640Z",
     "iopub.status.busy": "2022-02-17T21:31:34.998640Z",
     "iopub.status.idle": "2022-02-17T21:31:35.006641Z",
     "shell.execute_reply": "2022-02-17T21:31:35.005638Z",
     "shell.execute_reply.started": "2022-02-17T21:31:34.998640Z"
    }
   },
   "outputs": [
    {
     "name": "stdout",
     "output_type": "stream",
     "text": [
      "<!DOCTYPE lewis SYSTEM \"lewis.dtd\">\n",
      "<html>\n",
      " <body>\n",
      "  <reuters cgisplit=\"TRAINING-SET\" lewissplit=\"TRAIN\" newid=\"1\" oldid=\"5544\" topics=\"YES\">\n",
      "   <date>\n",
      "    26-FEB-1987 15:01:01.79\n",
      "   </date>\n",
      "   <topics>\n",
      "    <d>\n",
      "     cocoa\n",
      "    </d>\n",
      "   </topics>\n",
      "   <places>\n",
      "    <d>\n",
      "     el-salvador\n",
      "    </d>\n",
      "    <d>\n",
      "     usa\n",
      "    </d>\n",
      "    <d>\n",
      "     uruguay\n",
      "    </d>\n",
      "   </places>\n",
      "   <people>\n",
      "   </people>\n",
      "   <orgs>\n",
      "   </orgs>\n",
      "   <exchanges>\n",
      "   </exchanges>\n",
      "   <companies>\n",
      "   </companies>\n",
      "   <unknown>\n",
      "    C T\n",
      "f0704reute\n",
      "u\n"
     ]
    }
   ],
   "source": [
    "print(content[0:500])"
   ]
  },
  {
   "cell_type": "code",
   "execution_count": 25,
   "metadata": {
    "execution": {
     "iopub.execute_input": "2022-02-17T21:36:54.461600Z",
     "iopub.status.busy": "2022-02-17T21:36:54.459604Z",
     "iopub.status.idle": "2022-02-17T21:36:54.483602Z",
     "shell.execute_reply": "2022-02-17T21:36:54.481603Z",
     "shell.execute_reply.started": "2022-02-17T21:36:54.460600Z"
    }
   },
   "outputs": [],
   "source": [
    "tag = soup.reuters"
   ]
  },
  {
   "cell_type": "code",
   "execution_count": 26,
   "metadata": {
    "execution": {
     "iopub.execute_input": "2022-02-17T21:36:55.122597Z",
     "iopub.status.busy": "2022-02-17T21:36:55.121604Z",
     "iopub.status.idle": "2022-02-17T21:36:55.146601Z",
     "shell.execute_reply": "2022-02-17T21:36:55.144603Z",
     "shell.execute_reply.started": "2022-02-17T21:36:55.122597Z"
    }
   },
   "outputs": [
    {
     "data": {
      "text/plain": [
       "bs4.element.Tag"
      ]
     },
     "execution_count": 26,
     "metadata": {},
     "output_type": "execute_result"
    }
   ],
   "source": [
    "type(tag)"
   ]
  },
  {
   "cell_type": "code",
   "execution_count": 27,
   "metadata": {
    "execution": {
     "iopub.execute_input": "2022-02-17T21:37:10.012599Z",
     "iopub.status.busy": "2022-02-17T21:37:10.011600Z",
     "iopub.status.idle": "2022-02-17T21:37:10.040600Z",
     "shell.execute_reply": "2022-02-17T21:37:10.038598Z",
     "shell.execute_reply.started": "2022-02-17T21:37:10.011600Z"
    }
   },
   "outputs": [
    {
     "data": {
      "text/plain": [
       "'reuters'"
      ]
     },
     "execution_count": 27,
     "metadata": {},
     "output_type": "execute_result"
    }
   ],
   "source": [
    "tag.name"
   ]
  },
  {
   "cell_type": "code",
   "execution_count": 28,
   "metadata": {
    "execution": {
     "iopub.execute_input": "2022-02-17T21:38:37.261562Z",
     "iopub.status.busy": "2022-02-17T21:38:37.260564Z",
     "iopub.status.idle": "2022-02-17T21:38:37.317563Z",
     "shell.execute_reply": "2022-02-17T21:38:37.315565Z",
     "shell.execute_reply.started": "2022-02-17T21:38:37.261562Z"
    }
   },
   "outputs": [
    {
     "data": {
      "text/plain": [
       "<reuters cgisplit=\"TRAINING-SET\" lewissplit=\"TRAIN\" newid=\"1\" oldid=\"5544\" topics=\"YES\">\n",
       "<date>26-FEB-1987 15:01:01.79</date>\n",
       "<topics><d>cocoa</d></topics>\n",
       "<places><d>el-salvador</d><d>usa</d><d>uruguay</d></places>\n",
       "<people></people>\n",
       "<orgs></orgs>\n",
       "<exchanges></exchanges>\n",
       "<companies></companies>\n",
       "<unknown> \n",
       "C T\n",
       "f0704reute\n",
       "u f BC-BAHIA-COCOA-REVIEW   02-26 0105</unknown>\n",
       "<text>\n",
       "<title>BAHIA COCOA REVIEW</title>\n",
       "<dateline>    SALVADOR, Feb 26 - </dateline>Showers continued throughout the week in\n",
       "the Bahia cocoa zone, alleviating the drought since early\n",
       "January and improving prospects for the coming temporao,\n",
       "although normal humidity levels have not been restored,\n",
       "Comissaria Smith said in its weekly review.\n",
       "    The dry period means the temporao will be late this year.\n",
       "    Arrivals for the week ended February 22 were 155,221 bags\n",
       "of 60 kilos making a cumulative total for the season of 5.93\n",
       "mln against 5.81 at the same stage last year. Again it seems\n",
       "that cocoa delivered earlier on consignment was included in the\n",
       "arrivals figures.\n",
       "    Comissaria Smith said there is still some doubt as to how\n",
       "much old crop cocoa is still available as harvesting has\n",
       "practically come to an end. With total Bahia crop estimates\n",
       "around 6.4 mln bags and sales standing at almost 6.2 mln there\n",
       "are a few hundred thousand bags still in the hands of farmers,\n",
       "middlemen, exporters and processors.\n",
       "    There are doubts as to how much of this cocoa would be fit\n",
       "for export as shippers are now experiencing dificulties in\n",
       "obtaining +Bahia superior+ certificates.\n",
       "    In view of the lower quality over recent weeks farmers have\n",
       "sold a good part of their cocoa held on consignment.\n",
       "    Comissaria Smith said spot bean prices rose to 340 to 350\n",
       "cruzados per arroba of 15 kilos.\n",
       "    Bean shippers were reluctant to offer nearby shipment and\n",
       "only limited sales were booked for March shipment at 1,750 to\n",
       "1,780 dlrs per tonne to ports to be named.\n",
       "    New crop sales were also light and all to open ports with\n",
       "June/July going at 1,850 and 1,880 dlrs and at 35 and 45 dlrs\n",
       "under New York july, Aug/Sept at 1,870, 1,875 and 1,880 dlrs\n",
       "per tonne FOB.\n",
       "    Routine sales of butter were made. March/April sold at\n",
       "4,340, 4,345 and 4,350 dlrs.\n",
       "    April/May butter went at 2.27 times New York May, June/July\n",
       "at 4,400 and 4,415 dlrs, Aug/Sept at 4,351 to 4,450 dlrs and at\n",
       "2.27 and 2.28 times New York Sept and Oct/Dec at 4,480 dlrs and\n",
       "2.27 times New York Dec, Comissaria Smith said.\n",
       "    Destinations were the U.S., Covertible currency areas,\n",
       "Uruguay and open ports.\n",
       "    Cake sales were registered at 785 to 995 dlrs for\n",
       "March/April, 785 dlrs for May, 753 dlrs for Aug and 0.39 times\n",
       "New York Dec for Oct/Dec.\n",
       "    Buyers were the U.S., Argentina, Uruguay and convertible\n",
       "currency areas.\n",
       "    Liquor sales were limited with March/April selling at 2,325\n",
       "and 2,380 dlrs, June/July at 2,375 dlrs and at 1.25 times New\n",
       "York July, Aug/Sept at 2,400 dlrs and at 1.25 times New York\n",
       "Sept and Oct/Dec at 1.25 times New York Dec, Comissaria Smith\n",
       "said.\n",
       "    Total Bahia sales are currently estimated at 6.13 mln bags\n",
       "against the 1986/87 crop and 1.06 mln bags against the 1987/88\n",
       "crop.\n",
       "    Final figures for the period to February 28 are expected to\n",
       "be published by the Brazilian Cocoa Trade Commission after\n",
       "carnival which ends midday on February 27.\n",
       " Reuter\n",
       "</text>\n",
       "</reuters>"
      ]
     },
     "execution_count": 28,
     "metadata": {},
     "output_type": "execute_result"
    }
   ],
   "source": [
    "tag"
   ]
  },
  {
   "cell_type": "code",
   "execution_count": 35,
   "metadata": {
    "execution": {
     "iopub.execute_input": "2022-02-17T21:44:13.918976Z",
     "iopub.status.busy": "2022-02-17T21:44:13.917975Z",
     "iopub.status.idle": "2022-02-17T21:44:14.128977Z",
     "shell.execute_reply": "2022-02-17T21:44:14.125977Z",
     "shell.execute_reply.started": "2022-02-17T21:44:13.918976Z"
    }
   },
   "outputs": [
    {
     "name": "stderr",
     "output_type": "stream",
     "text": [
      "C:\\Users\\halpe\\.conda\\envs\\learn-env\\lib\\site-packages\\bs4\\__init__.py:357: UserWarning: \"https://www.nytimes.com\" looks like a URL. Beautiful Soup is not an HTTP client. You should probably use an HTTP client like requests to get the document behind the URL, and feed that document to Beautiful Soup.\n",
      "  ' that document to Beautiful Soup.' % decoded_markup\n"
     ]
    }
   ],
   "source": [
    "nyt = BeautifulSoup(\"https://www.nytimes.com\", 'html.parser')"
   ]
  },
  {
   "cell_type": "code",
   "execution_count": 49,
   "metadata": {
    "execution": {
     "iopub.execute_input": "2022-02-17T21:52:43.444198Z",
     "iopub.status.busy": "2022-02-17T21:52:43.444198Z",
     "iopub.status.idle": "2022-02-17T21:52:43.737200Z",
     "shell.execute_reply": "2022-02-17T21:52:43.735197Z",
     "shell.execute_reply.started": "2022-02-17T21:52:43.444198Z"
    }
   },
   "outputs": [],
   "source": [
    "nyt_get_request = requests.get(\"https://www.nytimes.com\")"
   ]
  },
  {
   "cell_type": "code",
   "execution_count": 50,
   "metadata": {
    "execution": {
     "iopub.execute_input": "2022-02-17T21:52:44.237203Z",
     "iopub.status.busy": "2022-02-17T21:52:44.236205Z",
     "iopub.status.idle": "2022-02-17T21:52:44.446239Z",
     "shell.execute_reply": "2022-02-17T21:52:44.445201Z",
     "shell.execute_reply.started": "2022-02-17T21:52:44.237203Z"
    }
   },
   "outputs": [],
   "source": [
    "nyt = BeautifulSoup(nyt_get_request.content, 'html.parser')"
   ]
  },
  {
   "cell_type": "markdown",
   "metadata": {},
   "source": [
    "From inspecting, all article titles are `h3`"
   ]
  },
  {
   "cell_type": "code",
   "execution_count": 51,
   "metadata": {
    "execution": {
     "iopub.execute_input": "2022-02-17T21:53:52.118422Z",
     "iopub.status.busy": "2022-02-17T21:53:52.118422Z",
     "iopub.status.idle": "2022-02-17T21:53:52.142421Z",
     "shell.execute_reply": "2022-02-17T21:53:52.141420Z",
     "shell.execute_reply.started": "2022-02-17T21:53:52.118422Z"
    }
   },
   "outputs": [
    {
     "data": {
      "text/plain": [
       "<h3 class=\"css-jx9fwm ee0hn7b0\" color=\"primary\" size=\"400\">Shelling Raises Fears Ukraine Conflict Is Heating Up</h3>"
      ]
     },
     "execution_count": 51,
     "metadata": {},
     "output_type": "execute_result"
    }
   ],
   "source": [
    "nyt.h3"
   ]
  },
  {
   "cell_type": "code",
   "execution_count": 57,
   "metadata": {
    "execution": {
     "iopub.execute_input": "2022-02-17T21:57:25.184967Z",
     "iopub.status.busy": "2022-02-17T21:57:25.184967Z",
     "iopub.status.idle": "2022-02-17T21:57:25.205974Z",
     "shell.execute_reply": "2022-02-17T21:57:25.204967Z",
     "shell.execute_reply.started": "2022-02-17T21:57:25.184967Z"
    }
   },
   "outputs": [
    {
     "data": {
      "text/plain": [
       "[<h3 class=\"css-jx9fwm ee0hn7b0\" color=\"primary\" size=\"400\">Shelling Raises Fears Ukraine Conflict Is Heating Up</h3>,\n",
       " <h3 class=\"css-1dc6422 ee0hn7b0\" color=\"primary\" size=\"500\">To Europeans Who Have Never Known War, the Ukraine Crisis Is an Awakening</h3>,\n",
       " <h3 class=\"css-1dc6422 ee0hn7b0\" color=\"primary\" size=\"500\">Russia’s government expelled the No. 2 U.S. ambassador from the country.</h3>]"
      ]
     },
     "execution_count": 57,
     "metadata": {},
     "output_type": "execute_result"
    }
   ],
   "source": [
    "headlines = nyt.findAll('h3')\n",
    "headlines[0:3]"
   ]
  },
  {
   "cell_type": "markdown",
   "metadata": {},
   "source": [
    "It's a bit of a mess when I just want the text. I can isolate it like this. "
   ]
  },
  {
   "cell_type": "code",
   "execution_count": 61,
   "metadata": {
    "execution": {
     "iopub.execute_input": "2022-02-17T21:59:19.276463Z",
     "iopub.status.busy": "2022-02-17T21:59:19.275469Z",
     "iopub.status.idle": "2022-02-17T21:59:19.292464Z",
     "shell.execute_reply": "2022-02-17T21:59:19.291463Z",
     "shell.execute_reply.started": "2022-02-17T21:59:19.276463Z"
    }
   },
   "outputs": [
    {
     "data": {
      "text/plain": [
       "'Shelling Raises Fears Ukraine Conflict Is Heating Up'"
      ]
     },
     "execution_count": 61,
     "metadata": {},
     "output_type": "execute_result"
    }
   ],
   "source": [
    "headlines[0].text"
   ]
  },
  {
   "cell_type": "code",
   "execution_count": 62,
   "metadata": {
    "execution": {
     "iopub.execute_input": "2022-02-17T22:00:19.568592Z",
     "iopub.status.busy": "2022-02-17T22:00:19.567624Z",
     "iopub.status.idle": "2022-02-17T22:00:19.587591Z",
     "shell.execute_reply": "2022-02-17T22:00:19.585589Z",
     "shell.execute_reply.started": "2022-02-17T22:00:19.568592Z"
    }
   },
   "outputs": [],
   "source": [
    "all_headlines = [headline.text for headline in headlines]"
   ]
  },
  {
   "cell_type": "code",
   "execution_count": 64,
   "metadata": {
    "execution": {
     "iopub.execute_input": "2022-02-17T22:00:39.603604Z",
     "iopub.status.busy": "2022-02-17T22:00:39.602605Z",
     "iopub.status.idle": "2022-02-17T22:00:39.618597Z",
     "shell.execute_reply": "2022-02-17T22:00:39.617632Z",
     "shell.execute_reply.started": "2022-02-17T22:00:39.603604Z"
    }
   },
   "outputs": [
    {
     "data": {
      "text/plain": [
       "['Shelling Raises Fears Ukraine Conflict Is Heating Up',\n",
       " 'To Europeans Who Have Never Known War, the Ukraine Crisis Is an Awakening',\n",
       " 'Russia’s government expelled the No. 2 U.S. ambassador from the country.',\n",
       " 'Nearly 5,000 U.S. troops arrived in Poland, a move by President Biden to reassure NATO allies.']"
      ]
     },
     "execution_count": 64,
     "metadata": {},
     "output_type": "execute_result"
    }
   ],
   "source": [
    "all_headlines[0:4]"
   ]
  },
  {
   "cell_type": "code",
   "execution_count": null,
   "metadata": {},
   "outputs": [],
   "source": []
  }
 ],
 "metadata": {
  "kernelspec": {
   "display_name": "Python 3",
   "language": "python",
   "name": "python3"
  },
  "language_info": {
   "codemirror_mode": {
    "name": "ipython",
    "version": 3
   },
   "file_extension": ".py",
   "mimetype": "text/x-python",
   "name": "python",
   "nbconvert_exporter": "python",
   "pygments_lexer": "ipython3",
   "version": "3.6.9"
  }
 },
 "nbformat": 4,
 "nbformat_minor": 4
}
