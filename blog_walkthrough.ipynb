{
 "cells": [
  {
   "cell_type": "markdown",
   "metadata": {},
   "source": [
    "You may need to install it with  \n",
    "$ easy_install beautifulsoup4\n",
    "\n",
    "$ pip install beautifulsoup4"
   ]
  },
  {
   "cell_type": "code",
   "execution_count": 3,
   "metadata": {
    "execution": {
     "iopub.execute_input": "2022-02-25T21:20:09.700323Z",
     "iopub.status.busy": "2022-02-25T21:20:09.700323Z",
     "iopub.status.idle": "2022-02-25T21:20:09.705325Z",
     "shell.execute_reply": "2022-02-25T21:20:09.704324Z",
     "shell.execute_reply.started": "2022-02-25T21:20:09.700323Z"
    }
   },
   "outputs": [],
   "source": [
    "import pandas as pd\n",
    "import numpy as np\n",
    "from bs4 import BeautifulSoup\n",
    "# import os\n",
    "import requests"
   ]
  },
  {
   "cell_type": "code",
   "execution_count": 4,
   "metadata": {
    "execution": {
     "iopub.execute_input": "2022-02-23T02:31:55.495992Z",
     "iopub.status.busy": "2022-02-23T02:31:55.492994Z",
     "iopub.status.idle": "2022-02-23T02:31:55.541993Z",
     "shell.execute_reply": "2022-02-23T02:31:55.539992Z",
     "shell.execute_reply.started": "2022-02-23T02:31:55.495992Z"
    }
   },
   "outputs": [
    {
     "name": "stderr",
     "output_type": "stream",
     "text": [
      "C:\\Users\\halpe\\.conda\\envs\\learn-env\\lib\\site-packages\\bs4\\__init__.py:357: UserWarning: \"https://www.nytimes.com/\" looks like a URL. Beautiful Soup is not an HTTP client. You should probably use an HTTP client like requests to get the document behind the URL, and feed that document to Beautiful Soup.\n",
      "  ' that document to Beautiful Soup.' % decoded_markup\n"
     ]
    }
   ],
   "source": [
    "nyt = BeautifulSoup(\"https://www.nytimes.com/\", 'html.parser')"
   ]
  },
  {
   "cell_type": "code",
   "execution_count": 4,
   "metadata": {
    "execution": {
     "iopub.execute_input": "2022-02-25T21:20:15.243570Z",
     "iopub.status.busy": "2022-02-25T21:20:15.243570Z",
     "iopub.status.idle": "2022-02-25T21:20:15.615149Z",
     "shell.execute_reply": "2022-02-25T21:20:15.614142Z",
     "shell.execute_reply.started": "2022-02-25T21:20:15.243570Z"
    }
   },
   "outputs": [
    {
     "name": "stderr",
     "output_type": "stream",
     "text": [
      "C:\\Users\\halpe\\.conda\\envs\\learn-env\\lib\\site-packages\\urllib3\\connectionpool.py:847: InsecureRequestWarning: Unverified HTTPS request is being made. Adding certificate verification is strongly advised. See: https://urllib3.readthedocs.io/en/latest/advanced-usage.html#ssl-warnings\n",
      "  InsecureRequestWarning)\n"
     ]
    }
   ],
   "source": [
    "nyt_get_request = requests.get(\"https://www.nytimes.com/\", verify=False)"
   ]
  },
  {
   "cell_type": "code",
   "execution_count": 5,
   "metadata": {
    "execution": {
     "iopub.execute_input": "2022-02-25T21:20:17.455059Z",
     "iopub.status.busy": "2022-02-25T21:20:17.455059Z",
     "iopub.status.idle": "2022-02-25T21:20:17.658410Z",
     "shell.execute_reply": "2022-02-25T21:20:17.657412Z",
     "shell.execute_reply.started": "2022-02-25T21:20:17.455059Z"
    }
   },
   "outputs": [],
   "source": [
    "nyt = BeautifulSoup(nyt_get_request.content, 'html.parser')"
   ]
  },
  {
   "cell_type": "markdown",
   "metadata": {},
   "source": [
    "From inspecting, all article titles are `h3`"
   ]
  },
  {
   "cell_type": "code",
   "execution_count": 6,
   "metadata": {
    "execution": {
     "iopub.execute_input": "2022-02-25T21:20:18.621468Z",
     "iopub.status.busy": "2022-02-25T21:20:18.621468Z",
     "iopub.status.idle": "2022-02-25T21:20:18.642470Z",
     "shell.execute_reply": "2022-02-25T21:20:18.640464Z",
     "shell.execute_reply.started": "2022-02-25T21:20:18.621468Z"
    }
   },
   "outputs": [
    {
     "data": {
      "text/plain": [
       "<h3 class=\"css-12g2h6t ee0hn7b0\" color=\"primary\" size=\"400\">Signs of War Across Ukraine as Leader Vows to Fight<div class=\"css-13htjwu\"></div></h3>"
      ]
     },
     "execution_count": 6,
     "metadata": {},
     "output_type": "execute_result"
    }
   ],
   "source": [
    "nyt.h3"
   ]
  },
  {
   "cell_type": "code",
   "execution_count": 7,
   "metadata": {
    "execution": {
     "iopub.execute_input": "2022-02-25T21:20:19.274313Z",
     "iopub.status.busy": "2022-02-25T21:20:19.274313Z",
     "iopub.status.idle": "2022-02-25T21:20:19.285314Z",
     "shell.execute_reply": "2022-02-25T21:20:19.283315Z",
     "shell.execute_reply.started": "2022-02-25T21:20:19.274313Z"
    }
   },
   "outputs": [
    {
     "data": {
      "text/plain": [
       "[<h3 class=\"css-12g2h6t ee0hn7b0\" color=\"primary\" size=\"400\">Signs of War Across Ukraine as Leader Vows to Fight<div class=\"css-13htjwu\"></div></h3>,\n",
       " <h3 class=\"css-w4bgn6 ee0hn7b0\" color=\"primary\" size=\"300\">U.S. to Impose Sanctions on Putin, Official Says</h3>,\n",
       " <h3 class=\"css-1dc6422 ee0hn7b0\" color=\"primary\" size=\"500\">We’re tracking the Russian invasion of Ukraine.</h3>]"
      ]
     },
     "execution_count": 7,
     "metadata": {},
     "output_type": "execute_result"
    }
   ],
   "source": [
    "headlines = nyt.findAll('h3')\n",
    "headlines[0:3]"
   ]
  },
  {
   "cell_type": "markdown",
   "metadata": {},
   "source": [
    "It's a bit of a mess when I just want the text. I can isolate it like this. "
   ]
  },
  {
   "cell_type": "code",
   "execution_count": 8,
   "metadata": {
    "execution": {
     "iopub.execute_input": "2022-02-25T21:20:25.562417Z",
     "iopub.status.busy": "2022-02-25T21:20:25.562417Z",
     "iopub.status.idle": "2022-02-25T21:20:25.568584Z",
     "shell.execute_reply": "2022-02-25T21:20:25.567585Z",
     "shell.execute_reply.started": "2022-02-25T21:20:25.562417Z"
    }
   },
   "outputs": [
    {
     "data": {
      "text/plain": [
       "'Signs of War Across Ukraine as Leader Vows to Fight'"
      ]
     },
     "execution_count": 8,
     "metadata": {},
     "output_type": "execute_result"
    }
   ],
   "source": [
    "headlines[0].text"
   ]
  },
  {
   "cell_type": "code",
   "execution_count": 9,
   "metadata": {
    "execution": {
     "iopub.execute_input": "2022-02-25T21:20:25.963681Z",
     "iopub.status.busy": "2022-02-25T21:20:25.959063Z",
     "iopub.status.idle": "2022-02-25T21:20:25.975678Z",
     "shell.execute_reply": "2022-02-25T21:20:25.974678Z",
     "shell.execute_reply.started": "2022-02-25T21:20:25.963681Z"
    }
   },
   "outputs": [],
   "source": [
    "all_headlines = [headline.text for headline in headlines]"
   ]
  },
  {
   "cell_type": "code",
   "execution_count": 10,
   "metadata": {
    "execution": {
     "iopub.execute_input": "2022-02-25T21:20:26.300109Z",
     "iopub.status.busy": "2022-02-25T21:20:26.299115Z",
     "iopub.status.idle": "2022-02-25T21:20:26.324114Z",
     "shell.execute_reply": "2022-02-25T21:20:26.321110Z",
     "shell.execute_reply.started": "2022-02-25T21:20:26.300109Z"
    }
   },
   "outputs": [
    {
     "data": {
      "text/plain": [
       "['Signs of War Across Ukraine as Leader Vows to Fight',\n",
       " 'U.S. to Impose Sanctions on Putin, Official Says',\n",
       " 'We’re tracking the Russian invasion of Ukraine.',\n",
       " 'After Vicious Battle for Kharkiv, Wreckage and Artillery Booms']"
      ]
     },
     "execution_count": 10,
     "metadata": {},
     "output_type": "execute_result"
    }
   ],
   "source": [
    "all_headlines[0:4]"
   ]
  },
  {
   "cell_type": "markdown",
   "metadata": {},
   "source": [
    "# NLP Project"
   ]
  },
  {
   "cell_type": "code",
   "execution_count": 44,
   "metadata": {
    "execution": {
     "iopub.execute_input": "2022-02-25T22:31:22.242974Z",
     "iopub.status.busy": "2022-02-25T22:31:22.241972Z",
     "iopub.status.idle": "2022-02-25T22:31:22.268974Z",
     "shell.execute_reply": "2022-02-25T22:31:22.267970Z",
     "shell.execute_reply.started": "2022-02-25T22:31:22.242974Z"
    }
   },
   "outputs": [
    {
     "data": {
      "text/plain": [
       "'<!DOCTYPE lewis SYSTEM \"lewis.dtd\">\\n<REUTERS TOPICS=\"YES\" LEWISSPLIT=\"TRAIN\" CGISPLIT=\"TRAINING-SET\" OLDID=\"5544\" NEWID=\"1\">\\n<DATE>26-FEB-1987 15:01:01.79</DATE>\\n<TOPICS><D>cocoa</D></TOPICS>\\n<PLACES><D>el-salvador</D><D>usa</D><D>uruguay</D></PLACES>\\n<PEOPLE></PEOPLE>\\n<ORGS></ORGS>\\n<EXCHANGES></EXCHANGES>\\n<COMPANIES></COMPANIES>\\n<UNKNOWN> \\n&#5;&#5;&#5;C T\\n&#22;&#22;&#1;f0704&#31;reute\\nu f BC-BAHIA-COCOA-REVIEW   02-26 0105</UNKNOWN>\\n<TEXT>&#2;\\n<TITLE>BAHIA COCOA REVIEW</TITLE>\\n<DATELINE>    SALVADOR, Feb 26 - </DATELINE><BODY>Showers continued throughout the week in\\nthe Bahia cocoa zone, alleviating the drought since early\\nJanuary and improving prospects for the coming temporao,\\nalthough normal humidity levels have not been restored,\\nComissaria Smith said in its weekly review.\\n    The dry period means the temporao will be late this year.\\n    Arrivals for the week ended February 22 were 155,221 bags\\nof 60 kilos making a cumulative total for the season of 5.93\\nmln against 5.81 at the sa'"
      ]
     },
     "execution_count": 44,
     "metadata": {},
     "output_type": "execute_result"
    }
   ],
   "source": [
    "f = open('data_files/reut2-000.sgm', encoding='utf-8', errors='ignore')\n",
    "dataFile = f.read()\n",
    "dataFile[0:1000]"
   ]
  },
  {
   "cell_type": "code",
   "execution_count": 45,
   "metadata": {
    "execution": {
     "iopub.execute_input": "2022-02-25T22:31:23.851961Z",
     "iopub.status.busy": "2022-02-25T22:31:23.851961Z",
     "iopub.status.idle": "2022-02-25T22:31:25.874227Z",
     "shell.execute_reply": "2022-02-25T22:31:25.872220Z",
     "shell.execute_reply.started": "2022-02-25T22:31:23.851961Z"
    }
   },
   "outputs": [
    {
     "name": "stdout",
     "output_type": "stream",
     "text": [
      "<!DOCTYPE lewis SYSTEM \"lewis.dtd\">\n",
      "<html>\n",
      " <body>\n",
      "  <reuters cgisplit=\"TRAINING-SET\" lewissplit=\"TRAIN\" newid=\"1\" oldid=\"5544\" topics=\"YES\">\n",
      "   <date>\n",
      "    26-FEB-1987 15:01:01.79\n",
      "   </date>\n",
      "   <topics>\n",
      "    <d>\n",
      "     cocoa\n",
      "    </d>\n",
      "   </topics>\n",
      "   <places>\n",
      "    <d>\n",
      "     el-salvador\n",
      "    </d>\n",
      "    <d>\n",
      "  \n"
     ]
    }
   ],
   "source": [
    "soup = BeautifulSoup(dataFile, 'lxml')\n",
    "content = soup.prettify()\n",
    "print(content[0:300])"
   ]
  },
  {
   "cell_type": "code",
   "execution_count": 46,
   "metadata": {
    "execution": {
     "iopub.execute_input": "2022-02-25T22:31:25.877227Z",
     "iopub.status.busy": "2022-02-25T22:31:25.877227Z",
     "iopub.status.idle": "2022-02-25T22:31:25.954228Z",
     "shell.execute_reply": "2022-02-25T22:31:25.951233Z",
     "shell.execute_reply.started": "2022-02-25T22:31:25.877227Z"
    }
   },
   "outputs": [
    {
     "data": {
      "text/plain": [
       "bs4.element.ResultSet"
      ]
     },
     "execution_count": 46,
     "metadata": {},
     "output_type": "execute_result"
    }
   ],
   "source": [
    "topics = soup.find_all('topics')\n",
    "type(topics)"
   ]
  },
  {
   "cell_type": "code",
   "execution_count": 47,
   "metadata": {
    "execution": {
     "iopub.execute_input": "2022-02-25T22:31:28.102221Z",
     "iopub.status.busy": "2022-02-25T22:31:28.101226Z",
     "iopub.status.idle": "2022-02-25T22:31:28.138224Z",
     "shell.execute_reply": "2022-02-25T22:31:28.136222Z",
     "shell.execute_reply.started": "2022-02-25T22:31:28.102221Z"
    }
   },
   "outputs": [
    {
     "data": {
      "text/plain": [
       "[<topics><d>cocoa</d></topics>,\n",
       " <topics></topics>,\n",
       " <topics></topics>,\n",
       " <topics></topics>,\n",
       " <topics><d>grain</d><d>wheat</d><d>corn</d><d>barley</d><d>oat</d><d>sorghum</d></topics>,\n",
       " <topics><d>veg-oil</d><d>linseed</d><d>lin-oil</d><d>soy-oil</d><d>sun-oil</d><d>soybean</d><d>oilseed</d><d>corn</d><d>sunseed</d><d>grain</d><d>sorghum</d><d>wheat</d></topics>,\n",
       " <topics></topics>,\n",
       " <topics></topics>,\n",
       " <topics><d>earn</d></topics>,\n",
       " <topics><d>acq</d></topics>]"
      ]
     },
     "execution_count": 47,
     "metadata": {},
     "output_type": "execute_result"
    }
   ],
   "source": [
    "topics = soup.find_all('topics')\n",
    "topics[0:10]"
   ]
  },
  {
   "cell_type": "code",
   "execution_count": 51,
   "metadata": {
    "execution": {
     "iopub.execute_input": "2022-02-25T22:35:04.343031Z",
     "iopub.status.busy": "2022-02-25T22:35:04.343031Z",
     "iopub.status.idle": "2022-02-25T22:35:04.356032Z",
     "shell.execute_reply": "2022-02-25T22:35:04.355033Z",
     "shell.execute_reply.started": "2022-02-25T22:35:04.343031Z"
    }
   },
   "outputs": [
    {
     "data": {
      "text/plain": [
       "[['cocoa'],\n",
       " [],\n",
       " [],\n",
       " [],\n",
       " ['grain', 'wheat', 'corn', 'barley', 'oat', 'sorghum'],\n",
       " ['veg-oil',\n",
       "  'linseed',\n",
       "  'lin-oil',\n",
       "  'soy-oil',\n",
       "  'sun-oil',\n",
       "  'soybean',\n",
       "  'oilseed',\n",
       "  'corn',\n",
       "  'sunseed',\n",
       "  'grain',\n",
       "  'sorghum',\n",
       "  'wheat']]"
      ]
     },
     "execution_count": 51,
     "metadata": {},
     "output_type": "execute_result"
    }
   ],
   "source": [
    "# instantiate an empty list\n",
    "topic_list = list()\n",
    "\n",
    "for x in topics:\n",
    "    # turn bs4.tag into text and create a list of each article's topics\n",
    "#     words = [i.text for i in x]\n",
    "    words = [i.get_text() for i in x]\n",
    "    #append this list to the larger list\n",
    "    topic_list.append(words)\n",
    "\n",
    "topic_list[0:6]"
   ]
  },
  {
   "cell_type": "code",
   "execution_count": 28,
   "metadata": {
    "execution": {
     "iopub.execute_input": "2022-02-25T21:51:18.498399Z",
     "iopub.status.busy": "2022-02-25T21:51:18.498399Z",
     "iopub.status.idle": "2022-02-25T21:51:18.516398Z",
     "shell.execute_reply": "2022-02-25T21:51:18.515399Z",
     "shell.execute_reply.started": "2022-02-25T21:51:18.498399Z"
    }
   },
   "outputs": [],
   "source": [
    "def pull_out_earn_topic(topic_list):\n",
    "    for i, topic in enumerate(topic_list):\n",
    "        \n",
    "        # format is astrings, so this loop removes topics from nested list\n",
    "        article_topics = ''\n",
    "        for word in topic:\n",
    "            article_topics += (word + ' ')\n",
    "            \n",
    "        # assign desired topic \n",
    "        if not article_topics:\n",
    "            topic_list[i] = 'blank'\n",
    "        elif 'earn' in article_topics:\n",
    "            topic_list[i] = 'earn'\n",
    "        else:\n",
    "            topic_list[i] = 'other'\n",
    "    \n",
    "    return topic_list"
   ]
  },
  {
   "cell_type": "code",
   "execution_count": 29,
   "metadata": {
    "execution": {
     "iopub.execute_input": "2022-02-25T21:54:54.198404Z",
     "iopub.status.busy": "2022-02-25T21:54:54.197405Z",
     "iopub.status.idle": "2022-02-25T21:54:54.376407Z",
     "shell.execute_reply": "2022-02-25T21:54:54.374405Z",
     "shell.execute_reply.started": "2022-02-25T21:54:54.198404Z"
    }
   },
   "outputs": [
    {
     "data": {
      "text/html": [
       "<div>\n",
       "<style scoped>\n",
       "    .dataframe tbody tr th:only-of-type {\n",
       "        vertical-align: middle;\n",
       "    }\n",
       "\n",
       "    .dataframe tbody tr th {\n",
       "        vertical-align: top;\n",
       "    }\n",
       "\n",
       "    .dataframe thead th {\n",
       "        text-align: right;\n",
       "    }\n",
       "</style>\n",
       "<table border=\"1\" class=\"dataframe\">\n",
       "  <thead>\n",
       "    <tr style=\"text-align: right;\">\n",
       "      <th></th>\n",
       "      <th>topic</th>\n",
       "    </tr>\n",
       "  </thead>\n",
       "  <tbody>\n",
       "    <tr>\n",
       "      <th>0</th>\n",
       "      <td>other</td>\n",
       "    </tr>\n",
       "    <tr>\n",
       "      <th>1</th>\n",
       "      <td>blank</td>\n",
       "    </tr>\n",
       "    <tr>\n",
       "      <th>2</th>\n",
       "      <td>blank</td>\n",
       "    </tr>\n",
       "    <tr>\n",
       "      <th>3</th>\n",
       "      <td>blank</td>\n",
       "    </tr>\n",
       "    <tr>\n",
       "      <th>4</th>\n",
       "      <td>other</td>\n",
       "    </tr>\n",
       "    <tr>\n",
       "      <th>...</th>\n",
       "      <td>...</td>\n",
       "    </tr>\n",
       "    <tr>\n",
       "      <th>995</th>\n",
       "      <td>blank</td>\n",
       "    </tr>\n",
       "    <tr>\n",
       "      <th>996</th>\n",
       "      <td>blank</td>\n",
       "    </tr>\n",
       "    <tr>\n",
       "      <th>997</th>\n",
       "      <td>earn</td>\n",
       "    </tr>\n",
       "    <tr>\n",
       "      <th>998</th>\n",
       "      <td>other</td>\n",
       "    </tr>\n",
       "    <tr>\n",
       "      <th>999</th>\n",
       "      <td>other</td>\n",
       "    </tr>\n",
       "  </tbody>\n",
       "</table>\n",
       "<p>1000 rows × 1 columns</p>\n",
       "</div>"
      ],
      "text/plain": [
       "     topic\n",
       "0    other\n",
       "1    blank\n",
       "2    blank\n",
       "3    blank\n",
       "4    other\n",
       "..     ...\n",
       "995  blank\n",
       "996  blank\n",
       "997   earn\n",
       "998  other\n",
       "999  other\n",
       "\n",
       "[1000 rows x 1 columns]"
      ]
     },
     "execution_count": 29,
     "metadata": {},
     "output_type": "execute_result"
    }
   ],
   "source": [
    "topics_for_df = pull_out_earn_topic(topic_list)\n",
    "df=pd.DataFrame(topics_for_df, columns=['topic'])\n",
    "\n",
    "df"
   ]
  },
  {
   "cell_type": "code",
   "execution_count": 32,
   "metadata": {
    "execution": {
     "iopub.execute_input": "2022-02-25T22:11:59.920949Z",
     "iopub.status.busy": "2022-02-25T22:11:59.920949Z",
     "iopub.status.idle": "2022-02-25T22:12:00.116949Z",
     "shell.execute_reply": "2022-02-25T22:12:00.115946Z",
     "shell.execute_reply.started": "2022-02-25T22:11:59.920949Z"
    }
   },
   "outputs": [],
   "source": [
    "# pull out everything with the \"text\" tag from the bs4 object\n",
    "all_text = soup.find_all(\"text\")\n",
    "\n",
    "# instatiate empty list \n",
    "list_all_text = list()\n",
    "\n",
    "# loop through the bs4 element\n",
    "for text in all_text:\n",
    "    \n",
    "    # getting just the text from the element\n",
    "    # stripping out the newline indicator\n",
    "    working_text = text.get_text().replace(\"\\n\", \" \")\n",
    "    \n",
    "    # removing extra spaces\n",
    "    working_text = ' '.join(working_text.split())\n",
    "    \n",
    "    # appending to list\n",
    "    list_all_text.append(working_text)\n"
   ]
  },
  {
   "cell_type": "code",
   "execution_count": 42,
   "metadata": {
    "execution": {
     "iopub.execute_input": "2022-02-25T22:20:45.431370Z",
     "iopub.status.busy": "2022-02-25T22:20:45.430370Z",
     "iopub.status.idle": "2022-02-25T22:20:45.456367Z",
     "shell.execute_reply": "2022-02-25T22:20:45.455400Z",
     "shell.execute_reply.started": "2022-02-25T22:20:45.431370Z"
    }
   },
   "outputs": [
    {
     "data": {
      "text/html": [
       "<div>\n",
       "<style scoped>\n",
       "    .dataframe tbody tr th:only-of-type {\n",
       "        vertical-align: middle;\n",
       "    }\n",
       "\n",
       "    .dataframe tbody tr th {\n",
       "        vertical-align: top;\n",
       "    }\n",
       "\n",
       "    .dataframe thead th {\n",
       "        text-align: right;\n",
       "    }\n",
       "</style>\n",
       "<table border=\"1\" class=\"dataframe\">\n",
       "  <thead>\n",
       "    <tr style=\"text-align: right;\">\n",
       "      <th></th>\n",
       "      <th>topic</th>\n",
       "      <th>text</th>\n",
       "    </tr>\n",
       "  </thead>\n",
       "  <tbody>\n",
       "    <tr>\n",
       "      <th>0</th>\n",
       "      <td>other</td>\n",
       "      <td>BAHIA COCOA REVIEW SALVADOR, Feb 26 - Showers continued throughout the week in the Bahia cocoa zone, alleviating the drought s...</td>\n",
       "    </tr>\n",
       "    <tr>\n",
       "      <th>1</th>\n",
       "      <td>blank</td>\n",
       "      <td>STANDARD OIL &lt;SRD&gt; TO FORM FINANCIAL UNIT CLEVELAND, Feb 26 - Standard Oil Co and BP North America Inc said they plan to form ...</td>\n",
       "    </tr>\n",
       "    <tr>\n",
       "      <th>2</th>\n",
       "      <td>blank</td>\n",
       "      <td>TEXAS COMMERCE BANCSHARES &lt;TCB&gt; FILES PLAN HOUSTON, Feb 26 - Texas Commerce Bancshares Inc's Texas Commerce Bank-Houston said ...</td>\n",
       "    </tr>\n",
       "    <tr>\n",
       "      <th>3</th>\n",
       "      <td>blank</td>\n",
       "      <td>TALKING POINT/BANKAMERICA &lt;BAC&gt; EQUITY OFFER by Janie Gabbett, Reuters LOS ANGELES, Feb 26 - BankAmerica Corp is not under pre...</td>\n",
       "    </tr>\n",
       "    <tr>\n",
       "      <th>4</th>\n",
       "      <td>other</td>\n",
       "      <td>NATIONAL AVERAGE PRICES FOR FARMER-OWNED RESERVE WASHINGTON, Feb 26 - The U.S. Agriculture Department reported the farmer-owne...</td>\n",
       "    </tr>\n",
       "  </tbody>\n",
       "</table>\n",
       "</div>"
      ],
      "text/plain": [
       "   topic  \\\n",
       "0  other   \n",
       "1  blank   \n",
       "2  blank   \n",
       "3  blank   \n",
       "4  other   \n",
       "\n",
       "                                                                                                                                text  \n",
       "0  BAHIA COCOA REVIEW SALVADOR, Feb 26 - Showers continued throughout the week in the Bahia cocoa zone, alleviating the drought s...  \n",
       "1  STANDARD OIL <SRD> TO FORM FINANCIAL UNIT CLEVELAND, Feb 26 - Standard Oil Co and BP North America Inc said they plan to form ...  \n",
       "2  TEXAS COMMERCE BANCSHARES <TCB> FILES PLAN HOUSTON, Feb 26 - Texas Commerce Bancshares Inc's Texas Commerce Bank-Houston said ...  \n",
       "3  TALKING POINT/BANKAMERICA <BAC> EQUITY OFFER by Janie Gabbett, Reuters LOS ANGELES, Feb 26 - BankAmerica Corp is not under pre...  \n",
       "4  NATIONAL AVERAGE PRICES FOR FARMER-OWNED RESERVE WASHINGTON, Feb 26 - The U.S. Agriculture Department reported the farmer-owne...  "
      ]
     },
     "execution_count": 42,
     "metadata": {},
     "output_type": "execute_result"
    }
   ],
   "source": [
    "pd.set_option(\"max_colwidth\", 130) \n",
    "df['text'] = list_all_text\n",
    "df.head()"
   ]
  },
  {
   "cell_type": "code",
   "execution_count": 37,
   "metadata": {
    "execution": {
     "iopub.execute_input": "2022-02-25T22:15:45.554382Z",
     "iopub.status.busy": "2022-02-25T22:15:45.553384Z",
     "iopub.status.idle": "2022-02-25T22:15:45.573381Z",
     "shell.execute_reply": "2022-02-25T22:15:45.572382Z",
     "shell.execute_reply.started": "2022-02-25T22:15:45.554382Z"
    }
   },
   "outputs": [
    {
     "name": "stdout",
     "output_type": "stream",
     "text": [
      "STANDARD OIL <SRD> TO FORM FINANCIAL UNIT CLEVELAND, Feb 26 - Standard Oil Co and BP North America Inc said they plan to form a venture to manage the money market borrowing and investment activities of both companies. BP North America is a subsidiary of British Petroleum Co Plc <BP>, which also owns a 55 pct interest in Standard Oil. The venture will be called BP/Standard Financial Trading and will be operated by Standard Oil under the oversight of a joint management committee. Reuter\n"
     ]
    }
   ],
   "source": [
    "print(df.iloc[1].text)"
   ]
  },
  {
   "cell_type": "code",
   "execution_count": null,
   "metadata": {},
   "outputs": [],
   "source": []
  }
 ],
 "metadata": {
  "kernelspec": {
   "display_name": "Python 3",
   "language": "python",
   "name": "python3"
  },
  "language_info": {
   "codemirror_mode": {
    "name": "ipython",
    "version": 3
   },
   "file_extension": ".py",
   "mimetype": "text/x-python",
   "name": "python",
   "nbconvert_exporter": "python",
   "pygments_lexer": "ipython3",
   "version": "3.6.9"
  }
 },
 "nbformat": 4,
 "nbformat_minor": 4
}
